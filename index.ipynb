{
 "cells": [
  {
   "cell_type": "markdown",
   "metadata": {},
   "source": [
    "# PivotPy\n",
    "\n",
    "> A Python Processing Tool for Vasp Input/Output. A CLI is available in Powershell, see [Vasp2Visual](https://github.com/massgh/Vasp2Visual).\n"
   ]
  },
  {
   "cell_type": "markdown",
   "metadata": {},
   "source": [
    "[![Run in Azure](https://notebooks.azure.com/launch.png)](https://testazurenotebooks-massaz.notebooks.azure.com/j/notebooks/test.ipynb)\n",
    "[![Open In Colab](https://colab.research.google.com/assets/colab-badge.svg)](https://colab.research.google.com/github/massgh/pivotpy/blob/master/test.ipynb)"
   ]
  },
  {
   "cell_type": "code",
   "execution_count": null,
   "metadata": {},
   "outputs": [],
   "source": [
    "#hide_input\n",
    "import pivotpy as pp \n",
    "pp.nav_links(0)"
   ]
  },
  {
   "cell_type": "markdown",
   "metadata": {},
   "source": [
    "## Install\n",
    "`pip install pivotpy`"
   ]
  },
  {
   "cell_type": "markdown",
   "metadata": {},
   "source": [
    "## How to use\n",
    "- [Read Function References](https://github.com/massgh/pivotpy/tree/master/functions.md)\n",
    "- See [Full Documentation](https://massgh.github.io/pivotpy/).\n",
    "- For CLI, use [Vasp2Visual](https://github.com/massgh/Vasp2Visual).\n",
    "\n",
    "## Changelog for version 0.9.5 onward\n",
    "- `pivotpy.s_plots.quick_rgb_lines` and `pivotpy.s_plots.quick_rgb_lines` are refactored and no more depnd on `create_rgb_lines`, so this function is dropped, If you still want to use it, use versions below 0.9.5. \n",
    "- A class `pivotpy.g_utils.Vasprun` is added which provides shortcut for `export_vasprun` and plotting functions. Under this class:\n",
    "    - `quick_bplot`       --> `sbands`\n",
    "    - `quick_rgb_lines`   --> `srgb`\n",
    "    - `plotly_rgb_lines`  --> `irgb`\n",
    "    - `quick_color_lines` --> `scolor`\n",
    "    - `quick_dos_lines`   --> `sdos`\n",
    "    - `plotly_dos_lines`  --> `idos`\n",
    "- A class `pivotpy.g_utils.LOCPOT_CHG` is added which can be used to parse and visualize files like LOCPOT and CHG. \n",
    "- A function `pivotpy.vr_parser.split_vasprun` is added which splits `vasprun.xml` file into a small file `_vasprun.xml` without projected data and creates text files `_set[1,2,3,4].txt` based on how many spin sets are there. \n",
    "- A function `pivotpy.vr_parser.islice2array` is added which can reads data from text/csv/tsv files (even if text and numbers are mixed) accoridng to slices you provide, this does not load full file in memory and it is also useful in parsing EIGENVAL, PROCAR like files with a few lines of code only. \n",
    "- Version 1.0.0 is updated with an overhaul of widgets module. `VasprunApp` is introduced as class to access internals of app easily. "
   ]
  },
  {
   "cell_type": "markdown",
   "metadata": {},
   "source": [
    "## New: Plot in Terminal without GUI\n",
    "Use `pp.plt2text(colorful=True/False)` after matplotlib's code and your figure will appear in terminal. You need to zoom out alot to get a good view like below.\n",
    "\n",
    "Tip: Use file [matplotlib2terminal.py](https://gist.github.com/massgh/d5cc44ad32510d3ff58cfefd75c6884e) on github independent of this package to plot in terminal. \n",
    "![IMG](terminal.jpg)"
   ]
  },
  {
   "cell_type": "markdown",
   "metadata": {},
   "source": [
    "# New: Ipywidgets-based GUI\n",
    "See GIF here:\n",
    "![GIF](widget.gif) "
   ]
  },
  {
   "cell_type": "markdown",
   "metadata": {},
   "source": [
    "- The code at end is used below to rebuild dataframe which can be use in many ways such as generating latex table. The matplotlib code is used to generate publication quality figure."
   ]
  },
  {
   "cell_type": "code",
   "execution_count": null,
   "metadata": {},
   "outputs": [],
   "source": [
    "from IPython.display import Markdown\n",
    "import pivotpy as pp\n",
    "paths = ['e:/Research/graphene_example/ISPIN_1/bands/DOS/vasprun.xml',\n",
    "         'e:/Research/graphene_example/ISPIN_1/bands/vasprun.xml',\n",
    "         'e:/Research/graphene_example/ISPIN_1/dos/vasprun.xml',\n",
    "         'e:/Research/graphene_example/ISPIN_2/bands/vasprun.xml',\n",
    "         'e:/Research/graphene_example/ISPIN_2/dos/sigm0_01/vasprun.xml',\n",
    "         'e:/Research/graphene_example/ISPIN_2/dos/vasprun.xml',\n",
    "         'e:/Research/graphene_example/vasprun.xml']\n",
    "df = pp.generate_summary(paths_list=paths)\n",
    "print(df.caption)\n",
    "Markdown(df.data.to_markdown())"
   ]
  },
  {
   "cell_type": "code",
   "execution_count": null,
   "metadata": {},
   "outputs": [],
   "source": [
    "print(df.data[:2].to_latex())"
   ]
  },
  {
   "cell_type": "code",
   "execution_count": null,
   "metadata": {},
   "outputs": [],
   "source": [
    "ax = pp.init_figure(figsize=(3,1.5))\n",
    "_ = df.data.sort_values('VBM').plot(ax=ax,x = 'VBM',y=['CBM','E_gap'])"
   ]
  },
  {
   "cell_type": "code",
   "execution_count": null,
   "metadata": {},
   "outputs": [],
   "source": [
    "import os \n",
    "os.chdir('E:/Research/graphene_example/ISPIN_1/bands')\n",
    "xml_data=pp.read_asxml()\n",
    "vr=pp.export_vasprun(elim=[-5,5])\n",
    "vr"
   ]
  },
  {
   "cell_type": "markdown",
   "metadata": {},
   "source": [
    "## Matplotlib's static plots\n",
    "Add anything from legend,colorbar, colorwheel. In below figure, all three are shown."
   ]
  },
  {
   "cell_type": "code",
   "execution_count": null,
   "metadata": {},
   "outputs": [],
   "source": [
    "#collapse_input\n",
    "import pivotpy as pp, numpy as np \n",
    "import matplotlib.pyplot as plt \n",
    "vr1=pp.export_vasprun('E:/Research/graphene_example/ISPIN_2/bands/vasprun.xml')\n",
    "vr2=pp.export_vasprun('E:/Research/graphene_example/ISPIN_2/dos/vasprun.xml')\n",
    "axs=pp.init_figure(ncols=3,widths=[2,1,2.2],sharey=True,wspace=0.05,figsize=(8,2.6))\n",
    "elements=[0,[0],[0,1]]\n",
    "orbs=[[0],[1],[2,3]]\n",
    "labels=['s','$p_z$','$(p_x+p_y)$']\n",
    "ti_cks=dict(ktick_inds=[0,30,60,-1],ktick_vals=['Γ','M','K','Γ'])\n",
    "args_dict=dict(elements=elements,orbs=orbs,labels=labels,elim=[-20,15])\n",
    "pp.quick_bplot(path_evr=vr1,ax=axs[0],**ti_cks,elim=[-20,15])\n",
    "pp.quick_rgb_lines(path_evr=vr1,ax=axs[2],**args_dict,**ti_cks,colorbar=True,)\n",
    "pp.quick_dos_lines(path_evr=vr2,ax=axs[1],vertical=True,spin='both',include_dos='pdos',**args_dict,legend_kwargs={'ncol': 3},colormap='RGB_m')\n",
    "pp.color_wheel(axs[2],xy=(0.7,1.15),scale=0.2,labels=[l+'$^{⇅}$' for l in labels])\n",
    "pp._show() "
   ]
  },
  {
   "cell_type": "markdown",
   "metadata": {},
   "source": [
    "## Interactive plots using plotly"
   ]
  },
  {
   "cell_type": "code",
   "execution_count": null,
   "metadata": {},
   "outputs": [],
   "source": [
    "args_dict['labels'] = ['s','p_z','p_x+p_y']\n",
    "fig1 = pp.plotly_rgb_lines(vr1,**args_dict)\n",
    "#pp.plotly2html(fig1) #Do inside Google Colab, fig1 inside Jupyter\n",
    "from IPython.display import Markdown\n",
    "Markdown(\"[See Interactive Plot](https://massgh.github.io/InteractiveHTMLs/iGraphene.html)\")"
   ]
  },
  {
   "cell_type": "markdown",
   "metadata": {},
   "source": [
    "## Brillouin Zone (BZ) Processing\n",
    "- Look in `pivotpy.sio` module for details on generating mesh and path of KPOINTS as well as using Materials Projects' API to get POSCAR right in the working folder with command `get_poscar`. Below is a screenshot of interactive BZ plot. You can `double click` on blue points and hit `Ctrl + C` to copy the high symmetry points relative to reciprocal lattice basis vectors. (You will be able to draw kpath in `Pivotpy-Dash` application and generate KPOINTS automatically from a web interface later on!). \n",
    "- Same color points lie on a sphere, with radius decreasing as red to blue and  gamma point in gold color. These color help distinguishing points but the points not always be equivalent, for example in FCC, there are two points on mid of edges connecting square-hexagon and hexagon-hexagon at equal distance from center but not the same points. \n",
    "- Any colored point's hover text is in gold background.      \n",
    "#### Look the output of `pivotpy.sio.splot_bz`.\n",
    "![BZ](docs/images/3bz.jpg)"
   ]
  },
  {
   "cell_type": "code",
   "execution_count": null,
   "metadata": {},
   "outputs": [],
   "source": [
    "import pivotpy as pp \n",
    "pp.splot_bz([[1,0,0],[0,1,0],[0,0,1]],color=(1,1,1,0.2),light_from=(0.5,0,2),colormap='RGB').set_axis_off()\n",
    "#pp.plotly2html(fig2) #Do inside Google Colab, fig1 inside Jupyter\n",
    "from IPython.display import Markdown\n",
    "Markdown(\"[See Interactive BZ Plot](https://massgh.github.io/InteractiveHTMLs/BZ.html)\")"
   ]
  },
  {
   "cell_type": "markdown",
   "metadata": {},
   "source": [
    "## Plotting Two Calculations Side by Side \n",
    "- Here we will use `shift_kpath` to demonstrate plot of two calculations on same axes side by side"
   ]
  },
  {
   "cell_type": "code",
   "execution_count": null,
   "metadata": {},
   "outputs": [],
   "source": [
    "#nbdev_collapse_input\n",
    "import matplotlib.pyplot as plt\n",
    "import pivotpy as pp \n",
    "plt.style.use('bmh')\n",
    "vr1=pp.export_vasprun('E:/Research/graphene_example/ISPIN_1/bands/vasprun.xml')\n",
    "shift_kpath=vr1.kpath[-1] # Add last point from first export in second one.\n",
    "vr2=pp.export_vasprun('E:/Research/graphene_example/ISPIN_2/bands/vasprun.xml',shift_kpath=shift_kpath)\n",
    "last_k=vr2.kpath[-1]\n",
    "axs=pp.init_figure(figsize=(5,2.6))\n",
    "K_all=[*vr1.kpath,*vr2.kpath] # Merge kpath for ticks\n",
    "kticks=[K_all[i] for i in [0,30,60,90,120,150,-1]]\n",
    "ti_cks=dict(xticks=kticks,ktick_vals=['Γ','M','K','Γ','M','K','Γ'])\n",
    "pp.quick_bplot(path_evr=vr1,ax=axs)\n",
    "pp.quick_bplot(path_evr=vr2,ax=axs,txt='Graphene(Left: ISPIN=1, Right: ISPIN=2)',ctxt='m')\n",
    "pp.modify_axes(ax=axs,xlim=[0,last_k],ylim=[-10,10],**ti_cks)"
   ]
  },
  {
   "cell_type": "markdown",
   "metadata": {},
   "source": [
    "## Interpolation "
   ]
  },
  {
   "cell_type": "code",
   "execution_count": null,
   "metadata": {},
   "outputs": [],
   "source": [
    "#collapse_input\n",
    "import pivotpy as pp\n",
    "plt.style.use('ggplot')\n",
    "k=vr1.kpath\n",
    "ef=vr1.bands.E_Fermi\n",
    "evals=vr1.bands.evals-ef\n",
    "#Let's interpolate our graph to see effect. It is useful for colored graphs.\n",
    "knew,enew=pp.interpolate_data(x=k,y=evals,n=10,k=3)\n",
    "plot=plt.plot(k,evals,'m',lw=5,label='real data')\n",
    "plot=plt.plot(k,evals,'w',lw=1,label='interpolated',ls='dashed')\n",
    "pp.add_text(ax=plt.gca(),txts='Graphene')"
   ]
  },
  {
   "cell_type": "markdown",
   "metadata": {},
   "source": [
    "## LOCPOT,CHG Visualization\n",
    "check out the class `pivotpy.LOCPOT_CHG` to visulize local potential/charge and magnetization in a given direction."
   ]
  },
  {
   "cell_type": "markdown",
   "metadata": {},
   "source": [
    "## Running powershell commands from python.\n",
    "Some tasks are very tideious in python while just a click way in powershell. See below, and try to list processes in python yourself to see the difference!"
   ]
  },
  {
   "cell_type": "code",
   "execution_count": null,
   "metadata": {},
   "outputs": [],
   "source": [
    "pp.ps2std(ps_command='(Get-Process)[0..4]')"
   ]
  },
  {
   "cell_type": "markdown",
   "metadata": {},
   "source": [
    "## Advancaed: Poweshell Cell/Line Magic `%%ps/%ps`\n",
    "- You can create a IPython cell magic to run powershell commands directly in IPython Shell/Notebook (Powershell core installation required).\n",
    "- Cell magic can be assigned to a variable `foo` by `%%ps --out foo`\n",
    "- Line magic can be assigned to a variable by `foo = %ps powershell_command`\n",
    "\n",
    "Put below code in ipython profile's startup file (create one) \"~/.ipython/profile_default/startup/powershell_magic.py\"\n",
    "```python\n",
    "from IPython.core.magic import register_line_cell_magic\n",
    "from IPython import get_ipython\n",
    "@register_line_cell_magic\n",
    "def ps(line, cell=None):\n",
    "    if cell:\n",
    "        return get_ipython().run_cell_magic('powershell',line,cell)\n",
    "    else:\n",
    "        get_ipython().run_cell_magic('powershell','--out posh_output',line)\n",
    "        return posh_output.splitlines()\n",
    "``` \n",
    "Additionally you need to add following lines in \"~/.ipython/profile_default/ipython_config.py\" file to make above magic work.\n",
    "```python\n",
    "from traitlets.config.application import get_config\n",
    "c = get_config()\n",
    "c.ScriptMagics.script_magics = ['powershell']\n",
    "c.ScriptMagics.script_paths = {\n",
    "    'powershell' : 'powershell.exe -noprofile -command -',\n",
    "    'pwsh': 'pwsh.exe -noprofile -command -'\n",
    "}\n",
    "```"
   ]
  },
  {
   "cell_type": "code",
   "execution_count": null,
   "metadata": {},
   "outputs": [],
   "source": [
    "%%ps \n",
    "Get-ChildItem 'E:\\Research\\graphene_example\\'"
   ]
  },
  {
   "cell_type": "code",
   "execution_count": null,
   "metadata": {},
   "outputs": [],
   "source": [
    "x = %ps (Get-ChildItem 'E:\\Research\\graphene_example\\').FullName\n",
    "x"
   ]
  },
  {
   "cell_type": "code",
   "execution_count": null,
   "metadata": {},
   "outputs": [],
   "source": [
    "#hide\n",
    "#from nbdev.export import *\n",
    "#notebook2script()"
   ]
  },
  {
   "cell_type": "markdown",
   "metadata": {},
   "source": [
    "[Functions Reference](functions.md)"
   ]
  },
  {
   "cell_type": "code",
   "execution_count": null,
   "metadata": {},
   "outputs": [],
   "source": [
    "#hide_input\n",
    "import pivotpy as pp \n",
    "pp.nav_links(0)"
   ]
  },
  {
   "cell_type": "code",
   "execution_count": null,
   "metadata": {},
   "outputs": [],
   "source": []
  }
 ],
 "metadata": {
  "kernelspec": {
   "display_name": "Python 3.7.6 64-bit",
   "language": "python",
   "name": "python37664bita511f18cfc7e44c89db72e4d1298f945"
  }
 },
 "nbformat": 4,
 "nbformat_minor": 4
}
