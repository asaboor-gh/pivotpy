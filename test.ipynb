{
 "cells": [
  {
   "cell_type": "markdown",
   "metadata": {},
   "source": [
    "# Pivotpy Module\n",
    "\n",
    "> Install and work!"
   ]
  },
  {
   "cell_type": "code",
   "execution_count": null,
   "metadata": {},
   "outputs": [],
   "source": [
    "!pip install pivotpy"
   ]
  },
  {
   "cell_type": "markdown",
   "metadata": {},
   "source": [
    "Documentation is available on following links:\n",
    "> Note: Below graphs may not work as expected in Colab, you may need to upgrade plotly. Also data is not associated behind the graphs so it will throw error on run. Play with your own data. "
   ]
  },
  {
   "cell_type": "code",
   "execution_count": null,
   "metadata": {},
   "outputs": [],
   "source": [
    "#hide_input\n",
    "import pivotpy as pp \n",
    "pp.nav_links(0)"
   ]
  },
  {
   "cell_type": "code",
   "execution_count": null,
   "metadata": {},
   "outputs": [],
   "source": [
    "path = 'E:/Research/graphene_example/ISPIN_2/bands/vasprun.xml'\n",
    "evr = pp.export_vasprun(path)\n",
    "args_dict = dict(\n",
    "            elements = [[0, 1], [0, 1], [0, 1]],\n",
    "            orbs = [[0], [2], [1, 3]],\n",
    "            labels = ['s', 'pz', 'px+py'] \n",
    "            )\n",
    "fig = pp.plotly_rgb_lines(evr, **args_dict)\n",
    "pp.plotly2html(fig)"
   ]
  },
  {
   "cell_type": "code",
   "execution_count": null,
   "metadata": {},
   "outputs": [],
   "source": [
    "axs = pp.init_figure(ncols=3,figsize=(8,3),sharey=True,sharex=True)\n",
    "pp.quick_bplot(evr,ax=axs[0])\n",
    "pp.quick_color_lines(evr,**args_dict,axes=axs[1])\n",
    "pp.quick_rgb_lines(evr,**args_dict,ax=axs[2],colorbar=True)\n",
    "pp.add_legend(ax=axs[1])"
   ]
  },
  {
   "cell_type": "code",
   "execution_count": null,
   "metadata": {},
   "outputs": [],
   "source": [
    "pp.plotly2html(pp.iplot_bz([[1,0,0],[0,1,0],[0,0,1]]))"
   ]
  },
  {
   "cell_type": "code",
   "execution_count": null,
   "metadata": {},
   "outputs": [],
   "source": [
    "pp.splot_bz(evr.poscar.basis,colormap=None,color='w').set_axis_off()"
   ]
  },
  {
   "cell_type": "code",
   "execution_count": null,
   "metadata": {},
   "outputs": [],
   "source": [
    "pp.splot_lat(evr.poscar,plane='xy',tol=2)"
   ]
  },
  {
   "cell_type": "markdown",
   "metadata": {},
   "source": [
    "# App for working in big project\n",
    "\n",
    "Try\n",
    "```python\n",
    "import pivotpy as pp \n",
    "app = pp.VasprunApp()\n",
    "#Tweak Global settings accross all project.\n",
    "app.cache_data = False #Or True \n",
    "app.ibands_kws['mode'] = 'bands' #Or 'marker'\n",
    "app.evr_kws['try_pwsh'] = False #Or True for loading from Powershell. \n",
    "#Display App \n",
    "app.show() #And interact with GUI to work for you\n",
    "```\n",
    "\n",
    "May not work in Google Colab Online. \n"
   ]
  },
  {
   "cell_type": "code",
   "execution_count": null,
   "metadata": {},
   "outputs": [],
   "source": []
  }
 ],
 "metadata": {
  "kernelspec": {
   "display_name": "Python 3",
   "language": "python",
   "name": "python3"
  }
 },
 "nbformat": 4,
 "nbformat_minor": 2
}
