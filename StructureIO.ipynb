{
 "cells": [
  {
   "cell_type": "code",
   "execution_count": null,
   "metadata": {},
   "outputs": [],
   "source": [
    "#default_exp sio"
   ]
  },
  {
   "cell_type": "code",
   "execution_count": null,
   "metadata": {},
   "outputs": [
    {
     "data": {
      "text/markdown": "<style>a{text-decoration: none !important;color:lightkblue;font-weight:bold;}\n                a:focus,a:active,a:hover{color:hotpink !important;}</style>\n> [&nbsp;`▶` Index&nbsp;](https://massgh.github.io/pivotpy/)  \n> [&nbsp;`▶` XmlElementTree&nbsp;](https://massgh.github.io/pivotpy/XmlElementTree)  \n> [&nbsp;`▶` StaticPlots&nbsp;](https://massgh.github.io/pivotpy/StaticPlots)  \n> [&nbsp;`▶` InteractivePlots&nbsp;](https://massgh.github.io/pivotpy/InteractivePlots)  \n> [&nbsp;`▶` Utilities&nbsp;](https://massgh.github.io/pivotpy/Utilities)  \n> [&nbsp;`▶` StructureIO●&nbsp;](https://massgh.github.io/pivotpy/StructureIO)  \n> [&nbsp;`▶` Widgets&nbsp;](https://massgh.github.io/pivotpy/Widgets)  \n",
      "text/plain": [
       "<IPython.core.display.Markdown object>"
      ]
     },
     "execution_count": null,
     "metadata": {},
     "output_type": "execute_result"
    }
   ],
   "source": [
    "#hide_input\n",
    "import pivotpy as pp \n",
    "pp.nav_links(5)"
   ]
  },
  {
   "cell_type": "markdown",
   "metadata": {},
   "source": [
    "# Structure IO\n",
    "\n",
    "> This includes generating POSCAR form [Materials Project](https://materialsproject.org/). You need their API key to run functions in this module where required."
   ]
  },
  {
   "cell_type": "markdown",
   "metadata": {},
   "source": [
    "**Note** : To use materials project data frequently, you may need to save their api key into file. Run function below and it saves key to a file and every function will autoload it."
   ]
  },
  {
   "cell_type": "code",
   "execution_count": null,
   "metadata": {},
   "outputs": [],
   "source": [
    "#export\n",
    "import os\n",
    "import json\n",
    "import math\n",
    "import numpy as np\n",
    "from pathlib import Path\n",
    "import requests as req\n",
    "from collections import namedtuple\n",
    "from itertools import permutations\n",
    "from itertools import product\n",
    "\n",
    "from scipy.spatial import ConvexHull\n",
    "from scipy.spatial import Voronoi\n",
    "import plotly.graph_objects as go\n",
    "from mpl_toolkits import mplot3d\n",
    "from mpl_toolkits.mplot3d.art3d import Poly3DCollection\n",
    "\n",
    "import pivotpy.vr_parser as vp\n",
    "import pivotpy.s_plots as sp "
   ]
  },
  {
   "cell_type": "code",
   "execution_count": null,
   "metadata": {},
   "outputs": [],
   "source": [
    "#hide_input\n",
    "# To run notebook smoothly, not for module export\n",
    "from pivotpy.sio import get_bz"
   ]
  },
  {
   "cell_type": "code",
   "execution_count": null,
   "metadata": {},
   "outputs": [],
   "source": [
    "#export\n",
    "def save_mp_API(api_key):\n",
    "    \"\"\"\n",
    "    - Save materials project api key for autoload in functions.\n",
    "    \"\"\"\n",
    "    home = str(Path.home())\n",
    "    file = os.path.join(home,'.pivotpyrc')\n",
    "    lines = []\n",
    "    if os.path.isfile(file):\n",
    "        with open(file,'r') as fr:\n",
    "            lines = fr.readlines()\n",
    "            lines = [line for line in lines if 'MP_API_KEY' not in line]\n",
    "        fr.close()\n",
    "    with open(file,'w') as fw:\n",
    "        fw.write(\"MP_API_KEY = {}\".format(api_key))\n",
    "        for line in lines:\n",
    "            fw.write(line)\n",
    "        fw.close()"
   ]
  },
  {
   "cell_type": "code",
   "execution_count": null,
   "metadata": {},
   "outputs": [],
   "source": [
    "#export\n",
    "def load_mp_data(formula,api_key=None,mp_id=None,max_sites = None):\n",
    "    \"\"\"\n",
    "    - Returns fetched data using request api of python form materials project website.\n",
    "    - **Parameters**\n",
    "        - formula  : Material formula such as 'NaCl'.\n",
    "        - api_key  : API key for your account from material project site. Auto picks if you already used `save_mp_API` function.\n",
    "        - mp_id    : Optional, you can specify material ID to filter results.\n",
    "        -max_sites : Option, you can set maximum number of sites to load fastly as it will not fetch all large data sets.\n",
    "    \"\"\"\n",
    "    if api_key is None:\n",
    "        try:\n",
    "            home = str(Path.home())\n",
    "            file = os.path.join(home,'.pivotpyrc')\n",
    "            with open(file,'r') as f:\n",
    "                lines=f.readlines()\n",
    "                for line in lines:\n",
    "                    if 'MP_API_KEY' in line:\n",
    "                        api_key = line.split('=')[1].strip()\n",
    "        except:\n",
    "            return print(\"api_key not given. provide in argument or generate in file using `save_mp_API(your_mp_api_key)\")\n",
    "    \n",
    "    url = \"https://www.materialsproject.org/rest/v2/materials/_____/vasp?API_KEY=|||||\"\n",
    "    url = url.replace('_____',formula).replace('|||||',api_key)\n",
    "    resp = req.request(method='GET',url=url)\n",
    "    jl = json.loads(resp.text)\n",
    "    all_res = jl['response']\n",
    "    if max_sites != None:\n",
    "        sel_res=[]\n",
    "        for res in all_res:\n",
    "            if res['nsites'] <= max_sites:\n",
    "                sel_res.append(res)\n",
    "        return sel_res\n",
    "    # Filter to mp_id at last. more preferred\n",
    "    if mp_id !=None:\n",
    "        for res in all_res:\n",
    "            if mp_id == res['material_id']:\n",
    "                return [res]\n",
    "    return all_res"
   ]
  },
  {
   "cell_type": "code",
   "execution_count": null,
   "metadata": {},
   "outputs": [],
   "source": [
    "#export\n",
    "def get_crystal(formula,api_key=None,mp_id=None,max_sites = None):\n",
    "    \"\"\"\n",
    "    - Returns crystal information dictionary including cif data format.\n",
    "    - **Parameters**\n",
    "        - formula  : Material formula such as 'NaCl'.\n",
    "        - api_key  : API key for your account from material project site. Auto picks if you already used `save_mp_API` function.\n",
    "        - mp_id    : Optional, you can specify material ID to filter results.\n",
    "        -max_sites : Option, you can set maximum number of sites to load fastly as it will not fetch all large data sets.\n",
    "    \"\"\"\n",
    "    all_res = load_mp_data(formula=formula,api_key = api_key, mp_id = mp_id, max_sites = max_sites)\n",
    "    cifs = []\n",
    "    for res in all_res:\n",
    "        cif     = res['cif']\n",
    "        symbol  = res['spacegroup']['symbol']\n",
    "        crystal = res['spacegroup']['crystal_system']\n",
    "        unit    = res['unit_cell_formula']\n",
    "        mp_id   = res['material_id']\n",
    "        crs = dict(mp_id = mp_id,symbol = symbol, crystal = crystal, unit = unit, cif = cif)\n",
    "        cifs.append(vp.Dict2Data(crs))\n",
    "    return cifs"
   ]
  },
  {
   "cell_type": "code",
   "execution_count": null,
   "metadata": {},
   "outputs": [],
   "source": [
    "#export\n",
    "def get_poscar(formula ,api_key=None,mp_id=None,max_sites = None):\n",
    "    \"\"\"\n",
    "    - Returns poscar information dictionary including cif data format.\n",
    "    - **Parameters**\n",
    "        - formula  : Material formula such as 'NaCl'.\n",
    "        - api_key  : API key for your account from material project site. Auto picks if you already used `save_mp_API` function.\n",
    "        - mp_id    : Optional, you can specify material ID to filter results.\n",
    "        -max_sites : Option, you can set maximum number of sites to load fastly as it will not fetch all large data sets.\n",
    "    - **Usage**\n",
    "        - `get_poscar('GaAs',api_key,**kwargs)`. Same result is returned from `Get-POSCAR` command in PowerShell terminal if Vasp2Visual module is installed.\n",
    "    \"\"\"\n",
    "    crys = get_crystal(formula = formula,api_key = api_key, mp_id = mp_id, max_sites = max_sites)\n",
    "    poscars = []\n",
    "    for cr in crys:\n",
    "        cif = cr.cif\n",
    "        lines = cif.split('\\n')\n",
    "        if '' in lines.copy():\n",
    "            lines.remove('')\n",
    "        abc = []\n",
    "        abc_ang = []\n",
    "        index = 0\n",
    "        for ys in lines:\n",
    "            if '_cell' in ys:\n",
    "                if '_length' in ys:\n",
    "                    abc.append(ys.split()[1])\n",
    "                if '_angle' in ys:\n",
    "                    abc_ang.append(ys.split()[1])\n",
    "                if '_volume' in ys:\n",
    "                    volume = float(ys.split()[1])\n",
    "            if '_structural' in ys:\n",
    "                system = ys.split()[1]\n",
    "        for i,ys in enumerate(lines):\n",
    "            if '_atom_site_occupancy' in ys:\n",
    "                index = i +1 # start collecting pos.\n",
    "        poses = lines[index:]\n",
    "        pos_str = \"\"\n",
    "        for pos in poses:\n",
    "            s_p = pos.split()\n",
    "            pos_str += \"{0:>12}  {1:>12}  {2:>12}  {3}\\n\".format(*s_p[3:6],s_p[0])\n",
    "\n",
    "        # ======== Cleaning ===========\n",
    "        abc_ang = [float(ang) for ang in abc_ang]\n",
    "        abc     = [float(a) for a in abc]\n",
    "        a = \"{0:>22.16f} {1:>22.16f} {2:>22.16f}\".format(1.0,0.0,0.0) # lattic vector a.\n",
    "        to_rad = 0.017453292519\n",
    "        gamma = abc_ang[2]*to_rad\n",
    "        bx,by = abc[1]*np.cos(gamma),abc[1]*np.sin(gamma)\n",
    "        b = \"{0:>22.16f} {1:>22.16f} {2:>22.16f}\".format(bx/abc[0],by/abc[0],0.0) # lattic vector b.\n",
    "        cz = volume/(abc[0]*by)\n",
    "        cx = abc[2]*np.cos(abc_ang[1]*to_rad)\n",
    "        cy = (abc[1]*abc[2]*np.cos(abc_ang[0]*to_rad)-bx*cx)/by\n",
    "        c = \"{0:>22.16f} {1:>22.16f} {2:>22.16f}\".format(cx/abc[0],cy/abc[0],cz/abc[0]) # lattic vector b.\n",
    "        unit = cr.unit.to_dict()\n",
    "        elems = [elem for elem in unit.keys()]\n",
    "        elems = '\\t'.join(elems)\n",
    "        nums  = [str(int(unit[elem])) for elem in unit.keys()]\n",
    "        nums  = '\\t'.join(nums)\n",
    "        # Get others important info\n",
    "        symbol  = cr.symbol\n",
    "        crystal = cr.crystal\n",
    "        mp_id   = cr.mp_id\n",
    "        # ======================\n",
    "        top = system + \"\\t# [{0}] Generated by PivotPy using Materials Project Database.\".format(symbol)\n",
    "        poscar= \"{0}\\n  {1}\\n {2}\\n {3}\\n {4}\\n  {5}\\n  {6}\\nDirect\\n{7}\".format(top,abc[0],a,b,c,elems,nums,pos_str)\n",
    "        # =======================\n",
    "        net_out = dict(system = system, symbol = symbol, crystal =crystal,mp_id = mp_id,poscar = poscar)\n",
    "        poscars.append(vp.Dict2Data(net_out))\n",
    "    return poscars"
   ]
  },
  {
   "cell_type": "code",
   "execution_count": null,
   "metadata": {},
   "outputs": [
    {
     "data": {
      "text/plain": [
       "dict_keys(['system', 'symbol', 'crystal', 'mp_id', 'poscar'])"
      ]
     },
     "execution_count": null,
     "metadata": {},
     "output_type": "execute_result"
    }
   ],
   "source": [
    "# I alread save key to file, so no need to provide.\n",
    "pc = get_poscar('GaAs',max_sites=2)\n",
    "pc[1].__dict__.keys()\n"
   ]
  },
  {
   "cell_type": "code",
   "execution_count": null,
   "metadata": {},
   "outputs": [
    {
     "name": "stdout",
     "output_type": "stream",
     "text": [
      "material_id:  mp-2534\nspacegroup symbol:  F-43m\n\n GaAs\t# [F-43m] Generated by PivotPy using Materials Project Database.\n  4.06599269\n     1.0000000000000000     0.0000000000000000     0.0000000000000000\n     0.5000000000490150     0.8660254037561398     0.0000000000000000\n     0.5000000000490150     0.2886751346042458     0.8164965780265512\n  Ga\tAs\n  1\t1\nDirect\n  0.00000000    0.00000000    0.00000000  Ga\n  0.75000000    0.75000000    0.75000000  As\n\n"
     ]
    }
   ],
   "source": [
    "print(\"material_id: \",pc[1].mp_id)\n",
    "print(\"spacegroup symbol: \",pc[1].symbol)\n",
    "print(\"\\n\",pc[1].poscar)"
   ]
  },
  {
   "cell_type": "code",
   "execution_count": null,
   "metadata": {},
   "outputs": [],
   "source": [
    "#export\n",
    "def get_kpath(hsk_list=[],labels=[], n = 5,weight= None ,ibzkpt = None,outfile=None):\n",
    "    \"\"\"\n",
    "    - Generate list of kpoints along high symmetry path. Options are write to file or return KPOINTS list. It generates uniformly spaced point with input `n` as just a scale factor of number of points per unit length. You can also specify custom number of kpoints in an interval by putting number of kpoints as 4th entry in left kpoint.\n",
    "    - **Parameters**\n",
    "        - hsk_list : N x 3 list of N high symmetry points, if broken path then [[N x 3],[M x 3],...]. Optionally you can put a 4 values point where 4th entry will decide number of kpoints in current interval. Make sure that points in a connected path patch are at least two i.e. `[[x1,y1,z1],[x2,y2,z2]]` or `[[x1,y1,z1,N],[x2,y2,z2]]`.\n",
    "        - n        ; int, number per unit length, this makes uniform steps based on distance between points.\n",
    "        - weight : Float, if None, auto generates weights.\n",
    "        - gamma  : If True, shifts mesh at gamma point.\n",
    "        - ibzkpt : Path to ibzkpt file, required for HSE calculations.\n",
    "        - labels : Hight symmetry points labels. Good for keeping record of lables and points indices for later use.                - Note: If you do not want to label a point, label it as 'skip' at its index and it will be removed.\n",
    "        - outfile: Path/to/file to write kpoints.\n",
    "    - **Attributes**\n",
    "        - If `outfile = None`, a tuple is returned which consists of:\n",
    "            - nkpts   : get_kmesh().nkpts.\n",
    "            - kpoints : get_kmesh().kpoints.\n",
    "            - weights : get_kmesh().weights.\n",
    "    \"\"\"\n",
    "    if hsk_list:\n",
    "        try: hsk_list[0][0][0]\n",
    "        except: hsk_list = [hsk_list] # Make overall 3 dimensions to include breaks in path\n",
    "    xs,ys,zs, inds,joinat = [],[],[],[0],[] # 0 in inds list is important\n",
    "    for j,a in enumerate(hsk_list):\n",
    "        for i in range(len(a)-1):\n",
    "            _vec = [_a-_b for _a,_b in zip(a[i][:3],a[i+1] )] # restruct point if 4 entries\n",
    "            _m = np.rint(np.linalg.norm(_vec)*n).astype(int)\n",
    "\n",
    "            try: _m = a[i][3] # number of points given explicitly.\n",
    "            except: pass\n",
    "\n",
    "            inds.append(inds[-1]+_m)\n",
    "            if j !=0:\n",
    "\n",
    "                joinat.append(inds[-2]) # Add previous in joinpath\n",
    "            xs.append(list(np.linspace(a[i][0],a[i+1][0],_m)))\n",
    "            ys.append(list(np.linspace(a[i][1],a[i+1][1],_m)))\n",
    "            zs.append(list(np.linspace(a[i][2],a[i+1][2],_m)))\n",
    "    xs = [y for z in xs for y in z] #flatten values.\n",
    "    ys = [y for z in ys for y in z]\n",
    "    zs = [y for z in zs for y in z]\n",
    "    if weight == None:\n",
    "        weight = 1/len(xs)\n",
    "    out_str = [\"{0:>16.10f}{1:>16.10f}{2:>16.10f}{3:>12.6f}\".format(x,y,z,weight) for x,y,z in zip(xs,ys,zs)]\n",
    "    out_str = '\\n'.join(out_str)\n",
    "    N = np.size(xs)\n",
    "    if ibzkpt != None:\n",
    "        if os.path.isfile(ibzkpt):\n",
    "            f = open(ibzkpt,'r')\n",
    "            lines = f.readlines()\n",
    "            f.close()\n",
    "            N = int(lines[1].strip())+N # Update N.\n",
    "            slines = lines[3:N+4]\n",
    "            ibz_str = ''.join(slines)\n",
    "            out_str = \"{}\\n{}\".format(ibz_str,out_str) # Update out_str\n",
    "    if inds:\n",
    "        inds[-1] = -1 # last index to -1\n",
    "    # Remove indices and labels where 'skip' appears\n",
    "    inds = [i for i,l in zip(inds,labels) if 'skip' not in l]\n",
    "    labels = [l for l in labels if 'skip' not in l]\n",
    "    top_str = \"Automatically generated using PivotPy with HSK-INDS = {}, LABELS = {}, SEG-INDS = {}\\n\\t{}\\nReciprocal Lattice\".format(inds,labels,joinat,N)\n",
    "    out_str = \"{}\\n{}\".format(top_str,out_str)\n",
    "    if outfile != None:\n",
    "        f = open(outfile,'w')\n",
    "        f.write(out_str)\n",
    "        f.close()\n",
    "    else:\n",
    "        mesh = namedtuple('Mesh',['nkpts','kpoints','weights'])\n",
    "        return mesh(N,np.array([[x,y,x] for x,y,z in zip(xs,ys,zs)]),[weight for x in xs])"
   ]
  },
  {
   "cell_type": "markdown",
   "metadata": {},
   "source": [
    "In example below, the overall value of `n = 5` is skipped and 4th entry in the point is used instead. In later example, a 'skipk' label removes high symmetry point index."
   ]
  },
  {
   "cell_type": "code",
   "execution_count": null,
   "metadata": {},
   "outputs": [
    {
     "data": {
      "text/plain": [
       "array([[0.5, 0.5, 0.5],\n",
       "       [0. , 0. , 0. ]])"
      ]
     },
     "execution_count": null,
     "metadata": {},
     "output_type": "execute_result"
    }
   ],
   "source": [
    "get_kpath([[0.5,0.5,0.5,2],[0,0,0]],n=5,ibzkpt='IBZKPT',labels = ['M','Γ']).kpoints"
   ]
  },
  {
   "cell_type": "code",
   "execution_count": null,
   "metadata": {},
   "outputs": [],
   "source": [
    "get_kpath([[[0.375,0.375,0.5,21],[0,0,0]],[[0.5,0.25,0.5],[0,0,0]],[[0.25,0.25,0.25],[0,0,0]]],n=11,labels = ['M','skip','Γ|M','L'],outfile='kpt.txt')"
   ]
  },
  {
   "cell_type": "markdown",
   "metadata": {},
   "source": [
    "```shell\n",
    "Automatically generated using PivotPy with HSK-INDS = [0, 29, -1], LABELS = ['M', 'Γ|M', 'L'], SEG-INDS = [21, 29]\n",
    "\t34\n",
    "```\n",
    "`HSK-INDS = [0, 29, -1]` should be `[0,21,29,-1]` but `skip` label removed it. Also after 21, it may have 32 as n=11, but distance smaller than 1 resulted in only 8 points there. This is pretty useful if you don't need to rescale kpoint axis later on based on distance."
   ]
  },
  {
   "cell_type": "code",
   "execution_count": null,
   "metadata": {},
   "outputs": [],
   "source": [
    "#export\n",
    "def get_basis(poscar=None):\n",
    "    \"\"\"Returns poscar(real space basis vectors) and basis in form of namedtuple. \n",
    "    - **Parameters**\n",
    "        - poscar: path/to/POSCAR or 3 given vectors as rows of a mtrix.\"\"\"\n",
    "    if isinstance(poscar,type(None)) and os.path.isfile('./POSCAR'):\n",
    "        poscar = './POSCAR'\n",
    "    elif isinstance(poscar,str) and not os.path.isfile(poscar):\n",
    "        raise ValueError(\"Argument 'poscar' expects path to 'POSCAR' or 3 basis vectors.\")\n",
    "    \n",
    "    a1,a2,a3=[],[],[]\n",
    "    if np.ndim(poscar) ==2:\n",
    "        a1, a2, a3 = poscar[0],poscar[1],poscar[2]\n",
    "    elif os.path.isfile(poscar):\n",
    "        a1, a2, a3 = vp.islice2array(poscar,start=2,nlines=3).reshape((-1,3))\n",
    "    else:\n",
    "        raise FileNotFoundError(\"{!r} does not exist or not 3 by 3 list.\".format(poscar))\n",
    "    # Process\n",
    "    V  = np.dot(a1,np.cross(a2,a3))\n",
    "    b1 = np.cross(a2,a3)/V\n",
    "    b2 = np.cross(a3,a1)/V\n",
    "    b3 = np.cross(a1,a2)/V\n",
    "    Basis = namedtuple('Basis', ['poscar', 'basis'])\n",
    "    return Basis(np.array([a1,a2,a3]),np.array([b1,b2,b3]))"
   ]
  },
  {
   "cell_type": "code",
   "execution_count": null,
   "metadata": {},
   "outputs": [
    {
     "data": {
      "text/plain": [
       "Basis(poscar=array([[ 4.00771850e+00,  0.00000000e+00, -0.00000000e+00],\n",
       "       [ 2.00385925e+00,  3.47078603e+00,  5.06700000e-13],\n",
       "       [ 2.00385925e+00,  1.15692868e+00,  3.27228845e+00]]), basis=array([[ 2.49518523e-01, -1.44059586e-01, -1.01865510e-01],\n",
       "       [-0.00000000e+00,  2.88119173e-01, -1.01865511e-01],\n",
       "       [ 0.00000000e+00, -4.46140330e-14,  3.05596531e-01]]))"
      ]
     },
     "execution_count": null,
     "metadata": {},
     "output_type": "execute_result"
    }
   ],
   "source": [
    "get_basis([[ 4.00771850e+00,  0.00000000e+00, -0.00000000e+00],\n",
    "       [ 2.00385925e+00,  3.47078603e+00,  5.06700000e-13],\n",
    "       [ 2.00385925e+00,  1.15692868e+00,  3.27228845e+00]])"
   ]
  },
  {
   "cell_type": "markdown",
   "metadata": {},
   "source": [
    "## KPOINTS Mesh for Fermi Surface Calculations\n",
    "- The command `get_kmesh` generates a uniform grid in first (primitive) Brillouin zone.\n",
    "- The POSCAR is used to get ratios of side lengths in first BZ. Use relaxed and same POSCAR you will use in actual calculations. If you use Vasp's auto generated mesh, use ISYM = -1 to list all points and points inside BZ will be filtered later on while plotting Fermi Surface.\n",
    "- KPOINTS are written on `outfile` provided, if `outfile = None`, thn BZ data object is returned. \n",
    "- IBZKPT file path could be given to argument `ibzkpt` to include it automatically, this is important to include for HSE calculations with `weight = 0`. If `weight = None`, weights are distributed uniformly.\n",
    "- If you provide `n_xyz = integer`,(recommended for auto uniform mesh), all sides have same number of points unless you provide `poscar` too, in that case `n_xyz` is chosen for smallest side in reciprocal space and other sides are scaled based on their lengths according to given POSCAR. "
   ]
  },
  {
   "cell_type": "code",
   "execution_count": null,
   "metadata": {},
   "outputs": [],
   "source": [
    "#export\n",
    "def get_kmesh(n_xyz=[5,5,5],weight = None, ibzkpt= None,poscar=None,outfile=None):\n",
    "    \"\"\"\n",
    "    - Generates uniform mesh of kpoints. Options are write to file, or return KPOINTS list.\n",
    "    - **Parameters**\n",
    "        - n_xyz  : List of [nx ny nz] or integer. If integer given, it represents numbers of kpoints along smallest side in reciprocal space and kmesh is autoscaled.\n",
    "        - weight : Float, if None, auto generates weights.\n",
    "        - ibzkpt : Path to ibzkpt file, required for HSE calculations.\n",
    "        - poscar : POSCAR file or real space lattice vectors, if None, cubic symmetry is used and it is fast.\n",
    "        - outfile: Path/to/file to write kpoints.\n",
    "    - **Attributes**\n",
    "        - If `outfile = None`, a tuple is returned which consists of:\n",
    "            - nkpts   : get_kmesh().nkpts.\n",
    "            - kpoints : get_kmesh().kpoints.\n",
    "            - weight  : get_kmesh().weight, its one float number, provided or calculated.\n",
    "    \"\"\"\n",
    "    if type(n_xyz) == int:\n",
    "        nx,ny,nz = n_xyz,n_xyz,n_xyz\n",
    "    else:\n",
    "        nx,ny,nz = [n for n in n_xyz]\n",
    "    \n",
    "    if poscar and type(n_xyz) == int:\n",
    "        Basis = get_basis(poscar)\n",
    "        weights = np.linalg.norm(Basis.basis,axis=1)\n",
    "        weights = weights/np.min(weights) # For making smallest side at given n_xyz\n",
    "        nx, ny, nz = np.rint(weights*n_xyz).astype(int)\n",
    "\n",
    "    points = []\n",
    "    for k in np.linspace(0,1,nz):\n",
    "        for j in np.linspace(0,1,ny):\n",
    "            for i in np.linspace(0,1,nx):\n",
    "                points.append([i,j,k])\n",
    "    points = np.array(points)\n",
    "    points[np.abs(points) < 1e-10] = 0\n",
    "    top_info=''\n",
    "\n",
    "    if len(points) == 0:\n",
    "        return print('No KPOINTS in BZ from given input. Try larger input!')\n",
    "    if weight == None and len(points) != 0:\n",
    "        weight = float(1/len(points))\n",
    "    out_str = [\"{0:>16.10f}{1:>16.10f}{2:>16.10f}{3:>12.6f}\".format(x,y,z,weight) for x,y,z in points]\n",
    "    out_str = '\\n'.join(out_str)\n",
    "    N = len(points)\n",
    "    if ibzkpt != None:\n",
    "        if os.path.isfile(ibzkpt):\n",
    "            f = open(ibzkpt,'r')\n",
    "            lines = f.readlines()\n",
    "            f.close()\n",
    "            N = int(lines[1].strip())+N # Update N.\n",
    "            slines = lines[3:N+4]\n",
    "            ibz_str = ''.join(slines)\n",
    "            out_str = \"{}\\n{}\".format(ibz_str,out_str) # Update out_str\n",
    "    top_str = \"Automatically generated uniform mesh using PivotPy with {}x{}x{} grid{}\\n\\t{}\\nReciprocal Lattice\".format(nx,ny,nz,top_info,N)\n",
    "    out_str = \"{}\\n{}\".format(top_str,out_str)\n",
    "    if outfile != None:\n",
    "        f = open(outfile,'w')\n",
    "        f.write(out_str)\n",
    "        f.close()\n",
    "    else:\n",
    "        mesh = namedtuple('Mesh',['nkpts','kpoints','weight'])\n",
    "        return mesh(N,points,weight)"
   ]
  },
  {
   "cell_type": "code",
   "execution_count": null,
   "metadata": {},
   "outputs": [
    {
     "data": {
      "text/plain": [
       "27"
      ]
     },
     "execution_count": null,
     "metadata": {},
     "output_type": "execute_result"
    }
   ],
   "source": [
    "get_kmesh(n_xyz=[3,3,3],poscar=[[1,1,0],[0,1,1],[1,0,0.5]]).nkpts"
   ]
  },
  {
   "cell_type": "code",
   "execution_count": null,
   "metadata": {},
   "outputs": [],
   "source": [
    "#export\n",
    "def centroid(points):\n",
    "    \"\"\"\n",
    "    - Returns centroid of a list of 3D points.\n",
    "    - **Parameters**\n",
    "        - points: List[List(len=3)]\n",
    "    \"\"\"\n",
    "    _x = [p[0] for p in points]\n",
    "    _y = [p[1] for p in points]\n",
    "    _z = [p[2] for p in points]\n",
    "    _len = len(points)\n",
    "    _x = sum(_x) / _len\n",
    "    _y = sum(_y) / _len\n",
    "    _z = sum(_z) / _len\n",
    "    center = np.array([_x, _y,_z])\n",
    "    return center\n",
    "\n",
    "def order(points):\n",
    "    \"\"\"\n",
    "    - Returns counterclockwise ordered vertices of a plane in 3D. Append first vertex at end to make loop.\n",
    "    - **Parameters**\n",
    "        - points: List[List(len=3)]\n",
    "    \"\"\"\n",
    "    center = centroid(points)\n",
    "    ex = [p-c for p,c in zip(points[0],center)]\n",
    "    ey = np.cross(center,ex)\n",
    "    ex = ex/np.linalg.norm(ex)  # i\n",
    "    ey = ey/np.linalg.norm(ey)  # j\n",
    "    angles= []\n",
    "    for i in range(0,len(points)):\n",
    "        v = [p-c for p,c in zip(points[i],center)]\n",
    "        vx = np.dot(v,ex)\n",
    "        vy = np.dot(v,ey)\n",
    "        #print(np.sign(vx),np.sign(vy))\n",
    "        theta = np.arctan(abs(vy/vx))\n",
    "        angle = theta # start\n",
    "        if np.sign(vx) == 1 and np.sign(vy) == 1:\n",
    "            angle = theta\n",
    "        if np.sign(vx) == -1 and np.sign(vy) == 1:\n",
    "            angle = np.pi - theta\n",
    "        if np.sign(vx) == -1 and np.sign(vy) == -1:\n",
    "            angle = np.pi + theta\n",
    "        if np.sign(vx) == 1 and np.sign(vy) == -1:\n",
    "            angle = 2*np.pi - theta\n",
    "        if vx == 0 and np.sign(vy) == -1:\n",
    "            angle = 3*np.pi/2\n",
    "        if vx == 0 and np.sign(vy) == 1:\n",
    "            angle = np.pi/2\n",
    "        if np.sign(vx) == -1 and vy == 0:\n",
    "            angle = np.pi\n",
    "        if np.sign(vx) == 1 and vy == 0:\n",
    "            angle = 2*np.pi\n",
    "        angles.append([i,angle])\n",
    "    #print(angles)\n",
    "    s_angs = np.array(angles)\n",
    "    ss= s_angs[s_angs[:,1].argsort()]\n",
    "    #print(ss)\n",
    "    o_pts =[]\n",
    "    for s in ss[:,0]:\n",
    "        pt = np.array(points[int(s)])\n",
    "        o_pts.append(pt)\n",
    "    o_pts.append(np.array(o_pts[0]))\n",
    "    return np.array(o_pts)\n",
    "\n",
    "\n",
    "def out_bz_plane(test_point,plane):\n",
    "    \"\"\"\n",
    "    - Returns True if test_point is between plane and origin. Could be used to sample BZ mesh in place of ConvexHull.\n",
    "    - **Parameters**\n",
    "        - test_points: 3D point.\n",
    "        - plane      : List of at least three coplanar points.\n",
    "    \"\"\"\n",
    "    outside = True\n",
    "    p_test = np.array(test_point)\n",
    "    plane = np.unique(plane,axis=0) #Avoid looped shape. \n",
    "    c = np.array(centroid(plane))\n",
    "    _dot_ = np.dot(p_test-c,c)\n",
    "    if _dot_ < -1e-5:\n",
    "        outside = False\n",
    "    return outside\n",
    "\n",
    "\n",
    "def rad_angle(v1,v2):\n",
    "    \"\"\"\n",
    "    - Returns interier angle between two vectors.\n",
    "    - **Parameters**\n",
    "        - v1,v2 : Two vectors/points in 3D.\n",
    "    \"\"\"\n",
    "    v1 = np.array(v1)\n",
    "    v2 = np.array(v2)\n",
    "    norm  = np.linalg.norm(v1)*np.linalg.norm(v2)\n",
    "    dot_p = np.round(np.dot(v1,v2)/norm,12)\n",
    "    angle = np.arccos(dot_p)\n",
    "    return angle\n",
    "\n",
    "def arctan_full(perp,base):\n",
    "    \"\"\"\n",
    "    - Returns full angle from x-axis counter clockwise.\n",
    "    - **Parameters**\n",
    "        - perp: Perpendicular componet of vector including sign.\n",
    "        - base: Base compoent of vector including sign.\n",
    "    \"\"\"\n",
    "    vy = perp\n",
    "    vx = base\n",
    "    angle = 0  # Place hodler to handle exceptions\n",
    "    if vx == 0 and np.sign(vy) == -1:\n",
    "        angle = 3*np.pi/2\n",
    "    elif vx == 0 and np.sign(vy) == 1:\n",
    "        angle = np.pi/2\n",
    "    else:\n",
    "        theta = abs(np.arctan(vy/vx))\n",
    "        if np.sign(vx) == 1 and np.sign(vy) == 1:\n",
    "            angle = theta\n",
    "        if np.sign(vx) == -1 and np.sign(vy) == 1:\n",
    "            angle = np.pi - theta\n",
    "        if np.sign(vx) == -1 and np.sign(vy) == -1:\n",
    "            angle = np.pi + theta\n",
    "        if np.sign(vx) == 1 and np.sign(vy) == -1:\n",
    "            angle = 2*np.pi - theta\n",
    "        if np.sign(vx) == -1 and vy == 0:\n",
    "            angle = np.pi\n",
    "        if np.sign(vx) == 1 and vy == 0:\n",
    "            angle = 2*np.pi\n",
    "    return angle"
   ]
  },
  {
   "cell_type": "code",
   "execution_count": null,
   "metadata": {},
   "outputs": [
    {
     "name": "stdout",
     "output_type": "stream",
     "text": [
      "Interier Angle: 1.1071487177940433\nAngle with x-axis: 1.5707963267948966\n"
     ]
    }
   ],
   "source": [
    "import numpy as np\n",
    "print(\"Interier Angle:\",rad_angle([0,0.1,0],[0,0.5,1]))\n",
    "print(\"Angle with x-axis:\",arctan_full(1,0))"
   ]
  },
  {
   "cell_type": "code",
   "execution_count": null,
   "metadata": {},
   "outputs": [],
   "source": [
    "#export\n",
    "def get_bz(poscar = None,loop = True,digits=8,primitive=False):\n",
    "    \"\"\"\n",
    "    - Return required information to construct first Brillouin zone in form of tuple (basis, normals, vertices, faces).\n",
    "    - **Parameters**\n",
    "        - poscar : POSCAR file or list of 3 vectors in 3D aslist[list,list,list].\n",
    "        - loop   : If True, joins the last vertex of a BZ plane to starting vertex in order to complete loop.\n",
    "        - digits : int, rounding off decimal places, no effect on intermediate calculations, just for pretty final results.\n",
    "        - primitive: Defualt is False and returns Wigner-Seitz cell, If True returns parallelipiped in rec_basis. \n",
    "    - **Attributes**\n",
    "        - basis   : get_bz().basis, recprocal lattice basis.\n",
    "        - normals : get_bz().normals, all vertors that are perpendicular BZ faces/planes.\n",
    "        - vertices: get_bz().vertices, all vertices of BZ, could be input into ConvexHull for constructing 3D BZ.\n",
    "        - faces   : get_bz().faces, vertices arranged into faces, could be input to Poly3DCollection of matplotlib for creating BZ from faces' patches.\n",
    "        - specials : get_bz().specials, Data with attributes `coords` and `kpoints` in on-one correspondence for high symmetry KPOINTS in recirprocal coordinates space.\n",
    "    \"\"\"\n",
    "    Basis = get_basis(poscar) # Reads \n",
    "    b1, b2, b3 = Basis.basis # basis are reciprocal basis\n",
    "    #s_f= np.sqrt(np.dot(b1,b1)) # Do not scale to 1, it makes difficult to compare to lattices\n",
    "    #b1,b2,b3 = b1/s_f,b2/s_f,b3/s_f # Normalize vectors\n",
    "    basis = np.array([b1,b2,b3])\n",
    "    # Get all vectors for BZ\n",
    "    if primitive:\n",
    "        b0 = np.array([0,0,0])\n",
    "        bd = b1+b2+b3 #Diagonal point\n",
    "        faces = [[b0, b1, b1+b2, b2],\n",
    "                 [b0,b2,b2+b3,b3],\n",
    "                 [b0,b3,b3+b1,b1],\n",
    "                 [b1,b1+b2,b1+b3,bd],\n",
    "                 [b2,b2+b1,b2+b3,bd],\n",
    "                 [b3,b3+b1,b3+b2,bd]]\n",
    "    else:\n",
    "        vectors = []\n",
    "        for i,j,k in product([0,1,-1],[0,1,-1],[0,1,-1]):\n",
    "            vectors.append(i*b1+j*b2+k*b3)\n",
    "        vectors = np.array(vectors)\n",
    "        # Generate voronoi diagram\n",
    "        vor = Voronoi(vectors)\n",
    "        faces = []\n",
    "        vrd = vor.ridge_dict\n",
    "        for r in vrd:\n",
    "            if r[0] == 0 or r[1] == 0:\n",
    "                verts_in_face = np.array([vor.vertices[i] for i in vrd[r]])\n",
    "                faces.append(verts_in_face)\n",
    "        faces = np.array(faces)\n",
    "\n",
    "    verts = [v for vs in faces for v in vs]\n",
    "    verts = np.unique(verts,axis=0)\n",
    "\n",
    "    face_vectors = []\n",
    "    for f in faces:\n",
    "        face_vectors.append(2*centroid(f))\n",
    "    if loop == True:\n",
    "        faces = [order(face) for face in faces] # order in a loop\n",
    "    # High symmerty KPOINTS in primitive BZ (positive only)\n",
    "    mid_faces = np.array([centroid(np.unique(face,axis=0)) for face in faces])\n",
    "    mid_edges = []\n",
    "    for f in faces:\n",
    "        for i in range(len(f)-1):\n",
    "            # Do not insert point between unique vertices\n",
    "            if np.isclose(np.linalg.norm(f[i]),np.linalg.norm(f[i+1])):\n",
    "                mid_edges.append(centroid([f[i],f[i+1]]))\n",
    "    if mid_edges!=[]:\n",
    "        mid_edges = np.unique(mid_edges,axis=0) # because faces share edges\n",
    "        mid_faces = np.concatenate([mid_faces,mid_edges])\n",
    "    # Bring all high symmetry points together.\n",
    "    mid_all = np.concatenate([[[0,0,0]],mid_faces,verts]) # Coords\n",
    "    mid_basis_all = np.array([np.linalg.solve(basis.T,v) for v in mid_all]) # Kpoints\n",
    "\n",
    "    # Round off results\n",
    "    mid_all_p    = np.round(mid_all,digits) # Coordinates\n",
    "    mid_basis_p  = np.round(mid_basis_all,digits) # Relative points\n",
    "    bais         = np.round(basis,digits)\n",
    "    face_vectors = np.round(face_vectors,digits)\n",
    "    verts        = np.round(verts,digits)\n",
    "    faces        = [np.round(face,digits) for face in faces]\n",
    "    one_to_one   = vp.Dict2Data({'coords': mid_all_p ,'kpoints': mid_basis_p})\n",
    "    #one_to_one   = {tuple(x):tuple(y) for x,y in zip(mid_basis_p,mid_all_p)}\n",
    "    BZ = namedtuple('BZ', ['basis', 'normals','vertices','faces','specials'])\n",
    "    return BZ(basis,face_vectors,verts,np.array(faces),one_to_one)"
   ]
  },
  {
   "cell_type": "code",
   "execution_count": null,
   "metadata": {},
   "outputs": [
    {
     "name": "stdout",
     "output_type": "stream",
     "text": [
      "[[-0.99598619  0.99598619  0.99598619]\n [ 0.99598619 -0.99598619  0.99598619]\n [ 0.99598619  0.99598619 -0.99598619]]\n[-0.  0.  0.] --> [0. 0. 0.]\n[ 0.5 -0.   0.5] --> [ 0.     0.996 -0.   ]\n[0.5 0.  0. ] --> [-0.498  0.498  0.498]\n[0.5 0.5 0. ] --> [ 0.    -0.     0.996]\n[-0.   0.5  0.5] --> [ 0.996 -0.    -0.   ]\n[0.5 0.5 0.5] --> [0.498 0.498 0.498]\n[-0.  -0.5  0. ] --> [-0.498  0.498 -0.498]\n[-0.   0.   0.5] --> [ 0.498  0.498 -0.498]\n[-0.5  0.  -0.5] --> [ 0.    -0.996  0.   ]\n[-0.5 -0.5 -0.5] --> [-0.498 -0.498 -0.498]\n"
     ]
    }
   ],
   "source": [
    "import numpy as np\n",
    "from pivotpy.sio import centroid,order\n",
    "bbya = 1.2\n",
    "cbya = 0.8\n",
    "ofco = [[1,bbya,0],[-1,bbya,0],[0,0,cbya]]\n",
    "bco = [[1,bbya,cbya],[-1,bbya,cbya],[-1,-bbya,cbya]]\n",
    "fco = [[1,0,cbya],[1,bbya,0],[0,bbya,cbya]]\n",
    "bcc = [[1,1,1],[-1,1,1],[-1,-1,1]]\n",
    "cube = [[1,0,0],[0,1,0],[0,0,1]]\n",
    "hexa = [[1,0,0],[0.5,np.sqrt(3)/2,0],[0,0,1]]\n",
    "\n",
    "ctg = [[1,1,cbya],[1,-1,cbya],[-1,-1,cbya]]\n",
    "tgl = [[0.81915,-0.472937,0.94923],[0,0.94587,0.94923],[-0.81915,-0.472937,0.94923]]\n",
    "fcc =[[0.0000000000000000,    0.5020149905223673,    0.5020149905223673],\n",
    "    [0.5020149905223673,    0.0000000000000000,    0.5020149905223673],\n",
    "     [0.5020149905223673,    0.5020149905223673,    0.0000000000000000]]\n",
    "\n",
    "basis,normals,vertices,faces,specials = get_bz(fcc,digits=4)\n",
    "print(basis)\n",
    "for k,v in zip(specials.coords[:10],specials.kpoints[:10]):\n",
    "    print(v,'-->',k)"
   ]
  },
  {
   "cell_type": "code",
   "execution_count": null,
   "metadata": {},
   "outputs": [],
   "source": [
    "#export\n",
    "def splot_bz(poscar_or_bz = None, ax = None, plane=None,color='blue',fill=True,vectors=True,v3=False,vname='b'):\n",
    "    \"\"\"\n",
    "    - Plots matplotlib's static figure.\n",
    "    - **Parameters**\n",
    "        - pocar_or_bz: POSCAR or 3 basis vectors' list forming POSCAR. Auto picks in working directory. Plot conventional BZ if poscar is given. If you want to plot primitive BZ, first create it using `get_bz(primitive=True)`.\n",
    "        - fill       : True by defult, determines whether to fill surface of BZ or not.\n",
    "        - color      : color to fill surface and stroke color.\n",
    "        - vectors    : Plots basis vectors, default is True.\n",
    "        - v3         : Plots 3rd vector as well. Only works in 2D and when `vectors=True`. \n",
    "        - plane      : Default is None and plots 3D surface. Can take 'xy','yz','zx' to plot in 2D. \n",
    "        - ax         : Auto generated by default, 2D/3D axes, auto converts in 3D on demand as well.\n",
    "        - vname      : Default is `b` for reciprocal space, can set `a` for plotting cell as after `get_bz(get_bz().basis)` you get real space lattice back if `primitive=True` both times. \n",
    "    - **Returns**\n",
    "        - ax   : Matplotlib's 2D axes if `plane=None`.\n",
    "        - ax3d : Matplotlib's 2D axes if `plane` is given. \n",
    "    \"\"\"\n",
    "    if poscar_or_bz == None:\n",
    "        bz = get_bz(poscar_or_bz)\n",
    "    else:\n",
    "        try:\n",
    "            poscar_or_bz.basis\n",
    "            bz = poscar_or_bz\n",
    "        except AttributeError:\n",
    "            bz = get_bz(poscar_or_bz)\n",
    "\n",
    "    if not ax: #For both 3D and 2D, initialize 2D axis. \n",
    "        ax = sp.init_figure(figsize=(3.4,3.4)) #For better display\n",
    "\n",
    "    _label = r'\\vec{}'.format(vname) # For both\n",
    "\n",
    "    valid_planes = 'xyzx' # cylic\n",
    "    if plane and plane not in valid_planes:\n",
    "        return print(f\"`plane` expects any of ['xy','yz','zx',None], got {plane!r}\")\n",
    "    elif plane and plane in valid_planes: #Project 2D\n",
    "        faces = bz.faces\n",
    "        i, j = ([0,1] if plane=='xy' else [1,2] if plane=='yz' else [2,0])\n",
    "        _ = [ax.plot(f[:,i],f[:,j],color=(color),lw=1) for f in faces]\n",
    "\n",
    "        if vectors:\n",
    "            if v3:\n",
    "                s_basis = bz.basis \n",
    "            else:\n",
    "                s_basis = bz.basis[[i,j]] # Only two. \n",
    "            for k,y in enumerate(s_basis):\n",
    "                ax.text(0.8*y[i],0.8*y[j],r\" ${}_{}$\".format(_label,k+1),va='bottom',ha='left')\n",
    "                ax.plot([0,y[i]],[0,y[j]],color='k',lw=0.8) # Must be to scale below arrow. \n",
    "                ax.arrow(0,0,y[i],y[j],lw=0.8,capstyle='butt',head_width=0.03,color='k')\n",
    "\n",
    "        ax.set_xlabel(r\"$k_{}$\".format(valid_planes[i]))\n",
    "        ax.set_ylabel(r\"$k_{}$\".format(valid_planes[j]))\n",
    "        return ax \n",
    "    else: # Plot 3D\n",
    "        if ax and ax.name == \"3d\":\n",
    "            ax3d = ax \n",
    "        else:\n",
    "            pos = ax.get_position()\n",
    "            fig = ax.get_figure()\n",
    "            ax.remove()\n",
    "            ax3d = fig.add_axes(pos,projection='3d',azim=45,elev=30)\n",
    "\n",
    "        if fill:\n",
    "            poly = Poly3DCollection(bz.faces,edgecolors=[color,],facecolors=[color,], alpha=0.3)\n",
    "            ax3d.add_collection3d(poly)\n",
    "            ax3d.autoscale_view()\n",
    "        else:\n",
    "            _ = [ax3d.plot3D(f[:,0],f[:,1],f[:,2],color=(color),lw=0.8) for f in bz.faces]\n",
    "        \n",
    "        if vectors:\n",
    "            orig, sv = [0,0,0],0.25*bz.basis\n",
    "            ax3d.quiver(orig,orig,orig,sv[:,0],sv[:,1],sv[:,2], normalize=False,lw=0.8,color='k',arrow_length_ratio=0.25)\n",
    "\n",
    "            for k,y in enumerate(0.35*bz.basis):\n",
    "                ax3d.text(y[0],y[1],y[2],r\"${}_{}$\".format(_label,k+1),va='center',ha='center')\n",
    "        \n",
    "\n",
    "        l_ = np.min(bz.vertices,axis=0)\n",
    "        h_ = np.max(bz.vertices,axis=0)\n",
    "        ax3d.set_xlim([l_[0],h_[0]])\n",
    "        ax3d.set_ylim([l_[1],h_[1]])\n",
    "        ax3d.set_zlim([l_[2],h_[2]])\n",
    "\n",
    "        ax3d.set_xlabel(r\"$k_{}$\".format('x'))\n",
    "        ax3d.set_ylabel(r\"$k_{}$\".format('y'))\n",
    "        ax3d.set_zlabel(r\"$k_{}$\".format('z'))\n",
    "        return ax3d\n",
    "\n"
   ]
  },
  {
   "cell_type": "code",
   "execution_count": null,
   "metadata": {},
   "outputs": [
    {
     "data": {
      "text/html": "<svg height=\"144pt\" version=\"1.1\" viewBox=\"0 0 648 144\" width=\"648pt\" xmlns=\"http://www.w3.org/2000/svg\" xmlns:xlink=\"http://www.w3.org/1999/xlink\">\r\n <defs>\r\n  <style type=\"text/css\">\r\n*{stroke-linecap:butt;stroke-linejoin:round;}\r\n  </style>\r\n </defs>\r\n <g id=\"figure_1\">\r\n  <g id=\"patch_1\">\r\n   <path d=\"M 0 144 \r\nL 648 144 \r\nL 648 0 \r\nL 0 0 \r\nz\r\n\" style=\"fill:none;\"/>\r\n  </g>\r\n  <g id=\"axes_1\">\r\n   <g id=\"patch_2\">\r\n    <path clip-path=\"url(#pcdddf31fdf)\" d=\"M 187.532171 122.342104 \r\nL 184.764842 121.799454 \r\nL 185.196575 121.082891 \r\nL 125.647168 88.137436 \r\nL 125.676943 88.088018 \r\nL 185.22635 121.033473 \r\nL 185.658083 120.316909 \r\nz\r\n\" style=\"stroke:#000000;stroke-linejoin:miter;stroke-width:0.8;\"/>\r\n   </g>\r\n   <g id=\"patch_3\">\r\n    <path clip-path=\"url(#pcdddf31fdf)\" d=\"M 125.662055 19.653974 \r\nL 126.555297 22.221818 \r\nL 125.69183 22.221818 \r\nL 125.69183 88.112727 \r\nL 125.632281 88.112727 \r\nL 125.632281 22.221818 \r\nL 124.768814 22.221818 \r\nz\r\n\" style=\"stroke:#000000;stroke-linejoin:miter;stroke-width:0.8;\"/>\r\n   </g>\r\n   <g id=\"line2d_1\">\r\n    <path clip-path=\"url(#pcdddf31fdf)\" d=\"M 145.511858 55.167273 \r\nL 105.812253 55.167273 \r\nL 85.962451 88.112727 \r\nL 105.812253 121.058182 \r\nL 145.511858 121.058182 \r\nL 165.36166 88.112727 \r\nL 145.511858 55.167273 \r\n\" style=\"fill:none;stroke:#b20080;stroke-linecap:square;\"/>\r\n   </g>\r\n   <g id=\"line2d_2\">\r\n    <path clip-path=\"url(#pcdddf31fdf)\" d=\"M 105.812253 121.058182 \r\nL 85.962451 88.112727 \r\nL 105.812253 55.167273 \r\nL 145.511858 55.167273 \r\nL 165.36166 88.112727 \r\nL 145.511858 121.058182 \r\nL 105.812253 121.058182 \r\n\" style=\"fill:none;stroke:#b20080;stroke-linecap:square;\"/>\r\n   </g>\r\n   <g id=\"line2d_3\">\r\n    <path clip-path=\"url(#pcdddf31fdf)\" d=\"M 145.511858 121.058182 \r\nL 105.812253 121.058182 \r\nL 105.812253 121.058182 \r\nL 145.511858 121.058182 \r\nL 145.511858 121.058182 \r\n\" style=\"fill:none;stroke:#b20080;stroke-linecap:square;\"/>\r\n   </g>\r\n   <g id=\"line2d_4\">\r\n    <path clip-path=\"url(#pcdddf31fdf)\" d=\"M 145.511858 121.058182 \r\nL 165.36166 88.112727 \r\nL 165.36166 88.112727 \r\nL 145.511858 121.058182 \r\nL 145.511858 121.058182 \r\n\" style=\"fill:none;stroke:#b20080;stroke-linecap:square;\"/>\r\n   </g>\r\n   <g id=\"line2d_5\">\r\n    <path clip-path=\"url(#pcdddf31fdf)\" d=\"M 145.511858 55.167273 \r\nL 145.511858 55.167273 \r\nL 105.812253 55.167273 \r\nL 105.812253 55.167273 \r\nL 145.511858 55.167273 \r\n\" style=\"fill:none;stroke:#b20080;stroke-linecap:square;\"/>\r\n   </g>\r\n   <g id=\"line2d_6\">\r\n    <path clip-path=\"url(#pcdddf31fdf)\" d=\"M 165.36166 88.112727 \r\nL 165.36166 88.112727 \r\nL 145.511858 55.167273 \r\nL 145.511858 55.167273 \r\nL 165.36166 88.112727 \r\n\" style=\"fill:none;stroke:#b20080;stroke-linecap:square;\"/>\r\n   </g>\r\n   <g id=\"line2d_7\">\r\n    <path clip-path=\"url(#pcdddf31fdf)\" d=\"M 105.812253 55.167273 \r\nL 85.962451 88.112727 \r\nL 85.962451 88.112727 \r\nL 105.812253 55.167273 \r\nL 105.812253 55.167273 \r\n\" style=\"fill:none;stroke:#b20080;stroke-linecap:square;\"/>\r\n   </g>\r\n   <g id=\"line2d_8\">\r\n    <path clip-path=\"url(#pcdddf31fdf)\" d=\"M 85.962451 88.112727 \r\nL 85.962451 88.112727 \r\nL 105.812253 121.058182 \r\nL 105.812253 121.058182 \r\nL 85.962451 88.112727 \r\n\" style=\"fill:none;stroke:#b20080;stroke-linecap:square;\"/>\r\n   </g>\r\n   <g id=\"line2d_9\">\r\n    <path clip-path=\"url(#pcdddf31fdf)\" d=\"M 125.662055 88.112727 \r\nL 185.211462 121.058182 \r\n\" style=\"fill:none;stroke:#000000;stroke-linecap:square;stroke-width:0.8;\"/>\r\n   </g>\r\n   <g id=\"line2d_10\">\r\n    <path clip-path=\"url(#pcdddf31fdf)\" d=\"M 125.662055 88.112727 \r\nL 125.662055 22.221818 \r\n\" style=\"fill:none;stroke:#000000;stroke-linecap:square;stroke-width:0.8;\"/>\r\n   </g>\r\n   <g id=\"text_1\">\r\n    <!--  $\\vecb_1$ -->\r\n    <defs>\r\n     <path id=\"STIXGeneral-Regular-32\"/>\r\n     <path d=\"M -1.703125 65.40625 \r\nL -14.90625 54.796875 \r\nL -16.703125 55.59375 \r\nQ -11.796875 59.703125 -11.796875 61.203125 \r\nQ -11.796875 62.703125 -16.703125 62.703125 \r\nL -45.296875 62.703125 \r\nL -45.296875 68.09375 \r\nL -16.703125 68.09375 \r\nQ -11.796875 68.09375 -11.796875 69.59375 \r\nQ -11.796875 69.90625 -12 70.25 \r\nQ -12.203125 70.59375 -12.75 71.140625 \r\nQ -13.296875 71.703125 -13.75 72.203125 \r\nQ -14.203125 72.703125 -15.203125 73.640625 \r\nQ -16.203125 74.59375 -16.796875 75.203125 \r\nL -15 76 \r\nz\r\n\" id=\"STIXGeneral-Regular-8407\"/>\r\n     <path d=\"M 16.296875 29 \r\nL 16.40625 29 \r\nQ 21.40625 37.296875 25.84375 40.6875 \r\nQ 30.296875 44.09375 35.703125 44.09375 \r\nQ 40.90625 44.09375 44.09375 40.890625 \r\nQ 47.296875 37.703125 47.296875 32.09375 \r\nQ 47.296875 24.40625 42.59375 16.59375 \r\nQ 37.90625 8.796875 30.34375 3.84375 \r\nQ 22.796875 -1.09375 15.296875 -1.09375 \r\nQ 10.703125 -1.09375 6.5 0.5 \r\nQ 2.296875 2.09375 2.296875 4.203125 \r\nL 2.296875 4.796875 \r\nL 16.5 57.09375 \r\nQ 17.40625 60.703125 17.40625 61.796875 \r\nQ 17.40625 63.40625 16.453125 63.75 \r\nQ 15.5 64.09375 11 64.296875 \r\nL 11 66 \r\nQ 18.5 66.90625 26.296875 68.296875 \r\nL 26.796875 67.796875 \r\nL 24.703125 59.59375 \r\nz\r\nM 38.796875 30.59375 \r\nQ 38.796875 39.203125 31.796875 39.203125 \r\nQ 24.90625 39.203125 18.09375 27.703125 \r\nQ 14.90625 22.296875 12.90625 15.75 \r\nQ 10.90625 9.203125 10.90625 4.59375 \r\nQ 10.90625 1.203125 15.5 1.203125 \r\nQ 22.09375 1.203125 27.796875 7.09375 \r\nQ 32.40625 11.90625 35.59375 18.546875 \r\nQ 38.796875 25.203125 38.796875 30.59375 \r\nz\r\n\" id=\"STIXGeneral-Italic-98\"/>\r\n     <path d=\"M 39.40625 0 \r\nL 11.796875 0 \r\nL 11.796875 1.5 \r\nQ 17.296875 1.796875 19.296875 3.546875 \r\nQ 21.296875 5.296875 21.296875 9.5 \r\nL 21.296875 54.40625 \r\nQ 21.296875 59.296875 18.296875 59.296875 \r\nQ 16.90625 59.296875 13.796875 58.09375 \r\nL 11.09375 57.09375 \r\nL 11.09375 58.5 \r\nL 29 67.59375 \r\nL 29.90625 67.296875 \r\nL 29.90625 7.59375 \r\nQ 29.90625 4.296875 31.90625 2.890625 \r\nQ 33.90625 1.5 39.40625 1.5 \r\nz\r\n\" id=\"STIXGeneral-Regular-49\"/>\r\n    </defs>\r\n    <g transform=\"translate(173.301581 112.298778)scale(0.1 -0.1)\">\r\n     <use xlink:href=\"#STIXGeneral-Regular-32\"/>\r\n     <use transform=\"translate(76.54686 26)\" xlink:href=\"#STIXGeneral-Regular-8407\"/>\r\n     <use transform=\"translate(24.999985 0)\" xlink:href=\"#STIXGeneral-Italic-98\"/>\r\n     <use transform=\"translate(76.543251 -13.228125)scale(0.7)\" xlink:href=\"#STIXGeneral-Regular-49\"/>\r\n    </g>\r\n   </g>\r\n   <g id=\"text_2\">\r\n    <!--  $\\vecb_2$ -->\r\n    <defs>\r\n     <path d=\"M 47.40625 13.703125 \r\nL 42 0 \r\nL 2.90625 0 \r\nL 2.90625 1.203125 \r\nL 20.703125 20.09375 \r\nQ 27.703125 27.40625 30.703125 33.5 \r\nQ 33.703125 39.59375 33.703125 46.09375 \r\nQ 33.703125 52.796875 30 56.5 \r\nQ 26.296875 60.203125 19.796875 60.203125 \r\nQ 14.40625 60.203125 11.25 57.390625 \r\nQ 8.09375 54.59375 5.09375 47.203125 \r\nL 3 47.703125 \r\nQ 4.703125 57 9.84375 62.296875 \r\nQ 15 67.59375 23.796875 67.59375 \r\nQ 32.09375 67.59375 37.1875 62.59375 \r\nQ 42.296875 57.59375 42.296875 50 \r\nQ 42.296875 38.703125 29.5 25.203125 \r\nL 13 7.59375 \r\nL 36.40625 7.59375 \r\nQ 39.703125 7.59375 41.640625 8.890625 \r\nQ 43.59375 10.203125 46 14.296875 \r\nz\r\n\" id=\"STIXGeneral-Regular-50\"/>\r\n    </defs>\r\n    <g transform=\"translate(125.662055 33.229687)scale(0.1 -0.1)\">\r\n     <use xlink:href=\"#STIXGeneral-Regular-32\"/>\r\n     <use transform=\"translate(76.54686 26)\" xlink:href=\"#STIXGeneral-Regular-8407\"/>\r\n     <use transform=\"translate(24.999985 0)\" xlink:href=\"#STIXGeneral-Italic-98\"/>\r\n     <use transform=\"translate(76.543251 -13.228125)scale(0.7)\" xlink:href=\"#STIXGeneral-Regular-50\"/>\r\n    </g>\r\n   </g>\r\n   <g id=\"text_3\">\r\n    <!-- XY Projection of Regular BZ -->\r\n    <defs>\r\n     <path d=\"M 70.40625 0 \r\nL 40.796875 0 \r\nL 40.796875 1.90625 \r\nL 43.40625 2.09375 \r\nQ 48.40625 2.40625 48.40625 5 \r\nQ 48.40625 7.203125 43.296875 14.796875 \r\nL 33.796875 28.90625 \r\nL 21.90625 14 \r\nQ 16.59375 7.40625 16.59375 5.09375 \r\nQ 16.59375 3.59375 18.25 2.890625 \r\nQ 19.90625 2.203125 24.203125 1.90625 \r\nL 24.203125 0 \r\nL 1 0 \r\nL 1 1.90625 \r\nQ 4.90625 2.296875 7.34375 4.1875 \r\nQ 9.796875 6.09375 15.5 13.296875 \r\nL 31.09375 32.796875 \r\nL 20.5 48.296875 \r\nQ 13.5 58.5 10.390625 61.140625 \r\nQ 7.296875 63.796875 2.203125 64.296875 \r\nL 2.203125 66.203125 \r\nL 32.296875 66.203125 \r\nL 32.296875 64.296875 \r\nL 29.40625 64.203125 \r\nQ 27.09375 64.09375 25.9375 63.5 \r\nQ 24.796875 62.90625 24.796875 61.296875 \r\nQ 24.796875 60.703125 24.9375 60.046875 \r\nQ 25.09375 59.40625 25.546875 58.5 \r\nQ 26 57.59375 26.390625 56.84375 \r\nQ 26.796875 56.09375 27.640625 54.796875 \r\nQ 28.5 53.5 29.09375 52.59375 \r\nQ 29.703125 51.703125 31 49.84375 \r\nQ 32.296875 48 33.09375 46.796875 \r\nL 37.5 40.40625 \r\nL 48.703125 54.40625 \r\nQ 52.703125 59.296875 52.703125 61.09375 \r\nQ 52.703125 62.796875 51.296875 63.5 \r\nQ 49.90625 64.203125 45.90625 64.296875 \r\nL 45.90625 66.203125 \r\nL 69.59375 66.203125 \r\nL 69.59375 64.296875 \r\nQ 64.796875 64 62 62.140625 \r\nQ 59.203125 60.296875 54.40625 54.40625 \r\nL 40.09375 36.703125 \r\nL 59.296875 9.296875 \r\nQ 62.203125 5.09375 64.296875 3.75 \r\nQ 66.40625 2.40625 70.40625 1.90625 \r\nz\r\n\" id=\"STIXGeneral-Regular-88\"/>\r\n     <path d=\"M 70.296875 66.203125 \r\nL 70.296875 64.296875 \r\nQ 65.90625 63.90625 63.34375 61.796875 \r\nQ 60.796875 59.703125 56.5 53.09375 \r\nL 41.703125 30.296875 \r\nL 41.703125 11.09375 \r\nQ 41.703125 5.40625 43.59375 3.796875 \r\nQ 45.5 2.203125 52 1.90625 \r\nL 52 0 \r\nL 21.40625 0 \r\nL 21.40625 1.90625 \r\nQ 28.203125 2.40625 29.84375 4.046875 \r\nQ 31.5 5.703125 31.5 12.296875 \r\nL 31.5 29.40625 \r\nL 18.40625 48.59375 \r\nQ 11.59375 58.59375 8.6875 61.34375 \r\nQ 5.796875 64.09375 2.203125 64.296875 \r\nL 2.203125 66.203125 \r\nL 30.09375 66.203125 \r\nL 30.09375 64.296875 \r\nL 27.703125 64.203125 \r\nQ 23 64.09375 23 61.59375 \r\nQ 23 59.5 24.796875 56.90625 \r\nL 39.40625 34.796875 \r\nL 53.90625 57 \r\nQ 55.296875 59.09375 55.296875 61.203125 \r\nQ 55.203125 62.90625 53.75 63.546875 \r\nQ 52.296875 64.203125 48.5 64.296875 \r\nL 48.5 66.203125 \r\nz\r\n\" id=\"STIXGeneral-Regular-89\"/>\r\n     <path d=\"M 1.59375 66.203125 \r\nL 27.5 66.203125 \r\nQ 41.703125 66.203125 49.203125 59.90625 \r\nQ 54.203125 55.703125 54.203125 48 \r\nQ 54.203125 40 48.5 34.90625 \r\nQ 44.296875 31.09375 39.890625 29.9375 \r\nQ 35.5 28.796875 27.09375 28.796875 \r\nQ 24.203125 28.796875 20.203125 29.09375 \r\nL 20.203125 11.203125 \r\nQ 20.203125 5.5 21.84375 3.84375 \r\nQ 23.5 2.203125 29.59375 1.90625 \r\nL 29.59375 0 \r\nL 1.59375 0 \r\nL 1.59375 1.90625 \r\nQ 7.40625 2.296875 8.703125 4 \r\nQ 10 5.703125 10 12.203125 \r\nL 10 55.09375 \r\nQ 10 60.703125 8.546875 62.296875 \r\nQ 7.09375 63.90625 1.59375 64.296875 \r\nz\r\nM 20.203125 58.90625 \r\nL 20.203125 33.09375 \r\nQ 23.59375 32.796875 26.296875 32.796875 \r\nQ 34.40625 32.796875 38.84375 36.75 \r\nQ 43.296875 40.703125 43.296875 47.5 \r\nQ 43.296875 55.59375 38.6875 59.046875 \r\nQ 34.09375 62.5 23.703125 62.5 \r\nQ 21.59375 62.5 20.890625 61.75 \r\nQ 20.203125 61 20.203125 58.90625 \r\nz\r\n\" id=\"STIXGeneral-Regular-80\"/>\r\n     <path d=\"M 16 45.796875 \r\nL 16 36.59375 \r\nQ 19.796875 42 22.34375 44 \r\nQ 24.90625 46 28 46 \r\nQ 30.59375 46 32.046875 44.59375 \r\nQ 33.5 43.203125 33.5 40.703125 \r\nQ 33.5 38.59375 32.453125 37.390625 \r\nQ 31.40625 36.203125 29.59375 36.203125 \r\nQ 27.703125 36.203125 25.59375 38.203125 \r\nQ 24 39.703125 23 39.703125 \r\nQ 20.90625 39.703125 18.453125 36.796875 \r\nQ 16 33.90625 16 31.5 \r\nL 16 9 \r\nQ 16 4.703125 17.703125 3.203125 \r\nQ 19.40625 1.703125 24.5 1.5 \r\nL 24.5 0 \r\nL 0.5 0 \r\nL 0.5 1.5 \r\nQ 5.296875 2.40625 6.4375 3.5 \r\nQ 7.59375 4.59375 7.59375 8.40625 \r\nL 7.59375 33.40625 \r\nQ 7.59375 36.703125 6.84375 38.046875 \r\nQ 6.09375 39.40625 4.203125 39.40625 \r\nQ 2.59375 39.40625 0.703125 39 \r\nL 0.703125 40.59375 \r\nQ 7 42.59375 15.5 46 \r\nz\r\n\" id=\"STIXGeneral-Regular-114\"/>\r\n     <path d=\"M 47 23.09375 \r\nQ 47 12.59375 40.75 5.796875 \r\nQ 34.5 -1 24.5 -1 \r\nQ 15.296875 -1 9.09375 5.75 \r\nQ 2.90625 12.5 2.90625 22.796875 \r\nQ 2.90625 33.203125 9.09375 39.59375 \r\nQ 15.296875 46 25.40625 46 \r\nQ 34.703125 46 40.84375 39.640625 \r\nQ 47 33.296875 47 23.09375 \r\nz\r\nM 38 20.40625 \r\nQ 38 31.796875 33 38.203125 \r\nQ 29 43.203125 23.5 43.203125 \r\nQ 18.296875 43.203125 15.09375 38.953125 \r\nQ 11.90625 34.703125 11.90625 27.296875 \r\nQ 11.90625 14.5 17.203125 6.796875 \r\nQ 20.59375 1.796875 26.203125 1.796875 \r\nQ 31.703125 1.796875 34.84375 6.75 \r\nQ 38 11.703125 38 20.40625 \r\nz\r\n\" id=\"STIXGeneral-Regular-111\"/>\r\n     <path d=\"M 19.40625 63.203125 \r\nQ 19.40625 61 17.90625 59.546875 \r\nQ 16.40625 58.09375 14.203125 58.09375 \r\nQ 12.09375 58.09375 10.640625 59.546875 \r\nQ 9.203125 61 9.203125 63.203125 \r\nQ 9.203125 65.296875 10.703125 66.796875 \r\nQ 12.203125 68.296875 14.296875 68.296875 \r\nQ 16.40625 68.296875 17.90625 66.796875 \r\nQ 19.40625 65.296875 19.40625 63.203125 \r\nz\r\nM 19.296875 45.703125 \r\nL 19.296875 0 \r\nQ 19.296875 -10.703125 14.9375 -16.25 \r\nQ 10.59375 -21.796875 2.296875 -21.796875 \r\nQ -1.796875 -21.796875 -4.390625 -20.25 \r\nQ -7 -18.703125 -7 -16.296875 \r\nQ -7 -14.703125 -5.796875 -13.546875 \r\nQ -4.59375 -12.40625 -2.90625 -12.40625 \r\nQ -0.59375 -12.40625 1.90625 -15.59375 \r\nQ 4.203125 -18.40625 6.09375 -18.40625 \r\nQ 8.40625 -18.40625 9.5 -16.59375 \r\nQ 10.90625 -14.09375 10.90625 -4.5 \r\nL 10.90625 33.40625 \r\nQ 10.90625 39.40625 7.703125 39.40625 \r\nQ 5.296875 39.40625 3.703125 39.09375 \r\nL 3.203125 39 \r\nL 3.203125 40.59375 \r\nQ 11.203125 43.09375 18.796875 46 \r\nz\r\n\" id=\"STIXGeneral-Regular-106\"/>\r\n     <path d=\"M 40.796875 16.40625 \r\nL 42.40625 15.703125 \r\nQ 36.40625 -1 21.5 -1 \r\nQ 12.703125 -1 7.59375 5.140625 \r\nQ 2.5 11.296875 2.5 21.703125 \r\nQ 2.5 32.40625 8.203125 39.203125 \r\nQ 13.90625 46 23.203125 46 \r\nQ 32.203125 46 37.09375 39.09375 \r\nQ 40 35.09375 40.5 27.703125 \r\nL 9.703125 27.703125 \r\nQ 10.09375 21.40625 10.9375 18.09375 \r\nQ 11.796875 14.796875 14.296875 11.40625 \r\nQ 18.5 5.90625 25.40625 5.90625 \r\nQ 30.296875 5.90625 33.640625 8.296875 \r\nQ 37 10.703125 40.796875 16.40625 \r\nz\r\nM 9.90625 30.90625 \r\nL 30.296875 30.90625 \r\nQ 29.40625 37.203125 27.34375 39.796875 \r\nQ 25.296875 42.40625 20.5 42.40625 \r\nQ 16.296875 42.40625 13.5 39.453125 \r\nQ 10.703125 36.5 9.90625 30.90625 \r\nz\r\n\" id=\"STIXGeneral-Regular-101\"/>\r\n     <path d=\"M 39.796875 15.59375 \r\nL 41.203125 14.703125 \r\nQ 36.90625 6.296875 33 3.203125 \r\nQ 27.90625 -1 21.5 -1 \r\nQ 13.203125 -1 7.84375 5.25 \r\nQ 2.5 11.5 2.5 21.203125 \r\nQ 2.5 33.90625 10.90625 40.90625 \r\nQ 17.09375 46 24.40625 46 \r\nQ 30.703125 46 35.25 42.953125 \r\nQ 39.796875 39.90625 39.796875 35.703125 \r\nQ 39.796875 34 38.390625 32.75 \r\nQ 37 31.5 35.09375 31.5 \r\nQ 31.59375 31.5 30.296875 36.09375 \r\nL 29.703125 38.296875 \r\nQ 28.90625 41.09375 27.703125 42.09375 \r\nQ 26.5 43.09375 23.796875 43.09375 \r\nQ 17.703125 43.09375 13.953125 38.296875 \r\nQ 10.203125 33.5 10.203125 25.703125 \r\nQ 10.203125 17.09375 14.5 11.640625 \r\nQ 18.796875 6.203125 25.703125 6.203125 \r\nQ 30 6.203125 33.09375 8.25 \r\nQ 36.203125 10.296875 39.796875 15.59375 \r\nz\r\n\" id=\"STIXGeneral-Regular-99\"/>\r\n     <path d=\"M 26.59375 7.703125 \r\nL 27.90625 6.59375 \r\nQ 23.09375 -1 15.796875 -1 \r\nQ 7 -1 7 11.703125 \r\nL 7 41.796875 \r\nL 1.703125 41.796875 \r\nQ 1.296875 42.09375 1.296875 42.5 \r\nQ 1.296875 43.296875 3 44.40625 \r\nQ 6.796875 46.59375 12.703125 55.09375 \r\nQ 12.90625 55.40625 13.65625 56.34375 \r\nQ 14.40625 57.296875 14.703125 57.90625 \r\nQ 15.40625 57.90625 15.40625 56.59375 \r\nL 15.40625 45 \r\nL 25.5 45 \r\nL 25.5 41.796875 \r\nL 15.40625 41.796875 \r\nL 15.40625 13.203125 \r\nQ 15.40625 8.40625 16.59375 6.296875 \r\nQ 17.796875 4.203125 20.59375 4.203125 \r\nQ 23.59375 4.203125 26.59375 7.703125 \r\nz\r\n\" id=\"STIXGeneral-Regular-116\"/>\r\n     <path d=\"M 18 63.203125 \r\nQ 18 61 16.5 59.546875 \r\nQ 15 58.09375 12.796875 58.09375 \r\nQ 10.703125 58.09375 9.25 59.546875 \r\nQ 7.796875 61 7.796875 63.203125 \r\nQ 7.796875 65.296875 9.296875 66.796875 \r\nQ 10.796875 68.296875 12.90625 68.296875 \r\nQ 15.09375 68.296875 16.546875 66.796875 \r\nQ 18 65.296875 18 63.203125 \r\nz\r\nM 25.296875 0 \r\nL 1.59375 0 \r\nL 1.59375 1.5 \r\nQ 6.796875 1.796875 8.140625 3.296875 \r\nQ 9.5 4.796875 9.5 10.40625 \r\nL 9.5 33.09375 \r\nQ 9.5 36.59375 8.796875 38 \r\nQ 8.09375 39.40625 6.203125 39.40625 \r\nQ 3.796875 39.40625 2 38.90625 \r\nL 2 40.5 \r\nL 17.5 46 \r\nL 17.90625 45.59375 \r\nL 17.90625 10.5 \r\nQ 17.90625 4.90625 19.15625 3.40625 \r\nQ 20.40625 1.90625 25.296875 1.5 \r\nz\r\n\" id=\"STIXGeneral-Regular-105\"/>\r\n     <path d=\"M 48.5 0 \r\nL 27.703125 0 \r\nL 27.796875 1.5 \r\nQ 31.5 1.796875 32.75 3.640625 \r\nQ 34 5.5 34 10.5 \r\nL 34 30.40625 \r\nQ 34 40.5 26.703125 40.5 \r\nQ 24.203125 40.5 22 39.296875 \r\nQ 19.796875 38.09375 16.40625 34.796875 \r\nL 16.40625 7.203125 \r\nQ 16.40625 4.203125 17.75 3 \r\nQ 19.09375 1.796875 22.90625 1.5 \r\nL 22.90625 0 \r\nL 1.796875 0 \r\nL 1.796875 1.5 \r\nQ 5.59375 1.796875 6.796875 3.34375 \r\nQ 8 4.90625 8 9.40625 \r\nL 8 33.703125 \r\nQ 8 37.40625 7.296875 38.796875 \r\nQ 6.59375 40.203125 4.5 40.203125 \r\nQ 2.5 40.203125 1.59375 39.796875 \r\nL 1.59375 41.5 \r\nQ 8.59375 43.5 15.296875 46 \r\nL 16.09375 45.703125 \r\nL 16.09375 37.90625 \r\nL 16.203125 37.90625 \r\nQ 23.296875 46 30.59375 46 \r\nQ 36.296875 46 39.34375 42 \r\nQ 42.40625 38 42.40625 30.59375 \r\nL 42.40625 8.5 \r\nQ 42.40625 4.5 43.59375 3.203125 \r\nQ 44.796875 1.90625 48.5 1.5 \r\nz\r\n\" id=\"STIXGeneral-Regular-110\"/>\r\n     <path d=\"M 2.09375 45 \r\nL 10.296875 45 \r\nQ 10.40625 51 11.09375 54.34375 \r\nQ 11.796875 57.703125 13.796875 61.09375 \r\nQ 18 68.296875 27.90625 68.296875 \r\nQ 32.40625 68.296875 35.34375 66.546875 \r\nQ 38.296875 64.796875 38.296875 62.09375 \r\nQ 38.296875 60.40625 37.09375 59.203125 \r\nQ 35.90625 58 34.09375 58 \r\nQ 31.703125 58 29.59375 61.59375 \r\nQ 27.203125 65.5 24.296875 65.5 \r\nQ 18.703125 65.5 18.703125 56.59375 \r\nL 18.703125 45 \r\nL 30.90625 45 \r\nL 30.90625 41.796875 \r\nL 18.703125 41.796875 \r\nL 18.703125 10.40625 \r\nQ 18.703125 4.796875 20.296875 3.25 \r\nQ 21.90625 1.703125 28 1.5 \r\nL 28 0 \r\nL 2 0 \r\nL 2 1.5 \r\nQ 7.40625 1.796875 8.84375 3.34375 \r\nQ 10.296875 4.90625 10.296875 10.40625 \r\nL 10.296875 41.796875 \r\nL 2.09375 41.796875 \r\nz\r\n\" id=\"STIXGeneral-Regular-102\"/>\r\n     <path d=\"M 66 0 \r\nL 49.796875 0 \r\nL 26 30.796875 \r\nL 20.40625 30.59375 \r\nL 20.40625 11.203125 \r\nQ 20.40625 5.5 21.953125 3.890625 \r\nQ 23.5 2.296875 29.296875 1.90625 \r\nL 29.296875 0 \r\nL 1.703125 0 \r\nL 1.703125 1.90625 \r\nQ 7.40625 2.40625 8.796875 4.09375 \r\nQ 10.203125 5.796875 10.203125 12.40625 \r\nL 10.203125 55.09375 \r\nQ 10.203125 60.703125 8.796875 62.296875 \r\nQ 7.40625 63.90625 1.703125 64.296875 \r\nL 1.703125 66.203125 \r\nL 28.90625 66.203125 \r\nQ 42.59375 66.203125 49.796875 60.296875 \r\nQ 54.703125 56.296875 54.703125 48.296875 \r\nQ 54.703125 34.703125 36.59375 31.90625 \r\nL 56.59375 6.59375 \r\nQ 58.703125 4 60.59375 3.09375 \r\nQ 62.5 2.203125 66 1.90625 \r\nz\r\nM 20.40625 58.296875 \r\nL 20.40625 34.296875 \r\nQ 27.59375 34.40625 31.09375 35.09375 \r\nQ 34.59375 35.796875 38.09375 37.703125 \r\nQ 43.796875 40.90625 43.796875 49.09375 \r\nQ 43.796875 62.5 25.5 62.5 \r\nQ 22.796875 62.5 21.59375 61.640625 \r\nQ 20.40625 60.796875 20.40625 58.296875 \r\nz\r\n\" id=\"STIXGeneral-Regular-82\"/>\r\n     <path d=\"M 47 38.796875 \r\nL 38.703125 38.796875 \r\nQ 40.59375 34.5 40.59375 30.40625 \r\nQ 40.59375 22.703125 35.390625 18.796875 \r\nQ 30.203125 14.90625 25 14.90625 \r\nQ 23.90625 14.90625 21.203125 15.203125 \r\nL 19.296875 15.40625 \r\nQ 17.296875 14.796875 15.296875 12.6875 \r\nQ 13.296875 10.59375 13.296875 9.09375 \r\nQ 13.296875 6.796875 21.09375 6.40625 \r\nL 34 5.796875 \r\nQ 39.5 5.59375 42.796875 2.6875 \r\nQ 46.09375 -0.203125 46.09375 -4.90625 \r\nQ 46.09375 -10.703125 40.09375 -15.40625 \r\nQ 31.796875 -21.796875 20.09375 -21.796875 \r\nQ 12.90625 -21.796875 7.84375 -18.9375 \r\nQ 2.796875 -16.09375 2.796875 -12.09375 \r\nQ 2.796875 -9.296875 5 -6.546875 \r\nQ 7.203125 -3.796875 12.59375 0.09375 \r\nQ 9.40625 1.59375 8.34375 2.6875 \r\nQ 7.296875 3.796875 7.296875 5.40625 \r\nQ 7.296875 8.296875 11.90625 12.296875 \r\nQ 14.203125 14.296875 16.203125 16.296875 \r\nQ 11.203125 18.796875 9.046875 21.890625 \r\nQ 6.90625 25 6.90625 29.703125 \r\nQ 6.90625 36.5 11.75 41.25 \r\nQ 16.59375 46 23.59375 46 \r\nQ 27.59375 46 31.59375 44.5 \r\nL 33.796875 43.703125 \r\nQ 36.703125 42.703125 39.296875 42.703125 \r\nL 47 42.703125 \r\nz\r\nM 15.203125 33.796875 \r\nL 15.203125 33.5 \r\nQ 15.203125 26.296875 18.046875 21.84375 \r\nQ 20.90625 17.40625 25.5 17.40625 \r\nQ 28.90625 17.40625 30.90625 19.84375 \r\nQ 32.90625 22.296875 32.90625 26.40625 \r\nQ 32.90625 33 29.90625 38.5 \r\nQ 27.40625 43.203125 22.59375 43.203125 \r\nQ 19.09375 43.203125 17.140625 40.703125 \r\nQ 15.203125 38.203125 15.203125 33.796875 \r\nz\r\nM 43.296875 -6.40625 \r\nQ 43.296875 -3.59375 40.546875 -2.546875 \r\nQ 37.796875 -1.5 30.90625 -1.5 \r\nQ 21 -1.5 14.703125 -0.203125 \r\nQ 11.703125 -3.796875 10.75 -5.4375 \r\nQ 9.796875 -7.09375 9.796875 -8.796875 \r\nQ 9.796875 -12.09375 13.75 -14.09375 \r\nQ 17.703125 -16.09375 24.296875 -16.09375 \r\nQ 32.796875 -16.09375 38.046875 -13.4375 \r\nQ 43.296875 -10.796875 43.296875 -6.40625 \r\nz\r\n\" id=\"STIXGeneral-Regular-103\"/>\r\n     <path d=\"M 48 5 \r\nL 48 3.59375 \r\nQ 40.203125 1.5 34.296875 -0.90625 \r\nL 33.796875 -0.59375 \r\nL 33.796875 7.59375 \r\nL 33.59375 7.59375 \r\nQ 27.296875 -1 19.296875 -1 \r\nQ 13.59375 -1 10.34375 2.5 \r\nQ 7.09375 6 7.09375 11.796875 \r\nL 7.09375 36.90625 \r\nQ 7.09375 40.59375 5.796875 42 \r\nQ 4.5 43.40625 0.90625 43.59375 \r\nL 0.90625 45 \r\nL 15.5 45 \r\nL 15.5 12.703125 \r\nQ 15.5 9.296875 17.546875 7.046875 \r\nQ 19.59375 4.796875 22.59375 4.796875 \r\nQ 27.5 4.796875 31 7.90625 \r\nQ 32.296875 9.09375 32.796875 10.140625 \r\nQ 33.296875 11.203125 33.296875 13.703125 \r\nL 33.296875 36.796875 \r\nQ 33.296875 40.703125 31.890625 41.84375 \r\nQ 30.5 43 25.90625 43.296875 \r\nL 25.90625 45 \r\nL 41.703125 45 \r\nL 41.703125 10.703125 \r\nQ 41.703125 7.203125 42.84375 6.09375 \r\nQ 44 5 47.40625 5 \r\nz\r\n\" id=\"STIXGeneral-Regular-117\"/>\r\n     <path d=\"M 25.703125 0 \r\nL 2.09375 0 \r\nL 2.09375 1.5 \r\nQ 6.796875 1.90625 8.296875 3.453125 \r\nQ 9.796875 5 9.796875 9.203125 \r\nL 9.796875 56.09375 \r\nQ 9.796875 59.703125 8.890625 61.09375 \r\nQ 8 62.5 5.59375 62.5 \r\nQ 3.5 62.5 1.90625 62.296875 \r\nL 1.90625 63.90625 \r\nQ 11.40625 66.203125 17.703125 68.296875 \r\nL 18.203125 67.90625 \r\nL 18.203125 8.703125 \r\nQ 18.203125 4.5 19.59375 3.140625 \r\nQ 21 1.796875 25.703125 1.5 \r\nz\r\n\" id=\"STIXGeneral-Regular-108\"/>\r\n     <path d=\"M 44.203125 6.59375 \r\nL 44.203125 3.796875 \r\nQ 40.40625 -1 35.203125 -1 \r\nQ 29.5 -1 28.796875 6.296875 \r\nL 28.703125 6.296875 \r\nQ 22.296875 -1 14.203125 -1 \r\nQ 9.5 -1 6.59375 1.75 \r\nQ 3.703125 4.5 3.703125 9.40625 \r\nQ 3.703125 16.40625 10.703125 21.09375 \r\nQ 15.5 24.296875 28.703125 29.203125 \r\nL 28.703125 34.59375 \r\nQ 28.703125 39.09375 26.546875 41.34375 \r\nQ 24.40625 43.59375 20.90625 43.59375 \r\nQ 17.90625 43.59375 15.90625 42.140625 \r\nQ 13.90625 40.703125 13.90625 38.703125 \r\nQ 13.90625 37.796875 14.203125 36.6875 \r\nQ 14.5 35.59375 14.5 34.5 \r\nQ 14.5 33 13.140625 31.703125 \r\nQ 11.796875 30.40625 9.90625 30.40625 \r\nQ 8.203125 30.40625 6.890625 31.703125 \r\nQ 5.59375 33 5.59375 35 \r\nQ 5.59375 39.796875 10.703125 43 \r\nQ 15.40625 46 22.203125 46 \r\nQ 30.296875 46 34 41.5 \r\nQ 35.796875 39.40625 36.296875 37.25 \r\nQ 36.796875 35.09375 36.796875 30.40625 \r\nL 36.796875 11.296875 \r\nQ 36.796875 4.703125 39.90625 4.703125 \r\nQ 41.90625 4.703125 44.203125 6.59375 \r\nz\r\nM 28.703125 12.703125 \r\nL 28.703125 26.796875 \r\nQ 19.5 23.59375 15.90625 20.203125 \r\nQ 12.5 17.09375 12.5 12.5 \r\nQ 12.5 8.703125 14.390625 6.75 \r\nQ 16.296875 4.796875 19.40625 4.796875 \r\nQ 22.703125 4.796875 25.203125 6.40625 \r\nQ 27.296875 7.90625 28 9.203125 \r\nQ 28.703125 10.5 28.703125 12.703125 \r\nz\r\n\" id=\"STIXGeneral-Regular-97\"/>\r\n     <path d=\"M 42.203125 34.90625 \r\nL 42.203125 34.796875 \r\nQ 49.703125 33.59375 54.40625 29.296875 \r\nQ 59.296875 24.90625 59.296875 17.796875 \r\nQ 59.296875 9.5 52.796875 4.75 \r\nQ 46.296875 0 35.40625 0 \r\nL 1.703125 0 \r\nL 1.703125 1.90625 \r\nQ 7.59375 2.09375 9.4375 3.84375 \r\nQ 11.296875 5.59375 11.296875 11.296875 \r\nL 11.296875 55 \r\nQ 11.296875 60.796875 9.59375 62.34375 \r\nQ 7.90625 63.90625 1.703125 64.296875 \r\nL 1.703125 66.203125 \r\nL 29.703125 66.203125 \r\nQ 42.59375 66.203125 49.25 61.84375 \r\nQ 55.90625 57.5 55.90625 49.5 \r\nQ 55.90625 42.703125 51.796875 39.09375 \r\nQ 48.90625 36.59375 42.203125 34.90625 \r\nz\r\nM 21.5 36.59375 \r\nL 30.703125 36.59375 \r\nQ 45.703125 36.59375 45.703125 49 \r\nQ 45.703125 55.40625 41.25 58.953125 \r\nQ 36.796875 62.5 28 62.5 \r\nL 23.90625 62.5 \r\nQ 21.5 62.5 21.5 59.296875 \r\nz\r\nM 21.5 32.59375 \r\nL 21.5 8.203125 \r\nQ 21.5 5.703125 22.84375 4.703125 \r\nQ 24.203125 3.703125 27.703125 3.703125 \r\nQ 34.5 3.703125 37.703125 4.453125 \r\nQ 40.90625 5.203125 44 8 \r\nQ 47.796875 11.296875 47.796875 17.90625 \r\nQ 47.796875 25.5 43.09375 28.59375 \r\nQ 42 29.40625 40.890625 29.953125 \r\nQ 39.796875 30.5 38.9375 30.84375 \r\nQ 38.09375 31.203125 36.6875 31.5 \r\nQ 35.296875 31.796875 34.546875 31.9375 \r\nQ 33.796875 32.09375 31.890625 32.1875 \r\nQ 30 32.296875 29.09375 32.34375 \r\nQ 28.203125 32.40625 25.546875 32.5 \r\nQ 22.90625 32.59375 21.5 32.59375 \r\nz\r\n\" id=\"STIXGeneral-Regular-66\"/>\r\n     <path d=\"M 59.796875 17.59375 \r\nL 57.296875 0 \r\nL 1 0 \r\nL 1 1.5 \r\nL 44.703125 62.40625 \r\nL 23.296875 62.40625 \r\nQ 13.40625 62.40625 9.90625 58.90625 \r\nQ 8.09375 57 7.34375 55.140625 \r\nQ 6.59375 53.296875 5.796875 49.09375 \r\nL 3.203125 49.09375 \r\nL 5.296875 66.203125 \r\nL 57.796875 66.203125 \r\nL 57.796875 64.703125 \r\nL 14.59375 3.796875 \r\nL 39.796875 3.796875 \r\nQ 47.59375 3.796875 51.5 6.59375 \r\nQ 53.796875 8.203125 54.890625 10.34375 \r\nQ 56 12.5 57.5 17.59375 \r\nz\r\n\" id=\"STIXGeneral-Regular-90\"/>\r\n    </defs>\r\n    <g transform=\"translate(64.581644 11.28)scale(0.12 -0.12)\">\r\n     <use xlink:href=\"#STIXGeneral-Regular-88\"/>\r\n     <use x=\"72.199982\" xlink:href=\"#STIXGeneral-Regular-89\"/>\r\n     <use x=\"144.399963\" xlink:href=\"#STIXGeneral-Regular-32\"/>\r\n     <use x=\"169.399948\" xlink:href=\"#STIXGeneral-Regular-80\"/>\r\n     <use x=\"225.099945\" xlink:href=\"#STIXGeneral-Regular-114\"/>\r\n     <use x=\"258.399933\" xlink:href=\"#STIXGeneral-Regular-111\"/>\r\n     <use x=\"308.399918\" xlink:href=\"#STIXGeneral-Regular-106\"/>\r\n     <use x=\"336.199905\" xlink:href=\"#STIXGeneral-Regular-101\"/>\r\n     <use x=\"380.599899\" xlink:href=\"#STIXGeneral-Regular-99\"/>\r\n     <use x=\"424.999893\" xlink:href=\"#STIXGeneral-Regular-116\"/>\r\n     <use x=\"452.799881\" xlink:href=\"#STIXGeneral-Regular-105\"/>\r\n     <use x=\"480.599869\" xlink:href=\"#STIXGeneral-Regular-111\"/>\r\n     <use x=\"530.599854\" xlink:href=\"#STIXGeneral-Regular-110\"/>\r\n     <use x=\"580.599838\" xlink:href=\"#STIXGeneral-Regular-32\"/>\r\n     <use x=\"605.599823\" xlink:href=\"#STIXGeneral-Regular-111\"/>\r\n     <use x=\"655.599808\" xlink:href=\"#STIXGeneral-Regular-102\"/>\r\n     <use x=\"688.899796\" xlink:href=\"#STIXGeneral-Regular-32\"/>\r\n     <use x=\"713.89978\" xlink:href=\"#STIXGeneral-Regular-82\"/>\r\n     <use x=\"780.599777\" xlink:href=\"#STIXGeneral-Regular-101\"/>\r\n     <use x=\"824.999771\" xlink:href=\"#STIXGeneral-Regular-103\"/>\r\n     <use x=\"874.999756\" xlink:href=\"#STIXGeneral-Regular-117\"/>\r\n     <use x=\"924.999741\" xlink:href=\"#STIXGeneral-Regular-108\"/>\r\n     <use x=\"952.799728\" xlink:href=\"#STIXGeneral-Regular-97\"/>\r\n     <use x=\"997.199722\" xlink:href=\"#STIXGeneral-Regular-114\"/>\r\n     <use x=\"1030.49971\" xlink:href=\"#STIXGeneral-Regular-32\"/>\r\n     <use x=\"1055.499695\" xlink:href=\"#STIXGeneral-Regular-66\"/>\r\n     <use x=\"1122.199692\" xlink:href=\"#STIXGeneral-Regular-90\"/>\r\n    </g>\r\n   </g>\r\n  </g>\r\n  <g id=\"patch_4\">\r\n   <path d=\"M 212.008696 126 \r\nL 321.182609 126 \r\nL 321.182609 17.28 \r\nL 212.008696 17.28 \r\nz\r\n\" style=\"fill:none;\"/>\r\n  </g>\r\n  <g id=\"axes_2\">\r\n   <g id=\"Line3DCollection_1\">\r\n    <path clip-path=\"url(#p2c754d2976)\" d=\"M 254.980737 71.474392 \r\nL 268.070975 70.170811 \r\n\" style=\"fill:none;stroke:#000000;stroke-width:0.8;\"/>\r\n    <path clip-path=\"url(#p2c754d2976)\" d=\"M 278.665277 75.445938 \r\nL 268.070975 70.170811 \r\n\" style=\"fill:none;stroke:#000000;stroke-width:0.8;\"/>\r\n    <path clip-path=\"url(#p2c754d2976)\" d=\"M 268.070975 57.286202 \r\nL 268.070975 70.170811 \r\n\" style=\"fill:none;stroke:#000000;stroke-width:0.8;\"/>\r\n    <path clip-path=\"url(#p2c754d2976)\" d=\"M 254.980737 71.474392 \r\nL 258.160273 72.110271 \r\n\" style=\"fill:none;stroke:#000000;stroke-width:0.8;\"/>\r\n    <path clip-path=\"url(#p2c754d2976)\" d=\"M 254.980737 71.474392 \r\nL 258.14169 70.205314 \r\n\" style=\"fill:none;stroke:#000000;stroke-width:0.8;\"/>\r\n    <path clip-path=\"url(#p2c754d2976)\" d=\"M 278.665277 75.445938 \r\nL 276.069334 75.114259 \r\n\" style=\"fill:none;stroke:#000000;stroke-width:0.8;\"/>\r\n    <path clip-path=\"url(#p2c754d2976)\" d=\"M 278.665277 75.445938 \r\nL 276.084464 73.198182 \r\n\" style=\"fill:none;stroke:#000000;stroke-width:0.8;\"/>\r\n    <path clip-path=\"url(#p2c754d2976)\" d=\"M 268.070975 57.286202 \r\nL 268.581694 60.180384 \r\n\" style=\"fill:none;stroke:#000000;stroke-width:0.8;\"/>\r\n    <path clip-path=\"url(#p2c754d2976)\" d=\"M 268.070975 57.286202 \r\nL 267.55949 60.674744 \r\n\" style=\"fill:none;stroke:#000000;stroke-width:0.8;\"/>\r\n   </g>\r\n   <g id=\"text_4\">\r\n    <!-- $\\vecb_1$ -->\r\n    <g transform=\"translate(245.166434 75.628321)scale(0.1 -0.1)\">\r\n     <use transform=\"translate(51.546875 26)\" xlink:href=\"#STIXGeneral-Regular-8407\"/>\r\n     <use xlink:href=\"#STIXGeneral-Italic-98\"/>\r\n     <use transform=\"translate(51.543266 -13.228125)scale(0.7)\" xlink:href=\"#STIXGeneral-Regular-49\"/>\r\n    </g>\r\n   </g>\r\n   <g id=\"text_5\">\r\n    <!-- $\\vecb_2$ -->\r\n    <g transform=\"translate(278.445814 81.231891)scale(0.1 -0.1)\">\r\n     <use transform=\"translate(51.546875 26)\" xlink:href=\"#STIXGeneral-Regular-8407\"/>\r\n     <use xlink:href=\"#STIXGeneral-Italic-98\"/>\r\n     <use transform=\"translate(51.543266 -13.228125)scale(0.7)\" xlink:href=\"#STIXGeneral-Regular-50\"/>\r\n    </g>\r\n   </g>\r\n   <g id=\"text_6\">\r\n    <!-- $\\vecb_3$ -->\r\n    <defs>\r\n     <path d=\"M 6.09375 51 \r\nL 4.5 51.40625 \r\nQ 6.796875 58.90625 11.6875 63.25 \r\nQ 16.59375 67.59375 24.09375 67.59375 \r\nQ 31.09375 67.59375 35.390625 63.796875 \r\nQ 39.703125 60 39.703125 53.90625 \r\nQ 39.703125 45.703125 30.40625 40.09375 \r\nQ 35.90625 37.703125 38.703125 34.796875 \r\nQ 43.09375 29.90625 43.09375 21.90625 \r\nQ 43.09375 13.90625 38.5 7.90625 \r\nQ 35.09375 3.296875 28.75 0.9375 \r\nQ 22.40625 -1.40625 15.296875 -1.40625 \r\nQ 4.09375 -1.40625 4.09375 4.296875 \r\nQ 4.09375 5.90625 5.296875 6.90625 \r\nQ 6.5 7.90625 8.203125 7.90625 \r\nQ 10.703125 7.90625 14.296875 5.296875 \r\nQ 18.703125 2.203125 22.90625 2.203125 \r\nQ 28.40625 2.203125 32.15625 6.640625 \r\nQ 35.90625 11.09375 35.90625 17.5 \r\nQ 35.90625 29 25.5 32 \r\nQ 22.40625 33 15.296875 33 \r\nL 15.296875 34.40625 \r\nQ 20.90625 36.296875 23.703125 38 \r\nQ 31.796875 42.59375 31.796875 51.40625 \r\nQ 31.796875 56.40625 28.9375 59 \r\nQ 26.09375 61.59375 21 61.59375 \r\nQ 12 61.59375 6.09375 51 \r\nz\r\n\" id=\"STIXGeneral-Regular-51\"/>\r\n    </defs>\r\n    <g transform=\"translate(263.520975 55.720247)scale(0.1 -0.1)\">\r\n     <use transform=\"translate(51.546875 26)\" xlink:href=\"#STIXGeneral-Regular-8407\"/>\r\n     <use xlink:href=\"#STIXGeneral-Italic-98\"/>\r\n     <use transform=\"translate(51.543266 -13.228125)scale(0.7)\" xlink:href=\"#STIXGeneral-Regular-51\"/>\r\n    </g>\r\n   </g>\r\n   <g id=\"text_7\">\r\n    <!-- Regular BZ -->\r\n    <g transform=\"translate(238.424715 19.9776)scale(0.12 -0.12)\">\r\n     <use xlink:href=\"#STIXGeneral-Regular-82\"/>\r\n     <use x=\"66.699997\" xlink:href=\"#STIXGeneral-Regular-101\"/>\r\n     <use x=\"111.099991\" xlink:href=\"#STIXGeneral-Regular-103\"/>\r\n     <use x=\"161.099976\" xlink:href=\"#STIXGeneral-Regular-117\"/>\r\n     <use x=\"211.09996\" xlink:href=\"#STIXGeneral-Regular-108\"/>\r\n     <use x=\"238.899948\" xlink:href=\"#STIXGeneral-Regular-97\"/>\r\n     <use x=\"283.299942\" xlink:href=\"#STIXGeneral-Regular-114\"/>\r\n     <use x=\"316.59993\" xlink:href=\"#STIXGeneral-Regular-32\"/>\r\n     <use x=\"341.599915\" xlink:href=\"#STIXGeneral-Regular-66\"/>\r\n     <use x=\"408.299911\" xlink:href=\"#STIXGeneral-Regular-90\"/>\r\n    </g>\r\n   </g>\r\n   <g id=\"Poly3DCollection_1\">\r\n    <path clip-path=\"url(#p2c754d2976)\" d=\"M 288.818622 34.535194 \r\nL 287.835898 84.43578 \r\nL 258.329787 79.381513 \r\nL 257.852712 29.981679 \r\nL 288.818622 34.535194 \r\nz\r\n\" style=\"fill:#6cccd7;fill-opacity:0.3;stroke:#6cccd7;\"/>\r\n    <path clip-path=\"url(#p2c754d2976)\" d=\"M 258.329787 79.381513 \r\nL 287.835898 84.43578 \r\nL 299.066933 100.518195 \r\nL 278.726075 112.07805 \r\nL 247.088865 106.209136 \r\nL 237.987298 89.638804 \r\nL 258.329787 79.381513 \r\nz\r\n\" style=\"fill:#6cccd7;fill-opacity:0.3;stroke:#6cccd7;\"/>\r\n    <path clip-path=\"url(#p2c754d2976)\" d=\"M 236.468395 39.229497 \r\nL 257.852712 29.981679 \r\nL 258.329787 79.381513 \r\nL 237.987298 89.638804 \r\nL 236.468395 39.229497 \r\nz\r\n\" style=\"fill:#6cccd7;fill-opacity:0.3;stroke:#6cccd7;\"/>\r\n    <path clip-path=\"url(#p2c754d2976)\" d=\"M 299.066933 100.518195 \r\nL 287.835898 84.43578 \r\nL 288.818622 34.535194 \r\nL 300.681826 49.067412 \r\nL 299.066933 100.518195 \r\nz\r\n\" style=\"fill:#6cccd7;fill-opacity:0.3;stroke:#6cccd7;\"/>\r\n    <path clip-path=\"url(#p2c754d2976)\" d=\"M 237.987298 89.638804 \r\nL 247.088865 106.209136 \r\nL 245.977973 54.225593 \r\nL 236.468395 39.229497 \r\nL 237.987298 89.638804 \r\nz\r\n\" style=\"fill:#6cccd7;fill-opacity:0.3;stroke:#6cccd7;\"/>\r\n    <path clip-path=\"url(#p2c754d2976)\" d=\"M 279.299502 59.553767 \r\nL 300.681826 49.067412 \r\nL 288.818622 34.535194 \r\nL 257.852712 29.981679 \r\nL 236.468395 39.229497 \r\nL 245.977973 54.225593 \r\nL 279.299502 59.553767 \r\nz\r\n\" style=\"fill:#6cccd7;fill-opacity:0.3;stroke:#6cccd7;\"/>\r\n    <path clip-path=\"url(#p2c754d2976)\" d=\"M 279.299502 59.553767 \r\nL 278.726075 112.07805 \r\nL 299.066933 100.518195 \r\nL 300.681826 49.067412 \r\nL 279.299502 59.553767 \r\nz\r\n\" style=\"fill:#6cccd7;fill-opacity:0.3;stroke:#6cccd7;\"/>\r\n    <path clip-path=\"url(#p2c754d2976)\" d=\"M 245.977973 54.225593 \r\nL 247.088865 106.209136 \r\nL 278.726075 112.07805 \r\nL 279.299502 59.553767 \r\nL 245.977973 54.225593 \r\nz\r\n\" style=\"fill:#6cccd7;fill-opacity:0.3;stroke:#6cccd7;\"/>\r\n   </g>\r\n  </g>\r\n  <g id=\"patch_5\">\r\n   <path d=\"M 343.017391 126 \r\nL 452.191304 126 \r\nL 452.191304 17.28 \r\nL 343.017391 17.28 \r\nz\r\n\" style=\"fill:none;\"/>\r\n  </g>\r\n  <g id=\"axes_3\">\r\n   <g id=\"Line3DCollection_2\">\r\n    <path clip-path=\"url(#p645e913709)\" d=\"M 399.079671 84.43578 \r\nL 412.130108 81.050136 \r\n\" style=\"fill:none;stroke:#000000;stroke-width:0.8;\"/>\r\n    <path clip-path=\"url(#p645e913709)\" d=\"M 418.844593 84.43578 \r\nL 412.130108 81.050136 \r\n\" style=\"fill:none;stroke:#000000;stroke-width:0.8;\"/>\r\n    <path clip-path=\"url(#p645e913709)\" d=\"M 412.28498 69.099824 \r\nL 412.130108 81.050136 \r\n\" style=\"fill:none;stroke:#000000;stroke-width:0.8;\"/>\r\n    <path clip-path=\"url(#p645e913709)\" d=\"M 399.079671 84.43578 \r\nL 402.251368 84.498032 \r\n\" style=\"fill:none;stroke:#000000;stroke-width:0.8;\"/>\r\n    <path clip-path=\"url(#p645e913709)\" d=\"M 399.079671 84.43578 \r\nL 402.256972 82.724858 \r\n\" style=\"fill:none;stroke:#000000;stroke-width:0.8;\"/>\r\n    <path clip-path=\"url(#p645e913709)\" d=\"M 418.844593 84.43578 \r\nL 417.195316 84.498032 \r\n\" style=\"fill:none;stroke:#000000;stroke-width:0.8;\"/>\r\n    <path clip-path=\"url(#p645e913709)\" d=\"M 418.844593 84.43578 \r\nL 417.227325 82.724858 \r\n\" style=\"fill:none;stroke:#000000;stroke-width:0.8;\"/>\r\n    <path clip-path=\"url(#p645e913709)\" d=\"M 412.28498 69.099824 \r\nL 412.873314 71.691905 \r\n\" style=\"fill:none;stroke:#000000;stroke-width:0.8;\"/>\r\n    <path clip-path=\"url(#p645e913709)\" d=\"M 412.28498 69.099824 \r\nL 411.620002 72.331705 \r\n\" style=\"fill:none;stroke:#000000;stroke-width:0.8;\"/>\r\n   </g>\r\n   <g id=\"text_8\">\r\n    <!-- $\\vecb_1$ -->\r\n    <g transform=\"translate(389.238562 89.438127)scale(0.1 -0.1)\">\r\n     <use transform=\"translate(51.546875 26)\" xlink:href=\"#STIXGeneral-Regular-8407\"/>\r\n     <use xlink:href=\"#STIXGeneral-Italic-98\"/>\r\n     <use transform=\"translate(51.543266 -13.228125)scale(0.7)\" xlink:href=\"#STIXGeneral-Regular-49\"/>\r\n    </g>\r\n   </g>\r\n   <g id=\"text_9\">\r\n    <!-- $\\vecb_2$ -->\r\n    <g transform=\"translate(417.016883 89.438127)scale(0.1 -0.1)\">\r\n     <use transform=\"translate(51.546875 26)\" xlink:href=\"#STIXGeneral-Regular-8407\"/>\r\n     <use xlink:href=\"#STIXGeneral-Italic-98\"/>\r\n     <use transform=\"translate(51.543266 -13.228125)scale(0.7)\" xlink:href=\"#STIXGeneral-Regular-50\"/>\r\n    </g>\r\n   </g>\r\n   <g id=\"text_10\">\r\n    <!-- $\\vecb_3$ -->\r\n    <g transform=\"translate(407.797963 67.919591)scale(0.1 -0.1)\">\r\n     <use transform=\"translate(51.546875 26)\" xlink:href=\"#STIXGeneral-Regular-8407\"/>\r\n     <use xlink:href=\"#STIXGeneral-Italic-98\"/>\r\n     <use transform=\"translate(51.543266 -13.228125)scale(0.7)\" xlink:href=\"#STIXGeneral-Regular-51\"/>\r\n    </g>\r\n   </g>\r\n   <g id=\"text_11\">\r\n    <!-- Primitive BZ -->\r\n    <defs>\r\n     <path d=\"M 77.5 0 \r\nL 55.703125 0 \r\nL 55.703125 1.5 \r\nQ 59.90625 1.90625 61.046875 3.25 \r\nQ 62.203125 4.59375 62.203125 9 \r\nL 62.203125 29.59375 \r\nQ 62.203125 35.59375 60.453125 38.1875 \r\nQ 58.703125 40.796875 54.5 40.796875 \r\nQ 51 40.796875 48.546875 39.390625 \r\nQ 46.09375 38 43.796875 34.703125 \r\nL 43.796875 9.5 \r\nQ 43.796875 4.703125 45.25 3.140625 \r\nQ 46.703125 1.59375 51 1.5 \r\nL 51 0 \r\nL 28.59375 0 \r\nL 28.59375 1.5 \r\nQ 33 1.796875 34.203125 2.9375 \r\nQ 35.40625 4.09375 35.40625 8.59375 \r\nL 35.40625 29.703125 \r\nQ 35.40625 40.796875 28.90625 40.796875 \r\nQ 26.09375 40.796875 22.9375 39.546875 \r\nQ 19.796875 38.296875 18.296875 36.5 \r\nQ 17 35 17 34.796875 \r\nL 17 7 \r\nQ 17 3.796875 18.390625 2.75 \r\nQ 19.796875 1.703125 23.796875 1.5 \r\nL 23.796875 0 \r\nL 1.59375 0 \r\nL 1.59375 1.5 \r\nQ 5.796875 1.59375 7.1875 3.046875 \r\nQ 8.59375 4.5 8.59375 8.796875 \r\nL 8.59375 33.59375 \r\nQ 8.59375 37.296875 7.796875 38.75 \r\nQ 7 40.203125 5.09375 40.203125 \r\nQ 3.59375 40.203125 1.90625 39.796875 \r\nL 1.90625 41.5 \r\nQ 8.703125 43.40625 15.796875 46 \r\nL 16.59375 45.703125 \r\nL 16.59375 38.296875 \r\nL 16.796875 38.296875 \r\nQ 21.296875 43 24.75 44.5 \r\nQ 28.203125 46 32.09375 46 \r\nQ 40 46 42.703125 37.59375 \r\nQ 50.5 46 59 46 \r\nQ 70.59375 46 70.59375 28 \r\nL 70.59375 7.703125 \r\nQ 70.59375 4.40625 71.59375 3.15625 \r\nQ 72.59375 1.90625 74.90625 1.703125 \r\nL 77.5 1.5 \r\nz\r\n\" id=\"STIXGeneral-Regular-109\"/>\r\n     <path d=\"M 47.703125 45 \r\nL 47.703125 43.5 \r\nQ 45.40625 43.296875 44.296875 42 \r\nQ 43.203125 40.703125 41.203125 35.703125 \r\nL 28.40625 3.59375 \r\nQ 26.40625 -1.40625 25.59375 -1.40625 \r\nQ 24.796875 -1.40625 23.796875 1.203125 \r\nQ 23.59375 1.5 23.390625 2.203125 \r\nQ 23.203125 2.90625 23 3.296875 \r\nL 11 32 \r\nQ 7.796875 39.59375 6.296875 41.4375 \r\nQ 4.796875 43.296875 1.90625 43.5 \r\nL 1.90625 45 \r\nL 21.5 45 \r\nL 21.5 43.5 \r\nQ 18.90625 43.296875 17.90625 42.6875 \r\nQ 16.90625 42.09375 16.90625 40.796875 \r\nQ 16.90625 39.203125 17.796875 37 \r\nL 28 11.40625 \r\nL 37.90625 37.296875 \r\nQ 38.5 38.796875 38.5 40.296875 \r\nQ 38.5 43.09375 33.796875 43.5 \r\nL 33.796875 45 \r\nz\r\n\" id=\"STIXGeneral-Regular-118\"/>\r\n    </defs>\r\n    <g transform=\"translate(366.086535 19.9776)scale(0.12 -0.12)\">\r\n     <use xlink:href=\"#STIXGeneral-Regular-80\"/>\r\n     <use x=\"55.699997\" xlink:href=\"#STIXGeneral-Regular-114\"/>\r\n     <use x=\"88.999985\" xlink:href=\"#STIXGeneral-Regular-105\"/>\r\n     <use x=\"116.799973\" xlink:href=\"#STIXGeneral-Regular-109\"/>\r\n     <use x=\"194.59996\" xlink:href=\"#STIXGeneral-Regular-105\"/>\r\n     <use x=\"222.399948\" xlink:href=\"#STIXGeneral-Regular-116\"/>\r\n     <use x=\"250.199936\" xlink:href=\"#STIXGeneral-Regular-105\"/>\r\n     <use x=\"277.999924\" xlink:href=\"#STIXGeneral-Regular-118\"/>\r\n     <use x=\"327.999908\" xlink:href=\"#STIXGeneral-Regular-101\"/>\r\n     <use x=\"372.399902\" xlink:href=\"#STIXGeneral-Regular-32\"/>\r\n     <use x=\"397.399887\" xlink:href=\"#STIXGeneral-Regular-66\"/>\r\n     <use x=\"464.099884\" xlink:href=\"#STIXGeneral-Regular-90\"/>\r\n    </g>\r\n   </g>\r\n   <g id=\"Poly3DCollection_2\">\r\n    <path clip-path=\"url(#p645e913709)\" d=\"M 412.130108 81.050136 \r\nL 358.368998 94.997253 \r\nL 384.946536 110.101458 \r\nL 439.790344 94.997253 \r\nL 412.130108 81.050136 \r\nz\r\n\" style=\"fill:#d4af37;fill-opacity:0.3;stroke:#d4af37;\"/>\r\n    <path clip-path=\"url(#p645e913709)\" d=\"M 412.130108 81.050136 \r\nL 439.790344 94.997253 \r\nL 441.878071 44.071218 \r\nL 412.772465 31.484267 \r\nL 412.130108 81.050136 \r\nz\r\n\" style=\"fill:#d4af37;fill-opacity:0.3;stroke:#d4af37;\"/>\r\n    <path clip-path=\"url(#p645e913709)\" d=\"M 412.130108 81.050136 \r\nL 412.772465 31.484267 \r\nL 356.281271 44.071218 \r\nL 358.368998 94.997253 \r\nL 412.130108 81.050136 \r\nz\r\n\" style=\"fill:#d4af37;fill-opacity:0.3;stroke:#d4af37;\"/>\r\n    <path clip-path=\"url(#p645e913709)\" d=\"M 384.946536 110.101458 \r\nL 384.190087 57.758305 \r\nL 356.281271 44.071218 \r\nL 358.368998 94.997253 \r\nL 384.946536 110.101458 \r\nz\r\n\" style=\"fill:#d4af37;fill-opacity:0.3;stroke:#d4af37;\"/>\r\n    <path clip-path=\"url(#p645e913709)\" d=\"M 441.878071 44.071218 \r\nL 384.190087 57.758305 \r\nL 384.946536 110.101458 \r\nL 439.790344 94.997253 \r\nL 441.878071 44.071218 \r\nz\r\n\" style=\"fill:#d4af37;fill-opacity:0.3;stroke:#d4af37;\"/>\r\n    <path clip-path=\"url(#p645e913709)\" d=\"M 356.281271 44.071218 \r\nL 384.190087 57.758305 \r\nL 441.878071 44.071218 \r\nL 412.772465 31.484267 \r\nL 356.281271 44.071218 \r\nz\r\n\" style=\"fill:#d4af37;fill-opacity:0.3;stroke:#d4af37;\"/>\r\n   </g>\r\n  </g>\r\n  <g id=\"patch_6\">\r\n   <path d=\"M 474.026087 126 \r\nL 583.2 126 \r\nL 583.2 17.28 \r\nL 474.026087 17.28 \r\nz\r\n\" style=\"fill:none;\"/>\r\n  </g>\r\n  <g id=\"axes_4\">\r\n   <g id=\"Line3DCollection_3\">\r\n    <path clip-path=\"url(#p86a0704c4c)\" d=\"M 523.62504 77.728718 \r\nL 530.088367 74.469716 \r\n\" style=\"fill:none;stroke:#000000;stroke-width:0.8;\"/>\r\n    <path clip-path=\"url(#p86a0704c4c)\" d=\"M 536.613585 81.050136 \r\nL 530.088367 74.469716 \r\n\" style=\"fill:none;stroke:#000000;stroke-width:0.8;\"/>\r\n    <path clip-path=\"url(#p86a0704c4c)\" d=\"M 530.088367 62.66998 \r\nL 530.088367 74.469716 \r\n\" style=\"fill:none;stroke:#000000;stroke-width:0.8;\"/>\r\n    <path clip-path=\"url(#p86a0704c4c)\" d=\"M 523.62504 77.728718 \r\nL 525.200682 77.693793 \r\n\" style=\"fill:none;stroke:#000000;stroke-width:0.8;\"/>\r\n    <path clip-path=\"url(#p86a0704c4c)\" d=\"M 523.62504 77.728718 \r\nL 525.193346 76.17723 \r\n\" style=\"fill:none;stroke:#000000;stroke-width:0.8;\"/>\r\n    <path clip-path=\"url(#p86a0704c4c)\" d=\"M 536.613585 81.050136 \r\nL 535.011362 80.199407 \r\n\" style=\"fill:none;stroke:#000000;stroke-width:0.8;\"/>\r\n    <path clip-path=\"url(#p86a0704c4c)\" d=\"M 536.613585 81.050136 \r\nL 535.018805 78.675659 \r\n\" style=\"fill:none;stroke:#000000;stroke-width:0.8;\"/>\r\n    <path clip-path=\"url(#p86a0704c4c)\" d=\"M 530.088367 62.66998 \r\nL 530.506037 65.339357 \r\n\" style=\"fill:none;stroke:#000000;stroke-width:0.8;\"/>\r\n    <path clip-path=\"url(#p86a0704c4c)\" d=\"M 530.088367 62.66998 \r\nL 529.670184 65.749871 \r\n\" style=\"fill:none;stroke:#000000;stroke-width:0.8;\"/>\r\n   </g>\r\n   <g id=\"text_12\">\r\n    <!-- $\\veca_1$ -->\r\n    <defs>\r\n     <path d=\"M 46.296875 11.09375 \r\nL 47.59375 10 \r\nQ 42 3.203125 39.34375 1.09375 \r\nQ 36.703125 -1 33.703125 -1 \r\nQ 29.703125 -1 29.703125 3.09375 \r\nQ 29.703125 5.59375 32 14.59375 \r\nQ 26.40625 6.203125 21.703125 2.546875 \r\nQ 17 -1.09375 11.703125 -1.09375 \r\nQ 7.296875 -1.09375 4.5 1.953125 \r\nQ 1.703125 5 1.703125 10.5 \r\nQ 1.703125 18.09375 6.046875 26 \r\nQ 10.40625 33.90625 17.09375 39 \r\nQ 23.796875 44.09375 30.296875 44.09375 \r\nQ 37 44.09375 38.296875 38.296875 \r\nL 39.40625 43.09375 \r\nL 39.703125 43.40625 \r\nL 45.796875 44.09375 \r\nL 46.5 43.796875 \r\nQ 46.40625 43.40625 45.90625 41.703125 \r\nQ 37 9.296875 37 5.40625 \r\nQ 37 4.09375 38.40625 4.09375 \r\nQ 39.90625 4.09375 43.59375 8.203125 \r\nz\r\nM 36.5 36.09375 \r\nQ 36.5 38.703125 35 40.296875 \r\nQ 33.5 41.90625 30.90625 41.90625 \r\nQ 24.09375 41.90625 17.796875 32.703125 \r\nQ 14.5 27.796875 12.296875 21.796875 \r\nQ 10.09375 15.796875 10.09375 11.203125 \r\nQ 10.09375 3.796875 16.09375 3.796875 \r\nQ 22 3.796875 28.796875 13.59375 \r\nQ 36.5 24.703125 36.5 36.09375 \r\nz\r\n\" id=\"STIXGeneral-Italic-97\"/>\r\n    </defs>\r\n    <g transform=\"translate(516.405248 81.479383)scale(0.1 -0.1)\">\r\n     <use transform=\"translate(51.769531 2)\" xlink:href=\"#STIXGeneral-Regular-8407\"/>\r\n     <use transform=\"translate(0 0.203125)\" xlink:href=\"#STIXGeneral-Italic-97\"/>\r\n     <use transform=\"translate(51.643272 -13.025)scale(0.7)\" xlink:href=\"#STIXGeneral-Regular-49\"/>\r\n    </g>\r\n   </g>\r\n   <g id=\"text_13\">\r\n    <!-- $\\veca_2$ -->\r\n    <g transform=\"translate(534.694196 86.183111)scale(0.1 -0.1)\">\r\n     <use transform=\"translate(51.769531 2)\" xlink:href=\"#STIXGeneral-Regular-8407\"/>\r\n     <use transform=\"translate(0 0.203125)\" xlink:href=\"#STIXGeneral-Italic-97\"/>\r\n     <use transform=\"translate(51.643272 -13.025)scale(0.7)\" xlink:href=\"#STIXGeneral-Regular-50\"/>\r\n    </g>\r\n   </g>\r\n   <g id=\"text_14\">\r\n    <!-- $\\veca_3$ -->\r\n    <g transform=\"translate(525.488367 60.352488)scale(0.1 -0.1)\">\r\n     <use transform=\"translate(51.769531 2)\" xlink:href=\"#STIXGeneral-Regular-8407\"/>\r\n     <use transform=\"translate(0 0.203125)\" xlink:href=\"#STIXGeneral-Italic-97\"/>\r\n     <use transform=\"translate(51.643272 -13.025)scale(0.7)\" xlink:href=\"#STIXGeneral-Regular-51\"/>\r\n    </g>\r\n   </g>\r\n   <g id=\"text_15\">\r\n    <!-- Real lattice -->\r\n    <g transform=\"translate(501.449918 19.9776)scale(0.12 -0.12)\">\r\n     <use xlink:href=\"#STIXGeneral-Regular-82\"/>\r\n     <use x=\"66.699997\" xlink:href=\"#STIXGeneral-Regular-101\"/>\r\n     <use x=\"111.099991\" xlink:href=\"#STIXGeneral-Regular-97\"/>\r\n     <use x=\"155.499985\" xlink:href=\"#STIXGeneral-Regular-108\"/>\r\n     <use x=\"183.299973\" xlink:href=\"#STIXGeneral-Regular-32\"/>\r\n     <use x=\"208.299957\" xlink:href=\"#STIXGeneral-Regular-108\"/>\r\n     <use x=\"236.099945\" xlink:href=\"#STIXGeneral-Regular-97\"/>\r\n     <use x=\"280.499939\" xlink:href=\"#STIXGeneral-Regular-116\"/>\r\n     <use x=\"308.299927\" xlink:href=\"#STIXGeneral-Regular-116\"/>\r\n     <use x=\"336.099915\" xlink:href=\"#STIXGeneral-Regular-105\"/>\r\n     <use x=\"363.899902\" xlink:href=\"#STIXGeneral-Regular-99\"/>\r\n     <use x=\"408.299896\" xlink:href=\"#STIXGeneral-Regular-101\"/>\r\n    </g>\r\n   </g>\r\n   <g id=\"Poly3DCollection_3\">\r\n    <path clip-path=\"url(#p86a0704c4c)\" d=\"M 530.088367 74.469716 \r\nL 530.088367 25.562709 \r\nL 502.141197 37.648685 \r\nL 503.477854 87.887531 \r\nL 530.088367 74.469716 \r\nz\r\n\" style=\"fill:#d4af37;fill-opacity:0.3;stroke:#d4af37;\"/>\r\n    <path clip-path=\"url(#p86a0704c4c)\" d=\"M 530.088367 74.469716 \r\nL 503.477854 87.887531 \r\nL 530.088367 118.13342 \r\nL 557.780288 102.395903 \r\nL 530.088367 74.469716 \r\nz\r\n\" style=\"fill:#d4af37;fill-opacity:0.3;stroke:#d4af37;\"/>\r\n    <path clip-path=\"url(#p86a0704c4c)\" d=\"M 530.088367 74.469716 \r\nL 557.780288 102.395903 \r\nL 559.230753 50.768423 \r\nL 530.088367 25.562709 \r\nL 530.088367 74.469716 \r\nz\r\n\" style=\"fill:#d4af37;fill-opacity:0.3;stroke:#d4af37;\"/>\r\n    <path clip-path=\"url(#p86a0704c4c)\" d=\"M 503.477854 87.887531 \r\nL 530.088367 118.13342 \r\nL 530.088367 65.060479 \r\nL 502.141197 37.648685 \r\nL 503.477854 87.887531 \r\nz\r\n\" style=\"fill:#d4af37;fill-opacity:0.3;stroke:#d4af37;\"/>\r\n    <path clip-path=\"url(#p86a0704c4c)\" d=\"M 502.141197 37.648685 \r\nL 530.088367 65.060479 \r\nL 559.230753 50.768423 \r\nL 530.088367 25.562709 \r\nL 502.141197 37.648685 \r\nz\r\n\" style=\"fill:#d4af37;fill-opacity:0.3;stroke:#d4af37;\"/>\r\n    <path clip-path=\"url(#p86a0704c4c)\" d=\"M 559.230753 50.768423 \r\nL 530.088367 65.060479 \r\nL 530.088367 118.13342 \r\nL 557.780288 102.395903 \r\nL 559.230753 50.768423 \r\nz\r\n\" style=\"fill:#d4af37;fill-opacity:0.3;stroke:#d4af37;\"/>\r\n   </g>\r\n  </g>\r\n </g>\r\n <defs>\r\n  <clipPath id=\"pcdddf31fdf\">\r\n   <rect height=\"108.72\" width=\"109.173913\" x=\"81\" y=\"17.28\"/>\r\n  </clipPath>\r\n  <clipPath id=\"p2c754d2976\">\r\n   <rect height=\"108.72\" width=\"109.173913\" x=\"212.008696\" y=\"17.28\"/>\r\n  </clipPath>\r\n  <clipPath id=\"p645e913709\">\r\n   <rect height=\"108.72\" width=\"109.173913\" x=\"343.017391\" y=\"17.28\"/>\r\n  </clipPath>\r\n  <clipPath id=\"p86a0704c4c\">\r\n   <rect height=\"108.72\" width=\"109.173913\" x=\"474.026087\" y=\"17.28\"/>\r\n  </clipPath>\r\n </defs>\r\n</svg>\r\n",
      "text/plain": [
       "<IPython.core.display.HTML object>"
      ]
     },
     "execution_count": null,
     "metadata": {},
     "output_type": "execute_result"
    },
    {
     "data": {
      "text/plain": "<Figure size 648x144 with 0 Axes>"
     },
     "metadata": {},
     "output_type": "display_data"
    }
   ],
   "source": [
    "import pivotpy.s_plots as sp\n",
    "lat = hexa\n",
    "bz = get_bz(lat,primitive=False,loop=True)\n",
    "axs = sp.init_figure(ncols=4,figsize=(9,2))\n",
    "ax2d = splot_bz(bz,plane='xy',ax=axs[0],vectors=True,color=(0.7,0,0.5))\n",
    "ax3d = splot_bz(bz,ax=axs[1],color=(108/255,204/255,215/255),vectors=True)\n",
    "prim_bz = get_bz(lat,primitive=True)\n",
    "ax3d_ = splot_bz(prim_bz,ax=axs[2],color=(212/255,175/255,55/255),vectors=True)\n",
    "_ax3d = splot_bz(get_bz(prim_bz.basis,primitive=True),ax=axs[3],color=(212/255,175/255,55/255),vectors=True,vname='a')\n",
    "ax3d.set_axis_off()\n",
    "ax3d.set_title('Regular BZ')\n",
    "ax3d_.set_axis_off()\n",
    "ax3d_.set_title('Primitive BZ')\n",
    "ax2d.set_axis_off()\n",
    "_ax3d.set_title('Real lattice')\n",
    "_ax3d.set_axis_off()\n",
    "ax2d.set_title('XY Projection of Regular BZ')\n",
    "sp.plt_to_html()"
   ]
  },
  {
   "cell_type": "code",
   "execution_count": null,
   "metadata": {},
   "outputs": [],
   "source": [
    "#export\n",
    "def iplot_bz(poscar_or_bz = None,fill = True,color = 'rgba(168,204,216,0.4)',\n",
    "                        background = 'rgb(255,255,255)',vname = 'b', fig=None):\n",
    "    \"\"\"\n",
    "    - Plots interactive figure showing axes,BZ surface, special points and basis, each of which could be hidden or shown.\n",
    "    - **Parameters**\n",
    "        - pocar_or_bz: POSCAR or 3 basis vectors' list forming POSCAR. Auto picks in working directory. Plot conventional BZ if poscar is given. If you want to plot primitive BZ, first create it using `get_bz(primitive=True)`.\n",
    "        - fill       : True by defult, determines whether to fill surface of BZ or not.\n",
    "        - color      : color to fill surface 'rgba(168,204,216,0.4)` by default.\n",
    "        - background : Plot background color, default is 'rgb(255,255,255)'.\n",
    "        - vname      : Default is `b` for reciprocal space, can set `a` for plotting cell as after `get_bz(get_bz().basis)` you get real space lattice back if `primitive=True` both times. \n",
    "        - fig        : (Optional) Plotly's `go.Figure`. If you want to plot on another plotly's figure, provide that.\n",
    "    - **Returns**\n",
    "        - fig   : plotly.graph_object's Figure instance.\n",
    "    \"\"\"\n",
    "    if poscar_or_bz == None:\n",
    "        bz = get_bz(poscar_or_bz)\n",
    "    else:\n",
    "        try:\n",
    "            poscar_or_bz.basis\n",
    "            bz = poscar_or_bz\n",
    "        except AttributeError:\n",
    "            bz = get_bz(poscar_or_bz)\n",
    "\n",
    "    if not fig:\n",
    "        fig = go.Figure()\n",
    "    # Name fixing    \n",
    "    axes_text = [\"<b>k</b><sub>x</sub>\",\"\",\"<b>k</b><sub>y</sub>\",\"\",\"<b>k</b><sub>z</sub>\"]\n",
    "    s_name = 'BZ'\n",
    "    a_name = 'Axes'\n",
    "    if vname == 'a':\n",
    "        axes_text = [\"<b>x</b>\",\"\",\"<b>y</b>\",\"\",\"<b>z</b>\"] # Real space\n",
    "        s_name = 'Lattice'\n",
    "        a_name = 'RealAxes'\n",
    "\n",
    "    # Axes\n",
    "    fig.add_trace(go.Scatter3d(x=[0.25,0,0,0,0],y=[0,0,0.25,0,0],z=[0,0,0,0,0.25],\n",
    "        mode='lines+text',\n",
    "        text= axes_text,\n",
    "        line_color='green', legendgroup=a_name,name=a_name))\n",
    "    fig.add_trace(go.Cone(x=[0.18,0,0],y=[0,0.18,0],z=[0,0,0.18],\n",
    "        u=[0.00001,0,0],v=[0,0.00001,0],w=[0,0,    0.00001],showscale=False,\n",
    "        colorscale='Greens',legendgroup=a_name,name=a_name))\n",
    "    # Basis\n",
    "    for i,b in enumerate(bz.basis):\n",
    "        fig.add_trace(go.Scatter3d(x=[0,b[0]], y=[0,b[1]],z=[0,b[2]],\n",
    "            mode='lines+text',legendgroup=\"{}<sub>{}</sub>\".format(vname,i+1), line_color='red',\n",
    "            name=\"<b>{}</b><sub>{}</sub>\".format(vname,i+1),text=[\"\",\"<b>{}</b><sub>{}</sub>\".format(vname,i+1)]))\n",
    "        fig.add_trace(go.Cone(x=[0.95*b[0]],y=[0.95*b[1]],z=[0.95*b[2]],\n",
    "            u=[0.2*b[0]],v=[0.2*b[1]],w=[0.2*b  [2]],showscale=False,colorscale='Reds',\n",
    "            legendgroup=\"{}<sub>{}</sub>\".format(vname,i+1),name=\"<b>{}</b><sub>{}</sub>\".format(vname,i+1)))\n",
    "\n",
    "    # Faces\n",
    "    legend = True\n",
    "    for pts in bz.faces:\n",
    "        fig.add_trace(go.Scatter3d(x=pts[:,0], y=pts[:,1],z=pts[:,2],\n",
    "            mode='lines',line_color=color, legendgroup=s_name,name=s_name,\n",
    "            showlegend=legend))\n",
    "        legend = False # Only first legend to show for all\n",
    "\n",
    "    if fill:\n",
    "        xc = bz.vertices[ConvexHull(bz.vertices).vertices]\n",
    "        fig.add_trace(go.Mesh3d(x=xc[:, 0], y=xc[:, 1], z=xc[:, 2], \n",
    "                        color=color, \n",
    "                        opacity=.2,\n",
    "                        alphahull=0,\n",
    "                        legendgroup=s_name,name=s_name))\n",
    "\n",
    "    # Special Points only if in reciprocal space. \n",
    "    if vname == 'b':\n",
    "        texts,values =[],[]\n",
    "        norms = np.round(np.linalg.norm(bz.specials.coords,axis=1),5)\n",
    "        for key,value, norm in zip(bz.specials.kpoints, bz.specials.coords, norms):\n",
    "            texts.append(\"P{}</br>d = {}\".format(key,norm))\n",
    "            values.append([[*value,norm]])\n",
    "\n",
    "        values = np.array(values).reshape((-1,4))\n",
    "        norm_max = np.max(values[:,3])\n",
    "        c_vals = np.array([int(v*255/norm_max) for v in values[:,3]])\n",
    "        colors = [0 for i in c_vals]\n",
    "        _unique = np.unique(np.sort(c_vals))[::-1]\n",
    "        _lnp = np.linspace(0,255,len(_unique)-1)\n",
    "        _u_colors = [\"rgb({},0,{})\".format(r,b) for b,r in zip(_lnp,_lnp[::-1])]\n",
    "        for _un,_uc in zip(_unique[:-1],_u_colors):\n",
    "            _index = np.where(c_vals == _un)[0]\n",
    "            for _ind in _index:\n",
    "                colors[_ind]=_uc\n",
    "\n",
    "        colors[0]= \"rgb(255,215,0)\" # Gold color at Gamma!.\n",
    "        fig.add_trace(go.Scatter3d(x=values[:,0], y=values[:,1],z=values[:,2],\n",
    "                hovertext=texts,name=\"HSK\",marker_color=colors,mode='markers'))\n",
    "\n",
    "    camera = dict(center=dict(x=0.1, y=0.1, z=0.1))\n",
    "    fig.update_layout(scene_camera=camera,paper_bgcolor=background,\n",
    "        font_family=\"Times New Roman\",font_size= 14,\n",
    "        scene = dict(aspectmode='data',xaxis = dict(showbackground=False,visible=False),\n",
    "                        yaxis = dict(showbackground=False,visible=False),\n",
    "                        zaxis = dict(showbackground=False,visible=False)),\n",
    "                        margin=dict(r=10, l=10,b=10, t=30))\n",
    "    return fig"
   ]
  },
  {
   "cell_type": "markdown",
   "metadata": {},
   "source": [
    "- Below is a BZ plot using command `iplot_bz()`. Same color points lie on a sphere, with radius decreasing as red to blue and gamma point in gold color. These color help distinguishing points but the points not always be equivalent, for example in FCC, there are two points on mid of edges connecting square-hexagon and hexagon-hexagon at equal distance from center but not the same points.\n",
    "\n",
    "> Note: `iplot_bz` includes special points only if vname = `b`, i.e. in recirpocal space. "
   ]
  },
  {
   "cell_type": "code",
   "execution_count": null,
   "metadata": {},
   "outputs": [
    {
     "data": {
      "text/html": "<div>\n        <script src='https://cdn.plot.ly/plotly-latest.min.js'></script>\n            <div id='graph-2beb5200-4b9f-11eb-8ba5-44032c5fd2c2'><!-- Plotly chart DIV --></div>\n            <script>\n                var data = {\"data\":[{\"legendgroup\":\"Axes\",\"line\":{\"color\":\"green\"},\"mode\":\"lines+text\",\"name\":\"Axes\",\"text\":[\"<b>k</b><sub>x</sub>\",\"\",\"<b>k</b><sub>y</sub>\",\"\",\"<b>k</b><sub>z</sub>\"],\"type\":\"scatter3d\",\"x\":[0.25,0,0,0,0],\"y\":[0,0,0.25,0,0],\"z\":[0,0,0,0,0.25]},{\"colorscale\":[[0.0,\"rgb(247,252,245)\"],[0.125,\"rgb(229,245,224)\"],[0.25,\"rgb(199,233,192)\"],[0.375,\"rgb(161,217,155)\"],[0.5,\"rgb(116,196,118)\"],[0.625,\"rgb(65,171,93)\"],[0.75,\"rgb(35,139,69)\"],[0.875,\"rgb(0,109,44)\"],[1.0,\"rgb(0,68,27)\"]],\"legendgroup\":\"Axes\",\"name\":\"Axes\",\"showscale\":false,\"type\":\"cone\",\"u\":[1e-05,0,0],\"v\":[0,1e-05,0],\"w\":[0,0,1e-05],\"x\":[0.18,0,0],\"y\":[0,0.18,0],\"z\":[0,0,0.18]},{\"legendgroup\":\"b<sub>1</sub>\",\"line\":{\"color\":\"red\"},\"mode\":\"lines+text\",\"name\":\"<b>b</b><sub>1</sub>\",\"text\":[\"\",\"<b>b</b><sub>1</sub>\"],\"type\":\"scatter3d\",\"x\":[0,1.0],\"y\":[0,0.0],\"z\":[0,0.0]},{\"colorscale\":[[0.0,\"rgb(255,245,240)\"],[0.125,\"rgb(254,224,210)\"],[0.25,\"rgb(252,187,161)\"],[0.375,\"rgb(252,146,114)\"],[0.5,\"rgb(251,106,74)\"],[0.625,\"rgb(239,59,44)\"],[0.75,\"rgb(203,24,29)\"],[0.875,\"rgb(165,15,21)\"],[1.0,\"rgb(103,0,13)\"]],\"legendgroup\":\"b<sub>1</sub>\",\"name\":\"<b>b</b><sub>1</sub>\",\"showscale\":false,\"type\":\"cone\",\"u\":[0.2],\"v\":[0.0],\"w\":[0.0],\"x\":[0.95],\"y\":[0.0],\"z\":[0.0]},{\"legendgroup\":\"b<sub>2</sub>\",\"line\":{\"color\":\"red\"},\"mode\":\"lines+text\",\"name\":\"<b>b</b><sub>2</sub>\",\"text\":[\"\",\"<b>b</b><sub>2</sub>\"],\"type\":\"scatter3d\",\"x\":[0,0.0],\"y\":[0,1.0],\"z\":[0,0.0]},{\"colorscale\":[[0.0,\"rgb(255,245,240)\"],[0.125,\"rgb(254,224,210)\"],[0.25,\"rgb(252,187,161)\"],[0.375,\"rgb(252,146,114)\"],[0.5,\"rgb(251,106,74)\"],[0.625,\"rgb(239,59,44)\"],[0.75,\"rgb(203,24,29)\"],[0.875,\"rgb(165,15,21)\"],[1.0,\"rgb(103,0,13)\"]],\"legendgroup\":\"b<sub>2</sub>\",\"name\":\"<b>b</b><sub>2</sub>\",\"showscale\":false,\"type\":\"cone\",\"u\":[0.0],\"v\":[0.2],\"w\":[0.0],\"x\":[0.0],\"y\":[0.95],\"z\":[0.0]},{\"legendgroup\":\"b<sub>3</sub>\",\"line\":{\"color\":\"red\"},\"mode\":\"lines+text\",\"name\":\"<b>b</b><sub>3</sub>\",\"text\":[\"\",\"<b>b</b><sub>3</sub>\"],\"type\":\"scatter3d\",\"x\":[0,0.0],\"y\":[0,0.0],\"z\":[0,1.0]},{\"colorscale\":[[0.0,\"rgb(255,245,240)\"],[0.125,\"rgb(254,224,210)\"],[0.25,\"rgb(252,187,161)\"],[0.375,\"rgb(252,146,114)\"],[0.5,\"rgb(251,106,74)\"],[0.625,\"rgb(239,59,44)\"],[0.75,\"rgb(203,24,29)\"],[0.875,\"rgb(165,15,21)\"],[1.0,\"rgb(103,0,13)\"]],\"legendgroup\":\"b<sub>3</sub>\",\"name\":\"<b>b</b><sub>3</sub>\",\"showscale\":false,\"type\":\"cone\",\"u\":[0.0],\"v\":[0.0],\"w\":[0.2],\"x\":[0.0],\"y\":[0.0],\"z\":[0.95]},{\"legendgroup\":\"BZ\",\"line\":{\"color\":\"rgba(168,204,216,0.4)\"},\"mode\":\"lines\",\"name\":\"BZ\",\"showlegend\":true,\"surfaceaxis\":1,\"type\":\"scatter3d\",\"x\":[0.5,0.5,-0.5,-0.5,0.5],\"y\":[0.5,0.5,0.5,0.5,0.5],\"z\":[0.5,-0.5,-0.5,0.5,0.5]},{\"legendgroup\":\"BZ\",\"line\":{\"color\":\"rgba(168,204,216,0.4)\"},\"mode\":\"lines\",\"name\":\"BZ\",\"showlegend\":false,\"surfaceaxis\":2,\"type\":\"scatter3d\",\"x\":[-0.5,0.5,0.5,-0.5,-0.5],\"y\":[-0.5,-0.5,0.5,0.5,-0.5],\"z\":[0.5,0.5,0.5,0.5,0.5]},{\"legendgroup\":\"BZ\",\"line\":{\"color\":\"rgba(168,204,216,0.4)\"},\"mode\":\"lines\",\"name\":\"BZ\",\"showlegend\":false,\"surfaceaxis\":2,\"type\":\"scatter3d\",\"x\":[0.5,-0.5,-0.5,0.5,0.5],\"y\":[-0.5,-0.5,0.5,0.5,-0.5],\"z\":[-0.5,-0.5,-0.5,-0.5,-0.5]},{\"legendgroup\":\"BZ\",\"line\":{\"color\":\"rgba(168,204,216,0.4)\"},\"mode\":\"lines\",\"name\":\"BZ\",\"showlegend\":false,\"surfaceaxis\":1,\"type\":\"scatter3d\",\"x\":[-0.5,0.5,0.5,-0.5,-0.5],\"y\":[-0.5,-0.5,-0.5,-0.5,-0.5],\"z\":[-0.5,-0.5,0.5,0.5,-0.5]},{\"legendgroup\":\"BZ\",\"line\":{\"color\":\"rgba(168,204,216,0.4)\"},\"mode\":\"lines\",\"name\":\"BZ\",\"showlegend\":false,\"surfaceaxis\":0,\"type\":\"scatter3d\",\"x\":[-0.5,-0.5,-0.5,-0.5,-0.5],\"y\":[0.5,-0.5,-0.5,0.5,0.5],\"z\":[-0.5,-0.5,0.5,0.5,-0.5]},{\"legendgroup\":\"BZ\",\"line\":{\"color\":\"rgba(168,204,216,0.4)\"},\"mode\":\"lines\",\"name\":\"BZ\",\"showlegend\":false,\"surfaceaxis\":0,\"type\":\"scatter3d\",\"x\":[0.5,0.5,0.5,0.5,0.5],\"y\":[-0.5,-0.5,0.5,0.5,-0.5],\"z\":[0.5,-0.5,-0.5,0.5,0.5]},{\"hovertext\":[\"P[0. 0. 0.]</br>d = 0.0\",\"P[0.  0.5 0. ]</br>d = 0.5\",\"P[0.  0.  0.5]</br>d = 0.5\",\"P[ 0.   0.  -0.5]</br>d = 0.5\",\"P[ 0.  -0.5  0. ]</br>d = 0.5\",\"P[-0.5  0.   0. ]</br>d = 0.5\",\"P[0.5 0.  0. ]</br>d = 0.5\",\"P[-0.5 -0.5  0. ]</br>d = 0.70711\",\"P[-0.5  0.  -0.5]</br>d = 0.70711\",\"P[-0.5  0.   0.5]</br>d = 0.70711\",\"P[-0.5  0.5  0. ]</br>d = 0.70711\",\"P[ 0.  -0.5 -0.5]</br>d = 0.70711\",\"P[ 0.  -0.5  0.5]</br>d = 0.70711\",\"P[ 0.   0.5 -0.5]</br>d = 0.70711\",\"P[0.  0.5 0.5]</br>d = 0.70711\",\"P[ 0.5 -0.5  0. ]</br>d = 0.70711\",\"P[ 0.5  0.  -0.5]</br>d = 0.70711\",\"P[0.5 0.  0.5]</br>d = 0.70711\",\"P[0.5 0.5 0. ]</br>d = 0.70711\",\"P[-0.5 -0.5 -0.5]</br>d = 0.86603\",\"P[-0.5 -0.5  0.5]</br>d = 0.86603\",\"P[-0.5  0.5 -0.5]</br>d = 0.86603\",\"P[-0.5  0.5  0.5]</br>d = 0.86603\",\"P[ 0.5 -0.5 -0.5]</br>d = 0.86603\",\"P[ 0.5 -0.5  0.5]</br>d = 0.86603\",\"P[ 0.5  0.5 -0.5]</br>d = 0.86603\",\"P[0.5 0.5 0.5]</br>d = 0.86603\"],\"marker\":{\"color\":[\"rgb(255,215,0)\",\"rgb(0.0,0,255.0)\",\"rgb(0.0,0,255.0)\",\"rgb(0.0,0,255.0)\",\"rgb(0.0,0,255.0)\",\"rgb(0.0,0,255.0)\",\"rgb(0.0,0,255.0)\",\"rgb(127.5,0,127.5)\",\"rgb(127.5,0,127.5)\",\"rgb(127.5,0,127.5)\",\"rgb(127.5,0,127.5)\",\"rgb(127.5,0,127.5)\",\"rgb(127.5,0,127.5)\",\"rgb(127.5,0,127.5)\",\"rgb(127.5,0,127.5)\",\"rgb(127.5,0,127.5)\",\"rgb(127.5,0,127.5)\",\"rgb(127.5,0,127.5)\",\"rgb(127.5,0,127.5)\",\"rgb(255.0,0,0.0)\",\"rgb(255.0,0,0.0)\",\"rgb(255.0,0,0.0)\",\"rgb(255.0,0,0.0)\",\"rgb(255.0,0,0.0)\",\"rgb(255.0,0,0.0)\",\"rgb(255.0,0,0.0)\",\"rgb(255.0,0,0.0)\"]},\"mode\":\"markers\",\"name\":\"HSK\",\"type\":\"scatter3d\",\"x\":[0.0,0.0,0.0,0.0,0.0,-0.5,0.5,-0.5,-0.5,-0.5,-0.5,0.0,0.0,0.0,0.0,0.5,0.5,0.5,0.5,-0.5,-0.5,-0.5,-0.5,0.5,0.5,0.5,0.5],\"y\":[0.0,0.5,0.0,0.0,-0.5,0.0,0.0,-0.5,0.0,0.0,0.5,-0.5,-0.5,0.5,0.5,-0.5,0.0,0.0,0.5,-0.5,-0.5,0.5,0.5,-0.5,-0.5,0.5,0.5],\"z\":[0.0,0.0,0.5,-0.5,0.0,0.0,0.0,0.0,-0.5,0.5,0.0,-0.5,0.5,-0.5,0.5,0.0,-0.5,0.5,0.0,-0.5,0.5,-0.5,0.5,-0.5,0.5,-0.5,0.5]}],\"layout\":{\"font\":{\"family\":\"Times New Roman\",\"size\":14},\"margin\":{\"b\":10,\"l\":10,\"r\":10,\"t\":30},\"paper_bgcolor\":\"rgb(255,255,255)\",\"scene\":{\"aspectmode\":\"data\",\"camera\":{\"center\":{\"x\":0.1,\"y\":0.1,\"z\":0.1}},\"xaxis\":{\"showbackground\":false,\"visible\":false},\"yaxis\":{\"showbackground\":false,\"visible\":false},\"zaxis\":{\"showbackground\":false,\"visible\":false}},\"template\":{\"data\":{\"bar\":[{\"error_x\":{\"color\":\"#2a3f5f\"},\"error_y\":{\"color\":\"#2a3f5f\"},\"marker\":{\"line\":{\"color\":\"#E5ECF6\",\"width\":0.5}},\"type\":\"bar\"}],\"barpolar\":[{\"marker\":{\"line\":{\"color\":\"#E5ECF6\",\"width\":0.5}},\"type\":\"barpolar\"}],\"carpet\":[{\"aaxis\":{\"endlinecolor\":\"#2a3f5f\",\"gridcolor\":\"white\",\"linecolor\":\"white\",\"minorgridcolor\":\"white\",\"startlinecolor\":\"#2a3f5f\"},\"baxis\":{\"endlinecolor\":\"#2a3f5f\",\"gridcolor\":\"white\",\"linecolor\":\"white\",\"minorgridcolor\":\"white\",\"startlinecolor\":\"#2a3f5f\"},\"type\":\"carpet\"}],\"choropleth\":[{\"colorbar\":{\"outlinewidth\":0,\"ticks\":\"\"},\"type\":\"choropleth\"}],\"contour\":[{\"colorbar\":{\"outlinewidth\":0,\"ticks\":\"\"},\"colorscale\":[[0.0,\"#0d0887\"],[0.1111111111111111,\"#46039f\"],[0.2222222222222222,\"#7201a8\"],[0.3333333333333333,\"#9c179e\"],[0.4444444444444444,\"#bd3786\"],[0.5555555555555556,\"#d8576b\"],[0.6666666666666666,\"#ed7953\"],[0.7777777777777778,\"#fb9f3a\"],[0.8888888888888888,\"#fdca26\"],[1.0,\"#f0f921\"]],\"type\":\"contour\"}],\"contourcarpet\":[{\"colorbar\":{\"outlinewidth\":0,\"ticks\":\"\"},\"type\":\"contourcarpet\"}],\"heatmap\":[{\"colorbar\":{\"outlinewidth\":0,\"ticks\":\"\"},\"colorscale\":[[0.0,\"#0d0887\"],[0.1111111111111111,\"#46039f\"],[0.2222222222222222,\"#7201a8\"],[0.3333333333333333,\"#9c179e\"],[0.4444444444444444,\"#bd3786\"],[0.5555555555555556,\"#d8576b\"],[0.6666666666666666,\"#ed7953\"],[0.7777777777777778,\"#fb9f3a\"],[0.8888888888888888,\"#fdca26\"],[1.0,\"#f0f921\"]],\"type\":\"heatmap\"}],\"heatmapgl\":[{\"colorbar\":{\"outlinewidth\":0,\"ticks\":\"\"},\"colorscale\":[[0.0,\"#0d0887\"],[0.1111111111111111,\"#46039f\"],[0.2222222222222222,\"#7201a8\"],[0.3333333333333333,\"#9c179e\"],[0.4444444444444444,\"#bd3786\"],[0.5555555555555556,\"#d8576b\"],[0.6666666666666666,\"#ed7953\"],[0.7777777777777778,\"#fb9f3a\"],[0.8888888888888888,\"#fdca26\"],[1.0,\"#f0f921\"]],\"type\":\"heatmapgl\"}],\"histogram\":[{\"marker\":{\"colorbar\":{\"outlinewidth\":0,\"ticks\":\"\"}},\"type\":\"histogram\"}],\"histogram2d\":[{\"colorbar\":{\"outlinewidth\":0,\"ticks\":\"\"},\"colorscale\":[[0.0,\"#0d0887\"],[0.1111111111111111,\"#46039f\"],[0.2222222222222222,\"#7201a8\"],[0.3333333333333333,\"#9c179e\"],[0.4444444444444444,\"#bd3786\"],[0.5555555555555556,\"#d8576b\"],[0.6666666666666666,\"#ed7953\"],[0.7777777777777778,\"#fb9f3a\"],[0.8888888888888888,\"#fdca26\"],[1.0,\"#f0f921\"]],\"type\":\"histogram2d\"}],\"histogram2dcontour\":[{\"colorbar\":{\"outlinewidth\":0,\"ticks\":\"\"},\"colorscale\":[[0.0,\"#0d0887\"],[0.1111111111111111,\"#46039f\"],[0.2222222222222222,\"#7201a8\"],[0.3333333333333333,\"#9c179e\"],[0.4444444444444444,\"#bd3786\"],[0.5555555555555556,\"#d8576b\"],[0.6666666666666666,\"#ed7953\"],[0.7777777777777778,\"#fb9f3a\"],[0.8888888888888888,\"#fdca26\"],[1.0,\"#f0f921\"]],\"type\":\"histogram2dcontour\"}],\"mesh3d\":[{\"colorbar\":{\"outlinewidth\":0,\"ticks\":\"\"},\"type\":\"mesh3d\"}],\"parcoords\":[{\"line\":{\"colorbar\":{\"outlinewidth\":0,\"ticks\":\"\"}},\"type\":\"parcoords\"}],\"pie\":[{\"automargin\":true,\"type\":\"pie\"}],\"scatter\":[{\"marker\":{\"colorbar\":{\"outlinewidth\":0,\"ticks\":\"\"}},\"type\":\"scatter\"}],\"scatter3d\":[{\"line\":{\"colorbar\":{\"outlinewidth\":0,\"ticks\":\"\"}},\"marker\":{\"colorbar\":{\"outlinewidth\":0,\"ticks\":\"\"}},\"type\":\"scatter3d\"}],\"scattercarpet\":[{\"marker\":{\"colorbar\":{\"outlinewidth\":0,\"ticks\":\"\"}},\"type\":\"scattercarpet\"}],\"scattergeo\":[{\"marker\":{\"colorbar\":{\"outlinewidth\":0,\"ticks\":\"\"}},\"type\":\"scattergeo\"}],\"scattergl\":[{\"marker\":{\"colorbar\":{\"outlinewidth\":0,\"ticks\":\"\"}},\"type\":\"scattergl\"}],\"scattermapbox\":[{\"marker\":{\"colorbar\":{\"outlinewidth\":0,\"ticks\":\"\"}},\"type\":\"scattermapbox\"}],\"scatterpolar\":[{\"marker\":{\"colorbar\":{\"outlinewidth\":0,\"ticks\":\"\"}},\"type\":\"scatterpolar\"}],\"scatterpolargl\":[{\"marker\":{\"colorbar\":{\"outlinewidth\":0,\"ticks\":\"\"}},\"type\":\"scatterpolargl\"}],\"scatterternary\":[{\"marker\":{\"colorbar\":{\"outlinewidth\":0,\"ticks\":\"\"}},\"type\":\"scatterternary\"}],\"surface\":[{\"colorbar\":{\"outlinewidth\":0,\"ticks\":\"\"},\"colorscale\":[[0.0,\"#0d0887\"],[0.1111111111111111,\"#46039f\"],[0.2222222222222222,\"#7201a8\"],[0.3333333333333333,\"#9c179e\"],[0.4444444444444444,\"#bd3786\"],[0.5555555555555556,\"#d8576b\"],[0.6666666666666666,\"#ed7953\"],[0.7777777777777778,\"#fb9f3a\"],[0.8888888888888888,\"#fdca26\"],[1.0,\"#f0f921\"]],\"type\":\"surface\"}],\"table\":[{\"cells\":{\"fill\":{\"color\":\"#EBF0F8\"},\"line\":{\"color\":\"white\"}},\"header\":{\"fill\":{\"color\":\"#C8D4E3\"},\"line\":{\"color\":\"white\"}},\"type\":\"table\"}]},\"layout\":{\"annotationdefaults\":{\"arrowcolor\":\"#2a3f5f\",\"arrowhead\":0,\"arrowwidth\":1},\"coloraxis\":{\"colorbar\":{\"outlinewidth\":0,\"ticks\":\"\"}},\"colorscale\":{\"diverging\":[[0,\"#8e0152\"],[0.1,\"#c51b7d\"],[0.2,\"#de77ae\"],[0.3,\"#f1b6da\"],[0.4,\"#fde0ef\"],[0.5,\"#f7f7f7\"],[0.6,\"#e6f5d0\"],[0.7,\"#b8e186\"],[0.8,\"#7fbc41\"],[0.9,\"#4d9221\"],[1,\"#276419\"]],\"sequential\":[[0.0,\"#0d0887\"],[0.1111111111111111,\"#46039f\"],[0.2222222222222222,\"#7201a8\"],[0.3333333333333333,\"#9c179e\"],[0.4444444444444444,\"#bd3786\"],[0.5555555555555556,\"#d8576b\"],[0.6666666666666666,\"#ed7953\"],[0.7777777777777778,\"#fb9f3a\"],[0.8888888888888888,\"#fdca26\"],[1.0,\"#f0f921\"]],\"sequentialminus\":[[0.0,\"#0d0887\"],[0.1111111111111111,\"#46039f\"],[0.2222222222222222,\"#7201a8\"],[0.3333333333333333,\"#9c179e\"],[0.4444444444444444,\"#bd3786\"],[0.5555555555555556,\"#d8576b\"],[0.6666666666666666,\"#ed7953\"],[0.7777777777777778,\"#fb9f3a\"],[0.8888888888888888,\"#fdca26\"],[1.0,\"#f0f921\"]]},\"colorway\":[\"#636efa\",\"#EF553B\",\"#00cc96\",\"#ab63fa\",\"#FFA15A\",\"#19d3f3\",\"#FF6692\",\"#B6E880\",\"#FF97FF\",\"#FECB52\"],\"font\":{\"color\":\"#2a3f5f\"},\"geo\":{\"bgcolor\":\"white\",\"lakecolor\":\"white\",\"landcolor\":\"#E5ECF6\",\"showlakes\":true,\"showland\":true,\"subunitcolor\":\"white\"},\"hoverlabel\":{\"align\":\"left\"},\"hovermode\":\"closest\",\"mapbox\":{\"style\":\"light\"},\"paper_bgcolor\":\"white\",\"plot_bgcolor\":\"#E5ECF6\",\"polar\":{\"angularaxis\":{\"gridcolor\":\"white\",\"linecolor\":\"white\",\"ticks\":\"\"},\"bgcolor\":\"#E5ECF6\",\"radialaxis\":{\"gridcolor\":\"white\",\"linecolor\":\"white\",\"ticks\":\"\"}},\"scene\":{\"xaxis\":{\"backgroundcolor\":\"#E5ECF6\",\"gridcolor\":\"white\",\"gridwidth\":2,\"linecolor\":\"white\",\"showbackground\":true,\"ticks\":\"\",\"zerolinecolor\":\"white\"},\"yaxis\":{\"backgroundcolor\":\"#E5ECF6\",\"gridcolor\":\"white\",\"gridwidth\":2,\"linecolor\":\"white\",\"showbackground\":true,\"ticks\":\"\",\"zerolinecolor\":\"white\"},\"zaxis\":{\"backgroundcolor\":\"#E5ECF6\",\"gridcolor\":\"white\",\"gridwidth\":2,\"linecolor\":\"white\",\"showbackground\":true,\"ticks\":\"\",\"zerolinecolor\":\"white\"}},\"shapedefaults\":{\"line\":{\"color\":\"#2a3f5f\"}},\"ternary\":{\"aaxis\":{\"gridcolor\":\"white\",\"linecolor\":\"white\",\"ticks\":\"\"},\"baxis\":{\"gridcolor\":\"white\",\"linecolor\":\"white\",\"ticks\":\"\"},\"bgcolor\":\"#E5ECF6\",\"caxis\":{\"gridcolor\":\"white\",\"linecolor\":\"white\",\"ticks\":\"\"}},\"title\":{\"x\":0.05},\"xaxis\":{\"automargin\":true,\"gridcolor\":\"white\",\"linecolor\":\"white\",\"ticks\":\"\",\"title\":{\"standoff\":15},\"zerolinecolor\":\"white\",\"zerolinewidth\":2},\"yaxis\":{\"automargin\":true,\"gridcolor\":\"white\",\"linecolor\":\"white\",\"ticks\":\"\",\"title\":{\"standoff\":15},\"zerolinecolor\":\"white\",\"zerolinewidth\":2}}}}};\n                var config = {displayModeBar: false,scrollZoom: true};\n                Plotly.newPlot('graph-2beb5200-4b9f-11eb-8ba5-44032c5fd2c2', data.data,data.layout,config);\n            </script>\n        </div>",
      "text/plain": [
       "<IPython.core.display.HTML object>"
      ]
     },
     "execution_count": null,
     "metadata": {},
     "output_type": "execute_result"
    }
   ],
   "source": [
    "import pivotpy as pp\n",
    "fig = iplot_bz([[1,0,0],[0,1,0],[0,0,1]])\n",
    "pp.plotly_to_html(fig,modebar=False)"
   ]
  },
  {
   "cell_type": "code",
   "execution_count": null,
   "metadata": {},
   "outputs": [],
   "source": [
    "#export\n",
    "def to_R3(basis,points):\n",
    "    \"\"\"Transforms coordinates of points (relative to non-othogonal basis) into orthogonal space.   \n",
    "    - **Parameters**\n",
    "        - basis : Non-orthogonal basis of real or reciprocal space. \n",
    "        - points: 3D points relative to basis, such as KPOINTS and Lattice Points. \n",
    "    \"\"\"\n",
    "    rec_basis = np.array(basis)\n",
    "    points = np.array(points)\n",
    "    # Formula to make coordinates from relative points. \n",
    "    # kx, ky, kz = n1*b1 + n2*b2 +n3*b3\n",
    "    #            = [n1, n2, n3].dot(rec_basis)\n",
    "    coords = points.dot(rec_basis)\n",
    "    return coords"
   ]
  },
  {
   "cell_type": "code",
   "execution_count": null,
   "metadata": {},
   "outputs": [
    {
     "data": {
      "text/plain": [
       "array([[1.        , 0.57735027, 1.        ],\n",
       "       [0.333     , 0.19225764, 0.5       ]])"
      ]
     },
     "execution_count": null,
     "metadata": {},
     "output_type": "execute_result"
    }
   ],
   "source": [
    "to_R3(get_basis(hexa).basis,[[1,1,1],[0.333,0.333,0.5]])"
   ]
  },
  {
   "cell_type": "code",
   "execution_count": null,
   "metadata": {
    "tags": []
   },
   "outputs": [],
   "source": [
    "#export\n",
    "def kpoints2bz(bz,kpoints,primitive=False):\n",
    "    \"\"\"Brings KPOINTS inside BZ. Applies `to_R3` only if `primitive=True`.   \n",
    "    - **Parameters**\n",
    "        - bz       : Output of get_bz(), make sure use same value of `primitive` there and here. \n",
    "        - kpoints  : List or array of KPOINTS to transorm into BZ or R3. \n",
    "        - primitive: Default is False and brings kpoints into regular BZ. If True, returns `to_R3()`.\n",
    "    \"\"\"\n",
    "    # Shift to 1st octant for both cases of primitive argument. \n",
    "    kpoints = kpoints - np.min(kpoints,axis=0) \n",
    "    if primitive:\n",
    "        return to_R3(bz.basis,kpoints)\n",
    "\n",
    "    # Work ahead if not primitive\n",
    "    kpoints = kpoints - 0.5 # For regular BZ only\n",
    "    cent_planes = [centroid(np.unique(face,axis=0)) for face in bz.faces]\n",
    "\n",
    "    out_coords = np.empty(np.shape(kpoints)) # To store back\n",
    "\n",
    "    def inside(coord,cent_planes):\n",
    "        _dots_ = np.max([np.dot(coord-c, c) for c in cent_planes]) #max in all planes\n",
    "        #print(_dots_)\n",
    "        if np.max(_dots_) > 1e-8: # Outside\n",
    "            return [] # empty for comparison\n",
    "        else: # Inside\n",
    "            return list(coord) # Must be in list form\n",
    "\n",
    "\n",
    "    from itertools import product\n",
    "    for i,p in enumerate(kpoints):\n",
    "        for q in product([0,1,-1],[0,1,-1],[0,1,-1]):\n",
    "            # First translate, then make coords, then feed it back\n",
    "            #print(q)\n",
    "            pos = to_R3(bz.basis,p + np.array(q))\n",
    "            r = inside(pos,cent_planes)\n",
    "            if r:\n",
    "                #print(p,'-->',r)\n",
    "                out_coords[i] = r\n",
    "                StopIteration\n",
    "\n",
    "    return out_coords"
   ]
  },
  {
   "cell_type": "code",
   "execution_count": null,
   "metadata": {},
   "outputs": [
    {
     "data": {
      "text/html": "<div>\n        <script src='https://cdn.plot.ly/plotly-latest.min.js'></script>\n            <div id='graph-c78b689c-4bae-11eb-9f66-44032c5fd2c2'><!-- Plotly chart DIV --></div>\n            <script>\n                var data = {\"data\":[{\"legendgroup\":\"Axes\",\"line\":{\"color\":\"green\"},\"mode\":\"lines+text\",\"name\":\"Axes\",\"text\":[\"<b>k</b><sub>x</sub>\",\"\",\"<b>k</b><sub>y</sub>\",\"\",\"<b>k</b><sub>z</sub>\"],\"type\":\"scatter3d\",\"x\":[0.25,0,0,0,0],\"y\":[0,0,0.25,0,0],\"z\":[0,0,0,0,0.25]},{\"colorscale\":[[0.0,\"rgb(247,252,245)\"],[0.125,\"rgb(229,245,224)\"],[0.25,\"rgb(199,233,192)\"],[0.375,\"rgb(161,217,155)\"],[0.5,\"rgb(116,196,118)\"],[0.625,\"rgb(65,171,93)\"],[0.75,\"rgb(35,139,69)\"],[0.875,\"rgb(0,109,44)\"],[1.0,\"rgb(0,68,27)\"]],\"legendgroup\":\"Axes\",\"name\":\"Axes\",\"showscale\":false,\"type\":\"cone\",\"u\":[1e-05,0,0],\"v\":[0,1e-05,0],\"w\":[0,0,1e-05],\"x\":[0.18,0,0],\"y\":[0,0.18,0],\"z\":[0,0,0.18]},{\"legendgroup\":\"b<sub>1</sub>\",\"line\":{\"color\":\"red\"},\"mode\":\"lines+text\",\"name\":\"<b>b</b><sub>1</sub>\",\"text\":[\"\",\"<b>b</b><sub>1</sub>\"],\"type\":\"scatter3d\",\"x\":[0,1.0],\"y\":[0,-0.5773502691896258],\"z\":[0,0.0]},{\"colorscale\":[[0.0,\"rgb(255,245,240)\"],[0.125,\"rgb(254,224,210)\"],[0.25,\"rgb(252,187,161)\"],[0.375,\"rgb(252,146,114)\"],[0.5,\"rgb(251,106,74)\"],[0.625,\"rgb(239,59,44)\"],[0.75,\"rgb(203,24,29)\"],[0.875,\"rgb(165,15,21)\"],[1.0,\"rgb(103,0,13)\"]],\"legendgroup\":\"b<sub>1</sub>\",\"name\":\"<b>b</b><sub>1</sub>\",\"showscale\":false,\"type\":\"cone\",\"u\":[0.2],\"v\":[-0.11547005383792518],\"w\":[0.0],\"x\":[0.95],\"y\":[-0.5484827557301445],\"z\":[0.0]},{\"legendgroup\":\"b<sub>2</sub>\",\"line\":{\"color\":\"red\"},\"mode\":\"lines+text\",\"name\":\"<b>b</b><sub>2</sub>\",\"text\":[\"\",\"<b>b</b><sub>2</sub>\"],\"type\":\"scatter3d\",\"x\":[0,0.0],\"y\":[0,1.1547005383792517],\"z\":[0,0.0]},{\"colorscale\":[[0.0,\"rgb(255,245,240)\"],[0.125,\"rgb(254,224,210)\"],[0.25,\"rgb(252,187,161)\"],[0.375,\"rgb(252,146,114)\"],[0.5,\"rgb(251,106,74)\"],[0.625,\"rgb(239,59,44)\"],[0.75,\"rgb(203,24,29)\"],[0.875,\"rgb(165,15,21)\"],[1.0,\"rgb(103,0,13)\"]],\"legendgroup\":\"b<sub>2</sub>\",\"name\":\"<b>b</b><sub>2</sub>\",\"showscale\":false,\"type\":\"cone\",\"u\":[0.0],\"v\":[0.23094010767585035],\"w\":[0.0],\"x\":[0.0],\"y\":[1.096965511460289],\"z\":[0.0]},{\"legendgroup\":\"b<sub>3</sub>\",\"line\":{\"color\":\"red\"},\"mode\":\"lines+text\",\"name\":\"<b>b</b><sub>3</sub>\",\"text\":[\"\",\"<b>b</b><sub>3</sub>\"],\"type\":\"scatter3d\",\"x\":[0,0.0],\"y\":[0,0.0],\"z\":[0,1.0]},{\"colorscale\":[[0.0,\"rgb(255,245,240)\"],[0.125,\"rgb(254,224,210)\"],[0.25,\"rgb(252,187,161)\"],[0.375,\"rgb(252,146,114)\"],[0.5,\"rgb(251,106,74)\"],[0.625,\"rgb(239,59,44)\"],[0.75,\"rgb(203,24,29)\"],[0.875,\"rgb(165,15,21)\"],[1.0,\"rgb(103,0,13)\"]],\"legendgroup\":\"b<sub>3</sub>\",\"name\":\"<b>b</b><sub>3</sub>\",\"showscale\":false,\"type\":\"cone\",\"u\":[0.0],\"v\":[0.0],\"w\":[0.2],\"x\":[0.0],\"y\":[0.0],\"z\":[0.95]},{\"legendgroup\":\"BZ\",\"line\":{\"color\":\"rgba(168,204,216,0.4)\"},\"mode\":\"lines\",\"name\":\"BZ\",\"showlegend\":true,\"type\":\"scatter3d\",\"x\":[0.33333333,-0.33333333,-0.66666667,-0.33333333,0.33333333,0.66666667,0.33333333],\"y\":[0.57735027,0.57735027,0.0,-0.57735027,-0.57735027,0.0,0.57735027],\"z\":[0.5,0.5,0.5,0.5,0.5,0.5,0.5]},{\"legendgroup\":\"BZ\",\"line\":{\"color\":\"rgba(168,204,216,0.4)\"},\"mode\":\"lines\",\"name\":\"BZ\",\"showlegend\":false,\"type\":\"scatter3d\",\"x\":[-0.33333333,-0.66666667,-0.33333333,0.33333333,0.66666667,0.33333333,-0.33333333],\"y\":[-0.57735027,0.0,0.57735027,0.57735027,0.0,-0.57735027,-0.57735027],\"z\":[-0.5,-0.5,-0.5,-0.5,-0.5,-0.5,-0.5]},{\"legendgroup\":\"BZ\",\"line\":{\"color\":\"rgba(168,204,216,0.4)\"},\"mode\":\"lines\",\"name\":\"BZ\",\"showlegend\":false,\"type\":\"scatter3d\",\"x\":[0.33333333,-0.33333333,-0.33333333,0.33333333,0.33333333],\"y\":[-0.57735027,-0.57735027,-0.57735027,-0.57735027,-0.57735027],\"z\":[0.5,0.5,-0.5,-0.5,0.5]},{\"legendgroup\":\"BZ\",\"line\":{\"color\":\"rgba(168,204,216,0.4)\"},\"mode\":\"lines\",\"name\":\"BZ\",\"showlegend\":false,\"type\":\"scatter3d\",\"x\":[0.33333333,0.66666667,0.66666667,0.33333333,0.33333333],\"y\":[-0.57735027,0.0,0.0,-0.57735027,-0.57735027],\"z\":[-0.5,-0.5,0.5,0.5,-0.5]},{\"legendgroup\":\"BZ\",\"line\":{\"color\":\"rgba(168,204,216,0.4)\"},\"mode\":\"lines\",\"name\":\"BZ\",\"showlegend\":false,\"type\":\"scatter3d\",\"x\":[0.33333333,0.33333333,-0.33333333,-0.33333333,0.33333333],\"y\":[0.57735027,0.57735027,0.57735027,0.57735027,0.57735027],\"z\":[0.5,-0.5,-0.5,0.5,0.5]},{\"legendgroup\":\"BZ\",\"line\":{\"color\":\"rgba(168,204,216,0.4)\"},\"mode\":\"lines\",\"name\":\"BZ\",\"showlegend\":false,\"type\":\"scatter3d\",\"x\":[0.66666667,0.66666667,0.33333333,0.33333333,0.66666667],\"y\":[0.0,0.0,0.57735027,0.57735027,0.0],\"z\":[0.5,-0.5,-0.5,0.5,0.5]},{\"legendgroup\":\"BZ\",\"line\":{\"color\":\"rgba(168,204,216,0.4)\"},\"mode\":\"lines\",\"name\":\"BZ\",\"showlegend\":false,\"type\":\"scatter3d\",\"x\":[-0.33333333,-0.66666667,-0.66666667,-0.33333333,-0.33333333],\"y\":[0.57735027,0.0,0.0,0.57735027,0.57735027],\"z\":[-0.5,-0.5,0.5,0.5,-0.5]},{\"legendgroup\":\"BZ\",\"line\":{\"color\":\"rgba(168,204,216,0.4)\"},\"mode\":\"lines\",\"name\":\"BZ\",\"showlegend\":false,\"type\":\"scatter3d\",\"x\":[-0.66666667,-0.66666667,-0.33333333,-0.33333333,-0.66666667],\"y\":[0.0,0.0,-0.57735027,-0.57735027,0.0],\"z\":[0.5,-0.5,-0.5,0.5,0.5]},{\"alphahull\":0,\"color\":\"rgba(168,204,216,0.4)\",\"legendgroup\":\"BZ\",\"name\":\"BZ\",\"opacity\":0.2,\"type\":\"mesh3d\",\"x\":[-0.66666667,-0.66666667,-0.33333333,-0.33333333,-0.33333333,-0.33333333,0.33333333,0.33333333,0.33333333,0.33333333,0.66666667,0.66666667],\"y\":[0.0,0.0,-0.57735027,-0.57735027,0.57735027,0.57735027,-0.57735027,0.57735027,-0.57735027,0.57735027,0.0,0.0],\"z\":[-0.5,0.5,-0.5,0.5,-0.5,0.5,-0.5,-0.5,0.5,0.5,-0.5,0.5]},{\"hovertext\":[\"P[0. 0. 0.]</br>d = 0.0\",\"P[0.  0.  0.5]</br>d = 0.5\",\"P[-0.  -0.  -0.5]</br>d = 0.5\",\"P[-0.  -0.5  0. ]</br>d = 0.57735\",\"P[ 0.5 -0.   0. ]</br>d = 0.57735\",\"P[-0.   0.5  0. ]</br>d = 0.57735\",\"P[0.5 0.5 0. ]</br>d = 0.57735\",\"P[-0.5  0.   0. ]</br>d = 0.57735\",\"P[-0.5 -0.5  0. ]</br>d = 0.57735\",\"P[-0.66666667 -0.33333333  0.        ]</br>d = 0.66667\",\"P[-0.5 -0.5 -0.5]</br>d = 0.76376\",\"P[-0.5 -0.5  0.5]</br>d = 0.76376\",\"P[-0.5  0.  -0.5]</br>d = 0.76376\",\"P[-0.5  0.   0.5]</br>d = 0.76376\",\"P[-0.33333333 -0.66666667  0.        ]</br>d = 0.66667\",\"P[-0.33333333  0.33333333  0.        ]</br>d = 0.66667\",\"P[-0.  -0.5 -0.5]</br>d = 0.76376\",\"P[-0.   0.5 -0.5]</br>d = 0.76376\",\"P[-0.  -0.5  0.5]</br>d = 0.76376\",\"P[0.  0.5 0.5]</br>d = 0.76376\",\"P[ 0.33333333 -0.33333333  0.        ]</br>d = 0.66667\",\"P[0.33333333 0.66666667 0.        ]</br>d = 0.66667\",\"P[ 0.5 -0.  -0.5]</br>d = 0.76376\",\"P[ 0.5  0.5 -0.5]</br>d = 0.76376\",\"P[0.5 0.  0.5]</br>d = 0.76376\",\"P[0.5 0.5 0.5]</br>d = 0.76376\",\"P[0.66666667 0.33333333 0.        ]</br>d = 0.66667\",\"P[-0.66666667 -0.33333333 -0.5       ]</br>d = 0.83333\",\"P[-0.66666667 -0.33333333  0.5       ]</br>d = 0.83333\",\"P[-0.33333333 -0.66666667 -0.5       ]</br>d = 0.83333\",\"P[-0.33333333 -0.66666667  0.5       ]</br>d = 0.83333\",\"P[-0.33333333  0.33333333 -0.5       ]</br>d = 0.83333\",\"P[-0.33333333  0.33333333  0.5       ]</br>d = 0.83333\",\"P[ 0.33333333 -0.33333333 -0.5       ]</br>d = 0.83333\",\"P[ 0.33333333  0.66666667 -0.5       ]</br>d = 0.83333\",\"P[ 0.33333333 -0.33333333  0.5       ]</br>d = 0.83333\",\"P[0.33333333 0.66666667 0.5       ]</br>d = 0.83333\",\"P[ 0.66666667  0.33333333 -0.5       ]</br>d = 0.83333\",\"P[0.66666667 0.33333333 0.5       ]</br>d = 0.83333\"],\"marker\":{\"color\":[\"rgb(255,215,0)\",\"rgb(0.0,0,255.0)\",\"rgb(0.0,0,255.0)\",\"rgb(63.75,0,191.25)\",\"rgb(63.75,0,191.25)\",\"rgb(63.75,0,191.25)\",\"rgb(63.75,0,191.25)\",\"rgb(63.75,0,191.25)\",\"rgb(63.75,0,191.25)\",\"rgb(127.5,0,127.5)\",\"rgb(191.25,0,63.75)\",\"rgb(191.25,0,63.75)\",\"rgb(191.25,0,63.75)\",\"rgb(191.25,0,63.75)\",\"rgb(127.5,0,127.5)\",\"rgb(127.5,0,127.5)\",\"rgb(191.25,0,63.75)\",\"rgb(191.25,0,63.75)\",\"rgb(191.25,0,63.75)\",\"rgb(191.25,0,63.75)\",\"rgb(127.5,0,127.5)\",\"rgb(127.5,0,127.5)\",\"rgb(191.25,0,63.75)\",\"rgb(191.25,0,63.75)\",\"rgb(191.25,0,63.75)\",\"rgb(191.25,0,63.75)\",\"rgb(127.5,0,127.5)\",\"rgb(255.0,0,0.0)\",\"rgb(255.0,0,0.0)\",\"rgb(255.0,0,0.0)\",\"rgb(255.0,0,0.0)\",\"rgb(255.0,0,0.0)\",\"rgb(255.0,0,0.0)\",\"rgb(255.0,0,0.0)\",\"rgb(255.0,0,0.0)\",\"rgb(255.0,0,0.0)\",\"rgb(255.0,0,0.0)\",\"rgb(255.0,0,0.0)\",\"rgb(255.0,0,0.0)\"]},\"mode\":\"markers\",\"name\":\"HSK\",\"type\":\"scatter3d\",\"x\":[0.0,0.0,-0.0,-0.0,0.5,-0.0,0.5,-0.5,-0.5,-0.66666667,-0.5,-0.5,-0.5,-0.5,-0.33333333,-0.33333333,-0.0,-0.0,-0.0,0.0,0.33333333,0.33333333,0.5,0.5,0.5,0.5,0.66666667,-0.66666667,-0.66666667,-0.33333333,-0.33333333,-0.33333333,-0.33333333,0.33333333,0.33333333,0.33333333,0.33333333,0.66666667,0.66666667],\"y\":[0.0,0.0,0.0,-0.57735027,-0.28867513,0.57735027,0.28867513,0.28867513,-0.28867513,0.0,-0.28867513,-0.28867513,0.28867513,0.28867513,-0.57735027,0.57735027,-0.57735027,0.57735027,-0.57735027,0.57735027,-0.57735027,0.57735027,-0.28867513,0.28867513,-0.28867513,0.28867513,0.0,0.0,0.0,-0.57735027,-0.57735027,0.57735027,0.57735027,-0.57735027,0.57735027,-0.57735027,0.57735027,0.0,0.0],\"z\":[0.0,0.5,-0.5,0.0,0.0,0.0,0.0,0.0,0.0,0.0,-0.5,0.5,-0.5,0.5,0.0,0.0,-0.5,-0.5,0.5,0.5,0.0,0.0,-0.5,-0.5,0.5,0.5,0.0,-0.5,0.5,-0.5,0.5,-0.5,0.5,-0.5,-0.5,0.5,0.5,-0.5,0.5]},{\"mode\":\"markers\",\"name\":\"KPOINTS\",\"type\":\"scatter3d\",\"x\":[0.5,-0.25,0.0,0.25,-0.5,-0.5,-0.25,0.0,0.25,-0.5,0.5,-0.25,0.0,0.25,-0.5,0.5,-0.25,0.0,0.25,0.5,0.5,-0.25,0.0,0.25,-0.5,0.5,-0.25,0.0,0.25,-0.5,-0.5,-0.25,0.0,0.25,-0.5,0.5,-0.25,0.0,0.25,-0.5,0.5,-0.25,0.0,0.25,0.5,0.5,-0.25,0.0,0.25,-0.5,0.5,-0.25,0.0,0.25,-0.5,-0.5,-0.25,0.0,0.25,-0.5,0.5,-0.25,0.0,0.25,-0.5,0.5,-0.25,0.0,0.25,0.5,0.5,-0.25,0.0,0.25,-0.5,0.5,-0.25,0.0,0.25,-0.5,-0.5,-0.25,0.0,0.25,-0.5,0.5,-0.25,0.0,0.25,-0.5,0.5,-0.25,0.0,0.25,0.5,0.5,-0.25,0.0,0.25,-0.5,0.5,-0.25,0.0,0.25,-0.5,-0.5,-0.25,0.0,0.25,-0.5,0.5,-0.25,0.0,0.25,-0.5,0.5,-0.25,0.0,0.25,0.5,0.5,-0.25,0.0,0.25,-0.5],\"y\":[0.2886751345948129,-0.4330127018922194,0.5773502691896258,0.4330127018922194,-0.2886751345948129,0.0,-0.14433756729740646,-0.2886751345948129,-0.4330127018922194,0.0,-0.2886751345948129,0.14433756729740646,0.0,-0.14433756729740646,0.2886751345948129,0.0,0.4330127018922194,0.2886751345948129,0.14433756729740646,0.0,0.2886751345948129,-0.4330127018922194,-0.5773502691896258,0.4330127018922194,-0.2886751345948129,0.2886751345948129,-0.4330127018922194,0.5773502691896258,0.4330127018922194,-0.2886751345948129,0.0,-0.14433756729740646,-0.2886751345948129,-0.4330127018922194,0.0,-0.2886751345948129,0.14433756729740646,0.0,-0.14433756729740646,0.2886751345948129,0.0,0.4330127018922194,0.2886751345948129,0.14433756729740646,0.0,0.2886751345948129,-0.4330127018922194,-0.5773502691896258,0.4330127018922194,-0.2886751345948129,0.2886751345948129,-0.4330127018922194,0.5773502691896258,0.4330127018922194,-0.2886751345948129,0.0,-0.14433756729740646,-0.2886751345948129,-0.4330127018922194,0.0,-0.2886751345948129,0.14433756729740646,0.0,-0.14433756729740646,0.2886751345948129,0.0,0.4330127018922194,0.2886751345948129,0.14433756729740646,0.0,0.2886751345948129,-0.4330127018922194,-0.5773502691896258,0.4330127018922194,-0.2886751345948129,0.2886751345948129,-0.4330127018922194,0.5773502691896258,0.4330127018922194,-0.2886751345948129,0.0,-0.14433756729740646,-0.2886751345948129,-0.4330127018922194,0.0,-0.2886751345948129,0.14433756729740646,0.0,-0.14433756729740646,0.2886751345948129,0.0,0.4330127018922194,0.2886751345948129,0.14433756729740646,0.0,0.2886751345948129,-0.4330127018922194,-0.5773502691896258,0.4330127018922194,-0.2886751345948129,0.2886751345948129,-0.4330127018922194,0.5773502691896258,0.4330127018922194,-0.2886751345948129,0.0,-0.14433756729740646,-0.2886751345948129,-0.4330127018922194,0.0,-0.2886751345948129,0.14433756729740646,0.0,-0.14433756729740646,0.2886751345948129,0.0,0.4330127018922194,0.2886751345948129,0.14433756729740646,0.0,0.2886751345948129,-0.4330127018922194,-0.5773502691896258,0.4330127018922194,-0.2886751345948129],\"z\":[0.5,0.5,0.5,0.5,0.5,0.5,0.5,0.5,0.5,0.5,0.5,0.5,0.5,0.5,0.5,0.5,0.5,0.5,0.5,0.5,0.5,0.5,0.5,0.5,0.5,-0.25,-0.25,-0.25,-0.25,-0.25,-0.25,-0.25,-0.25,-0.25,-0.25,-0.25,-0.25,-0.25,-0.25,-0.25,-0.25,-0.25,-0.25,-0.25,-0.25,-0.25,-0.25,-0.25,-0.25,-0.25,0.0,0.0,0.0,0.0,0.0,0.0,0.0,0.0,0.0,0.0,0.0,0.0,0.0,0.0,0.0,0.0,0.0,0.0,0.0,0.0,0.0,0.0,0.0,0.0,0.0,0.25,0.25,0.25,0.25,0.25,0.25,0.25,0.25,0.25,0.25,0.25,0.25,0.25,0.25,0.25,0.25,0.25,0.25,0.25,0.25,0.25,0.25,0.25,0.25,0.25,-0.5,-0.5,-0.5,-0.5,-0.5,-0.5,-0.5,-0.5,-0.5,-0.5,-0.5,-0.5,-0.5,-0.5,-0.5,-0.5,-0.5,-0.5,-0.5,-0.5,-0.5,-0.5,-0.5,-0.5,-0.5]},{\"legendgroup\":\"RealAxes\",\"line\":{\"color\":\"green\"},\"mode\":\"lines+text\",\"name\":\"RealAxes\",\"text\":[\"<b>x</b>\",\"\",\"<b>y</b>\",\"\",\"<b>z</b>\"],\"type\":\"scatter3d\",\"x\":[0.25,0,0,0,0],\"y\":[0,0,0.25,0,0],\"z\":[0,0,0,0,0.25]},{\"colorscale\":[[0.0,\"rgb(247,252,245)\"],[0.125,\"rgb(229,245,224)\"],[0.25,\"rgb(199,233,192)\"],[0.375,\"rgb(161,217,155)\"],[0.5,\"rgb(116,196,118)\"],[0.625,\"rgb(65,171,93)\"],[0.75,\"rgb(35,139,69)\"],[0.875,\"rgb(0,109,44)\"],[1.0,\"rgb(0,68,27)\"]],\"legendgroup\":\"RealAxes\",\"name\":\"RealAxes\",\"showscale\":false,\"type\":\"cone\",\"u\":[1e-05,0,0],\"v\":[0,1e-05,0],\"w\":[0,0,1e-05],\"x\":[0.18,0,0],\"y\":[0,0.18,0],\"z\":[0,0,0.18]},{\"legendgroup\":\"a<sub>1</sub>\",\"line\":{\"color\":\"red\"},\"mode\":\"lines+text\",\"name\":\"<b>a</b><sub>1</sub>\",\"text\":[\"\",\"<b>a</b><sub>1</sub>\"],\"type\":\"scatter3d\",\"x\":[0,1.0],\"y\":[0,0.0],\"z\":[0,0.0]},{\"colorscale\":[[0.0,\"rgb(255,245,240)\"],[0.125,\"rgb(254,224,210)\"],[0.25,\"rgb(252,187,161)\"],[0.375,\"rgb(252,146,114)\"],[0.5,\"rgb(251,106,74)\"],[0.625,\"rgb(239,59,44)\"],[0.75,\"rgb(203,24,29)\"],[0.875,\"rgb(165,15,21)\"],[1.0,\"rgb(103,0,13)\"]],\"legendgroup\":\"a<sub>1</sub>\",\"name\":\"<b>a</b><sub>1</sub>\",\"showscale\":false,\"type\":\"cone\",\"u\":[0.2],\"v\":[0.0],\"w\":[0.0],\"x\":[0.95],\"y\":[0.0],\"z\":[0.0]},{\"legendgroup\":\"a<sub>2</sub>\",\"line\":{\"color\":\"red\"},\"mode\":\"lines+text\",\"name\":\"<b>a</b><sub>2</sub>\",\"text\":[\"\",\"<b>a</b><sub>2</sub>\"],\"type\":\"scatter3d\",\"x\":[0,0.5],\"y\":[0,0.8660254037844385],\"z\":[0,-0.0]},{\"colorscale\":[[0.0,\"rgb(255,245,240)\"],[0.125,\"rgb(254,224,210)\"],[0.25,\"rgb(252,187,161)\"],[0.375,\"rgb(252,146,114)\"],[0.5,\"rgb(251,106,74)\"],[0.625,\"rgb(239,59,44)\"],[0.75,\"rgb(203,24,29)\"],[0.875,\"rgb(165,15,21)\"],[1.0,\"rgb(103,0,13)\"]],\"legendgroup\":\"a<sub>2</sub>\",\"name\":\"<b>a</b><sub>2</sub>\",\"showscale\":false,\"type\":\"cone\",\"u\":[0.1],\"v\":[0.1732050807568877],\"w\":[-0.0],\"x\":[0.475],\"y\":[0.8227241335952166],\"z\":[-0.0]},{\"legendgroup\":\"a<sub>3</sub>\",\"line\":{\"color\":\"red\"},\"mode\":\"lines+text\",\"name\":\"<b>a</b><sub>3</sub>\",\"text\":[\"\",\"<b>a</b><sub>3</sub>\"],\"type\":\"scatter3d\",\"x\":[0,-0.0],\"y\":[0,0.0],\"z\":[0,1.0]},{\"colorscale\":[[0.0,\"rgb(255,245,240)\"],[0.125,\"rgb(254,224,210)\"],[0.25,\"rgb(252,187,161)\"],[0.375,\"rgb(252,146,114)\"],[0.5,\"rgb(251,106,74)\"],[0.625,\"rgb(239,59,44)\"],[0.75,\"rgb(203,24,29)\"],[0.875,\"rgb(165,15,21)\"],[1.0,\"rgb(103,0,13)\"]],\"legendgroup\":\"a<sub>3</sub>\",\"name\":\"<b>a</b><sub>3</sub>\",\"showscale\":false,\"type\":\"cone\",\"u\":[-0.0],\"v\":[0.0],\"w\":[0.2],\"x\":[-0.0],\"y\":[0.0],\"z\":[0.95]},{\"legendgroup\":\"Lattice\",\"line\":{\"color\":\"rgba(200,220,10,0.4)\"},\"mode\":\"lines\",\"name\":\"Lattice\",\"showlegend\":true,\"type\":\"scatter3d\",\"x\":[0.0,1.0,1.5,0.5,0.0],\"y\":[0.0,0.0,0.8660254,0.8660254,0.0],\"z\":[0.0,0.0,0.0,-0.0,0.0]},{\"legendgroup\":\"Lattice\",\"line\":{\"color\":\"rgba(200,220,10,0.4)\"},\"mode\":\"lines\",\"name\":\"Lattice\",\"showlegend\":false,\"type\":\"scatter3d\",\"x\":[0.0,0.5,0.5,-0.0,0.0],\"y\":[0.0,0.8660254,0.8660254,0.0,0.0],\"z\":[0.0,-0.0,1.0,1.0,0.0]},{\"legendgroup\":\"Lattice\",\"line\":{\"color\":\"rgba(200,220,10,0.4)\"},\"mode\":\"lines\",\"name\":\"Lattice\",\"showlegend\":false,\"type\":\"scatter3d\",\"x\":[0.0,-0.0,1.0,1.0,0.0],\"y\":[0.0,0.0,0.0,0.0,0.0],\"z\":[0.0,1.0,1.0,0.0,0.0]},{\"legendgroup\":\"Lattice\",\"line\":{\"color\":\"rgba(200,220,10,0.4)\"},\"mode\":\"lines\",\"name\":\"Lattice\",\"showlegend\":false,\"type\":\"scatter3d\",\"x\":[1.0,1.5,1.5,1.0,1.0],\"y\":[0.0,0.8660254,0.8660254,0.0,0.0],\"z\":[0.0,0.0,1.0,1.0,0.0]},{\"legendgroup\":\"Lattice\",\"line\":{\"color\":\"rgba(200,220,10,0.4)\"},\"mode\":\"lines\",\"name\":\"Lattice\",\"showlegend\":false,\"type\":\"scatter3d\",\"x\":[0.5,1.5,1.5,0.5,0.5],\"y\":[0.8660254,0.8660254,0.8660254,0.8660254,0.8660254],\"z\":[1.0,1.0,0.0,-0.0,1.0]},{\"legendgroup\":\"Lattice\",\"line\":{\"color\":\"rgba(200,220,10,0.4)\"},\"mode\":\"lines\",\"name\":\"Lattice\",\"showlegend\":false,\"type\":\"scatter3d\",\"x\":[1.0,1.5,0.5,-0.0,1.0],\"y\":[0.0,0.8660254,0.8660254,0.0,0.0],\"z\":[1.0,1.0,1.0,1.0,1.0]},{\"alphahull\":0,\"color\":\"rgba(200,220,10,0.4)\",\"legendgroup\":\"Lattice\",\"name\":\"Lattice\",\"opacity\":0.2,\"type\":\"mesh3d\",\"x\":[0.0,-0.0,0.5,0.5,1.0,1.0,1.5,1.5],\"y\":[0.0,0.0,0.8660254,0.8660254,0.0,0.0,0.8660254,0.8660254],\"z\":[0.0,1.0,-0.0,1.0,0.0,1.0,0.0,1.0]}],\"layout\":{\"font\":{\"family\":\"Times New Roman\",\"size\":14},\"margin\":{\"b\":10,\"l\":10,\"r\":10,\"t\":30},\"paper_bgcolor\":\"rgb(255,255,255)\",\"scene\":{\"aspectmode\":\"data\",\"camera\":{\"center\":{\"x\":0.1,\"y\":0.1,\"z\":0.1}},\"xaxis\":{\"showbackground\":false,\"visible\":false},\"yaxis\":{\"showbackground\":false,\"visible\":false},\"zaxis\":{\"showbackground\":false,\"visible\":false}},\"template\":{\"data\":{\"bar\":[{\"error_x\":{\"color\":\"#2a3f5f\"},\"error_y\":{\"color\":\"#2a3f5f\"},\"marker\":{\"line\":{\"color\":\"#E5ECF6\",\"width\":0.5}},\"type\":\"bar\"}],\"barpolar\":[{\"marker\":{\"line\":{\"color\":\"#E5ECF6\",\"width\":0.5}},\"type\":\"barpolar\"}],\"carpet\":[{\"aaxis\":{\"endlinecolor\":\"#2a3f5f\",\"gridcolor\":\"white\",\"linecolor\":\"white\",\"minorgridcolor\":\"white\",\"startlinecolor\":\"#2a3f5f\"},\"baxis\":{\"endlinecolor\":\"#2a3f5f\",\"gridcolor\":\"white\",\"linecolor\":\"white\",\"minorgridcolor\":\"white\",\"startlinecolor\":\"#2a3f5f\"},\"type\":\"carpet\"}],\"choropleth\":[{\"colorbar\":{\"outlinewidth\":0,\"ticks\":\"\"},\"type\":\"choropleth\"}],\"contour\":[{\"colorbar\":{\"outlinewidth\":0,\"ticks\":\"\"},\"colorscale\":[[0.0,\"#0d0887\"],[0.1111111111111111,\"#46039f\"],[0.2222222222222222,\"#7201a8\"],[0.3333333333333333,\"#9c179e\"],[0.4444444444444444,\"#bd3786\"],[0.5555555555555556,\"#d8576b\"],[0.6666666666666666,\"#ed7953\"],[0.7777777777777778,\"#fb9f3a\"],[0.8888888888888888,\"#fdca26\"],[1.0,\"#f0f921\"]],\"type\":\"contour\"}],\"contourcarpet\":[{\"colorbar\":{\"outlinewidth\":0,\"ticks\":\"\"},\"type\":\"contourcarpet\"}],\"heatmap\":[{\"colorbar\":{\"outlinewidth\":0,\"ticks\":\"\"},\"colorscale\":[[0.0,\"#0d0887\"],[0.1111111111111111,\"#46039f\"],[0.2222222222222222,\"#7201a8\"],[0.3333333333333333,\"#9c179e\"],[0.4444444444444444,\"#bd3786\"],[0.5555555555555556,\"#d8576b\"],[0.6666666666666666,\"#ed7953\"],[0.7777777777777778,\"#fb9f3a\"],[0.8888888888888888,\"#fdca26\"],[1.0,\"#f0f921\"]],\"type\":\"heatmap\"}],\"heatmapgl\":[{\"colorbar\":{\"outlinewidth\":0,\"ticks\":\"\"},\"colorscale\":[[0.0,\"#0d0887\"],[0.1111111111111111,\"#46039f\"],[0.2222222222222222,\"#7201a8\"],[0.3333333333333333,\"#9c179e\"],[0.4444444444444444,\"#bd3786\"],[0.5555555555555556,\"#d8576b\"],[0.6666666666666666,\"#ed7953\"],[0.7777777777777778,\"#fb9f3a\"],[0.8888888888888888,\"#fdca26\"],[1.0,\"#f0f921\"]],\"type\":\"heatmapgl\"}],\"histogram\":[{\"marker\":{\"colorbar\":{\"outlinewidth\":0,\"ticks\":\"\"}},\"type\":\"histogram\"}],\"histogram2d\":[{\"colorbar\":{\"outlinewidth\":0,\"ticks\":\"\"},\"colorscale\":[[0.0,\"#0d0887\"],[0.1111111111111111,\"#46039f\"],[0.2222222222222222,\"#7201a8\"],[0.3333333333333333,\"#9c179e\"],[0.4444444444444444,\"#bd3786\"],[0.5555555555555556,\"#d8576b\"],[0.6666666666666666,\"#ed7953\"],[0.7777777777777778,\"#fb9f3a\"],[0.8888888888888888,\"#fdca26\"],[1.0,\"#f0f921\"]],\"type\":\"histogram2d\"}],\"histogram2dcontour\":[{\"colorbar\":{\"outlinewidth\":0,\"ticks\":\"\"},\"colorscale\":[[0.0,\"#0d0887\"],[0.1111111111111111,\"#46039f\"],[0.2222222222222222,\"#7201a8\"],[0.3333333333333333,\"#9c179e\"],[0.4444444444444444,\"#bd3786\"],[0.5555555555555556,\"#d8576b\"],[0.6666666666666666,\"#ed7953\"],[0.7777777777777778,\"#fb9f3a\"],[0.8888888888888888,\"#fdca26\"],[1.0,\"#f0f921\"]],\"type\":\"histogram2dcontour\"}],\"mesh3d\":[{\"colorbar\":{\"outlinewidth\":0,\"ticks\":\"\"},\"type\":\"mesh3d\"}],\"parcoords\":[{\"line\":{\"colorbar\":{\"outlinewidth\":0,\"ticks\":\"\"}},\"type\":\"parcoords\"}],\"pie\":[{\"automargin\":true,\"type\":\"pie\"}],\"scatter\":[{\"marker\":{\"colorbar\":{\"outlinewidth\":0,\"ticks\":\"\"}},\"type\":\"scatter\"}],\"scatter3d\":[{\"line\":{\"colorbar\":{\"outlinewidth\":0,\"ticks\":\"\"}},\"marker\":{\"colorbar\":{\"outlinewidth\":0,\"ticks\":\"\"}},\"type\":\"scatter3d\"}],\"scattercarpet\":[{\"marker\":{\"colorbar\":{\"outlinewidth\":0,\"ticks\":\"\"}},\"type\":\"scattercarpet\"}],\"scattergeo\":[{\"marker\":{\"colorbar\":{\"outlinewidth\":0,\"ticks\":\"\"}},\"type\":\"scattergeo\"}],\"scattergl\":[{\"marker\":{\"colorbar\":{\"outlinewidth\":0,\"ticks\":\"\"}},\"type\":\"scattergl\"}],\"scattermapbox\":[{\"marker\":{\"colorbar\":{\"outlinewidth\":0,\"ticks\":\"\"}},\"type\":\"scattermapbox\"}],\"scatterpolar\":[{\"marker\":{\"colorbar\":{\"outlinewidth\":0,\"ticks\":\"\"}},\"type\":\"scatterpolar\"}],\"scatterpolargl\":[{\"marker\":{\"colorbar\":{\"outlinewidth\":0,\"ticks\":\"\"}},\"type\":\"scatterpolargl\"}],\"scatterternary\":[{\"marker\":{\"colorbar\":{\"outlinewidth\":0,\"ticks\":\"\"}},\"type\":\"scatterternary\"}],\"surface\":[{\"colorbar\":{\"outlinewidth\":0,\"ticks\":\"\"},\"colorscale\":[[0.0,\"#0d0887\"],[0.1111111111111111,\"#46039f\"],[0.2222222222222222,\"#7201a8\"],[0.3333333333333333,\"#9c179e\"],[0.4444444444444444,\"#bd3786\"],[0.5555555555555556,\"#d8576b\"],[0.6666666666666666,\"#ed7953\"],[0.7777777777777778,\"#fb9f3a\"],[0.8888888888888888,\"#fdca26\"],[1.0,\"#f0f921\"]],\"type\":\"surface\"}],\"table\":[{\"cells\":{\"fill\":{\"color\":\"#EBF0F8\"},\"line\":{\"color\":\"white\"}},\"header\":{\"fill\":{\"color\":\"#C8D4E3\"},\"line\":{\"color\":\"white\"}},\"type\":\"table\"}]},\"layout\":{\"annotationdefaults\":{\"arrowcolor\":\"#2a3f5f\",\"arrowhead\":0,\"arrowwidth\":1},\"coloraxis\":{\"colorbar\":{\"outlinewidth\":0,\"ticks\":\"\"}},\"colorscale\":{\"diverging\":[[0,\"#8e0152\"],[0.1,\"#c51b7d\"],[0.2,\"#de77ae\"],[0.3,\"#f1b6da\"],[0.4,\"#fde0ef\"],[0.5,\"#f7f7f7\"],[0.6,\"#e6f5d0\"],[0.7,\"#b8e186\"],[0.8,\"#7fbc41\"],[0.9,\"#4d9221\"],[1,\"#276419\"]],\"sequential\":[[0.0,\"#0d0887\"],[0.1111111111111111,\"#46039f\"],[0.2222222222222222,\"#7201a8\"],[0.3333333333333333,\"#9c179e\"],[0.4444444444444444,\"#bd3786\"],[0.5555555555555556,\"#d8576b\"],[0.6666666666666666,\"#ed7953\"],[0.7777777777777778,\"#fb9f3a\"],[0.8888888888888888,\"#fdca26\"],[1.0,\"#f0f921\"]],\"sequentialminus\":[[0.0,\"#0d0887\"],[0.1111111111111111,\"#46039f\"],[0.2222222222222222,\"#7201a8\"],[0.3333333333333333,\"#9c179e\"],[0.4444444444444444,\"#bd3786\"],[0.5555555555555556,\"#d8576b\"],[0.6666666666666666,\"#ed7953\"],[0.7777777777777778,\"#fb9f3a\"],[0.8888888888888888,\"#fdca26\"],[1.0,\"#f0f921\"]]},\"colorway\":[\"#636efa\",\"#EF553B\",\"#00cc96\",\"#ab63fa\",\"#FFA15A\",\"#19d3f3\",\"#FF6692\",\"#B6E880\",\"#FF97FF\",\"#FECB52\"],\"font\":{\"color\":\"#2a3f5f\"},\"geo\":{\"bgcolor\":\"white\",\"lakecolor\":\"white\",\"landcolor\":\"#E5ECF6\",\"showlakes\":true,\"showland\":true,\"subunitcolor\":\"white\"},\"hoverlabel\":{\"align\":\"left\"},\"hovermode\":\"closest\",\"mapbox\":{\"style\":\"light\"},\"paper_bgcolor\":\"white\",\"plot_bgcolor\":\"#E5ECF6\",\"polar\":{\"angularaxis\":{\"gridcolor\":\"white\",\"linecolor\":\"white\",\"ticks\":\"\"},\"bgcolor\":\"#E5ECF6\",\"radialaxis\":{\"gridcolor\":\"white\",\"linecolor\":\"white\",\"ticks\":\"\"}},\"scene\":{\"xaxis\":{\"backgroundcolor\":\"#E5ECF6\",\"gridcolor\":\"white\",\"gridwidth\":2,\"linecolor\":\"white\",\"showbackground\":true,\"ticks\":\"\",\"zerolinecolor\":\"white\"},\"yaxis\":{\"backgroundcolor\":\"#E5ECF6\",\"gridcolor\":\"white\",\"gridwidth\":2,\"linecolor\":\"white\",\"showbackground\":true,\"ticks\":\"\",\"zerolinecolor\":\"white\"},\"zaxis\":{\"backgroundcolor\":\"#E5ECF6\",\"gridcolor\":\"white\",\"gridwidth\":2,\"linecolor\":\"white\",\"showbackground\":true,\"ticks\":\"\",\"zerolinecolor\":\"white\"}},\"shapedefaults\":{\"line\":{\"color\":\"#2a3f5f\"}},\"ternary\":{\"aaxis\":{\"gridcolor\":\"white\",\"linecolor\":\"white\",\"ticks\":\"\"},\"baxis\":{\"gridcolor\":\"white\",\"linecolor\":\"white\",\"ticks\":\"\"},\"bgcolor\":\"#E5ECF6\",\"caxis\":{\"gridcolor\":\"white\",\"linecolor\":\"white\",\"ticks\":\"\"}},\"title\":{\"x\":0.05},\"xaxis\":{\"automargin\":true,\"gridcolor\":\"white\",\"linecolor\":\"white\",\"ticks\":\"\",\"title\":{\"standoff\":15},\"zerolinecolor\":\"white\",\"zerolinewidth\":2},\"yaxis\":{\"automargin\":true,\"gridcolor\":\"white\",\"linecolor\":\"white\",\"ticks\":\"\",\"title\":{\"standoff\":15},\"zerolinecolor\":\"white\",\"zerolinewidth\":2}}}}};\n                var config = {displayModeBar: false,scrollZoom: true};\n                Plotly.newPlot('graph-c78b689c-4bae-11eb-9f66-44032c5fd2c2', data.data,data.layout,config);\n            </script>\n        </div>",
      "text/plain": [
       "<IPython.core.display.HTML object>"
      ]
     },
     "execution_count": null,
     "metadata": {},
     "output_type": "execute_result"
    }
   ],
   "source": [
    "import pivotpy as pp\n",
    "\n",
    "kpoints = get_kmesh(5).kpoints \n",
    "coords = kpoints2bz(get_bz(hexa),kpoints)\n",
    "fig = iplot_bz(get_bz(hexa))\n",
    "fig.add_trace(go.Scatter3d(x=coords[:,0], y=coords[:,1],z=coords[:,2],\n",
    "            mode='markers',name='KPOINTS'))\n",
    "\n",
    "prim_bz = get_bz(hexa,primitive=True)\n",
    "iplot_bz(get_bz(prim_bz.basis,primitive=True),vname='a',fig=fig,color=\"rgba(200,220,10,0.4)\")\n",
    "pp.plotly_to_html(fig,modebar=False)\n"
   ]
  },
  {
   "cell_type": "code",
   "execution_count": null,
   "metadata": {},
   "outputs": [
    {
     "data": {
      "image/svg+xml": "<?xml version=\"1.0\" encoding=\"utf-8\" standalone=\"no\"?>\r\n<!DOCTYPE svg PUBLIC \"-//W3C//DTD SVG 1.1//EN\"\r\n  \"http://www.w3.org/Graphics/SVG/1.1/DTD/svg11.dtd\">\r\n<!-- Created with matplotlib (https://matplotlib.org/) -->\r\n<svg height=\"199.224pt\" version=\"1.1\" viewBox=\"0 0 204.12 199.224\" width=\"204.12pt\" xmlns=\"http://www.w3.org/2000/svg\" xmlns:xlink=\"http://www.w3.org/1999/xlink\">\r\n <defs>\r\n  <style type=\"text/css\">\r\n*{stroke-linecap:butt;stroke-linejoin:round;}\r\n  </style>\r\n </defs>\r\n <g id=\"figure_1\">\r\n  <g id=\"patch_1\">\r\n   <path d=\"M 0 199.224 \r\nL 204.12 199.224 \r\nL 204.12 0 \r\nL 0 0 \r\nz\r\n\" style=\"fill:none;\"/>\r\n  </g>\r\n  <g id=\"patch_2\">\r\n   <path d=\"M 7.2 192.024 \r\nL 196.92 192.024 \r\nL 196.92 7.2 \r\nL 7.2 7.2 \r\nz\r\n\" style=\"fill:#ffffff;\"/>\r\n  </g>\r\n  <g id=\"axes_1\">\r\n   <g id=\"Path3DCollection_1\">\r\n    <defs>\r\n     <path d=\"M 0 0.707107 \r\nC 0.187527 0.707107 0.367398 0.632602 0.5 0.5 \r\nC 0.632602 0.367398 0.707107 0.187527 0.707107 0 \r\nC 0.707107 -0.187527 0.632602 -0.367398 0.5 -0.5 \r\nC 0.367398 -0.632602 0.187527 -0.707107 0 -0.707107 \r\nC -0.187527 -0.707107 -0.367398 -0.632602 -0.5 -0.5 \r\nC -0.632602 -0.367398 -0.707107 -0.187527 -0.707107 0 \r\nC -0.707107 0.187527 -0.632602 0.367398 -0.5 0.5 \r\nC -0.367398 0.632602 -0.187527 0.707107 0 0.707107 \r\nz\r\n\" id=\"C0_0_f2cee8456c\"/>\r\n    </defs>\r\n    <g clip-path=\"url(#p265a3dcf36)\">\r\n     <use style=\"fill:#ff0000;stroke:#ff0000;\" x=\"94.947168\" xlink:href=\"#C0_0_f2cee8456c\" y=\"74.499447\"/>\r\n    </g>\r\n    <g clip-path=\"url(#p265a3dcf36)\">\r\n     <use style=\"fill:#ff0000;fill-opacity:0.5763;stroke:#ff0000;stroke-opacity:0.5763;\" x=\"91.154497\" xlink:href=\"#C0_0_f2cee8456c\" y=\"34.576574\"/>\r\n    </g>\r\n    <g clip-path=\"url(#p265a3dcf36)\">\r\n     <use style=\"fill:#ff0000;fill-opacity:0.952327;stroke:#ff0000;stroke-opacity:0.952327;\" x=\"143.016512\" xlink:href=\"#C0_0_f2cee8456c\" y=\"70.007508\"/>\r\n    </g>\r\n    <g clip-path=\"url(#p265a3dcf36)\">\r\n     <use style=\"fill:#ff0000;fill-opacity:0.976067;stroke:#ff0000;stroke-opacity:0.976067;\" x=\"119.079643\" xlink:href=\"#C0_0_f2cee8456c\" y=\"72.244338\"/>\r\n    </g>\r\n    <g clip-path=\"url(#p265a3dcf36)\">\r\n     <use style=\"fill:#ff0000;fill-opacity:0.555684;stroke:#ff0000;stroke-opacity:0.555684;\" x=\"113.569391\" xlink:href=\"#C0_0_f2cee8456c\" y=\"32.634103\"/>\r\n    </g>\r\n    <g clip-path=\"url(#p265a3dcf36)\">\r\n     <use style=\"fill:#ff0000;fill-opacity:0.639095;stroke:#ff0000;stroke-opacity:0.639095;\" x=\"131.872296\" xlink:href=\"#C0_0_f2cee8456c\" y=\"40.493382\"/>\r\n    </g>\r\n    <g clip-path=\"url(#p265a3dcf36)\">\r\n     <use style=\"fill:#ff0000;fill-opacity:0.660349;stroke:#ff0000;stroke-opacity:0.660349;\" x=\"109.182686\" xlink:href=\"#C0_0_f2cee8456c\" y=\"42.496023\"/>\r\n    </g>\r\n    <g clip-path=\"url(#p265a3dcf36)\">\r\n     <use style=\"fill:#ff0000;fill-opacity:0.681767;stroke:#ff0000;stroke-opacity:0.681767;\" x=\"86.317696\" xlink:href=\"#C0_0_f2cee8456c\" y=\"44.514144\"/>\r\n    </g>\r\n    <g clip-path=\"url(#p265a3dcf36)\">\r\n     <use style=\"fill:#ff0000;fill-opacity:0.703351;stroke:#ff0000;stroke-opacity:0.703351;\" x=\"63.275284\" xlink:href=\"#C0_0_f2cee8456c\" y=\"46.547925\"/>\r\n    </g>\r\n    <g clip-path=\"url(#p265a3dcf36)\">\r\n     <use style=\"fill:#ff0000;fill-opacity:0.639095;stroke:#ff0000;stroke-opacity:0.639095;\" x=\"131.872296\" xlink:href=\"#C0_0_f2cee8456c\" y=\"40.493382\"/>\r\n    </g>\r\n    <g clip-path=\"url(#p265a3dcf36)\">\r\n     <use style=\"fill:#ff0000;fill-opacity:0.813836;stroke:#ff0000;stroke-opacity:0.813836;\" x=\"57.772137\" xlink:href=\"#C0_0_f2cee8456c\" y=\"56.958231\"/>\r\n    </g>\r\n    <g clip-path=\"url(#p265a3dcf36)\">\r\n     <use style=\"fill:#ff0000;fill-opacity:0.747027;stroke:#ff0000;stroke-opacity:0.747027;\" x=\"127.774814\" xlink:href=\"#C0_0_f2cee8456c\" y=\"50.663201\"/>\r\n    </g>\r\n    <g clip-path=\"url(#p265a3dcf36)\">\r\n     <use style=\"fill:#ff0000;fill-opacity:0.769121;stroke:#ff0000;stroke-opacity:0.769121;\" x=\"104.623784\" xlink:href=\"#C0_0_f2cee8456c\" y=\"52.74507\"/>\r\n    </g>\r\n    <g clip-path=\"url(#p265a3dcf36)\">\r\n     <use style=\"fill:#ff0000;fill-opacity:0.79139;stroke:#ff0000;stroke-opacity:0.79139;\" x=\"81.29028\" xlink:href=\"#C0_0_f2cee8456c\" y=\"54.843349\"/>\r\n    </g>\r\n    <g clip-path=\"url(#p265a3dcf36)\">\r\n     <use style=\"fill:#ff0000;fill-opacity:0.725104;stroke:#ff0000;stroke-opacity:0.725104;\" x=\"150.745503\" xlink:href=\"#C0_0_f2cee8456c\" y=\"48.597549\"/>\r\n    </g>\r\n    <g clip-path=\"url(#p265a3dcf36)\">\r\n     <use style=\"fill:#ff0000;fill-opacity:0.905421;stroke:#ff0000;stroke-opacity:0.905421;\" x=\"76.060754\" xlink:href=\"#C0_0_f2cee8456c\" y=\"65.587802\"/>\r\n    </g>\r\n    <g clip-path=\"url(#p265a3dcf36)\">\r\n     <use style=\"fill:#ff0000;fill-opacity:0.836459;stroke:#ff0000;stroke-opacity:0.836459;\" x=\"146.957761\" xlink:href=\"#C0_0_f2cee8456c\" y=\"59.089915\"/>\r\n    </g>\r\n    <g clip-path=\"url(#p265a3dcf36)\">\r\n     <use style=\"fill:#ff0000;fill-opacity:0.859263;stroke:#ff0000;stroke-opacity:0.859263;\" x=\"123.513921\" xlink:href=\"#C0_0_f2cee8456c\" y=\"61.238601\"/>\r\n    </g>\r\n    <g clip-path=\"url(#p265a3dcf36)\">\r\n     <use style=\"fill:#ff0000;fill-opacity:0.88225;stroke:#ff0000;stroke-opacity:0.88225;\" x=\"99.88234\" xlink:href=\"#C0_0_f2cee8456c\" y=\"63.404494\"/>\r\n    </g>\r\n    <g clip-path=\"url(#p265a3dcf36)\">\r\n     <use style=\"fill:#ff0000;fill-opacity:0.905421;stroke:#ff0000;stroke-opacity:0.905421;\" x=\"76.060754\" xlink:href=\"#C0_0_f2cee8456c\" y=\"65.587802\"/>\r\n    </g>\r\n    <g clip-path=\"url(#p265a3dcf36)\">\r\n     <use style=\"fill:#ff0000;stroke:#ff0000;\" x=\"94.947168\" xlink:href=\"#C0_0_f2cee8456c\" y=\"74.499447\"/>\r\n    </g>\r\n    <g clip-path=\"url(#p265a3dcf36)\">\r\n     <use style=\"fill:#ff0000;fill-opacity:0.5763;stroke:#ff0000;stroke-opacity:0.5763;\" x=\"91.154497\" xlink:href=\"#C0_0_f2cee8456c\" y=\"34.576574\"/>\r\n    </g>\r\n    <g clip-path=\"url(#p265a3dcf36)\">\r\n     <use style=\"fill:#ff0000;fill-opacity:0.597072;stroke:#ff0000;stroke-opacity:0.597072;\" x=\"68.568984\" xlink:href=\"#C0_0_f2cee8456c\" y=\"36.53383\"/>\r\n    </g>\r\n    <g clip-path=\"url(#p265a3dcf36)\">\r\n     <use style=\"fill:#ff0000;fill-opacity:0.976067;stroke:#ff0000;stroke-opacity:0.976067;\" x=\"119.079643\" xlink:href=\"#C0_0_f2cee8456c\" y=\"72.244338\"/>\r\n    </g>\r\n    <g clip-path=\"url(#p265a3dcf36)\">\r\n     <use style=\"fill:#ff0000;fill-opacity:0.555684;stroke:#ff0000;stroke-opacity:0.555684;\" x=\"113.569391\" xlink:href=\"#C0_0_f2cee8456c\" y=\"32.634103\"/>\r\n    </g>\r\n    <g clip-path=\"url(#p265a3dcf36)\">\r\n     <use style=\"fill:#ff0000;fill-opacity:0.797897;stroke:#ff0000;stroke-opacity:0.797897;\" x=\"95.279677\" xlink:href=\"#C0_0_f2cee8456c\" y=\"134.736884\"/>\r\n    </g>\r\n    <g clip-path=\"url(#p265a3dcf36)\">\r\n     <use style=\"fill:#ff0000;fill-opacity:0.401834;stroke:#ff0000;stroke-opacity:0.401834;\" x=\"91.585054\" xlink:href=\"#C0_0_f2cee8456c\" y=\"91.889463\"/>\r\n    </g>\r\n    <g clip-path=\"url(#p265a3dcf36)\">\r\n     <use style=\"fill:#ff0000;fill-opacity:0.753432;stroke:#ff0000;stroke-opacity:0.753432;\" x=\"141.707585\" xlink:href=\"#C0_0_f2cee8456c\" y=\"129.926483\"/>\r\n    </g>\r\n    <g clip-path=\"url(#p265a3dcf36)\">\r\n     <use style=\"fill:#ff0000;fill-opacity:0.775577;stroke:#ff0000;stroke-opacity:0.775577;\" x=\"118.584861\" xlink:href=\"#C0_0_f2cee8456c\" y=\"132.322231\"/>\r\n    </g>\r\n    <g clip-path=\"url(#p265a3dcf36)\">\r\n     <use style=\"fill:#ff0000;fill-opacity:0.382514;stroke:#ff0000;stroke-opacity:0.382514;\" x=\"113.284482\" xlink:href=\"#C0_0_f2cee8456c\" y=\"89.799271\"/>\r\n    </g>\r\n    <g clip-path=\"url(#p265a3dcf36)\">\r\n     <use style=\"fill:#ff0000;fill-opacity:0.460657;stroke:#ff0000;stroke-opacity:0.460657;\" x=\"130.991576\" xlink:href=\"#C0_0_f2cee8456c\" y=\"98.253125\"/>\r\n    </g>\r\n    <g clip-path=\"url(#p265a3dcf36)\">\r\n     <use style=\"fill:#ff0000;fill-opacity:0.480557;stroke:#ff0000;stroke-opacity:0.480557;\" x=\"109.034786\" xlink:href=\"#C0_0_f2cee8456c\" y=\"100.405952\"/>\r\n    </g>\r\n    <g clip-path=\"url(#p265a3dcf36)\">\r\n     <use style=\"fill:#ff0000;fill-opacity:0.500606;stroke:#ff0000;stroke-opacity:0.500606;\" x=\"86.913806\" xlink:href=\"#C0_0_f2cee8456c\" y=\"102.574877\"/>\r\n    </g>\r\n    <g clip-path=\"url(#p265a3dcf36)\">\r\n     <use style=\"fill:#ff0000;fill-opacity:0.520805;stroke:#ff0000;stroke-opacity:0.520805;\" x=\"64.626787\" xlink:href=\"#C0_0_f2cee8456c\" y=\"104.760082\"/>\r\n    </g>\r\n    <g clip-path=\"url(#p265a3dcf36)\">\r\n     <use style=\"fill:#ff0000;fill-opacity:0.460657;stroke:#ff0000;stroke-opacity:0.460657;\" x=\"130.991576\" xlink:href=\"#C0_0_f2cee8456c\" y=\"98.253125\"/>\r\n    </g>\r\n    <g clip-path=\"url(#p265a3dcf36)\">\r\n     <use style=\"fill:#ff0000;fill-opacity:0.624118;stroke:#ff0000;stroke-opacity:0.624118;\" x=\"59.332799\" xlink:href=\"#C0_0_f2cee8456c\" y=\"115.936842\"/>\r\n    </g>\r\n    <g clip-path=\"url(#p265a3dcf36)\">\r\n     <use style=\"fill:#ff0000;fill-opacity:0.561661;stroke:#ff0000;stroke-opacity:0.561661;\" x=\"127.012385\" xlink:href=\"#C0_0_f2cee8456c\" y=\"109.18007\"/>\r\n    </g>\r\n    <g clip-path=\"url(#p265a3dcf36)\">\r\n     <use style=\"fill:#ff0000;fill-opacity:0.582322;stroke:#ff0000;stroke-opacity:0.582322;\" x=\"104.623784\" xlink:href=\"#C0_0_f2cee8456c\" y=\"111.41523\"/>\r\n    </g>\r\n    <g clip-path=\"url(#p265a3dcf36)\">\r\n     <use style=\"fill:#ff0000;fill-opacity:0.60314;stroke:#ff0000;stroke-opacity:0.60314;\" x=\"82.064575\" xlink:href=\"#C0_0_f2cee8456c\" y=\"113.667422\"/>\r\n    </g>\r\n    <g clip-path=\"url(#p265a3dcf36)\">\r\n     <use style=\"fill:#ff0000;fill-opacity:0.541156;stroke:#ff0000;stroke-opacity:0.541156;\" x=\"149.232306\" xlink:href=\"#C0_0_f2cee8456c\" y=\"106.961751\"/>\r\n    </g>\r\n    <g clip-path=\"url(#p265a3dcf36)\">\r\n     <use style=\"fill:#ff0000;fill-opacity:0.709657;stroke:#ff0000;stroke-opacity:0.709657;\" x=\"77.026992\" xlink:href=\"#C0_0_f2cee8456c\" y=\"125.190818\"/>\r\n    </g>\r\n    <g clip-path=\"url(#p265a3dcf36)\">\r\n     <use style=\"fill:#ff0000;fill-opacity:0.645256;stroke:#ff0000;stroke-opacity:0.645256;\" x=\"145.542172\" xlink:href=\"#C0_0_f2cee8456c\" y=\"118.223689\"/>\r\n    </g>\r\n    <g clip-path=\"url(#p265a3dcf36)\">\r\n     <use style=\"fill:#ff0000;fill-opacity:0.666558;stroke:#ff0000;stroke-opacity:0.666558;\" x=\"122.879826\" xlink:href=\"#C0_0_f2cee8456c\" y=\"120.528163\"/>\r\n    </g>\r\n    <g clip-path=\"url(#p265a3dcf36)\">\r\n     <use style=\"fill:#ff0000;fill-opacity:0.688024;stroke:#ff0000;stroke-opacity:0.688024;\" x=\"100.042114\" xlink:href=\"#C0_0_f2cee8456c\" y=\"122.850471\"/>\r\n    </g>\r\n    <g clip-path=\"url(#p265a3dcf36)\">\r\n     <use style=\"fill:#ff0000;fill-opacity:0.709657;stroke:#ff0000;stroke-opacity:0.709657;\" x=\"77.026992\" xlink:href=\"#C0_0_f2cee8456c\" y=\"125.190818\"/>\r\n    </g>\r\n    <g clip-path=\"url(#p265a3dcf36)\">\r\n     <use style=\"fill:#ff0000;fill-opacity:0.797897;stroke:#ff0000;stroke-opacity:0.797897;\" x=\"95.279677\" xlink:href=\"#C0_0_f2cee8456c\" y=\"134.736884\"/>\r\n    </g>\r\n    <g clip-path=\"url(#p265a3dcf36)\">\r\n     <use style=\"fill:#ff0000;fill-opacity:0.401834;stroke:#ff0000;stroke-opacity:0.401834;\" x=\"91.585054\" xlink:href=\"#C0_0_f2cee8456c\" y=\"91.889463\"/>\r\n    </g>\r\n    <g clip-path=\"url(#p265a3dcf36)\">\r\n     <use style=\"fill:#ff0000;fill-opacity:0.421298;stroke:#ff0000;stroke-opacity:0.421298;\" x=\"69.725752\" xlink:href=\"#C0_0_f2cee8456c\" y=\"93.995055\"/>\r\n    </g>\r\n    <g clip-path=\"url(#p265a3dcf36)\">\r\n     <use style=\"fill:#ff0000;fill-opacity:0.775577;stroke:#ff0000;stroke-opacity:0.775577;\" x=\"118.584861\" xlink:href=\"#C0_0_f2cee8456c\" y=\"132.322231\"/>\r\n    </g>\r\n    <g clip-path=\"url(#p265a3dcf36)\">\r\n     <use style=\"fill:#ff0000;fill-opacity:0.382514;stroke:#ff0000;stroke-opacity:0.382514;\" x=\"113.284482\" xlink:href=\"#C0_0_f2cee8456c\" y=\"89.799271\"/>\r\n    </g>\r\n    <g clip-path=\"url(#p265a3dcf36)\">\r\n     <use style=\"fill:#ff0000;fill-opacity:0.897182;stroke:#ff0000;stroke-opacity:0.897182;\" x=\"95.116329\" xlink:href=\"#C0_0_f2cee8456c\" y=\"105.144683\"/>\r\n    </g>\r\n    <g clip-path=\"url(#p265a3dcf36)\">\r\n     <use style=\"fill:#ff0000;fill-opacity:0.48765;stroke:#ff0000;stroke-opacity:0.48765;\" x=\"91.373273\" xlink:href=\"#C0_0_f2cee8456c\" y=\"63.698472\"/>\r\n    </g>\r\n    <g clip-path=\"url(#p265a3dcf36)\">\r\n     <use style=\"fill:#ff0000;fill-opacity:0.851155;stroke:#ff0000;stroke-opacity:0.851155;\" x=\"142.350699\" xlink:href=\"#C0_0_f2cee8456c\" y=\"100.486558\"/>\r\n    </g>\r\n    <g clip-path=\"url(#p265a3dcf36)\">\r\n     <use style=\"fill:#ff0000;fill-opacity:0.874076;stroke:#ff0000;stroke-opacity:0.874076;\" x=\"118.827944\" xlink:href=\"#C0_0_f2cee8456c\" y=\"102.806308\"/>\r\n    </g>\r\n    <g clip-path=\"url(#p265a3dcf36)\">\r\n     <use style=\"fill:#ff0000;fill-opacity:0.467698;stroke:#ff0000;stroke-opacity:0.467698;\" x=\"113.424631\" xlink:href=\"#C0_0_f2cee8456c\" y=\"61.679215\"/>\r\n    </g>\r\n    <g clip-path=\"url(#p265a3dcf36)\">\r\n     <use style=\"fill:#ff0000;fill-opacity:0.54841;stroke:#ff0000;stroke-opacity:0.54841;\" x=\"131.424703\" xlink:href=\"#C0_0_f2cee8456c\" y=\"69.847644\"/>\r\n    </g>\r\n    <g clip-path=\"url(#p265a3dcf36)\">\r\n     <use style=\"fill:#ff0000;fill-opacity:0.568971;stroke:#ff0000;stroke-opacity:0.568971;\" x=\"109.107517\" xlink:href=\"#C0_0_f2cee8456c\" y=\"71.928413\"/>\r\n    </g>\r\n    <g clip-path=\"url(#p265a3dcf36)\">\r\n     <use style=\"fill:#ff0000;fill-opacity:0.589687;stroke:#ff0000;stroke-opacity:0.589687;\" x=\"86.620684\" xlink:href=\"#C0_0_f2cee8456c\" y=\"74.024998\"/>\r\n    </g>\r\n    <g clip-path=\"url(#p265a3dcf36)\">\r\n     <use style=\"fill:#ff0000;fill-opacity:0.610562;stroke:#ff0000;stroke-opacity:0.610562;\" x=\"63.962263\" xlink:href=\"#C0_0_f2cee8456c\" y=\"76.137582\"/>\r\n    </g>\r\n    <g clip-path=\"url(#p265a3dcf36)\">\r\n     <use style=\"fill:#ff0000;fill-opacity:0.54841;stroke:#ff0000;stroke-opacity:0.54841;\" x=\"131.424703\" xlink:href=\"#C0_0_f2cee8456c\" y=\"69.847644\"/>\r\n    </g>\r\n    <g clip-path=\"url(#p265a3dcf36)\">\r\n     <use style=\"fill:#ff0000;fill-opacity:0.71737;stroke:#ff0000;stroke-opacity:0.71737;\" x=\"58.565685\" xlink:href=\"#C0_0_f2cee8456c\" y=\"86.94701\"/>\r\n    </g>\r\n    <g clip-path=\"url(#p265a3dcf36)\">\r\n     <use style=\"fill:#ff0000;fill-opacity:0.652792;stroke:#ff0000;stroke-opacity:0.652792;\" x=\"127.387217\" xlink:href=\"#C0_0_f2cee8456c\" y=\"80.411483\"/>\r\n    </g>\r\n    <g clip-path=\"url(#p265a3dcf36)\">\r\n     <use style=\"fill:#ff0000;fill-opacity:0.674152;stroke:#ff0000;stroke-opacity:0.674152;\" x=\"104.623784\" xlink:href=\"#C0_0_f2cee8456c\" y=\"82.573177\"/>\r\n    </g>\r\n    <g clip-path=\"url(#p265a3dcf36)\">\r\n     <use style=\"fill:#ff0000;fill-opacity:0.695677;stroke:#ff0000;stroke-opacity:0.695677;\" x=\"81.683959\" xlink:href=\"#C0_0_f2cee8456c\" y=\"84.75162\"/>\r\n    </g>\r\n    <g clip-path=\"url(#p265a3dcf36)\">\r\n     <use style=\"fill:#ff0000;fill-opacity:0.631596;stroke:#ff0000;stroke-opacity:0.631596;\" x=\"149.976286\" xlink:href=\"#C0_0_f2cee8456c\" y=\"78.266349\"/>\r\n    </g>\r\n    <g clip-path=\"url(#p265a3dcf36)\">\r\n     <use style=\"fill:#ff0000;fill-opacity:0.805855;stroke:#ff0000;stroke-opacity:0.805855;\" x=\"76.552185\" xlink:href=\"#C0_0_f2cee8456c\" y=\"95.902049\"/>\r\n    </g>\r\n    <g clip-path=\"url(#p265a3dcf36)\">\r\n     <use style=\"fill:#ff0000;fill-opacity:0.739232;stroke:#ff0000;stroke-opacity:0.739232;\" x=\"146.237931\" xlink:href=\"#C0_0_f2cee8456c\" y=\"89.159545\"/>\r\n    </g>\r\n    <g clip-path=\"url(#p265a3dcf36)\">\r\n     <use style=\"fill:#ff0000;fill-opacity:0.761266;stroke:#ff0000;stroke-opacity:0.761266;\" x=\"123.191462\" xlink:href=\"#C0_0_f2cee8456c\" y=\"91.389426\"/>\r\n    </g>\r\n    <g clip-path=\"url(#p265a3dcf36)\">\r\n     <use style=\"fill:#ff0000;fill-opacity:0.783473;stroke:#ff0000;stroke-opacity:0.783473;\" x=\"99.963596\" xlink:href=\"#C0_0_f2cee8456c\" y=\"93.636858\"/>\r\n    </g>\r\n    <g clip-path=\"url(#p265a3dcf36)\">\r\n     <use style=\"fill:#ff0000;fill-opacity:0.805855;stroke:#ff0000;stroke-opacity:0.805855;\" x=\"76.552185\" xlink:href=\"#C0_0_f2cee8456c\" y=\"95.902049\"/>\r\n    </g>\r\n    <g clip-path=\"url(#p265a3dcf36)\">\r\n     <use style=\"fill:#ff0000;fill-opacity:0.897182;stroke:#ff0000;stroke-opacity:0.897182;\" x=\"95.116329\" xlink:href=\"#C0_0_f2cee8456c\" y=\"105.144683\"/>\r\n    </g>\r\n    <g clip-path=\"url(#p265a3dcf36)\">\r\n     <use style=\"fill:#ff0000;fill-opacity:0.48765;stroke:#ff0000;stroke-opacity:0.48765;\" x=\"91.373273\" xlink:href=\"#C0_0_f2cee8456c\" y=\"63.698472\"/>\r\n    </g>\r\n    <g clip-path=\"url(#p265a3dcf36)\">\r\n     <use style=\"fill:#ff0000;fill-opacity:0.507752;stroke:#ff0000;stroke-opacity:0.507752;\" x=\"69.156798\" xlink:href=\"#C0_0_f2cee8456c\" y=\"65.732848\"/>\r\n    </g>\r\n    <g clip-path=\"url(#p265a3dcf36)\">\r\n     <use style=\"fill:#ff0000;fill-opacity:0.874076;stroke:#ff0000;stroke-opacity:0.874076;\" x=\"118.827944\" xlink:href=\"#C0_0_f2cee8456c\" y=\"102.806308\"/>\r\n    </g>\r\n    <g clip-path=\"url(#p265a3dcf36)\">\r\n     <use style=\"fill:#ff0000;fill-opacity:0.467698;stroke:#ff0000;stroke-opacity:0.467698;\" x=\"113.424631\" xlink:href=\"#C0_0_f2cee8456c\" y=\"61.679215\"/>\r\n    </g>\r\n    <g clip-path=\"url(#p265a3dcf36)\">\r\n     <use style=\"fill:#ff0000;fill-opacity:0.701966;stroke:#ff0000;stroke-opacity:0.701966;\" x=\"95.437507\" xlink:href=\"#C0_0_f2cee8456c\" y=\"163.329409\"/>\r\n    </g>\r\n    <g clip-path=\"url(#p265a3dcf36)\">\r\n     <use style=\"fill:#ff0000;fill-opacity:0.318719;stroke:#ff0000;stroke-opacity:0.318719;\" x=\"91.790173\" xlink:href=\"#C0_0_f2cee8456c\" y=\"119.193482\"/>\r\n    </g>\r\n    <g clip-path=\"url(#p265a3dcf36)\">\r\n     <use style=\"fill:#ff0000;fill-opacity:0.658985;stroke:#ff0000;stroke-opacity:0.658985;\" x=\"141.086029\" xlink:href=\"#C0_0_f2cee8456c\" y=\"158.379531\"/>\r\n    </g>\r\n    <g clip-path=\"url(#p265a3dcf36)\">\r\n     <use style=\"fill:#ff0000;fill-opacity:0.680392;stroke:#ff0000;stroke-opacity:0.680392;\" x=\"118.349957\" xlink:href=\"#C0_0_f2cee8456c\" y=\"160.844907\"/>\r\n    </g>\r\n    <g clip-path=\"url(#p265a3dcf36)\">\r\n     <use style=\"fill:#ff0000;fill-opacity:0.3;stroke:#ff0000;stroke-opacity:0.3;\" x=\"113.148727\" xlink:href=\"#C0_0_f2cee8456c\" y=\"117.037771\"/>\r\n    </g>\r\n    <g clip-path=\"url(#p265a3dcf36)\">\r\n     <use style=\"fill:#ff0000;fill-opacity:0.375695;stroke:#ff0000;stroke-opacity:0.375695;\" x=\"130.572227\" xlink:href=\"#C0_0_f2cee8456c\" y=\"125.755093\"/>\r\n    </g>\r\n    <g clip-path=\"url(#p265a3dcf36)\">\r\n     <use style=\"fill:#ff0000;fill-opacity:0.394966;stroke:#ff0000;stroke-opacity:0.394966;\" x=\"108.964377\" xlink:href=\"#C0_0_f2cee8456c\" y=\"127.974365\"/>\r\n    </g>\r\n    <g clip-path=\"url(#p265a3dcf36)\">\r\n     <use style=\"fill:#ff0000;fill-opacity:0.414379;stroke:#ff0000;stroke-opacity:0.414379;\" x=\"87.197535\" xlink:href=\"#C0_0_f2cee8456c\" y=\"130.209968\"/>\r\n    </g>\r\n    <g clip-path=\"url(#p265a3dcf36)\">\r\n     <use style=\"fill:#ff0000;fill-opacity:0.433935;stroke:#ff0000;stroke-opacity:0.433935;\" x=\"65.26994\" xlink:href=\"#C0_0_f2cee8456c\" y=\"132.46208\"/>\r\n    </g>\r\n    <g clip-path=\"url(#p265a3dcf36)\">\r\n     <use style=\"fill:#ff0000;fill-opacity:0.375695;stroke:#ff0000;stroke-opacity:0.375695;\" x=\"130.572227\" xlink:href=\"#C0_0_f2cee8456c\" y=\"125.755093\"/>\r\n    </g>\r\n    <g clip-path=\"url(#p265a3dcf36)\">\r\n     <use style=\"fill:#ff0000;fill-opacity:0.533921;stroke:#ff0000;stroke-opacity:0.533921;\" x=\"60.074779\" xlink:href=\"#C0_0_f2cee8456c\" y=\"143.976822\"/>\r\n    </g>\r\n    <g clip-path=\"url(#p265a3dcf36)\">\r\n     <use style=\"fill:#ff0000;fill-opacity:0.473483;stroke:#ff0000;stroke-opacity:0.473483;\" x=\"126.649697\" xlink:href=\"#C0_0_f2cee8456c\" y=\"137.016574\"/>\r\n    </g>\r\n    <g clip-path=\"url(#p265a3dcf36)\">\r\n     <use style=\"fill:#ff0000;fill-opacity:0.493478;stroke:#ff0000;stroke-opacity:0.493478;\" x=\"104.623784\" xlink:href=\"#C0_0_f2cee8456c\" y=\"139.31933\"/>\r\n    </g>\r\n    <g clip-path=\"url(#p265a3dcf36)\">\r\n     <use style=\"fill:#ff0000;fill-opacity:0.513624;stroke:#ff0000;stroke-opacity:0.513624;\" x=\"82.432766\" xlink:href=\"#C0_0_f2cee8456c\" y=\"141.639348\"/>\r\n    </g>\r\n    <g clip-path=\"url(#p265a3dcf36)\">\r\n     <use style=\"fill:#ff0000;fill-opacity:0.453635;stroke:#ff0000;stroke-opacity:0.453635;\" x=\"148.51234\" xlink:href=\"#C0_0_f2cee8456c\" y=\"134.730887\"/>\r\n    </g>\r\n    <g clip-path=\"url(#p265a3dcf36)\">\r\n     <use style=\"fill:#ff0000;fill-opacity:0.61666;stroke:#ff0000;stroke-opacity:0.61666;\" x=\"77.486004\" xlink:href=\"#C0_0_f2cee8456c\" y=\"153.505279\"/>\r\n    </g>\r\n    <g clip-path=\"url(#p265a3dcf36)\">\r\n     <use style=\"fill:#ff0000;fill-opacity:0.554371;stroke:#ff0000;stroke-opacity:0.554371;\" x=\"144.869294\" xlink:href=\"#C0_0_f2cee8456c\" y=\"146.331949\"/>\r\n    </g>\r\n    <g clip-path=\"url(#p265a3dcf36)\">\r\n     <use style=\"fill:#ff0000;fill-opacity:0.574977;stroke:#ff0000;stroke-opacity:0.574977;\" x=\"122.578479\" xlink:href=\"#C0_0_f2cee8456c\" y=\"148.704932\"/>\r\n    </g>\r\n    <g clip-path=\"url(#p265a3dcf36)\">\r\n     <use style=\"fill:#ff0000;fill-opacity:0.595739;stroke:#ff0000;stroke-opacity:0.595739;\" x=\"100.11803\" xlink:href=\"#C0_0_f2cee8456c\" y=\"151.095973\"/>\r\n    </g>\r\n    <g clip-path=\"url(#p265a3dcf36)\">\r\n     <use style=\"fill:#ff0000;fill-opacity:0.61666;stroke:#ff0000;stroke-opacity:0.61666;\" x=\"77.486004\" xlink:href=\"#C0_0_f2cee8456c\" y=\"153.505279\"/>\r\n    </g>\r\n    <g clip-path=\"url(#p265a3dcf36)\">\r\n     <use style=\"fill:#ff0000;fill-opacity:0.701966;stroke:#ff0000;stroke-opacity:0.701966;\" x=\"95.437507\" xlink:href=\"#C0_0_f2cee8456c\" y=\"163.329409\"/>\r\n    </g>\r\n    <g clip-path=\"url(#p265a3dcf36)\">\r\n     <use style=\"fill:#ff0000;fill-opacity:0.318719;stroke:#ff0000;stroke-opacity:0.318719;\" x=\"91.790173\" xlink:href=\"#C0_0_f2cee8456c\" y=\"119.193482\"/>\r\n    </g>\r\n    <g clip-path=\"url(#p265a3dcf36)\">\r\n     <use style=\"fill:#ff0000;fill-opacity:0.337573;stroke:#ff0000;stroke-opacity:0.337573;\" x=\"70.276741\" xlink:href=\"#C0_0_f2cee8456c\" y=\"121.364826\"/>\r\n    </g>\r\n    <g clip-path=\"url(#p265a3dcf36)\">\r\n     <use style=\"fill:#ff0000;fill-opacity:0.680392;stroke:#ff0000;stroke-opacity:0.680392;\" x=\"118.349957\" xlink:href=\"#C0_0_f2cee8456c\" y=\"160.844907\"/>\r\n    </g>\r\n    <g clip-path=\"url(#p265a3dcf36)\">\r\n     <use style=\"fill:#ff0000;fill-opacity:0.3;stroke:#ff0000;stroke-opacity:0.3;\" x=\"113.148727\" xlink:href=\"#C0_0_f2cee8456c\" y=\"117.037771\"/>\r\n    </g>\r\n   </g>\r\n   <g id=\"Poly3DCollection_1\">\r\n    <path clip-path=\"url(#p265a3dcf36)\" d=\"M 140.678583 36.53383 \r\nL 138.970827 121.364826 \r\nL 87.695764 112.772573 \r\nL 86.866713 28.792854 \r\nL 140.678583 36.53383 \r\nz\r\n\" style=\"fill:#6cccd7;fill-opacity:0.3;stroke:#6cccd7;\"/>\r\n    <path clip-path=\"url(#p265a3dcf36)\" d=\"M 87.695764 112.772573 \r\nL 138.970827 121.364826 \r\nL 158.48787 148.704932 \r\nL 123.139979 168.356686 \r\nL 68.161538 158.379531 \r\nL 52.345037 130.209967 \r\nL 87.695764 112.772573 \r\nz\r\n\" style=\"fill:#6cccd7;fill-opacity:0.3;stroke:#6cccd7;\"/>\r\n    <path clip-path=\"url(#p265a3dcf36)\" d=\"M 49.705521 44.514144 \r\nL 86.866713 28.792854 \r\nL 87.695764 112.772573 \r\nL 52.345037 130.209967 \r\nL 49.705521 44.514144 \r\nz\r\n\" style=\"fill:#6cccd7;fill-opacity:0.3;stroke:#6cccd7;\"/>\r\n    <path clip-path=\"url(#p265a3dcf36)\" d=\"M 158.48787 148.704932 \r\nL 138.970827 121.364826 \r\nL 140.678583 36.53383 \r\nL 161.294196 61.238601 \r\nL 158.48787 148.704932 \r\nz\r\n\" style=\"fill:#6cccd7;fill-opacity:0.3;stroke:#6cccd7;\"/>\r\n    <path clip-path=\"url(#p265a3dcf36)\" d=\"M 52.345037 130.209967 \r\nL 68.161538 158.379531 \r\nL 66.231055 70.007508 \r\nL 49.705521 44.514144 \r\nL 52.345037 130.209967 \r\nz\r\n\" style=\"fill:#6cccd7;fill-opacity:0.3;stroke:#6cccd7;\"/>\r\n    <path clip-path=\"url(#p265a3dcf36)\" d=\"M 124.136467 79.065404 \r\nL 161.294196 61.238601 \r\nL 140.678583 36.53383 \r\nL 86.866713 28.792854 \r\nL 49.705521 44.514144 \r\nL 66.231055 70.007508 \r\nL 124.136467 79.065404 \r\nz\r\n\" style=\"fill:#6cccd7;fill-opacity:0.3;stroke:#6cccd7;\"/>\r\n    <path clip-path=\"url(#p265a3dcf36)\" d=\"M 124.136467 79.065404 \r\nL 123.139979 168.356686 \r\nL 158.48787 148.704932 \r\nL 161.294196 61.238601 \r\nL 124.136467 79.065404 \r\nz\r\n\" style=\"fill:#6cccd7;fill-opacity:0.3;stroke:#6cccd7;\"/>\r\n    <path clip-path=\"url(#p265a3dcf36)\" d=\"M 66.231055 70.007508 \r\nL 68.161538 158.379531 \r\nL 123.139979 168.356686 \r\nL 124.136467 79.065404 \r\nL 66.231055 70.007508 \r\nz\r\n\" style=\"fill:#6cccd7;fill-opacity:0.3;stroke:#6cccd7;\"/>\r\n   </g>\r\n  </g>\r\n </g>\r\n <defs>\r\n  <clipPath id=\"p265a3dcf36\">\r\n   <rect height=\"184.824\" width=\"189.72\" x=\"7.2\" y=\"7.2\"/>\r\n  </clipPath>\r\n </defs>\r\n</svg>\r\n",
      "text/plain": "<Figure size 244.8x244.8 with 1 Axes>"
     },
     "metadata": {
      "needs_background": "light"
     },
     "output_type": "display_data"
    }
   ],
   "source": [
    "out = kpoints2bz(get_bz(hexa,primitive=False),get_kmesh(4,poscar=hexa).kpoints,primitive=False)\n",
    "ax = splot_bz(get_bz(hexa,primitive=False),fill=True,color=(108/255,204/255,215/255),vectors=False)\n",
    "#_ = splot_bz(get_bz(hexa,primitive=True),ax=ax,fill=True,color=(212/255,175/255,55/255))\n",
    "ax.scatter(out[:,0], out[:,1],out[:,2],c='r',s=2)\n",
    "ax.set_axis_off()\n"
   ]
  },
  {
   "cell_type": "code",
   "execution_count": null,
   "metadata": {},
   "outputs": [],
   "source": [
    "#export\n",
    "class BZ:\n",
    "    \"\"\"Brings BZ-related functions together.\"\"\"\n",
    "    __doc__ = \"\"\"{}\n",
    "    - **Methods**\n",
    "        - iplot/iplotc : Interactive plot of BZ/Cell. \n",
    "        - splot/splotc : Static plot of BZ/Cell.\n",
    "        - fetch/fetchc : Brings KPOINTS/Positions inside BZ/Cell. \n",
    "\n",
    "    \"\"\".format('\\n'.join(get_bz.__doc__.splitlines()[:7]))\n",
    "    \n",
    "    def __init__(self,poscar=None,loop=True, digits=8, primitive=False):\n",
    "        self.bz = get_bz(poscar=poscar,loop=loop, digits=digits, primitive=primitive)\n",
    "        self.primitive = primitive\n",
    "        self.poscar = poscar \n",
    "\n",
    "        lat = get_bz(get_bz(poscar,primitive = True).basis, primitive = True) # Double operation\n",
    "        self.cell = vp.Dict2Data({'basis':lat.basis,'vertices':lat.vertices,'faces':lat.faces})\n",
    "\n",
    "    def iplot(self,fill=True, color='rgba(168,204,216,0.4)', background='rgb(255,255,255)', fig=None):\n",
    "        \"\"\"Returns plotly's Figure of BZ plot.\"\"\"\n",
    "        return iplot_bz(self.bz,fill=fill,color=color,background=background,fig=fig)\n",
    "\n",
    "    def splot(self,ax=None, plane=None, color=(0.4,0.8,0.85), fill=True, vectors=True, v3=False):\n",
    "        \"\"\"Returns Matplotlib's Axes of BZ plot.\"\"\"\n",
    "        return splot_bz(self.bz,ax=ax,plane=plane,color=color,fill=fill,vectors=vectors,v3=v3)\n",
    "\n",
    "    def fetch(self,kpoints):\n",
    "        \"\"\"Brings KPOINTS inside BZ and returns their R3 coordinates.\"\"\"\n",
    "        return kpoints2bz(self.bz, kpoints= kpoints,primitive=self.primitive)\n",
    "\n",
    "    def iplotc(self,fill=True, color='rgba(168,204,216,0.4)', background='rgb(255,255,255)', fig=None):\n",
    "        \"\"\"Returns plotly's Figure of Cell plot.\"\"\"\n",
    "        return iplot_bz(self.cell,fill=fill,color=color,background=background,fig=fig,vname='a')\n",
    "\n",
    "    def splotc(self,ax=None, plane=None, color=(0.4,0.8,0.85), fill=True, vectors=True, v3=False):\n",
    "        \"\"\"Returns Matplotlib's Axes of Cell plot.\"\"\"\n",
    "        return splot_bz(self.cell,ax=ax,plane=plane,color=color,fill=fill,vectors=vectors,v3=v3,vname='a')\n",
    "\n",
    "    def fetchc(self,points):\n",
    "        \"\"\"Brings atoms's positions inside Cell and returns their R3 coordinates.\"\"\"\n",
    "        return to_R3(self.cell.basis, kpoints= points)\n"
   ]
  },
  {
   "cell_type": "code",
   "execution_count": null,
   "metadata": {},
   "outputs": [
    {
     "data": {
      "image/svg+xml": "<?xml version=\"1.0\" encoding=\"utf-8\" standalone=\"no\"?>\r\n<!DOCTYPE svg PUBLIC \"-//W3C//DTD SVG 1.1//EN\"\r\n  \"http://www.w3.org/Graphics/SVG/1.1/DTD/svg11.dtd\">\r\n<!-- Created with matplotlib (https://matplotlib.org/) -->\r\n<svg height=\"137.52pt\" version=\"1.1\" viewBox=\"0 0 460.8 137.52\" width=\"460.8pt\" xmlns=\"http://www.w3.org/2000/svg\" xmlns:xlink=\"http://www.w3.org/1999/xlink\">\r\n <defs>\r\n  <style type=\"text/css\">\r\n*{stroke-linecap:butt;stroke-linejoin:round;}\r\n  </style>\r\n </defs>\r\n <g id=\"figure_1\">\r\n  <g id=\"patch_1\">\r\n   <path d=\"M 0 137.52 \r\nL 460.8 137.52 \r\nL 460.8 0 \r\nL 0 0 \r\nz\r\n\" style=\"fill:none;\"/>\r\n  </g>\r\n  <g id=\"axes_1\">\r\n   <g id=\"patch_2\">\r\n    <path clip-path=\"url(#p0fd963bf4a)\" d=\"M 189.524111 125.378182 \r\nL 186.87747 127.090078 \r\nL 186.87747 125.435245 \r\nL 128.063241 125.435245 \r\nL 128.063241 125.321119 \r\nL 186.87747 125.321119 \r\nL 186.87747 123.666286 \r\nz\r\n\" style=\"stroke:#000000;stroke-linejoin:miter;stroke-width:0.8;\"/>\r\n   </g>\r\n   <g id=\"patch_3\">\r\n    <path clip-path=\"url(#p0fd963bf4a)\" d=\"M 158.793676 22.094182 \r\nL 158.234375 27.397766 \r\nL 157.495823 26.57035 \r\nL 128.088708 125.406713 \r\nL 128.037774 125.34965 \r\nL 157.444888 26.513287 \r\nL 156.706336 25.68587 \r\nz\r\n\" style=\"stroke:#000000;stroke-linejoin:miter;stroke-width:0.8;\"/>\r\n   </g>\r\n   <g id=\"line2d_1\">\r\n    <path clip-path=\"url(#p0fd963bf4a)\" d=\"M 128.063241 125.378182 \r\nL 186.87747 125.378182 \r\nL 216.284585 26.541819 \r\nL 157.470356 26.541819 \r\nL 128.063241 125.378182 \r\n\" style=\"fill:none;stroke:#66ccd9;stroke-linecap:square;\"/>\r\n   </g>\r\n   <g id=\"line2d_2\">\r\n    <path clip-path=\"url(#p0fd963bf4a)\" d=\"M 128.063241 125.378182 \r\nL 157.470356 26.541819 \r\nL 157.470356 26.541819 \r\nL 128.063241 125.378182 \r\nL 128.063241 125.378182 \r\n\" style=\"fill:none;stroke:#66ccd9;stroke-linecap:square;\"/>\r\n   </g>\r\n   <g id=\"line2d_3\">\r\n    <path clip-path=\"url(#p0fd963bf4a)\" d=\"M 128.063241 125.378182 \r\nL 128.063241 125.378182 \r\nL 186.87747 125.378182 \r\nL 186.87747 125.378182 \r\nL 128.063241 125.378182 \r\n\" style=\"fill:none;stroke:#66ccd9;stroke-linecap:square;\"/>\r\n   </g>\r\n   <g id=\"line2d_4\">\r\n    <path clip-path=\"url(#p0fd963bf4a)\" d=\"M 186.87747 125.378182 \r\nL 216.284585 26.541819 \r\nL 216.284585 26.541819 \r\nL 186.87747 125.378182 \r\nL 186.87747 125.378182 \r\n\" style=\"fill:none;stroke:#66ccd9;stroke-linecap:square;\"/>\r\n   </g>\r\n   <g id=\"line2d_5\">\r\n    <path clip-path=\"url(#p0fd963bf4a)\" d=\"M 157.470356 26.541819 \r\nL 216.284585 26.541819 \r\nL 216.284585 26.541819 \r\nL 157.470356 26.541819 \r\nL 157.470356 26.541819 \r\n\" style=\"fill:none;stroke:#66ccd9;stroke-linecap:square;\"/>\r\n   </g>\r\n   <g id=\"line2d_6\">\r\n    <path clip-path=\"url(#p0fd963bf4a)\" d=\"M 186.87747 125.378182 \r\nL 216.284585 26.541819 \r\nL 157.470356 26.541819 \r\nL 128.063241 125.378182 \r\nL 186.87747 125.378182 \r\n\" style=\"fill:none;stroke:#66ccd9;stroke-linecap:square;\"/>\r\n   </g>\r\n   <g id=\"line2d_7\">\r\n    <path clip-path=\"url(#p0fd963bf4a)\" d=\"M 128.063241 125.378182 \r\nL 186.87747 125.378182 \r\n\" style=\"fill:none;stroke:#000000;stroke-linecap:square;stroke-width:0.8;\"/>\r\n   </g>\r\n   <g id=\"line2d_8\">\r\n    <path clip-path=\"url(#p0fd963bf4a)\" d=\"M 128.063241 125.378182 \r\nL 157.470356 26.541818 \r\n\" style=\"fill:none;stroke:#000000;stroke-linecap:square;stroke-width:0.8;\"/>\r\n   </g>\r\n   <g id=\"text_1\">\r\n    <!--  $\\veca_1$ -->\r\n    <defs>\r\n     <path id=\"STIXGeneral-Regular-32\"/>\r\n     <path d=\"M -1.703125 65.40625 \r\nL -14.90625 54.796875 \r\nL -16.703125 55.59375 \r\nQ -11.796875 59.703125 -11.796875 61.203125 \r\nQ -11.796875 62.703125 -16.703125 62.703125 \r\nL -45.296875 62.703125 \r\nL -45.296875 68.09375 \r\nL -16.703125 68.09375 \r\nQ -11.796875 68.09375 -11.796875 69.59375 \r\nQ -11.796875 69.90625 -12 70.25 \r\nQ -12.203125 70.59375 -12.75 71.140625 \r\nQ -13.296875 71.703125 -13.75 72.203125 \r\nQ -14.203125 72.703125 -15.203125 73.640625 \r\nQ -16.203125 74.59375 -16.796875 75.203125 \r\nL -15 76 \r\nz\r\n\" id=\"STIXGeneral-Regular-8407\"/>\r\n     <path d=\"M 46.296875 11.09375 \r\nL 47.59375 10 \r\nQ 42 3.203125 39.34375 1.09375 \r\nQ 36.703125 -1 33.703125 -1 \r\nQ 29.703125 -1 29.703125 3.09375 \r\nQ 29.703125 5.59375 32 14.59375 \r\nQ 26.40625 6.203125 21.703125 2.546875 \r\nQ 17 -1.09375 11.703125 -1.09375 \r\nQ 7.296875 -1.09375 4.5 1.953125 \r\nQ 1.703125 5 1.703125 10.5 \r\nQ 1.703125 18.09375 6.046875 26 \r\nQ 10.40625 33.90625 17.09375 39 \r\nQ 23.796875 44.09375 30.296875 44.09375 \r\nQ 37 44.09375 38.296875 38.296875 \r\nL 39.40625 43.09375 \r\nL 39.703125 43.40625 \r\nL 45.796875 44.09375 \r\nL 46.5 43.796875 \r\nQ 46.40625 43.40625 45.90625 41.703125 \r\nQ 37 9.296875 37 5.40625 \r\nQ 37 4.09375 38.40625 4.09375 \r\nQ 39.90625 4.09375 43.59375 8.203125 \r\nz\r\nM 36.5 36.09375 \r\nQ 36.5 38.703125 35 40.296875 \r\nQ 33.5 41.90625 30.90625 41.90625 \r\nQ 24.09375 41.90625 17.796875 32.703125 \r\nQ 14.5 27.796875 12.296875 21.796875 \r\nQ 10.09375 15.796875 10.09375 11.203125 \r\nQ 10.09375 3.796875 16.09375 3.796875 \r\nQ 22 3.796875 28.796875 13.59375 \r\nQ 36.5 24.703125 36.5 36.09375 \r\nz\r\n\" id=\"STIXGeneral-Italic-97\"/>\r\n     <path d=\"M 39.40625 0 \r\nL 11.796875 0 \r\nL 11.796875 1.5 \r\nQ 17.296875 1.796875 19.296875 3.546875 \r\nQ 21.296875 5.296875 21.296875 9.5 \r\nL 21.296875 54.40625 \r\nQ 21.296875 59.296875 18.296875 59.296875 \r\nQ 16.90625 59.296875 13.796875 58.09375 \r\nL 11.09375 57.09375 \r\nL 11.09375 58.5 \r\nL 29 67.59375 \r\nL 29.90625 67.296875 \r\nL 29.90625 7.59375 \r\nQ 29.90625 4.296875 31.90625 2.890625 \r\nQ 33.90625 1.5 39.40625 1.5 \r\nz\r\n\" id=\"STIXGeneral-Regular-49\"/>\r\n    </defs>\r\n    <g transform=\"translate(175.114625 123.207869)scale(0.1 -0.1)\">\r\n     <use transform=\"translate(0 0.203125)\" xlink:href=\"#STIXGeneral-Regular-32\"/>\r\n     <use transform=\"translate(76.769516 2)\" xlink:href=\"#STIXGeneral-Regular-8407\"/>\r\n     <use transform=\"translate(24.999985 0.203125)\" xlink:href=\"#STIXGeneral-Italic-97\"/>\r\n     <use transform=\"translate(76.643257 -13.025)scale(0.7)\" xlink:href=\"#STIXGeneral-Regular-49\"/>\r\n    </g>\r\n   </g>\r\n   <g id=\"text_2\">\r\n    <!--  $\\veca_2$ -->\r\n    <defs>\r\n     <path d=\"M 47.40625 13.703125 \r\nL 42 0 \r\nL 2.90625 0 \r\nL 2.90625 1.203125 \r\nL 20.703125 20.09375 \r\nQ 27.703125 27.40625 30.703125 33.5 \r\nQ 33.703125 39.59375 33.703125 46.09375 \r\nQ 33.703125 52.796875 30 56.5 \r\nQ 26.296875 60.203125 19.796875 60.203125 \r\nQ 14.40625 60.203125 11.25 57.390625 \r\nQ 8.09375 54.59375 5.09375 47.203125 \r\nL 3 47.703125 \r\nQ 4.703125 57 9.84375 62.296875 \r\nQ 15 67.59375 23.796875 67.59375 \r\nQ 32.09375 67.59375 37.1875 62.59375 \r\nQ 42.296875 57.59375 42.296875 50 \r\nQ 42.296875 38.703125 29.5 25.203125 \r\nL 13 7.59375 \r\nL 36.40625 7.59375 \r\nQ 39.703125 7.59375 41.640625 8.890625 \r\nQ 43.59375 10.203125 46 14.296875 \r\nz\r\n\" id=\"STIXGeneral-Regular-50\"/>\r\n    </defs>\r\n    <g transform=\"translate(151.588933 44.138778)scale(0.1 -0.1)\">\r\n     <use transform=\"translate(0 0.203125)\" xlink:href=\"#STIXGeneral-Regular-32\"/>\r\n     <use transform=\"translate(76.769516 2)\" xlink:href=\"#STIXGeneral-Regular-8407\"/>\r\n     <use transform=\"translate(24.999985 0.203125)\" xlink:href=\"#STIXGeneral-Italic-97\"/>\r\n     <use transform=\"translate(76.643257 -13.025)scale(0.7)\" xlink:href=\"#STIXGeneral-Regular-50\"/>\r\n    </g>\r\n   </g>\r\n  </g>\r\n  <g id=\"axes_2\">\r\n   <g id=\"patch_4\">\r\n    <path clip-path=\"url(#p539224968d)\" d=\"M 451.251785 126.662104 \r\nL 448.791937 126.119454 \r\nL 449.1757 125.402891 \r\nL 396.242893 92.457436 \r\nL 396.26936 92.408018 \r\nL 449.202166 125.353473 \r\nL 449.585929 124.636909 \r\nz\r\n\" style=\"stroke:#000000;stroke-linejoin:miter;stroke-width:0.8;\"/>\r\n   </g>\r\n   <g id=\"patch_5\">\r\n    <path clip-path=\"url(#p539224968d)\" d=\"M 396.256127 23.973974 \r\nL 397.050119 26.541818 \r\nL 396.282593 26.541818 \r\nL 396.282593 92.432727 \r\nL 396.22966 92.432727 \r\nL 396.22966 26.541818 \r\nL 395.462134 26.541818 \r\nz\r\n\" style=\"stroke:#000000;stroke-linejoin:miter;stroke-width:0.8;\"/>\r\n   </g>\r\n   <g id=\"line2d_9\">\r\n    <path clip-path=\"url(#p539224968d)\" d=\"M 413.900395 59.487273 \r\nL 378.611858 59.487273 \r\nL 360.967589 92.432727 \r\nL 378.611858 125.378182 \r\nL 413.900395 125.378182 \r\nL 431.544664 92.432727 \r\nL 413.900395 59.487273 \r\n\" style=\"fill:none;stroke:#66ccd9;stroke-linecap:square;\"/>\r\n   </g>\r\n   <g id=\"line2d_10\">\r\n    <path clip-path=\"url(#p539224968d)\" d=\"M 378.611858 125.378182 \r\nL 360.967589 92.432727 \r\nL 378.611858 59.487273 \r\nL 413.900395 59.487273 \r\nL 431.544664 92.432727 \r\nL 413.900395 125.378182 \r\nL 378.611858 125.378182 \r\n\" style=\"fill:none;stroke:#66ccd9;stroke-linecap:square;\"/>\r\n   </g>\r\n   <g id=\"line2d_11\">\r\n    <path clip-path=\"url(#p539224968d)\" d=\"M 413.900395 125.378182 \r\nL 378.611858 125.378182 \r\nL 378.611858 125.378182 \r\nL 413.900395 125.378182 \r\nL 413.900395 125.378182 \r\n\" style=\"fill:none;stroke:#66ccd9;stroke-linecap:square;\"/>\r\n   </g>\r\n   <g id=\"line2d_12\">\r\n    <path clip-path=\"url(#p539224968d)\" d=\"M 413.900395 125.378182 \r\nL 431.544664 92.432727 \r\nL 431.544664 92.432727 \r\nL 413.900395 125.378182 \r\nL 413.900395 125.378182 \r\n\" style=\"fill:none;stroke:#66ccd9;stroke-linecap:square;\"/>\r\n   </g>\r\n   <g id=\"line2d_13\">\r\n    <path clip-path=\"url(#p539224968d)\" d=\"M 413.900395 59.487273 \r\nL 413.900395 59.487273 \r\nL 378.611858 59.487273 \r\nL 378.611858 59.487273 \r\nL 413.900395 59.487273 \r\n\" style=\"fill:none;stroke:#66ccd9;stroke-linecap:square;\"/>\r\n   </g>\r\n   <g id=\"line2d_14\">\r\n    <path clip-path=\"url(#p539224968d)\" d=\"M 431.544664 92.432727 \r\nL 431.544664 92.432727 \r\nL 413.900395 59.487273 \r\nL 413.900395 59.487273 \r\nL 431.544664 92.432727 \r\n\" style=\"fill:none;stroke:#66ccd9;stroke-linecap:square;\"/>\r\n   </g>\r\n   <g id=\"line2d_15\">\r\n    <path clip-path=\"url(#p539224968d)\" d=\"M 378.611858 59.487273 \r\nL 360.967589 92.432727 \r\nL 360.967589 92.432727 \r\nL 378.611858 59.487273 \r\nL 378.611858 59.487273 \r\n\" style=\"fill:none;stroke:#66ccd9;stroke-linecap:square;\"/>\r\n   </g>\r\n   <g id=\"line2d_16\">\r\n    <path clip-path=\"url(#p539224968d)\" d=\"M 360.967589 92.432727 \r\nL 360.967589 92.432727 \r\nL 378.611858 125.378182 \r\nL 378.611858 125.378182 \r\nL 360.967589 92.432727 \r\n\" style=\"fill:none;stroke:#66ccd9;stroke-linecap:square;\"/>\r\n   </g>\r\n   <g id=\"line2d_17\">\r\n    <path clip-path=\"url(#p539224968d)\" d=\"M 396.256127 92.432727 \r\nL 449.188933 125.378182 \r\n\" style=\"fill:none;stroke:#000000;stroke-linecap:square;stroke-width:0.8;\"/>\r\n   </g>\r\n   <g id=\"line2d_18\">\r\n    <path clip-path=\"url(#p539224968d)\" d=\"M 396.256127 92.432727 \r\nL 396.256127 26.541818 \r\n\" style=\"fill:none;stroke:#000000;stroke-linecap:square;stroke-width:0.8;\"/>\r\n   </g>\r\n   <g id=\"text_3\">\r\n    <!--  $\\vecb_1$ -->\r\n    <defs>\r\n     <path d=\"M 16.296875 29 \r\nL 16.40625 29 \r\nQ 21.40625 37.296875 25.84375 40.6875 \r\nQ 30.296875 44.09375 35.703125 44.09375 \r\nQ 40.90625 44.09375 44.09375 40.890625 \r\nQ 47.296875 37.703125 47.296875 32.09375 \r\nQ 47.296875 24.40625 42.59375 16.59375 \r\nQ 37.90625 8.796875 30.34375 3.84375 \r\nQ 22.796875 -1.09375 15.296875 -1.09375 \r\nQ 10.703125 -1.09375 6.5 0.5 \r\nQ 2.296875 2.09375 2.296875 4.203125 \r\nL 2.296875 4.796875 \r\nL 16.5 57.09375 \r\nQ 17.40625 60.703125 17.40625 61.796875 \r\nQ 17.40625 63.40625 16.453125 63.75 \r\nQ 15.5 64.09375 11 64.296875 \r\nL 11 66 \r\nQ 18.5 66.90625 26.296875 68.296875 \r\nL 26.796875 67.796875 \r\nL 24.703125 59.59375 \r\nz\r\nM 38.796875 30.59375 \r\nQ 38.796875 39.203125 31.796875 39.203125 \r\nQ 24.90625 39.203125 18.09375 27.703125 \r\nQ 14.90625 22.296875 12.90625 15.75 \r\nQ 10.90625 9.203125 10.90625 4.59375 \r\nQ 10.90625 1.203125 15.5 1.203125 \r\nQ 22.09375 1.203125 27.796875 7.09375 \r\nQ 32.40625 11.90625 35.59375 18.546875 \r\nQ 38.796875 25.203125 38.796875 30.59375 \r\nz\r\n\" id=\"STIXGeneral-Italic-98\"/>\r\n    </defs>\r\n    <g transform=\"translate(438.602372 116.618778)scale(0.1 -0.1)\">\r\n     <use xlink:href=\"#STIXGeneral-Regular-32\"/>\r\n     <use transform=\"translate(76.54686 26)\" xlink:href=\"#STIXGeneral-Regular-8407\"/>\r\n     <use transform=\"translate(24.999985 0)\" xlink:href=\"#STIXGeneral-Italic-98\"/>\r\n     <use transform=\"translate(76.543251 -13.228125)scale(0.7)\" xlink:href=\"#STIXGeneral-Regular-49\"/>\r\n    </g>\r\n   </g>\r\n   <g id=\"text_4\">\r\n    <!--  $\\vecb_2$ -->\r\n    <g transform=\"translate(396.256127 37.549687)scale(0.1 -0.1)\">\r\n     <use xlink:href=\"#STIXGeneral-Regular-32\"/>\r\n     <use transform=\"translate(76.54686 26)\" xlink:href=\"#STIXGeneral-Regular-8407\"/>\r\n     <use transform=\"translate(24.999985 0)\" xlink:href=\"#STIXGeneral-Italic-98\"/>\r\n     <use transform=\"translate(76.543251 -13.228125)scale(0.7)\" xlink:href=\"#STIXGeneral-Regular-50\"/>\r\n    </g>\r\n   </g>\r\n  </g>\r\n  <g id=\"patch_6\">\r\n   <path d=\"M 7.2 130.32 \r\nL 104.243478 130.32 \r\nL 104.243478 21.6 \r\nL 7.2 21.6 \r\nz\r\n\" style=\"fill:#ffffff;\"/>\r\n  </g>\r\n  <g id=\"axes_3\">\r\n   <g id=\"Line3DCollection_1\">\r\n    <path clip-path=\"url(#p2cdd5a4f6d)\" d=\"M 51.287958 82.048718 \r\nL 57.033137 78.789716 \r\n\" style=\"fill:none;stroke:#000000;stroke-width:0.8;\"/>\r\n    <path clip-path=\"url(#p2cdd5a4f6d)\" d=\"M 62.833332 85.370136 \r\nL 57.033137 78.789716 \r\n\" style=\"fill:none;stroke:#000000;stroke-width:0.8;\"/>\r\n    <path clip-path=\"url(#p2cdd5a4f6d)\" d=\"M 57.033137 66.98998 \r\nL 57.033137 78.789716 \r\n\" style=\"fill:none;stroke:#000000;stroke-width:0.8;\"/>\r\n    <path clip-path=\"url(#p2cdd5a4f6d)\" d=\"M 51.287958 82.048718 \r\nL 52.688529 82.013793 \r\n\" style=\"fill:none;stroke:#000000;stroke-width:0.8;\"/>\r\n    <path clip-path=\"url(#p2cdd5a4f6d)\" d=\"M 51.287958 82.048718 \r\nL 52.682008 80.49723 \r\n\" style=\"fill:none;stroke:#000000;stroke-width:0.8;\"/>\r\n    <path clip-path=\"url(#p2cdd5a4f6d)\" d=\"M 62.833332 85.370136 \r\nL 61.409134 84.519407 \r\n\" style=\"fill:none;stroke:#000000;stroke-width:0.8;\"/>\r\n    <path clip-path=\"url(#p2cdd5a4f6d)\" d=\"M 62.833332 85.370136 \r\nL 61.41575 82.995659 \r\n\" style=\"fill:none;stroke:#000000;stroke-width:0.8;\"/>\r\n    <path clip-path=\"url(#p2cdd5a4f6d)\" d=\"M 57.033137 66.98998 \r\nL 57.4044 69.659357 \r\n\" style=\"fill:none;stroke:#000000;stroke-width:0.8;\"/>\r\n    <path clip-path=\"url(#p2cdd5a4f6d)\" d=\"M 57.033137 66.98998 \r\nL 56.661419 70.069871 \r\n\" style=\"fill:none;stroke:#000000;stroke-width:0.8;\"/>\r\n   </g>\r\n   <g id=\"text_5\">\r\n    <!-- $\\veca_1$ -->\r\n    <g transform=\"translate(44.359254 85.799383)scale(0.1 -0.1)\">\r\n     <use transform=\"translate(51.769531 2)\" xlink:href=\"#STIXGeneral-Regular-8407\"/>\r\n     <use transform=\"translate(0 0.203125)\" xlink:href=\"#STIXGeneral-Italic-97\"/>\r\n     <use transform=\"translate(51.643272 -13.025)scale(0.7)\" xlink:href=\"#STIXGeneral-Regular-49\"/>\r\n    </g>\r\n   </g>\r\n   <g id=\"text_6\">\r\n    <!-- $\\veca_2$ -->\r\n    <g transform=\"translate(60.616097 90.503111)scale(0.1 -0.1)\">\r\n     <use transform=\"translate(51.769531 2)\" xlink:href=\"#STIXGeneral-Regular-8407\"/>\r\n     <use transform=\"translate(0 0.203125)\" xlink:href=\"#STIXGeneral-Italic-97\"/>\r\n     <use transform=\"translate(51.643272 -13.025)scale(0.7)\" xlink:href=\"#STIXGeneral-Regular-50\"/>\r\n    </g>\r\n   </g>\r\n   <g id=\"text_7\">\r\n    <!-- $\\veca_3$ -->\r\n    <defs>\r\n     <path d=\"M 6.09375 51 \r\nL 4.5 51.40625 \r\nQ 6.796875 58.90625 11.6875 63.25 \r\nQ 16.59375 67.59375 24.09375 67.59375 \r\nQ 31.09375 67.59375 35.390625 63.796875 \r\nQ 39.703125 60 39.703125 53.90625 \r\nQ 39.703125 45.703125 30.40625 40.09375 \r\nQ 35.90625 37.703125 38.703125 34.796875 \r\nQ 43.09375 29.90625 43.09375 21.90625 \r\nQ 43.09375 13.90625 38.5 7.90625 \r\nQ 35.09375 3.296875 28.75 0.9375 \r\nQ 22.40625 -1.40625 15.296875 -1.40625 \r\nQ 4.09375 -1.40625 4.09375 4.296875 \r\nQ 4.09375 5.90625 5.296875 6.90625 \r\nQ 6.5 7.90625 8.203125 7.90625 \r\nQ 10.703125 7.90625 14.296875 5.296875 \r\nQ 18.703125 2.203125 22.90625 2.203125 \r\nQ 28.40625 2.203125 32.15625 6.640625 \r\nQ 35.90625 11.09375 35.90625 17.5 \r\nQ 35.90625 29 25.5 32 \r\nQ 22.40625 33 15.296875 33 \r\nL 15.296875 34.40625 \r\nQ 20.90625 36.296875 23.703125 38 \r\nQ 31.796875 42.59375 31.796875 51.40625 \r\nQ 31.796875 56.40625 28.9375 59 \r\nQ 26.09375 61.59375 21 61.59375 \r\nQ 12 61.59375 6.09375 51 \r\nz\r\n\" id=\"STIXGeneral-Regular-51\"/>\r\n    </defs>\r\n    <g transform=\"translate(52.433137 64.672488)scale(0.1 -0.1)\">\r\n     <use transform=\"translate(51.769531 2)\" xlink:href=\"#STIXGeneral-Regular-8407\"/>\r\n     <use transform=\"translate(0 0.203125)\" xlink:href=\"#STIXGeneral-Italic-97\"/>\r\n     <use transform=\"translate(51.643272 -13.025)scale(0.7)\" xlink:href=\"#STIXGeneral-Regular-51\"/>\r\n    </g>\r\n   </g>\r\n   <g id=\"Poly3DCollection_1\">\r\n    <path clip-path=\"url(#p2cdd5a4f6d)\" d=\"M 57.033137 78.789716 \r\nL 57.033137 29.882709 \r\nL 32.191208 41.968685 \r\nL 33.379349 92.207531 \r\nL 57.033137 78.789716 \r\nz\r\n\" style=\"fill:#66ccd9;fill-opacity:0.3;stroke:#66ccd9;\"/>\r\n    <path clip-path=\"url(#p2cdd5a4f6d)\" d=\"M 57.033137 78.789716 \r\nL 33.379349 92.207531 \r\nL 57.033137 122.45342 \r\nL 81.648178 106.715903 \r\nL 57.033137 78.789716 \r\nz\r\n\" style=\"fill:#66ccd9;fill-opacity:0.3;stroke:#66ccd9;\"/>\r\n    <path clip-path=\"url(#p2cdd5a4f6d)\" d=\"M 57.033137 78.789716 \r\nL 81.648178 106.715903 \r\nL 82.937481 55.088423 \r\nL 57.033137 29.882709 \r\nL 57.033137 78.789716 \r\nz\r\n\" style=\"fill:#66ccd9;fill-opacity:0.3;stroke:#66ccd9;\"/>\r\n    <path clip-path=\"url(#p2cdd5a4f6d)\" d=\"M 33.379349 92.207531 \r\nL 57.033137 122.45342 \r\nL 57.033137 69.380479 \r\nL 32.191208 41.968685 \r\nL 33.379349 92.207531 \r\nz\r\n\" style=\"fill:#66ccd9;fill-opacity:0.3;stroke:#66ccd9;\"/>\r\n    <path clip-path=\"url(#p2cdd5a4f6d)\" d=\"M 32.191208 41.968685 \r\nL 57.033137 69.380479 \r\nL 82.937481 55.088423 \r\nL 57.033137 29.882709 \r\nL 32.191208 41.968685 \r\nz\r\n\" style=\"fill:#66ccd9;fill-opacity:0.3;stroke:#66ccd9;\"/>\r\n    <path clip-path=\"url(#p2cdd5a4f6d)\" d=\"M 82.937481 55.088423 \r\nL 57.033137 69.380479 \r\nL 57.033137 122.45342 \r\nL 81.648178 106.715903 \r\nL 82.937481 55.088423 \r\nz\r\n\" style=\"fill:#66ccd9;fill-opacity:0.3;stroke:#66ccd9;\"/>\r\n   </g>\r\n  </g>\r\n  <g id=\"patch_7\">\r\n   <path d=\"M 240.104348 130.32 \r\nL 337.147826 130.32 \r\nL 337.147826 21.6 \r\nL 240.104348 21.6 \r\nz\r\n\" style=\"fill:#ffffff;\"/>\r\n  </g>\r\n  <g id=\"axes_4\">\r\n   <g id=\"Line3DCollection_2\">\r\n    <path clip-path=\"url(#p0692b45053)\" d=\"M 278.301718 75.794392 \r\nL 289.937485 74.490811 \r\n\" style=\"fill:none;stroke:#000000;stroke-width:0.8;\"/>\r\n    <path clip-path=\"url(#p0692b45053)\" d=\"M 299.354642 79.765938 \r\nL 289.937485 74.490811 \r\n\" style=\"fill:none;stroke:#000000;stroke-width:0.8;\"/>\r\n    <path clip-path=\"url(#p0692b45053)\" d=\"M 289.937485 61.606202 \r\nL 289.937485 74.490811 \r\n\" style=\"fill:none;stroke:#000000;stroke-width:0.8;\"/>\r\n    <path clip-path=\"url(#p0692b45053)\" d=\"M 278.301718 75.794392 \r\nL 281.127972 76.430271 \r\n\" style=\"fill:none;stroke:#000000;stroke-width:0.8;\"/>\r\n    <path clip-path=\"url(#p0692b45053)\" d=\"M 278.301718 75.794392 \r\nL 281.111454 74.525314 \r\n\" style=\"fill:none;stroke:#000000;stroke-width:0.8;\"/>\r\n    <path clip-path=\"url(#p0692b45053)\" d=\"M 299.354642 79.765938 \r\nL 297.047138 79.434259 \r\n\" style=\"fill:none;stroke:#000000;stroke-width:0.8;\"/>\r\n    <path clip-path=\"url(#p0692b45053)\" d=\"M 299.354642 79.765938 \r\nL 297.060586 77.518182 \r\n\" style=\"fill:none;stroke:#000000;stroke-width:0.8;\"/>\r\n    <path clip-path=\"url(#p0692b45053)\" d=\"M 289.937485 61.606202 \r\nL 290.391457 64.500384 \r\n\" style=\"fill:none;stroke:#000000;stroke-width:0.8;\"/>\r\n    <path clip-path=\"url(#p0692b45053)\" d=\"M 289.937485 61.606202 \r\nL 289.482832 64.994744 \r\n\" style=\"fill:none;stroke:#000000;stroke-width:0.8;\"/>\r\n   </g>\r\n   <g id=\"text_8\">\r\n    <!-- $\\vecb_1$ -->\r\n    <g transform=\"translate(269.072338 79.948321)scale(0.1 -0.1)\">\r\n     <use transform=\"translate(51.546875 26)\" xlink:href=\"#STIXGeneral-Regular-8407\"/>\r\n     <use xlink:href=\"#STIXGeneral-Italic-98\"/>\r\n     <use transform=\"translate(51.543266 -13.228125)scale(0.7)\" xlink:href=\"#STIXGeneral-Regular-49\"/>\r\n    </g>\r\n   </g>\r\n   <g id=\"text_9\">\r\n    <!-- $\\vecb_2$ -->\r\n    <g transform=\"translate(298.654009 85.551891)scale(0.1 -0.1)\">\r\n     <use transform=\"translate(51.546875 26)\" xlink:href=\"#STIXGeneral-Regular-8407\"/>\r\n     <use xlink:href=\"#STIXGeneral-Italic-98\"/>\r\n     <use transform=\"translate(51.543266 -13.228125)scale(0.7)\" xlink:href=\"#STIXGeneral-Regular-50\"/>\r\n    </g>\r\n   </g>\r\n   <g id=\"text_10\">\r\n    <!-- $\\vecb_3$ -->\r\n    <g transform=\"translate(285.387485 60.040247)scale(0.1 -0.1)\">\r\n     <use transform=\"translate(51.546875 26)\" xlink:href=\"#STIXGeneral-Regular-8407\"/>\r\n     <use xlink:href=\"#STIXGeneral-Italic-98\"/>\r\n     <use transform=\"translate(51.543266 -13.228125)scale(0.7)\" xlink:href=\"#STIXGeneral-Regular-51\"/>\r\n    </g>\r\n   </g>\r\n   <g id=\"Poly3DCollection_2\">\r\n    <path clip-path=\"url(#p0692b45053)\" d=\"M 308.379838 38.855194 \r\nL 307.506305 88.75578 \r\nL 281.278652 83.701513 \r\nL 280.854585 34.301679 \r\nL 308.379838 38.855194 \r\nz\r\n\" style=\"fill:#66ccd9;fill-opacity:0.3;stroke:#66ccd9;\"/>\r\n    <path clip-path=\"url(#p0692b45053)\" d=\"M 281.278652 83.701513 \r\nL 307.506305 88.75578 \r\nL 317.489448 104.838195 \r\nL 299.408685 116.39805 \r\nL 271.28672 110.529136 \r\nL 263.196439 93.958804 \r\nL 281.278652 83.701513 \r\nz\r\n\" style=\"fill:#66ccd9;fill-opacity:0.3;stroke:#66ccd9;\"/>\r\n    <path clip-path=\"url(#p0692b45053)\" d=\"M 261.846302 43.549497 \r\nL 280.854585 34.301679 \r\nL 281.278652 83.701513 \r\nL 263.196439 93.958804 \r\nL 261.846302 43.549497 \r\nz\r\n\" style=\"fill:#66ccd9;fill-opacity:0.3;stroke:#66ccd9;\"/>\r\n    <path clip-path=\"url(#p0692b45053)\" d=\"M 317.489448 104.838195 \r\nL 307.506305 88.75578 \r\nL 308.379838 38.855194 \r\nL 318.924908 53.387412 \r\nL 317.489448 104.838195 \r\nz\r\n\" style=\"fill:#66ccd9;fill-opacity:0.3;stroke:#66ccd9;\"/>\r\n    <path clip-path=\"url(#p0692b45053)\" d=\"M 263.196439 93.958804 \r\nL 271.28672 110.529136 \r\nL 270.299261 58.545593 \r\nL 261.846302 43.549497 \r\nL 263.196439 93.958804 \r\nz\r\n\" style=\"fill:#66ccd9;fill-opacity:0.3;stroke:#66ccd9;\"/>\r\n    <path clip-path=\"url(#p0692b45053)\" d=\"M 299.918398 63.873767 \r\nL 318.924908 53.387412 \r\nL 308.379838 38.855194 \r\nL 280.854585 34.301679 \r\nL 261.846302 43.549497 \r\nL 270.299261 58.545593 \r\nL 299.918398 63.873767 \r\nz\r\n\" style=\"fill:#66ccd9;fill-opacity:0.3;stroke:#66ccd9;\"/>\r\n    <path clip-path=\"url(#p0692b45053)\" d=\"M 299.918398 63.873767 \r\nL 299.408685 116.39805 \r\nL 317.489448 104.838195 \r\nL 318.924908 53.387412 \r\nL 299.918398 63.873767 \r\nz\r\n\" style=\"fill:#66ccd9;fill-opacity:0.3;stroke:#66ccd9;\"/>\r\n    <path clip-path=\"url(#p0692b45053)\" d=\"M 270.299261 58.545593 \r\nL 271.28672 110.529136 \r\nL 299.408685 116.39805 \r\nL 299.918398 63.873767 \r\nL 270.299261 58.545593 \r\nz\r\n\" style=\"fill:#66ccd9;fill-opacity:0.3;stroke:#66ccd9;\"/>\r\n   </g>\r\n  </g>\r\n  <g id=\"text_11\">\r\n   <!-- Cell, Cell on XY, BZ, BZ on XY -->\r\n   <defs>\r\n    <path d=\"M 61.40625 13.09375 \r\nL 63.296875 11.296875 \r\nQ 54.40625 -1.40625 36 -1.40625 \r\nQ 21.5 -1.40625 12.40625 7.5 \r\nQ 2.796875 16.90625 2.796875 32.5 \r\nQ 2.796875 47.09375 11.796875 57.203125 \r\nQ 21.203125 67.59375 36.09375 67.59375 \r\nQ 42.5 67.59375 48 66.09375 \r\nQ 54.296875 64.296875 54.90625 64.296875 \r\nQ 58.203125 64.296875 59.09375 67.59375 \r\nL 61.09375 67.59375 \r\nL 62 44.90625 \r\nL 59.703125 44.90625 \r\nQ 58.09375 52.09375 54.5 56 \r\nQ 47.40625 63.59375 38.40625 63.59375 \r\nQ 27.296875 63.59375 20.84375 55.4375 \r\nQ 14.40625 47.296875 14.40625 34.09375 \r\nQ 14.40625 18 21.59375 10.203125 \r\nQ 28.296875 3 39.40625 3 \r\nQ 46 3 50.796875 5.296875 \r\nQ 55.59375 7.59375 61.40625 13.09375 \r\nz\r\n\" id=\"STIXGeneral-Regular-67\"/>\r\n    <path d=\"M 40.796875 16.40625 \r\nL 42.40625 15.703125 \r\nQ 36.40625 -1 21.5 -1 \r\nQ 12.703125 -1 7.59375 5.140625 \r\nQ 2.5 11.296875 2.5 21.703125 \r\nQ 2.5 32.40625 8.203125 39.203125 \r\nQ 13.90625 46 23.203125 46 \r\nQ 32.203125 46 37.09375 39.09375 \r\nQ 40 35.09375 40.5 27.703125 \r\nL 9.703125 27.703125 \r\nQ 10.09375 21.40625 10.9375 18.09375 \r\nQ 11.796875 14.796875 14.296875 11.40625 \r\nQ 18.5 5.90625 25.40625 5.90625 \r\nQ 30.296875 5.90625 33.640625 8.296875 \r\nQ 37 10.703125 40.796875 16.40625 \r\nz\r\nM 9.90625 30.90625 \r\nL 30.296875 30.90625 \r\nQ 29.40625 37.203125 27.34375 39.796875 \r\nQ 25.296875 42.40625 20.5 42.40625 \r\nQ 16.296875 42.40625 13.5 39.453125 \r\nQ 10.703125 36.5 9.90625 30.90625 \r\nz\r\n\" id=\"STIXGeneral-Regular-101\"/>\r\n    <path d=\"M 25.703125 0 \r\nL 2.09375 0 \r\nL 2.09375 1.5 \r\nQ 6.796875 1.90625 8.296875 3.453125 \r\nQ 9.796875 5 9.796875 9.203125 \r\nL 9.796875 56.09375 \r\nQ 9.796875 59.703125 8.890625 61.09375 \r\nQ 8 62.5 5.59375 62.5 \r\nQ 3.5 62.5 1.90625 62.296875 \r\nL 1.90625 63.90625 \r\nQ 11.40625 66.203125 17.703125 68.296875 \r\nL 18.203125 67.90625 \r\nL 18.203125 8.703125 \r\nQ 18.203125 4.5 19.59375 3.140625 \r\nQ 21 1.796875 25.703125 1.5 \r\nz\r\n\" id=\"STIXGeneral-Regular-108\"/>\r\n    <path d=\"M 8.296875 -14.09375 \r\nL 7.296875 -12.203125 \r\nQ 15.59375 -6.59375 15.59375 -1.5 \r\nQ 15.59375 -0.203125 14.203125 -0.203125 \r\nQ 13.796875 -0.203125 12.84375 -0.390625 \r\nQ 11.90625 -0.59375 11.296875 -0.59375 \r\nQ 5.5 -0.59375 5.5 4.5 \r\nQ 5.5 7.09375 7.140625 8.640625 \r\nQ 8.796875 10.203125 11.5 10.203125 \r\nQ 14.90625 10.203125 17.203125 7.75 \r\nQ 19.5 5.296875 19.5 1.5 \r\nQ 19.5 -3.09375 16.453125 -7.390625 \r\nQ 13.40625 -11.703125 8.296875 -14.09375 \r\nz\r\n\" id=\"STIXGeneral-Regular-44\"/>\r\n    <path d=\"M 47 23.09375 \r\nQ 47 12.59375 40.75 5.796875 \r\nQ 34.5 -1 24.5 -1 \r\nQ 15.296875 -1 9.09375 5.75 \r\nQ 2.90625 12.5 2.90625 22.796875 \r\nQ 2.90625 33.203125 9.09375 39.59375 \r\nQ 15.296875 46 25.40625 46 \r\nQ 34.703125 46 40.84375 39.640625 \r\nQ 47 33.296875 47 23.09375 \r\nz\r\nM 38 20.40625 \r\nQ 38 31.796875 33 38.203125 \r\nQ 29 43.203125 23.5 43.203125 \r\nQ 18.296875 43.203125 15.09375 38.953125 \r\nQ 11.90625 34.703125 11.90625 27.296875 \r\nQ 11.90625 14.5 17.203125 6.796875 \r\nQ 20.59375 1.796875 26.203125 1.796875 \r\nQ 31.703125 1.796875 34.84375 6.75 \r\nQ 38 11.703125 38 20.40625 \r\nz\r\n\" id=\"STIXGeneral-Regular-111\"/>\r\n    <path d=\"M 48.5 0 \r\nL 27.703125 0 \r\nL 27.796875 1.5 \r\nQ 31.5 1.796875 32.75 3.640625 \r\nQ 34 5.5 34 10.5 \r\nL 34 30.40625 \r\nQ 34 40.5 26.703125 40.5 \r\nQ 24.203125 40.5 22 39.296875 \r\nQ 19.796875 38.09375 16.40625 34.796875 \r\nL 16.40625 7.203125 \r\nQ 16.40625 4.203125 17.75 3 \r\nQ 19.09375 1.796875 22.90625 1.5 \r\nL 22.90625 0 \r\nL 1.796875 0 \r\nL 1.796875 1.5 \r\nQ 5.59375 1.796875 6.796875 3.34375 \r\nQ 8 4.90625 8 9.40625 \r\nL 8 33.703125 \r\nQ 8 37.40625 7.296875 38.796875 \r\nQ 6.59375 40.203125 4.5 40.203125 \r\nQ 2.5 40.203125 1.59375 39.796875 \r\nL 1.59375 41.5 \r\nQ 8.59375 43.5 15.296875 46 \r\nL 16.09375 45.703125 \r\nL 16.09375 37.90625 \r\nL 16.203125 37.90625 \r\nQ 23.296875 46 30.59375 46 \r\nQ 36.296875 46 39.34375 42 \r\nQ 42.40625 38 42.40625 30.59375 \r\nL 42.40625 8.5 \r\nQ 42.40625 4.5 43.59375 3.203125 \r\nQ 44.796875 1.90625 48.5 1.5 \r\nz\r\n\" id=\"STIXGeneral-Regular-110\"/>\r\n    <path d=\"M 70.40625 0 \r\nL 40.796875 0 \r\nL 40.796875 1.90625 \r\nL 43.40625 2.09375 \r\nQ 48.40625 2.40625 48.40625 5 \r\nQ 48.40625 7.203125 43.296875 14.796875 \r\nL 33.796875 28.90625 \r\nL 21.90625 14 \r\nQ 16.59375 7.40625 16.59375 5.09375 \r\nQ 16.59375 3.59375 18.25 2.890625 \r\nQ 19.90625 2.203125 24.203125 1.90625 \r\nL 24.203125 0 \r\nL 1 0 \r\nL 1 1.90625 \r\nQ 4.90625 2.296875 7.34375 4.1875 \r\nQ 9.796875 6.09375 15.5 13.296875 \r\nL 31.09375 32.796875 \r\nL 20.5 48.296875 \r\nQ 13.5 58.5 10.390625 61.140625 \r\nQ 7.296875 63.796875 2.203125 64.296875 \r\nL 2.203125 66.203125 \r\nL 32.296875 66.203125 \r\nL 32.296875 64.296875 \r\nL 29.40625 64.203125 \r\nQ 27.09375 64.09375 25.9375 63.5 \r\nQ 24.796875 62.90625 24.796875 61.296875 \r\nQ 24.796875 60.703125 24.9375 60.046875 \r\nQ 25.09375 59.40625 25.546875 58.5 \r\nQ 26 57.59375 26.390625 56.84375 \r\nQ 26.796875 56.09375 27.640625 54.796875 \r\nQ 28.5 53.5 29.09375 52.59375 \r\nQ 29.703125 51.703125 31 49.84375 \r\nQ 32.296875 48 33.09375 46.796875 \r\nL 37.5 40.40625 \r\nL 48.703125 54.40625 \r\nQ 52.703125 59.296875 52.703125 61.09375 \r\nQ 52.703125 62.796875 51.296875 63.5 \r\nQ 49.90625 64.203125 45.90625 64.296875 \r\nL 45.90625 66.203125 \r\nL 69.59375 66.203125 \r\nL 69.59375 64.296875 \r\nQ 64.796875 64 62 62.140625 \r\nQ 59.203125 60.296875 54.40625 54.40625 \r\nL 40.09375 36.703125 \r\nL 59.296875 9.296875 \r\nQ 62.203125 5.09375 64.296875 3.75 \r\nQ 66.40625 2.40625 70.40625 1.90625 \r\nz\r\n\" id=\"STIXGeneral-Regular-88\"/>\r\n    <path d=\"M 70.296875 66.203125 \r\nL 70.296875 64.296875 \r\nQ 65.90625 63.90625 63.34375 61.796875 \r\nQ 60.796875 59.703125 56.5 53.09375 \r\nL 41.703125 30.296875 \r\nL 41.703125 11.09375 \r\nQ 41.703125 5.40625 43.59375 3.796875 \r\nQ 45.5 2.203125 52 1.90625 \r\nL 52 0 \r\nL 21.40625 0 \r\nL 21.40625 1.90625 \r\nQ 28.203125 2.40625 29.84375 4.046875 \r\nQ 31.5 5.703125 31.5 12.296875 \r\nL 31.5 29.40625 \r\nL 18.40625 48.59375 \r\nQ 11.59375 58.59375 8.6875 61.34375 \r\nQ 5.796875 64.09375 2.203125 64.296875 \r\nL 2.203125 66.203125 \r\nL 30.09375 66.203125 \r\nL 30.09375 64.296875 \r\nL 27.703125 64.203125 \r\nQ 23 64.09375 23 61.59375 \r\nQ 23 59.5 24.796875 56.90625 \r\nL 39.40625 34.796875 \r\nL 53.90625 57 \r\nQ 55.296875 59.09375 55.296875 61.203125 \r\nQ 55.203125 62.90625 53.75 63.546875 \r\nQ 52.296875 64.203125 48.5 64.296875 \r\nL 48.5 66.203125 \r\nz\r\n\" id=\"STIXGeneral-Regular-89\"/>\r\n    <path d=\"M 42.203125 34.90625 \r\nL 42.203125 34.796875 \r\nQ 49.703125 33.59375 54.40625 29.296875 \r\nQ 59.296875 24.90625 59.296875 17.796875 \r\nQ 59.296875 9.5 52.796875 4.75 \r\nQ 46.296875 0 35.40625 0 \r\nL 1.703125 0 \r\nL 1.703125 1.90625 \r\nQ 7.59375 2.09375 9.4375 3.84375 \r\nQ 11.296875 5.59375 11.296875 11.296875 \r\nL 11.296875 55 \r\nQ 11.296875 60.796875 9.59375 62.34375 \r\nQ 7.90625 63.90625 1.703125 64.296875 \r\nL 1.703125 66.203125 \r\nL 29.703125 66.203125 \r\nQ 42.59375 66.203125 49.25 61.84375 \r\nQ 55.90625 57.5 55.90625 49.5 \r\nQ 55.90625 42.703125 51.796875 39.09375 \r\nQ 48.90625 36.59375 42.203125 34.90625 \r\nz\r\nM 21.5 36.59375 \r\nL 30.703125 36.59375 \r\nQ 45.703125 36.59375 45.703125 49 \r\nQ 45.703125 55.40625 41.25 58.953125 \r\nQ 36.796875 62.5 28 62.5 \r\nL 23.90625 62.5 \r\nQ 21.5 62.5 21.5 59.296875 \r\nz\r\nM 21.5 32.59375 \r\nL 21.5 8.203125 \r\nQ 21.5 5.703125 22.84375 4.703125 \r\nQ 24.203125 3.703125 27.703125 3.703125 \r\nQ 34.5 3.703125 37.703125 4.453125 \r\nQ 40.90625 5.203125 44 8 \r\nQ 47.796875 11.296875 47.796875 17.90625 \r\nQ 47.796875 25.5 43.09375 28.59375 \r\nQ 42 29.40625 40.890625 29.953125 \r\nQ 39.796875 30.5 38.9375 30.84375 \r\nQ 38.09375 31.203125 36.6875 31.5 \r\nQ 35.296875 31.796875 34.546875 31.9375 \r\nQ 33.796875 32.09375 31.890625 32.1875 \r\nQ 30 32.296875 29.09375 32.34375 \r\nQ 28.203125 32.40625 25.546875 32.5 \r\nQ 22.90625 32.59375 21.5 32.59375 \r\nz\r\n\" id=\"STIXGeneral-Regular-66\"/>\r\n    <path d=\"M 59.796875 17.59375 \r\nL 57.296875 0 \r\nL 1 0 \r\nL 1 1.5 \r\nL 44.703125 62.40625 \r\nL 23.296875 62.40625 \r\nQ 13.40625 62.40625 9.90625 58.90625 \r\nQ 8.09375 57 7.34375 55.140625 \r\nQ 6.59375 53.296875 5.796875 49.09375 \r\nL 3.203125 49.09375 \r\nL 5.296875 66.203125 \r\nL 57.796875 66.203125 \r\nL 57.796875 64.703125 \r\nL 14.59375 3.796875 \r\nL 39.796875 3.796875 \r\nQ 47.59375 3.796875 51.5 6.59375 \r\nQ 53.796875 8.203125 54.890625 10.34375 \r\nQ 56 12.5 57.5 17.59375 \r\nz\r\n\" id=\"STIXGeneral-Regular-90\"/>\r\n   </defs>\r\n   <g transform=\"translate(143.518125 15.395625)scale(0.12 -0.12)\">\r\n    <use xlink:href=\"#STIXGeneral-Regular-67\"/>\r\n    <use x=\"66.699997\" xlink:href=\"#STIXGeneral-Regular-101\"/>\r\n    <use x=\"111.099991\" xlink:href=\"#STIXGeneral-Regular-108\"/>\r\n    <use x=\"138.899979\" xlink:href=\"#STIXGeneral-Regular-108\"/>\r\n    <use x=\"166.699966\" xlink:href=\"#STIXGeneral-Regular-44\"/>\r\n    <use x=\"191.699951\" xlink:href=\"#STIXGeneral-Regular-32\"/>\r\n    <use x=\"216.699936\" xlink:href=\"#STIXGeneral-Regular-67\"/>\r\n    <use x=\"283.399933\" xlink:href=\"#STIXGeneral-Regular-101\"/>\r\n    <use x=\"327.799927\" xlink:href=\"#STIXGeneral-Regular-108\"/>\r\n    <use x=\"355.599915\" xlink:href=\"#STIXGeneral-Regular-108\"/>\r\n    <use x=\"383.399902\" xlink:href=\"#STIXGeneral-Regular-32\"/>\r\n    <use x=\"408.399887\" xlink:href=\"#STIXGeneral-Regular-111\"/>\r\n    <use x=\"458.399872\" xlink:href=\"#STIXGeneral-Regular-110\"/>\r\n    <use x=\"508.399857\" xlink:href=\"#STIXGeneral-Regular-32\"/>\r\n    <use x=\"533.399841\" xlink:href=\"#STIXGeneral-Regular-88\"/>\r\n    <use x=\"605.599823\" xlink:href=\"#STIXGeneral-Regular-89\"/>\r\n    <use x=\"677.799805\" xlink:href=\"#STIXGeneral-Regular-44\"/>\r\n    <use x=\"702.799789\" xlink:href=\"#STIXGeneral-Regular-32\"/>\r\n    <use x=\"727.799774\" xlink:href=\"#STIXGeneral-Regular-66\"/>\r\n    <use x=\"794.499771\" xlink:href=\"#STIXGeneral-Regular-90\"/>\r\n    <use x=\"855.699768\" xlink:href=\"#STIXGeneral-Regular-44\"/>\r\n    <use x=\"880.699753\" xlink:href=\"#STIXGeneral-Regular-32\"/>\r\n    <use x=\"905.699738\" xlink:href=\"#STIXGeneral-Regular-66\"/>\r\n    <use x=\"972.399734\" xlink:href=\"#STIXGeneral-Regular-90\"/>\r\n    <use x=\"1033.599731\" xlink:href=\"#STIXGeneral-Regular-32\"/>\r\n    <use x=\"1058.599716\" xlink:href=\"#STIXGeneral-Regular-111\"/>\r\n    <use x=\"1108.599701\" xlink:href=\"#STIXGeneral-Regular-110\"/>\r\n    <use x=\"1158.599686\" xlink:href=\"#STIXGeneral-Regular-32\"/>\r\n    <use x=\"1183.59967\" xlink:href=\"#STIXGeneral-Regular-88\"/>\r\n    <use x=\"1255.799652\" xlink:href=\"#STIXGeneral-Regular-89\"/>\r\n   </g>\r\n  </g>\r\n </g>\r\n <defs>\r\n  <clipPath id=\"p0fd963bf4a\">\r\n   <rect height=\"108.72\" width=\"97.043478\" x=\"123.652174\" y=\"21.6\"/>\r\n  </clipPath>\r\n  <clipPath id=\"p539224968d\">\r\n   <rect height=\"108.72\" width=\"97.043478\" x=\"356.556522\" y=\"21.6\"/>\r\n  </clipPath>\r\n  <clipPath id=\"p2cdd5a4f6d\">\r\n   <rect height=\"108.72\" width=\"97.043478\" x=\"7.2\" y=\"21.6\"/>\r\n  </clipPath>\r\n  <clipPath id=\"p0692b45053\">\r\n   <rect height=\"108.72\" width=\"97.043478\" x=\"240.104348\" y=\"21.6\"/>\r\n  </clipPath>\r\n </defs>\r\n</svg>\r\n",
      "text/plain": "<Figure size 576x144 with 4 Axes>"
     },
     "metadata": {
      "needs_background": "light"
     },
     "output_type": "display_data"
    }
   ],
   "source": [
    "import matplotlib.pyplot as plt\n",
    "bz = BZ(hexa,primitive=False)\n",
    "axs = sp.init_figure(ncols=4,figsize=(8,2))\n",
    "bz.splotc(ax=axs[0]).set_axis_off()\n",
    "bz.splotc(ax=axs[1],plane='xy').set_axis_off()\n",
    "bz.splot(ax=axs[2]).set_axis_off()\n",
    "bz.splot(ax=axs[3],plane='xy').set_axis_off()\n",
    "_ = plt.gcf().suptitle('Cell, Cell on XY, BZ, BZ on XY')"
   ]
  },
  {
   "cell_type": "code",
   "execution_count": null,
   "metadata": {},
   "outputs": [
    {
     "data": {
      "text/markdown": "<style>a{text-decoration: none !important;color:lightkblue;font-weight:bold;}\n                a:focus,a:active,a:hover{color:hotpink !important;}</style>\n> [&nbsp;`▶` Index&nbsp;](https://massgh.github.io/pivotpy/)  \n> [&nbsp;`▶` XmlElementTree&nbsp;](https://massgh.github.io/pivotpy/XmlElementTree)  \n> [&nbsp;`▶` StaticPlots&nbsp;](https://massgh.github.io/pivotpy/StaticPlots)  \n> [&nbsp;`▶` InteractivePlots&nbsp;](https://massgh.github.io/pivotpy/InteractivePlots)  \n> [&nbsp;`▶` Utilities&nbsp;](https://massgh.github.io/pivotpy/Utilities)  \n> [&nbsp;`▶` StructureIO●&nbsp;](https://massgh.github.io/pivotpy/StructureIO)  \n> [&nbsp;`▶` Widgets&nbsp;](https://massgh.github.io/pivotpy/Widgets)  \n",
      "text/plain": [
       "<IPython.core.display.Markdown object>"
      ]
     },
     "execution_count": null,
     "metadata": {},
     "output_type": "execute_result"
    }
   ],
   "source": [
    "#hide_input\n",
    "import pivotpy as pp \n",
    "pp.nav_links(5)"
   ]
  },
  {
   "cell_type": "code",
   "execution_count": null,
   "metadata": {},
   "outputs": [],
   "source": []
  }
 ],
 "metadata": {
  "kernelspec": {
   "display_name": "Python 3.7.6 64-bit",
   "language": "python",
   "name": "python37664bit4047a33bb5c7414db9abe32ad88decaa"
  }
 },
 "nbformat": 4,
 "nbformat_minor": 2
}
