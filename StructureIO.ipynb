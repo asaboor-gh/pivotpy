{
 "cells": [
  {
   "cell_type": "code",
   "execution_count": null,
   "metadata": {},
   "outputs": [],
   "source": [
    "#default_exp sio"
   ]
  },
  {
   "cell_type": "code",
   "execution_count": null,
   "metadata": {},
   "outputs": [
    {
     "data": {
      "text/markdown": "<style>a{text-decoration: none !important;color:lightkblue;font-weight:bold;}\n                a:focus,a:active,a:hover{color:hotpink !important;}</style>\n> [&nbsp;`▶` Index&nbsp;](https://massgh.github.io/pivotpy/)  \n> [&nbsp;`▶` XmlElementTree&nbsp;](https://massgh.github.io/pivotpy/XmlElementTree)  \n> [&nbsp;`▶` StaticPlots&nbsp;](https://massgh.github.io/pivotpy/StaticPlots)  \n> [&nbsp;`▶` InteractivePlots&nbsp;](https://massgh.github.io/pivotpy/InteractivePlots)  \n> [&nbsp;`▶` Utilities&nbsp;](https://massgh.github.io/pivotpy/Utilities)  \n> [&nbsp;`▶` StructureIO●&nbsp;](https://massgh.github.io/pivotpy/StructureIO)  \n> [&nbsp;`▶` Widgets&nbsp;](https://massgh.github.io/pivotpy/Widgets)  \n",
      "text/plain": [
       "<IPython.core.display.Markdown object>"
      ]
     },
     "execution_count": null,
     "metadata": {},
     "output_type": "execute_result"
    }
   ],
   "source": [
    "#hide_input\n",
    "import pivotpy as pp \n",
    "pp.nav_links(5)"
   ]
  },
  {
   "cell_type": "markdown",
   "metadata": {},
   "source": [
    "# Structure IO\n",
    "\n",
    "> This includes generating POSCAR form [Materials Project](https://materialsproject.org/). You need their API key to run functions in this module where required."
   ]
  },
  {
   "cell_type": "markdown",
   "metadata": {},
   "source": [
    "**Note** : To use materials project data frequently, you may need to save their api key into file. Run function below and it saves key to a file and every function will autoload it."
   ]
  },
  {
   "cell_type": "code",
   "execution_count": null,
   "metadata": {},
   "outputs": [],
   "source": [
    "#export\n",
    "import os\n",
    "import json\n",
    "import math\n",
    "import numpy as np\n",
    "from pathlib import Path\n",
    "import requests as req\n",
    "from collections import namedtuple\n",
    "from itertools import permutations\n",
    "from itertools import product\n",
    "\n",
    "from scipy.spatial import ConvexHull\n",
    "from scipy.spatial import Voronoi\n",
    "import plotly.graph_objects as go\n",
    "\n",
    "import pivotpy.vr_parser as vp\n",
    "import pivotpy.s_plots as sp "
   ]
  },
  {
   "cell_type": "code",
   "execution_count": null,
   "metadata": {},
   "outputs": [],
   "source": [
    "#hide_input\n",
    "# To run notebook smoothly, not for module export\n",
    "from pivotpy.sio import get_bz"
   ]
  },
  {
   "cell_type": "code",
   "execution_count": null,
   "metadata": {},
   "outputs": [],
   "source": [
    "#export\n",
    "def save_mp_API(api_key):\n",
    "    \"\"\"\n",
    "    - Save materials project api key for autoload in functions.\n",
    "    \"\"\"\n",
    "    home = str(Path.home())\n",
    "    file = os.path.join(home,'.pivotpyrc')\n",
    "    lines = []\n",
    "    if os.path.isfile(file):\n",
    "        with open(file,'r') as fr:\n",
    "            lines = fr.readlines()\n",
    "            lines = [line for line in lines if 'MP_API_KEY' not in line]\n",
    "        fr.close()\n",
    "    with open(file,'w') as fw:\n",
    "        fw.write(\"MP_API_KEY = {}\".format(api_key))\n",
    "        for line in lines:\n",
    "            fw.write(line)\n",
    "        fw.close()"
   ]
  },
  {
   "cell_type": "code",
   "execution_count": null,
   "metadata": {},
   "outputs": [],
   "source": [
    "#export\n",
    "def load_mp_data(formula,api_key=None,mp_id=None,max_sites = None):\n",
    "    \"\"\"\n",
    "    - Returns fetched data using request api of python form materials project website.\n",
    "    - **Parameters**\n",
    "        - formula  : Material formula such as 'NaCl'.\n",
    "        - api_key  : API key for your account from material project site. Auto picks if you already used `save_mp_API` function.\n",
    "        - mp_id    : Optional, you can specify material ID to filter results.\n",
    "        -max_sites : Option, you can set maximum number of sites to load fastly as it will not fetch all large data sets.\n",
    "    \"\"\"\n",
    "    if api_key is None:\n",
    "        try:\n",
    "            home = str(Path.home())\n",
    "            file = os.path.join(home,'.pivotpyrc')\n",
    "            with open(file,'r') as f:\n",
    "                lines=f.readlines()\n",
    "                for line in lines:\n",
    "                    if 'MP_API_KEY' in line:\n",
    "                        api_key = line.split('=')[1].strip()\n",
    "        except:\n",
    "            return print(\"api_key not given. provide in argument or generate in file using `save_mp_API(your_mp_api_key)\")\n",
    "    \n",
    "    url = \"https://www.materialsproject.org/rest/v2/materials/_____/vasp?API_KEY=|||||\"\n",
    "    url = url.replace('_____',formula).replace('|||||',api_key)\n",
    "    resp = req.request(method='GET',url=url)\n",
    "    jl = json.loads(resp.text)\n",
    "    all_res = jl['response']\n",
    "    if max_sites != None:\n",
    "        sel_res=[]\n",
    "        for res in all_res:\n",
    "            if res['nsites'] <= max_sites:\n",
    "                sel_res.append(res)\n",
    "        return sel_res\n",
    "    # Filter to mp_id at last. more preferred\n",
    "    if mp_id !=None:\n",
    "        for res in all_res:\n",
    "            if mp_id == res['material_id']:\n",
    "                return [res]\n",
    "    return all_res"
   ]
  },
  {
   "cell_type": "code",
   "execution_count": null,
   "metadata": {},
   "outputs": [],
   "source": [
    "#export\n",
    "def get_crystal(formula,api_key=None,mp_id=None,max_sites = None):\n",
    "    \"\"\"\n",
    "    - Returns crystal information dictionary including cif data format.\n",
    "    - **Parameters**\n",
    "        - formula  : Material formula such as 'NaCl'.\n",
    "        - api_key  : API key for your account from material project site. Auto picks if you already used `save_mp_API` function.\n",
    "        - mp_id    : Optional, you can specify material ID to filter results.\n",
    "        -max_sites : Option, you can set maximum number of sites to load fastly as it will not fetch all large data sets.\n",
    "    \"\"\"\n",
    "    all_res = load_mp_data(formula=formula,api_key = api_key, mp_id = mp_id, max_sites = max_sites)\n",
    "    cifs = []\n",
    "    for res in all_res:\n",
    "        cif     = res['cif']\n",
    "        symbol  = res['spacegroup']['symbol']\n",
    "        crystal = res['spacegroup']['crystal_system']\n",
    "        unit    = res['unit_cell_formula']\n",
    "        mp_id   = res['material_id']\n",
    "        crs = dict(mp_id = mp_id,symbol = symbol, crystal = crystal, unit = unit, cif = cif)\n",
    "        cifs.append(vp.Dict2Data(crs))\n",
    "    return cifs"
   ]
  },
  {
   "cell_type": "code",
   "execution_count": null,
   "metadata": {},
   "outputs": [],
   "source": [
    "#export\n",
    "def get_poscar(formula ,api_key=None,mp_id=None,max_sites = None):\n",
    "    \"\"\"\n",
    "    - Returns poscar information dictionary including cif data format.\n",
    "    - **Parameters**\n",
    "        - formula  : Material formula such as 'NaCl'.\n",
    "        - api_key  : API key for your account from material project site. Auto picks if you already used `save_mp_API` function.\n",
    "        - mp_id    : Optional, you can specify material ID to filter results.\n",
    "        -max_sites : Option, you can set maximum number of sites to load fastly as it will not fetch all large data sets.\n",
    "    - **Usage**\n",
    "        - `get_poscar('GaAs',api_key,**kwargs)`. Same result is returned from `Get-POSCAR` command in PowerShell terminal if Vasp2Visual module is installed.\n",
    "    \"\"\"\n",
    "    crys = get_crystal(formula = formula,api_key = api_key, mp_id = mp_id, max_sites = max_sites)\n",
    "    poscars = []\n",
    "    for cr in crys:\n",
    "        cif = cr.cif\n",
    "        lines = cif.split('\\n')\n",
    "        if '' in lines.copy():\n",
    "            lines.remove('')\n",
    "        abc = []\n",
    "        abc_ang = []\n",
    "        index = 0\n",
    "        for ys in lines:\n",
    "            if '_cell' in ys:\n",
    "                if '_length' in ys:\n",
    "                    abc.append(ys.split()[1])\n",
    "                if '_angle' in ys:\n",
    "                    abc_ang.append(ys.split()[1])\n",
    "                if '_volume' in ys:\n",
    "                    volume = float(ys.split()[1])\n",
    "            if '_structural' in ys:\n",
    "                system = ys.split()[1]\n",
    "        for i,ys in enumerate(lines):\n",
    "            if '_atom_site_occupancy' in ys:\n",
    "                index = i +1 # start collecting pos.\n",
    "        poses = lines[index:]\n",
    "        pos_str = \"\"\n",
    "        for pos in poses:\n",
    "            s_p = pos.split()\n",
    "            pos_str += \"{0:>12}  {1:>12}  {2:>12}  {3}\\n\".format(*s_p[3:6],s_p[0])\n",
    "\n",
    "        # ======== Cleaning ===========\n",
    "        abc_ang = [float(ang) for ang in abc_ang]\n",
    "        abc     = [float(a) for a in abc]\n",
    "        a = \"{0:>22.16f} {1:>22.16f} {2:>22.16f}\".format(1.0,0.0,0.0) # lattic vector a.\n",
    "        to_rad = 0.017453292519\n",
    "        gamma = abc_ang[2]*to_rad\n",
    "        bx,by = abc[1]*np.cos(gamma),abc[1]*np.sin(gamma)\n",
    "        b = \"{0:>22.16f} {1:>22.16f} {2:>22.16f}\".format(bx/abc[0],by/abc[0],0.0) # lattic vector b.\n",
    "        cz = volume/(abc[0]*by)\n",
    "        cx = abc[2]*np.cos(abc_ang[1]*to_rad)\n",
    "        cy = (abc[1]*abc[2]*np.cos(abc_ang[0]*to_rad)-bx*cx)/by\n",
    "        c = \"{0:>22.16f} {1:>22.16f} {2:>22.16f}\".format(cx/abc[0],cy/abc[0],cz/abc[0]) # lattic vector b.\n",
    "        unit = cr.unit.to_dict()\n",
    "        elems = [elem for elem in unit.keys()]\n",
    "        elems = '\\t'.join(elems)\n",
    "        nums  = [str(int(unit[elem])) for elem in unit.keys()]\n",
    "        nums  = '\\t'.join(nums)\n",
    "        # Get others important info\n",
    "        symbol  = cr.symbol\n",
    "        crystal = cr.crystal\n",
    "        mp_id   = cr.mp_id\n",
    "        # ======================\n",
    "        top = system + \"\\t# [{0}] Generated by PivotPy using Materials Project Database.\".format(symbol)\n",
    "        poscar= \"{0}\\n  {1}\\n {2}\\n {3}\\n {4}\\n  {5}\\n  {6}\\nDirect\\n{7}\".format(top,abc[0],a,b,c,elems,nums,pos_str)\n",
    "        # =======================\n",
    "        net_out = dict(system = system, symbol = symbol, crystal =crystal,mp_id = mp_id,poscar = poscar)\n",
    "        poscars.append(vp.Dict2Data(net_out))\n",
    "    return poscars"
   ]
  },
  {
   "cell_type": "code",
   "execution_count": null,
   "metadata": {},
   "outputs": [
    {
     "data": {
      "text/plain": [
       "dict_keys(['system', 'symbol', 'crystal', 'mp_id', 'poscar'])"
      ]
     },
     "execution_count": null,
     "metadata": {},
     "output_type": "execute_result"
    }
   ],
   "source": [
    "# I alread save key to file, so no need to provide.\n",
    "pc = get_poscar('GaAs',max_sites=2)\n",
    "pc[1].__dict__.keys()\n"
   ]
  },
  {
   "cell_type": "code",
   "execution_count": null,
   "metadata": {},
   "outputs": [
    {
     "name": "stdout",
     "output_type": "stream",
     "text": [
      "material_id:  mp-2534\nspacegroup symbol:  F-43m\n\n GaAs\t# [F-43m] Generated by PivotPy using Materials Project Database.\n  4.06599269\n     1.0000000000000000     0.0000000000000000     0.0000000000000000\n     0.5000000000490150     0.8660254037561398     0.0000000000000000\n     0.5000000000490150     0.2886751346042458     0.8164965780265512\n  Ga\tAs\n  1\t1\nDirect\n  0.00000000    0.00000000    0.00000000  Ga\n  0.75000000    0.75000000    0.75000000  As\n\n"
     ]
    }
   ],
   "source": [
    "print(\"material_id: \",pc[1].mp_id)\n",
    "print(\"spacegroup symbol: \",pc[1].symbol)\n",
    "print(\"\\n\",pc[1].poscar)"
   ]
  },
  {
   "cell_type": "code",
   "execution_count": null,
   "metadata": {},
   "outputs": [],
   "source": [
    "#export\n",
    "def get_kpath(hsk_list=[],labels=[], n = 5,weight= None ,ibzkpt = None,outfile=None):\n",
    "    \"\"\"\n",
    "    - Generate list of kpoints along high symmetry path. Options are write to file or return KPOINTS list. It generates uniformly spaced point with input `n` as just a scale factor of number of points per unit length. You can also specify custom number of kpoints in an interval by putting number of kpoints as 4th entry in left kpoint.\n",
    "    - **Parameters**\n",
    "        - hsk_list : N x 3 list of N high symmetry points, if broken path then [[N x 3],[M x 3],...]. Optionally you can put a 4 values point where 4th entry will decide number of kpoints in current interval. Make sure that points in a connected path patch are at least two i.e. `[[x1,y1,z1],[x2,y2,z2]]` or `[[x1,y1,z1,N],[x2,y2,z2]]`.\n",
    "        - n        ; int, number per unit length, this makes uniform steps based on distance between points.\n",
    "        - weight : Float, if None, auto generates weights.\n",
    "        - gamma  : If True, shifts mesh at gamma point.\n",
    "        - ibzkpt : Path to ibzkpt file, required for HSE calculations.\n",
    "        - labels : Hight symmetry points labels. Good for keeping record of lables and points indices for later use.                - Note: If you do not want to label a point, label it as 'skip' at its index and it will be removed.\n",
    "        - outfile: Path/to/file to write kpoints.\n",
    "    - **Attributes**\n",
    "        - If `outfile = None`, a tuple is returned which consists of:\n",
    "            - nkpts   : get_kmesh().nkpts.\n",
    "            - kpoints : get_kmesh().kpoints.\n",
    "            - weights : get_kmesh().weights.\n",
    "    \"\"\"\n",
    "    if hsk_list:\n",
    "        try: hsk_list[0][0][0]\n",
    "        except: hsk_list = [hsk_list] # Make overall 3 dimensions to include breaks in path\n",
    "    xs,ys,zs, inds,joinat = [],[],[],[0],[] # 0 in inds list is important\n",
    "    for j,a in enumerate(hsk_list):\n",
    "        for i in range(len(a)-1):\n",
    "            _vec = [_a-_b for _a,_b in zip(a[i][:3],a[i+1] )] # restruct point if 4 entries\n",
    "            _m = np.rint(np.linalg.norm(_vec)*n).astype(int)\n",
    "\n",
    "            try: _m = a[i][3] # number of points given explicitly.\n",
    "            except: pass\n",
    "\n",
    "            inds.append(inds[-1]+_m)\n",
    "            if j !=0:\n",
    "\n",
    "                joinat.append(inds[-2]) # Add previous in joinpath\n",
    "            xs.append(list(np.linspace(a[i][0],a[i+1][0],_m)))\n",
    "            ys.append(list(np.linspace(a[i][1],a[i+1][1],_m)))\n",
    "            zs.append(list(np.linspace(a[i][2],a[i+1][2],_m)))\n",
    "    xs = [y for z in xs for y in z] #flatten values.\n",
    "    ys = [y for z in ys for y in z]\n",
    "    zs = [y for z in zs for y in z]\n",
    "    if weight == None:\n",
    "        weight = 1/len(xs)\n",
    "    out_str = [\"{0:>16.10f}{1:>16.10f}{2:>16.10f}{3:>12.6f}\".format(x,y,z,weight) for x,y,z in zip(xs,ys,zs)]\n",
    "    out_str = '\\n'.join(out_str)\n",
    "    N = np.size(xs)\n",
    "    if ibzkpt != None:\n",
    "        if os.path.isfile(ibzkpt):\n",
    "            f = open(ibzkpt,'r')\n",
    "            lines = f.readlines()\n",
    "            f.close()\n",
    "            N = int(lines[1].strip())+N # Update N.\n",
    "            slines = lines[3:N+4]\n",
    "            ibz_str = ''.join(slines)\n",
    "            out_str = \"{}\\n{}\".format(ibz_str,out_str) # Update out_str\n",
    "    if inds:\n",
    "        inds[-1] = -1 # last index to -1\n",
    "    # Remove indices and labels where 'skip' appears\n",
    "    inds = [i for i,l in zip(inds,labels) if 'skip' not in l]\n",
    "    labels = [l for l in labels if 'skip' not in l]\n",
    "    top_str = \"Automatically generated using PivotPy with HSK-INDS = {}, LABELS = {}, SEG-INDS = {}\\n\\t{}\\nReciprocal Lattice\".format(inds,labels,joinat,N)\n",
    "    out_str = \"{}\\n{}\".format(top_str,out_str)\n",
    "    if outfile != None:\n",
    "        f = open(outfile,'w')\n",
    "        f.write(out_str)\n",
    "        f.close()\n",
    "    else:\n",
    "        mesh = namedtuple('Mesh',['nkpts','kpoints','weights'])\n",
    "        return mesh(N,np.array([[x,y,x] for x,y,z in zip(xs,ys,zs)]),[weight for x in xs])"
   ]
  },
  {
   "cell_type": "markdown",
   "metadata": {},
   "source": [
    "In example below, the overall value of `n = 5` is skipped and 4th entry in the point is used instead. In later example, a 'skipk' label removes high symmetry point index."
   ]
  },
  {
   "cell_type": "code",
   "execution_count": null,
   "metadata": {},
   "outputs": [
    {
     "data": {
      "text/plain": [
       "array([[0.5, 0.5, 0.5],\n",
       "       [0. , 0. , 0. ]])"
      ]
     },
     "execution_count": null,
     "metadata": {},
     "output_type": "execute_result"
    }
   ],
   "source": [
    "get_kpath([[0.5,0.5,0.5,2],[0,0,0]],n=5,ibzkpt='IBZKPT',labels = ['M','Γ']).kpoints"
   ]
  },
  {
   "cell_type": "code",
   "execution_count": null,
   "metadata": {},
   "outputs": [],
   "source": [
    "get_kpath([[[0.375,0.375,0.5,21],[0,0,0]],[[0.5,0.25,0.5],[0,0,0]],[[0.25,0.25,0.25],[0,0,0]]],n=11,labels = ['M','skip','Γ|M','L'],outfile='kpt.txt')"
   ]
  },
  {
   "cell_type": "markdown",
   "metadata": {},
   "source": [
    "```shell\n",
    "Automatically generated using PivotPy with HSK-INDS = [0, 29, -1], LABELS = ['M', 'Γ|M', 'L'], SEG-INDS = [21, 29]\n",
    "\t34\n",
    "```\n",
    "`HSK-INDS = [0, 29, -1]` should be `[0,21,29,-1]` but `skip` label removed it. Also after 21, it may have 32 as n=11, but distance smaller than 1 resulted in only 8 points there. This is pretty useful if you don't need to rescale kpoint axis later on based on distance."
   ]
  },
  {
   "cell_type": "code",
   "execution_count": null,
   "metadata": {},
   "outputs": [],
   "source": [
    "#export\n",
    "def get_basis(poscar=None):\n",
    "    \"\"\"Returns poscar and basis in form of namedtuple. \n",
    "    - **Parameters**\n",
    "        - poscar: path/to/POSCAR or 3 given vectors as rows of a mtrix.\"\"\"\n",
    "    if poscar == None and os.path.isfile('./POSCAR') == True:\n",
    "        poscar = './POSCAR'\n",
    "    elif poscar == None and os.path.isfile('./POSCAR') == False:\n",
    "        raise ValueError(\"Argument 'poscar' expects file 'POSCAR' or 3 basis vectors.\")\n",
    "    lines = []\n",
    "    a1,a2,a3=[],[],[]\n",
    "    if np.ndim(poscar) ==2:\n",
    "        a1,a2,a3 = poscar[0],poscar[1],poscar[2]\n",
    "    elif os.path.isfile(poscar):\n",
    "        with open(poscar,'r') as f:\n",
    "            lines = f.readlines()\n",
    "            f.close()\n",
    "        if lines != []:\n",
    "            a1 = [float(i) for i in lines[2].split()]\n",
    "            a2 = [float(i) for i in lines[3].split()]\n",
    "            a3 = [float(i) for i in lines[4].split()]\n",
    "    else:\n",
    "        raise FileNotFoundError(\"'{}' does not exist or not 3 by 3 list.\".format(poscar))\n",
    "    # Process\n",
    "    #a1, a2, a3 = np.array(a1), np.array(a2), np.array(a2) # Must\n",
    "    V  = np.dot(a1,np.cross(a2,a3))\n",
    "    b1 = np.cross(a2,a3)/V\n",
    "    b2 = np.cross(a3,a1)/V\n",
    "    b3 = np.cross(a1,a2)/V\n",
    "    Basis = namedtuple('Basis', ['poscar', 'basis'])\n",
    "    return Basis(np.array([a1,a2,a3]),np.array([b1,b2,b3]))"
   ]
  },
  {
   "cell_type": "markdown",
   "metadata": {},
   "source": [
    "## KPOINTS Mesh for Fermi Surface Calculations\n",
    "- The command `get_kmesh` generates a uniform grid in first (primitive) Brillouin zone.\n",
    "- The POSCAR is used to get ratios of side lengths in first BZ. Use relaxed and same POSCAR you will use in actual calculations. If you use Vasp's auto generated mesh, use ISYM = -1 to list all points and points inside BZ will be filtered later on while plotting Fermi Surface.\n",
    "- KPOINTS are written on `outfile` provided, if `outfile = None`, thn BZ data object is returned. \n",
    "- IBZKPT file path could be given to argument `ibzkpt` to include it automatically, this is important to include for HSE calculations with `weight = 0`. If `weight = None`, weights are distributed uniformly.\n",
    "- If you provide `n_xyz = integer`,(recommended for auto uniform mesh), all sides have same number of points unless you provide `poscar` too, in that case `n_xyz` is chosen for smallest side in reciprocal space and other sides are scaled based on their lengths according to given POSCAR. "
   ]
  },
  {
   "cell_type": "code",
   "execution_count": null,
   "metadata": {},
   "outputs": [],
   "source": [
    "#export\n",
    "def get_kmesh(n_xyz=[5,5,5],weight = None, ibzkpt= None,poscar=None,outfile=None):\n",
    "    \"\"\"\n",
    "    - Generates uniform mesh of kpoints. Options are write to file, or return KPOINTS list.\n",
    "    - **Parameters**\n",
    "        - n_xyz  : List of [nx ny nz] or integer. If integer given, it represents numbers of kpoints along smallest side in reciprocal space and kmesh is autoscaled.\n",
    "        - weight : Float, if None, auto generates weights.\n",
    "        - ibzkpt : Path to ibzkpt file, required for HSE calculations.\n",
    "        - poscar : POSCAR file or real space lattice vectors, if None, cubic symmetry is used and it is fast.\n",
    "        - outfile: Path/to/file to write kpoints.\n",
    "    - **Attributes**\n",
    "        - If `outfile = None`, a tuple is returned which consists of:\n",
    "            - nkpts   : get_kmesh().nkpts.\n",
    "            - kpoints : get_kmesh().kpoints.\n",
    "            - weight  : get_kmesh().weight, its one float number, provided or calculated.\n",
    "    \"\"\"\n",
    "    if type(n_xyz) == int:\n",
    "        nx,ny,nz = n_xyz,n_xyz,n_xyz\n",
    "    else:\n",
    "        nx,ny,nz = [n for n in n_xyz]\n",
    "    \n",
    "    if poscar and type(n_xyz) == int:\n",
    "        Basis = get_basis(poscar)\n",
    "        weights = np.linalg.norm(Basis.basis,axis=1)\n",
    "        weights = weights/np.min(weights) # For making smallest side at given n_xyz\n",
    "        nx, ny, nz = np.rint(weights*n_xyz).astype(int)\n",
    "\n",
    "    points = []\n",
    "    for k in np.linspace(0,1,nz):\n",
    "        for j in np.linspace(0,1,ny):\n",
    "            for i in np.linspace(0,1,nx):\n",
    "                points.append([i,j,k])\n",
    "    points = np.array(points)\n",
    "    points[np.abs(points) < 1e-10] = 0\n",
    "    top_info=''\n",
    "\n",
    "    if len(points) == 0:\n",
    "        return print('No KPOINTS in BZ from given input. Try larger input!')\n",
    "    if weight == None and len(points) != 0:\n",
    "        weight = float(1/len(points))\n",
    "    out_str = [\"{0:>16.10f}{1:>16.10f}{2:>16.10f}{3:>12.6f}\".format(x,y,z,weight) for x,y,z in points]\n",
    "    out_str = '\\n'.join(out_str)\n",
    "    N = len(points)\n",
    "    if ibzkpt != None:\n",
    "        if os.path.isfile(ibzkpt):\n",
    "            f = open(ibzkpt,'r')\n",
    "            lines = f.readlines()\n",
    "            f.close()\n",
    "            N = int(lines[1].strip())+N # Update N.\n",
    "            slines = lines[3:N+4]\n",
    "            ibz_str = ''.join(slines)\n",
    "            out_str = \"{}\\n{}\".format(ibz_str,out_str) # Update out_str\n",
    "    top_str = \"Automatically generated uniform mesh using PivotPy with {}x{}x{} grid{}\\n\\t{}\\nReciprocal Lattice\".format(nx,ny,nz,top_info,N)\n",
    "    out_str = \"{}\\n{}\".format(top_str,out_str)\n",
    "    if outfile != None:\n",
    "        f = open(outfile,'w')\n",
    "        f.write(out_str)\n",
    "        f.close()\n",
    "    else:\n",
    "        mesh = namedtuple('Mesh',['nkpts','kpoints','weight'])\n",
    "        return mesh(N,points,weight)"
   ]
  },
  {
   "cell_type": "code",
   "execution_count": null,
   "metadata": {},
   "outputs": [
    {
     "data": {
      "text/plain": [
       "27"
      ]
     },
     "execution_count": null,
     "metadata": {},
     "output_type": "execute_result"
    }
   ],
   "source": [
    "get_kmesh(n_xyz=[3,3,3],poscar=[[1,1,0],[0,1,1],[1,0,0.5]]).nkpts"
   ]
  },
  {
   "cell_type": "code",
   "execution_count": null,
   "metadata": {},
   "outputs": [],
   "source": [
    "#export\n",
    "def centroid(points):\n",
    "    \"\"\"\n",
    "    - Returns centroid of a list of 3D points.\n",
    "    - **Parameters**\n",
    "        - points: List[List(len=3)]\n",
    "    \"\"\"\n",
    "    _x = [p[0] for p in points]\n",
    "    _y = [p[1] for p in points]\n",
    "    _z = [p[2] for p in points]\n",
    "    _len = len(points)\n",
    "    _x = sum(_x) / _len\n",
    "    _y = sum(_y) / _len\n",
    "    _z = sum(_z) / _len\n",
    "    center = np.array([_x, _y,_z])\n",
    "    return center\n",
    "\n",
    "def order(points):\n",
    "    \"\"\"\n",
    "    - Returns counterclockwise ordered vertices of a plane in 3D. Append first vertex at end to make loop.\n",
    "    - **Parameters**\n",
    "        - points: List[List(len=3)]\n",
    "    \"\"\"\n",
    "    center = centroid(points)\n",
    "    ex = [p-c for p,c in zip(points[0],center)]\n",
    "    ey = np.cross(center,ex)\n",
    "    ex = ex/np.linalg.norm(ex)  # i\n",
    "    ey = ey/np.linalg.norm(ey)  # j\n",
    "    angles= []\n",
    "    for i in range(0,len(points)):\n",
    "        v = [p-c for p,c in zip(points[i],center)]\n",
    "        vx = np.dot(v,ex)\n",
    "        vy = np.dot(v,ey)\n",
    "        #print(np.sign(vx),np.sign(vy))\n",
    "        theta = np.arctan(abs(vy/vx))\n",
    "        angle = theta # start\n",
    "        if np.sign(vx) == 1 and np.sign(vy) == 1:\n",
    "            angle = theta\n",
    "        if np.sign(vx) == -1 and np.sign(vy) == 1:\n",
    "            angle = np.pi - theta\n",
    "        if np.sign(vx) == -1 and np.sign(vy) == -1:\n",
    "            angle = np.pi + theta\n",
    "        if np.sign(vx) == 1 and np.sign(vy) == -1:\n",
    "            angle = 2*np.pi - theta\n",
    "        if vx == 0 and np.sign(vy) == -1:\n",
    "            angle = 3*np.pi/2\n",
    "        if vx == 0 and np.sign(vy) == 1:\n",
    "            angle = np.pi/2\n",
    "        if np.sign(vx) == -1 and vy == 0:\n",
    "            angle = np.pi\n",
    "        if np.sign(vx) == 1 and vy == 0:\n",
    "            angle = 2*np.pi\n",
    "        angles.append([i,angle])\n",
    "    #print(angles)\n",
    "    s_angs = np.array(angles)\n",
    "    ss= s_angs[s_angs[:,1].argsort()]\n",
    "    #print(ss)\n",
    "    o_pts =[]\n",
    "    for s in ss[:,0]:\n",
    "        pt = np.array(points[int(s)])\n",
    "        o_pts.append(pt)\n",
    "    o_pts.append(np.array(o_pts[0]))\n",
    "    return np.array(o_pts)\n",
    "\n",
    "\n",
    "def out_bz_plane(test_point,plane):\n",
    "    \"\"\"\n",
    "    - Returns True if test_point is between plane and origin. Could be used to sample BZ mesh in place of ConvexHull.\n",
    "    - **Parameters**\n",
    "        - test_points: 3D point.\n",
    "        - plane      : List of at least three coplanar points.\n",
    "    \"\"\"\n",
    "    outside = True\n",
    "    p_test = np.array(test_point)\n",
    "    plane = np.unique(plane,axis=0) #Avoid looped shape. \n",
    "    c = np.array(centroid(plane))\n",
    "    _dot_ = np.dot(p_test-c,c)\n",
    "    if _dot_ < -1e-5:\n",
    "        outside = False\n",
    "    return outside\n",
    "\n",
    "\n",
    "def rad_angle(v1,v2):\n",
    "    \"\"\"\n",
    "    - Returns interier angle between two vectors.\n",
    "    - **Parameters**\n",
    "        - v1,v2 : Two vectors/points in 3D.\n",
    "    \"\"\"\n",
    "    v1 = np.array(v1)\n",
    "    v2 = np.array(v2)\n",
    "    norm  = np.linalg.norm(v1)*np.linalg.norm(v2)\n",
    "    dot_p = np.round(np.dot(v1,v2)/norm,12)\n",
    "    angle = np.arccos(dot_p)\n",
    "    return angle\n",
    "\n",
    "def arctan_full(perp,base):\n",
    "    \"\"\"\n",
    "    - Returns full angle from x-axis counter clockwise.\n",
    "    - **Parameters**\n",
    "        - perp: Perpendicular componet of vector including sign.\n",
    "        - base: Base compoent of vector including sign.\n",
    "    \"\"\"\n",
    "    vy = perp\n",
    "    vx = base\n",
    "    angle = 0  # Place hodler to handle exceptions\n",
    "    if vx == 0 and np.sign(vy) == -1:\n",
    "        angle = 3*np.pi/2\n",
    "    elif vx == 0 and np.sign(vy) == 1:\n",
    "        angle = np.pi/2\n",
    "    else:\n",
    "        theta = abs(np.arctan(vy/vx))\n",
    "        if np.sign(vx) == 1 and np.sign(vy) == 1:\n",
    "            angle = theta\n",
    "        if np.sign(vx) == -1 and np.sign(vy) == 1:\n",
    "            angle = np.pi - theta\n",
    "        if np.sign(vx) == -1 and np.sign(vy) == -1:\n",
    "            angle = np.pi + theta\n",
    "        if np.sign(vx) == 1 and np.sign(vy) == -1:\n",
    "            angle = 2*np.pi - theta\n",
    "        if np.sign(vx) == -1 and vy == 0:\n",
    "            angle = np.pi\n",
    "        if np.sign(vx) == 1 and vy == 0:\n",
    "            angle = 2*np.pi\n",
    "    return angle"
   ]
  },
  {
   "cell_type": "code",
   "execution_count": null,
   "metadata": {},
   "outputs": [
    {
     "name": "stdout",
     "output_type": "stream",
     "text": [
      "Interier Angle: 1.1071487177940433\nAngle with x-axis: 1.5707963267948966\n"
     ]
    }
   ],
   "source": [
    "import numpy as np\n",
    "print(\"Interier Angle:\",rad_angle([0,0.1,0],[0,0.5,1]))\n",
    "print(\"Angle with x-axis:\",arctan_full(1,0))"
   ]
  },
  {
   "cell_type": "code",
   "execution_count": null,
   "metadata": {},
   "outputs": [],
   "source": [
    "#export\n",
    "def get_bz(poscar = None,loop = True,digits=8,primitive=False):\n",
    "    \"\"\"\n",
    "    - Return required information to construct first Brillouin zone in form of tuple (basis, normals, vertices, faces).\n",
    "    - **Parameters**\n",
    "        - poscar : POSCAR file or list of 3 vectors in 3D aslist[list,list,list].\n",
    "        - loop   : If True, joins the last vertex of a BZ plane to starting vertex in order to complete loop.\n",
    "        - digits : int, rounding off decimal places, no effect on intermediate calculations, just for pretty final results.\n",
    "        - primitive: Defualt is False and returns Wigner-Seitz cell, If True returns parallelipiped in rec_basis. \n",
    "    - **Attributes**\n",
    "        - basis   : get_bz().basis, recprocal lattice basis.\n",
    "        - normals : get_bz().normals, all vertors that are perpendicular BZ faces/planes.\n",
    "        - vertices: get_bz().vertices, all vertices of BZ, could be input into ConvexHull for constructing 3D BZ.\n",
    "        - faces   : get_bz().faces, vertices arranged into faces, could be input to Poly3DCollection of matplotlib for creating BZ from faces' patches.\n",
    "        - specials : get_bz().specials, Dictionary of high symmetry KPOINTS with keys as points relative to basis and values are corresponding positions in recirprocal coordinates space.\n",
    "    \"\"\"\n",
    "    Basis = get_basis(poscar) # Reads \n",
    "    b1, b2, b3 = Basis.basis # basis are reciprocal basis\n",
    "    #s_f= np.sqrt(np.dot(b1,b1)) # Do not scale to 1, it makes difficult to compare to lattices\n",
    "    #b1,b2,b3 = b1/s_f,b2/s_f,b3/s_f # Normalize vectors\n",
    "    basis = np.array([b1,b2,b3])\n",
    "    # Get all vectors for BZ\n",
    "    if primitive:\n",
    "        b0 = np.array([0,0,0])\n",
    "        bd = b1+b2+b3 #Diagonal point\n",
    "        faces = [[b0, b1, b1+b2, b2],\n",
    "                 [b0,b2,b2+b3,b3],\n",
    "                 [b0,b3,b3+b1,b1],\n",
    "                 [b1,b1+b2,b1+b3,bd],\n",
    "                 [b2,b2+b1,b2+b3,bd],\n",
    "                 [b3,b3+b1,b3+b2,bd]]\n",
    "    else:\n",
    "        vectors = []\n",
    "        for i,j,k in product([0,1,-1],[0,1,-1],[0,1,-1]):\n",
    "            vectors.append(i*b1+j*b2+k*b3)\n",
    "        vectors = np.array(vectors)\n",
    "        # Generate voronoi diagram\n",
    "        vor = Voronoi(vectors)\n",
    "        faces = []\n",
    "        vrd = vor.ridge_dict\n",
    "        for r in vrd:\n",
    "            if r[0] == 0 or r[1] == 0:\n",
    "                verts_in_face = np.array([vor.vertices[i] for i in vrd[r]])\n",
    "                faces.append(verts_in_face)\n",
    "        faces = np.array(faces)\n",
    "\n",
    "    verts = [v for vs in faces for v in vs]\n",
    "    verts = np.unique(verts,axis=0)\n",
    "\n",
    "    face_vectors = []\n",
    "    for f in faces:\n",
    "        face_vectors.append(2*centroid(f))\n",
    "    if loop == True:\n",
    "        faces = [order(face) for face in faces] # order in a loop\n",
    "    # High symmerty KPOINTS in primitive BZ (positive only)\n",
    "    mid_faces = np.array([centroid(np.unique(face,axis=0)) for face in faces])\n",
    "    mid_edges = []\n",
    "    for f in faces:\n",
    "        for i in range(len(f)-1):\n",
    "            # Do not insert point between unique vertices\n",
    "            if np.isclose(np.linalg.norm(f[i]),np.linalg.norm(f[i+1])):\n",
    "                mid_edges.append(centroid([f[i],f[i+1]]))\n",
    "    if mid_edges!=[]:\n",
    "        mid_edges = np.unique(mid_edges,axis=0) # because faces share edges\n",
    "        mid_faces = np.concatenate([mid_faces,mid_edges])\n",
    "    # Bring all high symmetry points together.\n",
    "    mid_all = np.concatenate([[[0,0,0]],mid_faces,verts])\n",
    "    mid_basis_all = np.array([np.linalg.solve(basis.T,v) for v in mid_all])\n",
    "\n",
    "    # Round off results\n",
    "    mid_all_p    = np.round(mid_all,digits)\n",
    "    mid_basis_p  = np.round(mid_basis_all,digits)\n",
    "    bais         = np.round(basis,digits)\n",
    "    face_vectors = np.round(face_vectors,digits)\n",
    "    verts        = np.round(verts,digits)\n",
    "    faces        = [np.round(face,digits) for face in faces]\n",
    "    one_to_one   = {tuple(x):tuple(y) for x,y in zip(mid_basis_p,mid_all_p)}\n",
    "    BZ = namedtuple('BZ', ['basis', 'normals','vertices','faces','specials'])\n",
    "    return BZ(basis,face_vectors,verts,np.array(faces),one_to_one)"
   ]
  },
  {
   "cell_type": "code",
   "execution_count": null,
   "metadata": {},
   "outputs": [
    {
     "name": "stdout",
     "output_type": "stream",
     "text": [
      "[[-0.99598619  0.99598619  0.99598619]\n [ 0.99598619 -0.99598619  0.99598619]\n [ 0.99598619  0.99598619 -0.99598619]]\n(-0.0, 0.0, 0.0) (0.0, 0.0, 0.0)\n(0.5, -0.0, 0.5) (0.0, 0.996, -0.0)\n(0.5, 0.0, 0.0) (-0.498, 0.498, 0.498)\n"
     ]
    }
   ],
   "source": [
    "import numpy as np\n",
    "from pivotpy.sio import centroid,order\n",
    "bbya = 1.2\n",
    "cbya = 0.8\n",
    "ofco = [[1,bbya,0],[-1,bbya,0],[0,0,cbya]]\n",
    "bco = [[1,bbya,cbya],[-1,bbya,cbya],[-1,-bbya,cbya]]\n",
    "fco = [[1,0,cbya],[1,bbya,0],[0,bbya,cbya]]\n",
    "bcc = [[1,1,1],[-1,1,1],[-1,-1,1]]\n",
    "cube = [[1,0,0],[0,1,0],[0,0,1]]\n",
    "hexa = [[1,0,0],[0.5,np.sqrt(3)/2,0],[0,0,1]]\n",
    "\n",
    "ctg = [[1,1,cbya],[1,-1,cbya],[-1,-1,cbya]]\n",
    "tgl = [[0.81915,-0.472937,0.94923],[0,0.94587,0.94923],[-0.81915,-0.472937,0.94923]]\n",
    "fcc =[[0.0000000000000000,    0.5020149905223673,    0.5020149905223673],\n",
    "    [0.5020149905223673,    0.0000000000000000,    0.5020149905223673],\n",
    "     [0.5020149905223673,    0.5020149905223673,    0.0000000000000000]]\n",
    "\n",
    "basis,normals,vertices,faces,specials = get_bz(fcc,digits=4)\n",
    "print(basis)\n",
    "for i,(k,v) in enumerate(specials.items()):\n",
    "    if i<3:\n",
    "        print(k,v)"
   ]
  },
  {
   "cell_type": "code",
   "execution_count": null,
   "metadata": {},
   "outputs": [],
   "source": [
    "#export\n",
    "def splot_bz(poscar_or_bz = None, ax = None, plane=None,color='blue',fill=True,vectors=True,v3=False):\n",
    "    \"\"\"\n",
    "    - Plots matplotlib's static figure.\n",
    "    - **Parameters**\n",
    "        - pocar_or_bz: POSCAR or 3 basis vectors' list forming POSCAR. Auto picks in working directory. Plot conventional BZ if poscar is given. If you want to plot primitive BZ, first create it using `get_bz(primitive=True)`.\n",
    "        - fill       : True by defult, determines whether to fill surface of BZ or not.\n",
    "        - color      : color to fill surface and stroke color.\n",
    "        - vectors    : Plots basis vectors, default is True.\n",
    "        - v3         : Plots 3rd vector as well. Only works in 2D and when `vectors=True`. \n",
    "        - plane      : Default is None and plots 3D surface. Can take 'xy','yz','zx' to plot in 2D. \n",
    "        - ax         : Auto generated by default, 2D axes is required, auto converts in 3D on demand.\n",
    "    - **Returns**\n",
    "        - ax   : Matplotlib's 2D axes if `plane=None`.\n",
    "        - ax3d : Matplotlib's 2D axes if `plane` is given. \n",
    "    \"\"\"\n",
    "    if poscar_or_bz == None:\n",
    "        bz = get_bz(poscar_or_bz)\n",
    "    else:\n",
    "        try:\n",
    "            poscar_or_bz.basis\n",
    "            bz = poscar_or_bz\n",
    "        except AttributeError:\n",
    "            bz = get_bz(poscar_or_bz)\n",
    "\n",
    "    if not ax:\n",
    "            ax = sp.init_figure(figsize=(3.4,3.4)) #For better display\n",
    "\n",
    "    valid_planes = 'xyzx' # cylic\n",
    "    if plane and plane not in valid_planes:\n",
    "        return print(f\"`plane` expects any of ['xy','yz','zx',None], got {plane!r}\")\n",
    "    elif plane and plane in valid_planes: #Project 2D\n",
    "        faces = bz.faces\n",
    "        i, j = ([0,1] if plane=='xy' else [1,2] if plane=='yz' else [2,0])\n",
    "        _ = [ax.plot(f[:,i],f[:,j],color=(color),lw=1) for f in faces]\n",
    "\n",
    "        if vectors:\n",
    "            if v3:\n",
    "                s_basis = bz.basis \n",
    "            else:\n",
    "                s_basis = bz.basis[[i,j]] # Only two. \n",
    "            for k,y in enumerate(s_basis):\n",
    "                ax.text(0.8*y[i],0.8*y[j],r\" ${}_{}$\".format(r'\\vec{b}',k+1),va='bottom',ha='left')\n",
    "                ax.plot([0,y[i]],[0,y[j]],color='k',lw=0.8) # Must be to scale below arrow. \n",
    "                ax.arrow(0,0,y[i],y[j],lw=0.8,capstyle='butt',head_width=0.03,color='k')\n",
    "\n",
    "        ax.set_xlabel(r\"$k_{}$\".format(valid_planes[i]))\n",
    "        ax.set_ylabel(r\"$k_{}$\".format(valid_planes[j]))\n",
    "        return ax \n",
    "    else: # Plot 3D\n",
    "        from mpl_toolkits import mplot3d\n",
    "        from mpl_toolkits.mplot3d.art3d import Poly3DCollection\n",
    "        pos = ax.get_position()\n",
    "        fig = ax.get_figure()\n",
    "        ax.remove()\n",
    "        ax3d = fig.add_axes(pos,projection='3d',azim=45,elev=30)\n",
    "        if fill:\n",
    "            poly = Poly3DCollection(bz.faces,edgecolors=[color,],facecolors=[color,], alpha=0.3)\n",
    "            ax3d.add_collection3d(poly)\n",
    "        else:\n",
    "            _ = [ax3d.plot3D(f[:,0],f[:,1],f[:,2],color=(color),lw=0.8) for f in bz.faces]\n",
    "        \n",
    "        if vectors:\n",
    "            orig, sv = [0,0,0],0.25*bz.basis\n",
    "            ax3d.quiver(orig,orig,orig,sv[:,0],sv[:,1],sv[:,2], normalize=False,lw=0.8,color='k',arrow_length_ratio=0.25)\n",
    "\n",
    "            for k,y in enumerate(0.35*bz.basis):\n",
    "                ax3d.text(y[0],y[1],y[2],r\"${}_{}$\".format(r'\\vec{b}',k+1),va='center',ha='center')\n",
    "        \n",
    "        ax3d.autoscale_view()\n",
    "\n",
    "        l_ = np.min(bz.vertices,axis=0)\n",
    "        h_ = np.max(bz.vertices,axis=0)\n",
    "        ax3d.set_xlim([l_[0],h_[0]])\n",
    "        ax3d.set_ylim([l_[1],h_[1]])\n",
    "        ax3d.set_zlim([l_[2],h_[2]])\n",
    "\n",
    "        ax3d.set_xlabel(r\"$k_{}$\".format('x'))\n",
    "        ax3d.set_ylabel(r\"$k_{}$\".format('y'))\n",
    "        ax3d.set_zlabel(r\"$k_{}$\".format('z'))\n",
    "        return ax3d\n",
    "\n"
   ]
  },
  {
   "cell_type": "code",
   "execution_count": null,
   "metadata": {},
   "outputs": [
    {
     "data": {
      "text/html": "<svg height=\"187.2pt\" version=\"1.1\" viewBox=\"0 0 648 187.2\" width=\"648pt\" xmlns=\"http://www.w3.org/2000/svg\" xmlns:xlink=\"http://www.w3.org/1999/xlink\">\r\n <defs>\r\n  <style type=\"text/css\">\r\n*{stroke-linecap:butt;stroke-linejoin:round;}\r\n  </style>\r\n </defs>\r\n <g id=\"figure_1\">\r\n  <g id=\"patch_1\">\r\n   <path d=\"M 0 187.2 \r\nL 648 187.2 \r\nL 648 0 \r\nL 0 0 \r\nz\r\n\" style=\"fill:none;\"/>\r\n  </g>\r\n  <g id=\"axes_1\">\r\n   <g id=\"patch_2\">\r\n    <path clip-path=\"url(#pb47ce7e896)\" d=\"M 225.131761 159.044735 \r\nL 221.387727 158.339291 \r\nL 221.971837 157.407758 \r\nL 141.404992 114.578667 \r\nL 141.445276 114.514424 \r\nL 222.01212 157.343514 \r\nL 222.59623 156.411982 \r\nz\r\n\" style=\"stroke:#000000;stroke-linejoin:miter;stroke-width:0.8;\"/>\r\n   </g>\r\n   <g id=\"patch_3\">\r\n    <path clip-path=\"url(#pb47ce7e896)\" d=\"M 141.425134 25.550166 \r\nL 142.633637 28.888364 \r\nL 141.465417 28.888364 \r\nL 141.465417 114.546545 \r\nL 141.38485 114.546545 \r\nL 141.38485 28.888364 \r\nL 140.216631 28.888364 \r\nz\r\n\" style=\"stroke:#000000;stroke-linejoin:miter;stroke-width:0.8;\"/>\r\n   </g>\r\n   <g id=\"line2d_1\">\r\n    <path clip-path=\"url(#pb47ce7e896)\" d=\"M 168.280749 71.717454 \r\nL 114.569519 71.717454 \r\nL 87.713904 114.546545 \r\nL 114.569519 157.375636 \r\nL 168.280749 157.375636 \r\nL 195.136364 114.546545 \r\nL 168.280749 71.717454 \r\n\" style=\"fill:none;stroke:#b20080;stroke-linecap:square;\"/>\r\n   </g>\r\n   <g id=\"line2d_2\">\r\n    <path clip-path=\"url(#pb47ce7e896)\" d=\"M 114.569519 157.375636 \r\nL 87.713904 114.546545 \r\nL 114.569519 71.717454 \r\nL 168.280749 71.717454 \r\nL 195.136364 114.546545 \r\nL 168.280749 157.375636 \r\nL 114.569519 157.375636 \r\n\" style=\"fill:none;stroke:#b20080;stroke-linecap:square;\"/>\r\n   </g>\r\n   <g id=\"line2d_3\">\r\n    <path clip-path=\"url(#pb47ce7e896)\" d=\"M 168.280749 157.375636 \r\nL 114.569519 157.375636 \r\nL 114.569519 157.375636 \r\nL 168.280749 157.375636 \r\nL 168.280749 157.375636 \r\n\" style=\"fill:none;stroke:#b20080;stroke-linecap:square;\"/>\r\n   </g>\r\n   <g id=\"line2d_4\">\r\n    <path clip-path=\"url(#pb47ce7e896)\" d=\"M 168.280749 157.375636 \r\nL 195.136364 114.546545 \r\nL 195.136364 114.546545 \r\nL 168.280749 157.375636 \r\nL 168.280749 157.375636 \r\n\" style=\"fill:none;stroke:#b20080;stroke-linecap:square;\"/>\r\n   </g>\r\n   <g id=\"line2d_5\">\r\n    <path clip-path=\"url(#pb47ce7e896)\" d=\"M 168.280749 71.717454 \r\nL 168.280749 71.717454 \r\nL 114.569519 71.717454 \r\nL 114.569519 71.717454 \r\nL 168.280749 71.717454 \r\n\" style=\"fill:none;stroke:#b20080;stroke-linecap:square;\"/>\r\n   </g>\r\n   <g id=\"line2d_6\">\r\n    <path clip-path=\"url(#pb47ce7e896)\" d=\"M 195.136364 114.546545 \r\nL 195.136364 114.546545 \r\nL 168.280749 71.717454 \r\nL 168.280749 71.717454 \r\nL 195.136364 114.546545 \r\n\" style=\"fill:none;stroke:#b20080;stroke-linecap:square;\"/>\r\n   </g>\r\n   <g id=\"line2d_7\">\r\n    <path clip-path=\"url(#pb47ce7e896)\" d=\"M 114.569519 71.717454 \r\nL 87.713904 114.546545 \r\nL 87.713904 114.546545 \r\nL 114.569519 71.717454 \r\nL 114.569519 71.717454 \r\n\" style=\"fill:none;stroke:#b20080;stroke-linecap:square;\"/>\r\n   </g>\r\n   <g id=\"line2d_8\">\r\n    <path clip-path=\"url(#pb47ce7e896)\" d=\"M 87.713904 114.546545 \r\nL 87.713904 114.546545 \r\nL 114.569519 157.375636 \r\nL 114.569519 157.375636 \r\nL 87.713904 114.546545 \r\n\" style=\"fill:none;stroke:#b20080;stroke-linecap:square;\"/>\r\n   </g>\r\n   <g id=\"line2d_9\">\r\n    <path clip-path=\"url(#pb47ce7e896)\" d=\"M 141.425134 114.546545 \r\nL 221.991979 157.375636 \r\n\" style=\"fill:none;stroke:#000000;stroke-linecap:square;stroke-width:0.8;\"/>\r\n   </g>\r\n   <g id=\"line2d_10\">\r\n    <path clip-path=\"url(#pb47ce7e896)\" d=\"M 141.425134 114.546545 \r\nL 141.425134 28.888364 \r\n\" style=\"fill:none;stroke:#000000;stroke-linecap:square;stroke-width:0.8;\"/>\r\n   </g>\r\n   <g id=\"text_1\">\r\n    <!--  $\\vec{b}_1$ -->\r\n    <defs>\r\n     <path id=\"STIXGeneral-Regular-32\"/>\r\n     <path d=\"M -1.703125 65.40625 \r\nL -14.90625 54.796875 \r\nL -16.703125 55.59375 \r\nQ -11.796875 59.703125 -11.796875 61.203125 \r\nQ -11.796875 62.703125 -16.703125 62.703125 \r\nL -45.296875 62.703125 \r\nL -45.296875 68.09375 \r\nL -16.703125 68.09375 \r\nQ -11.796875 68.09375 -11.796875 69.59375 \r\nQ -11.796875 69.90625 -12 70.25 \r\nQ -12.203125 70.59375 -12.75 71.140625 \r\nQ -13.296875 71.703125 -13.75 72.203125 \r\nQ -14.203125 72.703125 -15.203125 73.640625 \r\nQ -16.203125 74.59375 -16.796875 75.203125 \r\nL -15 76 \r\nz\r\n\" id=\"STIXGeneral-Regular-8407\"/>\r\n     <path d=\"M 16.296875 29 \r\nL 16.40625 29 \r\nQ 21.40625 37.296875 25.84375 40.6875 \r\nQ 30.296875 44.09375 35.703125 44.09375 \r\nQ 40.90625 44.09375 44.09375 40.890625 \r\nQ 47.296875 37.703125 47.296875 32.09375 \r\nQ 47.296875 24.40625 42.59375 16.59375 \r\nQ 37.90625 8.796875 30.34375 3.84375 \r\nQ 22.796875 -1.09375 15.296875 -1.09375 \r\nQ 10.703125 -1.09375 6.5 0.5 \r\nQ 2.296875 2.09375 2.296875 4.203125 \r\nL 2.296875 4.796875 \r\nL 16.5 57.09375 \r\nQ 17.40625 60.703125 17.40625 61.796875 \r\nQ 17.40625 63.40625 16.453125 63.75 \r\nQ 15.5 64.09375 11 64.296875 \r\nL 11 66 \r\nQ 18.5 66.90625 26.296875 68.296875 \r\nL 26.796875 67.796875 \r\nL 24.703125 59.59375 \r\nz\r\nM 38.796875 30.59375 \r\nQ 38.796875 39.203125 31.796875 39.203125 \r\nQ 24.90625 39.203125 18.09375 27.703125 \r\nQ 14.90625 22.296875 12.90625 15.75 \r\nQ 10.90625 9.203125 10.90625 4.59375 \r\nQ 10.90625 1.203125 15.5 1.203125 \r\nQ 22.09375 1.203125 27.796875 7.09375 \r\nQ 32.40625 11.90625 35.59375 18.546875 \r\nQ 38.796875 25.203125 38.796875 30.59375 \r\nz\r\n\" id=\"STIXGeneral-Italic-98\"/>\r\n     <path d=\"M 39.40625 0 \r\nL 11.796875 0 \r\nL 11.796875 1.5 \r\nQ 17.296875 1.796875 19.296875 3.546875 \r\nQ 21.296875 5.296875 21.296875 9.5 \r\nL 21.296875 54.40625 \r\nQ 21.296875 59.296875 18.296875 59.296875 \r\nQ 16.90625 59.296875 13.796875 58.09375 \r\nL 11.09375 57.09375 \r\nL 11.09375 58.5 \r\nL 29 67.59375 \r\nL 29.90625 67.296875 \r\nL 29.90625 7.59375 \r\nQ 29.90625 4.296875 31.90625 2.890625 \r\nQ 33.90625 1.5 39.40625 1.5 \r\nz\r\n\" id=\"STIXGeneral-Regular-49\"/>\r\n    </defs>\r\n    <g transform=\"translate(205.87861 146.639506)scale(0.1 -0.1)\">\r\n     <use xlink:href=\"#STIXGeneral-Regular-32\"/>\r\n     <use transform=\"translate(79.796856 26)\" xlink:href=\"#STIXGeneral-Regular-8407\"/>\r\n     <use transform=\"translate(24.999985 0)\" xlink:href=\"#STIXGeneral-Italic-98\"/>\r\n     <use transform=\"translate(76.543251 -13.228125)scale(0.7)\" xlink:href=\"#STIXGeneral-Regular-49\"/>\r\n    </g>\r\n   </g>\r\n   <g id=\"text_2\">\r\n    <!--  $\\vec{b}_2$ -->\r\n    <defs>\r\n     <path d=\"M 47.40625 13.703125 \r\nL 42 0 \r\nL 2.90625 0 \r\nL 2.90625 1.203125 \r\nL 20.703125 20.09375 \r\nQ 27.703125 27.40625 30.703125 33.5 \r\nQ 33.703125 39.59375 33.703125 46.09375 \r\nQ 33.703125 52.796875 30 56.5 \r\nQ 26.296875 60.203125 19.796875 60.203125 \r\nQ 14.40625 60.203125 11.25 57.390625 \r\nQ 8.09375 54.59375 5.09375 47.203125 \r\nL 3 47.703125 \r\nQ 4.703125 57 9.84375 62.296875 \r\nQ 15 67.59375 23.796875 67.59375 \r\nQ 32.09375 67.59375 37.1875 62.59375 \r\nQ 42.296875 57.59375 42.296875 50 \r\nQ 42.296875 38.703125 29.5 25.203125 \r\nL 13 7.59375 \r\nL 36.40625 7.59375 \r\nQ 39.703125 7.59375 41.640625 8.890625 \r\nQ 43.59375 10.203125 46 14.296875 \r\nz\r\n\" id=\"STIXGeneral-Regular-50\"/>\r\n    </defs>\r\n    <g transform=\"translate(141.425134 43.849687)scale(0.1 -0.1)\">\r\n     <use xlink:href=\"#STIXGeneral-Regular-32\"/>\r\n     <use transform=\"translate(79.796856 26)\" xlink:href=\"#STIXGeneral-Regular-8407\"/>\r\n     <use transform=\"translate(24.999985 0)\" xlink:href=\"#STIXGeneral-Italic-98\"/>\r\n     <use transform=\"translate(76.543251 -13.228125)scale(0.7)\" xlink:href=\"#STIXGeneral-Regular-50\"/>\r\n    </g>\r\n   </g>\r\n   <g id=\"text_3\">\r\n    <!-- XY Projection of Regular BZ -->\r\n    <defs>\r\n     <path d=\"M 70.40625 0 \r\nL 40.796875 0 \r\nL 40.796875 1.90625 \r\nL 43.40625 2.09375 \r\nQ 48.40625 2.40625 48.40625 5 \r\nQ 48.40625 7.203125 43.296875 14.796875 \r\nL 33.796875 28.90625 \r\nL 21.90625 14 \r\nQ 16.59375 7.40625 16.59375 5.09375 \r\nQ 16.59375 3.59375 18.25 2.890625 \r\nQ 19.90625 2.203125 24.203125 1.90625 \r\nL 24.203125 0 \r\nL 1 0 \r\nL 1 1.90625 \r\nQ 4.90625 2.296875 7.34375 4.1875 \r\nQ 9.796875 6.09375 15.5 13.296875 \r\nL 31.09375 32.796875 \r\nL 20.5 48.296875 \r\nQ 13.5 58.5 10.390625 61.140625 \r\nQ 7.296875 63.796875 2.203125 64.296875 \r\nL 2.203125 66.203125 \r\nL 32.296875 66.203125 \r\nL 32.296875 64.296875 \r\nL 29.40625 64.203125 \r\nQ 27.09375 64.09375 25.9375 63.5 \r\nQ 24.796875 62.90625 24.796875 61.296875 \r\nQ 24.796875 60.703125 24.9375 60.046875 \r\nQ 25.09375 59.40625 25.546875 58.5 \r\nQ 26 57.59375 26.390625 56.84375 \r\nQ 26.796875 56.09375 27.640625 54.796875 \r\nQ 28.5 53.5 29.09375 52.59375 \r\nQ 29.703125 51.703125 31 49.84375 \r\nQ 32.296875 48 33.09375 46.796875 \r\nL 37.5 40.40625 \r\nL 48.703125 54.40625 \r\nQ 52.703125 59.296875 52.703125 61.09375 \r\nQ 52.703125 62.796875 51.296875 63.5 \r\nQ 49.90625 64.203125 45.90625 64.296875 \r\nL 45.90625 66.203125 \r\nL 69.59375 66.203125 \r\nL 69.59375 64.296875 \r\nQ 64.796875 64 62 62.140625 \r\nQ 59.203125 60.296875 54.40625 54.40625 \r\nL 40.09375 36.703125 \r\nL 59.296875 9.296875 \r\nQ 62.203125 5.09375 64.296875 3.75 \r\nQ 66.40625 2.40625 70.40625 1.90625 \r\nz\r\n\" id=\"STIXGeneral-Regular-88\"/>\r\n     <path d=\"M 70.296875 66.203125 \r\nL 70.296875 64.296875 \r\nQ 65.90625 63.90625 63.34375 61.796875 \r\nQ 60.796875 59.703125 56.5 53.09375 \r\nL 41.703125 30.296875 \r\nL 41.703125 11.09375 \r\nQ 41.703125 5.40625 43.59375 3.796875 \r\nQ 45.5 2.203125 52 1.90625 \r\nL 52 0 \r\nL 21.40625 0 \r\nL 21.40625 1.90625 \r\nQ 28.203125 2.40625 29.84375 4.046875 \r\nQ 31.5 5.703125 31.5 12.296875 \r\nL 31.5 29.40625 \r\nL 18.40625 48.59375 \r\nQ 11.59375 58.59375 8.6875 61.34375 \r\nQ 5.796875 64.09375 2.203125 64.296875 \r\nL 2.203125 66.203125 \r\nL 30.09375 66.203125 \r\nL 30.09375 64.296875 \r\nL 27.703125 64.203125 \r\nQ 23 64.09375 23 61.59375 \r\nQ 23 59.5 24.796875 56.90625 \r\nL 39.40625 34.796875 \r\nL 53.90625 57 \r\nQ 55.296875 59.09375 55.296875 61.203125 \r\nQ 55.203125 62.90625 53.75 63.546875 \r\nQ 52.296875 64.203125 48.5 64.296875 \r\nL 48.5 66.203125 \r\nz\r\n\" id=\"STIXGeneral-Regular-89\"/>\r\n     <path d=\"M 1.59375 66.203125 \r\nL 27.5 66.203125 \r\nQ 41.703125 66.203125 49.203125 59.90625 \r\nQ 54.203125 55.703125 54.203125 48 \r\nQ 54.203125 40 48.5 34.90625 \r\nQ 44.296875 31.09375 39.890625 29.9375 \r\nQ 35.5 28.796875 27.09375 28.796875 \r\nQ 24.203125 28.796875 20.203125 29.09375 \r\nL 20.203125 11.203125 \r\nQ 20.203125 5.5 21.84375 3.84375 \r\nQ 23.5 2.203125 29.59375 1.90625 \r\nL 29.59375 0 \r\nL 1.59375 0 \r\nL 1.59375 1.90625 \r\nQ 7.40625 2.296875 8.703125 4 \r\nQ 10 5.703125 10 12.203125 \r\nL 10 55.09375 \r\nQ 10 60.703125 8.546875 62.296875 \r\nQ 7.09375 63.90625 1.59375 64.296875 \r\nz\r\nM 20.203125 58.90625 \r\nL 20.203125 33.09375 \r\nQ 23.59375 32.796875 26.296875 32.796875 \r\nQ 34.40625 32.796875 38.84375 36.75 \r\nQ 43.296875 40.703125 43.296875 47.5 \r\nQ 43.296875 55.59375 38.6875 59.046875 \r\nQ 34.09375 62.5 23.703125 62.5 \r\nQ 21.59375 62.5 20.890625 61.75 \r\nQ 20.203125 61 20.203125 58.90625 \r\nz\r\n\" id=\"STIXGeneral-Regular-80\"/>\r\n     <path d=\"M 16 45.796875 \r\nL 16 36.59375 \r\nQ 19.796875 42 22.34375 44 \r\nQ 24.90625 46 28 46 \r\nQ 30.59375 46 32.046875 44.59375 \r\nQ 33.5 43.203125 33.5 40.703125 \r\nQ 33.5 38.59375 32.453125 37.390625 \r\nQ 31.40625 36.203125 29.59375 36.203125 \r\nQ 27.703125 36.203125 25.59375 38.203125 \r\nQ 24 39.703125 23 39.703125 \r\nQ 20.90625 39.703125 18.453125 36.796875 \r\nQ 16 33.90625 16 31.5 \r\nL 16 9 \r\nQ 16 4.703125 17.703125 3.203125 \r\nQ 19.40625 1.703125 24.5 1.5 \r\nL 24.5 0 \r\nL 0.5 0 \r\nL 0.5 1.5 \r\nQ 5.296875 2.40625 6.4375 3.5 \r\nQ 7.59375 4.59375 7.59375 8.40625 \r\nL 7.59375 33.40625 \r\nQ 7.59375 36.703125 6.84375 38.046875 \r\nQ 6.09375 39.40625 4.203125 39.40625 \r\nQ 2.59375 39.40625 0.703125 39 \r\nL 0.703125 40.59375 \r\nQ 7 42.59375 15.5 46 \r\nz\r\n\" id=\"STIXGeneral-Regular-114\"/>\r\n     <path d=\"M 47 23.09375 \r\nQ 47 12.59375 40.75 5.796875 \r\nQ 34.5 -1 24.5 -1 \r\nQ 15.296875 -1 9.09375 5.75 \r\nQ 2.90625 12.5 2.90625 22.796875 \r\nQ 2.90625 33.203125 9.09375 39.59375 \r\nQ 15.296875 46 25.40625 46 \r\nQ 34.703125 46 40.84375 39.640625 \r\nQ 47 33.296875 47 23.09375 \r\nz\r\nM 38 20.40625 \r\nQ 38 31.796875 33 38.203125 \r\nQ 29 43.203125 23.5 43.203125 \r\nQ 18.296875 43.203125 15.09375 38.953125 \r\nQ 11.90625 34.703125 11.90625 27.296875 \r\nQ 11.90625 14.5 17.203125 6.796875 \r\nQ 20.59375 1.796875 26.203125 1.796875 \r\nQ 31.703125 1.796875 34.84375 6.75 \r\nQ 38 11.703125 38 20.40625 \r\nz\r\n\" id=\"STIXGeneral-Regular-111\"/>\r\n     <path d=\"M 19.40625 63.203125 \r\nQ 19.40625 61 17.90625 59.546875 \r\nQ 16.40625 58.09375 14.203125 58.09375 \r\nQ 12.09375 58.09375 10.640625 59.546875 \r\nQ 9.203125 61 9.203125 63.203125 \r\nQ 9.203125 65.296875 10.703125 66.796875 \r\nQ 12.203125 68.296875 14.296875 68.296875 \r\nQ 16.40625 68.296875 17.90625 66.796875 \r\nQ 19.40625 65.296875 19.40625 63.203125 \r\nz\r\nM 19.296875 45.703125 \r\nL 19.296875 0 \r\nQ 19.296875 -10.703125 14.9375 -16.25 \r\nQ 10.59375 -21.796875 2.296875 -21.796875 \r\nQ -1.796875 -21.796875 -4.390625 -20.25 \r\nQ -7 -18.703125 -7 -16.296875 \r\nQ -7 -14.703125 -5.796875 -13.546875 \r\nQ -4.59375 -12.40625 -2.90625 -12.40625 \r\nQ -0.59375 -12.40625 1.90625 -15.59375 \r\nQ 4.203125 -18.40625 6.09375 -18.40625 \r\nQ 8.40625 -18.40625 9.5 -16.59375 \r\nQ 10.90625 -14.09375 10.90625 -4.5 \r\nL 10.90625 33.40625 \r\nQ 10.90625 39.40625 7.703125 39.40625 \r\nQ 5.296875 39.40625 3.703125 39.09375 \r\nL 3.203125 39 \r\nL 3.203125 40.59375 \r\nQ 11.203125 43.09375 18.796875 46 \r\nz\r\n\" id=\"STIXGeneral-Regular-106\"/>\r\n     <path d=\"M 40.796875 16.40625 \r\nL 42.40625 15.703125 \r\nQ 36.40625 -1 21.5 -1 \r\nQ 12.703125 -1 7.59375 5.140625 \r\nQ 2.5 11.296875 2.5 21.703125 \r\nQ 2.5 32.40625 8.203125 39.203125 \r\nQ 13.90625 46 23.203125 46 \r\nQ 32.203125 46 37.09375 39.09375 \r\nQ 40 35.09375 40.5 27.703125 \r\nL 9.703125 27.703125 \r\nQ 10.09375 21.40625 10.9375 18.09375 \r\nQ 11.796875 14.796875 14.296875 11.40625 \r\nQ 18.5 5.90625 25.40625 5.90625 \r\nQ 30.296875 5.90625 33.640625 8.296875 \r\nQ 37 10.703125 40.796875 16.40625 \r\nz\r\nM 9.90625 30.90625 \r\nL 30.296875 30.90625 \r\nQ 29.40625 37.203125 27.34375 39.796875 \r\nQ 25.296875 42.40625 20.5 42.40625 \r\nQ 16.296875 42.40625 13.5 39.453125 \r\nQ 10.703125 36.5 9.90625 30.90625 \r\nz\r\n\" id=\"STIXGeneral-Regular-101\"/>\r\n     <path d=\"M 39.796875 15.59375 \r\nL 41.203125 14.703125 \r\nQ 36.90625 6.296875 33 3.203125 \r\nQ 27.90625 -1 21.5 -1 \r\nQ 13.203125 -1 7.84375 5.25 \r\nQ 2.5 11.5 2.5 21.203125 \r\nQ 2.5 33.90625 10.90625 40.90625 \r\nQ 17.09375 46 24.40625 46 \r\nQ 30.703125 46 35.25 42.953125 \r\nQ 39.796875 39.90625 39.796875 35.703125 \r\nQ 39.796875 34 38.390625 32.75 \r\nQ 37 31.5 35.09375 31.5 \r\nQ 31.59375 31.5 30.296875 36.09375 \r\nL 29.703125 38.296875 \r\nQ 28.90625 41.09375 27.703125 42.09375 \r\nQ 26.5 43.09375 23.796875 43.09375 \r\nQ 17.703125 43.09375 13.953125 38.296875 \r\nQ 10.203125 33.5 10.203125 25.703125 \r\nQ 10.203125 17.09375 14.5 11.640625 \r\nQ 18.796875 6.203125 25.703125 6.203125 \r\nQ 30 6.203125 33.09375 8.25 \r\nQ 36.203125 10.296875 39.796875 15.59375 \r\nz\r\n\" id=\"STIXGeneral-Regular-99\"/>\r\n     <path d=\"M 26.59375 7.703125 \r\nL 27.90625 6.59375 \r\nQ 23.09375 -1 15.796875 -1 \r\nQ 7 -1 7 11.703125 \r\nL 7 41.796875 \r\nL 1.703125 41.796875 \r\nQ 1.296875 42.09375 1.296875 42.5 \r\nQ 1.296875 43.296875 3 44.40625 \r\nQ 6.796875 46.59375 12.703125 55.09375 \r\nQ 12.90625 55.40625 13.65625 56.34375 \r\nQ 14.40625 57.296875 14.703125 57.90625 \r\nQ 15.40625 57.90625 15.40625 56.59375 \r\nL 15.40625 45 \r\nL 25.5 45 \r\nL 25.5 41.796875 \r\nL 15.40625 41.796875 \r\nL 15.40625 13.203125 \r\nQ 15.40625 8.40625 16.59375 6.296875 \r\nQ 17.796875 4.203125 20.59375 4.203125 \r\nQ 23.59375 4.203125 26.59375 7.703125 \r\nz\r\n\" id=\"STIXGeneral-Regular-116\"/>\r\n     <path d=\"M 18 63.203125 \r\nQ 18 61 16.5 59.546875 \r\nQ 15 58.09375 12.796875 58.09375 \r\nQ 10.703125 58.09375 9.25 59.546875 \r\nQ 7.796875 61 7.796875 63.203125 \r\nQ 7.796875 65.296875 9.296875 66.796875 \r\nQ 10.796875 68.296875 12.90625 68.296875 \r\nQ 15.09375 68.296875 16.546875 66.796875 \r\nQ 18 65.296875 18 63.203125 \r\nz\r\nM 25.296875 0 \r\nL 1.59375 0 \r\nL 1.59375 1.5 \r\nQ 6.796875 1.796875 8.140625 3.296875 \r\nQ 9.5 4.796875 9.5 10.40625 \r\nL 9.5 33.09375 \r\nQ 9.5 36.59375 8.796875 38 \r\nQ 8.09375 39.40625 6.203125 39.40625 \r\nQ 3.796875 39.40625 2 38.90625 \r\nL 2 40.5 \r\nL 17.5 46 \r\nL 17.90625 45.59375 \r\nL 17.90625 10.5 \r\nQ 17.90625 4.90625 19.15625 3.40625 \r\nQ 20.40625 1.90625 25.296875 1.5 \r\nz\r\n\" id=\"STIXGeneral-Regular-105\"/>\r\n     <path d=\"M 48.5 0 \r\nL 27.703125 0 \r\nL 27.796875 1.5 \r\nQ 31.5 1.796875 32.75 3.640625 \r\nQ 34 5.5 34 10.5 \r\nL 34 30.40625 \r\nQ 34 40.5 26.703125 40.5 \r\nQ 24.203125 40.5 22 39.296875 \r\nQ 19.796875 38.09375 16.40625 34.796875 \r\nL 16.40625 7.203125 \r\nQ 16.40625 4.203125 17.75 3 \r\nQ 19.09375 1.796875 22.90625 1.5 \r\nL 22.90625 0 \r\nL 1.796875 0 \r\nL 1.796875 1.5 \r\nQ 5.59375 1.796875 6.796875 3.34375 \r\nQ 8 4.90625 8 9.40625 \r\nL 8 33.703125 \r\nQ 8 37.40625 7.296875 38.796875 \r\nQ 6.59375 40.203125 4.5 40.203125 \r\nQ 2.5 40.203125 1.59375 39.796875 \r\nL 1.59375 41.5 \r\nQ 8.59375 43.5 15.296875 46 \r\nL 16.09375 45.703125 \r\nL 16.09375 37.90625 \r\nL 16.203125 37.90625 \r\nQ 23.296875 46 30.59375 46 \r\nQ 36.296875 46 39.34375 42 \r\nQ 42.40625 38 42.40625 30.59375 \r\nL 42.40625 8.5 \r\nQ 42.40625 4.5 43.59375 3.203125 \r\nQ 44.796875 1.90625 48.5 1.5 \r\nz\r\n\" id=\"STIXGeneral-Regular-110\"/>\r\n     <path d=\"M 2.09375 45 \r\nL 10.296875 45 \r\nQ 10.40625 51 11.09375 54.34375 \r\nQ 11.796875 57.703125 13.796875 61.09375 \r\nQ 18 68.296875 27.90625 68.296875 \r\nQ 32.40625 68.296875 35.34375 66.546875 \r\nQ 38.296875 64.796875 38.296875 62.09375 \r\nQ 38.296875 60.40625 37.09375 59.203125 \r\nQ 35.90625 58 34.09375 58 \r\nQ 31.703125 58 29.59375 61.59375 \r\nQ 27.203125 65.5 24.296875 65.5 \r\nQ 18.703125 65.5 18.703125 56.59375 \r\nL 18.703125 45 \r\nL 30.90625 45 \r\nL 30.90625 41.796875 \r\nL 18.703125 41.796875 \r\nL 18.703125 10.40625 \r\nQ 18.703125 4.796875 20.296875 3.25 \r\nQ 21.90625 1.703125 28 1.5 \r\nL 28 0 \r\nL 2 0 \r\nL 2 1.5 \r\nQ 7.40625 1.796875 8.84375 3.34375 \r\nQ 10.296875 4.90625 10.296875 10.40625 \r\nL 10.296875 41.796875 \r\nL 2.09375 41.796875 \r\nz\r\n\" id=\"STIXGeneral-Regular-102\"/>\r\n     <path d=\"M 66 0 \r\nL 49.796875 0 \r\nL 26 30.796875 \r\nL 20.40625 30.59375 \r\nL 20.40625 11.203125 \r\nQ 20.40625 5.5 21.953125 3.890625 \r\nQ 23.5 2.296875 29.296875 1.90625 \r\nL 29.296875 0 \r\nL 1.703125 0 \r\nL 1.703125 1.90625 \r\nQ 7.40625 2.40625 8.796875 4.09375 \r\nQ 10.203125 5.796875 10.203125 12.40625 \r\nL 10.203125 55.09375 \r\nQ 10.203125 60.703125 8.796875 62.296875 \r\nQ 7.40625 63.90625 1.703125 64.296875 \r\nL 1.703125 66.203125 \r\nL 28.90625 66.203125 \r\nQ 42.59375 66.203125 49.796875 60.296875 \r\nQ 54.703125 56.296875 54.703125 48.296875 \r\nQ 54.703125 34.703125 36.59375 31.90625 \r\nL 56.59375 6.59375 \r\nQ 58.703125 4 60.59375 3.09375 \r\nQ 62.5 2.203125 66 1.90625 \r\nz\r\nM 20.40625 58.296875 \r\nL 20.40625 34.296875 \r\nQ 27.59375 34.40625 31.09375 35.09375 \r\nQ 34.59375 35.796875 38.09375 37.703125 \r\nQ 43.796875 40.90625 43.796875 49.09375 \r\nQ 43.796875 62.5 25.5 62.5 \r\nQ 22.796875 62.5 21.59375 61.640625 \r\nQ 20.40625 60.796875 20.40625 58.296875 \r\nz\r\n\" id=\"STIXGeneral-Regular-82\"/>\r\n     <path d=\"M 47 38.796875 \r\nL 38.703125 38.796875 \r\nQ 40.59375 34.5 40.59375 30.40625 \r\nQ 40.59375 22.703125 35.390625 18.796875 \r\nQ 30.203125 14.90625 25 14.90625 \r\nQ 23.90625 14.90625 21.203125 15.203125 \r\nL 19.296875 15.40625 \r\nQ 17.296875 14.796875 15.296875 12.6875 \r\nQ 13.296875 10.59375 13.296875 9.09375 \r\nQ 13.296875 6.796875 21.09375 6.40625 \r\nL 34 5.796875 \r\nQ 39.5 5.59375 42.796875 2.6875 \r\nQ 46.09375 -0.203125 46.09375 -4.90625 \r\nQ 46.09375 -10.703125 40.09375 -15.40625 \r\nQ 31.796875 -21.796875 20.09375 -21.796875 \r\nQ 12.90625 -21.796875 7.84375 -18.9375 \r\nQ 2.796875 -16.09375 2.796875 -12.09375 \r\nQ 2.796875 -9.296875 5 -6.546875 \r\nQ 7.203125 -3.796875 12.59375 0.09375 \r\nQ 9.40625 1.59375 8.34375 2.6875 \r\nQ 7.296875 3.796875 7.296875 5.40625 \r\nQ 7.296875 8.296875 11.90625 12.296875 \r\nQ 14.203125 14.296875 16.203125 16.296875 \r\nQ 11.203125 18.796875 9.046875 21.890625 \r\nQ 6.90625 25 6.90625 29.703125 \r\nQ 6.90625 36.5 11.75 41.25 \r\nQ 16.59375 46 23.59375 46 \r\nQ 27.59375 46 31.59375 44.5 \r\nL 33.796875 43.703125 \r\nQ 36.703125 42.703125 39.296875 42.703125 \r\nL 47 42.703125 \r\nz\r\nM 15.203125 33.796875 \r\nL 15.203125 33.5 \r\nQ 15.203125 26.296875 18.046875 21.84375 \r\nQ 20.90625 17.40625 25.5 17.40625 \r\nQ 28.90625 17.40625 30.90625 19.84375 \r\nQ 32.90625 22.296875 32.90625 26.40625 \r\nQ 32.90625 33 29.90625 38.5 \r\nQ 27.40625 43.203125 22.59375 43.203125 \r\nQ 19.09375 43.203125 17.140625 40.703125 \r\nQ 15.203125 38.203125 15.203125 33.796875 \r\nz\r\nM 43.296875 -6.40625 \r\nQ 43.296875 -3.59375 40.546875 -2.546875 \r\nQ 37.796875 -1.5 30.90625 -1.5 \r\nQ 21 -1.5 14.703125 -0.203125 \r\nQ 11.703125 -3.796875 10.75 -5.4375 \r\nQ 9.796875 -7.09375 9.796875 -8.796875 \r\nQ 9.796875 -12.09375 13.75 -14.09375 \r\nQ 17.703125 -16.09375 24.296875 -16.09375 \r\nQ 32.796875 -16.09375 38.046875 -13.4375 \r\nQ 43.296875 -10.796875 43.296875 -6.40625 \r\nz\r\n\" id=\"STIXGeneral-Regular-103\"/>\r\n     <path d=\"M 48 5 \r\nL 48 3.59375 \r\nQ 40.203125 1.5 34.296875 -0.90625 \r\nL 33.796875 -0.59375 \r\nL 33.796875 7.59375 \r\nL 33.59375 7.59375 \r\nQ 27.296875 -1 19.296875 -1 \r\nQ 13.59375 -1 10.34375 2.5 \r\nQ 7.09375 6 7.09375 11.796875 \r\nL 7.09375 36.90625 \r\nQ 7.09375 40.59375 5.796875 42 \r\nQ 4.5 43.40625 0.90625 43.59375 \r\nL 0.90625 45 \r\nL 15.5 45 \r\nL 15.5 12.703125 \r\nQ 15.5 9.296875 17.546875 7.046875 \r\nQ 19.59375 4.796875 22.59375 4.796875 \r\nQ 27.5 4.796875 31 7.90625 \r\nQ 32.296875 9.09375 32.796875 10.140625 \r\nQ 33.296875 11.203125 33.296875 13.703125 \r\nL 33.296875 36.796875 \r\nQ 33.296875 40.703125 31.890625 41.84375 \r\nQ 30.5 43 25.90625 43.296875 \r\nL 25.90625 45 \r\nL 41.703125 45 \r\nL 41.703125 10.703125 \r\nQ 41.703125 7.203125 42.84375 6.09375 \r\nQ 44 5 47.40625 5 \r\nz\r\n\" id=\"STIXGeneral-Regular-117\"/>\r\n     <path d=\"M 25.703125 0 \r\nL 2.09375 0 \r\nL 2.09375 1.5 \r\nQ 6.796875 1.90625 8.296875 3.453125 \r\nQ 9.796875 5 9.796875 9.203125 \r\nL 9.796875 56.09375 \r\nQ 9.796875 59.703125 8.890625 61.09375 \r\nQ 8 62.5 5.59375 62.5 \r\nQ 3.5 62.5 1.90625 62.296875 \r\nL 1.90625 63.90625 \r\nQ 11.40625 66.203125 17.703125 68.296875 \r\nL 18.203125 67.90625 \r\nL 18.203125 8.703125 \r\nQ 18.203125 4.5 19.59375 3.140625 \r\nQ 21 1.796875 25.703125 1.5 \r\nz\r\n\" id=\"STIXGeneral-Regular-108\"/>\r\n     <path d=\"M 44.203125 6.59375 \r\nL 44.203125 3.796875 \r\nQ 40.40625 -1 35.203125 -1 \r\nQ 29.5 -1 28.796875 6.296875 \r\nL 28.703125 6.296875 \r\nQ 22.296875 -1 14.203125 -1 \r\nQ 9.5 -1 6.59375 1.75 \r\nQ 3.703125 4.5 3.703125 9.40625 \r\nQ 3.703125 16.40625 10.703125 21.09375 \r\nQ 15.5 24.296875 28.703125 29.203125 \r\nL 28.703125 34.59375 \r\nQ 28.703125 39.09375 26.546875 41.34375 \r\nQ 24.40625 43.59375 20.90625 43.59375 \r\nQ 17.90625 43.59375 15.90625 42.140625 \r\nQ 13.90625 40.703125 13.90625 38.703125 \r\nQ 13.90625 37.796875 14.203125 36.6875 \r\nQ 14.5 35.59375 14.5 34.5 \r\nQ 14.5 33 13.140625 31.703125 \r\nQ 11.796875 30.40625 9.90625 30.40625 \r\nQ 8.203125 30.40625 6.890625 31.703125 \r\nQ 5.59375 33 5.59375 35 \r\nQ 5.59375 39.796875 10.703125 43 \r\nQ 15.40625 46 22.203125 46 \r\nQ 30.296875 46 34 41.5 \r\nQ 35.796875 39.40625 36.296875 37.25 \r\nQ 36.796875 35.09375 36.796875 30.40625 \r\nL 36.796875 11.296875 \r\nQ 36.796875 4.703125 39.90625 4.703125 \r\nQ 41.90625 4.703125 44.203125 6.59375 \r\nz\r\nM 28.703125 12.703125 \r\nL 28.703125 26.796875 \r\nQ 19.5 23.59375 15.90625 20.203125 \r\nQ 12.5 17.09375 12.5 12.5 \r\nQ 12.5 8.703125 14.390625 6.75 \r\nQ 16.296875 4.796875 19.40625 4.796875 \r\nQ 22.703125 4.796875 25.203125 6.40625 \r\nQ 27.296875 7.90625 28 9.203125 \r\nQ 28.703125 10.5 28.703125 12.703125 \r\nz\r\n\" id=\"STIXGeneral-Regular-97\"/>\r\n     <path d=\"M 42.203125 34.90625 \r\nL 42.203125 34.796875 \r\nQ 49.703125 33.59375 54.40625 29.296875 \r\nQ 59.296875 24.90625 59.296875 17.796875 \r\nQ 59.296875 9.5 52.796875 4.75 \r\nQ 46.296875 0 35.40625 0 \r\nL 1.703125 0 \r\nL 1.703125 1.90625 \r\nQ 7.59375 2.09375 9.4375 3.84375 \r\nQ 11.296875 5.59375 11.296875 11.296875 \r\nL 11.296875 55 \r\nQ 11.296875 60.796875 9.59375 62.34375 \r\nQ 7.90625 63.90625 1.703125 64.296875 \r\nL 1.703125 66.203125 \r\nL 29.703125 66.203125 \r\nQ 42.59375 66.203125 49.25 61.84375 \r\nQ 55.90625 57.5 55.90625 49.5 \r\nQ 55.90625 42.703125 51.796875 39.09375 \r\nQ 48.90625 36.59375 42.203125 34.90625 \r\nz\r\nM 21.5 36.59375 \r\nL 30.703125 36.59375 \r\nQ 45.703125 36.59375 45.703125 49 \r\nQ 45.703125 55.40625 41.25 58.953125 \r\nQ 36.796875 62.5 28 62.5 \r\nL 23.90625 62.5 \r\nQ 21.5 62.5 21.5 59.296875 \r\nz\r\nM 21.5 32.59375 \r\nL 21.5 8.203125 \r\nQ 21.5 5.703125 22.84375 4.703125 \r\nQ 24.203125 3.703125 27.703125 3.703125 \r\nQ 34.5 3.703125 37.703125 4.453125 \r\nQ 40.90625 5.203125 44 8 \r\nQ 47.796875 11.296875 47.796875 17.90625 \r\nQ 47.796875 25.5 43.09375 28.59375 \r\nQ 42 29.40625 40.890625 29.953125 \r\nQ 39.796875 30.5 38.9375 30.84375 \r\nQ 38.09375 31.203125 36.6875 31.5 \r\nQ 35.296875 31.796875 34.546875 31.9375 \r\nQ 33.796875 32.09375 31.890625 32.1875 \r\nQ 30 32.296875 29.09375 32.34375 \r\nQ 28.203125 32.40625 25.546875 32.5 \r\nQ 22.90625 32.59375 21.5 32.59375 \r\nz\r\n\" id=\"STIXGeneral-Regular-66\"/>\r\n     <path d=\"M 59.796875 17.59375 \r\nL 57.296875 0 \r\nL 1 0 \r\nL 1 1.5 \r\nL 44.703125 62.40625 \r\nL 23.296875 62.40625 \r\nQ 13.40625 62.40625 9.90625 58.90625 \r\nQ 8.09375 57 7.34375 55.140625 \r\nQ 6.59375 53.296875 5.796875 49.09375 \r\nL 3.203125 49.09375 \r\nL 5.296875 66.203125 \r\nL 57.796875 66.203125 \r\nL 57.796875 64.703125 \r\nL 14.59375 3.796875 \r\nL 39.796875 3.796875 \r\nQ 47.59375 3.796875 51.5 6.59375 \r\nQ 53.796875 8.203125 54.890625 10.34375 \r\nQ 56 12.5 57.5 17.59375 \r\nz\r\n\" id=\"STIXGeneral-Regular-90\"/>\r\n    </defs>\r\n    <g transform=\"translate(83.847629 16.464)scale(0.12 -0.12)\">\r\n     <use xlink:href=\"#STIXGeneral-Regular-88\"/>\r\n     <use x=\"72.199982\" xlink:href=\"#STIXGeneral-Regular-89\"/>\r\n     <use x=\"144.399963\" xlink:href=\"#STIXGeneral-Regular-32\"/>\r\n     <use x=\"169.399948\" xlink:href=\"#STIXGeneral-Regular-80\"/>\r\n     <use x=\"225.099945\" xlink:href=\"#STIXGeneral-Regular-114\"/>\r\n     <use x=\"258.399933\" xlink:href=\"#STIXGeneral-Regular-111\"/>\r\n     <use x=\"308.399918\" xlink:href=\"#STIXGeneral-Regular-106\"/>\r\n     <use x=\"336.199905\" xlink:href=\"#STIXGeneral-Regular-101\"/>\r\n     <use x=\"380.599899\" xlink:href=\"#STIXGeneral-Regular-99\"/>\r\n     <use x=\"424.999893\" xlink:href=\"#STIXGeneral-Regular-116\"/>\r\n     <use x=\"452.799881\" xlink:href=\"#STIXGeneral-Regular-105\"/>\r\n     <use x=\"480.599869\" xlink:href=\"#STIXGeneral-Regular-111\"/>\r\n     <use x=\"530.599854\" xlink:href=\"#STIXGeneral-Regular-110\"/>\r\n     <use x=\"580.599838\" xlink:href=\"#STIXGeneral-Regular-32\"/>\r\n     <use x=\"605.599823\" xlink:href=\"#STIXGeneral-Regular-111\"/>\r\n     <use x=\"655.599808\" xlink:href=\"#STIXGeneral-Regular-102\"/>\r\n     <use x=\"688.899796\" xlink:href=\"#STIXGeneral-Regular-32\"/>\r\n     <use x=\"713.89978\" xlink:href=\"#STIXGeneral-Regular-82\"/>\r\n     <use x=\"780.599777\" xlink:href=\"#STIXGeneral-Regular-101\"/>\r\n     <use x=\"824.999771\" xlink:href=\"#STIXGeneral-Regular-103\"/>\r\n     <use x=\"874.999756\" xlink:href=\"#STIXGeneral-Regular-117\"/>\r\n     <use x=\"924.999741\" xlink:href=\"#STIXGeneral-Regular-108\"/>\r\n     <use x=\"952.799728\" xlink:href=\"#STIXGeneral-Regular-97\"/>\r\n     <use x=\"997.199722\" xlink:href=\"#STIXGeneral-Regular-114\"/>\r\n     <use x=\"1030.49971\" xlink:href=\"#STIXGeneral-Regular-32\"/>\r\n     <use x=\"1055.499695\" xlink:href=\"#STIXGeneral-Regular-66\"/>\r\n     <use x=\"1122.199692\" xlink:href=\"#STIXGeneral-Regular-90\"/>\r\n    </g>\r\n   </g>\r\n  </g>\r\n  <g id=\"patch_4\">\r\n   <path d=\"M 258.247059 163.8 \r\nL 405.952941 163.8 \r\nL 405.952941 22.464 \r\nL 258.247059 22.464 \r\nz\r\n\" style=\"fill:none;\"/>\r\n  </g>\r\n  <g id=\"axes_2\">\r\n   <g id=\"Line3DCollection_1\">\r\n    <path clip-path=\"url(#p5fd517a500)\" d=\"M 316.385703 92.91671 \r\nL 334.096025 91.222054 \r\n\" style=\"fill:none;stroke:#000000;stroke-width:0.8;\"/>\r\n    <path clip-path=\"url(#p5fd517a500)\" d=\"M 348.429492 98.079719 \r\nL 334.096025 91.222054 \r\n\" style=\"fill:none;stroke:#000000;stroke-width:0.8;\"/>\r\n    <path clip-path=\"url(#p5fd517a500)\" d=\"M 334.096025 74.472062 \r\nL 334.096025 91.222054 \r\n\" style=\"fill:none;stroke:#000000;stroke-width:0.8;\"/>\r\n    <path clip-path=\"url(#p5fd517a500)\" d=\"M 316.385703 92.91671 \r\nL 320.687429 93.743353 \r\n\" style=\"fill:none;stroke:#000000;stroke-width:0.8;\"/>\r\n    <path clip-path=\"url(#p5fd517a500)\" d=\"M 316.385703 92.91671 \r\nL 320.662287 91.266908 \r\n\" style=\"fill:none;stroke:#000000;stroke-width:0.8;\"/>\r\n    <path clip-path=\"url(#p5fd517a500)\" d=\"M 348.429492 98.079719 \r\nL 344.917335 97.648537 \r\n\" style=\"fill:none;stroke:#000000;stroke-width:0.8;\"/>\r\n    <path clip-path=\"url(#p5fd517a500)\" d=\"M 348.429492 98.079719 \r\nL 344.937804 95.157637 \r\n\" style=\"fill:none;stroke:#000000;stroke-width:0.8;\"/>\r\n    <path clip-path=\"url(#p5fd517a500)\" d=\"M 334.096025 74.472062 \r\nL 334.786997 78.234499 \r\n\" style=\"fill:none;stroke:#000000;stroke-width:0.8;\"/>\r\n    <path clip-path=\"url(#p5fd517a500)\" d=\"M 334.096025 74.472062 \r\nL 333.404016 78.877168 \r\n\" style=\"fill:none;stroke:#000000;stroke-width:0.8;\"/>\r\n   </g>\r\n   <g id=\"text_4\">\r\n    <!-- $\\vec{b}_1$ -->\r\n    <g transform=\"translate(304.713411 97.227911)scale(0.1 -0.1)\">\r\n     <use transform=\"translate(54.796871 26)\" xlink:href=\"#STIXGeneral-Regular-8407\"/>\r\n     <use xlink:href=\"#STIXGeneral-Italic-98\"/>\r\n     <use transform=\"translate(51.543266 -13.228125)scale(0.7)\" xlink:href=\"#STIXGeneral-Regular-49\"/>\r\n    </g>\r\n   </g>\r\n   <g id=\"text_5\">\r\n    <!-- $\\vec{b}_2$ -->\r\n    <g transform=\"translate(349.738454 104.512552)scale(0.1 -0.1)\">\r\n     <use transform=\"translate(54.796871 26)\" xlink:href=\"#STIXGeneral-Regular-8407\"/>\r\n     <use xlink:href=\"#STIXGeneral-Italic-98\"/>\r\n     <use transform=\"translate(51.543266 -13.228125)scale(0.7)\" xlink:href=\"#STIXGeneral-Regular-50\"/>\r\n    </g>\r\n   </g>\r\n   <g id=\"text_6\">\r\n    <!-- $\\vec{b}_3$ -->\r\n    <defs>\r\n     <path d=\"M 6.09375 51 \r\nL 4.5 51.40625 \r\nQ 6.796875 58.90625 11.6875 63.25 \r\nQ 16.59375 67.59375 24.09375 67.59375 \r\nQ 31.09375 67.59375 35.390625 63.796875 \r\nQ 39.703125 60 39.703125 53.90625 \r\nQ 39.703125 45.703125 30.40625 40.09375 \r\nQ 35.90625 37.703125 38.703125 34.796875 \r\nQ 43.09375 29.90625 43.09375 21.90625 \r\nQ 43.09375 13.90625 38.5 7.90625 \r\nQ 35.09375 3.296875 28.75 0.9375 \r\nQ 22.40625 -1.40625 15.296875 -1.40625 \r\nQ 4.09375 -1.40625 4.09375 4.296875 \r\nQ 4.09375 5.90625 5.296875 6.90625 \r\nQ 6.5 7.90625 8.203125 7.90625 \r\nQ 10.703125 7.90625 14.296875 5.296875 \r\nQ 18.703125 2.203125 22.90625 2.203125 \r\nQ 28.40625 2.203125 32.15625 6.640625 \r\nQ 35.90625 11.09375 35.90625 17.5 \r\nQ 35.90625 29 25.5 32 \r\nQ 22.40625 33 15.296875 33 \r\nL 15.296875 34.40625 \r\nQ 20.90625 36.296875 23.703125 38 \r\nQ 31.796875 42.59375 31.796875 51.40625 \r\nQ 31.796875 56.40625 28.9375 59 \r\nQ 26.09375 61.59375 21 61.59375 \r\nQ 12 61.59375 6.09375 51 \r\nz\r\n\" id=\"STIXGeneral-Regular-51\"/>\r\n    </defs>\r\n    <g transform=\"translate(329.546025 71.332414)scale(0.1 -0.1)\">\r\n     <use transform=\"translate(54.796871 26)\" xlink:href=\"#STIXGeneral-Regular-8407\"/>\r\n     <use xlink:href=\"#STIXGeneral-Italic-98\"/>\r\n     <use transform=\"translate(51.543266 -13.228125)scale(0.7)\" xlink:href=\"#STIXGeneral-Regular-51\"/>\r\n    </g>\r\n   </g>\r\n   <g id=\"text_7\">\r\n    <!-- Regular BZ -->\r\n    <g transform=\"translate(303.929063 27.77088)scale(0.12 -0.12)\">\r\n     <use xlink:href=\"#STIXGeneral-Regular-82\"/>\r\n     <use x=\"66.699997\" xlink:href=\"#STIXGeneral-Regular-101\"/>\r\n     <use x=\"111.099991\" xlink:href=\"#STIXGeneral-Regular-103\"/>\r\n     <use x=\"161.099976\" xlink:href=\"#STIXGeneral-Regular-117\"/>\r\n     <use x=\"211.09996\" xlink:href=\"#STIXGeneral-Regular-108\"/>\r\n     <use x=\"238.899948\" xlink:href=\"#STIXGeneral-Regular-97\"/>\r\n     <use x=\"283.299942\" xlink:href=\"#STIXGeneral-Regular-114\"/>\r\n     <use x=\"316.59993\" xlink:href=\"#STIXGeneral-Regular-32\"/>\r\n     <use x=\"341.599915\" xlink:href=\"#STIXGeneral-Regular-66\"/>\r\n     <use x=\"408.299911\" xlink:href=\"#STIXGeneral-Regular-90\"/>\r\n    </g>\r\n   </g>\r\n   <g id=\"Poly3DCollection_1\">\r\n    <path clip-path=\"url(#p5fd517a500)\" d=\"M 362.166371 44.895753 \r\nL 360.836803 109.766514 \r\nL 320.916771 103.195967 \r\nL 320.271317 38.976182 \r\nL 362.166371 44.895753 \r\nz\r\n\" style=\"fill:#6cccd7;fill-opacity:0.3;stroke:#6cccd7;\"/>\r\n    <path clip-path=\"url(#p5fd517a500)\" d=\"M 320.916771 103.195967 \r\nL 360.836803 109.766514 \r\nL 376.031733 130.673654 \r\nL 348.511748 145.701466 \r\nL 305.708464 138.071877 \r\nL 293.394579 116.530446 \r\nL 320.916771 103.195967 \r\nz\r\n\" style=\"fill:#6cccd7;fill-opacity:0.3;stroke:#6cccd7;\"/>\r\n    <path clip-path=\"url(#p5fd517a500)\" d=\"M 291.339593 50.998346 \r\nL 320.271317 38.976182 \r\nL 320.916771 103.195967 \r\nL 293.394579 116.530446 \r\nL 291.339593 50.998346 \r\nz\r\n\" style=\"fill:#6cccd7;fill-opacity:0.3;stroke:#6cccd7;\"/>\r\n    <path clip-path=\"url(#p5fd517a500)\" d=\"M 376.031733 130.673654 \r\nL 360.836803 109.766514 \r\nL 362.166371 44.895753 \r\nL 378.216588 63.787636 \r\nL 376.031733 130.673654 \r\nz\r\n\" style=\"fill:#6cccd7;fill-opacity:0.3;stroke:#6cccd7;\"/>\r\n    <path clip-path=\"url(#p5fd517a500)\" d=\"M 293.394579 116.530446 \r\nL 305.708464 138.071877 \r\nL 304.205493 70.493271 \r\nL 291.339593 50.998346 \r\nL 293.394579 116.530446 \r\nz\r\n\" style=\"fill:#6cccd7;fill-opacity:0.3;stroke:#6cccd7;\"/>\r\n    <path clip-path=\"url(#p5fd517a500)\" d=\"M 349.287561 77.419897 \r\nL 378.216588 63.787636 \r\nL 362.166371 44.895753 \r\nL 320.271317 38.976182 \r\nL 291.339593 50.998346 \r\nL 304.205493 70.493271 \r\nL 349.287561 77.419897 \r\nz\r\n\" style=\"fill:#6cccd7;fill-opacity:0.3;stroke:#6cccd7;\"/>\r\n    <path clip-path=\"url(#p5fd517a500)\" d=\"M 349.287561 77.419897 \r\nL 348.511748 145.701466 \r\nL 376.031733 130.673654 \r\nL 378.216588 63.787636 \r\nL 349.287561 77.419897 \r\nz\r\n\" style=\"fill:#6cccd7;fill-opacity:0.3;stroke:#6cccd7;\"/>\r\n    <path clip-path=\"url(#p5fd517a500)\" d=\"M 304.205493 70.493271 \r\nL 305.708464 138.071877 \r\nL 348.511748 145.701466 \r\nL 349.287561 77.419897 \r\nL 304.205493 70.493271 \r\nz\r\n\" style=\"fill:#6cccd7;fill-opacity:0.3;stroke:#6cccd7;\"/>\r\n   </g>\r\n  </g>\r\n  <g id=\"patch_5\">\r\n   <path d=\"M 435.494118 163.8 \r\nL 583.2 163.8 \r\nL 583.2 22.464 \r\nL 435.494118 22.464 \r\nz\r\n\" style=\"fill:none;\"/>\r\n  </g>\r\n  <g id=\"axes_3\">\r\n   <g id=\"Line3DCollection_2\">\r\n    <path clip-path=\"url(#p9f4b591a0d)\" d=\"M 511.343084 109.766514 \r\nL 528.999558 105.365177 \r\n\" style=\"fill:none;stroke:#000000;stroke-width:0.8;\"/>\r\n    <path clip-path=\"url(#p9f4b591a0d)\" d=\"M 538.083862 109.766514 \r\nL 528.999558 105.365177 \r\n\" style=\"fill:none;stroke:#000000;stroke-width:0.8;\"/>\r\n    <path clip-path=\"url(#p9f4b591a0d)\" d=\"M 529.209091 89.829771 \r\nL 528.999558 105.365177 \r\n\" style=\"fill:none;stroke:#000000;stroke-width:0.8;\"/>\r\n    <path clip-path=\"url(#p9f4b591a0d)\" d=\"M 511.343084 109.766514 \r\nL 515.634204 109.847442 \r\n\" style=\"fill:none;stroke:#000000;stroke-width:0.8;\"/>\r\n    <path clip-path=\"url(#p9f4b591a0d)\" d=\"M 511.343084 109.766514 \r\nL 515.641786 107.542316 \r\n\" style=\"fill:none;stroke:#000000;stroke-width:0.8;\"/>\r\n    <path clip-path=\"url(#p9f4b591a0d)\" d=\"M 538.083862 109.766514 \r\nL 535.852487 109.847442 \r\n\" style=\"fill:none;stroke:#000000;stroke-width:0.8;\"/>\r\n    <path clip-path=\"url(#p9f4b591a0d)\" d=\"M 538.083862 109.766514 \r\nL 535.895792 107.542316 \r\n\" style=\"fill:none;stroke:#000000;stroke-width:0.8;\"/>\r\n    <path clip-path=\"url(#p9f4b591a0d)\" d=\"M 529.209091 89.829771 \r\nL 530.005072 93.199477 \r\n\" style=\"fill:none;stroke:#000000;stroke-width:0.8;\"/>\r\n    <path clip-path=\"url(#p9f4b591a0d)\" d=\"M 529.209091 89.829771 \r\nL 528.309414 94.031216 \r\n\" style=\"fill:none;stroke:#000000;stroke-width:0.8;\"/>\r\n   </g>\r\n   <g id=\"text_8\">\r\n    <!-- $\\vec{b}_1$ -->\r\n    <g transform=\"translate(499.634525 115.180659)scale(0.1 -0.1)\">\r\n     <use transform=\"translate(54.796871 26)\" xlink:href=\"#STIXGeneral-Regular-8407\"/>\r\n     <use xlink:href=\"#STIXGeneral-Italic-98\"/>\r\n     <use transform=\"translate(51.543266 -13.228125)scale(0.7)\" xlink:href=\"#STIXGeneral-Regular-49\"/>\r\n    </g>\r\n   </g>\r\n   <g id=\"text_9\">\r\n    <!-- $\\vec{b}_2$ -->\r\n    <g transform=\"translate(537.216959 115.180659)scale(0.1 -0.1)\">\r\n     <use transform=\"translate(54.796871 26)\" xlink:href=\"#STIXGeneral-Regular-8407\"/>\r\n     <use xlink:href=\"#STIXGeneral-Italic-98\"/>\r\n     <use transform=\"translate(51.543266 -13.228125)scale(0.7)\" xlink:href=\"#STIXGeneral-Regular-50\"/>\r\n    </g>\r\n   </g>\r\n   <g id=\"text_10\">\r\n    <!-- $\\vec{b}_3$ -->\r\n    <g transform=\"translate(524.744303 87.191562)scale(0.1 -0.1)\">\r\n     <use transform=\"translate(54.796871 26)\" xlink:href=\"#STIXGeneral-Regular-8407\"/>\r\n     <use xlink:href=\"#STIXGeneral-Italic-98\"/>\r\n     <use transform=\"translate(51.543266 -13.228125)scale(0.7)\" xlink:href=\"#STIXGeneral-Regular-51\"/>\r\n    </g>\r\n   </g>\r\n   <g id=\"text_11\">\r\n    <!-- Primitive BZ -->\r\n    <defs>\r\n     <path d=\"M 77.5 0 \r\nL 55.703125 0 \r\nL 55.703125 1.5 \r\nQ 59.90625 1.90625 61.046875 3.25 \r\nQ 62.203125 4.59375 62.203125 9 \r\nL 62.203125 29.59375 \r\nQ 62.203125 35.59375 60.453125 38.1875 \r\nQ 58.703125 40.796875 54.5 40.796875 \r\nQ 51 40.796875 48.546875 39.390625 \r\nQ 46.09375 38 43.796875 34.703125 \r\nL 43.796875 9.5 \r\nQ 43.796875 4.703125 45.25 3.140625 \r\nQ 46.703125 1.59375 51 1.5 \r\nL 51 0 \r\nL 28.59375 0 \r\nL 28.59375 1.5 \r\nQ 33 1.796875 34.203125 2.9375 \r\nQ 35.40625 4.09375 35.40625 8.59375 \r\nL 35.40625 29.703125 \r\nQ 35.40625 40.796875 28.90625 40.796875 \r\nQ 26.09375 40.796875 22.9375 39.546875 \r\nQ 19.796875 38.296875 18.296875 36.5 \r\nQ 17 35 17 34.796875 \r\nL 17 7 \r\nQ 17 3.796875 18.390625 2.75 \r\nQ 19.796875 1.703125 23.796875 1.5 \r\nL 23.796875 0 \r\nL 1.59375 0 \r\nL 1.59375 1.5 \r\nQ 5.796875 1.59375 7.1875 3.046875 \r\nQ 8.59375 4.5 8.59375 8.796875 \r\nL 8.59375 33.59375 \r\nQ 8.59375 37.296875 7.796875 38.75 \r\nQ 7 40.203125 5.09375 40.203125 \r\nQ 3.59375 40.203125 1.90625 39.796875 \r\nL 1.90625 41.5 \r\nQ 8.703125 43.40625 15.796875 46 \r\nL 16.59375 45.703125 \r\nL 16.59375 38.296875 \r\nL 16.796875 38.296875 \r\nQ 21.296875 43 24.75 44.5 \r\nQ 28.203125 46 32.09375 46 \r\nQ 40 46 42.703125 37.59375 \r\nQ 50.5 46 59 46 \r\nQ 70.59375 46 70.59375 28 \r\nL 70.59375 7.703125 \r\nQ 70.59375 4.40625 71.59375 3.15625 \r\nQ 72.59375 1.90625 74.90625 1.703125 \r\nL 77.5 1.5 \r\nz\r\n\" id=\"STIXGeneral-Regular-109\"/>\r\n     <path d=\"M 47.703125 45 \r\nL 47.703125 43.5 \r\nQ 45.40625 43.296875 44.296875 42 \r\nQ 43.203125 40.703125 41.203125 35.703125 \r\nL 28.40625 3.59375 \r\nQ 26.40625 -1.40625 25.59375 -1.40625 \r\nQ 24.796875 -1.40625 23.796875 1.203125 \r\nQ 23.59375 1.5 23.390625 2.203125 \r\nQ 23.203125 2.90625 23 3.296875 \r\nL 11 32 \r\nQ 7.796875 39.59375 6.296875 41.4375 \r\nQ 4.796875 43.296875 1.90625 43.5 \r\nL 1.90625 45 \r\nL 21.5 45 \r\nL 21.5 43.5 \r\nQ 18.90625 43.296875 17.90625 42.6875 \r\nQ 16.90625 42.09375 16.90625 40.796875 \r\nQ 16.90625 39.203125 17.796875 37 \r\nL 28 11.40625 \r\nL 37.90625 37.296875 \r\nQ 38.5 38.796875 38.5 40.296875 \r\nQ 38.5 43.09375 33.796875 43.5 \r\nL 33.796875 45 \r\nz\r\n\" id=\"STIXGeneral-Regular-118\"/>\r\n    </defs>\r\n    <g transform=\"translate(477.829246 27.77088)scale(0.12 -0.12)\">\r\n     <use xlink:href=\"#STIXGeneral-Regular-80\"/>\r\n     <use x=\"55.699997\" xlink:href=\"#STIXGeneral-Regular-114\"/>\r\n     <use x=\"88.999985\" xlink:href=\"#STIXGeneral-Regular-105\"/>\r\n     <use x=\"116.799973\" xlink:href=\"#STIXGeneral-Regular-109\"/>\r\n     <use x=\"194.59996\" xlink:href=\"#STIXGeneral-Regular-105\"/>\r\n     <use x=\"222.399948\" xlink:href=\"#STIXGeneral-Regular-116\"/>\r\n     <use x=\"250.199936\" xlink:href=\"#STIXGeneral-Regular-105\"/>\r\n     <use x=\"277.999924\" xlink:href=\"#STIXGeneral-Regular-118\"/>\r\n     <use x=\"327.999908\" xlink:href=\"#STIXGeneral-Regular-101\"/>\r\n     <use x=\"372.399902\" xlink:href=\"#STIXGeneral-Regular-32\"/>\r\n     <use x=\"397.399887\" xlink:href=\"#STIXGeneral-Regular-66\"/>\r\n     <use x=\"464.099884\" xlink:href=\"#STIXGeneral-Regular-90\"/>\r\n    </g>\r\n   </g>\r\n   <g id=\"Poly3DCollection_2\">\r\n    <path clip-path=\"url(#p9f4b591a0d)\" d=\"M 528.999558 105.365177 \r\nL 456.263938 123.496429 \r\nL 492.221785 143.131896 \r\nL 566.42223 123.496429 \r\nL 528.999558 105.365177 \r\nz\r\n\" style=\"fill:#d4af37;fill-opacity:0.3;stroke:#d4af37;\"/>\r\n    <path clip-path=\"url(#p9f4b591a0d)\" d=\"M 528.999558 105.365177 \r\nL 566.42223 123.496429 \r\nL 569.246802 57.292583 \r\nL 529.868629 40.929547 \r\nL 528.999558 105.365177 \r\nz\r\n\" style=\"fill:#d4af37;fill-opacity:0.3;stroke:#d4af37;\"/>\r\n    <path clip-path=\"url(#p9f4b591a0d)\" d=\"M 528.999558 105.365177 \r\nL 529.868629 40.929547 \r\nL 453.439366 57.292583 \r\nL 456.263938 123.496429 \r\nL 528.999558 105.365177 \r\nz\r\n\" style=\"fill:#d4af37;fill-opacity:0.3;stroke:#d4af37;\"/>\r\n    <path clip-path=\"url(#p9f4b591a0d)\" d=\"M 492.221785 143.131896 \r\nL 491.198352 75.085797 \r\nL 453.439366 57.292583 \r\nL 456.263938 123.496429 \r\nL 492.221785 143.131896 \r\nz\r\n\" style=\"fill:#d4af37;fill-opacity:0.3;stroke:#d4af37;\"/>\r\n    <path clip-path=\"url(#p9f4b591a0d)\" d=\"M 569.246802 57.292583 \r\nL 491.198352 75.085797 \r\nL 492.221785 143.131896 \r\nL 566.42223 123.496429 \r\nL 569.246802 57.292583 \r\nz\r\n\" style=\"fill:#d4af37;fill-opacity:0.3;stroke:#d4af37;\"/>\r\n    <path clip-path=\"url(#p9f4b591a0d)\" d=\"M 453.439366 57.292583 \r\nL 491.198352 75.085797 \r\nL 569.246802 57.292583 \r\nL 529.868629 40.929547 \r\nL 453.439366 57.292583 \r\nz\r\n\" style=\"fill:#d4af37;fill-opacity:0.3;stroke:#d4af37;\"/>\r\n   </g>\r\n  </g>\r\n </g>\r\n <defs>\r\n  <clipPath id=\"pb47ce7e896\">\r\n   <rect height=\"141.336\" width=\"147.705882\" x=\"81\" y=\"22.464\"/>\r\n  </clipPath>\r\n  <clipPath id=\"p5fd517a500\">\r\n   <rect height=\"141.336\" width=\"147.705882\" x=\"258.247059\" y=\"22.464\"/>\r\n  </clipPath>\r\n  <clipPath id=\"p9f4b591a0d\">\r\n   <rect height=\"141.336\" width=\"147.705882\" x=\"435.494118\" y=\"22.464\"/>\r\n  </clipPath>\r\n </defs>\r\n</svg>\r\n",
      "text/plain": [
       "<IPython.core.display.HTML object>"
      ]
     },
     "execution_count": null,
     "metadata": {},
     "output_type": "execute_result"
    },
    {
     "data": {
      "text/plain": "<Figure size 648x187.2 with 0 Axes>"
     },
     "metadata": {},
     "output_type": "display_data"
    }
   ],
   "source": [
    "import pivotpy.s_plots as sp\n",
    "lat = hexa\n",
    "bz = get_bz(lat,primitive=False,loop=True)\n",
    "axs = sp.init_figure(ncols=3,figsize=(9,2.6))\n",
    "ax2d = splot_bz(bz,plane='xy',ax=axs[0],vectors=True,color=(0.7,0,0.5))\n",
    "ax3d = splot_bz(bz,ax=axs[1],color=(108/255,204/255,215/255),vectors=True)\n",
    "ax3d_ = splot_bz(get_bz(lat,primitive=True),ax=axs[2],color=(212/255,175/255,55/255),vectors=True)\n",
    "ax3d.set_axis_off()\n",
    "ax3d.set_title('Regular BZ')\n",
    "ax3d_.set_axis_off()\n",
    "ax3d_.set_title('Primitive BZ')\n",
    "ax2d.set_axis_off()\n",
    "ax2d.set_title('XY Projection of Regular BZ')\n",
    "sp.plt_to_html()"
   ]
  },
  {
   "cell_type": "code",
   "execution_count": null,
   "metadata": {},
   "outputs": [],
   "source": [
    "#export\n",
    "def iplot_bz(poscar_or_bz = None,fill = True,color = 'rgba(168,204,216,0.4)',background = 'rgb(255,255,255)'):\n",
    "    \"\"\"\n",
    "    - Plots interactive figure showing axes,BZ surface, special points and basis, each of which could be hidden or shown.\n",
    "    - **Parameters**\n",
    "        - pocar_or_bz: POSCAR or 3 basis vectors' list forming POSCAR. Auto picks in working directory. Plot conventional BZ if poscar is given. If you want to plot primitive BZ, first create it using `get_bz(primitive=True)`.\n",
    "        - fill       : True by defult, determines whether to fill surface of BZ or not.\n",
    "        - color      : color to fill surface 'rgba((168,204,216,0.4)` by default.\n",
    "        - background : Plot background color, default is 'rgb(255,255,255)'.\n",
    "    - **Returns**\n",
    "        - fig   : plotly.graph_object's Figure instance.\n",
    "    \"\"\"\n",
    "    if poscar_or_bz == None:\n",
    "        bz = get_bz(poscar_or_bz)\n",
    "    else:\n",
    "        try:\n",
    "            poscar_or_bz.basis\n",
    "            bz = poscar_or_bz\n",
    "        except AttributeError:\n",
    "            bz = get_bz(poscar_or_bz)\n",
    "\n",
    "    fig = go.Figure()\n",
    "    # Axes\n",
    "    fig.add_trace(go.Scatter3d(x=[0.25,0,0,0,0],y=[0,0,0.25,0,0],z=[0,0,0,0,0.25],\n",
    "        mode='lines+text',\n",
    "        text= [\"<b>k</b><sub>x</sub>\",\"\",\"<b>k</b><sub>y</sub>\",\"\",\"<b>k</b><sub>z</sub>\"],\n",
    "        line_color='green', legendgroup='Axes',name='Axes'))\n",
    "    fig.add_trace(go.Cone(x=[0.18,0,0],y=[0,0.18,0],z=[0,0,0.18],\n",
    "        u=[0.00001,0,0],v=[0,0.00001,0],w=[0,0,    0.00001],showscale=False,\n",
    "        colorscale='Greens',legendgroup='Axes',name='Axes'))\n",
    "    # Basis\n",
    "    for i,b in enumerate(bz.basis):\n",
    "        fig.add_trace(go.Scatter3d(x=[0,b[0]], y=[0,b[1]],z=[0,b[2]],\n",
    "            mode='lines+text',legendgroup=\"b<sub>{}</sub>\".format(i+1), line_color='red',\n",
    "            name=\"<b>b</b><sub>{}</sub>\".format(i+1),text=[\"\",\"<b>b</b><sub>{}</sub>\".format(i+1)]))\n",
    "        fig.add_trace(go.Cone(x=[0.95*b[0]],y=[0.95*b[1]],z=[0.95*b[2]],\n",
    "            u=[0.2*b[0]],v=[0.2*b[1]],w=[0.2*b  [2]],showscale=False,colorscale='Reds',\n",
    "            legendgroup=\"b<sub>{}</sub>\".format(i+1),name=\"<b>b</b><sub>{}</sub>\".format(i+1)))\n",
    "\n",
    "    # Faces\n",
    "    face_ind = 0\n",
    "    fill_axis = None # Placeholder\n",
    "    legend = True\n",
    "    for k,pts in enumerate(bz.faces):\n",
    "        if fill == False:\n",
    "            color = 'black'\n",
    "            fill_axis = None\n",
    "        elif fill == True:\n",
    "            face_dir = np.abs(centroid(np.unique(pts,axis=0))) # same fill axis in negative axes too\n",
    "            if np.max(face_dir) == face_dir[0]:\n",
    "                fill_axis = 0\n",
    "            elif np.max(face_dir) == face_dir[1]:\n",
    "                fill_axis = 1\n",
    "            elif np.max(face_dir) == face_dir[2]:\n",
    "                fill_axis = 2\n",
    "        if k != 0:\n",
    "            legend = False\n",
    "        fig.add_trace(go.Scatter3d(x=pts[:,0], y=pts[:,1],z=pts[:,2],\n",
    "            mode='lines',line_color=color,    legendgroup='BZ',name='BZ',\n",
    "            showlegend=legend,surfaceaxis=fill_axis))\n",
    "\n",
    "    # Special Points\n",
    "    texts,values =[],[]\n",
    "    for key,value in bz.specials.items():\n",
    "        norm = np.round(np.linalg.norm(value),5)\n",
    "        texts.append(\"P{}</br>d = {}\".format(key,norm))\n",
    "        values.append([[*value,norm]])\n",
    "\n",
    "    values = np.array(values).reshape((-1,4))\n",
    "    norm_max = np.max(values[:,3])\n",
    "    c_vals = np.array([int(v*255/norm_max) for v in values[:,3]])\n",
    "    colors = [0 for i in c_vals]\n",
    "    _unique = np.unique(np.sort(c_vals))[::-1]\n",
    "    _lnp = np.linspace(0,255,len(_unique)-1)\n",
    "    _u_colors = [\"rgb({},0,{})\".format(r,b) for b,r in zip(_lnp,_lnp[::-1])]\n",
    "    for _un,_uc in zip(_unique[:-1],_u_colors):\n",
    "        _index = np.where(c_vals == _un)[0]\n",
    "        for _ind in _index:\n",
    "            colors[_ind]=_uc\n",
    "\n",
    "    colors[0]= \"rgb(255,215,0)\" # Gold color at Gamma!.\n",
    "    fig.add_trace(go.Scatter3d(x=values[:,0], y=values[:,1],z=values[:,2],\n",
    "            hovertext=texts,name=\"HSK\",marker_color=colors,mode='markers'))\n",
    "\n",
    "    camera = dict(center=dict(x=0.1, y=0.1, z=0.1))\n",
    "    fig.update_layout(scene_camera=camera,paper_bgcolor=background,\n",
    "        font_family=\"Times New Roman\",font_size= 14,\n",
    "        scene = dict(aspectmode='data',xaxis = dict(showbackground=False,visible=False),\n",
    "                        yaxis = dict(showbackground=False,visible=False),\n",
    "                        zaxis = dict(showbackground=False,visible=False)),\n",
    "                        margin=dict(r=10, l=10,b=10, t=30))\n",
    "    return fig"
   ]
  },
  {
   "cell_type": "markdown",
   "metadata": {},
   "source": [
    "- Below is a BZ plot using command `iplot_bz()`. Same color points lie on a sphere, with radius decreasing as red to blue and gamma point in gold color. These color help distinguishing points but the points not always be equivalent, for example in FCC, there are two points on mid of edges connecting square-hexagon and hexagon-hexagon at equal distance from center but not the same points."
   ]
  },
  {
   "cell_type": "code",
   "execution_count": null,
   "metadata": {},
   "outputs": [
    {
     "data": {
      "text/html": "<div>\n        <script src='https://cdn.plot.ly/plotly-latest.min.js'></script>\n            <div id='graph-63148d9c-4b23-11eb-b2d8-44032c5fd2c2'><!-- Plotly chart DIV --></div>\n            <script>\n                var data = {\"data\":[{\"legendgroup\":\"Axes\",\"line\":{\"color\":\"green\"},\"mode\":\"lines+text\",\"name\":\"Axes\",\"text\":[\"<b>k</b><sub>x</sub>\",\"\",\"<b>k</b><sub>y</sub>\",\"\",\"<b>k</b><sub>z</sub>\"],\"type\":\"scatter3d\",\"x\":[0.25,0,0,0,0],\"y\":[0,0,0.25,0,0],\"z\":[0,0,0,0,0.25]},{\"colorscale\":[[0.0,\"rgb(247,252,245)\"],[0.125,\"rgb(229,245,224)\"],[0.25,\"rgb(199,233,192)\"],[0.375,\"rgb(161,217,155)\"],[0.5,\"rgb(116,196,118)\"],[0.625,\"rgb(65,171,93)\"],[0.75,\"rgb(35,139,69)\"],[0.875,\"rgb(0,109,44)\"],[1.0,\"rgb(0,68,27)\"]],\"legendgroup\":\"Axes\",\"name\":\"Axes\",\"showscale\":false,\"type\":\"cone\",\"u\":[1e-05,0,0],\"v\":[0,1e-05,0],\"w\":[0,0,1e-05],\"x\":[0.18,0,0],\"y\":[0,0.18,0],\"z\":[0,0,0.18]},{\"legendgroup\":\"b<sub>1</sub>\",\"line\":{\"color\":\"red\"},\"mode\":\"lines+text\",\"name\":\"<b>b</b><sub>1</sub>\",\"text\":[\"\",\"<b>b</b><sub>1</sub>\"],\"type\":\"scatter3d\",\"x\":[0,1.0],\"y\":[0,0.0],\"z\":[0,0.0]},{\"colorscale\":[[0.0,\"rgb(255,245,240)\"],[0.125,\"rgb(254,224,210)\"],[0.25,\"rgb(252,187,161)\"],[0.375,\"rgb(252,146,114)\"],[0.5,\"rgb(251,106,74)\"],[0.625,\"rgb(239,59,44)\"],[0.75,\"rgb(203,24,29)\"],[0.875,\"rgb(165,15,21)\"],[1.0,\"rgb(103,0,13)\"]],\"legendgroup\":\"b<sub>1</sub>\",\"name\":\"<b>b</b><sub>1</sub>\",\"showscale\":false,\"type\":\"cone\",\"u\":[0.2],\"v\":[0.0],\"w\":[0.0],\"x\":[0.95],\"y\":[0.0],\"z\":[0.0]},{\"legendgroup\":\"b<sub>2</sub>\",\"line\":{\"color\":\"red\"},\"mode\":\"lines+text\",\"name\":\"<b>b</b><sub>2</sub>\",\"text\":[\"\",\"<b>b</b><sub>2</sub>\"],\"type\":\"scatter3d\",\"x\":[0,0.0],\"y\":[0,1.0],\"z\":[0,0.0]},{\"colorscale\":[[0.0,\"rgb(255,245,240)\"],[0.125,\"rgb(254,224,210)\"],[0.25,\"rgb(252,187,161)\"],[0.375,\"rgb(252,146,114)\"],[0.5,\"rgb(251,106,74)\"],[0.625,\"rgb(239,59,44)\"],[0.75,\"rgb(203,24,29)\"],[0.875,\"rgb(165,15,21)\"],[1.0,\"rgb(103,0,13)\"]],\"legendgroup\":\"b<sub>2</sub>\",\"name\":\"<b>b</b><sub>2</sub>\",\"showscale\":false,\"type\":\"cone\",\"u\":[0.0],\"v\":[0.2],\"w\":[0.0],\"x\":[0.0],\"y\":[0.95],\"z\":[0.0]},{\"legendgroup\":\"b<sub>3</sub>\",\"line\":{\"color\":\"red\"},\"mode\":\"lines+text\",\"name\":\"<b>b</b><sub>3</sub>\",\"text\":[\"\",\"<b>b</b><sub>3</sub>\"],\"type\":\"scatter3d\",\"x\":[0,0.0],\"y\":[0,0.0],\"z\":[0,1.0]},{\"colorscale\":[[0.0,\"rgb(255,245,240)\"],[0.125,\"rgb(254,224,210)\"],[0.25,\"rgb(252,187,161)\"],[0.375,\"rgb(252,146,114)\"],[0.5,\"rgb(251,106,74)\"],[0.625,\"rgb(239,59,44)\"],[0.75,\"rgb(203,24,29)\"],[0.875,\"rgb(165,15,21)\"],[1.0,\"rgb(103,0,13)\"]],\"legendgroup\":\"b<sub>3</sub>\",\"name\":\"<b>b</b><sub>3</sub>\",\"showscale\":false,\"type\":\"cone\",\"u\":[0.0],\"v\":[0.0],\"w\":[0.2],\"x\":[0.0],\"y\":[0.0],\"z\":[0.95]},{\"legendgroup\":\"BZ\",\"line\":{\"color\":\"rgba(168,204,216,0.4)\"},\"mode\":\"lines\",\"name\":\"BZ\",\"showlegend\":true,\"surfaceaxis\":1,\"type\":\"scatter3d\",\"x\":[0.5,0.5,-0.5,-0.5,0.5],\"y\":[0.5,0.5,0.5,0.5,0.5],\"z\":[0.5,-0.5,-0.5,0.5,0.5]},{\"legendgroup\":\"BZ\",\"line\":{\"color\":\"rgba(168,204,216,0.4)\"},\"mode\":\"lines\",\"name\":\"BZ\",\"showlegend\":false,\"surfaceaxis\":2,\"type\":\"scatter3d\",\"x\":[-0.5,0.5,0.5,-0.5,-0.5],\"y\":[-0.5,-0.5,0.5,0.5,-0.5],\"z\":[0.5,0.5,0.5,0.5,0.5]},{\"legendgroup\":\"BZ\",\"line\":{\"color\":\"rgba(168,204,216,0.4)\"},\"mode\":\"lines\",\"name\":\"BZ\",\"showlegend\":false,\"surfaceaxis\":2,\"type\":\"scatter3d\",\"x\":[0.5,-0.5,-0.5,0.5,0.5],\"y\":[-0.5,-0.5,0.5,0.5,-0.5],\"z\":[-0.5,-0.5,-0.5,-0.5,-0.5]},{\"legendgroup\":\"BZ\",\"line\":{\"color\":\"rgba(168,204,216,0.4)\"},\"mode\":\"lines\",\"name\":\"BZ\",\"showlegend\":false,\"surfaceaxis\":1,\"type\":\"scatter3d\",\"x\":[-0.5,0.5,0.5,-0.5,-0.5],\"y\":[-0.5,-0.5,-0.5,-0.5,-0.5],\"z\":[-0.5,-0.5,0.5,0.5,-0.5]},{\"legendgroup\":\"BZ\",\"line\":{\"color\":\"rgba(168,204,216,0.4)\"},\"mode\":\"lines\",\"name\":\"BZ\",\"showlegend\":false,\"surfaceaxis\":0,\"type\":\"scatter3d\",\"x\":[-0.5,-0.5,-0.5,-0.5,-0.5],\"y\":[0.5,-0.5,-0.5,0.5,0.5],\"z\":[-0.5,-0.5,0.5,0.5,-0.5]},{\"legendgroup\":\"BZ\",\"line\":{\"color\":\"rgba(168,204,216,0.4)\"},\"mode\":\"lines\",\"name\":\"BZ\",\"showlegend\":false,\"surfaceaxis\":0,\"type\":\"scatter3d\",\"x\":[0.5,0.5,0.5,0.5,0.5],\"y\":[-0.5,-0.5,0.5,0.5,-0.5],\"z\":[0.5,-0.5,-0.5,0.5,0.5]},{\"hovertext\":[\"P(0.0, 0.0, 0.0)</br>d = 0.0\",\"P(0.0, 0.5, 0.0)</br>d = 0.5\",\"P(0.0, 0.0, 0.5)</br>d = 0.5\",\"P(0.0, 0.0, -0.5)</br>d = 0.5\",\"P(0.0, -0.5, 0.0)</br>d = 0.5\",\"P(-0.5, 0.0, 0.0)</br>d = 0.5\",\"P(0.5, 0.0, 0.0)</br>d = 0.5\",\"P(-0.5, -0.5, 0.0)</br>d = 0.70711\",\"P(-0.5, 0.0, -0.5)</br>d = 0.70711\",\"P(-0.5, 0.0, 0.5)</br>d = 0.70711\",\"P(-0.5, 0.5, 0.0)</br>d = 0.70711\",\"P(0.0, -0.5, -0.5)</br>d = 0.70711\",\"P(0.0, -0.5, 0.5)</br>d = 0.70711\",\"P(0.0, 0.5, -0.5)</br>d = 0.70711\",\"P(0.0, 0.5, 0.5)</br>d = 0.70711\",\"P(0.5, -0.5, 0.0)</br>d = 0.70711\",\"P(0.5, 0.0, -0.5)</br>d = 0.70711\",\"P(0.5, 0.0, 0.5)</br>d = 0.70711\",\"P(0.5, 0.5, 0.0)</br>d = 0.70711\",\"P(-0.5, -0.5, -0.5)</br>d = 0.86603\",\"P(-0.5, -0.5, 0.5)</br>d = 0.86603\",\"P(-0.5, 0.5, -0.5)</br>d = 0.86603\",\"P(-0.5, 0.5, 0.5)</br>d = 0.86603\",\"P(0.5, -0.5, -0.5)</br>d = 0.86603\",\"P(0.5, -0.5, 0.5)</br>d = 0.86603\",\"P(0.5, 0.5, -0.5)</br>d = 0.86603\",\"P(0.5, 0.5, 0.5)</br>d = 0.86603\"],\"marker\":{\"color\":[\"rgb(255,215,0)\",\"rgb(0.0,0,255.0)\",\"rgb(0.0,0,255.0)\",\"rgb(0.0,0,255.0)\",\"rgb(0.0,0,255.0)\",\"rgb(0.0,0,255.0)\",\"rgb(0.0,0,255.0)\",\"rgb(127.5,0,127.5)\",\"rgb(127.5,0,127.5)\",\"rgb(127.5,0,127.5)\",\"rgb(127.5,0,127.5)\",\"rgb(127.5,0,127.5)\",\"rgb(127.5,0,127.5)\",\"rgb(127.5,0,127.5)\",\"rgb(127.5,0,127.5)\",\"rgb(127.5,0,127.5)\",\"rgb(127.5,0,127.5)\",\"rgb(127.5,0,127.5)\",\"rgb(127.5,0,127.5)\",\"rgb(255.0,0,0.0)\",\"rgb(255.0,0,0.0)\",\"rgb(255.0,0,0.0)\",\"rgb(255.0,0,0.0)\",\"rgb(255.0,0,0.0)\",\"rgb(255.0,0,0.0)\",\"rgb(255.0,0,0.0)\",\"rgb(255.0,0,0.0)\"]},\"mode\":\"markers\",\"name\":\"HSK\",\"type\":\"scatter3d\",\"x\":[0.0,0.0,0.0,0.0,0.0,-0.5,0.5,-0.5,-0.5,-0.5,-0.5,0.0,0.0,0.0,0.0,0.5,0.5,0.5,0.5,-0.5,-0.5,-0.5,-0.5,0.5,0.5,0.5,0.5],\"y\":[0.0,0.5,0.0,0.0,-0.5,0.0,0.0,-0.5,0.0,0.0,0.5,-0.5,-0.5,0.5,0.5,-0.5,0.0,0.0,0.5,-0.5,-0.5,0.5,0.5,-0.5,-0.5,0.5,0.5],\"z\":[0.0,0.0,0.5,-0.5,0.0,0.0,0.0,0.0,-0.5,0.5,0.0,-0.5,0.5,-0.5,0.5,0.0,-0.5,0.5,0.0,-0.5,0.5,-0.5,0.5,-0.5,0.5,-0.5,0.5]}],\"layout\":{\"font\":{\"family\":\"Times New Roman\",\"size\":14},\"margin\":{\"b\":10,\"l\":10,\"r\":10,\"t\":30},\"paper_bgcolor\":\"rgb(255,255,255)\",\"scene\":{\"aspectmode\":\"data\",\"camera\":{\"center\":{\"x\":0.1,\"y\":0.1,\"z\":0.1}},\"xaxis\":{\"showbackground\":false,\"visible\":false},\"yaxis\":{\"showbackground\":false,\"visible\":false},\"zaxis\":{\"showbackground\":false,\"visible\":false}},\"template\":{\"data\":{\"bar\":[{\"error_x\":{\"color\":\"#2a3f5f\"},\"error_y\":{\"color\":\"#2a3f5f\"},\"marker\":{\"line\":{\"color\":\"#E5ECF6\",\"width\":0.5}},\"type\":\"bar\"}],\"barpolar\":[{\"marker\":{\"line\":{\"color\":\"#E5ECF6\",\"width\":0.5}},\"type\":\"barpolar\"}],\"carpet\":[{\"aaxis\":{\"endlinecolor\":\"#2a3f5f\",\"gridcolor\":\"white\",\"linecolor\":\"white\",\"minorgridcolor\":\"white\",\"startlinecolor\":\"#2a3f5f\"},\"baxis\":{\"endlinecolor\":\"#2a3f5f\",\"gridcolor\":\"white\",\"linecolor\":\"white\",\"minorgridcolor\":\"white\",\"startlinecolor\":\"#2a3f5f\"},\"type\":\"carpet\"}],\"choropleth\":[{\"colorbar\":{\"outlinewidth\":0,\"ticks\":\"\"},\"type\":\"choropleth\"}],\"contour\":[{\"colorbar\":{\"outlinewidth\":0,\"ticks\":\"\"},\"colorscale\":[[0.0,\"#0d0887\"],[0.1111111111111111,\"#46039f\"],[0.2222222222222222,\"#7201a8\"],[0.3333333333333333,\"#9c179e\"],[0.4444444444444444,\"#bd3786\"],[0.5555555555555556,\"#d8576b\"],[0.6666666666666666,\"#ed7953\"],[0.7777777777777778,\"#fb9f3a\"],[0.8888888888888888,\"#fdca26\"],[1.0,\"#f0f921\"]],\"type\":\"contour\"}],\"contourcarpet\":[{\"colorbar\":{\"outlinewidth\":0,\"ticks\":\"\"},\"type\":\"contourcarpet\"}],\"heatmap\":[{\"colorbar\":{\"outlinewidth\":0,\"ticks\":\"\"},\"colorscale\":[[0.0,\"#0d0887\"],[0.1111111111111111,\"#46039f\"],[0.2222222222222222,\"#7201a8\"],[0.3333333333333333,\"#9c179e\"],[0.4444444444444444,\"#bd3786\"],[0.5555555555555556,\"#d8576b\"],[0.6666666666666666,\"#ed7953\"],[0.7777777777777778,\"#fb9f3a\"],[0.8888888888888888,\"#fdca26\"],[1.0,\"#f0f921\"]],\"type\":\"heatmap\"}],\"heatmapgl\":[{\"colorbar\":{\"outlinewidth\":0,\"ticks\":\"\"},\"colorscale\":[[0.0,\"#0d0887\"],[0.1111111111111111,\"#46039f\"],[0.2222222222222222,\"#7201a8\"],[0.3333333333333333,\"#9c179e\"],[0.4444444444444444,\"#bd3786\"],[0.5555555555555556,\"#d8576b\"],[0.6666666666666666,\"#ed7953\"],[0.7777777777777778,\"#fb9f3a\"],[0.8888888888888888,\"#fdca26\"],[1.0,\"#f0f921\"]],\"type\":\"heatmapgl\"}],\"histogram\":[{\"marker\":{\"colorbar\":{\"outlinewidth\":0,\"ticks\":\"\"}},\"type\":\"histogram\"}],\"histogram2d\":[{\"colorbar\":{\"outlinewidth\":0,\"ticks\":\"\"},\"colorscale\":[[0.0,\"#0d0887\"],[0.1111111111111111,\"#46039f\"],[0.2222222222222222,\"#7201a8\"],[0.3333333333333333,\"#9c179e\"],[0.4444444444444444,\"#bd3786\"],[0.5555555555555556,\"#d8576b\"],[0.6666666666666666,\"#ed7953\"],[0.7777777777777778,\"#fb9f3a\"],[0.8888888888888888,\"#fdca26\"],[1.0,\"#f0f921\"]],\"type\":\"histogram2d\"}],\"histogram2dcontour\":[{\"colorbar\":{\"outlinewidth\":0,\"ticks\":\"\"},\"colorscale\":[[0.0,\"#0d0887\"],[0.1111111111111111,\"#46039f\"],[0.2222222222222222,\"#7201a8\"],[0.3333333333333333,\"#9c179e\"],[0.4444444444444444,\"#bd3786\"],[0.5555555555555556,\"#d8576b\"],[0.6666666666666666,\"#ed7953\"],[0.7777777777777778,\"#fb9f3a\"],[0.8888888888888888,\"#fdca26\"],[1.0,\"#f0f921\"]],\"type\":\"histogram2dcontour\"}],\"mesh3d\":[{\"colorbar\":{\"outlinewidth\":0,\"ticks\":\"\"},\"type\":\"mesh3d\"}],\"parcoords\":[{\"line\":{\"colorbar\":{\"outlinewidth\":0,\"ticks\":\"\"}},\"type\":\"parcoords\"}],\"pie\":[{\"automargin\":true,\"type\":\"pie\"}],\"scatter\":[{\"marker\":{\"colorbar\":{\"outlinewidth\":0,\"ticks\":\"\"}},\"type\":\"scatter\"}],\"scatter3d\":[{\"line\":{\"colorbar\":{\"outlinewidth\":0,\"ticks\":\"\"}},\"marker\":{\"colorbar\":{\"outlinewidth\":0,\"ticks\":\"\"}},\"type\":\"scatter3d\"}],\"scattercarpet\":[{\"marker\":{\"colorbar\":{\"outlinewidth\":0,\"ticks\":\"\"}},\"type\":\"scattercarpet\"}],\"scattergeo\":[{\"marker\":{\"colorbar\":{\"outlinewidth\":0,\"ticks\":\"\"}},\"type\":\"scattergeo\"}],\"scattergl\":[{\"marker\":{\"colorbar\":{\"outlinewidth\":0,\"ticks\":\"\"}},\"type\":\"scattergl\"}],\"scattermapbox\":[{\"marker\":{\"colorbar\":{\"outlinewidth\":0,\"ticks\":\"\"}},\"type\":\"scattermapbox\"}],\"scatterpolar\":[{\"marker\":{\"colorbar\":{\"outlinewidth\":0,\"ticks\":\"\"}},\"type\":\"scatterpolar\"}],\"scatterpolargl\":[{\"marker\":{\"colorbar\":{\"outlinewidth\":0,\"ticks\":\"\"}},\"type\":\"scatterpolargl\"}],\"scatterternary\":[{\"marker\":{\"colorbar\":{\"outlinewidth\":0,\"ticks\":\"\"}},\"type\":\"scatterternary\"}],\"surface\":[{\"colorbar\":{\"outlinewidth\":0,\"ticks\":\"\"},\"colorscale\":[[0.0,\"#0d0887\"],[0.1111111111111111,\"#46039f\"],[0.2222222222222222,\"#7201a8\"],[0.3333333333333333,\"#9c179e\"],[0.4444444444444444,\"#bd3786\"],[0.5555555555555556,\"#d8576b\"],[0.6666666666666666,\"#ed7953\"],[0.7777777777777778,\"#fb9f3a\"],[0.8888888888888888,\"#fdca26\"],[1.0,\"#f0f921\"]],\"type\":\"surface\"}],\"table\":[{\"cells\":{\"fill\":{\"color\":\"#EBF0F8\"},\"line\":{\"color\":\"white\"}},\"header\":{\"fill\":{\"color\":\"#C8D4E3\"},\"line\":{\"color\":\"white\"}},\"type\":\"table\"}]},\"layout\":{\"annotationdefaults\":{\"arrowcolor\":\"#2a3f5f\",\"arrowhead\":0,\"arrowwidth\":1},\"coloraxis\":{\"colorbar\":{\"outlinewidth\":0,\"ticks\":\"\"}},\"colorscale\":{\"diverging\":[[0,\"#8e0152\"],[0.1,\"#c51b7d\"],[0.2,\"#de77ae\"],[0.3,\"#f1b6da\"],[0.4,\"#fde0ef\"],[0.5,\"#f7f7f7\"],[0.6,\"#e6f5d0\"],[0.7,\"#b8e186\"],[0.8,\"#7fbc41\"],[0.9,\"#4d9221\"],[1,\"#276419\"]],\"sequential\":[[0.0,\"#0d0887\"],[0.1111111111111111,\"#46039f\"],[0.2222222222222222,\"#7201a8\"],[0.3333333333333333,\"#9c179e\"],[0.4444444444444444,\"#bd3786\"],[0.5555555555555556,\"#d8576b\"],[0.6666666666666666,\"#ed7953\"],[0.7777777777777778,\"#fb9f3a\"],[0.8888888888888888,\"#fdca26\"],[1.0,\"#f0f921\"]],\"sequentialminus\":[[0.0,\"#0d0887\"],[0.1111111111111111,\"#46039f\"],[0.2222222222222222,\"#7201a8\"],[0.3333333333333333,\"#9c179e\"],[0.4444444444444444,\"#bd3786\"],[0.5555555555555556,\"#d8576b\"],[0.6666666666666666,\"#ed7953\"],[0.7777777777777778,\"#fb9f3a\"],[0.8888888888888888,\"#fdca26\"],[1.0,\"#f0f921\"]]},\"colorway\":[\"#636efa\",\"#EF553B\",\"#00cc96\",\"#ab63fa\",\"#FFA15A\",\"#19d3f3\",\"#FF6692\",\"#B6E880\",\"#FF97FF\",\"#FECB52\"],\"font\":{\"color\":\"#2a3f5f\"},\"geo\":{\"bgcolor\":\"white\",\"lakecolor\":\"white\",\"landcolor\":\"#E5ECF6\",\"showlakes\":true,\"showland\":true,\"subunitcolor\":\"white\"},\"hoverlabel\":{\"align\":\"left\"},\"hovermode\":\"closest\",\"mapbox\":{\"style\":\"light\"},\"paper_bgcolor\":\"white\",\"plot_bgcolor\":\"#E5ECF6\",\"polar\":{\"angularaxis\":{\"gridcolor\":\"white\",\"linecolor\":\"white\",\"ticks\":\"\"},\"bgcolor\":\"#E5ECF6\",\"radialaxis\":{\"gridcolor\":\"white\",\"linecolor\":\"white\",\"ticks\":\"\"}},\"scene\":{\"xaxis\":{\"backgroundcolor\":\"#E5ECF6\",\"gridcolor\":\"white\",\"gridwidth\":2,\"linecolor\":\"white\",\"showbackground\":true,\"ticks\":\"\",\"zerolinecolor\":\"white\"},\"yaxis\":{\"backgroundcolor\":\"#E5ECF6\",\"gridcolor\":\"white\",\"gridwidth\":2,\"linecolor\":\"white\",\"showbackground\":true,\"ticks\":\"\",\"zerolinecolor\":\"white\"},\"zaxis\":{\"backgroundcolor\":\"#E5ECF6\",\"gridcolor\":\"white\",\"gridwidth\":2,\"linecolor\":\"white\",\"showbackground\":true,\"ticks\":\"\",\"zerolinecolor\":\"white\"}},\"shapedefaults\":{\"line\":{\"color\":\"#2a3f5f\"}},\"ternary\":{\"aaxis\":{\"gridcolor\":\"white\",\"linecolor\":\"white\",\"ticks\":\"\"},\"baxis\":{\"gridcolor\":\"white\",\"linecolor\":\"white\",\"ticks\":\"\"},\"bgcolor\":\"#E5ECF6\",\"caxis\":{\"gridcolor\":\"white\",\"linecolor\":\"white\",\"ticks\":\"\"}},\"title\":{\"x\":0.05},\"xaxis\":{\"automargin\":true,\"gridcolor\":\"white\",\"linecolor\":\"white\",\"ticks\":\"\",\"title\":{\"standoff\":15},\"zerolinecolor\":\"white\",\"zerolinewidth\":2},\"yaxis\":{\"automargin\":true,\"gridcolor\":\"white\",\"linecolor\":\"white\",\"ticks\":\"\",\"title\":{\"standoff\":15},\"zerolinecolor\":\"white\",\"zerolinewidth\":2}}}}};\n                var config = {displayModeBar: false,scrollZoom: true};\n                Plotly.newPlot('graph-63148d9c-4b23-11eb-b2d8-44032c5fd2c2', data.data,data.layout,config);\n            </script>\n        </div>",
      "text/plain": [
       "<IPython.core.display.HTML object>"
      ]
     },
     "execution_count": null,
     "metadata": {},
     "output_type": "execute_result"
    }
   ],
   "source": [
    "import pivotpy as pp\n",
    "pp.plotly_to_html(iplot_bz([[1,0,0],[0,1,0],[0,0,1]]),modebar=False)"
   ]
  },
  {
   "cell_type": "code",
   "execution_count": null,
   "metadata": {},
   "outputs": [],
   "source": [
    "#export\n",
    "def kpoints2coords(basis,kpoints):\n",
    "    \"\"\"Returns coordinates of kpoints (relative to basis before) in orthogonal space.\"\"\"\n",
    "    rec_basis = np.array(basis)\n",
    "    kpoints = np.array(kpoints)\n",
    "    # Formula to make coordinates from relative kpoints. \n",
    "    # kx, ky, kz = n1*b1 + n2*b2 +n3*b3\n",
    "    #            = [n1, n2, n3].dot(rec_basis)\n",
    "    coords = kpoints.dot(rec_basis)\n",
    "    return coords"
   ]
  },
  {
   "cell_type": "code",
   "execution_count": null,
   "metadata": {},
   "outputs": [
    {
     "data": {
      "text/plain": [
       "array([[1.        , 0.57735027, 1.        ],\n",
       "       [0.333     , 0.19225764, 0.5       ]])"
      ]
     },
     "execution_count": null,
     "metadata": {},
     "output_type": "execute_result"
    }
   ],
   "source": [
    "kpoints2coords(get_basis(hexa).basis,[[1,1,1],[0.333,0.333,0.5]])"
   ]
  },
  {
   "cell_type": "code",
   "execution_count": null,
   "metadata": {},
   "outputs": [
    {
     "data": {
      "text/html": "<div>\n        <script src='https://cdn.plot.ly/plotly-latest.min.js'></script>\n            <div id='graph-6358fb30-4b23-11eb-9c99-44032c5fd2c2'><!-- Plotly chart DIV --></div>\n            <script>\n                var data = {\"data\":[{\"legendgroup\":\"Axes\",\"line\":{\"color\":\"green\"},\"mode\":\"lines+text\",\"name\":\"Axes\",\"text\":[\"<b>k</b><sub>x</sub>\",\"\",\"<b>k</b><sub>y</sub>\",\"\",\"<b>k</b><sub>z</sub>\"],\"type\":\"scatter3d\",\"x\":[0.25,0,0,0,0],\"y\":[0,0,0.25,0,0],\"z\":[0,0,0,0,0.25]},{\"colorscale\":[[0.0,\"rgb(247,252,245)\"],[0.125,\"rgb(229,245,224)\"],[0.25,\"rgb(199,233,192)\"],[0.375,\"rgb(161,217,155)\"],[0.5,\"rgb(116,196,118)\"],[0.625,\"rgb(65,171,93)\"],[0.75,\"rgb(35,139,69)\"],[0.875,\"rgb(0,109,44)\"],[1.0,\"rgb(0,68,27)\"]],\"legendgroup\":\"Axes\",\"name\":\"Axes\",\"showscale\":false,\"type\":\"cone\",\"u\":[1e-05,0,0],\"v\":[0,1e-05,0],\"w\":[0,0,1e-05],\"x\":[0.18,0,0],\"y\":[0,0.18,0],\"z\":[0,0,0.18]},{\"legendgroup\":\"b<sub>1</sub>\",\"line\":{\"color\":\"red\"},\"mode\":\"lines+text\",\"name\":\"<b>b</b><sub>1</sub>\",\"text\":[\"\",\"<b>b</b><sub>1</sub>\"],\"type\":\"scatter3d\",\"x\":[0,1.0],\"y\":[0,-0.5773502691896258],\"z\":[0,0.0]},{\"colorscale\":[[0.0,\"rgb(255,245,240)\"],[0.125,\"rgb(254,224,210)\"],[0.25,\"rgb(252,187,161)\"],[0.375,\"rgb(252,146,114)\"],[0.5,\"rgb(251,106,74)\"],[0.625,\"rgb(239,59,44)\"],[0.75,\"rgb(203,24,29)\"],[0.875,\"rgb(165,15,21)\"],[1.0,\"rgb(103,0,13)\"]],\"legendgroup\":\"b<sub>1</sub>\",\"name\":\"<b>b</b><sub>1</sub>\",\"showscale\":false,\"type\":\"cone\",\"u\":[0.2],\"v\":[-0.11547005383792518],\"w\":[0.0],\"x\":[0.95],\"y\":[-0.5484827557301445],\"z\":[0.0]},{\"legendgroup\":\"b<sub>2</sub>\",\"line\":{\"color\":\"red\"},\"mode\":\"lines+text\",\"name\":\"<b>b</b><sub>2</sub>\",\"text\":[\"\",\"<b>b</b><sub>2</sub>\"],\"type\":\"scatter3d\",\"x\":[0,0.0],\"y\":[0,1.1547005383792517],\"z\":[0,0.0]},{\"colorscale\":[[0.0,\"rgb(255,245,240)\"],[0.125,\"rgb(254,224,210)\"],[0.25,\"rgb(252,187,161)\"],[0.375,\"rgb(252,146,114)\"],[0.5,\"rgb(251,106,74)\"],[0.625,\"rgb(239,59,44)\"],[0.75,\"rgb(203,24,29)\"],[0.875,\"rgb(165,15,21)\"],[1.0,\"rgb(103,0,13)\"]],\"legendgroup\":\"b<sub>2</sub>\",\"name\":\"<b>b</b><sub>2</sub>\",\"showscale\":false,\"type\":\"cone\",\"u\":[0.0],\"v\":[0.23094010767585035],\"w\":[0.0],\"x\":[0.0],\"y\":[1.096965511460289],\"z\":[0.0]},{\"legendgroup\":\"b<sub>3</sub>\",\"line\":{\"color\":\"red\"},\"mode\":\"lines+text\",\"name\":\"<b>b</b><sub>3</sub>\",\"text\":[\"\",\"<b>b</b><sub>3</sub>\"],\"type\":\"scatter3d\",\"x\":[0,0.0],\"y\":[0,0.0],\"z\":[0,1.0]},{\"colorscale\":[[0.0,\"rgb(255,245,240)\"],[0.125,\"rgb(254,224,210)\"],[0.25,\"rgb(252,187,161)\"],[0.375,\"rgb(252,146,114)\"],[0.5,\"rgb(251,106,74)\"],[0.625,\"rgb(239,59,44)\"],[0.75,\"rgb(203,24,29)\"],[0.875,\"rgb(165,15,21)\"],[1.0,\"rgb(103,0,13)\"]],\"legendgroup\":\"b<sub>3</sub>\",\"name\":\"<b>b</b><sub>3</sub>\",\"showscale\":false,\"type\":\"cone\",\"u\":[0.0],\"v\":[0.0],\"w\":[0.2],\"x\":[0.0],\"y\":[0.0],\"z\":[0.95]},{\"legendgroup\":\"BZ\",\"line\":{\"color\":\"rgba(168,204,216,0.4)\"},\"mode\":\"lines\",\"name\":\"BZ\",\"showlegend\":true,\"surfaceaxis\":0,\"type\":\"scatter3d\",\"x\":[0.0,1.0,1.0,0.0,0.0],\"y\":[0.0,-0.57735027,0.57735027,1.15470054,0.0],\"z\":[0.0,0.0,0.0,0.0,0.0]},{\"legendgroup\":\"BZ\",\"line\":{\"color\":\"rgba(168,204,216,0.4)\"},\"mode\":\"lines\",\"name\":\"BZ\",\"showlegend\":false,\"surfaceaxis\":1,\"type\":\"scatter3d\",\"x\":[0.0,0.0,0.0,0.0,0.0],\"y\":[0.0,1.15470054,1.15470054,0.0,0.0],\"z\":[0.0,0.0,1.0,1.0,0.0]},{\"legendgroup\":\"BZ\",\"line\":{\"color\":\"rgba(168,204,216,0.4)\"},\"mode\":\"lines\",\"name\":\"BZ\",\"showlegend\":false,\"surfaceaxis\":0,\"type\":\"scatter3d\",\"x\":[0.0,0.0,1.0,1.0,0.0],\"y\":[0.0,0.0,-0.57735027,-0.57735027,0.0],\"z\":[0.0,1.0,1.0,0.0,0.0]},{\"legendgroup\":\"BZ\",\"line\":{\"color\":\"rgba(168,204,216,0.4)\"},\"mode\":\"lines\",\"name\":\"BZ\",\"showlegend\":false,\"surfaceaxis\":0,\"type\":\"scatter3d\",\"x\":[1.0,1.0,1.0,1.0,1.0],\"y\":[0.57735027,0.57735027,-0.57735027,-0.57735027,0.57735027],\"z\":[0.0,1.0,1.0,0.0,0.0]},{\"legendgroup\":\"BZ\",\"line\":{\"color\":\"rgba(168,204,216,0.4)\"},\"mode\":\"lines\",\"name\":\"BZ\",\"showlegend\":false,\"surfaceaxis\":1,\"type\":\"scatter3d\",\"x\":[0.0,1.0,1.0,0.0,0.0],\"y\":[1.15470054,0.57735027,0.57735027,1.15470054,1.15470054],\"z\":[1.0,1.0,0.0,0.0,1.0]},{\"legendgroup\":\"BZ\",\"line\":{\"color\":\"rgba(168,204,216,0.4)\"},\"mode\":\"lines\",\"name\":\"BZ\",\"showlegend\":false,\"surfaceaxis\":2,\"type\":\"scatter3d\",\"x\":[1.0,1.0,0.0,0.0,1.0],\"y\":[-0.57735027,0.57735027,1.15470054,0.0,-0.57735027],\"z\":[1.0,1.0,1.0,1.0,1.0]},{\"hovertext\":[\"P(0.0, 0.0, 0.0)</br>d = 0.0\",\"P(0.5, 0.5, 0.0)</br>d = 0.57735\",\"P(0.0, 0.5, 0.5)</br>d = 0.76376\",\"P(0.5, 0.0, 0.5)</br>d = 0.76376\",\"P(1.0, 0.5, 0.5)</br>d = 1.11803\",\"P(0.5, 1.0, 0.5)</br>d = 1.11803\",\"P(0.5, 0.5, 1.0)</br>d = 1.1547\",\"P(0.5, 1.0, 0.0)</br>d = 1.0\",\"P(0.5, 1.0, 1.0)</br>d = 1.41421\",\"P(1.0, 0.5, 0.0)</br>d = 1.0\",\"P(1.0, 0.5, 1.0)</br>d = 1.41421\",\"P(0.0, 0.0, 1.0)</br>d = 1.0\",\"P(0.0, 1.0, 0.0)</br>d = 1.1547\",\"P(0.0, 1.0, 1.0)</br>d = 1.52753\",\"P(1.0, 0.0, 0.0)</br>d = 1.1547\",\"P(1.0, 0.0, 1.0)</br>d = 1.52753\",\"P(1.0, 1.0, 0.0)</br>d = 1.1547\",\"P(1.0, 1.0, 1.0)</br>d = 1.52753\"],\"marker\":{\"color\":[\"rgb(255,215,0)\",\"rgb(0.0,0,255.0)\",\"rgb(42.5,0,212.5)\",\"rgb(42.5,0,212.5)\",\"rgb(127.5,0,127.5)\",\"rgb(127.5,0,127.5)\",\"rgb(170.0,0,85.0)\",\"rgb(85.0,0,170.0)\",\"rgb(212.5,0,42.5)\",\"rgb(85.0,0,170.0)\",\"rgb(212.5,0,42.5)\",\"rgb(85.0,0,170.0)\",\"rgb(170.0,0,85.0)\",\"rgb(255.0,0,0.0)\",\"rgb(170.0,0,85.0)\",\"rgb(255.0,0,0.0)\",\"rgb(170.0,0,85.0)\",\"rgb(255.0,0,0.0)\"]},\"mode\":\"markers\",\"name\":\"HSK\",\"type\":\"scatter3d\",\"x\":[0.0,0.5,0.0,0.5,1.0,0.5,0.5,0.5,0.5,1.0,1.0,0.0,0.0,0.0,1.0,1.0,1.0,1.0],\"y\":[0.0,0.28867513,0.57735027,-0.28867513,0.0,0.8660254,0.28867513,0.8660254,0.8660254,0.0,0.0,0.0,1.15470054,1.15470054,-0.57735027,-0.57735027,0.57735027,0.57735027],\"z\":[0.0,0.0,0.5,0.5,0.5,0.5,1.0,0.0,1.0,0.0,1.0,1.0,0.0,1.0,0.0,1.0,0.0,1.0]},{\"mode\":\"markers\",\"name\":\"KPOINTS\",\"type\":\"scatter3d\",\"x\":[0.0,0.25,0.5,0.75,1.0,0.0,0.25,0.5,0.75,1.0,0.0,0.25,0.5,0.75,1.0,0.0,0.25,0.5,0.75,1.0,0.0,0.25,0.5,0.75,1.0,0.0,0.25,0.5,0.75,1.0,0.0,0.25,0.5,0.75,1.0,0.0,0.25,0.5,0.75,1.0,0.0,0.25,0.5,0.75,1.0,0.0,0.25,0.5,0.75,1.0,0.0,0.25,0.5,0.75,1.0,0.0,0.25,0.5,0.75,1.0,0.0,0.25,0.5,0.75,1.0,0.0,0.25,0.5,0.75,1.0,0.0,0.25,0.5,0.75,1.0,0.0,0.25,0.5,0.75,1.0,0.0,0.25,0.5,0.75,1.0,0.0,0.25,0.5,0.75,1.0,0.0,0.25,0.5,0.75,1.0,0.0,0.25,0.5,0.75,1.0,0.0,0.25,0.5,0.75,1.0,0.0,0.25,0.5,0.75,1.0,0.0,0.25,0.5,0.75,1.0,0.0,0.25,0.5,0.75,1.0,0.0,0.25,0.5,0.75,1.0],\"y\":[0.0,-0.14433756729740646,-0.2886751345948129,-0.4330127018922194,-0.5773502691896258,0.2886751345948129,0.14433756729740646,0.0,-0.1443375672974065,-0.2886751345948129,0.5773502691896258,0.4330127018922194,0.2886751345948129,0.14433756729740643,0.0,0.8660254037844388,0.7216878364870323,0.5773502691896258,0.43301270189221935,0.2886751345948129,1.1547005383792517,1.0103629710818451,0.8660254037844388,0.7216878364870323,0.5773502691896258,0.0,-0.14433756729740646,-0.2886751345948129,-0.4330127018922194,-0.5773502691896258,0.2886751345948129,0.14433756729740646,0.0,-0.1443375672974065,-0.2886751345948129,0.5773502691896258,0.4330127018922194,0.2886751345948129,0.14433756729740643,0.0,0.8660254037844388,0.7216878364870323,0.5773502691896258,0.43301270189221935,0.2886751345948129,1.1547005383792517,1.0103629710818451,0.8660254037844388,0.7216878364870323,0.5773502691896258,0.0,-0.14433756729740646,-0.2886751345948129,-0.4330127018922194,-0.5773502691896258,0.2886751345948129,0.14433756729740646,0.0,-0.1443375672974065,-0.2886751345948129,0.5773502691896258,0.4330127018922194,0.2886751345948129,0.14433756729740643,0.0,0.8660254037844388,0.7216878364870323,0.5773502691896258,0.43301270189221935,0.2886751345948129,1.1547005383792517,1.0103629710818451,0.8660254037844388,0.7216878364870323,0.5773502691896258,0.0,-0.14433756729740646,-0.2886751345948129,-0.4330127018922194,-0.5773502691896258,0.2886751345948129,0.14433756729740646,0.0,-0.1443375672974065,-0.2886751345948129,0.5773502691896258,0.4330127018922194,0.2886751345948129,0.14433756729740643,0.0,0.8660254037844388,0.7216878364870323,0.5773502691896258,0.43301270189221935,0.2886751345948129,1.1547005383792517,1.0103629710818451,0.8660254037844388,0.7216878364870323,0.5773502691896258,0.0,-0.14433756729740646,-0.2886751345948129,-0.4330127018922194,-0.5773502691896258,0.2886751345948129,0.14433756729740646,0.0,-0.1443375672974065,-0.2886751345948129,0.5773502691896258,0.4330127018922194,0.2886751345948129,0.14433756729740643,0.0,0.8660254037844388,0.7216878364870323,0.5773502691896258,0.43301270189221935,0.2886751345948129,1.1547005383792517,1.0103629710818451,0.8660254037844388,0.7216878364870323,0.5773502691896258],\"z\":[0.0,0.0,0.0,0.0,0.0,0.0,0.0,0.0,0.0,0.0,0.0,0.0,0.0,0.0,0.0,0.0,0.0,0.0,0.0,0.0,0.0,0.0,0.0,0.0,0.0,0.25,0.25,0.25,0.25,0.25,0.25,0.25,0.25,0.25,0.25,0.25,0.25,0.25,0.25,0.25,0.25,0.25,0.25,0.25,0.25,0.25,0.25,0.25,0.25,0.25,0.5,0.5,0.5,0.5,0.5,0.5,0.5,0.5,0.5,0.5,0.5,0.5,0.5,0.5,0.5,0.5,0.5,0.5,0.5,0.5,0.5,0.5,0.5,0.5,0.5,0.75,0.75,0.75,0.75,0.75,0.75,0.75,0.75,0.75,0.75,0.75,0.75,0.75,0.75,0.75,0.75,0.75,0.75,0.75,0.75,0.75,0.75,0.75,0.75,0.75,1.0,1.0,1.0,1.0,1.0,1.0,1.0,1.0,1.0,1.0,1.0,1.0,1.0,1.0,1.0,1.0,1.0,1.0,1.0,1.0,1.0,1.0,1.0,1.0,1.0]}],\"layout\":{\"font\":{\"family\":\"Times New Roman\",\"size\":14},\"margin\":{\"b\":10,\"l\":10,\"r\":10,\"t\":30},\"paper_bgcolor\":\"rgb(255,255,255)\",\"scene\":{\"aspectmode\":\"data\",\"camera\":{\"center\":{\"x\":0.1,\"y\":0.1,\"z\":0.1}},\"xaxis\":{\"showbackground\":false,\"visible\":false},\"yaxis\":{\"showbackground\":false,\"visible\":false},\"zaxis\":{\"showbackground\":false,\"visible\":false}},\"template\":{\"data\":{\"bar\":[{\"error_x\":{\"color\":\"#2a3f5f\"},\"error_y\":{\"color\":\"#2a3f5f\"},\"marker\":{\"line\":{\"color\":\"#E5ECF6\",\"width\":0.5}},\"type\":\"bar\"}],\"barpolar\":[{\"marker\":{\"line\":{\"color\":\"#E5ECF6\",\"width\":0.5}},\"type\":\"barpolar\"}],\"carpet\":[{\"aaxis\":{\"endlinecolor\":\"#2a3f5f\",\"gridcolor\":\"white\",\"linecolor\":\"white\",\"minorgridcolor\":\"white\",\"startlinecolor\":\"#2a3f5f\"},\"baxis\":{\"endlinecolor\":\"#2a3f5f\",\"gridcolor\":\"white\",\"linecolor\":\"white\",\"minorgridcolor\":\"white\",\"startlinecolor\":\"#2a3f5f\"},\"type\":\"carpet\"}],\"choropleth\":[{\"colorbar\":{\"outlinewidth\":0,\"ticks\":\"\"},\"type\":\"choropleth\"}],\"contour\":[{\"colorbar\":{\"outlinewidth\":0,\"ticks\":\"\"},\"colorscale\":[[0.0,\"#0d0887\"],[0.1111111111111111,\"#46039f\"],[0.2222222222222222,\"#7201a8\"],[0.3333333333333333,\"#9c179e\"],[0.4444444444444444,\"#bd3786\"],[0.5555555555555556,\"#d8576b\"],[0.6666666666666666,\"#ed7953\"],[0.7777777777777778,\"#fb9f3a\"],[0.8888888888888888,\"#fdca26\"],[1.0,\"#f0f921\"]],\"type\":\"contour\"}],\"contourcarpet\":[{\"colorbar\":{\"outlinewidth\":0,\"ticks\":\"\"},\"type\":\"contourcarpet\"}],\"heatmap\":[{\"colorbar\":{\"outlinewidth\":0,\"ticks\":\"\"},\"colorscale\":[[0.0,\"#0d0887\"],[0.1111111111111111,\"#46039f\"],[0.2222222222222222,\"#7201a8\"],[0.3333333333333333,\"#9c179e\"],[0.4444444444444444,\"#bd3786\"],[0.5555555555555556,\"#d8576b\"],[0.6666666666666666,\"#ed7953\"],[0.7777777777777778,\"#fb9f3a\"],[0.8888888888888888,\"#fdca26\"],[1.0,\"#f0f921\"]],\"type\":\"heatmap\"}],\"heatmapgl\":[{\"colorbar\":{\"outlinewidth\":0,\"ticks\":\"\"},\"colorscale\":[[0.0,\"#0d0887\"],[0.1111111111111111,\"#46039f\"],[0.2222222222222222,\"#7201a8\"],[0.3333333333333333,\"#9c179e\"],[0.4444444444444444,\"#bd3786\"],[0.5555555555555556,\"#d8576b\"],[0.6666666666666666,\"#ed7953\"],[0.7777777777777778,\"#fb9f3a\"],[0.8888888888888888,\"#fdca26\"],[1.0,\"#f0f921\"]],\"type\":\"heatmapgl\"}],\"histogram\":[{\"marker\":{\"colorbar\":{\"outlinewidth\":0,\"ticks\":\"\"}},\"type\":\"histogram\"}],\"histogram2d\":[{\"colorbar\":{\"outlinewidth\":0,\"ticks\":\"\"},\"colorscale\":[[0.0,\"#0d0887\"],[0.1111111111111111,\"#46039f\"],[0.2222222222222222,\"#7201a8\"],[0.3333333333333333,\"#9c179e\"],[0.4444444444444444,\"#bd3786\"],[0.5555555555555556,\"#d8576b\"],[0.6666666666666666,\"#ed7953\"],[0.7777777777777778,\"#fb9f3a\"],[0.8888888888888888,\"#fdca26\"],[1.0,\"#f0f921\"]],\"type\":\"histogram2d\"}],\"histogram2dcontour\":[{\"colorbar\":{\"outlinewidth\":0,\"ticks\":\"\"},\"colorscale\":[[0.0,\"#0d0887\"],[0.1111111111111111,\"#46039f\"],[0.2222222222222222,\"#7201a8\"],[0.3333333333333333,\"#9c179e\"],[0.4444444444444444,\"#bd3786\"],[0.5555555555555556,\"#d8576b\"],[0.6666666666666666,\"#ed7953\"],[0.7777777777777778,\"#fb9f3a\"],[0.8888888888888888,\"#fdca26\"],[1.0,\"#f0f921\"]],\"type\":\"histogram2dcontour\"}],\"mesh3d\":[{\"colorbar\":{\"outlinewidth\":0,\"ticks\":\"\"},\"type\":\"mesh3d\"}],\"parcoords\":[{\"line\":{\"colorbar\":{\"outlinewidth\":0,\"ticks\":\"\"}},\"type\":\"parcoords\"}],\"pie\":[{\"automargin\":true,\"type\":\"pie\"}],\"scatter\":[{\"marker\":{\"colorbar\":{\"outlinewidth\":0,\"ticks\":\"\"}},\"type\":\"scatter\"}],\"scatter3d\":[{\"line\":{\"colorbar\":{\"outlinewidth\":0,\"ticks\":\"\"}},\"marker\":{\"colorbar\":{\"outlinewidth\":0,\"ticks\":\"\"}},\"type\":\"scatter3d\"}],\"scattercarpet\":[{\"marker\":{\"colorbar\":{\"outlinewidth\":0,\"ticks\":\"\"}},\"type\":\"scattercarpet\"}],\"scattergeo\":[{\"marker\":{\"colorbar\":{\"outlinewidth\":0,\"ticks\":\"\"}},\"type\":\"scattergeo\"}],\"scattergl\":[{\"marker\":{\"colorbar\":{\"outlinewidth\":0,\"ticks\":\"\"}},\"type\":\"scattergl\"}],\"scattermapbox\":[{\"marker\":{\"colorbar\":{\"outlinewidth\":0,\"ticks\":\"\"}},\"type\":\"scattermapbox\"}],\"scatterpolar\":[{\"marker\":{\"colorbar\":{\"outlinewidth\":0,\"ticks\":\"\"}},\"type\":\"scatterpolar\"}],\"scatterpolargl\":[{\"marker\":{\"colorbar\":{\"outlinewidth\":0,\"ticks\":\"\"}},\"type\":\"scatterpolargl\"}],\"scatterternary\":[{\"marker\":{\"colorbar\":{\"outlinewidth\":0,\"ticks\":\"\"}},\"type\":\"scatterternary\"}],\"surface\":[{\"colorbar\":{\"outlinewidth\":0,\"ticks\":\"\"},\"colorscale\":[[0.0,\"#0d0887\"],[0.1111111111111111,\"#46039f\"],[0.2222222222222222,\"#7201a8\"],[0.3333333333333333,\"#9c179e\"],[0.4444444444444444,\"#bd3786\"],[0.5555555555555556,\"#d8576b\"],[0.6666666666666666,\"#ed7953\"],[0.7777777777777778,\"#fb9f3a\"],[0.8888888888888888,\"#fdca26\"],[1.0,\"#f0f921\"]],\"type\":\"surface\"}],\"table\":[{\"cells\":{\"fill\":{\"color\":\"#EBF0F8\"},\"line\":{\"color\":\"white\"}},\"header\":{\"fill\":{\"color\":\"#C8D4E3\"},\"line\":{\"color\":\"white\"}},\"type\":\"table\"}]},\"layout\":{\"annotationdefaults\":{\"arrowcolor\":\"#2a3f5f\",\"arrowhead\":0,\"arrowwidth\":1},\"coloraxis\":{\"colorbar\":{\"outlinewidth\":0,\"ticks\":\"\"}},\"colorscale\":{\"diverging\":[[0,\"#8e0152\"],[0.1,\"#c51b7d\"],[0.2,\"#de77ae\"],[0.3,\"#f1b6da\"],[0.4,\"#fde0ef\"],[0.5,\"#f7f7f7\"],[0.6,\"#e6f5d0\"],[0.7,\"#b8e186\"],[0.8,\"#7fbc41\"],[0.9,\"#4d9221\"],[1,\"#276419\"]],\"sequential\":[[0.0,\"#0d0887\"],[0.1111111111111111,\"#46039f\"],[0.2222222222222222,\"#7201a8\"],[0.3333333333333333,\"#9c179e\"],[0.4444444444444444,\"#bd3786\"],[0.5555555555555556,\"#d8576b\"],[0.6666666666666666,\"#ed7953\"],[0.7777777777777778,\"#fb9f3a\"],[0.8888888888888888,\"#fdca26\"],[1.0,\"#f0f921\"]],\"sequentialminus\":[[0.0,\"#0d0887\"],[0.1111111111111111,\"#46039f\"],[0.2222222222222222,\"#7201a8\"],[0.3333333333333333,\"#9c179e\"],[0.4444444444444444,\"#bd3786\"],[0.5555555555555556,\"#d8576b\"],[0.6666666666666666,\"#ed7953\"],[0.7777777777777778,\"#fb9f3a\"],[0.8888888888888888,\"#fdca26\"],[1.0,\"#f0f921\"]]},\"colorway\":[\"#636efa\",\"#EF553B\",\"#00cc96\",\"#ab63fa\",\"#FFA15A\",\"#19d3f3\",\"#FF6692\",\"#B6E880\",\"#FF97FF\",\"#FECB52\"],\"font\":{\"color\":\"#2a3f5f\"},\"geo\":{\"bgcolor\":\"white\",\"lakecolor\":\"white\",\"landcolor\":\"#E5ECF6\",\"showlakes\":true,\"showland\":true,\"subunitcolor\":\"white\"},\"hoverlabel\":{\"align\":\"left\"},\"hovermode\":\"closest\",\"mapbox\":{\"style\":\"light\"},\"paper_bgcolor\":\"white\",\"plot_bgcolor\":\"#E5ECF6\",\"polar\":{\"angularaxis\":{\"gridcolor\":\"white\",\"linecolor\":\"white\",\"ticks\":\"\"},\"bgcolor\":\"#E5ECF6\",\"radialaxis\":{\"gridcolor\":\"white\",\"linecolor\":\"white\",\"ticks\":\"\"}},\"scene\":{\"xaxis\":{\"backgroundcolor\":\"#E5ECF6\",\"gridcolor\":\"white\",\"gridwidth\":2,\"linecolor\":\"white\",\"showbackground\":true,\"ticks\":\"\",\"zerolinecolor\":\"white\"},\"yaxis\":{\"backgroundcolor\":\"#E5ECF6\",\"gridcolor\":\"white\",\"gridwidth\":2,\"linecolor\":\"white\",\"showbackground\":true,\"ticks\":\"\",\"zerolinecolor\":\"white\"},\"zaxis\":{\"backgroundcolor\":\"#E5ECF6\",\"gridcolor\":\"white\",\"gridwidth\":2,\"linecolor\":\"white\",\"showbackground\":true,\"ticks\":\"\",\"zerolinecolor\":\"white\"}},\"shapedefaults\":{\"line\":{\"color\":\"#2a3f5f\"}},\"ternary\":{\"aaxis\":{\"gridcolor\":\"white\",\"linecolor\":\"white\",\"ticks\":\"\"},\"baxis\":{\"gridcolor\":\"white\",\"linecolor\":\"white\",\"ticks\":\"\"},\"bgcolor\":\"#E5ECF6\",\"caxis\":{\"gridcolor\":\"white\",\"linecolor\":\"white\",\"ticks\":\"\"}},\"title\":{\"x\":0.05},\"xaxis\":{\"automargin\":true,\"gridcolor\":\"white\",\"linecolor\":\"white\",\"ticks\":\"\",\"title\":{\"standoff\":15},\"zerolinecolor\":\"white\",\"zerolinewidth\":2},\"yaxis\":{\"automargin\":true,\"gridcolor\":\"white\",\"linecolor\":\"white\",\"ticks\":\"\",\"title\":{\"standoff\":15},\"zerolinecolor\":\"white\",\"zerolinewidth\":2}}}}};\n                var config = {displayModeBar: false,scrollZoom: true};\n                Plotly.newPlot('graph-6358fb30-4b23-11eb-9c99-44032c5fd2c2', data.data,data.layout,config);\n            </script>\n        </div>",
      "text/plain": [
       "<IPython.core.display.HTML object>"
      ]
     },
     "execution_count": null,
     "metadata": {},
     "output_type": "execute_result"
    }
   ],
   "source": [
    "import pivotpy as pp\n",
    "\n",
    "kpoints = get_kmesh(5).kpoints \n",
    "coords = kpoints2coords(get_bz(hexa).basis,kpoints)\n",
    "fig = iplot_bz(get_bz(hexa,primitive=True))\n",
    "fig.add_trace(go.Scatter3d(x=coords[:,0], y=coords[:,1],z=coords[:,2],\n",
    "            mode='markers',name='KPOINTS'))\n",
    "pp.plotly_to_html(fig,modebar=False)\n"
   ]
  },
  {
   "cell_type": "code",
   "execution_count": null,
   "metadata": {
    "tags": []
   },
   "outputs": [],
   "source": [
    "#export\n",
    "def to_bz(bz,kpoints):\n",
    "    \"\"\"\n",
    "    - Returns True if test_point is between plane and origin. Could be used to sample BZ mesh in place of ConvexHull.\n",
    "    - **Parameters**\n",
    "        - test_points: 3D point.\n",
    "        - plane      : List of at least three coplanar points.\n",
    "    \"\"\"\n",
    "    cent_planes = [centroid(np.unique(face,axis=0)) for face in bz.faces]\n",
    "\n",
    "    out_coords = np.empty(np.shape(kpoints)) # To store back\n",
    "\n",
    "    def inside(coord,cent_planes):\n",
    "        _dots_ = np.max([np.dot(coord-c, c) for c in cent_planes]) #max in all planes\n",
    "        #print(_dots_)\n",
    "        if np.max(_dots_) > 1e-5: # Outside\n",
    "            return np.array([]) # empty for comparison\n",
    "        else: # Inside\n",
    "            return coord\n",
    "\n",
    "    from itertools import product\n",
    "    for i,p in enumerate(kpoints):\n",
    "        for q in product([0,1,-1],[0,1,-1],[0,1,-1]):\n",
    "            # First translate, then make coords, then feed it back\n",
    "            #print(q)\n",
    "            pos = kpoints2coords(bz.basis,p + np.array(q))\n",
    "            r = inside(pos,cent_planes)\n",
    "            if r.any():\n",
    "                #print(p,'-->',r)\n",
    "                out_coords[i] = r\n",
    "                StopIteration\n",
    "\n",
    "    return out_coords"
   ]
  },
  {
   "cell_type": "code",
   "execution_count": null,
   "metadata": {},
   "outputs": [],
   "source": [
    "out = to_bz(get_bz(hexa),get_kmesh(5,poscar=hexa).kpoints-0.5)"
   ]
  },
  {
   "cell_type": "code",
   "execution_count": null,
   "metadata": {},
   "outputs": [
    {
     "data": {
      "text/html": "<div>\n        <script src='https://cdn.plot.ly/plotly-latest.min.js'></script>\n            <div id='graph-63d0f7e2-4b23-11eb-8295-44032c5fd2c2'><!-- Plotly chart DIV --></div>\n            <script>\n                var data = {\"data\":[{\"legendgroup\":\"Axes\",\"line\":{\"color\":\"green\"},\"mode\":\"lines+text\",\"name\":\"Axes\",\"text\":[\"<b>k</b><sub>x</sub>\",\"\",\"<b>k</b><sub>y</sub>\",\"\",\"<b>k</b><sub>z</sub>\"],\"type\":\"scatter3d\",\"x\":[0.25,0,0,0,0],\"y\":[0,0,0.25,0,0],\"z\":[0,0,0,0,0.25]},{\"colorscale\":[[0.0,\"rgb(247,252,245)\"],[0.125,\"rgb(229,245,224)\"],[0.25,\"rgb(199,233,192)\"],[0.375,\"rgb(161,217,155)\"],[0.5,\"rgb(116,196,118)\"],[0.625,\"rgb(65,171,93)\"],[0.75,\"rgb(35,139,69)\"],[0.875,\"rgb(0,109,44)\"],[1.0,\"rgb(0,68,27)\"]],\"legendgroup\":\"Axes\",\"name\":\"Axes\",\"showscale\":false,\"type\":\"cone\",\"u\":[1e-05,0,0],\"v\":[0,1e-05,0],\"w\":[0,0,1e-05],\"x\":[0.18,0,0],\"y\":[0,0.18,0],\"z\":[0,0,0.18]},{\"legendgroup\":\"b<sub>1</sub>\",\"line\":{\"color\":\"red\"},\"mode\":\"lines+text\",\"name\":\"<b>b</b><sub>1</sub>\",\"text\":[\"\",\"<b>b</b><sub>1</sub>\"],\"type\":\"scatter3d\",\"x\":[0,1.0],\"y\":[0,-0.5773502691896258],\"z\":[0,0.0]},{\"colorscale\":[[0.0,\"rgb(255,245,240)\"],[0.125,\"rgb(254,224,210)\"],[0.25,\"rgb(252,187,161)\"],[0.375,\"rgb(252,146,114)\"],[0.5,\"rgb(251,106,74)\"],[0.625,\"rgb(239,59,44)\"],[0.75,\"rgb(203,24,29)\"],[0.875,\"rgb(165,15,21)\"],[1.0,\"rgb(103,0,13)\"]],\"legendgroup\":\"b<sub>1</sub>\",\"name\":\"<b>b</b><sub>1</sub>\",\"showscale\":false,\"type\":\"cone\",\"u\":[0.2],\"v\":[-0.11547005383792518],\"w\":[0.0],\"x\":[0.95],\"y\":[-0.5484827557301445],\"z\":[0.0]},{\"legendgroup\":\"b<sub>2</sub>\",\"line\":{\"color\":\"red\"},\"mode\":\"lines+text\",\"name\":\"<b>b</b><sub>2</sub>\",\"text\":[\"\",\"<b>b</b><sub>2</sub>\"],\"type\":\"scatter3d\",\"x\":[0,0.0],\"y\":[0,1.1547005383792517],\"z\":[0,0.0]},{\"colorscale\":[[0.0,\"rgb(255,245,240)\"],[0.125,\"rgb(254,224,210)\"],[0.25,\"rgb(252,187,161)\"],[0.375,\"rgb(252,146,114)\"],[0.5,\"rgb(251,106,74)\"],[0.625,\"rgb(239,59,44)\"],[0.75,\"rgb(203,24,29)\"],[0.875,\"rgb(165,15,21)\"],[1.0,\"rgb(103,0,13)\"]],\"legendgroup\":\"b<sub>2</sub>\",\"name\":\"<b>b</b><sub>2</sub>\",\"showscale\":false,\"type\":\"cone\",\"u\":[0.0],\"v\":[0.23094010767585035],\"w\":[0.0],\"x\":[0.0],\"y\":[1.096965511460289],\"z\":[0.0]},{\"legendgroup\":\"b<sub>3</sub>\",\"line\":{\"color\":\"red\"},\"mode\":\"lines+text\",\"name\":\"<b>b</b><sub>3</sub>\",\"text\":[\"\",\"<b>b</b><sub>3</sub>\"],\"type\":\"scatter3d\",\"x\":[0,0.0],\"y\":[0,0.0],\"z\":[0,1.0]},{\"colorscale\":[[0.0,\"rgb(255,245,240)\"],[0.125,\"rgb(254,224,210)\"],[0.25,\"rgb(252,187,161)\"],[0.375,\"rgb(252,146,114)\"],[0.5,\"rgb(251,106,74)\"],[0.625,\"rgb(239,59,44)\"],[0.75,\"rgb(203,24,29)\"],[0.875,\"rgb(165,15,21)\"],[1.0,\"rgb(103,0,13)\"]],\"legendgroup\":\"b<sub>3</sub>\",\"name\":\"<b>b</b><sub>3</sub>\",\"showscale\":false,\"type\":\"cone\",\"u\":[0.0],\"v\":[0.0],\"w\":[0.2],\"x\":[0.0],\"y\":[0.0],\"z\":[0.95]},{\"legendgroup\":\"BZ\",\"line\":{\"color\":\"rgba(168,204,216,0.4)\"},\"mode\":\"lines\",\"name\":\"BZ\",\"showlegend\":true,\"surfaceaxis\":0,\"type\":\"scatter3d\",\"x\":[0.0,1.0,1.0,0.0,0.0],\"y\":[0.0,-0.57735027,0.57735027,1.15470054,0.0],\"z\":[0.0,0.0,0.0,0.0,0.0]},{\"legendgroup\":\"BZ\",\"line\":{\"color\":\"rgba(168,204,216,0.4)\"},\"mode\":\"lines\",\"name\":\"BZ\",\"showlegend\":false,\"surfaceaxis\":1,\"type\":\"scatter3d\",\"x\":[0.0,0.0,0.0,0.0,0.0],\"y\":[0.0,1.15470054,1.15470054,0.0,0.0],\"z\":[0.0,0.0,1.0,1.0,0.0]},{\"legendgroup\":\"BZ\",\"line\":{\"color\":\"rgba(168,204,216,0.4)\"},\"mode\":\"lines\",\"name\":\"BZ\",\"showlegend\":false,\"surfaceaxis\":0,\"type\":\"scatter3d\",\"x\":[0.0,0.0,1.0,1.0,0.0],\"y\":[0.0,0.0,-0.57735027,-0.57735027,0.0],\"z\":[0.0,1.0,1.0,0.0,0.0]},{\"legendgroup\":\"BZ\",\"line\":{\"color\":\"rgba(168,204,216,0.4)\"},\"mode\":\"lines\",\"name\":\"BZ\",\"showlegend\":false,\"surfaceaxis\":0,\"type\":\"scatter3d\",\"x\":[1.0,1.0,1.0,1.0,1.0],\"y\":[0.57735027,0.57735027,-0.57735027,-0.57735027,0.57735027],\"z\":[0.0,1.0,1.0,0.0,0.0]},{\"legendgroup\":\"BZ\",\"line\":{\"color\":\"rgba(168,204,216,0.4)\"},\"mode\":\"lines\",\"name\":\"BZ\",\"showlegend\":false,\"surfaceaxis\":1,\"type\":\"scatter3d\",\"x\":[0.0,1.0,1.0,0.0,0.0],\"y\":[1.15470054,0.57735027,0.57735027,1.15470054,1.15470054],\"z\":[1.0,1.0,0.0,0.0,1.0]},{\"legendgroup\":\"BZ\",\"line\":{\"color\":\"rgba(168,204,216,0.4)\"},\"mode\":\"lines\",\"name\":\"BZ\",\"showlegend\":false,\"surfaceaxis\":2,\"type\":\"scatter3d\",\"x\":[1.0,1.0,0.0,0.0,1.0],\"y\":[-0.57735027,0.57735027,1.15470054,0.0,-0.57735027],\"z\":[1.0,1.0,1.0,1.0,1.0]},{\"hovertext\":[\"P(0.0, 0.0, 0.0)</br>d = 0.0\",\"P(0.5, 0.5, 0.0)</br>d = 0.57735\",\"P(0.0, 0.5, 0.5)</br>d = 0.76376\",\"P(0.5, 0.0, 0.5)</br>d = 0.76376\",\"P(1.0, 0.5, 0.5)</br>d = 1.11803\",\"P(0.5, 1.0, 0.5)</br>d = 1.11803\",\"P(0.5, 0.5, 1.0)</br>d = 1.1547\",\"P(0.5, 1.0, 0.0)</br>d = 1.0\",\"P(0.5, 1.0, 1.0)</br>d = 1.41421\",\"P(1.0, 0.5, 0.0)</br>d = 1.0\",\"P(1.0, 0.5, 1.0)</br>d = 1.41421\",\"P(0.0, 0.0, 1.0)</br>d = 1.0\",\"P(0.0, 1.0, 0.0)</br>d = 1.1547\",\"P(0.0, 1.0, 1.0)</br>d = 1.52753\",\"P(1.0, 0.0, 0.0)</br>d = 1.1547\",\"P(1.0, 0.0, 1.0)</br>d = 1.52753\",\"P(1.0, 1.0, 0.0)</br>d = 1.1547\",\"P(1.0, 1.0, 1.0)</br>d = 1.52753\"],\"marker\":{\"color\":[\"rgb(255,215,0)\",\"rgb(0.0,0,255.0)\",\"rgb(42.5,0,212.5)\",\"rgb(42.5,0,212.5)\",\"rgb(127.5,0,127.5)\",\"rgb(127.5,0,127.5)\",\"rgb(170.0,0,85.0)\",\"rgb(85.0,0,170.0)\",\"rgb(212.5,0,42.5)\",\"rgb(85.0,0,170.0)\",\"rgb(212.5,0,42.5)\",\"rgb(85.0,0,170.0)\",\"rgb(170.0,0,85.0)\",\"rgb(255.0,0,0.0)\",\"rgb(170.0,0,85.0)\",\"rgb(255.0,0,0.0)\",\"rgb(170.0,0,85.0)\",\"rgb(255.0,0,0.0)\"]},\"mode\":\"markers\",\"name\":\"HSK\",\"type\":\"scatter3d\",\"x\":[0.0,0.5,0.0,0.5,1.0,0.5,0.5,0.5,0.5,1.0,1.0,0.0,0.0,0.0,1.0,1.0,1.0,1.0],\"y\":[0.0,0.28867513,0.57735027,-0.28867513,0.0,0.8660254,0.28867513,0.8660254,0.8660254,0.0,0.0,0.0,1.15470054,1.15470054,-0.57735027,-0.57735027,0.57735027,0.57735027],\"z\":[0.0,0.0,0.5,0.5,0.5,0.5,1.0,0.0,1.0,0.0,1.0,1.0,0.0,1.0,0.0,1.0,0.0,1.0]},{\"mode\":\"lines\",\"type\":\"scatter3d\",\"x\":[0.33333333,-0.33333333,-0.66666667,-0.33333333,0.33333333,0.66666667,0.33333333],\"y\":[0.57735027,0.57735027,0.0,-0.57735027,-0.57735027,0.0,0.57735027],\"z\":[0.5,0.5,0.5,0.5,0.5,0.5,0.5]},{\"mode\":\"lines\",\"type\":\"scatter3d\",\"x\":[-0.33333333,-0.66666667,-0.33333333,0.33333333,0.66666667,0.33333333,-0.33333333],\"y\":[-0.57735027,0.0,0.57735027,0.57735027,0.0,-0.57735027,-0.57735027],\"z\":[-0.5,-0.5,-0.5,-0.5,-0.5,-0.5,-0.5]},{\"mode\":\"lines\",\"type\":\"scatter3d\",\"x\":[0.33333333,-0.33333333,-0.33333333,0.33333333,0.33333333],\"y\":[-0.57735027,-0.57735027,-0.57735027,-0.57735027,-0.57735027],\"z\":[0.5,0.5,-0.5,-0.5,0.5]},{\"mode\":\"lines\",\"type\":\"scatter3d\",\"x\":[0.33333333,0.66666667,0.66666667,0.33333333,0.33333333],\"y\":[-0.57735027,0.0,0.0,-0.57735027,-0.57735027],\"z\":[-0.5,-0.5,0.5,0.5,-0.5]},{\"mode\":\"lines\",\"type\":\"scatter3d\",\"x\":[0.33333333,0.33333333,-0.33333333,-0.33333333,0.33333333],\"y\":[0.57735027,0.57735027,0.57735027,0.57735027,0.57735027],\"z\":[0.5,-0.5,-0.5,0.5,0.5]},{\"mode\":\"lines\",\"type\":\"scatter3d\",\"x\":[0.66666667,0.66666667,0.33333333,0.33333333,0.66666667],\"y\":[0.0,0.0,0.57735027,0.57735027,0.0],\"z\":[0.5,-0.5,-0.5,0.5,0.5]},{\"mode\":\"lines\",\"type\":\"scatter3d\",\"x\":[-0.33333333,-0.66666667,-0.66666667,-0.33333333,-0.33333333],\"y\":[0.57735027,0.0,0.0,0.57735027,0.57735027],\"z\":[-0.5,-0.5,0.5,0.5,-0.5]},{\"mode\":\"lines\",\"type\":\"scatter3d\",\"x\":[-0.66666667,-0.66666667,-0.33333333,-0.33333333,-0.66666667],\"y\":[0.0,0.0,-0.57735027,-0.57735027,0.0],\"z\":[0.5,-0.5,-0.5,0.5,0.5]}],\"layout\":{\"font\":{\"family\":\"Times New Roman\",\"size\":14},\"margin\":{\"b\":10,\"l\":10,\"r\":10,\"t\":30},\"paper_bgcolor\":\"rgb(255,255,255)\",\"scene\":{\"aspectmode\":\"data\",\"camera\":{\"center\":{\"x\":0.1,\"y\":0.1,\"z\":0.1}},\"xaxis\":{\"showbackground\":false,\"visible\":false},\"yaxis\":{\"showbackground\":false,\"visible\":false},\"zaxis\":{\"showbackground\":false,\"visible\":false}},\"template\":{\"data\":{\"bar\":[{\"error_x\":{\"color\":\"#2a3f5f\"},\"error_y\":{\"color\":\"#2a3f5f\"},\"marker\":{\"line\":{\"color\":\"#E5ECF6\",\"width\":0.5}},\"type\":\"bar\"}],\"barpolar\":[{\"marker\":{\"line\":{\"color\":\"#E5ECF6\",\"width\":0.5}},\"type\":\"barpolar\"}],\"carpet\":[{\"aaxis\":{\"endlinecolor\":\"#2a3f5f\",\"gridcolor\":\"white\",\"linecolor\":\"white\",\"minorgridcolor\":\"white\",\"startlinecolor\":\"#2a3f5f\"},\"baxis\":{\"endlinecolor\":\"#2a3f5f\",\"gridcolor\":\"white\",\"linecolor\":\"white\",\"minorgridcolor\":\"white\",\"startlinecolor\":\"#2a3f5f\"},\"type\":\"carpet\"}],\"choropleth\":[{\"colorbar\":{\"outlinewidth\":0,\"ticks\":\"\"},\"type\":\"choropleth\"}],\"contour\":[{\"colorbar\":{\"outlinewidth\":0,\"ticks\":\"\"},\"colorscale\":[[0.0,\"#0d0887\"],[0.1111111111111111,\"#46039f\"],[0.2222222222222222,\"#7201a8\"],[0.3333333333333333,\"#9c179e\"],[0.4444444444444444,\"#bd3786\"],[0.5555555555555556,\"#d8576b\"],[0.6666666666666666,\"#ed7953\"],[0.7777777777777778,\"#fb9f3a\"],[0.8888888888888888,\"#fdca26\"],[1.0,\"#f0f921\"]],\"type\":\"contour\"}],\"contourcarpet\":[{\"colorbar\":{\"outlinewidth\":0,\"ticks\":\"\"},\"type\":\"contourcarpet\"}],\"heatmap\":[{\"colorbar\":{\"outlinewidth\":0,\"ticks\":\"\"},\"colorscale\":[[0.0,\"#0d0887\"],[0.1111111111111111,\"#46039f\"],[0.2222222222222222,\"#7201a8\"],[0.3333333333333333,\"#9c179e\"],[0.4444444444444444,\"#bd3786\"],[0.5555555555555556,\"#d8576b\"],[0.6666666666666666,\"#ed7953\"],[0.7777777777777778,\"#fb9f3a\"],[0.8888888888888888,\"#fdca26\"],[1.0,\"#f0f921\"]],\"type\":\"heatmap\"}],\"heatmapgl\":[{\"colorbar\":{\"outlinewidth\":0,\"ticks\":\"\"},\"colorscale\":[[0.0,\"#0d0887\"],[0.1111111111111111,\"#46039f\"],[0.2222222222222222,\"#7201a8\"],[0.3333333333333333,\"#9c179e\"],[0.4444444444444444,\"#bd3786\"],[0.5555555555555556,\"#d8576b\"],[0.6666666666666666,\"#ed7953\"],[0.7777777777777778,\"#fb9f3a\"],[0.8888888888888888,\"#fdca26\"],[1.0,\"#f0f921\"]],\"type\":\"heatmapgl\"}],\"histogram\":[{\"marker\":{\"colorbar\":{\"outlinewidth\":0,\"ticks\":\"\"}},\"type\":\"histogram\"}],\"histogram2d\":[{\"colorbar\":{\"outlinewidth\":0,\"ticks\":\"\"},\"colorscale\":[[0.0,\"#0d0887\"],[0.1111111111111111,\"#46039f\"],[0.2222222222222222,\"#7201a8\"],[0.3333333333333333,\"#9c179e\"],[0.4444444444444444,\"#bd3786\"],[0.5555555555555556,\"#d8576b\"],[0.6666666666666666,\"#ed7953\"],[0.7777777777777778,\"#fb9f3a\"],[0.8888888888888888,\"#fdca26\"],[1.0,\"#f0f921\"]],\"type\":\"histogram2d\"}],\"histogram2dcontour\":[{\"colorbar\":{\"outlinewidth\":0,\"ticks\":\"\"},\"colorscale\":[[0.0,\"#0d0887\"],[0.1111111111111111,\"#46039f\"],[0.2222222222222222,\"#7201a8\"],[0.3333333333333333,\"#9c179e\"],[0.4444444444444444,\"#bd3786\"],[0.5555555555555556,\"#d8576b\"],[0.6666666666666666,\"#ed7953\"],[0.7777777777777778,\"#fb9f3a\"],[0.8888888888888888,\"#fdca26\"],[1.0,\"#f0f921\"]],\"type\":\"histogram2dcontour\"}],\"mesh3d\":[{\"colorbar\":{\"outlinewidth\":0,\"ticks\":\"\"},\"type\":\"mesh3d\"}],\"parcoords\":[{\"line\":{\"colorbar\":{\"outlinewidth\":0,\"ticks\":\"\"}},\"type\":\"parcoords\"}],\"pie\":[{\"automargin\":true,\"type\":\"pie\"}],\"scatter\":[{\"marker\":{\"colorbar\":{\"outlinewidth\":0,\"ticks\":\"\"}},\"type\":\"scatter\"}],\"scatter3d\":[{\"line\":{\"colorbar\":{\"outlinewidth\":0,\"ticks\":\"\"}},\"marker\":{\"colorbar\":{\"outlinewidth\":0,\"ticks\":\"\"}},\"type\":\"scatter3d\"}],\"scattercarpet\":[{\"marker\":{\"colorbar\":{\"outlinewidth\":0,\"ticks\":\"\"}},\"type\":\"scattercarpet\"}],\"scattergeo\":[{\"marker\":{\"colorbar\":{\"outlinewidth\":0,\"ticks\":\"\"}},\"type\":\"scattergeo\"}],\"scattergl\":[{\"marker\":{\"colorbar\":{\"outlinewidth\":0,\"ticks\":\"\"}},\"type\":\"scattergl\"}],\"scattermapbox\":[{\"marker\":{\"colorbar\":{\"outlinewidth\":0,\"ticks\":\"\"}},\"type\":\"scattermapbox\"}],\"scatterpolar\":[{\"marker\":{\"colorbar\":{\"outlinewidth\":0,\"ticks\":\"\"}},\"type\":\"scatterpolar\"}],\"scatterpolargl\":[{\"marker\":{\"colorbar\":{\"outlinewidth\":0,\"ticks\":\"\"}},\"type\":\"scatterpolargl\"}],\"scatterternary\":[{\"marker\":{\"colorbar\":{\"outlinewidth\":0,\"ticks\":\"\"}},\"type\":\"scatterternary\"}],\"surface\":[{\"colorbar\":{\"outlinewidth\":0,\"ticks\":\"\"},\"colorscale\":[[0.0,\"#0d0887\"],[0.1111111111111111,\"#46039f\"],[0.2222222222222222,\"#7201a8\"],[0.3333333333333333,\"#9c179e\"],[0.4444444444444444,\"#bd3786\"],[0.5555555555555556,\"#d8576b\"],[0.6666666666666666,\"#ed7953\"],[0.7777777777777778,\"#fb9f3a\"],[0.8888888888888888,\"#fdca26\"],[1.0,\"#f0f921\"]],\"type\":\"surface\"}],\"table\":[{\"cells\":{\"fill\":{\"color\":\"#EBF0F8\"},\"line\":{\"color\":\"white\"}},\"header\":{\"fill\":{\"color\":\"#C8D4E3\"},\"line\":{\"color\":\"white\"}},\"type\":\"table\"}]},\"layout\":{\"annotationdefaults\":{\"arrowcolor\":\"#2a3f5f\",\"arrowhead\":0,\"arrowwidth\":1},\"coloraxis\":{\"colorbar\":{\"outlinewidth\":0,\"ticks\":\"\"}},\"colorscale\":{\"diverging\":[[0,\"#8e0152\"],[0.1,\"#c51b7d\"],[0.2,\"#de77ae\"],[0.3,\"#f1b6da\"],[0.4,\"#fde0ef\"],[0.5,\"#f7f7f7\"],[0.6,\"#e6f5d0\"],[0.7,\"#b8e186\"],[0.8,\"#7fbc41\"],[0.9,\"#4d9221\"],[1,\"#276419\"]],\"sequential\":[[0.0,\"#0d0887\"],[0.1111111111111111,\"#46039f\"],[0.2222222222222222,\"#7201a8\"],[0.3333333333333333,\"#9c179e\"],[0.4444444444444444,\"#bd3786\"],[0.5555555555555556,\"#d8576b\"],[0.6666666666666666,\"#ed7953\"],[0.7777777777777778,\"#fb9f3a\"],[0.8888888888888888,\"#fdca26\"],[1.0,\"#f0f921\"]],\"sequentialminus\":[[0.0,\"#0d0887\"],[0.1111111111111111,\"#46039f\"],[0.2222222222222222,\"#7201a8\"],[0.3333333333333333,\"#9c179e\"],[0.4444444444444444,\"#bd3786\"],[0.5555555555555556,\"#d8576b\"],[0.6666666666666666,\"#ed7953\"],[0.7777777777777778,\"#fb9f3a\"],[0.8888888888888888,\"#fdca26\"],[1.0,\"#f0f921\"]]},\"colorway\":[\"#636efa\",\"#EF553B\",\"#00cc96\",\"#ab63fa\",\"#FFA15A\",\"#19d3f3\",\"#FF6692\",\"#B6E880\",\"#FF97FF\",\"#FECB52\"],\"font\":{\"color\":\"#2a3f5f\"},\"geo\":{\"bgcolor\":\"white\",\"lakecolor\":\"white\",\"landcolor\":\"#E5ECF6\",\"showlakes\":true,\"showland\":true,\"subunitcolor\":\"white\"},\"hoverlabel\":{\"align\":\"left\"},\"hovermode\":\"closest\",\"mapbox\":{\"style\":\"light\"},\"paper_bgcolor\":\"white\",\"plot_bgcolor\":\"#E5ECF6\",\"polar\":{\"angularaxis\":{\"gridcolor\":\"white\",\"linecolor\":\"white\",\"ticks\":\"\"},\"bgcolor\":\"#E5ECF6\",\"radialaxis\":{\"gridcolor\":\"white\",\"linecolor\":\"white\",\"ticks\":\"\"}},\"scene\":{\"xaxis\":{\"backgroundcolor\":\"#E5ECF6\",\"gridcolor\":\"white\",\"gridwidth\":2,\"linecolor\":\"white\",\"showbackground\":true,\"ticks\":\"\",\"zerolinecolor\":\"white\"},\"yaxis\":{\"backgroundcolor\":\"#E5ECF6\",\"gridcolor\":\"white\",\"gridwidth\":2,\"linecolor\":\"white\",\"showbackground\":true,\"ticks\":\"\",\"zerolinecolor\":\"white\"},\"zaxis\":{\"backgroundcolor\":\"#E5ECF6\",\"gridcolor\":\"white\",\"gridwidth\":2,\"linecolor\":\"white\",\"showbackground\":true,\"ticks\":\"\",\"zerolinecolor\":\"white\"}},\"shapedefaults\":{\"line\":{\"color\":\"#2a3f5f\"}},\"ternary\":{\"aaxis\":{\"gridcolor\":\"white\",\"linecolor\":\"white\",\"ticks\":\"\"},\"baxis\":{\"gridcolor\":\"white\",\"linecolor\":\"white\",\"ticks\":\"\"},\"bgcolor\":\"#E5ECF6\",\"caxis\":{\"gridcolor\":\"white\",\"linecolor\":\"white\",\"ticks\":\"\"}},\"title\":{\"x\":0.05},\"xaxis\":{\"automargin\":true,\"gridcolor\":\"white\",\"linecolor\":\"white\",\"ticks\":\"\",\"title\":{\"standoff\":15},\"zerolinecolor\":\"white\",\"zerolinewidth\":2},\"yaxis\":{\"automargin\":true,\"gridcolor\":\"white\",\"linecolor\":\"white\",\"ticks\":\"\",\"title\":{\"standoff\":15},\"zerolinecolor\":\"white\",\"zerolinewidth\":2}}}}};\n                var config = {displayModeBar: false,scrollZoom: true};\n                Plotly.newPlot('graph-63d0f7e2-4b23-11eb-8295-44032c5fd2c2', data.data,data.layout,config);\n            </script>\n        </div>",
      "text/plain": [
       "<IPython.core.display.HTML object>"
      ]
     },
     "execution_count": null,
     "metadata": {},
     "output_type": "execute_result"
    }
   ],
   "source": [
    "reg = get_bz(hexa)\n",
    "fig = iplot_bz(get_bz(hexa,primitive=True))\n",
    "#out = get_kmesh(4,poscar=hexa).kpoints\n",
    "out1 = kpoints2coords(get_bz(hexa).basis,get_kmesh(5,poscar=hexa).kpoints)\n",
    "#ax.scatter(out[:,2], out[:,0])\n",
    "#for p1,p2 in zip(out,out1):\n",
    "#    fig.add_trace(go.Scatter3d(x=[p1[0],p2[0]],y=[p1[1],p2[1]],z=[p1[2],p2[2]],mode='markers+lines'))\n",
    "for f in reg.faces:\n",
    "    fig.add_trace(go.Scatter3d(x=f[:,0],y=f[:,1],z=f[:,2],mode='lines'))\n",
    "\n",
    "pp.plotly_to_html(fig,modebar=False)"
   ]
  },
  {
   "cell_type": "code",
   "execution_count": null,
   "metadata": {},
   "outputs": [
    {
     "data": {
      "text/markdown": "<style>a{text-decoration: none !important;color:lightkblue;font-weight:bold;}\n                a:focus,a:active,a:hover{color:hotpink !important;}</style>\n> [&nbsp;`▶` Index&nbsp;](https://massgh.github.io/pivotpy/)  \n> [&nbsp;`▶` XmlElementTree&nbsp;](https://massgh.github.io/pivotpy/XmlElementTree)  \n> [&nbsp;`▶` StaticPlots&nbsp;](https://massgh.github.io/pivotpy/StaticPlots)  \n> [&nbsp;`▶` InteractivePlots&nbsp;](https://massgh.github.io/pivotpy/InteractivePlots)  \n> [&nbsp;`▶` Utilities&nbsp;](https://massgh.github.io/pivotpy/Utilities)  \n> [&nbsp;`▶` StructureIO●&nbsp;](https://massgh.github.io/pivotpy/StructureIO)  \n> [&nbsp;`▶` Widgets&nbsp;](https://massgh.github.io/pivotpy/Widgets)  \n",
      "text/plain": [
       "<IPython.core.display.Markdown object>"
      ]
     },
     "execution_count": null,
     "metadata": {},
     "output_type": "execute_result"
    }
   ],
   "source": [
    "#hide_input\n",
    "import pivotpy as pp \n",
    "pp.nav_links(5)"
   ]
  },
  {
   "cell_type": "code",
   "execution_count": null,
   "metadata": {},
   "outputs": [],
   "source": []
  }
 ],
 "metadata": {
  "kernelspec": {
   "display_name": "Python 3.7.6 64-bit",
   "language": "python",
   "name": "python37664bit4047a33bb5c7414db9abe32ad88decaa"
  }
 },
 "nbformat": 4,
 "nbformat_minor": 2
}
