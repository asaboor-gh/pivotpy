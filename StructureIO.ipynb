{
 "cells": [
  {
   "cell_type": "code",
   "execution_count": null,
   "metadata": {},
   "outputs": [],
   "source": [
    "#default_exp sio"
   ]
  },
  {
   "cell_type": "code",
   "execution_count": null,
   "metadata": {},
   "outputs": [
    {
     "data": {
      "text/markdown": [
       "<style>a{text-decoration: none !important;color:lightkblue;font-weight:bold;}\n",
       "                a:focus,a:active,a:hover{color:hotpink !important;}</style>\n",
       "> [&nbsp;`▶` Index&nbsp;](https://massgh.github.io/pivotpy/)  \n",
       "> [&nbsp;`▶` XmlElementTree&nbsp;](https://massgh.github.io/pivotpy/XmlElementTree)  \n",
       "> [&nbsp;`▶` StaticPlots&nbsp;](https://massgh.github.io/pivotpy/StaticPlots)  \n",
       "> [&nbsp;`▶` InteractivePlots&nbsp;](https://massgh.github.io/pivotpy/InteractivePlots)  \n",
       "> [&nbsp;`▶` Utilities&nbsp;](https://massgh.github.io/pivotpy/Utilities)  \n",
       "> [&nbsp;`▶` StructureIO●&nbsp;](https://massgh.github.io/pivotpy/StructureIO)  \n",
       "> [&nbsp;`▶` Widgets&nbsp;](https://massgh.github.io/pivotpy/Widgets)  \n"
      ],
      "text/plain": [
       "<IPython.core.display.Markdown object>"
      ]
     },
     "execution_count": null,
     "metadata": {},
     "output_type": "execute_result"
    }
   ],
   "source": [
    "#hide_input\n",
    "import pivotpy as pp \n",
    "pp.nav_links(5)"
   ]
  },
  {
   "cell_type": "markdown",
   "metadata": {},
   "source": [
    "# Structure IO\n",
    "\n",
    "> This includes generating POSCAR form [Materials Project](https://materialsproject.org/). You need their API key to run functions in this module where required."
   ]
  },
  {
   "cell_type": "markdown",
   "metadata": {},
   "source": [
    "**Note** : To use materials project data frequently, you may need to save their api key into file. Run function below and it saves key to a file and every function will autoload it."
   ]
  },
  {
   "cell_type": "code",
   "execution_count": null,
   "metadata": {},
   "outputs": [],
   "source": [
    "#export\n",
    "import os\n",
    "import json\n",
    "import math\n",
    "import numpy as np\n",
    "from pathlib import Path\n",
    "import requests as req\n",
    "from collections import namedtuple\n",
    "from itertools import permutations\n",
    "from itertools import product\n",
    "\n",
    "from scipy.spatial import ConvexHull\n",
    "from scipy.spatial import Voronoi\n",
    "import plotly.graph_objects as go\n",
    "\n",
    "import pivotpy.vr_parser as vp"
   ]
  },
  {
   "cell_type": "code",
   "execution_count": null,
   "metadata": {},
   "outputs": [],
   "source": [
    "#hide_input\n",
    "# To run notebook smoothly, not for module export\n",
    "from pivotpy.sio import get_bz"
   ]
  },
  {
   "cell_type": "code",
   "execution_count": null,
   "metadata": {},
   "outputs": [],
   "source": [
    "#export\n",
    "def save_mp_API(api_key):\n",
    "    \"\"\"\n",
    "    - Save materials project api key for autoload in functions.\n",
    "    \"\"\"\n",
    "    home = str(Path.home())\n",
    "    file = os.path.join(home,'.pivotpyrc')\n",
    "    lines = []\n",
    "    if os.path.isfile(file):\n",
    "        with open(file,'r') as fr:\n",
    "            lines = fr.readlines()\n",
    "            lines = [line for line in lines if 'MP_API_KEY' not in line]\n",
    "        fr.close()\n",
    "    with open(file,'w') as fw:\n",
    "        fw.write(\"MP_API_KEY = {}\".format(api_key))\n",
    "        for line in lines:\n",
    "            fw.write(line)\n",
    "        fw.close()"
   ]
  },
  {
   "cell_type": "code",
   "execution_count": null,
   "metadata": {},
   "outputs": [],
   "source": [
    "#export\n",
    "def load_mp_data(formula,api_key=None,mp_id=None,max_sites = None):\n",
    "    \"\"\"\n",
    "    - Returns fetched data using request api of python form materials project website.\n",
    "    - **Parameters**\n",
    "        - formula  : Material formula such as 'NaCl'.\n",
    "        - api_key  : API key for your account from material project site. Auto picks if you already used `save_mp_API` function.\n",
    "        - mp_id    : Optional, you can specify material ID to filter results.\n",
    "        -max_sites : Option, you can set maximum number of sites to load fastly as it will not fetch all large data sets.\n",
    "    \"\"\"\n",
    "    if api_key is None:\n",
    "        try:\n",
    "            home = str(Path.home())\n",
    "            file = os.path.join(home,'.pivotpyrc')\n",
    "            with open(file,'r') as f:\n",
    "                lines=f.readlines()\n",
    "                for line in lines:\n",
    "                    if 'MP_API_KEY' in line:\n",
    "                        api_key = line.split('=')[1].strip()\n",
    "        except:\n",
    "            return print(\"api_key not given. provide in argument or generate in file using `save_mp_API(your_mp_api_key)\")\n",
    "    \n",
    "    url = \"https://www.materialsproject.org/rest/v2/materials/_____/vasp?API_KEY=|||||\"\n",
    "    url = url.replace('_____',formula).replace('|||||',api_key)\n",
    "    resp = req.request(method='GET',url=url)\n",
    "    jl = json.loads(resp.text)\n",
    "    all_res = jl['response']\n",
    "    if max_sites != None:\n",
    "        sel_res=[]\n",
    "        for res in all_res:\n",
    "            if res['nsites'] <= max_sites:\n",
    "                sel_res.append(res)\n",
    "        return sel_res\n",
    "    # Filter to mp_id at last. more preferred\n",
    "    if mp_id !=None:\n",
    "        for res in all_res:\n",
    "            if mp_id == res['material_id']:\n",
    "                return [res]\n",
    "    return all_res"
   ]
  },
  {
   "cell_type": "code",
   "execution_count": null,
   "metadata": {},
   "outputs": [],
   "source": [
    "#export\n",
    "def get_crystal(formula,api_key=None,mp_id=None,max_sites = None):\n",
    "    \"\"\"\n",
    "    - Returns crystal information dictionary including cif data format.\n",
    "    - **Parameters**\n",
    "        - formula  : Material formula such as 'NaCl'.\n",
    "        - api_key  : API key for your account from material project site. Auto picks if you already used `save_mp_API` function.\n",
    "        - mp_id    : Optional, you can specify material ID to filter results.\n",
    "        -max_sites : Option, you can set maximum number of sites to load fastly as it will not fetch all large data sets.\n",
    "    \"\"\"\n",
    "    all_res = load_mp_data(formula=formula,api_key = api_key, mp_id = mp_id, max_sites = max_sites)\n",
    "    cifs = []\n",
    "    for res in all_res:\n",
    "        cif     = res['cif']\n",
    "        symbol  = res['spacegroup']['symbol']\n",
    "        crystal = res['spacegroup']['crystal_system']\n",
    "        unit    = res['unit_cell_formula']\n",
    "        mp_id   = res['material_id']\n",
    "        crs = dict(mp_id = mp_id,symbol = symbol, crystal = crystal, unit = unit, cif = cif)\n",
    "        cifs.append(vp.Dict2Data(crs))\n",
    "    return cifs"
   ]
  },
  {
   "cell_type": "code",
   "execution_count": null,
   "metadata": {},
   "outputs": [],
   "source": [
    "#export\n",
    "def get_poscar(formula ,api_key=None,mp_id=None,max_sites = None):\n",
    "    \"\"\"\n",
    "    - Returns poscar information dictionary including cif data format.\n",
    "    - **Parameters**\n",
    "        - formula  : Material formula such as 'NaCl'.\n",
    "        - api_key  : API key for your account from material project site. Auto picks if you already used `save_mp_API` function.\n",
    "        - mp_id    : Optional, you can specify material ID to filter results.\n",
    "        -max_sites : Option, you can set maximum number of sites to load fastly as it will not fetch all large data sets.\n",
    "    - **Usage**\n",
    "        - `get_poscar('GaAs',api_key,**kwargs)`. Same result is returned from `Get-POSCAR` command in PowerShell terminal if Vasp2Visual module is installed.\n",
    "    \"\"\"\n",
    "    crys = get_crystal(formula = formula,api_key = api_key, mp_id = mp_id, max_sites = max_sites)\n",
    "    poscars = []\n",
    "    for cr in crys:\n",
    "        cif = cr.cif\n",
    "        lines = cif.split('\\n')\n",
    "        if '' in lines.copy():\n",
    "            lines.remove('')\n",
    "        abc = []\n",
    "        abc_ang = []\n",
    "        index = 0\n",
    "        for ys in lines:\n",
    "            if '_cell' in ys:\n",
    "                if '_length' in ys:\n",
    "                    abc.append(ys.split()[1])\n",
    "                if '_angle' in ys:\n",
    "                    abc_ang.append(ys.split()[1])\n",
    "                if '_volume' in ys:\n",
    "                    volume = float(ys.split()[1])\n",
    "            if '_structural' in ys:\n",
    "                system = ys.split()[1]\n",
    "        for i,ys in enumerate(lines):\n",
    "            if '_atom_site_occupancy' in ys:\n",
    "                index = i +1 # start collecting pos.\n",
    "        poses = lines[index:]\n",
    "        pos_str = \"\"\n",
    "        for pos in poses:\n",
    "            s_p = pos.split()\n",
    "            pos_str += \"{0:>12}  {1:>12}  {2:>12}  {3}\\n\".format(*s_p[3:6],s_p[0])\n",
    "\n",
    "        # ======== Cleaning ===========\n",
    "        abc_ang = [float(ang) for ang in abc_ang]\n",
    "        abc     = [float(a) for a in abc]\n",
    "        a = \"{0:>22.16f} {1:>22.16f} {2:>22.16f}\".format(1.0,0.0,0.0) # lattic vector a.\n",
    "        to_rad = 0.017453292519\n",
    "        gamma = abc_ang[2]*to_rad\n",
    "        bx,by = abc[1]*np.cos(gamma),abc[1]*np.sin(gamma)\n",
    "        b = \"{0:>22.16f} {1:>22.16f} {2:>22.16f}\".format(bx/abc[0],by/abc[0],0.0) # lattic vector b.\n",
    "        cz = volume/(abc[0]*by)\n",
    "        cx = abc[2]*np.cos(abc_ang[1]*to_rad)\n",
    "        cy = (abc[1]*abc[2]*np.cos(abc_ang[0]*to_rad)-bx*cx)/by\n",
    "        c = \"{0:>22.16f} {1:>22.16f} {2:>22.16f}\".format(cx/abc[0],cy/abc[0],cz/abc[0]) # lattic vector b.\n",
    "        unit = cr.unit.to_dict()\n",
    "        elems = [elem for elem in unit.keys()]\n",
    "        elems = '\\t'.join(elems)\n",
    "        nums  = [str(int(unit[elem])) for elem in unit.keys()]\n",
    "        nums  = '\\t'.join(nums)\n",
    "        # Get others important info\n",
    "        symbol  = cr.symbol\n",
    "        crystal = cr.crystal\n",
    "        mp_id   = cr.mp_id\n",
    "        # ======================\n",
    "        top = system + \"\\t# [{0}] Generated by PivotPy using Materials Project Database.\".format(symbol)\n",
    "        poscar= \"{0}\\n  {1}\\n {2}\\n {3}\\n {4}\\n  {5}\\n  {6}\\nDirect\\n{7}\".format(top,abc[0],a,b,c,elems,nums,pos_str)\n",
    "        # =======================\n",
    "        net_out = dict(system = system, symbol = symbol, crystal =crystal,mp_id = mp_id,poscar = poscar)\n",
    "        poscars.append(vp.Dict2Data(net_out))\n",
    "    return poscars"
   ]
  },
  {
   "cell_type": "code",
   "execution_count": null,
   "metadata": {},
   "outputs": [
    {
     "data": {
      "text/plain": [
       "dict_keys(['system', 'symbol', 'crystal', 'mp_id', 'poscar'])"
      ]
     },
     "execution_count": null,
     "metadata": {},
     "output_type": "execute_result"
    }
   ],
   "source": [
    "# I alread save key to file, so no need to provide.\n",
    "pc = get_poscar('GaAs',max_sites=2)\n",
    "pc[1].__dict__.keys()\n"
   ]
  },
  {
   "cell_type": "code",
   "execution_count": null,
   "metadata": {},
   "outputs": [
    {
     "name": "stdout",
     "output_type": "stream",
     "text": [
      "material_id:  mp-2534\nspacegroup symbol:  F-43m\n\n GaAs\t# [F-43m] Generated by PivotPy using Materials Project Database.\n  4.06599269\n     1.0000000000000000     0.0000000000000000     0.0000000000000000\n     0.5000000000490150     0.8660254037561398     0.0000000000000000\n     0.5000000000490150     0.2886751346042458     0.8164965780265512\n  Ga\tAs\n  1\t1\nDirect\n  0.00000000    0.00000000    0.00000000  Ga\n  0.75000000    0.75000000    0.75000000  As\n\n"
     ]
    }
   ],
   "source": [
    "print(\"material_id: \",pc[1].mp_id)\n",
    "print(\"spacegroup symbol: \",pc[1].symbol)\n",
    "print(\"\\n\",pc[1].poscar)"
   ]
  },
  {
   "cell_type": "code",
   "execution_count": null,
   "metadata": {},
   "outputs": [],
   "source": [
    "#export\n",
    "def get_kpath(hsk_list=[],labels=[], n = 5,weight= None ,ibzkpt = None,outfile=None):\n",
    "    \"\"\"\n",
    "    - Generate list of kpoints along high symmetry path. Options are write to file or return KPOINTS list. It generates uniformly spaced point with input `n` as just a scale factor of number of points per unit length. You can also specify custom number of kpoints in an interval by putting number of kpoints as 4th entry in left kpoint.\n",
    "    - **Parameters**\n",
    "        - hsk_list : N x 3 list of N high symmetry points, if broken path then [[N x 3],[M x 3],...]. Optionally you can put a 4 values point where 4th entry will decide number of kpoints in current interval. Make sure that points in a connected path patch are at least two i.e. `[[x1,y1,z1],[x2,y2,z2]]` or `[[x1,y1,z1,N],[x2,y2,z2]]`.\n",
    "        - n        ; int, number per unit length, this makes uniform steps based on distance between points.\n",
    "        - weight : Float, if None, auto generates weights.\n",
    "        - gamma  : If True, shifts mesh at gamma point.\n",
    "        - ibzkpt : Path to ibzkpt file, required for HSE calculations.\n",
    "        - labels : Hight symmetry points labels. Good for keeping record of lables and points indices for later use.                - Note: If you do not want to label a point, label it as 'skip' at its index and it will be removed.\n",
    "        - outfile: Path/to/file to write kpoints.\n",
    "    - **Attributes**\n",
    "        - If `outfile = None`, a tuple is returned which consists of:\n",
    "            - nkpts   : get_kmesh().nkpts.\n",
    "            - kpoints : get_kmesh().kpoints.\n",
    "            - weights : get_kmesh().weights.\n",
    "    \"\"\"\n",
    "    if hsk_list:\n",
    "        try: hsk_list[0][0][0]\n",
    "        except: hsk_list = [hsk_list] # Make overall 3 dimensions to include breaks in path\n",
    "    xs,ys,zs, inds,joinat = [],[],[],[0],[] # 0 in inds list is important\n",
    "    for j,a in enumerate(hsk_list):\n",
    "        for i in range(len(a)-1):\n",
    "            _vec = [_a-_b for _a,_b in zip(a[i][:3],a[i+1] )] # restruct point if 4 entries\n",
    "            _m = np.rint(np.linalg.norm(_vec)*n).astype(int)\n",
    "\n",
    "            try: _m = a[i][3] # number of points given explicitly.\n",
    "            except: pass\n",
    "\n",
    "            inds.append(inds[-1]+_m)\n",
    "            if j !=0:\n",
    "\n",
    "                joinat.append(inds[-2]) # Add previous in joinpath\n",
    "            xs.append(list(np.linspace(a[i][0],a[i+1][0],_m)))\n",
    "            ys.append(list(np.linspace(a[i][1],a[i+1][1],_m)))\n",
    "            zs.append(list(np.linspace(a[i][2],a[i+1][2],_m)))\n",
    "    xs = [y for z in xs for y in z] #flatten values.\n",
    "    ys = [y for z in ys for y in z]\n",
    "    zs = [y for z in zs for y in z]\n",
    "    if weight == None:\n",
    "        weight = 1/len(xs)\n",
    "    out_str = [\"{0:>16.10f}{1:>16.10f}{2:>16.10f}{3:>12.6f}\".format(x,y,z,weight) for x,y,z in zip(xs,ys,zs)]\n",
    "    out_str = '\\n'.join(out_str)\n",
    "    N = np.size(xs)\n",
    "    if ibzkpt != None:\n",
    "        if os.path.isfile(ibzkpt):\n",
    "            f = open(ibzkpt,'r')\n",
    "            lines = f.readlines()\n",
    "            f.close()\n",
    "            N = int(lines[1].strip())+N # Update N.\n",
    "            slines = lines[3:N+4]\n",
    "            ibz_str = ''.join(slines)\n",
    "            out_str = \"{}\\n{}\".format(ibz_str,out_str) # Update out_str\n",
    "    if inds:\n",
    "        inds[-1] = -1 # last index to -1\n",
    "    # Remove indices and labels where 'skip' appears\n",
    "    inds = [i for i,l in zip(inds,labels) if 'skip' not in l]\n",
    "    labels = [l for l in labels if 'skip' not in l]\n",
    "    top_str = \"Automatically generated using PivotPy with HSK-INDS = {}, LABELS = {}, SEG-INDS = {}\\n\\t{}\\nReciprocal Lattice\".format(inds,labels,joinat,N)\n",
    "    out_str = \"{}\\n{}\".format(top_str,out_str)\n",
    "    if outfile != None:\n",
    "        f = open(outfile,'w')\n",
    "        f.write(out_str)\n",
    "        f.close()\n",
    "    else:\n",
    "        mesh = namedtuple('Mesh',['nkpts','kpoints','weights'])\n",
    "        return mesh(N,np.array([[x,y,x] for x,y,z in zip(xs,ys,zs)]),[weight for x in xs])"
   ]
  },
  {
   "cell_type": "markdown",
   "metadata": {},
   "source": [
    "In example below, the overall value of `n = 5` is skipped and 4th entry in the point is used instead. In later example, a 'skipk' label removes high symmetry point index."
   ]
  },
  {
   "cell_type": "code",
   "execution_count": null,
   "metadata": {},
   "outputs": [
    {
     "data": {
      "text/plain": [
       "array([[0.5, 0.5, 0.5],\n",
       "       [0. , 0. , 0. ]])"
      ]
     },
     "execution_count": null,
     "metadata": {},
     "output_type": "execute_result"
    }
   ],
   "source": [
    "get_kpath([[0.5,0.5,0.5,2],[0,0,0]],n=5,ibzkpt='IBZKPT',labels = ['M','Γ']).kpoints"
   ]
  },
  {
   "cell_type": "code",
   "execution_count": null,
   "metadata": {},
   "outputs": [],
   "source": [
    "get_kpath([[[0.375,0.375,0.5,21],[0,0,0]],[[0.5,0.25,0.5],[0,0,0]],[[0.25,0.25,0.25],[0,0,0]]],n=11,labels = ['M','skip','Γ|M','L'],outfile='kpt.txt')"
   ]
  },
  {
   "cell_type": "markdown",
   "metadata": {},
   "source": [
    "```shell\n",
    "Automatically generated using PivotPy with HSK-INDS = [0, 29, -1], LABELS = ['M', 'Γ|M', 'L'], SEG-INDS = [21, 29]\n",
    "\t34\n",
    "```\n",
    "`HSK-INDS = [0, 29, -1]` should be `[0,21,29,-1]` but `skip` label removed it. Also after 21, it may have 32 as n=11, but distance smaller than 1 resulted in only 8 points there. This is pretty useful if you don't need to rescale kpoint axis later on based on distance."
   ]
  },
  {
   "cell_type": "markdown",
   "metadata": {},
   "source": [
    "## KPOINTS Mesh for Fermi Surface Calculations\n",
    "- The command `get_kmesh` generates a uniform grid in first (primitive) Brillouin zone.\n",
    "- The POSCAR is used to get ratios of side lengths in first BZ. Use relaxed and same POSCAR you will use in actual calculations. If you use Vasp's auto generated mesh, use ISYM = -1 to list all points and points inside BZ will be filtered later on while plotting Fermi Surface.\n",
    "- KPOINTS are written on `outfile` provided, if `outfile = None`, thn BZ data object is returned. \n",
    "- IBZKPT file path could be given to argument `ibzkpt` to include it automatically, this is important to include for HSE calculations with `weight = 0`. If `weight = None`, weights are distributed uniformly.\n",
    "- If you provide `n_xyz = integer`,(recommended for auto uniform mesh), all sides have same number of points unless you provide `poscar` too, in that case `n_xyz` is chosen for smallest side in reciprocal space and other sides are scaled based on their lengths according to given POSCAR. "
   ]
  },
  {
   "cell_type": "code",
   "execution_count": null,
   "metadata": {},
   "outputs": [],
   "source": [
    "#export\n",
    "def get_basis(poscar=None):\n",
    "    \"\"\"Reads basis and rec_basis from poscar or 3 given vectors as rows of a mtrix.\"\"\"\n",
    "    if poscar == None and os.path.isfile('./POSCAR') == True:\n",
    "        poscar = './POSCAR'\n",
    "    elif poscar == None and os.path.isfile('./POSCAR') == False:\n",
    "        raise ValueError(\"Argument 'poscar' expects file 'POSCAR' or 3 basis vectors.\")\n",
    "    lines = []\n",
    "    a1,a2,a3=[],[],[]\n",
    "    if np.ndim(poscar) ==2:\n",
    "        a1,a2,a3 = poscar[0],poscar[1],poscar[2]\n",
    "    elif os.path.isfile(poscar):\n",
    "        with open(poscar,'r') as f:\n",
    "            lines = f.readlines()\n",
    "            f.close()\n",
    "        if lines != []:\n",
    "            a1 = [float(i) for i in lines[2].split()]\n",
    "            a2 = [float(i) for i in lines[3].split()]\n",
    "            a3 = [float(i) for i in lines[4].split()]\n",
    "    else:\n",
    "        raise FileNotFoundError(\"'{}' does not exist or not 3 by 3 list.\".format(poscar))\n",
    "    # Process\n",
    "    #a1, a2, a3 = np.array(a1), np.array(a2), np.array(a2) # Must\n",
    "    V  = np.dot(a1,np.cross(a2,a3))\n",
    "    b1 = np.cross(a2,a3)/V\n",
    "    b2 = np.cross(a3,a1)/V\n",
    "    b3 = np.cross(a1,a2)/V\n",
    "    Basis = namedtuple('Basis', ['basis', 'rec_basis'])\n",
    "    return Basis(np.array([a1,a2,a3]),np.array([b1,b2,b3]))"
   ]
  },
  {
   "cell_type": "code",
   "execution_count": null,
   "metadata": {},
   "outputs": [],
   "source": [
    "#export\n",
    "def get_kmesh(n_xyz=[5,5,5],weight = None, ibzkpt= None,poscar=None,outfile=None):\n",
    "    \"\"\"\n",
    "    - Generates uniform mesh of kpoints. Options are write to file, or return KPOINTS list.\n",
    "    - **Parameters**\n",
    "        - n_xyz  : List of [nx ny nz] or integer. If integer given, it represents numbers of kpoints along smallest side in reciprocal space and kmesh is autoscaled.\n",
    "        - weight : Float, if None, auto generates weights.\n",
    "        - ibzkpt : Path to ibzkpt file, required for HSE calculations.\n",
    "        - poscar : POSCAR file or real space lattice vectors, if None, cubic symmetry is used and it is fast.\n",
    "        - outfile: Path/to/file to write kpoints.\n",
    "    - **Attributes**\n",
    "        - If `outfile = None`, a tuple is returned which consists of:\n",
    "            - nkpts   : get_kmesh().nkpts.\n",
    "            - kpoints : get_kmesh().kpoints.\n",
    "            - weight  : get_kmesh().weight, its one float number, provided or calculated.\n",
    "    \"\"\"\n",
    "    if type(n_xyz) == int:\n",
    "        nx,ny,nz = n_xyz,n_xyz,n_xyz\n",
    "    else:\n",
    "        nx,ny,nz = [n for n in n_xyz]\n",
    "    \n",
    "    if poscar and type(n_xyz) == int:\n",
    "        Basis = get_basis(poscar)\n",
    "        weights = np.linalg.norm(Basis.rec_basis,axis=1)\n",
    "        weights = weights/np.min(weights) # For making smallest side at given n_xyz\n",
    "        nx, ny, nz = np.rint(weights*n_xyz).astype(int)\n",
    "\n",
    "    points = []\n",
    "    for k in np.linspace(0,1,nz):\n",
    "        for j in np.linspace(0,1,ny):\n",
    "            for i in np.linspace(0,1,nx):\n",
    "                points.append([i,j,k])\n",
    "    points = np.array(points)\n",
    "    points[np.abs(points) < 1e-10] = 0\n",
    "    top_info=''\n",
    "\n",
    "    if len(points) == 0:\n",
    "        return print('No KPOINTS in BZ from given input. Try larger input!')\n",
    "    if weight == None and len(points) != 0:\n",
    "        weight = float(1/len(points))\n",
    "    out_str = [\"{0:>16.10f}{1:>16.10f}{2:>16.10f}{3:>12.6f}\".format(x,y,z,weight) for x,y,z in points]\n",
    "    out_str = '\\n'.join(out_str)\n",
    "    N = len(points)\n",
    "    if ibzkpt != None:\n",
    "        if os.path.isfile(ibzkpt):\n",
    "            f = open(ibzkpt,'r')\n",
    "            lines = f.readlines()\n",
    "            f.close()\n",
    "            N = int(lines[1].strip())+N # Update N.\n",
    "            slines = lines[3:N+4]\n",
    "            ibz_str = ''.join(slines)\n",
    "            out_str = \"{}\\n{}\".format(ibz_str,out_str) # Update out_str\n",
    "    top_str = \"Automatically generated uniform mesh using PivotPy with {}x{}x{} grid{}\\n\\t{}\\nReciprocal Lattice\".format(nx,ny,nz,top_info,N)\n",
    "    out_str = \"{}\\n{}\".format(top_str,out_str)\n",
    "    if outfile != None:\n",
    "        f = open(outfile,'w')\n",
    "        f.write(out_str)\n",
    "        f.close()\n",
    "    else:\n",
    "        mesh = namedtuple('Mesh',['nkpts','kpoints','weight'])\n",
    "        return mesh(N,points,weight)"
   ]
  },
  {
   "cell_type": "code",
   "execution_count": null,
   "metadata": {},
   "outputs": [
    {
     "data": {
      "text/plain": [
       "27"
      ]
     },
     "execution_count": null,
     "metadata": {},
     "output_type": "execute_result"
    }
   ],
   "source": [
    "get_kmesh(n_xyz=[3,3,3],poscar=[[1,1,0],[0,1,1],[1,0,0.5]]).nkpts"
   ]
  },
  {
   "cell_type": "code",
   "execution_count": null,
   "metadata": {},
   "outputs": [],
   "source": [
    "#export\n",
    "def intersect_3p_p_3v(a,b,c):\n",
    "    \"\"\"\n",
    "    - Returns intersection point of 3 planes in 3D.\n",
    "    - **Parameters**\n",
    "        - a,b,c : three vectors in 3D, whose perpendicular planes will be intersected.\n",
    "    \"\"\"\n",
    "    M = np.array([a,b,c])\n",
    "    b = np.array([np.linalg.norm(a)**2,np.linalg.norm(b)**2,np.linalg.norm(c)**2]).reshape(3,1)\n",
    "    out = []\n",
    "    if np.linalg.det(M) != 0:\n",
    "        out = np.linalg.solve(M,b).T\n",
    "    return out\n",
    "def centroid(points):\n",
    "    \"\"\"\n",
    "    - Returns centroid of a list of 3D points.\n",
    "    - **Parameters**\n",
    "        - points: List[List(len=3)]\n",
    "    \"\"\"\n",
    "    _x = [p[0] for p in points]\n",
    "    _y = [p[1] for p in points]\n",
    "    _z = [p[2] for p in points]\n",
    "    _len = len(points)\n",
    "    _x = sum(_x) / _len\n",
    "    _y = sum(_y) / _len\n",
    "    _z = sum(_z) / _len\n",
    "    center = np.array([_x, _y,_z])\n",
    "    return center\n",
    "\n",
    "def order(points):\n",
    "    \"\"\"\n",
    "    - Returns counterclockwise ordered vertices of a plane in 3D. Append first vertex at end to make loop.\n",
    "    - **Parameters**\n",
    "        - points: List[List(len=3)]\n",
    "    \"\"\"\n",
    "    center = centroid(points)\n",
    "    ex = [p-c for p,c in zip(points[0],center)]\n",
    "    ey = np.cross(center,ex)\n",
    "    ex = ex/np.linalg.norm(ex)  # i\n",
    "    ey = ey/np.linalg.norm(ey)  # j\n",
    "    angles= []\n",
    "    for i in range(0,len(points)):\n",
    "        v = [p-c for p,c in zip(points[i],center)]\n",
    "        vx = np.dot(v,ex)\n",
    "        vy = np.dot(v,ey)\n",
    "        #print(np.sign(vx),np.sign(vy))\n",
    "        theta = np.arctan(abs(vy/vx))\n",
    "        angle = theta # start\n",
    "        if np.sign(vx) == 1 and np.sign(vy) == 1:\n",
    "            angle = theta\n",
    "        if np.sign(vx) == -1 and np.sign(vy) == 1:\n",
    "            angle = np.pi - theta\n",
    "        if np.sign(vx) == -1 and np.sign(vy) == -1:\n",
    "            angle = np.pi + theta\n",
    "        if np.sign(vx) == 1 and np.sign(vy) == -1:\n",
    "            angle = 2*np.pi - theta\n",
    "        if vx == 0 and np.sign(vy) == -1:\n",
    "            angle = 3*np.pi/2\n",
    "        if vx == 0 and np.sign(vy) == 1:\n",
    "            angle = np.pi/2\n",
    "        if np.sign(vx) == -1 and vy == 0:\n",
    "            angle = np.pi\n",
    "        if np.sign(vx) == 1 and vy == 0:\n",
    "            angle = 2*np.pi\n",
    "        angles.append([i,angle])\n",
    "    #print(angles)\n",
    "    s_angs = np.array(angles)\n",
    "    ss= s_angs[s_angs[:,1].argsort()]\n",
    "    #print(ss)\n",
    "    o_pts =[]\n",
    "    for s in ss[:,0]:\n",
    "        pt = np.array(points[int(s)])\n",
    "        o_pts.append(pt)\n",
    "    o_pts.append(np.array(o_pts[0]))\n",
    "    return np.array(o_pts)\n",
    "\n",
    "def in_vol_sector(test_point,p1,p2,p3):\n",
    "    \"\"\"\n",
    "    - Returns True if test_point lies inside/on the overlapping planes of three vectors.\n",
    "    - **Parameters**\n",
    "        - p1,p2,p3: Three vectors points in 3D.\n",
    "    \"\"\"\n",
    "    p_test = np.array(test_point)/np.linalg.norm(test_point)\n",
    "    p1 = np.array(p1)/np.linalg.norm(p1)\n",
    "    p2 = np.array(p2)/np.linalg.norm(p2)\n",
    "    p3 = np.array(p3)/np.linalg.norm(p3)\n",
    "    if np.dot(p1,np.cross(p2,p3)) == 0:\n",
    "        return True\n",
    "    else:\n",
    "        c = np.array(centroid([p1,p2,p3]))\n",
    "        _dot_test = np.dot(p_test-c,c)\n",
    "        if  _dot_test < -1e-5:\n",
    "            return False\n",
    "        else:\n",
    "            return True\n",
    "\n",
    "def out_bz_plane(test_point,plane):\n",
    "    \"\"\"\n",
    "    - Returns True if test_point is between plane and origin. Could be used to sample BZ mesh in place of ConvexHull.\n",
    "    - **Parameters**\n",
    "        - test_points: 3D point.\n",
    "        - plane      : List of at least three coplanar points.\n",
    "    \"\"\"\n",
    "    outside = True\n",
    "    p_test = np.array(test_point)\n",
    "    plane = np.array(plane)\n",
    "    c = np.array(centroid(plane))\n",
    "    _dot_ = np.dot(p_test-c,c)\n",
    "    if _dot_ < -1e-5:\n",
    "        outside = False\n",
    "    return outside\n",
    "\n",
    "\n",
    "def to_xy(v):\n",
    "    \"\"\"\n",
    "    - Rotate a 3D vector v in xy-plane.\n",
    "    - **Parameters**\n",
    "        - v: Ponit in 3D.\n",
    "    \"\"\"\n",
    "    x = v[0]\n",
    "    y = 1 # by default to hold if x and y both zero\n",
    "    if v[1] != 0 and v[2] !=0:\n",
    "        y = np.sqrt(v[1]**2+v[2]**2)\n",
    "    d = y\n",
    "    Rx = [[1,0,0],[0,v[1]/d,v[2]/d],[0,-v[2]/d,v[1]/d]]\n",
    "    v_out = np.dot(Rx,v)  #v_out = [x,y,0]\n",
    "    return v_out\n",
    "\n",
    "def rad_angle(v1,v2):\n",
    "    \"\"\"\n",
    "    - Returns interier angle between two vectors.\n",
    "    - **Parameters**\n",
    "        - v1,v2 : Two vectors/points in 3D.\n",
    "    \"\"\"\n",
    "    v1 = np.array(v1)\n",
    "    v2 = np.array(v2)\n",
    "    norm  = np.linalg.norm(v1)*np.linalg.norm(v2)\n",
    "    dot_p = np.round(np.dot(v1,v2)/norm,12)\n",
    "    angle = np.arccos(dot_p)\n",
    "    return angle\n",
    "\n",
    "def arctan_full(perp,base):\n",
    "    \"\"\"\n",
    "    - Returns full angle from x-axis counter clockwise.\n",
    "    - **Parameters**\n",
    "        - perp: Perpendicular componet of vector including sign.\n",
    "        - base: Base compoent of vector including sign.\n",
    "    \"\"\"\n",
    "    vy = perp\n",
    "    vx = base\n",
    "    angle = 0  # Place hodler to handle exceptions\n",
    "    if vx == 0 and np.sign(vy) == -1:\n",
    "        angle = 3*np.pi/2\n",
    "    elif vx == 0 and np.sign(vy) == 1:\n",
    "        angle = np.pi/2\n",
    "    else:\n",
    "        theta = abs(np.arctan(vy/vx))\n",
    "        if np.sign(vx) == 1 and np.sign(vy) == 1:\n",
    "            angle = theta\n",
    "        if np.sign(vx) == -1 and np.sign(vy) == 1:\n",
    "            angle = np.pi - theta\n",
    "        if np.sign(vx) == -1 and np.sign(vy) == -1:\n",
    "            angle = np.pi + theta\n",
    "        if np.sign(vx) == 1 and np.sign(vy) == -1:\n",
    "            angle = 2*np.pi - theta\n",
    "        if np.sign(vx) == -1 and vy == 0:\n",
    "            angle = np.pi\n",
    "        if np.sign(vx) == 1 and vy == 0:\n",
    "            angle = 2*np.pi\n",
    "    return angle"
   ]
  },
  {
   "cell_type": "code",
   "execution_count": null,
   "metadata": {},
   "outputs": [
    {
     "name": "stdout",
     "output_type": "stream",
     "text": [
      "Intersection: [[1.09696551 0.1        1.2       ]]\nInterier Angle: 1.1071487177940433\nAngle with x-axis: 1.5707963267948966\nRotate to XY [0.8660254  1.11803399 0.        ]\n"
     ]
    },
    {
     "data": {
      "text/plain": [
       "False"
      ]
     },
     "execution_count": null,
     "metadata": {},
     "output_type": "execute_result"
    }
   ],
   "source": [
    "import numpy as np\n",
    "print(\"Intersection:\",intersect_3p_p_3v([np.sqrt(3)/2,0.5,0],[0,0.1,0],[0,0.5,1]))\n",
    "print(\"Interier Angle:\",rad_angle([0,0.1,0],[0,0.5,1]))\n",
    "print(\"Angle with x-axis:\",arctan_full(1,0))\n",
    "print(\"Rotate to XY\",to_xy([np.sqrt(3)/2,0.5,1]))\n",
    "in_vol_sector([0.1,-0.1,0.1],[1,0,0],[0,0,1],[0,1,0])"
   ]
  },
  {
   "cell_type": "code",
   "execution_count": null,
   "metadata": {},
   "outputs": [],
   "source": [
    "#export\n",
    "def get_bz(poscar = None,loop = True,digits=8,primitive=False):\n",
    "    \"\"\"\n",
    "    - Return required information to construct first Brillouin zone in form of tuple (basis, normals, vertices, faces).\n",
    "    - **Parameters**\n",
    "        - poscar : POSCAR file or list of 3 vectors in 3D aslist[list,list,list].\n",
    "        - loop   : If True, joins the last vertex of a BZ plane to starting vertex in order to complete loop.\n",
    "        - digits : int, rounding off decimal places, no effect on intermediate calculations, just for pretty final results.\n",
    "        - primitive: Defualt is False and returns Wigner-Seitz cell, If True returns parallelipiped in rec_basis. \n",
    "    - **Attributes**\n",
    "        - basis   : get_bz().basis, recprocal lattice basis.\n",
    "        - normals : get_bz().normals, all vertors that are perpendicular BZ faces/planes.\n",
    "        - vertices: get_bz().vertices, all vertices of BZ, could be input into ConvexHull for constructing 3D BZ.\n",
    "        - faces   : get_bz().faces, vertices arranged into faces, could be input to Poly3DCollection of matplotlib for creating BZ from faces' patches.\n",
    "        - specials : get_bz().specials, Dictionary of high symmetry KPOINTS with keys as points relative to basis and values are corresponding positions in recirprocal coordinates space.\n",
    "    \"\"\"\n",
    "    Basis = get_basis(poscar) # Reads \n",
    "    b1, b2, b3 = Basis.rec_basis\n",
    "    #s_f= np.sqrt(np.dot(b1,b1)) # Do not scale to 1, it makes difficult to compare to lattices\n",
    "    #b1,b2,b3 = b1/s_f,b2/s_f,b3/s_f # Normalize vectors\n",
    "    basis = np.array([b1,b2,b3])\n",
    "    # Get all vectors for BZ\n",
    "    if primitive:\n",
    "        b0 = np.array([0,0,0])\n",
    "        bd = b1+b2+b3 #Diagonal point\n",
    "        faces = [[b0, b1, b2, b1+b2],\n",
    "                 [b0,b2,b3,b2+b3],\n",
    "                 [b0,b3,b1,b3+b1],\n",
    "                 [b1,b1+b2,b1+b3,bd],\n",
    "                 [b2,b2+b1,b2+b3,bd],\n",
    "                 [b3,b3+b1,b3+b2,bd]]\n",
    "    else:\n",
    "        vectors = []\n",
    "        for i,j,k in product([0,1,-1],[0,1,-1],[0,1,-1]):\n",
    "            vectors.append(i*b1+j*b2+k*b3)\n",
    "        vectors = np.array(vectors)\n",
    "        # Generate voronoi diagram\n",
    "        vor = Voronoi(vectors)\n",
    "        faces = []\n",
    "        vrd = vor.ridge_dict\n",
    "        for r in vrd:\n",
    "            if r[0] == 0 or r[1] == 0:\n",
    "                verts_in_face = np.array([vor.vertices[i] for i in vrd[r]])\n",
    "                faces.append(verts_in_face)\n",
    "        faces = np.array(faces)\n",
    "\n",
    "    verts = [v for vs in faces for v in vs]\n",
    "    verts = np.unique(verts,axis=0)\n",
    "\n",
    "    face_vectors = []\n",
    "    for f in faces:\n",
    "        face_vectors.append(2*centroid(f))\n",
    "    if loop == True:\n",
    "        faces = [order(face) for face in faces] # order in a loop\n",
    "    # High symmerty KPOINTS in primitive BZ (positive only)\n",
    "    mid_faces = np.array([centroid(np.unique(face,axis=0)) for face in faces])\n",
    "    mid_edges = []\n",
    "    for f in faces:\n",
    "        for i in range(len(f)-1):\n",
    "            # Do not insert point between unique vertices\n",
    "            if np.isclose(np.linalg.norm(f[i]),np.linalg.norm(f[i+1])):\n",
    "                mid_edges.append(centroid([f[i],f[i+1]]))\n",
    "    if mid_edges!=[]:\n",
    "        mid_edges = np.unique(mid_edges,axis=0) # because faces share edges\n",
    "        mid_faces = np.concatenate([mid_faces,mid_edges])\n",
    "    # Bring all high symmetry points together.\n",
    "    mid_all = np.concatenate([[[0,0,0]],mid_faces,verts])\n",
    "    mid_basis_all = np.array([np.linalg.solve(basis.T,v) for v in mid_all])\n",
    "\n",
    "    # Round off results\n",
    "    mid_all_p    = np.round(mid_all,digits)\n",
    "    mid_basis_p  = np.round(mid_basis_all,digits)\n",
    "    bais         = np.round(basis,digits)\n",
    "    face_vectors = np.round(face_vectors,digits)\n",
    "    verts        = np.round(verts,digits)\n",
    "    faces        = [np.round(face,digits) for face in faces]\n",
    "    one_to_one   = {tuple(x):tuple(y) for x,y in zip(mid_basis_p,mid_all_p)}\n",
    "    BZ = namedtuple('BZ', ['basis', 'normals','vertices','faces','specials'])\n",
    "    return BZ(basis,face_vectors,verts,np.array(faces),one_to_one)"
   ]
  },
  {
   "cell_type": "code",
   "execution_count": null,
   "metadata": {},
   "outputs": [
    {
     "name": "stdout",
     "output_type": "stream",
     "text": [
      "[[-0.99598619  0.99598619  0.99598619]\n [ 0.99598619 -0.99598619  0.99598619]\n [ 0.99598619  0.99598619 -0.99598619]]\n(-0.0, 0.0, 0.0) (0.0, 0.0, 0.0)\n(0.5, -0.0, 0.5) (0.0, 0.996, -0.0)\n(0.5, 0.0, 0.0) (-0.498, 0.498, 0.498)\n"
     ]
    }
   ],
   "source": [
    "import numpy as np\n",
    "from pivotpy.sio import centroid,order\n",
    "bbya = 1.2\n",
    "cbya = 0.8\n",
    "ofco = [[1,bbya,0],[-1,bbya,0],[0,0,cbya]]\n",
    "bco = [[1,bbya,cbya],[-1,bbya,cbya],[-1,-bbya,cbya]]\n",
    "fco = [[1,0,cbya],[1,bbya,0],[0,bbya,cbya]]\n",
    "bcc = [[1,1,1],[-1,1,1],[-1,-1,1]]\n",
    "cube = [[1,0,0],[0,1,0],[0,0,1]]\n",
    "hexa = [[1,0,0],[0.5,np.sqrt(3)/2,0],[0,0,1]]\n",
    "\n",
    "ctg = [[1,1,cbya],[1,-1,cbya],[-1,-1,cbya]]\n",
    "tgl = [[0.81915,-0.472937,0.94923],[0,0.94587,0.94923],[-0.81915,-0.472937,0.94923]]\n",
    "fcc =[[0.0000000000000000,    0.5020149905223673,    0.5020149905223673],\n",
    "    [0.5020149905223673,    0.0000000000000000,    0.5020149905223673],\n",
    "     [0.5020149905223673,    0.5020149905223673,    0.0000000000000000]]\n",
    "\n",
    "basis,normals,vertices,faces,specials = get_bz(fcc,digits=4)\n",
    "print(basis)\n",
    "for i,(k,v) in enumerate(specials.items()):\n",
    "    if i<3:\n",
    "        print(k,v)"
   ]
  },
  {
   "cell_type": "code",
   "execution_count": null,
   "metadata": {},
   "outputs": [
    {
     "data": {
      "text/html": "<svg height=\"180pt\" version=\"1.1\" viewBox=\"0 0 576 180\" width=\"576pt\" xmlns=\"http://www.w3.org/2000/svg\" xmlns:xlink=\"http://www.w3.org/1999/xlink\">\r\n <defs>\r\n  <style type=\"text/css\">\r\n*{stroke-linecap:butt;stroke-linejoin:round;}\r\n  </style>\r\n </defs>\r\n <g id=\"figure_1\">\r\n  <g id=\"patch_1\">\r\n   <path d=\"M 0 180 \r\nL 576 180 \r\nL 576 0 \r\nL 0 0 \r\nz\r\n\" style=\"fill:none;\"/>\r\n  </g>\r\n  <g id=\"axes_1\">\r\n   <g id=\"patch_2\">\r\n    <path d=\"M 0 180 \r\nL 169.411765 180 \r\nL 169.411765 0 \r\nL 0 0 \r\nz\r\n\" style=\"fill:none;\"/>\r\n   </g>\r\n   <g id=\"matplotlib.axis_1\">\r\n    <g id=\"xtick_1\">\r\n     <g id=\"line2d_1\">\r\n      <defs>\r\n       <path d=\"M 0 0 \r\nL 0 -4 \r\n\" id=\"m221ca864fa\" style=\"stroke:#000000;stroke-width:0.3;\"/>\r\n      </defs>\r\n      <g>\r\n       <use style=\"stroke:#000000;stroke-width:0.3;\" x=\"7.391276\" xlink:href=\"#m221ca864fa\" y=\"180\"/>\r\n      </g>\r\n     </g>\r\n     <g id=\"line2d_2\">\r\n      <defs>\r\n       <path d=\"M 0 0 \r\nL 0 4 \r\n\" id=\"m23b2034402\" style=\"stroke:#000000;stroke-width:0.3;\"/>\r\n      </defs>\r\n      <g>\r\n       <use style=\"stroke:#000000;stroke-width:0.3;\" x=\"7.391276\" xlink:href=\"#m23b2034402\" y=\"0\"/>\r\n      </g>\r\n     </g>\r\n     <g id=\"text_1\">\r\n      <!-- −2 -->\r\n      <defs>\r\n       <path d=\"M 62.09375 22 \r\nL 6.40625 22 \r\nL 6.40625 28.59375 \r\nL 62.09375 28.59375 \r\nz\r\n\" id=\"STIXGeneral-Regular-8722\"/>\r\n       <path d=\"M 47.40625 13.703125 \r\nL 42 0 \r\nL 2.90625 0 \r\nL 2.90625 1.203125 \r\nL 20.703125 20.09375 \r\nQ 27.703125 27.40625 30.703125 33.5 \r\nQ 33.703125 39.59375 33.703125 46.09375 \r\nQ 33.703125 52.796875 30 56.5 \r\nQ 26.296875 60.203125 19.796875 60.203125 \r\nQ 14.40625 60.203125 11.25 57.390625 \r\nQ 8.09375 54.59375 5.09375 47.203125 \r\nL 3 47.703125 \r\nQ 4.703125 57 9.84375 62.296875 \r\nQ 15 67.59375 23.796875 67.59375 \r\nQ 32.09375 67.59375 37.1875 62.59375 \r\nQ 42.296875 57.59375 42.296875 50 \r\nQ 42.296875 38.703125 29.5 25.203125 \r\nL 13 7.59375 \r\nL 36.40625 7.59375 \r\nQ 39.703125 7.59375 41.640625 8.890625 \r\nQ 43.59375 10.203125 46 14.296875 \r\nz\r\n\" id=\"STIXGeneral-Regular-50\"/>\r\n      </defs>\r\n      <g transform=\"translate(1.466276 190.329688)scale(0.1 -0.1)\">\r\n       <use xlink:href=\"#STIXGeneral-Regular-8722\"/>\r\n       <use x=\"68.499985\" xlink:href=\"#STIXGeneral-Regular-50\"/>\r\n      </g>\r\n     </g>\r\n    </g>\r\n    <g id=\"xtick_2\">\r\n     <g id=\"line2d_3\">\r\n      <g>\r\n       <use style=\"stroke:#000000;stroke-width:0.3;\" x=\"46.048579\" xlink:href=\"#m221ca864fa\" y=\"180\"/>\r\n      </g>\r\n     </g>\r\n     <g id=\"line2d_4\">\r\n      <g>\r\n       <use style=\"stroke:#000000;stroke-width:0.3;\" x=\"46.048579\" xlink:href=\"#m23b2034402\" y=\"0\"/>\r\n      </g>\r\n     </g>\r\n     <g id=\"text_2\">\r\n      <!-- −1 -->\r\n      <defs>\r\n       <path d=\"M 39.40625 0 \r\nL 11.796875 0 \r\nL 11.796875 1.5 \r\nQ 17.296875 1.796875 19.296875 3.546875 \r\nQ 21.296875 5.296875 21.296875 9.5 \r\nL 21.296875 54.40625 \r\nQ 21.296875 59.296875 18.296875 59.296875 \r\nQ 16.90625 59.296875 13.796875 58.09375 \r\nL 11.09375 57.09375 \r\nL 11.09375 58.5 \r\nL 29 67.59375 \r\nL 29.90625 67.296875 \r\nL 29.90625 7.59375 \r\nQ 29.90625 4.296875 31.90625 2.890625 \r\nQ 33.90625 1.5 39.40625 1.5 \r\nz\r\n\" id=\"STIXGeneral-Regular-49\"/>\r\n      </defs>\r\n      <g transform=\"translate(40.123579 190.329688)scale(0.1 -0.1)\">\r\n       <use xlink:href=\"#STIXGeneral-Regular-8722\"/>\r\n       <use x=\"68.499985\" xlink:href=\"#STIXGeneral-Regular-49\"/>\r\n      </g>\r\n     </g>\r\n    </g>\r\n    <g id=\"xtick_3\">\r\n     <g id=\"line2d_5\">\r\n      <g>\r\n       <use style=\"stroke:#000000;stroke-width:0.3;\" x=\"84.705882\" xlink:href=\"#m221ca864fa\" y=\"180\"/>\r\n      </g>\r\n     </g>\r\n     <g id=\"line2d_6\">\r\n      <g>\r\n       <use style=\"stroke:#000000;stroke-width:0.3;\" x=\"84.705882\" xlink:href=\"#m23b2034402\" y=\"0\"/>\r\n      </g>\r\n     </g>\r\n     <g id=\"text_3\">\r\n      <!-- 0 -->\r\n      <defs>\r\n       <path d=\"M 47.59375 33 \r\nQ 47.59375 26.296875 46.296875 20.34375 \r\nQ 45 14.40625 42.453125 9.40625 \r\nQ 39.90625 4.40625 35.40625 1.5 \r\nQ 30.90625 -1.40625 25 -1.40625 \r\nQ 18.90625 -1.40625 14.296875 1.6875 \r\nQ 9.703125 4.796875 7.203125 10 \r\nQ 4.703125 15.203125 3.546875 21.09375 \r\nQ 2.40625 27 2.40625 33.59375 \r\nQ 2.40625 42.90625 4.703125 50.34375 \r\nQ 7 57.796875 12.34375 62.6875 \r\nQ 17.703125 67.59375 25.40625 67.59375 \r\nQ 35.203125 67.59375 41.390625 58 \r\nQ 47.59375 48.40625 47.59375 33 \r\nz\r\nM 38 32.5 \r\nQ 38 48.296875 34.640625 56.640625 \r\nQ 31.296875 65 24.796875 65 \r\nQ 18.59375 65 15.296875 56.59375 \r\nQ 12 48.203125 12 32.90625 \r\nQ 12 17.5 15.296875 9.34375 \r\nQ 18.59375 1.203125 25 1.203125 \r\nQ 31.296875 1.203125 34.640625 9.34375 \r\nQ 38 17.5 38 32.5 \r\nz\r\n\" id=\"STIXGeneral-Regular-48\"/>\r\n      </defs>\r\n      <g transform=\"translate(82.205882 190.329688)scale(0.1 -0.1)\">\r\n       <use xlink:href=\"#STIXGeneral-Regular-48\"/>\r\n      </g>\r\n     </g>\r\n    </g>\r\n    <g id=\"xtick_4\">\r\n     <g id=\"line2d_7\">\r\n      <g>\r\n       <use style=\"stroke:#000000;stroke-width:0.3;\" x=\"123.363185\" xlink:href=\"#m221ca864fa\" y=\"180\"/>\r\n      </g>\r\n     </g>\r\n     <g id=\"line2d_8\">\r\n      <g>\r\n       <use style=\"stroke:#000000;stroke-width:0.3;\" x=\"123.363185\" xlink:href=\"#m23b2034402\" y=\"0\"/>\r\n      </g>\r\n     </g>\r\n     <g id=\"text_4\">\r\n      <!-- 1 -->\r\n      <g transform=\"translate(120.863185 190.329688)scale(0.1 -0.1)\">\r\n       <use xlink:href=\"#STIXGeneral-Regular-49\"/>\r\n      </g>\r\n     </g>\r\n    </g>\r\n    <g id=\"xtick_5\">\r\n     <g id=\"line2d_9\">\r\n      <g>\r\n       <use style=\"stroke:#000000;stroke-width:0.3;\" x=\"162.020488\" xlink:href=\"#m221ca864fa\" y=\"180\"/>\r\n      </g>\r\n     </g>\r\n     <g id=\"line2d_10\">\r\n      <g>\r\n       <use style=\"stroke:#000000;stroke-width:0.3;\" x=\"162.020488\" xlink:href=\"#m23b2034402\" y=\"0\"/>\r\n      </g>\r\n     </g>\r\n     <g id=\"text_5\">\r\n      <!-- 2 -->\r\n      <g transform=\"translate(159.520488 190.329688)scale(0.1 -0.1)\">\r\n       <use xlink:href=\"#STIXGeneral-Regular-50\"/>\r\n      </g>\r\n     </g>\r\n    </g>\r\n   </g>\r\n   <g id=\"matplotlib.axis_2\">\r\n    <g id=\"ytick_1\">\r\n     <g id=\"line2d_11\">\r\n      <defs>\r\n       <path d=\"M 0 0 \r\nL 4 0 \r\n\" id=\"med6b3aa507\" style=\"stroke:#000000;stroke-width:0.3;\"/>\r\n      </defs>\r\n      <g>\r\n       <use style=\"stroke:#000000;stroke-width:0.3;\" x=\"0\" xlink:href=\"#med6b3aa507\" y=\"172.146769\"/>\r\n      </g>\r\n     </g>\r\n     <g id=\"line2d_12\">\r\n      <defs>\r\n       <path d=\"M 0 0 \r\nL -4 0 \r\n\" id=\"m7bc12f43f0\" style=\"stroke:#000000;stroke-width:0.3;\"/>\r\n      </defs>\r\n      <g>\r\n       <use style=\"stroke:#000000;stroke-width:0.3;\" x=\"169.411765\" xlink:href=\"#m7bc12f43f0\" y=\"172.146769\"/>\r\n      </g>\r\n     </g>\r\n     <g id=\"text_6\">\r\n      <!-- −2.0 -->\r\n      <defs>\r\n       <path d=\"M 18.09375 4.296875 \r\nQ 18.09375 2.09375 16.4375 0.5 \r\nQ 14.796875 -1.09375 12.5 -1.09375 \r\nQ 10.203125 -1.09375 8.59375 0.5 \r\nQ 7 2.09375 7 4.390625 \r\nQ 7 6.703125 8.640625 8.34375 \r\nQ 10.296875 10 12.59375 10 \r\nQ 14.796875 10 16.4375 8.296875 \r\nQ 18.09375 6.59375 18.09375 4.296875 \r\nz\r\n\" id=\"STIXGeneral-Regular-46\"/>\r\n      </defs>\r\n      <g transform=\"translate(-22.85 175.561613)scale(0.1 -0.1)\">\r\n       <use xlink:href=\"#STIXGeneral-Regular-8722\"/>\r\n       <use x=\"68.499985\" xlink:href=\"#STIXGeneral-Regular-50\"/>\r\n       <use x=\"118.499969\" xlink:href=\"#STIXGeneral-Regular-46\"/>\r\n       <use x=\"143.499954\" xlink:href=\"#STIXGeneral-Regular-48\"/>\r\n      </g>\r\n     </g>\r\n    </g>\r\n    <g id=\"ytick_2\">\r\n     <g id=\"line2d_13\">\r\n      <g>\r\n       <use style=\"stroke:#000000;stroke-width:0.3;\" x=\"0\" xlink:href=\"#med6b3aa507\" y=\"151.610077\"/>\r\n      </g>\r\n     </g>\r\n     <g id=\"line2d_14\">\r\n      <g>\r\n       <use style=\"stroke:#000000;stroke-width:0.3;\" x=\"169.411765\" xlink:href=\"#m7bc12f43f0\" y=\"151.610077\"/>\r\n      </g>\r\n     </g>\r\n     <g id=\"text_7\">\r\n      <!-- −1.5 -->\r\n      <defs>\r\n       <path d=\"M 43.796875 68.09375 \r\nL 40.203125 59.59375 \r\nQ 39.59375 58.296875 37.5 58.296875 \r\nL 18.09375 58.296875 \r\nL 14.09375 49.796875 \r\nQ 25.09375 47.703125 30 45.25 \r\nQ 34.90625 42.796875 39.09375 37 \r\nQ 42.59375 32.203125 42.59375 24.296875 \r\nQ 42.59375 17.09375 40.25 12.1875 \r\nQ 37.90625 7.296875 32.796875 3.5 \r\nQ 26 -1.40625 15.796875 -1.40625 \r\nQ 10.09375 -1.40625 6.59375 0.296875 \r\nQ 3.09375 2 3.09375 4.796875 \r\nQ 3.09375 8.59375 7.59375 8.59375 \r\nQ 11.203125 8.59375 15 5.5 \r\nQ 18.90625 2.296875 22.09375 2.296875 \r\nQ 27.296875 2.296875 31.4375 7.5 \r\nQ 35.59375 12.703125 35.59375 19.203125 \r\nQ 35.59375 28.796875 28.90625 34.203125 \r\nQ 20.203125 41.203125 7.59375 41.203125 \r\nQ 6.40625 41.203125 6.40625 42 \r\nL 6.5 42.5 \r\nL 17.40625 66.203125 \r\nL 38.09375 66.203125 \r\nQ 39.796875 66.203125 40.75 66.703125 \r\nQ 41.703125 67.203125 42.90625 68.796875 \r\nz\r\n\" id=\"STIXGeneral-Regular-53\"/>\r\n      </defs>\r\n      <g transform=\"translate(-22.85 155.02492)scale(0.1 -0.1)\">\r\n       <use xlink:href=\"#STIXGeneral-Regular-8722\"/>\r\n       <use x=\"68.499985\" xlink:href=\"#STIXGeneral-Regular-49\"/>\r\n       <use x=\"118.499969\" xlink:href=\"#STIXGeneral-Regular-46\"/>\r\n       <use x=\"143.499954\" xlink:href=\"#STIXGeneral-Regular-53\"/>\r\n      </g>\r\n     </g>\r\n    </g>\r\n    <g id=\"ytick_3\">\r\n     <g id=\"line2d_15\">\r\n      <g>\r\n       <use style=\"stroke:#000000;stroke-width:0.3;\" x=\"0\" xlink:href=\"#med6b3aa507\" y=\"131.073384\"/>\r\n      </g>\r\n     </g>\r\n     <g id=\"line2d_16\">\r\n      <g>\r\n       <use style=\"stroke:#000000;stroke-width:0.3;\" x=\"169.411765\" xlink:href=\"#m7bc12f43f0\" y=\"131.073384\"/>\r\n      </g>\r\n     </g>\r\n     <g id=\"text_8\">\r\n      <!-- −1.0 -->\r\n      <g transform=\"translate(-22.85 134.488228)scale(0.1 -0.1)\">\r\n       <use xlink:href=\"#STIXGeneral-Regular-8722\"/>\r\n       <use x=\"68.499985\" xlink:href=\"#STIXGeneral-Regular-49\"/>\r\n       <use x=\"118.499969\" xlink:href=\"#STIXGeneral-Regular-46\"/>\r\n       <use x=\"143.499954\" xlink:href=\"#STIXGeneral-Regular-48\"/>\r\n      </g>\r\n     </g>\r\n    </g>\r\n    <g id=\"ytick_4\">\r\n     <g id=\"line2d_17\">\r\n      <g>\r\n       <use style=\"stroke:#000000;stroke-width:0.3;\" x=\"0\" xlink:href=\"#med6b3aa507\" y=\"110.536692\"/>\r\n      </g>\r\n     </g>\r\n     <g id=\"line2d_18\">\r\n      <g>\r\n       <use style=\"stroke:#000000;stroke-width:0.3;\" x=\"169.411765\" xlink:href=\"#m7bc12f43f0\" y=\"110.536692\"/>\r\n      </g>\r\n     </g>\r\n     <g id=\"text_9\">\r\n      <!-- −0.5 -->\r\n      <g transform=\"translate(-22.85 113.951536)scale(0.1 -0.1)\">\r\n       <use xlink:href=\"#STIXGeneral-Regular-8722\"/>\r\n       <use x=\"68.499985\" xlink:href=\"#STIXGeneral-Regular-48\"/>\r\n       <use x=\"118.499969\" xlink:href=\"#STIXGeneral-Regular-46\"/>\r\n       <use x=\"143.499954\" xlink:href=\"#STIXGeneral-Regular-53\"/>\r\n      </g>\r\n     </g>\r\n    </g>\r\n    <g id=\"ytick_5\">\r\n     <g id=\"line2d_19\">\r\n      <g>\r\n       <use style=\"stroke:#000000;stroke-width:0.3;\" x=\"0\" xlink:href=\"#med6b3aa507\" y=\"90\"/>\r\n      </g>\r\n     </g>\r\n     <g id=\"line2d_20\">\r\n      <g>\r\n       <use style=\"stroke:#000000;stroke-width:0.3;\" x=\"169.411765\" xlink:href=\"#m7bc12f43f0\" y=\"90\"/>\r\n      </g>\r\n     </g>\r\n     <g id=\"text_10\">\r\n      <!-- 0.0 -->\r\n      <g transform=\"translate(-16 93.414844)scale(0.1 -0.1)\">\r\n       <use xlink:href=\"#STIXGeneral-Regular-48\"/>\r\n       <use x=\"49.999985\" xlink:href=\"#STIXGeneral-Regular-46\"/>\r\n       <use x=\"74.999969\" xlink:href=\"#STIXGeneral-Regular-48\"/>\r\n      </g>\r\n     </g>\r\n    </g>\r\n    <g id=\"ytick_6\">\r\n     <g id=\"line2d_21\">\r\n      <g>\r\n       <use style=\"stroke:#000000;stroke-width:0.3;\" x=\"0\" xlink:href=\"#med6b3aa507\" y=\"69.463308\"/>\r\n      </g>\r\n     </g>\r\n     <g id=\"line2d_22\">\r\n      <g>\r\n       <use style=\"stroke:#000000;stroke-width:0.3;\" x=\"169.411765\" xlink:href=\"#m7bc12f43f0\" y=\"69.463308\"/>\r\n      </g>\r\n     </g>\r\n     <g id=\"text_11\">\r\n      <!-- 0.5 -->\r\n      <g transform=\"translate(-16 72.878152)scale(0.1 -0.1)\">\r\n       <use xlink:href=\"#STIXGeneral-Regular-48\"/>\r\n       <use x=\"49.999985\" xlink:href=\"#STIXGeneral-Regular-46\"/>\r\n       <use x=\"74.999969\" xlink:href=\"#STIXGeneral-Regular-53\"/>\r\n      </g>\r\n     </g>\r\n    </g>\r\n    <g id=\"ytick_7\">\r\n     <g id=\"line2d_23\">\r\n      <g>\r\n       <use style=\"stroke:#000000;stroke-width:0.3;\" x=\"0\" xlink:href=\"#med6b3aa507\" y=\"48.926616\"/>\r\n      </g>\r\n     </g>\r\n     <g id=\"line2d_24\">\r\n      <g>\r\n       <use style=\"stroke:#000000;stroke-width:0.3;\" x=\"169.411765\" xlink:href=\"#m7bc12f43f0\" y=\"48.926616\"/>\r\n      </g>\r\n     </g>\r\n     <g id=\"text_12\">\r\n      <!-- 1.0 -->\r\n      <g transform=\"translate(-16 52.341459)scale(0.1 -0.1)\">\r\n       <use xlink:href=\"#STIXGeneral-Regular-49\"/>\r\n       <use x=\"49.999985\" xlink:href=\"#STIXGeneral-Regular-46\"/>\r\n       <use x=\"74.999969\" xlink:href=\"#STIXGeneral-Regular-48\"/>\r\n      </g>\r\n     </g>\r\n    </g>\r\n    <g id=\"ytick_8\">\r\n     <g id=\"line2d_25\">\r\n      <g>\r\n       <use style=\"stroke:#000000;stroke-width:0.3;\" x=\"0\" xlink:href=\"#med6b3aa507\" y=\"28.389923\"/>\r\n      </g>\r\n     </g>\r\n     <g id=\"line2d_26\">\r\n      <g>\r\n       <use style=\"stroke:#000000;stroke-width:0.3;\" x=\"169.411765\" xlink:href=\"#m7bc12f43f0\" y=\"28.389923\"/>\r\n      </g>\r\n     </g>\r\n     <g id=\"text_13\">\r\n      <!-- 1.5 -->\r\n      <g transform=\"translate(-16 31.804767)scale(0.1 -0.1)\">\r\n       <use xlink:href=\"#STIXGeneral-Regular-49\"/>\r\n       <use x=\"49.999985\" xlink:href=\"#STIXGeneral-Regular-46\"/>\r\n       <use x=\"74.999969\" xlink:href=\"#STIXGeneral-Regular-53\"/>\r\n      </g>\r\n     </g>\r\n    </g>\r\n    <g id=\"ytick_9\">\r\n     <g id=\"line2d_27\">\r\n      <g>\r\n       <use style=\"stroke:#000000;stroke-width:0.3;\" x=\"0\" xlink:href=\"#med6b3aa507\" y=\"7.853231\"/>\r\n      </g>\r\n     </g>\r\n     <g id=\"line2d_28\">\r\n      <g>\r\n       <use style=\"stroke:#000000;stroke-width:0.3;\" x=\"169.411765\" xlink:href=\"#m7bc12f43f0\" y=\"7.853231\"/>\r\n      </g>\r\n     </g>\r\n     <g id=\"text_14\">\r\n      <!-- 2.0 -->\r\n      <g transform=\"translate(-16 11.268075)scale(0.1 -0.1)\">\r\n       <use xlink:href=\"#STIXGeneral-Regular-50\"/>\r\n       <use x=\"49.999985\" xlink:href=\"#STIXGeneral-Regular-46\"/>\r\n       <use x=\"74.999969\" xlink:href=\"#STIXGeneral-Regular-48\"/>\r\n      </g>\r\n     </g>\r\n    </g>\r\n   </g>\r\n   <g id=\"line2d_29\">\r\n    <path clip-path=\"url(#pa547510725)\" d=\"M 84.705882 90 \r\nL 84.705882 8.181818 \r\n\" style=\"fill:none;stroke:#1f77b4;stroke-linecap:square;stroke-width:1.5;\"/>\r\n   </g>\r\n   <g id=\"line2d_30\">\r\n    <path clip-path=\"url(#pa547510725)\" d=\"M 84.705882 90 \r\nL 46.203209 49.090909 \r\n\" style=\"fill:none;stroke:#ff7f0e;stroke-linecap:square;stroke-width:1.5;\"/>\r\n   </g>\r\n   <g id=\"line2d_31\">\r\n    <path clip-path=\"url(#pa547510725)\" d=\"M 84.705882 90 \r\nL 84.705882 90 \r\n\" style=\"fill:none;stroke:#2ca02c;stroke-linecap:square;stroke-width:1.5;\"/>\r\n   </g>\r\n   <g id=\"line2d_32\">\r\n    <path clip-path=\"url(#pa547510725)\" d=\"M 84.705882 90 \r\nL 161.71123 90 \r\n\" style=\"fill:none;stroke:#d62728;stroke-linecap:square;stroke-width:1.5;\"/>\r\n   </g>\r\n   <g id=\"line2d_33\">\r\n    <path clip-path=\"url(#pa547510725)\" d=\"M 84.705882 90 \r\nL 123.208556 49.090909 \r\n\" style=\"fill:none;stroke:#9467bd;stroke-linecap:square;stroke-width:1.5;\"/>\r\n   </g>\r\n   <g id=\"line2d_34\">\r\n    <path clip-path=\"url(#pa547510725)\" d=\"M 84.705882 90 \r\nL 46.203209 49.090909 \r\n\" style=\"fill:none;stroke:#8c564b;stroke-linecap:square;stroke-width:1.5;\"/>\r\n   </g>\r\n   <g id=\"line2d_35\">\r\n    <path clip-path=\"url(#pa547510725)\" d=\"M 84.705882 90 \r\nL 123.208556 49.090909 \r\n\" style=\"fill:none;stroke:#e377c2;stroke-linecap:square;stroke-width:1.5;\"/>\r\n   </g>\r\n   <g id=\"line2d_36\">\r\n    <path clip-path=\"url(#pa547510725)\" d=\"M 84.705882 90 \r\nL 84.705882 171.818182 \r\n\" style=\"fill:none;stroke:#7f7f7f;stroke-linecap:square;stroke-width:1.5;\"/>\r\n   </g>\r\n   <g id=\"line2d_37\">\r\n    <path clip-path=\"url(#pa547510725)\" d=\"M 84.705882 90 \r\nL 46.203209 130.909091 \r\n\" style=\"fill:none;stroke:#bcbd22;stroke-linecap:square;stroke-width:1.5;\"/>\r\n   </g>\r\n   <g id=\"line2d_38\">\r\n    <path clip-path=\"url(#pa547510725)\" d=\"M 84.705882 90 \r\nL 123.208556 130.909091 \r\n\" style=\"fill:none;stroke:#17becf;stroke-linecap:square;stroke-width:1.5;\"/>\r\n   </g>\r\n   <g id=\"line2d_39\">\r\n    <path clip-path=\"url(#pa547510725)\" d=\"M 84.705882 90 \r\nL 46.203209 130.909091 \r\n\" style=\"fill:none;stroke:#1f77b4;stroke-linecap:square;stroke-width:1.5;\"/>\r\n   </g>\r\n   <g id=\"line2d_40\">\r\n    <path clip-path=\"url(#pa547510725)\" d=\"M 84.705882 90 \r\nL 7.700535 90 \r\n\" style=\"fill:none;stroke:#ff7f0e;stroke-linecap:square;stroke-width:1.5;\"/>\r\n   </g>\r\n   <g id=\"line2d_41\">\r\n    <path clip-path=\"url(#pa547510725)\" d=\"M 84.705882 90 \r\nL 123.208556 130.909091 \r\n\" style=\"fill:none;stroke:#2ca02c;stroke-linecap:square;stroke-width:1.5;\"/>\r\n   </g>\r\n   <g id=\"line2d_42\">\r\n    <path clip-path=\"url(#pa547510725)\" d=\"M 84.705882 90 \r\nL 84.705882 90 \r\n\" style=\"fill:none;stroke:#d62728;stroke-linecap:square;stroke-width:1.5;\"/>\r\n   </g>\r\n   <g id=\"patch_3\">\r\n    <path d=\"M 0 180 \r\nL 0 0 \r\n\" style=\"fill:none;stroke:#000000;stroke-linecap:square;stroke-linejoin:miter;stroke-width:0.4;\"/>\r\n   </g>\r\n   <g id=\"patch_4\">\r\n    <path d=\"M 169.411765 180 \r\nL 169.411765 0 \r\n\" style=\"fill:none;stroke:#000000;stroke-linecap:square;stroke-linejoin:miter;stroke-width:0.4;\"/>\r\n   </g>\r\n   <g id=\"patch_5\">\r\n    <path d=\"M 0 180 \r\nL 169.411765 180 \r\n\" style=\"fill:none;stroke:#000000;stroke-linecap:square;stroke-linejoin:miter;stroke-width:0.4;\"/>\r\n   </g>\r\n   <g id=\"patch_6\">\r\n    <path d=\"M 0 0 \r\nL 169.411765 0 \r\n\" style=\"fill:none;stroke:#000000;stroke-linecap:square;stroke-linejoin:miter;stroke-width:0.4;\"/>\r\n   </g>\r\n   <g id=\"text_15\">\r\n    <g id=\"patch_7\">\r\n     <path d=\"M 12.941176 24.170312 \r\nL 53.161489 24.170312 \r\nL 53.161489 7.170312 \r\nL 12.941176 7.170312 \r\nz\r\n\" style=\"fill:#ffffff;opacity:0.9;stroke:#ffffff;stroke-linejoin:miter;\"/>\r\n    </g>\r\n    <!-- normals -->\r\n    <defs>\r\n     <path d=\"M 48.5 0 \r\nL 27.703125 0 \r\nL 27.796875 1.5 \r\nQ 31.5 1.796875 32.75 3.640625 \r\nQ 34 5.5 34 10.5 \r\nL 34 30.40625 \r\nQ 34 40.5 26.703125 40.5 \r\nQ 24.203125 40.5 22 39.296875 \r\nQ 19.796875 38.09375 16.40625 34.796875 \r\nL 16.40625 7.203125 \r\nQ 16.40625 4.203125 17.75 3 \r\nQ 19.09375 1.796875 22.90625 1.5 \r\nL 22.90625 0 \r\nL 1.796875 0 \r\nL 1.796875 1.5 \r\nQ 5.59375 1.796875 6.796875 3.34375 \r\nQ 8 4.90625 8 9.40625 \r\nL 8 33.703125 \r\nQ 8 37.40625 7.296875 38.796875 \r\nQ 6.59375 40.203125 4.5 40.203125 \r\nQ 2.5 40.203125 1.59375 39.796875 \r\nL 1.59375 41.5 \r\nQ 8.59375 43.5 15.296875 46 \r\nL 16.09375 45.703125 \r\nL 16.09375 37.90625 \r\nL 16.203125 37.90625 \r\nQ 23.296875 46 30.59375 46 \r\nQ 36.296875 46 39.34375 42 \r\nQ 42.40625 38 42.40625 30.59375 \r\nL 42.40625 8.5 \r\nQ 42.40625 4.5 43.59375 3.203125 \r\nQ 44.796875 1.90625 48.5 1.5 \r\nz\r\n\" id=\"STIXGeneral-Regular-110\"/>\r\n     <path d=\"M 47 23.09375 \r\nQ 47 12.59375 40.75 5.796875 \r\nQ 34.5 -1 24.5 -1 \r\nQ 15.296875 -1 9.09375 5.75 \r\nQ 2.90625 12.5 2.90625 22.796875 \r\nQ 2.90625 33.203125 9.09375 39.59375 \r\nQ 15.296875 46 25.40625 46 \r\nQ 34.703125 46 40.84375 39.640625 \r\nQ 47 33.296875 47 23.09375 \r\nz\r\nM 38 20.40625 \r\nQ 38 31.796875 33 38.203125 \r\nQ 29 43.203125 23.5 43.203125 \r\nQ 18.296875 43.203125 15.09375 38.953125 \r\nQ 11.90625 34.703125 11.90625 27.296875 \r\nQ 11.90625 14.5 17.203125 6.796875 \r\nQ 20.59375 1.796875 26.203125 1.796875 \r\nQ 31.703125 1.796875 34.84375 6.75 \r\nQ 38 11.703125 38 20.40625 \r\nz\r\n\" id=\"STIXGeneral-Regular-111\"/>\r\n     <path d=\"M 16 45.796875 \r\nL 16 36.59375 \r\nQ 19.796875 42 22.34375 44 \r\nQ 24.90625 46 28 46 \r\nQ 30.59375 46 32.046875 44.59375 \r\nQ 33.5 43.203125 33.5 40.703125 \r\nQ 33.5 38.59375 32.453125 37.390625 \r\nQ 31.40625 36.203125 29.59375 36.203125 \r\nQ 27.703125 36.203125 25.59375 38.203125 \r\nQ 24 39.703125 23 39.703125 \r\nQ 20.90625 39.703125 18.453125 36.796875 \r\nQ 16 33.90625 16 31.5 \r\nL 16 9 \r\nQ 16 4.703125 17.703125 3.203125 \r\nQ 19.40625 1.703125 24.5 1.5 \r\nL 24.5 0 \r\nL 0.5 0 \r\nL 0.5 1.5 \r\nQ 5.296875 2.40625 6.4375 3.5 \r\nQ 7.59375 4.59375 7.59375 8.40625 \r\nL 7.59375 33.40625 \r\nQ 7.59375 36.703125 6.84375 38.046875 \r\nQ 6.09375 39.40625 4.203125 39.40625 \r\nQ 2.59375 39.40625 0.703125 39 \r\nL 0.703125 40.59375 \r\nQ 7 42.59375 15.5 46 \r\nz\r\n\" id=\"STIXGeneral-Regular-114\"/>\r\n     <path d=\"M 77.5 0 \r\nL 55.703125 0 \r\nL 55.703125 1.5 \r\nQ 59.90625 1.90625 61.046875 3.25 \r\nQ 62.203125 4.59375 62.203125 9 \r\nL 62.203125 29.59375 \r\nQ 62.203125 35.59375 60.453125 38.1875 \r\nQ 58.703125 40.796875 54.5 40.796875 \r\nQ 51 40.796875 48.546875 39.390625 \r\nQ 46.09375 38 43.796875 34.703125 \r\nL 43.796875 9.5 \r\nQ 43.796875 4.703125 45.25 3.140625 \r\nQ 46.703125 1.59375 51 1.5 \r\nL 51 0 \r\nL 28.59375 0 \r\nL 28.59375 1.5 \r\nQ 33 1.796875 34.203125 2.9375 \r\nQ 35.40625 4.09375 35.40625 8.59375 \r\nL 35.40625 29.703125 \r\nQ 35.40625 40.796875 28.90625 40.796875 \r\nQ 26.09375 40.796875 22.9375 39.546875 \r\nQ 19.796875 38.296875 18.296875 36.5 \r\nQ 17 35 17 34.796875 \r\nL 17 7 \r\nQ 17 3.796875 18.390625 2.75 \r\nQ 19.796875 1.703125 23.796875 1.5 \r\nL 23.796875 0 \r\nL 1.59375 0 \r\nL 1.59375 1.5 \r\nQ 5.796875 1.59375 7.1875 3.046875 \r\nQ 8.59375 4.5 8.59375 8.796875 \r\nL 8.59375 33.59375 \r\nQ 8.59375 37.296875 7.796875 38.75 \r\nQ 7 40.203125 5.09375 40.203125 \r\nQ 3.59375 40.203125 1.90625 39.796875 \r\nL 1.90625 41.5 \r\nQ 8.703125 43.40625 15.796875 46 \r\nL 16.59375 45.703125 \r\nL 16.59375 38.296875 \r\nL 16.796875 38.296875 \r\nQ 21.296875 43 24.75 44.5 \r\nQ 28.203125 46 32.09375 46 \r\nQ 40 46 42.703125 37.59375 \r\nQ 50.5 46 59 46 \r\nQ 70.59375 46 70.59375 28 \r\nL 70.59375 7.703125 \r\nQ 70.59375 4.40625 71.59375 3.15625 \r\nQ 72.59375 1.90625 74.90625 1.703125 \r\nL 77.5 1.5 \r\nz\r\n\" id=\"STIXGeneral-Regular-109\"/>\r\n     <path d=\"M 44.203125 6.59375 \r\nL 44.203125 3.796875 \r\nQ 40.40625 -1 35.203125 -1 \r\nQ 29.5 -1 28.796875 6.296875 \r\nL 28.703125 6.296875 \r\nQ 22.296875 -1 14.203125 -1 \r\nQ 9.5 -1 6.59375 1.75 \r\nQ 3.703125 4.5 3.703125 9.40625 \r\nQ 3.703125 16.40625 10.703125 21.09375 \r\nQ 15.5 24.296875 28.703125 29.203125 \r\nL 28.703125 34.59375 \r\nQ 28.703125 39.09375 26.546875 41.34375 \r\nQ 24.40625 43.59375 20.90625 43.59375 \r\nQ 17.90625 43.59375 15.90625 42.140625 \r\nQ 13.90625 40.703125 13.90625 38.703125 \r\nQ 13.90625 37.796875 14.203125 36.6875 \r\nQ 14.5 35.59375 14.5 34.5 \r\nQ 14.5 33 13.140625 31.703125 \r\nQ 11.796875 30.40625 9.90625 30.40625 \r\nQ 8.203125 30.40625 6.890625 31.703125 \r\nQ 5.59375 33 5.59375 35 \r\nQ 5.59375 39.796875 10.703125 43 \r\nQ 15.40625 46 22.203125 46 \r\nQ 30.296875 46 34 41.5 \r\nQ 35.796875 39.40625 36.296875 37.25 \r\nQ 36.796875 35.09375 36.796875 30.40625 \r\nL 36.796875 11.296875 \r\nQ 36.796875 4.703125 39.90625 4.703125 \r\nQ 41.90625 4.703125 44.203125 6.59375 \r\nz\r\nM 28.703125 12.703125 \r\nL 28.703125 26.796875 \r\nQ 19.5 23.59375 15.90625 20.203125 \r\nQ 12.5 17.09375 12.5 12.5 \r\nQ 12.5 8.703125 14.390625 6.75 \r\nQ 16.296875 4.796875 19.40625 4.796875 \r\nQ 22.703125 4.796875 25.203125 6.40625 \r\nQ 27.296875 7.90625 28 9.203125 \r\nQ 28.703125 10.5 28.703125 12.703125 \r\nz\r\n\" id=\"STIXGeneral-Regular-97\"/>\r\n     <path d=\"M 25.703125 0 \r\nL 2.09375 0 \r\nL 2.09375 1.5 \r\nQ 6.796875 1.90625 8.296875 3.453125 \r\nQ 9.796875 5 9.796875 9.203125 \r\nL 9.796875 56.09375 \r\nQ 9.796875 59.703125 8.890625 61.09375 \r\nQ 8 62.5 5.59375 62.5 \r\nQ 3.5 62.5 1.90625 62.296875 \r\nL 1.90625 63.90625 \r\nQ 11.40625 66.203125 17.703125 68.296875 \r\nL 18.203125 67.90625 \r\nL 18.203125 8.703125 \r\nQ 18.203125 4.5 19.59375 3.140625 \r\nQ 21 1.796875 25.703125 1.5 \r\nz\r\n\" id=\"STIXGeneral-Regular-108\"/>\r\n     <path d=\"M 15.59375 30.09375 \r\nL 26 23.796875 \r\nQ 31 20.796875 32.890625 18.1875 \r\nQ 34.796875 15.59375 34.796875 11.5 \r\nQ 34.796875 6.5 30.640625 2.75 \r\nQ 26.5 -1 20.796875 -1 \r\nQ 16.09375 -1 13.5 -0.09375 \r\nQ 10.796875 0.796875 8.90625 0.796875 \r\nQ 7.203125 0.796875 6.5 -0.40625 \r\nL 5.203125 -0.40625 \r\nL 5.203125 15.296875 \r\nL 6.796875 15.296875 \r\nQ 8.40625 8 11.40625 4.59375 \r\nQ 14.40625 1.203125 19.5 1.203125 \r\nQ 23.203125 1.203125 25.5 3.296875 \r\nQ 27.796875 5.40625 27.796875 8.59375 \r\nQ 27.796875 13.203125 22.5 16.09375 \r\nL 17.09375 19.09375 \r\nQ 5.09375 25.796875 5.09375 33.59375 \r\nQ 5.09375 39.40625 8.84375 42.65625 \r\nQ 12.59375 45.90625 18.90625 45.90625 \r\nQ 23.296875 45.90625 25.59375 44.796875 \r\nQ 27.40625 44 28.40625 44 \r\nQ 29.09375 44 30 45 \r\nL 31.09375 45 \r\nL 31.59375 31.40625 \r\nL 30.09375 31.40625 \r\nQ 28.40625 38.203125 25.84375 40.953125 \r\nQ 23.296875 43.703125 18.796875 43.703125 \r\nQ 15.40625 43.703125 13.34375 42 \r\nQ 11.296875 40.296875 11.296875 36.90625 \r\nQ 11.296875 35.203125 12.4375 33.25 \r\nQ 13.59375 31.296875 15.59375 30.09375 \r\nz\r\n\" id=\"STIXGeneral-Regular-115\"/>\r\n    </defs>\r\n    <g style=\"fill:#ff0000;\" transform=\"translate(16.941176 18)scale(0.1 -0.1)\">\r\n     <use xlink:href=\"#STIXGeneral-Regular-110\"/>\r\n     <use x=\"49.999985\" xlink:href=\"#STIXGeneral-Regular-111\"/>\r\n     <use x=\"99.999969\" xlink:href=\"#STIXGeneral-Regular-114\"/>\r\n     <use x=\"133.299957\" xlink:href=\"#STIXGeneral-Regular-109\"/>\r\n     <use x=\"211.099945\" xlink:href=\"#STIXGeneral-Regular-97\"/>\r\n     <use x=\"255.499939\" xlink:href=\"#STIXGeneral-Regular-108\"/>\r\n     <use x=\"283.299927\" xlink:href=\"#STIXGeneral-Regular-115\"/>\r\n    </g>\r\n   </g>\r\n  </g>\r\n  <g id=\"axes_2\">\r\n   <g id=\"patch_8\">\r\n    <path d=\"M 203.294118 180 \r\nL 372.705882 180 \r\nL 372.705882 0 \r\nL 203.294118 0 \r\nz\r\n\" style=\"fill:none;\"/>\r\n   </g>\r\n   <g id=\"matplotlib.axis_3\">\r\n    <g id=\"xtick_6\">\r\n     <g id=\"line2d_43\">\r\n      <g>\r\n       <use style=\"stroke:#000000;stroke-width:0.3;\" x=\"210.685394\" xlink:href=\"#m221ca864fa\" y=\"180\"/>\r\n      </g>\r\n     </g>\r\n     <g id=\"line2d_44\">\r\n      <g>\r\n       <use style=\"stroke:#000000;stroke-width:0.3;\" x=\"210.685394\" xlink:href=\"#m23b2034402\" y=\"0\"/>\r\n      </g>\r\n     </g>\r\n     <g id=\"text_16\">\r\n      <!-- −1.0 -->\r\n      <g transform=\"translate(201.010394 190.329688)scale(0.1 -0.1)\">\r\n       <use xlink:href=\"#STIXGeneral-Regular-8722\"/>\r\n       <use x=\"68.499985\" xlink:href=\"#STIXGeneral-Regular-49\"/>\r\n       <use x=\"118.499969\" xlink:href=\"#STIXGeneral-Regular-46\"/>\r\n       <use x=\"143.499954\" xlink:href=\"#STIXGeneral-Regular-48\"/>\r\n      </g>\r\n     </g>\r\n    </g>\r\n    <g id=\"xtick_7\">\r\n     <g id=\"line2d_45\">\r\n      <g>\r\n       <use style=\"stroke:#000000;stroke-width:0.3;\" x=\"249.342697\" xlink:href=\"#m221ca864fa\" y=\"180\"/>\r\n      </g>\r\n     </g>\r\n     <g id=\"line2d_46\">\r\n      <g>\r\n       <use style=\"stroke:#000000;stroke-width:0.3;\" x=\"249.342697\" xlink:href=\"#m23b2034402\" y=\"0\"/>\r\n      </g>\r\n     </g>\r\n     <g id=\"text_17\">\r\n      <!-- −0.5 -->\r\n      <g transform=\"translate(239.667697 190.329688)scale(0.1 -0.1)\">\r\n       <use xlink:href=\"#STIXGeneral-Regular-8722\"/>\r\n       <use x=\"68.499985\" xlink:href=\"#STIXGeneral-Regular-48\"/>\r\n       <use x=\"118.499969\" xlink:href=\"#STIXGeneral-Regular-46\"/>\r\n       <use x=\"143.499954\" xlink:href=\"#STIXGeneral-Regular-53\"/>\r\n      </g>\r\n     </g>\r\n    </g>\r\n    <g id=\"xtick_8\">\r\n     <g id=\"line2d_47\">\r\n      <g>\r\n       <use style=\"stroke:#000000;stroke-width:0.3;\" x=\"288\" xlink:href=\"#m221ca864fa\" y=\"180\"/>\r\n      </g>\r\n     </g>\r\n     <g id=\"line2d_48\">\r\n      <g>\r\n       <use style=\"stroke:#000000;stroke-width:0.3;\" x=\"288\" xlink:href=\"#m23b2034402\" y=\"0\"/>\r\n      </g>\r\n     </g>\r\n     <g id=\"text_18\">\r\n      <!-- 0.0 -->\r\n      <g transform=\"translate(281.75 190.329688)scale(0.1 -0.1)\">\r\n       <use xlink:href=\"#STIXGeneral-Regular-48\"/>\r\n       <use x=\"49.999985\" xlink:href=\"#STIXGeneral-Regular-46\"/>\r\n       <use x=\"74.999969\" xlink:href=\"#STIXGeneral-Regular-48\"/>\r\n      </g>\r\n     </g>\r\n    </g>\r\n    <g id=\"xtick_9\">\r\n     <g id=\"line2d_49\">\r\n      <g>\r\n       <use style=\"stroke:#000000;stroke-width:0.3;\" x=\"326.657303\" xlink:href=\"#m221ca864fa\" y=\"180\"/>\r\n      </g>\r\n     </g>\r\n     <g id=\"line2d_50\">\r\n      <g>\r\n       <use style=\"stroke:#000000;stroke-width:0.3;\" x=\"326.657303\" xlink:href=\"#m23b2034402\" y=\"0\"/>\r\n      </g>\r\n     </g>\r\n     <g id=\"text_19\">\r\n      <!-- 0.5 -->\r\n      <g transform=\"translate(320.407303 190.329688)scale(0.1 -0.1)\">\r\n       <use xlink:href=\"#STIXGeneral-Regular-48\"/>\r\n       <use x=\"49.999985\" xlink:href=\"#STIXGeneral-Regular-46\"/>\r\n       <use x=\"74.999969\" xlink:href=\"#STIXGeneral-Regular-53\"/>\r\n      </g>\r\n     </g>\r\n    </g>\r\n    <g id=\"xtick_10\">\r\n     <g id=\"line2d_51\">\r\n      <g>\r\n       <use style=\"stroke:#000000;stroke-width:0.3;\" x=\"365.314606\" xlink:href=\"#m221ca864fa\" y=\"180\"/>\r\n      </g>\r\n     </g>\r\n     <g id=\"line2d_52\">\r\n      <g>\r\n       <use style=\"stroke:#000000;stroke-width:0.3;\" x=\"365.314606\" xlink:href=\"#m23b2034402\" y=\"0\"/>\r\n      </g>\r\n     </g>\r\n     <g id=\"text_20\">\r\n      <!-- 1.0 -->\r\n      <g transform=\"translate(359.064606 190.329688)scale(0.1 -0.1)\">\r\n       <use xlink:href=\"#STIXGeneral-Regular-49\"/>\r\n       <use x=\"49.999985\" xlink:href=\"#STIXGeneral-Regular-46\"/>\r\n       <use x=\"74.999969\" xlink:href=\"#STIXGeneral-Regular-48\"/>\r\n      </g>\r\n     </g>\r\n    </g>\r\n   </g>\r\n   <g id=\"matplotlib.axis_4\">\r\n    <g id=\"ytick_10\">\r\n     <g id=\"line2d_53\">\r\n      <g>\r\n       <use style=\"stroke:#000000;stroke-width:0.3;\" x=\"203.294118\" xlink:href=\"#med6b3aa507\" y=\"172.146769\"/>\r\n      </g>\r\n     </g>\r\n     <g id=\"line2d_54\">\r\n      <g>\r\n       <use style=\"stroke:#000000;stroke-width:0.3;\" x=\"372.705882\" xlink:href=\"#m7bc12f43f0\" y=\"172.146769\"/>\r\n      </g>\r\n     </g>\r\n     <g id=\"text_21\">\r\n      <!-- −1.00 -->\r\n      <g transform=\"translate(175.444118 175.561613)scale(0.1 -0.1)\">\r\n       <use xlink:href=\"#STIXGeneral-Regular-8722\"/>\r\n       <use x=\"68.499985\" xlink:href=\"#STIXGeneral-Regular-49\"/>\r\n       <use x=\"118.499969\" xlink:href=\"#STIXGeneral-Regular-46\"/>\r\n       <use x=\"143.499954\" xlink:href=\"#STIXGeneral-Regular-48\"/>\r\n       <use x=\"193.499939\" xlink:href=\"#STIXGeneral-Regular-48\"/>\r\n      </g>\r\n     </g>\r\n    </g>\r\n    <g id=\"ytick_11\">\r\n     <g id=\"line2d_55\">\r\n      <g>\r\n       <use style=\"stroke:#000000;stroke-width:0.3;\" x=\"203.294118\" xlink:href=\"#med6b3aa507\" y=\"151.610077\"/>\r\n      </g>\r\n     </g>\r\n     <g id=\"line2d_56\">\r\n      <g>\r\n       <use style=\"stroke:#000000;stroke-width:0.3;\" x=\"372.705882\" xlink:href=\"#m7bc12f43f0\" y=\"151.610077\"/>\r\n      </g>\r\n     </g>\r\n     <g id=\"text_22\">\r\n      <!-- −0.75 -->\r\n      <defs>\r\n       <path d=\"M 44.90625 64.59375 \r\nL 23.703125 -0.796875 \r\nL 17.203125 -0.796875 \r\nL 37 58.796875 \r\nL 15.5 58.796875 \r\nQ 11.203125 58.796875 9.09375 57.296875 \r\nQ 7 55.796875 3.796875 50.59375 \r\nL 2 51.5 \r\nL 8 66.203125 \r\nL 44.90625 66.203125 \r\nz\r\n\" id=\"STIXGeneral-Regular-55\"/>\r\n      </defs>\r\n      <g transform=\"translate(175.444118 155.02492)scale(0.1 -0.1)\">\r\n       <use xlink:href=\"#STIXGeneral-Regular-8722\"/>\r\n       <use x=\"68.499985\" xlink:href=\"#STIXGeneral-Regular-48\"/>\r\n       <use x=\"118.499969\" xlink:href=\"#STIXGeneral-Regular-46\"/>\r\n       <use x=\"143.499954\" xlink:href=\"#STIXGeneral-Regular-55\"/>\r\n       <use x=\"193.499939\" xlink:href=\"#STIXGeneral-Regular-53\"/>\r\n      </g>\r\n     </g>\r\n    </g>\r\n    <g id=\"ytick_12\">\r\n     <g id=\"line2d_57\">\r\n      <g>\r\n       <use style=\"stroke:#000000;stroke-width:0.3;\" x=\"203.294118\" xlink:href=\"#med6b3aa507\" y=\"131.073384\"/>\r\n      </g>\r\n     </g>\r\n     <g id=\"line2d_58\">\r\n      <g>\r\n       <use style=\"stroke:#000000;stroke-width:0.3;\" x=\"372.705882\" xlink:href=\"#m7bc12f43f0\" y=\"131.073384\"/>\r\n      </g>\r\n     </g>\r\n     <g id=\"text_23\">\r\n      <!-- −0.50 -->\r\n      <g transform=\"translate(175.444118 134.488228)scale(0.1 -0.1)\">\r\n       <use xlink:href=\"#STIXGeneral-Regular-8722\"/>\r\n       <use x=\"68.499985\" xlink:href=\"#STIXGeneral-Regular-48\"/>\r\n       <use x=\"118.499969\" xlink:href=\"#STIXGeneral-Regular-46\"/>\r\n       <use x=\"143.499954\" xlink:href=\"#STIXGeneral-Regular-53\"/>\r\n       <use x=\"193.499939\" xlink:href=\"#STIXGeneral-Regular-48\"/>\r\n      </g>\r\n     </g>\r\n    </g>\r\n    <g id=\"ytick_13\">\r\n     <g id=\"line2d_59\">\r\n      <g>\r\n       <use style=\"stroke:#000000;stroke-width:0.3;\" x=\"203.294118\" xlink:href=\"#med6b3aa507\" y=\"110.536692\"/>\r\n      </g>\r\n     </g>\r\n     <g id=\"line2d_60\">\r\n      <g>\r\n       <use style=\"stroke:#000000;stroke-width:0.3;\" x=\"372.705882\" xlink:href=\"#m7bc12f43f0\" y=\"110.536692\"/>\r\n      </g>\r\n     </g>\r\n     <g id=\"text_24\">\r\n      <!-- −0.25 -->\r\n      <g transform=\"translate(175.444118 113.951536)scale(0.1 -0.1)\">\r\n       <use xlink:href=\"#STIXGeneral-Regular-8722\"/>\r\n       <use x=\"68.499985\" xlink:href=\"#STIXGeneral-Regular-48\"/>\r\n       <use x=\"118.499969\" xlink:href=\"#STIXGeneral-Regular-46\"/>\r\n       <use x=\"143.499954\" xlink:href=\"#STIXGeneral-Regular-50\"/>\r\n       <use x=\"193.499939\" xlink:href=\"#STIXGeneral-Regular-53\"/>\r\n      </g>\r\n     </g>\r\n    </g>\r\n    <g id=\"ytick_14\">\r\n     <g id=\"line2d_61\">\r\n      <g>\r\n       <use style=\"stroke:#000000;stroke-width:0.3;\" x=\"203.294118\" xlink:href=\"#med6b3aa507\" y=\"90\"/>\r\n      </g>\r\n     </g>\r\n     <g id=\"line2d_62\">\r\n      <g>\r\n       <use style=\"stroke:#000000;stroke-width:0.3;\" x=\"372.705882\" xlink:href=\"#m7bc12f43f0\" y=\"90\"/>\r\n      </g>\r\n     </g>\r\n     <g id=\"text_25\">\r\n      <!-- 0.00 -->\r\n      <g transform=\"translate(182.294118 93.414844)scale(0.1 -0.1)\">\r\n       <use xlink:href=\"#STIXGeneral-Regular-48\"/>\r\n       <use x=\"49.999985\" xlink:href=\"#STIXGeneral-Regular-46\"/>\r\n       <use x=\"74.999969\" xlink:href=\"#STIXGeneral-Regular-48\"/>\r\n       <use x=\"124.999954\" xlink:href=\"#STIXGeneral-Regular-48\"/>\r\n      </g>\r\n     </g>\r\n    </g>\r\n    <g id=\"ytick_15\">\r\n     <g id=\"line2d_63\">\r\n      <g>\r\n       <use style=\"stroke:#000000;stroke-width:0.3;\" x=\"203.294118\" xlink:href=\"#med6b3aa507\" y=\"69.463308\"/>\r\n      </g>\r\n     </g>\r\n     <g id=\"line2d_64\">\r\n      <g>\r\n       <use style=\"stroke:#000000;stroke-width:0.3;\" x=\"372.705882\" xlink:href=\"#m7bc12f43f0\" y=\"69.463308\"/>\r\n      </g>\r\n     </g>\r\n     <g id=\"text_26\">\r\n      <!-- 0.25 -->\r\n      <g transform=\"translate(182.294118 72.878152)scale(0.1 -0.1)\">\r\n       <use xlink:href=\"#STIXGeneral-Regular-48\"/>\r\n       <use x=\"49.999985\" xlink:href=\"#STIXGeneral-Regular-46\"/>\r\n       <use x=\"74.999969\" xlink:href=\"#STIXGeneral-Regular-50\"/>\r\n       <use x=\"124.999954\" xlink:href=\"#STIXGeneral-Regular-53\"/>\r\n      </g>\r\n     </g>\r\n    </g>\r\n    <g id=\"ytick_16\">\r\n     <g id=\"line2d_65\">\r\n      <g>\r\n       <use style=\"stroke:#000000;stroke-width:0.3;\" x=\"203.294118\" xlink:href=\"#med6b3aa507\" y=\"48.926616\"/>\r\n      </g>\r\n     </g>\r\n     <g id=\"line2d_66\">\r\n      <g>\r\n       <use style=\"stroke:#000000;stroke-width:0.3;\" x=\"372.705882\" xlink:href=\"#m7bc12f43f0\" y=\"48.926616\"/>\r\n      </g>\r\n     </g>\r\n     <g id=\"text_27\">\r\n      <!-- 0.50 -->\r\n      <g transform=\"translate(182.294118 52.341459)scale(0.1 -0.1)\">\r\n       <use xlink:href=\"#STIXGeneral-Regular-48\"/>\r\n       <use x=\"49.999985\" xlink:href=\"#STIXGeneral-Regular-46\"/>\r\n       <use x=\"74.999969\" xlink:href=\"#STIXGeneral-Regular-53\"/>\r\n       <use x=\"124.999954\" xlink:href=\"#STIXGeneral-Regular-48\"/>\r\n      </g>\r\n     </g>\r\n    </g>\r\n    <g id=\"ytick_17\">\r\n     <g id=\"line2d_67\">\r\n      <g>\r\n       <use style=\"stroke:#000000;stroke-width:0.3;\" x=\"203.294118\" xlink:href=\"#med6b3aa507\" y=\"28.389923\"/>\r\n      </g>\r\n     </g>\r\n     <g id=\"line2d_68\">\r\n      <g>\r\n       <use style=\"stroke:#000000;stroke-width:0.3;\" x=\"372.705882\" xlink:href=\"#m7bc12f43f0\" y=\"28.389923\"/>\r\n      </g>\r\n     </g>\r\n     <g id=\"text_28\">\r\n      <!-- 0.75 -->\r\n      <g transform=\"translate(182.294118 31.804767)scale(0.1 -0.1)\">\r\n       <use xlink:href=\"#STIXGeneral-Regular-48\"/>\r\n       <use x=\"49.999985\" xlink:href=\"#STIXGeneral-Regular-46\"/>\r\n       <use x=\"74.999969\" xlink:href=\"#STIXGeneral-Regular-55\"/>\r\n       <use x=\"124.999954\" xlink:href=\"#STIXGeneral-Regular-53\"/>\r\n      </g>\r\n     </g>\r\n    </g>\r\n    <g id=\"ytick_18\">\r\n     <g id=\"line2d_69\">\r\n      <g>\r\n       <use style=\"stroke:#000000;stroke-width:0.3;\" x=\"203.294118\" xlink:href=\"#med6b3aa507\" y=\"7.853231\"/>\r\n      </g>\r\n     </g>\r\n     <g id=\"line2d_70\">\r\n      <g>\r\n       <use style=\"stroke:#000000;stroke-width:0.3;\" x=\"372.705882\" xlink:href=\"#m7bc12f43f0\" y=\"7.853231\"/>\r\n      </g>\r\n     </g>\r\n     <g id=\"text_29\">\r\n      <!-- 1.00 -->\r\n      <g transform=\"translate(182.294118 11.268075)scale(0.1 -0.1)\">\r\n       <use xlink:href=\"#STIXGeneral-Regular-49\"/>\r\n       <use x=\"49.999985\" xlink:href=\"#STIXGeneral-Regular-46\"/>\r\n       <use x=\"74.999969\" xlink:href=\"#STIXGeneral-Regular-48\"/>\r\n       <use x=\"124.999954\" xlink:href=\"#STIXGeneral-Regular-48\"/>\r\n      </g>\r\n     </g>\r\n    </g>\r\n   </g>\r\n   <g id=\"line2d_71\">\r\n    <path clip-path=\"url(#p9555be4a98)\" d=\"M 288 90 \r\nL 210.994652 130.909091 \r\n\" style=\"fill:none;stroke:#1f77b4;stroke-linecap:square;stroke-width:1.5;\"/>\r\n   </g>\r\n   <g id=\"line2d_72\">\r\n    <path clip-path=\"url(#p9555be4a98)\" d=\"M 288 90 \r\nL 210.994652 90 \r\n\" style=\"fill:none;stroke:#ff7f0e;stroke-linecap:square;stroke-width:1.5;\"/>\r\n   </g>\r\n   <g id=\"line2d_73\">\r\n    <path clip-path=\"url(#p9555be4a98)\" d=\"M 288 90 \r\nL 210.994652 90 \r\n\" style=\"fill:none;stroke:#2ca02c;stroke-linecap:square;stroke-width:1.5;\"/>\r\n   </g>\r\n   <g id=\"line2d_74\">\r\n    <path clip-path=\"url(#p9555be4a98)\" d=\"M 288 90 \r\nL 210.994652 49.090909 \r\n\" style=\"fill:none;stroke:#d62728;stroke-linecap:square;stroke-width:1.5;\"/>\r\n   </g>\r\n   <g id=\"line2d_75\">\r\n    <path clip-path=\"url(#p9555be4a98)\" d=\"M 288 90 \r\nL 249.497326 171.818182 \r\n\" style=\"fill:none;stroke:#9467bd;stroke-linecap:square;stroke-width:1.5;\"/>\r\n   </g>\r\n   <g id=\"line2d_76\">\r\n    <path clip-path=\"url(#p9555be4a98)\" d=\"M 288 90 \r\nL 249.497326 90 \r\n\" style=\"fill:none;stroke:#8c564b;stroke-linecap:square;stroke-width:1.5;\"/>\r\n   </g>\r\n   <g id=\"line2d_77\">\r\n    <path clip-path=\"url(#p9555be4a98)\" d=\"M 288 90 \r\nL 249.497326 90 \r\n\" style=\"fill:none;stroke:#e377c2;stroke-linecap:square;stroke-width:1.5;\"/>\r\n   </g>\r\n   <g id=\"line2d_78\">\r\n    <path clip-path=\"url(#p9555be4a98)\" d=\"M 288 90 \r\nL 249.497326 8.181818 \r\n\" style=\"fill:none;stroke:#7f7f7f;stroke-linecap:square;stroke-width:1.5;\"/>\r\n   </g>\r\n   <g id=\"line2d_79\">\r\n    <path clip-path=\"url(#p9555be4a98)\" d=\"M 288 90 \r\nL 288 130.909091 \r\n\" style=\"fill:none;stroke:#bcbd22;stroke-linecap:square;stroke-width:1.5;\"/>\r\n   </g>\r\n   <g id=\"line2d_80\">\r\n    <path clip-path=\"url(#p9555be4a98)\" d=\"M 288 90 \r\nL 288 171.818182 \r\n\" style=\"fill:none;stroke:#17becf;stroke-linecap:square;stroke-width:1.5;\"/>\r\n   </g>\r\n   <g id=\"line2d_81\">\r\n    <path clip-path=\"url(#p9555be4a98)\" d=\"M 288 90 \r\nL 288 171.818182 \r\n\" style=\"fill:none;stroke:#1f77b4;stroke-linecap:square;stroke-width:1.5;\"/>\r\n   </g>\r\n   <g id=\"line2d_82\">\r\n    <path clip-path=\"url(#p9555be4a98)\" d=\"M 288 90 \r\nL 288 8.181818 \r\n\" style=\"fill:none;stroke:#ff7f0e;stroke-linecap:square;stroke-width:1.5;\"/>\r\n   </g>\r\n   <g id=\"line2d_83\">\r\n    <path clip-path=\"url(#p9555be4a98)\" d=\"M 288 90 \r\nL 288 8.181818 \r\n\" style=\"fill:none;stroke:#2ca02c;stroke-linecap:square;stroke-width:1.5;\"/>\r\n   </g>\r\n   <g id=\"line2d_84\">\r\n    <path clip-path=\"url(#p9555be4a98)\" d=\"M 288 90 \r\nL 288 130.909091 \r\n\" style=\"fill:none;stroke:#d62728;stroke-linecap:square;stroke-width:1.5;\"/>\r\n   </g>\r\n   <g id=\"line2d_85\">\r\n    <path clip-path=\"url(#p9555be4a98)\" d=\"M 288 90 \r\nL 288 49.090909 \r\n\" style=\"fill:none;stroke:#9467bd;stroke-linecap:square;stroke-width:1.5;\"/>\r\n   </g>\r\n   <g id=\"line2d_86\">\r\n    <path clip-path=\"url(#p9555be4a98)\" d=\"M 288 90 \r\nL 288 49.090909 \r\n\" style=\"fill:none;stroke:#8c564b;stroke-linecap:square;stroke-width:1.5;\"/>\r\n   </g>\r\n   <g id=\"line2d_87\">\r\n    <path clip-path=\"url(#p9555be4a98)\" d=\"M 288 90 \r\nL 326.502674 171.818182 \r\n\" style=\"fill:none;stroke:#e377c2;stroke-linecap:square;stroke-width:1.5;\"/>\r\n   </g>\r\n   <g id=\"line2d_88\">\r\n    <path clip-path=\"url(#p9555be4a98)\" d=\"M 288 90 \r\nL 326.502674 90 \r\n\" style=\"fill:none;stroke:#7f7f7f;stroke-linecap:square;stroke-width:1.5;\"/>\r\n   </g>\r\n   <g id=\"line2d_89\">\r\n    <path clip-path=\"url(#p9555be4a98)\" d=\"M 288 90 \r\nL 326.502674 8.181818 \r\n\" style=\"fill:none;stroke:#bcbd22;stroke-linecap:square;stroke-width:1.5;\"/>\r\n   </g>\r\n   <g id=\"line2d_90\">\r\n    <path clip-path=\"url(#p9555be4a98)\" d=\"M 288 90 \r\nL 326.502674 90 \r\n\" style=\"fill:none;stroke:#17becf;stroke-linecap:square;stroke-width:1.5;\"/>\r\n   </g>\r\n   <g id=\"line2d_91\">\r\n    <path clip-path=\"url(#p9555be4a98)\" d=\"M 288 90 \r\nL 365.005348 130.909091 \r\n\" style=\"fill:none;stroke:#1f77b4;stroke-linecap:square;stroke-width:1.5;\"/>\r\n   </g>\r\n   <g id=\"line2d_92\">\r\n    <path clip-path=\"url(#p9555be4a98)\" d=\"M 288 90 \r\nL 365.005348 90 \r\n\" style=\"fill:none;stroke:#ff7f0e;stroke-linecap:square;stroke-width:1.5;\"/>\r\n   </g>\r\n   <g id=\"line2d_93\">\r\n    <path clip-path=\"url(#p9555be4a98)\" d=\"M 288 90 \r\nL 365.005348 90 \r\n\" style=\"fill:none;stroke:#2ca02c;stroke-linecap:square;stroke-width:1.5;\"/>\r\n   </g>\r\n   <g id=\"line2d_94\">\r\n    <path clip-path=\"url(#p9555be4a98)\" d=\"M 288 90 \r\nL 365.005348 49.090909 \r\n\" style=\"fill:none;stroke:#d62728;stroke-linecap:square;stroke-width:1.5;\"/>\r\n   </g>\r\n   <g id=\"patch_9\">\r\n    <path d=\"M 203.294118 180 \r\nL 203.294118 0 \r\n\" style=\"fill:none;stroke:#000000;stroke-linecap:square;stroke-linejoin:miter;stroke-width:0.4;\"/>\r\n   </g>\r\n   <g id=\"patch_10\">\r\n    <path d=\"M 372.705882 180 \r\nL 372.705882 0 \r\n\" style=\"fill:none;stroke:#000000;stroke-linecap:square;stroke-linejoin:miter;stroke-width:0.4;\"/>\r\n   </g>\r\n   <g id=\"patch_11\">\r\n    <path d=\"M 203.294118 180 \r\nL 372.705882 180 \r\n\" style=\"fill:none;stroke:#000000;stroke-linecap:square;stroke-linejoin:miter;stroke-width:0.4;\"/>\r\n   </g>\r\n   <g id=\"patch_12\">\r\n    <path d=\"M 203.294118 0 \r\nL 372.705882 0 \r\n\" style=\"fill:none;stroke:#000000;stroke-linecap:square;stroke-linejoin:miter;stroke-width:0.4;\"/>\r\n   </g>\r\n   <g id=\"text_30\">\r\n    <g id=\"patch_13\">\r\n     <path d=\"M 216.235294 24.170312 \r\nL 255.336857 24.170312 \r\nL 255.336857 7.170312 \r\nL 216.235294 7.170312 \r\nz\r\n\" style=\"fill:#ffffff;opacity:0.9;stroke:#ffffff;stroke-linejoin:miter;\"/>\r\n    </g>\r\n    <!-- vertices -->\r\n    <defs>\r\n     <path d=\"M 47.703125 45 \r\nL 47.703125 43.5 \r\nQ 45.40625 43.296875 44.296875 42 \r\nQ 43.203125 40.703125 41.203125 35.703125 \r\nL 28.40625 3.59375 \r\nQ 26.40625 -1.40625 25.59375 -1.40625 \r\nQ 24.796875 -1.40625 23.796875 1.203125 \r\nQ 23.59375 1.5 23.390625 2.203125 \r\nQ 23.203125 2.90625 23 3.296875 \r\nL 11 32 \r\nQ 7.796875 39.59375 6.296875 41.4375 \r\nQ 4.796875 43.296875 1.90625 43.5 \r\nL 1.90625 45 \r\nL 21.5 45 \r\nL 21.5 43.5 \r\nQ 18.90625 43.296875 17.90625 42.6875 \r\nQ 16.90625 42.09375 16.90625 40.796875 \r\nQ 16.90625 39.203125 17.796875 37 \r\nL 28 11.40625 \r\nL 37.90625 37.296875 \r\nQ 38.5 38.796875 38.5 40.296875 \r\nQ 38.5 43.09375 33.796875 43.5 \r\nL 33.796875 45 \r\nz\r\n\" id=\"STIXGeneral-Regular-118\"/>\r\n     <path d=\"M 40.796875 16.40625 \r\nL 42.40625 15.703125 \r\nQ 36.40625 -1 21.5 -1 \r\nQ 12.703125 -1 7.59375 5.140625 \r\nQ 2.5 11.296875 2.5 21.703125 \r\nQ 2.5 32.40625 8.203125 39.203125 \r\nQ 13.90625 46 23.203125 46 \r\nQ 32.203125 46 37.09375 39.09375 \r\nQ 40 35.09375 40.5 27.703125 \r\nL 9.703125 27.703125 \r\nQ 10.09375 21.40625 10.9375 18.09375 \r\nQ 11.796875 14.796875 14.296875 11.40625 \r\nQ 18.5 5.90625 25.40625 5.90625 \r\nQ 30.296875 5.90625 33.640625 8.296875 \r\nQ 37 10.703125 40.796875 16.40625 \r\nz\r\nM 9.90625 30.90625 \r\nL 30.296875 30.90625 \r\nQ 29.40625 37.203125 27.34375 39.796875 \r\nQ 25.296875 42.40625 20.5 42.40625 \r\nQ 16.296875 42.40625 13.5 39.453125 \r\nQ 10.703125 36.5 9.90625 30.90625 \r\nz\r\n\" id=\"STIXGeneral-Regular-101\"/>\r\n     <path d=\"M 26.59375 7.703125 \r\nL 27.90625 6.59375 \r\nQ 23.09375 -1 15.796875 -1 \r\nQ 7 -1 7 11.703125 \r\nL 7 41.796875 \r\nL 1.703125 41.796875 \r\nQ 1.296875 42.09375 1.296875 42.5 \r\nQ 1.296875 43.296875 3 44.40625 \r\nQ 6.796875 46.59375 12.703125 55.09375 \r\nQ 12.90625 55.40625 13.65625 56.34375 \r\nQ 14.40625 57.296875 14.703125 57.90625 \r\nQ 15.40625 57.90625 15.40625 56.59375 \r\nL 15.40625 45 \r\nL 25.5 45 \r\nL 25.5 41.796875 \r\nL 15.40625 41.796875 \r\nL 15.40625 13.203125 \r\nQ 15.40625 8.40625 16.59375 6.296875 \r\nQ 17.796875 4.203125 20.59375 4.203125 \r\nQ 23.59375 4.203125 26.59375 7.703125 \r\nz\r\n\" id=\"STIXGeneral-Regular-116\"/>\r\n     <path d=\"M 18 63.203125 \r\nQ 18 61 16.5 59.546875 \r\nQ 15 58.09375 12.796875 58.09375 \r\nQ 10.703125 58.09375 9.25 59.546875 \r\nQ 7.796875 61 7.796875 63.203125 \r\nQ 7.796875 65.296875 9.296875 66.796875 \r\nQ 10.796875 68.296875 12.90625 68.296875 \r\nQ 15.09375 68.296875 16.546875 66.796875 \r\nQ 18 65.296875 18 63.203125 \r\nz\r\nM 25.296875 0 \r\nL 1.59375 0 \r\nL 1.59375 1.5 \r\nQ 6.796875 1.796875 8.140625 3.296875 \r\nQ 9.5 4.796875 9.5 10.40625 \r\nL 9.5 33.09375 \r\nQ 9.5 36.59375 8.796875 38 \r\nQ 8.09375 39.40625 6.203125 39.40625 \r\nQ 3.796875 39.40625 2 38.90625 \r\nL 2 40.5 \r\nL 17.5 46 \r\nL 17.90625 45.59375 \r\nL 17.90625 10.5 \r\nQ 17.90625 4.90625 19.15625 3.40625 \r\nQ 20.40625 1.90625 25.296875 1.5 \r\nz\r\n\" id=\"STIXGeneral-Regular-105\"/>\r\n     <path d=\"M 39.796875 15.59375 \r\nL 41.203125 14.703125 \r\nQ 36.90625 6.296875 33 3.203125 \r\nQ 27.90625 -1 21.5 -1 \r\nQ 13.203125 -1 7.84375 5.25 \r\nQ 2.5 11.5 2.5 21.203125 \r\nQ 2.5 33.90625 10.90625 40.90625 \r\nQ 17.09375 46 24.40625 46 \r\nQ 30.703125 46 35.25 42.953125 \r\nQ 39.796875 39.90625 39.796875 35.703125 \r\nQ 39.796875 34 38.390625 32.75 \r\nQ 37 31.5 35.09375 31.5 \r\nQ 31.59375 31.5 30.296875 36.09375 \r\nL 29.703125 38.296875 \r\nQ 28.90625 41.09375 27.703125 42.09375 \r\nQ 26.5 43.09375 23.796875 43.09375 \r\nQ 17.703125 43.09375 13.953125 38.296875 \r\nQ 10.203125 33.5 10.203125 25.703125 \r\nQ 10.203125 17.09375 14.5 11.640625 \r\nQ 18.796875 6.203125 25.703125 6.203125 \r\nQ 30 6.203125 33.09375 8.25 \r\nQ 36.203125 10.296875 39.796875 15.59375 \r\nz\r\n\" id=\"STIXGeneral-Regular-99\"/>\r\n    </defs>\r\n    <g style=\"fill:#ff0000;\" transform=\"translate(220.235294 18)scale(0.1 -0.1)\">\r\n     <use xlink:href=\"#STIXGeneral-Regular-118\"/>\r\n     <use x=\"49.999985\" xlink:href=\"#STIXGeneral-Regular-101\"/>\r\n     <use x=\"94.399979\" xlink:href=\"#STIXGeneral-Regular-114\"/>\r\n     <use x=\"127.699966\" xlink:href=\"#STIXGeneral-Regular-116\"/>\r\n     <use x=\"155.499954\" xlink:href=\"#STIXGeneral-Regular-105\"/>\r\n     <use x=\"183.299942\" xlink:href=\"#STIXGeneral-Regular-99\"/>\r\n     <use x=\"227.699936\" xlink:href=\"#STIXGeneral-Regular-101\"/>\r\n     <use x=\"272.09993\" xlink:href=\"#STIXGeneral-Regular-115\"/>\r\n    </g>\r\n   </g>\r\n  </g>\r\n  <g id=\"patch_14\">\r\n   <path d=\"M 406.588235 180 \r\nL 576 180 \r\nL 576 0 \r\nL 406.588235 0 \r\nz\r\n\" style=\"fill:none;\"/>\r\n  </g>\r\n  <g id=\"axes_3\">\r\n   <g id=\"line2d_95\">\r\n    <path clip-path=\"url(#pa997345c77)\" d=\"M 493.680423 87.616214 \r\nL 529.933752 69.892022 \r\n\" style=\"fill:none;stroke:#000000;stroke-linecap:square;stroke-width:1.5;\"/>\r\n   </g>\r\n   <g id=\"line2d_96\">\r\n    <path clip-path=\"url(#pa997345c77)\" d=\"M 493.680423 87.616214 \r\nL 460.664817 21.373128 \r\n\" style=\"fill:none;stroke:#000000;stroke-linecap:square;stroke-width:1.5;\"/>\r\n   </g>\r\n   <g id=\"line2d_97\">\r\n    <path clip-path=\"url(#pa997345c77)\" d=\"M 493.680423 87.616214 \r\nL 445.228292 147.974512 \r\n\" style=\"fill:none;stroke:#000000;stroke-linecap:square;stroke-width:1.5;\"/>\r\n   </g>\r\n   <g id=\"Poly3DCollection_1\">\r\n    <path clip-path=\"url(#pa997345c77)\" d=\"M 480.971301 64.922484 \r\nL 500.706479 45.954835 \r\nL 520.400043 68.474502 \r\nL 500.537428 86.938315 \r\nL 480.971301 64.922484 \r\nz\r\n\" style=\"fill:#bfbf00;fill-opacity:0.9;stroke:#ffffff;\"/>\r\n    <path clip-path=\"url(#pa997345c77)\" d=\"M 453.547318 104.479136 \r\nL 457.329738 73.292378 \r\nL 480.971301 64.922484 \r\nL 500.537428 86.938315 \r\nL 497.129739 117.468381 \r\nL 473.788955 126.634485 \r\nL 453.547318 104.479136 \r\nz\r\n\" style=\"fill:#0000ff;fill-opacity:0.9;stroke:#ffffff;\"/>\r\n    <path clip-path=\"url(#pa997345c77)\" d=\"M 497.129739 117.468381 \r\nL 513.699978 130.646345 \r\nL 490.093602 140.228622 \r\nL 473.788955 126.634485 \r\nL 497.129739 117.468381 \r\nz\r\n\" style=\"fill:#ff0000;fill-opacity:0.9;stroke:#ffffff;\"/>\r\n    <path clip-path=\"url(#pa997345c77)\" d=\"M 534.355555 112.329037 \r\nL 513.699978 130.646345 \r\nL 497.129739 117.468381 \r\nL 500.537428 86.938315 \r\nL 520.400043 68.474502 \r\nL 537.640743 80.668825 \r\nL 534.355555 112.329037 \r\nz\r\n\" style=\"fill:#008000;fill-opacity:0.9;stroke:#ffffff;\"/>\r\n    <path clip-path=\"url(#pa997345c77)\" d=\"M 472.77958 42.691841 \r\nL 497.307676 34.410722 \r\nL 500.706479 45.954835 \r\nL 480.971301 64.922484 \r\nL 457.329738 73.292378 \r\nL 452.54285 62.622429 \r\nL 472.77958 42.691841 \r\nz\r\n\" style=\"fill:#bfbf00;fill-opacity:0.9;stroke:#ffffff;\"/>\r\n    <path clip-path=\"url(#pa997345c77)\" d=\"M 452.54285 62.622429 \r\nL 457.329738 73.292378 \r\nL 453.547318 104.479136 \r\nL 448.605265 94.739789 \r\nL 452.54285 62.622429 \r\nz\r\n\" style=\"fill:#bfbf00;fill-opacity:0.9;stroke:#ffffff;\"/>\r\n    <path clip-path=\"url(#pa997345c77)\" d=\"M 535.392717 70.089756 \r\nL 537.640743 80.668825 \r\nL 520.400043 68.474502 \r\nL 500.706479 45.954835 \r\nL 497.307676 34.410722 \r\nL 514.732973 46.320412 \r\nL 535.392717 70.089756 \r\nz\r\n\" style=\"fill:#008000;fill-opacity:0.9;stroke:#ffffff;\"/>\r\n    <path clip-path=\"url(#pa997345c77)\" d=\"M 448.605265 94.739789 \r\nL 453.547318 104.479136 \r\nL 473.788955 126.634485 \r\nL 490.093602 140.228622 \r\nL 486.276128 131.520377 \r\nL 465.006845 108.157725 \r\nL 448.605265 94.739789 \r\nz\r\n\" style=\"fill:#ff0000;fill-opacity:0.9;stroke:#ffffff;\"/>\r\n    <path clip-path=\"url(#pa997345c77)\" d=\"M 531.984343 102.709715 \r\nL 534.355555 112.329037 \r\nL 537.640743 80.668825 \r\nL 535.392717 70.089756 \r\nL 531.984343 102.709715 \r\nz\r\n\" style=\"fill:#bf00bf;fill-opacity:0.9;stroke:#ffffff;\"/>\r\n    <path clip-path=\"url(#pa997345c77)\" d=\"M 507.506559 112.304514 \r\nL 486.276128 131.520377 \r\nL 490.093602 140.228622 \r\nL 513.699978 130.646345 \r\nL 534.355555 112.329037 \r\nL 531.984343 102.709715 \r\nL 507.506559 112.304514 \r\nz\r\n\" style=\"fill:#bf00bf;fill-opacity:0.9;stroke:#ffffff;\"/>\r\n    <path clip-path=\"url(#pa997345c77)\" d=\"M 514.732973 46.320412 \r\nL 497.307676 34.410722 \r\nL 472.77958 42.691841 \r\nL 489.911408 54.99722 \r\nL 514.732973 46.320412 \r\nz\r\n\" style=\"fill:#0000ff;fill-opacity:0.9;stroke:#ffffff;\"/>\r\n    <path clip-path=\"url(#pa997345c77)\" d=\"M 465.006845 108.157725 \r\nL 486.084001 88.367213 \r\nL 489.911408 54.99722 \r\nL 472.77958 42.691841 \r\nL 452.54285 62.622429 \r\nL 448.605265 94.739789 \r\nL 465.006845 108.157725 \r\nz\r\n\" style=\"fill:#00bfbf;fill-opacity:0.9;stroke:#ffffff;\"/>\r\n    <path clip-path=\"url(#pa997345c77)\" d=\"M 531.984343 102.709715 \r\nL 535.392717 70.089756 \r\nL 514.732973 46.320412 \r\nL 489.911408 54.99722 \r\nL 486.084001 88.367213 \r\nL 507.506559 112.304514 \r\nL 531.984343 102.709715 \r\nz\r\n\" style=\"fill:#008000;fill-opacity:0.9;stroke:#ffffff;\"/>\r\n    <path clip-path=\"url(#pa997345c77)\" d=\"M 486.084001 88.367213 \r\nL 465.006845 108.157725 \r\nL 486.276128 131.520377 \r\nL 507.506559 112.304514 \r\nL 486.084001 88.367213 \r\nz\r\n\" style=\"fill:#bf00bf;fill-opacity:0.9;stroke:#ffffff;\"/>\r\n   </g>\r\n   <g id=\"text_31\">\r\n    <!-- faces+basis -->\r\n    <defs>\r\n     <path d=\"M 2.09375 45 \r\nL 10.296875 45 \r\nQ 10.40625 51 11.09375 54.34375 \r\nQ 11.796875 57.703125 13.796875 61.09375 \r\nQ 18 68.296875 27.90625 68.296875 \r\nQ 32.40625 68.296875 35.34375 66.546875 \r\nQ 38.296875 64.796875 38.296875 62.09375 \r\nQ 38.296875 60.40625 37.09375 59.203125 \r\nQ 35.90625 58 34.09375 58 \r\nQ 31.703125 58 29.59375 61.59375 \r\nQ 27.203125 65.5 24.296875 65.5 \r\nQ 18.703125 65.5 18.703125 56.59375 \r\nL 18.703125 45 \r\nL 30.90625 45 \r\nL 30.90625 41.796875 \r\nL 18.703125 41.796875 \r\nL 18.703125 10.40625 \r\nQ 18.703125 4.796875 20.296875 3.25 \r\nQ 21.90625 1.703125 28 1.5 \r\nL 28 0 \r\nL 2 0 \r\nL 2 1.5 \r\nQ 7.40625 1.796875 8.84375 3.34375 \r\nQ 10.296875 4.90625 10.296875 10.40625 \r\nL 10.296875 41.796875 \r\nL 2.09375 41.796875 \r\nz\r\n\" id=\"STIXGeneral-Regular-102\"/>\r\n     <path d=\"M 63.59375 22 \r\nL 37.5 22 \r\nL 37.5 -4.09375 \r\nL 30.90625 -4.09375 \r\nL 30.90625 22 \r\nL 4.796875 22 \r\nL 4.796875 28.59375 \r\nL 30.90625 28.59375 \r\nL 30.90625 54.703125 \r\nL 37.5 54.703125 \r\nL 37.5 28.59375 \r\nL 63.59375 28.59375 \r\nz\r\n\" id=\"STIXGeneral-Regular-43\"/>\r\n     <path d=\"M 15.296875 68.09375 \r\nL 15.296875 37.59375 \r\nQ 16.90625 41.40625 20.546875 43.703125 \r\nQ 24.203125 46 28.796875 46 \r\nQ 36.703125 46 41.75 39.703125 \r\nQ 46.796875 33.40625 46.796875 24 \r\nQ 46.796875 13 40.09375 6 \r\nQ 33.40625 -1 23.40625 -1 \r\nQ 17.296875 -1 12.09375 1.046875 \r\nQ 6.90625 3.09375 6.90625 5.59375 \r\nL 6.90625 56.59375 \r\nQ 6.90625 60.296875 6 61.34375 \r\nQ 5.09375 62.40625 2 62.40625 \r\nQ 1.296875 62.40625 0.296875 62.203125 \r\nL 0.296875 63.90625 \r\nL 3.296875 64.796875 \r\nQ 13.5 67.90625 14.796875 68.296875 \r\nz\r\nM 15.296875 31.796875 \r\nL 15.296875 7.40625 \r\nQ 15.296875 5.09375 18.140625 3.640625 \r\nQ 21 2.203125 25 2.203125 \r\nQ 30.90625 2.203125 34.296875 6.5 \r\nQ 38 11.09375 38 19.703125 \r\nQ 38 29.5 34.09375 35 \r\nQ 30.796875 39.703125 25.203125 39.703125 \r\nQ 21.203125 39.703125 18.25 37.34375 \r\nQ 15.296875 35 15.296875 31.796875 \r\nz\r\n\" id=\"STIXGeneral-Regular-98\"/>\r\n    </defs>\r\n    <g transform=\"translate(462.857868 8.4)scale(0.12 -0.12)\">\r\n     <use xlink:href=\"#STIXGeneral-Regular-102\"/>\r\n     <use x=\"33.299988\" xlink:href=\"#STIXGeneral-Regular-97\"/>\r\n     <use x=\"77.699982\" xlink:href=\"#STIXGeneral-Regular-99\"/>\r\n     <use x=\"122.099976\" xlink:href=\"#STIXGeneral-Regular-101\"/>\r\n     <use x=\"166.499969\" xlink:href=\"#STIXGeneral-Regular-115\"/>\r\n     <use x=\"205.399963\" xlink:href=\"#STIXGeneral-Regular-43\"/>\r\n     <use x=\"273.899948\" xlink:href=\"#STIXGeneral-Regular-98\"/>\r\n     <use x=\"323.899933\" xlink:href=\"#STIXGeneral-Regular-97\"/>\r\n     <use x=\"368.299927\" xlink:href=\"#STIXGeneral-Regular-115\"/>\r\n     <use x=\"407.199921\" xlink:href=\"#STIXGeneral-Regular-105\"/>\r\n     <use x=\"434.999908\" xlink:href=\"#STIXGeneral-Regular-115\"/>\r\n    </g>\r\n   </g>\r\n  </g>\r\n </g>\r\n <defs>\r\n  <clipPath id=\"pa547510725\">\r\n   <rect height=\"180\" width=\"169.411765\" x=\"0\" y=\"0\"/>\r\n  </clipPath>\r\n  <clipPath id=\"p9555be4a98\">\r\n   <rect height=\"180\" width=\"169.411765\" x=\"203.294118\" y=\"0\"/>\r\n  </clipPath>\r\n  <clipPath id=\"pa997345c77\">\r\n   <rect height=\"180\" width=\"169.411765\" x=\"406.588235\" y=\"0\"/>\r\n  </clipPath>\r\n </defs>\r\n</svg>\r\n",
      "text/plain": [
       "<IPython.core.display.HTML object>"
      ]
     },
     "execution_count": null,
     "metadata": {},
     "output_type": "execute_result"
    },
    {
     "data": {
      "text/plain": "<Figure size 576x180 with 0 Axes>"
     },
     "metadata": {},
     "output_type": "display_data"
    }
   ],
   "source": [
    "import matplotlib.pyplot as plt \n",
    "from mpl_toolkits import mplot3d\n",
    "from mpl_toolkits.mplot3d.art3d import Poly3DCollection\n",
    "import pivotpy.s_plots as sp\n",
    "axs = sp.init_figure(figsize=(8,2.5),left=0,top=1,bottom=0,right=1,ncols=3)\n",
    "pos = axs[2].get_position()\n",
    "axs[2].remove()\n",
    "for y in normals:\n",
    "    axs[0].plot([0,y[0]],[0,y[1]])\n",
    "for y in vertices:\n",
    "    axs[1].plot([0,y[0]],[0,y[1]])\n",
    "# 3D\n",
    "ax3d = plt.gcf().add_axes(pos,projection='3d',azim=100,elev=30)\n",
    "colors=['m', 'g', 'b', 'y','c', 'm', 'r', 'y','g', 'b', 'g', 'm','y', 'r']\n",
    "ax3d.add_collection3d(Poly3DCollection(faces,edgecolors=['w'],facecolors=colors[:len(faces)], alpha=0.9))\n",
    "for y in basis:\n",
    "    ax3d.plot3D([0,y[0]],[0,y[1]],[0,y[2]],color='k')\n",
    "ax3d.set_axis_off()\n",
    "#for f in x.faces:\n",
    "#    ax3d.plot3D(f[:,0],f[:,1],f[:,2],color='r')\n",
    "#h2=ConvexHull(x.vertices)\n",
    "#for simplex in h2.simplices:\n",
    "#    simplex = np.append(simplex, simplex[0])\n",
    "#    ax.plot3D(vs[simplex, 0], vs[simplex, 1],vs[simplex, 2], 'r',lw=1)\n",
    "#ax.autoscale_view()\n",
    "#ax3d.set_xlim([-0.6,0.6])\n",
    "#ax3d.set_ylim([-0.6,0.6])\n",
    "#ax3d.set_zlim([-0.6,0.6])\n",
    "sp.add_text(axs[0],0.1,0.9,'normals')\n",
    "sp.add_text(axs[1],0.1,0.9,'vertices')\n",
    "plt.title('faces+basis')\n",
    "#plt.show()\n",
    "sp.plt_to_html()"
   ]
  },
  {
   "cell_type": "code",
   "execution_count": null,
   "metadata": {},
   "outputs": [],
   "source": [
    "#export\n",
    "def plot_bz(poscar_or_bz = None,fill = True,color = 'rgba(168,204,216,0.4)',background = 'rgb(255,255,255)'):\n",
    "    \"\"\"\n",
    "    - Plots interactive figure showing axes,BZ surface, special points and basis, each of which could be hidden or shown.\n",
    "    - **Parameters**\n",
    "        - pocar_or_bz: POSCAR or 3 basis vectors' list forming POSCAR. Auto picks in working directory. Plot conventional BZ if poscar is given. If you want to plot primitive BZ, first create it using `get_bz(primitive=True)`.\n",
    "        - fill       : True by defult, determines whether to fill surface of BZ or not.\n",
    "        - color      : color to fill surface 'rgba((168,204,216,0.4)` by default.\n",
    "        - background : Plot background color, default is 'rgb(255,255,255)'.\n",
    "    - **Returns**\n",
    "        - fig   : plotly.graph_object's Figure instance.\n",
    "    \"\"\"\n",
    "    if poscar_or_bz == None:\n",
    "        bz = get_bz(poscar_or_bz)\n",
    "    else:\n",
    "        try:\n",
    "            poscar_or_bz.basis\n",
    "            bz = poscar_or_bz\n",
    "        except AttributeError:\n",
    "            bz = get_bz(poscar_or_bz)\n",
    "\n",
    "    fig = go.Figure()\n",
    "    # Axes\n",
    "    fig.add_trace(go.Scatter3d(x=[0.25,0,0,0,0],y=[0,0,0.25,0,0],z=[0,0,0,0,0.25],\n",
    "        mode='lines+text',\n",
    "        text= [\"<b>k</b><sub>x</sub>\",\"\",\"<b>k</b><sub>y</sub>\",\"\",\"<b>k</b><sub>z</sub>\"],\n",
    "        line_color='green', legendgroup='Axes',name='Axes'))\n",
    "    fig.add_trace(go.Cone(x=[0.18,0,0],y=[0,0.18,0],z=[0,0,0.18],\n",
    "        u=[0.00001,0,0],v=[0,0.00001,0],w=[0,0,    0.00001],showscale=False,\n",
    "        colorscale='Greens',legendgroup='Axes',name='Axes'))\n",
    "    # Basis\n",
    "    for i,b in enumerate(bz.basis):\n",
    "        fig.add_trace(go.Scatter3d(x=[0,b[0]], y=[0,b[1]],z=[0,b[2]],\n",
    "            mode='lines+text',legendgroup=\"b<sub>{}</sub>\".format(i+1), line_color='red',\n",
    "            name=\"<b>b</b><sub>{}</sub>\".format(i+1),text=[\"\",\"<b>b</b><sub>{}</sub>\".format(i+1)]))\n",
    "        fig.add_trace(go.Cone(x=[0.95*b[0]],y=[0.95*b[1]],z=[0.95*b[2]],\n",
    "            u=[0.2*b[0]],v=[0.2*b[1]],w=[0.2*b  [2]],showscale=False,colorscale='Reds',\n",
    "            legendgroup=\"b<sub>{}</sub>\".format(i+1),name=\"<b>b</b><sub>{}</sub>\".format(i+1)))\n",
    "\n",
    "    # Faces\n",
    "    face_ind = 0\n",
    "    fill_axis = None # Placeholder\n",
    "    legend = True\n",
    "    for k,pts in enumerate(bz.faces):\n",
    "        if fill == False:\n",
    "            color = 'black'\n",
    "            fill_axis = None\n",
    "        elif fill == True:\n",
    "            face_dir = np.abs(centroid(np.unique(pts,axis=0))) # same fill axis in negative axes too\n",
    "            if np.max(face_dir) == face_dir[0]:\n",
    "                fill_axis = 0\n",
    "            elif np.max(face_dir) == face_dir[1]:\n",
    "                fill_axis = 1\n",
    "            elif np.max(face_dir) == face_dir[2]:\n",
    "                fill_axis = 2\n",
    "        if k != 0:\n",
    "            legend = False\n",
    "        fig.add_trace(go.Scatter3d(x=pts[:,0], y=pts[:,1],z=pts[:,2],\n",
    "            mode='lines',line_color=color,    legendgroup='BZ',name='BZ',\n",
    "            showlegend=legend,surfaceaxis=fill_axis))\n",
    "\n",
    "    # Special Points\n",
    "    texts,values =[],[]\n",
    "    for key,value in bz.specials.items():\n",
    "        norm = np.round(np.linalg.norm(value),5)\n",
    "        texts.append(\"P{}</br>d = {}\".format(key,norm))\n",
    "        values.append([[*value,norm]])\n",
    "\n",
    "    values = np.array(values).reshape((-1,4))\n",
    "    norm_max = np.max(values[:,3])\n",
    "    c_vals = np.array([int(v*255/norm_max) for v in values[:,3]])\n",
    "    colors = [0 for i in c_vals]\n",
    "    _unique = np.unique(np.sort(c_vals))[::-1]\n",
    "    _lnp = np.linspace(0,255,len(_unique)-1)\n",
    "    _u_colors = [\"rgb({},0,{})\".format(r,b) for b,r in zip(_lnp,_lnp[::-1])]\n",
    "    for _un,_uc in zip(_unique[:-1],_u_colors):\n",
    "        _index = np.where(c_vals == _un)[0]\n",
    "        for _ind in _index:\n",
    "            colors[_ind]=_uc\n",
    "\n",
    "    colors[0]= \"rgb(255,215,0)\" # Gold color at Gamma!.\n",
    "    fig.add_trace(go.Scatter3d(x=values[:,0], y=values[:,1],z=values[:,2],\n",
    "            hovertext=texts,name=\"HSK\",marker_color=colors,mode='markers'))\n",
    "\n",
    "    camera = dict(center=dict(x=0.1, y=0.1, z=0.1))\n",
    "    fig.update_layout(scene_camera=camera,paper_bgcolor=background,\n",
    "        font_family=\"Times New Roman\",font_size= 14,\n",
    "        scene = dict(aspectmode='data',xaxis = dict(showbackground=False,visible=False),\n",
    "                        yaxis = dict(showbackground=False,visible=False),\n",
    "                        zaxis = dict(showbackground=False,visible=False)),\n",
    "                        margin=dict(r=10, l=10,b=10, t=30))\n",
    "    return fig"
   ]
  },
  {
   "cell_type": "markdown",
   "metadata": {},
   "source": [
    "- Below is a BZ plot using command `plot_bz()`. Same color points lie on a sphere, with radius decreasing as red to blue and gamma point in gold color. These color help distinguishing points but the points not always be equivalent, for example in FCC, there are two points on mid of edges connecting square-hexagon and hexagon-hexagon at equal distance from center but not the same points."
   ]
  },
  {
   "cell_type": "code",
   "execution_count": null,
   "metadata": {},
   "outputs": [
    {
     "data": {
      "text/html": "<div>\n        <script src='https://cdn.plot.ly/plotly-latest.min.js'></script>\n            <div id='graph-8fa3aea8-4ad7-11eb-ab79-44032c5fd2c2'><!-- Plotly chart DIV --></div>\n            <script>\n                var data = {\"data\":[{\"legendgroup\":\"Axes\",\"line\":{\"color\":\"green\"},\"mode\":\"lines+text\",\"name\":\"Axes\",\"text\":[\"<b>k</b><sub>x</sub>\",\"\",\"<b>k</b><sub>y</sub>\",\"\",\"<b>k</b><sub>z</sub>\"],\"type\":\"scatter3d\",\"x\":[0.25,0,0,0,0],\"y\":[0,0,0.25,0,0],\"z\":[0,0,0,0,0.25]},{\"colorscale\":[[0.0,\"rgb(247,252,245)\"],[0.125,\"rgb(229,245,224)\"],[0.25,\"rgb(199,233,192)\"],[0.375,\"rgb(161,217,155)\"],[0.5,\"rgb(116,196,118)\"],[0.625,\"rgb(65,171,93)\"],[0.75,\"rgb(35,139,69)\"],[0.875,\"rgb(0,109,44)\"],[1.0,\"rgb(0,68,27)\"]],\"legendgroup\":\"Axes\",\"name\":\"Axes\",\"showscale\":false,\"type\":\"cone\",\"u\":[1e-05,0,0],\"v\":[0,1e-05,0],\"w\":[0,0,1e-05],\"x\":[0.18,0,0],\"y\":[0,0.18,0],\"z\":[0,0,0.18]},{\"legendgroup\":\"b<sub>1</sub>\",\"line\":{\"color\":\"red\"},\"mode\":\"lines+text\",\"name\":\"<b>b</b><sub>1</sub>\",\"text\":[\"\",\"<b>b</b><sub>1</sub>\"],\"type\":\"scatter3d\",\"x\":[0,1.0],\"y\":[0,0.0],\"z\":[0,0.0]},{\"colorscale\":[[0.0,\"rgb(255,245,240)\"],[0.125,\"rgb(254,224,210)\"],[0.25,\"rgb(252,187,161)\"],[0.375,\"rgb(252,146,114)\"],[0.5,\"rgb(251,106,74)\"],[0.625,\"rgb(239,59,44)\"],[0.75,\"rgb(203,24,29)\"],[0.875,\"rgb(165,15,21)\"],[1.0,\"rgb(103,0,13)\"]],\"legendgroup\":\"b<sub>1</sub>\",\"name\":\"<b>b</b><sub>1</sub>\",\"showscale\":false,\"type\":\"cone\",\"u\":[0.2],\"v\":[0.0],\"w\":[0.0],\"x\":[0.95],\"y\":[0.0],\"z\":[0.0]},{\"legendgroup\":\"b<sub>2</sub>\",\"line\":{\"color\":\"red\"},\"mode\":\"lines+text\",\"name\":\"<b>b</b><sub>2</sub>\",\"text\":[\"\",\"<b>b</b><sub>2</sub>\"],\"type\":\"scatter3d\",\"x\":[0,0.0],\"y\":[0,1.0],\"z\":[0,0.0]},{\"colorscale\":[[0.0,\"rgb(255,245,240)\"],[0.125,\"rgb(254,224,210)\"],[0.25,\"rgb(252,187,161)\"],[0.375,\"rgb(252,146,114)\"],[0.5,\"rgb(251,106,74)\"],[0.625,\"rgb(239,59,44)\"],[0.75,\"rgb(203,24,29)\"],[0.875,\"rgb(165,15,21)\"],[1.0,\"rgb(103,0,13)\"]],\"legendgroup\":\"b<sub>2</sub>\",\"name\":\"<b>b</b><sub>2</sub>\",\"showscale\":false,\"type\":\"cone\",\"u\":[0.0],\"v\":[0.2],\"w\":[0.0],\"x\":[0.0],\"y\":[0.95],\"z\":[0.0]},{\"legendgroup\":\"b<sub>3</sub>\",\"line\":{\"color\":\"red\"},\"mode\":\"lines+text\",\"name\":\"<b>b</b><sub>3</sub>\",\"text\":[\"\",\"<b>b</b><sub>3</sub>\"],\"type\":\"scatter3d\",\"x\":[0,0.0],\"y\":[0,0.0],\"z\":[0,1.0]},{\"colorscale\":[[0.0,\"rgb(255,245,240)\"],[0.125,\"rgb(254,224,210)\"],[0.25,\"rgb(252,187,161)\"],[0.375,\"rgb(252,146,114)\"],[0.5,\"rgb(251,106,74)\"],[0.625,\"rgb(239,59,44)\"],[0.75,\"rgb(203,24,29)\"],[0.875,\"rgb(165,15,21)\"],[1.0,\"rgb(103,0,13)\"]],\"legendgroup\":\"b<sub>3</sub>\",\"name\":\"<b>b</b><sub>3</sub>\",\"showscale\":false,\"type\":\"cone\",\"u\":[0.0],\"v\":[0.0],\"w\":[0.2],\"x\":[0.0],\"y\":[0.0],\"z\":[0.95]},{\"legendgroup\":\"BZ\",\"line\":{\"color\":\"rgba(168,204,216,0.4)\"},\"mode\":\"lines\",\"name\":\"BZ\",\"showlegend\":true,\"surfaceaxis\":1,\"type\":\"scatter3d\",\"x\":[0.5,0.5,-0.5,-0.5,0.5],\"y\":[0.5,0.5,0.5,0.5,0.5],\"z\":[0.5,-0.5,-0.5,0.5,0.5]},{\"legendgroup\":\"BZ\",\"line\":{\"color\":\"rgba(168,204,216,0.4)\"},\"mode\":\"lines\",\"name\":\"BZ\",\"showlegend\":false,\"surfaceaxis\":2,\"type\":\"scatter3d\",\"x\":[-0.5,0.5,0.5,-0.5,-0.5],\"y\":[-0.5,-0.5,0.5,0.5,-0.5],\"z\":[0.5,0.5,0.5,0.5,0.5]},{\"legendgroup\":\"BZ\",\"line\":{\"color\":\"rgba(168,204,216,0.4)\"},\"mode\":\"lines\",\"name\":\"BZ\",\"showlegend\":false,\"surfaceaxis\":2,\"type\":\"scatter3d\",\"x\":[0.5,-0.5,-0.5,0.5,0.5],\"y\":[-0.5,-0.5,0.5,0.5,-0.5],\"z\":[-0.5,-0.5,-0.5,-0.5,-0.5]},{\"legendgroup\":\"BZ\",\"line\":{\"color\":\"rgba(168,204,216,0.4)\"},\"mode\":\"lines\",\"name\":\"BZ\",\"showlegend\":false,\"surfaceaxis\":1,\"type\":\"scatter3d\",\"x\":[-0.5,0.5,0.5,-0.5,-0.5],\"y\":[-0.5,-0.5,-0.5,-0.5,-0.5],\"z\":[-0.5,-0.5,0.5,0.5,-0.5]},{\"legendgroup\":\"BZ\",\"line\":{\"color\":\"rgba(168,204,216,0.4)\"},\"mode\":\"lines\",\"name\":\"BZ\",\"showlegend\":false,\"surfaceaxis\":0,\"type\":\"scatter3d\",\"x\":[-0.5,-0.5,-0.5,-0.5,-0.5],\"y\":[0.5,-0.5,-0.5,0.5,0.5],\"z\":[-0.5,-0.5,0.5,0.5,-0.5]},{\"legendgroup\":\"BZ\",\"line\":{\"color\":\"rgba(168,204,216,0.4)\"},\"mode\":\"lines\",\"name\":\"BZ\",\"showlegend\":false,\"surfaceaxis\":0,\"type\":\"scatter3d\",\"x\":[0.5,0.5,0.5,0.5,0.5],\"y\":[-0.5,-0.5,0.5,0.5,-0.5],\"z\":[0.5,-0.5,-0.5,0.5,0.5]},{\"hovertext\":[\"P(0.0, 0.0, 0.0)</br>d = 0.0\",\"P(0.0, 0.5, 0.0)</br>d = 0.5\",\"P(0.0, 0.0, 0.5)</br>d = 0.5\",\"P(0.0, 0.0, -0.5)</br>d = 0.5\",\"P(0.0, -0.5, 0.0)</br>d = 0.5\",\"P(-0.5, 0.0, 0.0)</br>d = 0.5\",\"P(0.5, 0.0, 0.0)</br>d = 0.5\",\"P(-0.5, -0.5, 0.0)</br>d = 0.70711\",\"P(-0.5, 0.0, -0.5)</br>d = 0.70711\",\"P(-0.5, 0.0, 0.5)</br>d = 0.70711\",\"P(-0.5, 0.5, 0.0)</br>d = 0.70711\",\"P(0.0, -0.5, -0.5)</br>d = 0.70711\",\"P(0.0, -0.5, 0.5)</br>d = 0.70711\",\"P(0.0, 0.5, -0.5)</br>d = 0.70711\",\"P(0.0, 0.5, 0.5)</br>d = 0.70711\",\"P(0.5, -0.5, 0.0)</br>d = 0.70711\",\"P(0.5, 0.0, -0.5)</br>d = 0.70711\",\"P(0.5, 0.0, 0.5)</br>d = 0.70711\",\"P(0.5, 0.5, 0.0)</br>d = 0.70711\",\"P(-0.5, -0.5, -0.5)</br>d = 0.86603\",\"P(-0.5, -0.5, 0.5)</br>d = 0.86603\",\"P(-0.5, 0.5, -0.5)</br>d = 0.86603\",\"P(-0.5, 0.5, 0.5)</br>d = 0.86603\",\"P(0.5, -0.5, -0.5)</br>d = 0.86603\",\"P(0.5, -0.5, 0.5)</br>d = 0.86603\",\"P(0.5, 0.5, -0.5)</br>d = 0.86603\",\"P(0.5, 0.5, 0.5)</br>d = 0.86603\"],\"marker\":{\"color\":[\"rgb(255,215,0)\",\"rgb(0.0,0,255.0)\",\"rgb(0.0,0,255.0)\",\"rgb(0.0,0,255.0)\",\"rgb(0.0,0,255.0)\",\"rgb(0.0,0,255.0)\",\"rgb(0.0,0,255.0)\",\"rgb(127.5,0,127.5)\",\"rgb(127.5,0,127.5)\",\"rgb(127.5,0,127.5)\",\"rgb(127.5,0,127.5)\",\"rgb(127.5,0,127.5)\",\"rgb(127.5,0,127.5)\",\"rgb(127.5,0,127.5)\",\"rgb(127.5,0,127.5)\",\"rgb(127.5,0,127.5)\",\"rgb(127.5,0,127.5)\",\"rgb(127.5,0,127.5)\",\"rgb(127.5,0,127.5)\",\"rgb(255.0,0,0.0)\",\"rgb(255.0,0,0.0)\",\"rgb(255.0,0,0.0)\",\"rgb(255.0,0,0.0)\",\"rgb(255.0,0,0.0)\",\"rgb(255.0,0,0.0)\",\"rgb(255.0,0,0.0)\",\"rgb(255.0,0,0.0)\"]},\"mode\":\"markers\",\"name\":\"HSK\",\"type\":\"scatter3d\",\"x\":[0.0,0.0,0.0,0.0,0.0,-0.5,0.5,-0.5,-0.5,-0.5,-0.5,0.0,0.0,0.0,0.0,0.5,0.5,0.5,0.5,-0.5,-0.5,-0.5,-0.5,0.5,0.5,0.5,0.5],\"y\":[0.0,0.5,0.0,0.0,-0.5,0.0,0.0,-0.5,0.0,0.0,0.5,-0.5,-0.5,0.5,0.5,-0.5,0.0,0.0,0.5,-0.5,-0.5,0.5,0.5,-0.5,-0.5,0.5,0.5],\"z\":[0.0,0.0,0.5,-0.5,0.0,0.0,0.0,0.0,-0.5,0.5,0.0,-0.5,0.5,-0.5,0.5,0.0,-0.5,0.5,0.0,-0.5,0.5,-0.5,0.5,-0.5,0.5,-0.5,0.5]}],\"layout\":{\"font\":{\"family\":\"Times New Roman\",\"size\":14},\"margin\":{\"b\":10,\"l\":10,\"r\":10,\"t\":30},\"paper_bgcolor\":\"rgb(255,255,255)\",\"scene\":{\"aspectmode\":\"data\",\"camera\":{\"center\":{\"x\":0.1,\"y\":0.1,\"z\":0.1}},\"xaxis\":{\"showbackground\":false,\"visible\":false},\"yaxis\":{\"showbackground\":false,\"visible\":false},\"zaxis\":{\"showbackground\":false,\"visible\":false}},\"template\":{\"data\":{\"bar\":[{\"error_x\":{\"color\":\"#2a3f5f\"},\"error_y\":{\"color\":\"#2a3f5f\"},\"marker\":{\"line\":{\"color\":\"#E5ECF6\",\"width\":0.5}},\"type\":\"bar\"}],\"barpolar\":[{\"marker\":{\"line\":{\"color\":\"#E5ECF6\",\"width\":0.5}},\"type\":\"barpolar\"}],\"carpet\":[{\"aaxis\":{\"endlinecolor\":\"#2a3f5f\",\"gridcolor\":\"white\",\"linecolor\":\"white\",\"minorgridcolor\":\"white\",\"startlinecolor\":\"#2a3f5f\"},\"baxis\":{\"endlinecolor\":\"#2a3f5f\",\"gridcolor\":\"white\",\"linecolor\":\"white\",\"minorgridcolor\":\"white\",\"startlinecolor\":\"#2a3f5f\"},\"type\":\"carpet\"}],\"choropleth\":[{\"colorbar\":{\"outlinewidth\":0,\"ticks\":\"\"},\"type\":\"choropleth\"}],\"contour\":[{\"colorbar\":{\"outlinewidth\":0,\"ticks\":\"\"},\"colorscale\":[[0.0,\"#0d0887\"],[0.1111111111111111,\"#46039f\"],[0.2222222222222222,\"#7201a8\"],[0.3333333333333333,\"#9c179e\"],[0.4444444444444444,\"#bd3786\"],[0.5555555555555556,\"#d8576b\"],[0.6666666666666666,\"#ed7953\"],[0.7777777777777778,\"#fb9f3a\"],[0.8888888888888888,\"#fdca26\"],[1.0,\"#f0f921\"]],\"type\":\"contour\"}],\"contourcarpet\":[{\"colorbar\":{\"outlinewidth\":0,\"ticks\":\"\"},\"type\":\"contourcarpet\"}],\"heatmap\":[{\"colorbar\":{\"outlinewidth\":0,\"ticks\":\"\"},\"colorscale\":[[0.0,\"#0d0887\"],[0.1111111111111111,\"#46039f\"],[0.2222222222222222,\"#7201a8\"],[0.3333333333333333,\"#9c179e\"],[0.4444444444444444,\"#bd3786\"],[0.5555555555555556,\"#d8576b\"],[0.6666666666666666,\"#ed7953\"],[0.7777777777777778,\"#fb9f3a\"],[0.8888888888888888,\"#fdca26\"],[1.0,\"#f0f921\"]],\"type\":\"heatmap\"}],\"heatmapgl\":[{\"colorbar\":{\"outlinewidth\":0,\"ticks\":\"\"},\"colorscale\":[[0.0,\"#0d0887\"],[0.1111111111111111,\"#46039f\"],[0.2222222222222222,\"#7201a8\"],[0.3333333333333333,\"#9c179e\"],[0.4444444444444444,\"#bd3786\"],[0.5555555555555556,\"#d8576b\"],[0.6666666666666666,\"#ed7953\"],[0.7777777777777778,\"#fb9f3a\"],[0.8888888888888888,\"#fdca26\"],[1.0,\"#f0f921\"]],\"type\":\"heatmapgl\"}],\"histogram\":[{\"marker\":{\"colorbar\":{\"outlinewidth\":0,\"ticks\":\"\"}},\"type\":\"histogram\"}],\"histogram2d\":[{\"colorbar\":{\"outlinewidth\":0,\"ticks\":\"\"},\"colorscale\":[[0.0,\"#0d0887\"],[0.1111111111111111,\"#46039f\"],[0.2222222222222222,\"#7201a8\"],[0.3333333333333333,\"#9c179e\"],[0.4444444444444444,\"#bd3786\"],[0.5555555555555556,\"#d8576b\"],[0.6666666666666666,\"#ed7953\"],[0.7777777777777778,\"#fb9f3a\"],[0.8888888888888888,\"#fdca26\"],[1.0,\"#f0f921\"]],\"type\":\"histogram2d\"}],\"histogram2dcontour\":[{\"colorbar\":{\"outlinewidth\":0,\"ticks\":\"\"},\"colorscale\":[[0.0,\"#0d0887\"],[0.1111111111111111,\"#46039f\"],[0.2222222222222222,\"#7201a8\"],[0.3333333333333333,\"#9c179e\"],[0.4444444444444444,\"#bd3786\"],[0.5555555555555556,\"#d8576b\"],[0.6666666666666666,\"#ed7953\"],[0.7777777777777778,\"#fb9f3a\"],[0.8888888888888888,\"#fdca26\"],[1.0,\"#f0f921\"]],\"type\":\"histogram2dcontour\"}],\"mesh3d\":[{\"colorbar\":{\"outlinewidth\":0,\"ticks\":\"\"},\"type\":\"mesh3d\"}],\"parcoords\":[{\"line\":{\"colorbar\":{\"outlinewidth\":0,\"ticks\":\"\"}},\"type\":\"parcoords\"}],\"pie\":[{\"automargin\":true,\"type\":\"pie\"}],\"scatter\":[{\"marker\":{\"colorbar\":{\"outlinewidth\":0,\"ticks\":\"\"}},\"type\":\"scatter\"}],\"scatter3d\":[{\"line\":{\"colorbar\":{\"outlinewidth\":0,\"ticks\":\"\"}},\"marker\":{\"colorbar\":{\"outlinewidth\":0,\"ticks\":\"\"}},\"type\":\"scatter3d\"}],\"scattercarpet\":[{\"marker\":{\"colorbar\":{\"outlinewidth\":0,\"ticks\":\"\"}},\"type\":\"scattercarpet\"}],\"scattergeo\":[{\"marker\":{\"colorbar\":{\"outlinewidth\":0,\"ticks\":\"\"}},\"type\":\"scattergeo\"}],\"scattergl\":[{\"marker\":{\"colorbar\":{\"outlinewidth\":0,\"ticks\":\"\"}},\"type\":\"scattergl\"}],\"scattermapbox\":[{\"marker\":{\"colorbar\":{\"outlinewidth\":0,\"ticks\":\"\"}},\"type\":\"scattermapbox\"}],\"scatterpolar\":[{\"marker\":{\"colorbar\":{\"outlinewidth\":0,\"ticks\":\"\"}},\"type\":\"scatterpolar\"}],\"scatterpolargl\":[{\"marker\":{\"colorbar\":{\"outlinewidth\":0,\"ticks\":\"\"}},\"type\":\"scatterpolargl\"}],\"scatterternary\":[{\"marker\":{\"colorbar\":{\"outlinewidth\":0,\"ticks\":\"\"}},\"type\":\"scatterternary\"}],\"surface\":[{\"colorbar\":{\"outlinewidth\":0,\"ticks\":\"\"},\"colorscale\":[[0.0,\"#0d0887\"],[0.1111111111111111,\"#46039f\"],[0.2222222222222222,\"#7201a8\"],[0.3333333333333333,\"#9c179e\"],[0.4444444444444444,\"#bd3786\"],[0.5555555555555556,\"#d8576b\"],[0.6666666666666666,\"#ed7953\"],[0.7777777777777778,\"#fb9f3a\"],[0.8888888888888888,\"#fdca26\"],[1.0,\"#f0f921\"]],\"type\":\"surface\"}],\"table\":[{\"cells\":{\"fill\":{\"color\":\"#EBF0F8\"},\"line\":{\"color\":\"white\"}},\"header\":{\"fill\":{\"color\":\"#C8D4E3\"},\"line\":{\"color\":\"white\"}},\"type\":\"table\"}]},\"layout\":{\"annotationdefaults\":{\"arrowcolor\":\"#2a3f5f\",\"arrowhead\":0,\"arrowwidth\":1},\"coloraxis\":{\"colorbar\":{\"outlinewidth\":0,\"ticks\":\"\"}},\"colorscale\":{\"diverging\":[[0,\"#8e0152\"],[0.1,\"#c51b7d\"],[0.2,\"#de77ae\"],[0.3,\"#f1b6da\"],[0.4,\"#fde0ef\"],[0.5,\"#f7f7f7\"],[0.6,\"#e6f5d0\"],[0.7,\"#b8e186\"],[0.8,\"#7fbc41\"],[0.9,\"#4d9221\"],[1,\"#276419\"]],\"sequential\":[[0.0,\"#0d0887\"],[0.1111111111111111,\"#46039f\"],[0.2222222222222222,\"#7201a8\"],[0.3333333333333333,\"#9c179e\"],[0.4444444444444444,\"#bd3786\"],[0.5555555555555556,\"#d8576b\"],[0.6666666666666666,\"#ed7953\"],[0.7777777777777778,\"#fb9f3a\"],[0.8888888888888888,\"#fdca26\"],[1.0,\"#f0f921\"]],\"sequentialminus\":[[0.0,\"#0d0887\"],[0.1111111111111111,\"#46039f\"],[0.2222222222222222,\"#7201a8\"],[0.3333333333333333,\"#9c179e\"],[0.4444444444444444,\"#bd3786\"],[0.5555555555555556,\"#d8576b\"],[0.6666666666666666,\"#ed7953\"],[0.7777777777777778,\"#fb9f3a\"],[0.8888888888888888,\"#fdca26\"],[1.0,\"#f0f921\"]]},\"colorway\":[\"#636efa\",\"#EF553B\",\"#00cc96\",\"#ab63fa\",\"#FFA15A\",\"#19d3f3\",\"#FF6692\",\"#B6E880\",\"#FF97FF\",\"#FECB52\"],\"font\":{\"color\":\"#2a3f5f\"},\"geo\":{\"bgcolor\":\"white\",\"lakecolor\":\"white\",\"landcolor\":\"#E5ECF6\",\"showlakes\":true,\"showland\":true,\"subunitcolor\":\"white\"},\"hoverlabel\":{\"align\":\"left\"},\"hovermode\":\"closest\",\"mapbox\":{\"style\":\"light\"},\"paper_bgcolor\":\"white\",\"plot_bgcolor\":\"#E5ECF6\",\"polar\":{\"angularaxis\":{\"gridcolor\":\"white\",\"linecolor\":\"white\",\"ticks\":\"\"},\"bgcolor\":\"#E5ECF6\",\"radialaxis\":{\"gridcolor\":\"white\",\"linecolor\":\"white\",\"ticks\":\"\"}},\"scene\":{\"xaxis\":{\"backgroundcolor\":\"#E5ECF6\",\"gridcolor\":\"white\",\"gridwidth\":2,\"linecolor\":\"white\",\"showbackground\":true,\"ticks\":\"\",\"zerolinecolor\":\"white\"},\"yaxis\":{\"backgroundcolor\":\"#E5ECF6\",\"gridcolor\":\"white\",\"gridwidth\":2,\"linecolor\":\"white\",\"showbackground\":true,\"ticks\":\"\",\"zerolinecolor\":\"white\"},\"zaxis\":{\"backgroundcolor\":\"#E5ECF6\",\"gridcolor\":\"white\",\"gridwidth\":2,\"linecolor\":\"white\",\"showbackground\":true,\"ticks\":\"\",\"zerolinecolor\":\"white\"}},\"shapedefaults\":{\"line\":{\"color\":\"#2a3f5f\"}},\"ternary\":{\"aaxis\":{\"gridcolor\":\"white\",\"linecolor\":\"white\",\"ticks\":\"\"},\"baxis\":{\"gridcolor\":\"white\",\"linecolor\":\"white\",\"ticks\":\"\"},\"bgcolor\":\"#E5ECF6\",\"caxis\":{\"gridcolor\":\"white\",\"linecolor\":\"white\",\"ticks\":\"\"}},\"title\":{\"x\":0.05},\"xaxis\":{\"automargin\":true,\"gridcolor\":\"white\",\"linecolor\":\"white\",\"ticks\":\"\",\"title\":{\"standoff\":15},\"zerolinecolor\":\"white\",\"zerolinewidth\":2},\"yaxis\":{\"automargin\":true,\"gridcolor\":\"white\",\"linecolor\":\"white\",\"ticks\":\"\",\"title\":{\"standoff\":15},\"zerolinecolor\":\"white\",\"zerolinewidth\":2}}}}};\n                var config = {displayModeBar: false,scrollZoom: true};\n                Plotly.newPlot('graph-8fa3aea8-4ad7-11eb-ab79-44032c5fd2c2', data.data,data.layout,config);\n            </script>\n        </div>",
      "text/plain": [
       "<IPython.core.display.HTML object>"
      ]
     },
     "execution_count": null,
     "metadata": {},
     "output_type": "execute_result"
    }
   ],
   "source": [
    "import pivotpy as pp\n",
    "pp.plotly_to_html(plot_bz([[1,0,0],[0,1,0],[0,0,1]]),modebar=False)"
   ]
  },
  {
   "cell_type": "code",
   "execution_count": null,
   "metadata": {},
   "outputs": [],
   "source": [
    "#export\n",
    "def kpoints2coords(kpoints,poscar,primitive=True):\n",
    "    rec_basis = get_basis(poscar).rec_basis\n",
    "    kpoints = np.array(kpoints)\n",
    "    # Formula to make coordinates from relative kpoints. \n",
    "    # kx, ky, kz = n1*b1 + n2*b2 +n3*b3\n",
    "    #            = [n1, n2, n3].dot(rec_basis)\n",
    "    coords = kpoints.dot(rec_basis)\n",
    "    if primitive:\n",
    "        return coords\n",
    "    else:\n",
    "        print(\"Not impelemented yet for Wigner-Seitz cell!\")"
   ]
  },
  {
   "cell_type": "code",
   "execution_count": null,
   "metadata": {},
   "outputs": [
    {
     "name": "stdout",
     "output_type": "stream",
     "text": [
      "Not impelemented yet for Wigner-Seitz cell!\n"
     ]
    }
   ],
   "source": [
    "kpoints2coords([[1,1,1],[0.333,0.333,0.5]],hexa,False)"
   ]
  },
  {
   "cell_type": "code",
   "execution_count": null,
   "metadata": {},
   "outputs": [
    {
     "data": {
      "text/html": "<div>\n        <script src='https://cdn.plot.ly/plotly-latest.min.js'></script>\n            <div id='graph-a5f1abd4-4ad7-11eb-8d44-44032c5fd2c2'><!-- Plotly chart DIV --></div>\n            <script>\n                var data = {\"data\":[{\"legendgroup\":\"Axes\",\"line\":{\"color\":\"green\"},\"mode\":\"lines+text\",\"name\":\"Axes\",\"text\":[\"<b>k</b><sub>x</sub>\",\"\",\"<b>k</b><sub>y</sub>\",\"\",\"<b>k</b><sub>z</sub>\"],\"type\":\"scatter3d\",\"x\":[0.25,0,0,0,0],\"y\":[0,0,0.25,0,0],\"z\":[0,0,0,0,0.25]},{\"colorscale\":[[0.0,\"rgb(247,252,245)\"],[0.125,\"rgb(229,245,224)\"],[0.25,\"rgb(199,233,192)\"],[0.375,\"rgb(161,217,155)\"],[0.5,\"rgb(116,196,118)\"],[0.625,\"rgb(65,171,93)\"],[0.75,\"rgb(35,139,69)\"],[0.875,\"rgb(0,109,44)\"],[1.0,\"rgb(0,68,27)\"]],\"legendgroup\":\"Axes\",\"name\":\"Axes\",\"showscale\":false,\"type\":\"cone\",\"u\":[1e-05,0,0],\"v\":[0,1e-05,0],\"w\":[0,0,1e-05],\"x\":[0.18,0,0],\"y\":[0,0.18,0],\"z\":[0,0,0.18]},{\"legendgroup\":\"b<sub>1</sub>\",\"line\":{\"color\":\"red\"},\"mode\":\"lines+text\",\"name\":\"<b>b</b><sub>1</sub>\",\"text\":[\"\",\"<b>b</b><sub>1</sub>\"],\"type\":\"scatter3d\",\"x\":[0,1.0],\"y\":[0,-0.5773502691896258],\"z\":[0,0.0]},{\"colorscale\":[[0.0,\"rgb(255,245,240)\"],[0.125,\"rgb(254,224,210)\"],[0.25,\"rgb(252,187,161)\"],[0.375,\"rgb(252,146,114)\"],[0.5,\"rgb(251,106,74)\"],[0.625,\"rgb(239,59,44)\"],[0.75,\"rgb(203,24,29)\"],[0.875,\"rgb(165,15,21)\"],[1.0,\"rgb(103,0,13)\"]],\"legendgroup\":\"b<sub>1</sub>\",\"name\":\"<b>b</b><sub>1</sub>\",\"showscale\":false,\"type\":\"cone\",\"u\":[0.2],\"v\":[-0.11547005383792518],\"w\":[0.0],\"x\":[0.95],\"y\":[-0.5484827557301445],\"z\":[0.0]},{\"legendgroup\":\"b<sub>2</sub>\",\"line\":{\"color\":\"red\"},\"mode\":\"lines+text\",\"name\":\"<b>b</b><sub>2</sub>\",\"text\":[\"\",\"<b>b</b><sub>2</sub>\"],\"type\":\"scatter3d\",\"x\":[0,0.0],\"y\":[0,1.1547005383792517],\"z\":[0,0.0]},{\"colorscale\":[[0.0,\"rgb(255,245,240)\"],[0.125,\"rgb(254,224,210)\"],[0.25,\"rgb(252,187,161)\"],[0.375,\"rgb(252,146,114)\"],[0.5,\"rgb(251,106,74)\"],[0.625,\"rgb(239,59,44)\"],[0.75,\"rgb(203,24,29)\"],[0.875,\"rgb(165,15,21)\"],[1.0,\"rgb(103,0,13)\"]],\"legendgroup\":\"b<sub>2</sub>\",\"name\":\"<b>b</b><sub>2</sub>\",\"showscale\":false,\"type\":\"cone\",\"u\":[0.0],\"v\":[0.23094010767585035],\"w\":[0.0],\"x\":[0.0],\"y\":[1.096965511460289],\"z\":[0.0]},{\"legendgroup\":\"b<sub>3</sub>\",\"line\":{\"color\":\"red\"},\"mode\":\"lines+text\",\"name\":\"<b>b</b><sub>3</sub>\",\"text\":[\"\",\"<b>b</b><sub>3</sub>\"],\"type\":\"scatter3d\",\"x\":[0,0.0],\"y\":[0,0.0],\"z\":[0,1.0]},{\"colorscale\":[[0.0,\"rgb(255,245,240)\"],[0.125,\"rgb(254,224,210)\"],[0.25,\"rgb(252,187,161)\"],[0.375,\"rgb(252,146,114)\"],[0.5,\"rgb(251,106,74)\"],[0.625,\"rgb(239,59,44)\"],[0.75,\"rgb(203,24,29)\"],[0.875,\"rgb(165,15,21)\"],[1.0,\"rgb(103,0,13)\"]],\"legendgroup\":\"b<sub>3</sub>\",\"name\":\"<b>b</b><sub>3</sub>\",\"showscale\":false,\"type\":\"cone\",\"u\":[0.0],\"v\":[0.0],\"w\":[0.2],\"x\":[0.0],\"y\":[0.0],\"z\":[0.95]},{\"legendgroup\":\"BZ\",\"line\":{\"color\":\"rgba(168,204,216,0.4)\"},\"mode\":\"lines\",\"name\":\"BZ\",\"showlegend\":true,\"surfaceaxis\":0,\"type\":\"scatter3d\",\"x\":[0.0,1.0,0.0,1.0,0.0],\"y\":[0.0,-0.57735027,1.15470054,0.57735027,0.0],\"z\":[0.0,0.0,0.0,0.0,0.0]},{\"legendgroup\":\"BZ\",\"line\":{\"color\":\"rgba(168,204,216,0.4)\"},\"mode\":\"lines\",\"name\":\"BZ\",\"showlegend\":false,\"surfaceaxis\":1,\"type\":\"scatter3d\",\"x\":[0.0,0.0,0.0,0.0,0.0],\"y\":[0.0,1.15470054,0.0,1.15470054,0.0],\"z\":[0.0,0.0,1.0,1.0,0.0]},{\"legendgroup\":\"BZ\",\"line\":{\"color\":\"rgba(168,204,216,0.4)\"},\"mode\":\"lines\",\"name\":\"BZ\",\"showlegend\":false,\"surfaceaxis\":0,\"type\":\"scatter3d\",\"x\":[0.0,0.0,1.0,1.0,0.0],\"y\":[0.0,0.0,-0.57735027,-0.57735027,0.0],\"z\":[0.0,1.0,0.0,1.0,0.0]},{\"legendgroup\":\"BZ\",\"line\":{\"color\":\"rgba(168,204,216,0.4)\"},\"mode\":\"lines\",\"name\":\"BZ\",\"showlegend\":false,\"surfaceaxis\":0,\"type\":\"scatter3d\",\"x\":[1.0,1.0,1.0,1.0,1.0],\"y\":[0.57735027,0.57735027,-0.57735027,-0.57735027,0.57735027],\"z\":[0.0,1.0,1.0,0.0,0.0]},{\"legendgroup\":\"BZ\",\"line\":{\"color\":\"rgba(168,204,216,0.4)\"},\"mode\":\"lines\",\"name\":\"BZ\",\"showlegend\":false,\"surfaceaxis\":1,\"type\":\"scatter3d\",\"x\":[0.0,1.0,1.0,0.0,0.0],\"y\":[1.15470054,0.57735027,0.57735027,1.15470054,1.15470054],\"z\":[1.0,1.0,0.0,0.0,1.0]},{\"legendgroup\":\"BZ\",\"line\":{\"color\":\"rgba(168,204,216,0.4)\"},\"mode\":\"lines\",\"name\":\"BZ\",\"showlegend\":false,\"surfaceaxis\":2,\"type\":\"scatter3d\",\"x\":[1.0,1.0,0.0,0.0,1.0],\"y\":[-0.57735027,0.57735027,1.15470054,0.0,-0.57735027],\"z\":[1.0,1.0,1.0,1.0,1.0]},{\"hovertext\":[\"P(0.0, 0.0, 0.0)</br>d = 0.0\",\"P(0.5, 0.5, 0.0)</br>d = 0.57735\",\"P(0.0, 0.5, 0.5)</br>d = 0.76376\",\"P(0.5, 0.0, 0.5)</br>d = 0.76376\",\"P(1.0, 0.5, 0.5)</br>d = 1.11803\",\"P(0.5, 1.0, 0.5)</br>d = 1.11803\",\"P(0.5, 0.5, 1.0)</br>d = 1.1547\",\"P(0.5, 1.0, 0.0)</br>d = 1.0\",\"P(0.5, 1.0, 1.0)</br>d = 1.41421\",\"P(1.0, 0.5, 0.0)</br>d = 1.0\",\"P(1.0, 0.5, 1.0)</br>d = 1.41421\",\"P(0.0, 0.0, 1.0)</br>d = 1.0\",\"P(0.0, 1.0, 0.0)</br>d = 1.1547\",\"P(0.0, 1.0, 1.0)</br>d = 1.52753\",\"P(1.0, 0.0, 0.0)</br>d = 1.1547\",\"P(1.0, 0.0, 1.0)</br>d = 1.52753\",\"P(1.0, 1.0, 0.0)</br>d = 1.1547\",\"P(1.0, 1.0, 1.0)</br>d = 1.52753\"],\"marker\":{\"color\":[\"rgb(255,215,0)\",\"rgb(0.0,0,255.0)\",\"rgb(42.5,0,212.5)\",\"rgb(42.5,0,212.5)\",\"rgb(127.5,0,127.5)\",\"rgb(127.5,0,127.5)\",\"rgb(170.0,0,85.0)\",\"rgb(85.0,0,170.0)\",\"rgb(212.5,0,42.5)\",\"rgb(85.0,0,170.0)\",\"rgb(212.5,0,42.5)\",\"rgb(85.0,0,170.0)\",\"rgb(170.0,0,85.0)\",\"rgb(255.0,0,0.0)\",\"rgb(170.0,0,85.0)\",\"rgb(255.0,0,0.0)\",\"rgb(170.0,0,85.0)\",\"rgb(255.0,0,0.0)\"]},\"mode\":\"markers\",\"name\":\"HSK\",\"type\":\"scatter3d\",\"x\":[0.0,0.5,0.0,0.5,1.0,0.5,0.5,0.5,0.5,1.0,1.0,0.0,0.0,0.0,1.0,1.0,1.0,1.0],\"y\":[0.0,0.28867513,0.57735027,-0.28867513,0.0,0.8660254,0.28867513,0.8660254,0.8660254,0.0,0.0,0.0,1.15470054,1.15470054,-0.57735027,-0.57735027,0.57735027,0.57735027],\"z\":[0.0,0.0,0.5,0.5,0.5,0.5,1.0,0.0,1.0,0.0,1.0,1.0,0.0,1.0,0.0,1.0,0.0,1.0]},{\"mode\":\"markers\",\"name\":\"KPOINTS\",\"type\":\"scatter3d\",\"x\":[0.0,0.25,0.5,0.75,1.0,0.0,0.25,0.5,0.75,1.0,0.0,0.25,0.5,0.75,1.0,0.0,0.25,0.5,0.75,1.0,0.0,0.25,0.5,0.75,1.0,0.0,0.25,0.5,0.75,1.0,0.0,0.25,0.5,0.75,1.0,0.0,0.25,0.5,0.75,1.0,0.0,0.25,0.5,0.75,1.0,0.0,0.25,0.5,0.75,1.0,0.0,0.25,0.5,0.75,1.0,0.0,0.25,0.5,0.75,1.0,0.0,0.25,0.5,0.75,1.0,0.0,0.25,0.5,0.75,1.0,0.0,0.25,0.5,0.75,1.0,0.0,0.25,0.5,0.75,1.0,0.0,0.25,0.5,0.75,1.0,0.0,0.25,0.5,0.75,1.0,0.0,0.25,0.5,0.75,1.0,0.0,0.25,0.5,0.75,1.0,0.0,0.25,0.5,0.75,1.0,0.0,0.25,0.5,0.75,1.0,0.0,0.25,0.5,0.75,1.0,0.0,0.25,0.5,0.75,1.0,0.0,0.25,0.5,0.75,1.0],\"y\":[0.0,-0.14433756729740646,-0.2886751345948129,-0.4330127018922194,-0.5773502691896258,0.2886751345948129,0.14433756729740646,0.0,-0.1443375672974065,-0.2886751345948129,0.5773502691896258,0.4330127018922194,0.2886751345948129,0.14433756729740643,0.0,0.8660254037844388,0.7216878364870323,0.5773502691896258,0.43301270189221935,0.2886751345948129,1.1547005383792517,1.0103629710818451,0.8660254037844388,0.7216878364870323,0.5773502691896258,0.0,-0.14433756729740646,-0.2886751345948129,-0.4330127018922194,-0.5773502691896258,0.2886751345948129,0.14433756729740646,0.0,-0.1443375672974065,-0.2886751345948129,0.5773502691896258,0.4330127018922194,0.2886751345948129,0.14433756729740643,0.0,0.8660254037844388,0.7216878364870323,0.5773502691896258,0.43301270189221935,0.2886751345948129,1.1547005383792517,1.0103629710818451,0.8660254037844388,0.7216878364870323,0.5773502691896258,0.0,-0.14433756729740646,-0.2886751345948129,-0.4330127018922194,-0.5773502691896258,0.2886751345948129,0.14433756729740646,0.0,-0.1443375672974065,-0.2886751345948129,0.5773502691896258,0.4330127018922194,0.2886751345948129,0.14433756729740643,0.0,0.8660254037844388,0.7216878364870323,0.5773502691896258,0.43301270189221935,0.2886751345948129,1.1547005383792517,1.0103629710818451,0.8660254037844388,0.7216878364870323,0.5773502691896258,0.0,-0.14433756729740646,-0.2886751345948129,-0.4330127018922194,-0.5773502691896258,0.2886751345948129,0.14433756729740646,0.0,-0.1443375672974065,-0.2886751345948129,0.5773502691896258,0.4330127018922194,0.2886751345948129,0.14433756729740643,0.0,0.8660254037844388,0.7216878364870323,0.5773502691896258,0.43301270189221935,0.2886751345948129,1.1547005383792517,1.0103629710818451,0.8660254037844388,0.7216878364870323,0.5773502691896258,0.0,-0.14433756729740646,-0.2886751345948129,-0.4330127018922194,-0.5773502691896258,0.2886751345948129,0.14433756729740646,0.0,-0.1443375672974065,-0.2886751345948129,0.5773502691896258,0.4330127018922194,0.2886751345948129,0.14433756729740643,0.0,0.8660254037844388,0.7216878364870323,0.5773502691896258,0.43301270189221935,0.2886751345948129,1.1547005383792517,1.0103629710818451,0.8660254037844388,0.7216878364870323,0.5773502691896258],\"z\":[0.0,0.0,0.0,0.0,0.0,0.0,0.0,0.0,0.0,0.0,0.0,0.0,0.0,0.0,0.0,0.0,0.0,0.0,0.0,0.0,0.0,0.0,0.0,0.0,0.0,0.25,0.25,0.25,0.25,0.25,0.25,0.25,0.25,0.25,0.25,0.25,0.25,0.25,0.25,0.25,0.25,0.25,0.25,0.25,0.25,0.25,0.25,0.25,0.25,0.25,0.5,0.5,0.5,0.5,0.5,0.5,0.5,0.5,0.5,0.5,0.5,0.5,0.5,0.5,0.5,0.5,0.5,0.5,0.5,0.5,0.5,0.5,0.5,0.5,0.5,0.75,0.75,0.75,0.75,0.75,0.75,0.75,0.75,0.75,0.75,0.75,0.75,0.75,0.75,0.75,0.75,0.75,0.75,0.75,0.75,0.75,0.75,0.75,0.75,0.75,1.0,1.0,1.0,1.0,1.0,1.0,1.0,1.0,1.0,1.0,1.0,1.0,1.0,1.0,1.0,1.0,1.0,1.0,1.0,1.0,1.0,1.0,1.0,1.0,1.0]}],\"layout\":{\"font\":{\"family\":\"Times New Roman\",\"size\":14},\"margin\":{\"b\":10,\"l\":10,\"r\":10,\"t\":30},\"paper_bgcolor\":\"rgb(255,255,255)\",\"scene\":{\"aspectmode\":\"data\",\"camera\":{\"center\":{\"x\":0.1,\"y\":0.1,\"z\":0.1}},\"xaxis\":{\"showbackground\":false,\"visible\":false},\"yaxis\":{\"showbackground\":false,\"visible\":false},\"zaxis\":{\"showbackground\":false,\"visible\":false}},\"template\":{\"data\":{\"bar\":[{\"error_x\":{\"color\":\"#2a3f5f\"},\"error_y\":{\"color\":\"#2a3f5f\"},\"marker\":{\"line\":{\"color\":\"#E5ECF6\",\"width\":0.5}},\"type\":\"bar\"}],\"barpolar\":[{\"marker\":{\"line\":{\"color\":\"#E5ECF6\",\"width\":0.5}},\"type\":\"barpolar\"}],\"carpet\":[{\"aaxis\":{\"endlinecolor\":\"#2a3f5f\",\"gridcolor\":\"white\",\"linecolor\":\"white\",\"minorgridcolor\":\"white\",\"startlinecolor\":\"#2a3f5f\"},\"baxis\":{\"endlinecolor\":\"#2a3f5f\",\"gridcolor\":\"white\",\"linecolor\":\"white\",\"minorgridcolor\":\"white\",\"startlinecolor\":\"#2a3f5f\"},\"type\":\"carpet\"}],\"choropleth\":[{\"colorbar\":{\"outlinewidth\":0,\"ticks\":\"\"},\"type\":\"choropleth\"}],\"contour\":[{\"colorbar\":{\"outlinewidth\":0,\"ticks\":\"\"},\"colorscale\":[[0.0,\"#0d0887\"],[0.1111111111111111,\"#46039f\"],[0.2222222222222222,\"#7201a8\"],[0.3333333333333333,\"#9c179e\"],[0.4444444444444444,\"#bd3786\"],[0.5555555555555556,\"#d8576b\"],[0.6666666666666666,\"#ed7953\"],[0.7777777777777778,\"#fb9f3a\"],[0.8888888888888888,\"#fdca26\"],[1.0,\"#f0f921\"]],\"type\":\"contour\"}],\"contourcarpet\":[{\"colorbar\":{\"outlinewidth\":0,\"ticks\":\"\"},\"type\":\"contourcarpet\"}],\"heatmap\":[{\"colorbar\":{\"outlinewidth\":0,\"ticks\":\"\"},\"colorscale\":[[0.0,\"#0d0887\"],[0.1111111111111111,\"#46039f\"],[0.2222222222222222,\"#7201a8\"],[0.3333333333333333,\"#9c179e\"],[0.4444444444444444,\"#bd3786\"],[0.5555555555555556,\"#d8576b\"],[0.6666666666666666,\"#ed7953\"],[0.7777777777777778,\"#fb9f3a\"],[0.8888888888888888,\"#fdca26\"],[1.0,\"#f0f921\"]],\"type\":\"heatmap\"}],\"heatmapgl\":[{\"colorbar\":{\"outlinewidth\":0,\"ticks\":\"\"},\"colorscale\":[[0.0,\"#0d0887\"],[0.1111111111111111,\"#46039f\"],[0.2222222222222222,\"#7201a8\"],[0.3333333333333333,\"#9c179e\"],[0.4444444444444444,\"#bd3786\"],[0.5555555555555556,\"#d8576b\"],[0.6666666666666666,\"#ed7953\"],[0.7777777777777778,\"#fb9f3a\"],[0.8888888888888888,\"#fdca26\"],[1.0,\"#f0f921\"]],\"type\":\"heatmapgl\"}],\"histogram\":[{\"marker\":{\"colorbar\":{\"outlinewidth\":0,\"ticks\":\"\"}},\"type\":\"histogram\"}],\"histogram2d\":[{\"colorbar\":{\"outlinewidth\":0,\"ticks\":\"\"},\"colorscale\":[[0.0,\"#0d0887\"],[0.1111111111111111,\"#46039f\"],[0.2222222222222222,\"#7201a8\"],[0.3333333333333333,\"#9c179e\"],[0.4444444444444444,\"#bd3786\"],[0.5555555555555556,\"#d8576b\"],[0.6666666666666666,\"#ed7953\"],[0.7777777777777778,\"#fb9f3a\"],[0.8888888888888888,\"#fdca26\"],[1.0,\"#f0f921\"]],\"type\":\"histogram2d\"}],\"histogram2dcontour\":[{\"colorbar\":{\"outlinewidth\":0,\"ticks\":\"\"},\"colorscale\":[[0.0,\"#0d0887\"],[0.1111111111111111,\"#46039f\"],[0.2222222222222222,\"#7201a8\"],[0.3333333333333333,\"#9c179e\"],[0.4444444444444444,\"#bd3786\"],[0.5555555555555556,\"#d8576b\"],[0.6666666666666666,\"#ed7953\"],[0.7777777777777778,\"#fb9f3a\"],[0.8888888888888888,\"#fdca26\"],[1.0,\"#f0f921\"]],\"type\":\"histogram2dcontour\"}],\"mesh3d\":[{\"colorbar\":{\"outlinewidth\":0,\"ticks\":\"\"},\"type\":\"mesh3d\"}],\"parcoords\":[{\"line\":{\"colorbar\":{\"outlinewidth\":0,\"ticks\":\"\"}},\"type\":\"parcoords\"}],\"pie\":[{\"automargin\":true,\"type\":\"pie\"}],\"scatter\":[{\"marker\":{\"colorbar\":{\"outlinewidth\":0,\"ticks\":\"\"}},\"type\":\"scatter\"}],\"scatter3d\":[{\"line\":{\"colorbar\":{\"outlinewidth\":0,\"ticks\":\"\"}},\"marker\":{\"colorbar\":{\"outlinewidth\":0,\"ticks\":\"\"}},\"type\":\"scatter3d\"}],\"scattercarpet\":[{\"marker\":{\"colorbar\":{\"outlinewidth\":0,\"ticks\":\"\"}},\"type\":\"scattercarpet\"}],\"scattergeo\":[{\"marker\":{\"colorbar\":{\"outlinewidth\":0,\"ticks\":\"\"}},\"type\":\"scattergeo\"}],\"scattergl\":[{\"marker\":{\"colorbar\":{\"outlinewidth\":0,\"ticks\":\"\"}},\"type\":\"scattergl\"}],\"scattermapbox\":[{\"marker\":{\"colorbar\":{\"outlinewidth\":0,\"ticks\":\"\"}},\"type\":\"scattermapbox\"}],\"scatterpolar\":[{\"marker\":{\"colorbar\":{\"outlinewidth\":0,\"ticks\":\"\"}},\"type\":\"scatterpolar\"}],\"scatterpolargl\":[{\"marker\":{\"colorbar\":{\"outlinewidth\":0,\"ticks\":\"\"}},\"type\":\"scatterpolargl\"}],\"scatterternary\":[{\"marker\":{\"colorbar\":{\"outlinewidth\":0,\"ticks\":\"\"}},\"type\":\"scatterternary\"}],\"surface\":[{\"colorbar\":{\"outlinewidth\":0,\"ticks\":\"\"},\"colorscale\":[[0.0,\"#0d0887\"],[0.1111111111111111,\"#46039f\"],[0.2222222222222222,\"#7201a8\"],[0.3333333333333333,\"#9c179e\"],[0.4444444444444444,\"#bd3786\"],[0.5555555555555556,\"#d8576b\"],[0.6666666666666666,\"#ed7953\"],[0.7777777777777778,\"#fb9f3a\"],[0.8888888888888888,\"#fdca26\"],[1.0,\"#f0f921\"]],\"type\":\"surface\"}],\"table\":[{\"cells\":{\"fill\":{\"color\":\"#EBF0F8\"},\"line\":{\"color\":\"white\"}},\"header\":{\"fill\":{\"color\":\"#C8D4E3\"},\"line\":{\"color\":\"white\"}},\"type\":\"table\"}]},\"layout\":{\"annotationdefaults\":{\"arrowcolor\":\"#2a3f5f\",\"arrowhead\":0,\"arrowwidth\":1},\"coloraxis\":{\"colorbar\":{\"outlinewidth\":0,\"ticks\":\"\"}},\"colorscale\":{\"diverging\":[[0,\"#8e0152\"],[0.1,\"#c51b7d\"],[0.2,\"#de77ae\"],[0.3,\"#f1b6da\"],[0.4,\"#fde0ef\"],[0.5,\"#f7f7f7\"],[0.6,\"#e6f5d0\"],[0.7,\"#b8e186\"],[0.8,\"#7fbc41\"],[0.9,\"#4d9221\"],[1,\"#276419\"]],\"sequential\":[[0.0,\"#0d0887\"],[0.1111111111111111,\"#46039f\"],[0.2222222222222222,\"#7201a8\"],[0.3333333333333333,\"#9c179e\"],[0.4444444444444444,\"#bd3786\"],[0.5555555555555556,\"#d8576b\"],[0.6666666666666666,\"#ed7953\"],[0.7777777777777778,\"#fb9f3a\"],[0.8888888888888888,\"#fdca26\"],[1.0,\"#f0f921\"]],\"sequentialminus\":[[0.0,\"#0d0887\"],[0.1111111111111111,\"#46039f\"],[0.2222222222222222,\"#7201a8\"],[0.3333333333333333,\"#9c179e\"],[0.4444444444444444,\"#bd3786\"],[0.5555555555555556,\"#d8576b\"],[0.6666666666666666,\"#ed7953\"],[0.7777777777777778,\"#fb9f3a\"],[0.8888888888888888,\"#fdca26\"],[1.0,\"#f0f921\"]]},\"colorway\":[\"#636efa\",\"#EF553B\",\"#00cc96\",\"#ab63fa\",\"#FFA15A\",\"#19d3f3\",\"#FF6692\",\"#B6E880\",\"#FF97FF\",\"#FECB52\"],\"font\":{\"color\":\"#2a3f5f\"},\"geo\":{\"bgcolor\":\"white\",\"lakecolor\":\"white\",\"landcolor\":\"#E5ECF6\",\"showlakes\":true,\"showland\":true,\"subunitcolor\":\"white\"},\"hoverlabel\":{\"align\":\"left\"},\"hovermode\":\"closest\",\"mapbox\":{\"style\":\"light\"},\"paper_bgcolor\":\"white\",\"plot_bgcolor\":\"#E5ECF6\",\"polar\":{\"angularaxis\":{\"gridcolor\":\"white\",\"linecolor\":\"white\",\"ticks\":\"\"},\"bgcolor\":\"#E5ECF6\",\"radialaxis\":{\"gridcolor\":\"white\",\"linecolor\":\"white\",\"ticks\":\"\"}},\"scene\":{\"xaxis\":{\"backgroundcolor\":\"#E5ECF6\",\"gridcolor\":\"white\",\"gridwidth\":2,\"linecolor\":\"white\",\"showbackground\":true,\"ticks\":\"\",\"zerolinecolor\":\"white\"},\"yaxis\":{\"backgroundcolor\":\"#E5ECF6\",\"gridcolor\":\"white\",\"gridwidth\":2,\"linecolor\":\"white\",\"showbackground\":true,\"ticks\":\"\",\"zerolinecolor\":\"white\"},\"zaxis\":{\"backgroundcolor\":\"#E5ECF6\",\"gridcolor\":\"white\",\"gridwidth\":2,\"linecolor\":\"white\",\"showbackground\":true,\"ticks\":\"\",\"zerolinecolor\":\"white\"}},\"shapedefaults\":{\"line\":{\"color\":\"#2a3f5f\"}},\"ternary\":{\"aaxis\":{\"gridcolor\":\"white\",\"linecolor\":\"white\",\"ticks\":\"\"},\"baxis\":{\"gridcolor\":\"white\",\"linecolor\":\"white\",\"ticks\":\"\"},\"bgcolor\":\"#E5ECF6\",\"caxis\":{\"gridcolor\":\"white\",\"linecolor\":\"white\",\"ticks\":\"\"}},\"title\":{\"x\":0.05},\"xaxis\":{\"automargin\":true,\"gridcolor\":\"white\",\"linecolor\":\"white\",\"ticks\":\"\",\"title\":{\"standoff\":15},\"zerolinecolor\":\"white\",\"zerolinewidth\":2},\"yaxis\":{\"automargin\":true,\"gridcolor\":\"white\",\"linecolor\":\"white\",\"ticks\":\"\",\"title\":{\"standoff\":15},\"zerolinecolor\":\"white\",\"zerolinewidth\":2}}}}};\n                var config = {displayModeBar: false,scrollZoom: true};\n                Plotly.newPlot('graph-a5f1abd4-4ad7-11eb-8d44-44032c5fd2c2', data.data,data.layout,config);\n            </script>\n        </div>",
      "text/plain": [
       "<IPython.core.display.HTML object>"
      ]
     },
     "execution_count": null,
     "metadata": {},
     "output_type": "execute_result"
    }
   ],
   "source": [
    "import pivotpy as pp\n",
    "\n",
    "kpoints = get_kmesh(5).kpoints \n",
    "coords = kpoints2coords(kpoints,hexa)\n",
    "fig = plot_bz(get_bz(hexa,primitive=True))\n",
    "fig.add_trace(go.Scatter3d(x=coords[:,0], y=coords[:,1],z=coords[:,2],\n",
    "            mode='markers',name='KPOINTS'))\n",
    "pp.plotly_to_html(fig,modebar=False)\n"
   ]
  },
  {
   "cell_type": "code",
   "execution_count": null,
   "metadata": {},
   "outputs": [
    {
     "data": {
      "text/markdown": [
       "<style>a{text-decoration: none !important;color:lightkblue;font-weight:bold;}\n",
       "                a:focus,a:active,a:hover{color:hotpink !important;}</style>\n",
       "> [&nbsp;`▶` Index&nbsp;](https://massgh.github.io/pivotpy/)  \n",
       "> [&nbsp;`▶` XmlElementTree&nbsp;](https://massgh.github.io/pivotpy/XmlElementTree)  \n",
       "> [&nbsp;`▶` StaticPlots&nbsp;](https://massgh.github.io/pivotpy/StaticPlots)  \n",
       "> [&nbsp;`▶` InteractivePlots&nbsp;](https://massgh.github.io/pivotpy/InteractivePlots)  \n",
       "> [&nbsp;`▶` Utilities&nbsp;](https://massgh.github.io/pivotpy/Utilities)  \n",
       "> [&nbsp;`▶` StructureIO●&nbsp;](https://massgh.github.io/pivotpy/StructureIO)  \n",
       "> [&nbsp;`▶` Widgets&nbsp;](https://massgh.github.io/pivotpy/Widgets)  \n"
      ],
      "text/plain": [
       "<IPython.core.display.Markdown object>"
      ]
     },
     "execution_count": null,
     "metadata": {},
     "output_type": "execute_result"
    }
   ],
   "source": [
    "#hide_input\n",
    "import pivotpy as pp \n",
    "pp.nav_links(5)"
   ]
  },
  {
   "cell_type": "code",
   "execution_count": null,
   "metadata": {},
   "outputs": [],
   "source": []
  }
 ],
 "metadata": {
  "kernelspec": {
   "display_name": "Python 3.7.6 64-bit",
   "language": "python",
   "name": "python37664bit4047a33bb5c7414db9abe32ad88decaa"
  }
 },
 "nbformat": 4,
 "nbformat_minor": 2
}
