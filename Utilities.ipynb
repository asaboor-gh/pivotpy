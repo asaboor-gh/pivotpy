{
 "cells": [
  {
   "cell_type": "code",
   "execution_count": null,
   "metadata": {},
   "outputs": [],
   "source": [
    "# default_exp g_utils"
   ]
  },
  {
   "cell_type": "code",
   "execution_count": null,
   "metadata": {},
   "outputs": [
    {
     "data": {
      "text/markdown": [
       "<style>a{text-decoration: none !important;color:lightkblue;font-weight:bold;}\n",
       "                a:focus,a:active,a:hover{color:hotpink !important;}</style>\n",
       "> [&nbsp;`▶` Index&nbsp;](https://massgh.github.io/pivotpy/)  \n",
       "> [&nbsp;`▶` XmlElementTree&nbsp;](https://massgh.github.io/pivotpy/XmlElementTree)  \n",
       "> [&nbsp;`▶` StaticPlots&nbsp;](https://massgh.github.io/pivotpy/StaticPlots)  \n",
       "> [&nbsp;`▶` InteractivePlots&nbsp;](https://massgh.github.io/pivotpy/InteractivePlots)  \n",
       "> [&nbsp;`▶` Utilities●&nbsp;](https://massgh.github.io/pivotpy/Utilities)  \n",
       "> [&nbsp;`▶` StructureIO&nbsp;](https://massgh.github.io/pivotpy/StructureIO)  \n",
       "> [&nbsp;`▶` Widgets&nbsp;](https://massgh.github.io/pivotpy/Widgets)  \n"
      ],
      "text/plain": [
       "<IPython.core.display.Markdown object>"
      ]
     },
     "execution_count": null,
     "metadata": {},
     "output_type": "execute_result"
    }
   ],
   "source": [
    "#hide_input\n",
    "import pivotpy as pp \n",
    "pp.nav_links(4)"
   ]
  },
  {
   "cell_type": "markdown",
   "metadata": {},
   "source": [
    "# Utilities\n",
    "\n",
    "> This includes generally useful functions, including running PowerShell commands from Python."
   ]
  },
  {
   "cell_type": "code",
   "execution_count": null,
   "metadata": {},
   "outputs": [],
   "source": [
    "#hide\n",
    "from numpy.core.overrides import set_module"
   ]
  },
  {
   "cell_type": "code",
   "execution_count": null,
   "metadata": {},
   "outputs": [],
   "source": [
    "#export\n",
    "def get_file_size(path):\n",
    "    import os\n",
    "    if os.path.isfile(path):\n",
    "        size = os.stat(path).st_size\n",
    "        for unit in ['Bytes','KB','MB','GB','TB']:\n",
    "            if size < 1024.0:\n",
    "                return \"%3.2f %s\" % (size,unit)\n",
    "            size /= 1024.0\n",
    "    else:\n",
    "        return ''"
   ]
  },
  {
   "cell_type": "code",
   "execution_count": null,
   "metadata": {},
   "outputs": [
    {
     "data": {
      "text/plain": [
       "'28.60 KB'"
      ]
     },
     "execution_count": null,
     "metadata": {},
     "output_type": "execute_result"
    }
   ],
   "source": [
    "get_file_size('Utilities.ipynb')"
   ]
  },
  {
   "cell_type": "code",
   "execution_count": null,
   "metadata": {},
   "outputs": [],
   "source": [
    "#export\n",
    "def interpolate_data(x,y,n=10,k=3):\n",
    "    \"\"\"\n",
    "    - Returns interpolated xnew,ynew. If two points are same, it will add 0.1*min(dx>0) to compensate it.\n",
    "    - **Parameters**\n",
    "        - x: 1D array of size p,\n",
    "        - y: ndarray of size p*q*r,....\n",
    "        - n: Number of points to add between two given points.\n",
    "        - k: Polynomial order to interpolate.\n",
    "\n",
    "    - Only axis 0 will be interpolated. If you want general interploation, use `from scipy.interpolate import make_interp_spline, BSpline`\n",
    "\n",
    "    - **General Usage**: K(p),E(p,q) input from bandstructure.\n",
    "        - `Knew,Enew= interpolate_data(K,E,n=10,k=3)`. cubic interploation\n",
    "    \"\"\"\n",
    "    import numpy as np\n",
    "    #Add very small values at simliar points to make interpolation work.\n",
    "    ind=[i for i in range(0,len(x)) if x[i-1]==x[i]] #Duplicate indices\n",
    "    xa=np.unique(x)\n",
    "    dx=0.1*np.min(xa[1:]-xa[:-1])\n",
    "    if(ind):\n",
    "        for pt in ind:\n",
    "            x[pt:]=x[pt:]-x[pt]+x[pt-1]+dx\n",
    "    # Now Apply interpolation\n",
    "    from scipy.interpolate import make_interp_spline, BSpline\n",
    "    xnew=[np.linspace(x[i],x[i+1],n) for i in range(len(x)-1)]\n",
    "    xnew=np.reshape(xnew,(-1))\n",
    "    spl = make_interp_spline(x, y, k=k) #BSpline object\n",
    "    ynew = spl(xnew)\n",
    "    return xnew,ynew"
   ]
  },
  {
   "cell_type": "code",
   "execution_count": null,
   "metadata": {},
   "outputs": [],
   "source": [
    "#export\n",
    "def ps_to_py(ps_command='Get-ChildItem', exec_type='-Command', path_to_ps='powershell.exe'):\n",
    "    \"\"\"\n",
    "    - Captures powershell output in python.\n",
    "    - **Parameters**\n",
    "        - ps_command: enclose ps_command in ' ' or \" \".\n",
    "        - exec_type : type of execution, default '-Command', could be '-File'.\n",
    "        - path_to_ps: path to powerhell.exe if not added to PATH variables.\n",
    "    \"\"\"\n",
    "    from subprocess import Popen, PIPE\n",
    "    try: # Works on Linux and Windows if PS version > 5.\n",
    "        cmd = ['pwsh', '-ExecutionPolicy', 'Bypass', exec_type, ps_command]\n",
    "        proc = Popen(cmd, stdout=PIPE, stderr=PIPE)\n",
    "    except FileNotFoundError:\n",
    "        try: # Works only on Windows.\n",
    "            cmd = ['powershell', '-ExecutionPolicy', 'Bypass', exec_type, ps_command]\n",
    "            proc = Popen(cmd, stdout=PIPE, stderr=PIPE)\n",
    "        except FileNotFoundError:\n",
    "            # Works in case nothing above works and you know where is executable.\n",
    "            cmd = [path_to_ps, '-ExecutionPolicy', 'Bypass', exec_type, ps_command]\n",
    "            proc = Popen(cmd, stdout=PIPE, stderr=PIPE)\n",
    "\n",
    "    out=[]; #save to out.\n",
    "    while True:\n",
    "        line = proc.stdout.readline()\n",
    "        if line!=b'':\n",
    "            line=line.strip()\n",
    "            u_line=line.decode(\"utf-8\")\n",
    "            out.append(u_line)\n",
    "        else:\n",
    "            break\n",
    "    out=[item for item in out if item!=''] #filter out empty lines\n",
    "    return out"
   ]
  },
  {
   "cell_type": "code",
   "execution_count": null,
   "metadata": {},
   "outputs": [],
   "source": [
    "#export\n",
    "def ps_to_std(ps_command='Get-ChildItem', exec_type='-Command', path_to_ps='powershell.exe'):\n",
    "    \"\"\"\n",
    "    - Prints powershell output in python std.\n",
    "    - **Parameters**\n",
    "        - ps_command: enclose ps_command in ' ' or \" \".\n",
    "        - exec_type: type of execution, default '-Command', could be '-File'.\n",
    "        - path_to_ps: path to powerhell.exe if not added to PATH variables.\n",
    "    \"\"\"\n",
    "    out=ps_to_py(path_to_ps=path_to_ps,exec_type=exec_type,ps_command=ps_command)\n",
    "    for item in out:\n",
    "        print(item)\n",
    "    return None"
   ]
  },
  {
   "cell_type": "markdown",
   "metadata": {},
   "source": [
    "- `ps_to_std` only outputs returns of powershell to python std.\n",
    "- `ps_to_py`'s return could be manipulated in python."
   ]
  },
  {
   "cell_type": "code",
   "execution_count": null,
   "metadata": {},
   "outputs": [
    {
     "name": "stdout",
     "output_type": "stream",
     "text": [
      "NPM(K)    PM(M)      WS(M)     CPU(s)      Id  SI ProcessName\n",
      "------    -----      -----     ------      --  -- -----------\n",
      "50    38.14      61.34     185.53   17860   1 AltC\n",
      "24    13.38      51.61       2.80   17324   1 ApplicationFrameHost\n",
      "8     1.59       5.84       0.00    5884   0 armsvc\n",
      "39    33.12      46.57      10.81   15428   1 BingWallpaperApp\n",
      "21    42.20      87.60       5.38    2916   1 Code\n"
     ]
    }
   ],
   "source": [
    "ps_to_std(ps_command='(Get-Process)[0..4]')"
   ]
  },
  {
   "cell_type": "code",
   "execution_count": null,
   "metadata": {},
   "outputs": [
    {
     "data": {
      "text/plain": [
       "['NPM(K)    PM(M)      WS(M)     CPU(s)      Id  SI ProcessName',\n",
       " '------    -----      -----     ------      --  -- -----------',\n",
       " '50    38.14      61.34     185.53   17860   1 AltC',\n",
       " '24    13.38      51.61       2.80   17324   1 ApplicationFrameHost',\n",
       " '8     1.59       5.84       0.00    5884   0 armsvc',\n",
       " '39    33.12      46.57      10.81   15428   1 BingWallpaperApp',\n",
       " '21    42.20      87.60       5.38    2916   1 Code']"
      ]
     },
     "execution_count": null,
     "metadata": {},
     "output_type": "execute_result"
    }
   ],
   "source": [
    "pp=ps_to_py(ps_command='(Get-Process)[0..4]')\n",
    "pp"
   ]
  },
  {
   "cell_type": "code",
   "execution_count": null,
   "metadata": {},
   "outputs": [],
   "source": [
    "#export\n",
    "import os\n",
    "import glob\n",
    "#Selection of required project directories.\n",
    "def select_dirs(path = os.getcwd(),include=[],exclude=[]):\n",
    "    \"\"\"\n",
    "    - Returns selected directories recursively from a parent directory.\n",
    "    - **Parameters**\n",
    "        - path    : path to a parent directory, default is `\".\"`\n",
    "        - include : list of keywords to include directories, avoid wildcards.\n",
    "        - exclude : list of keywords to exclude directories, avoid wildcards.\n",
    "    - **Returns**\n",
    "        - Tuple of two elements, list of selcted directories and given path.\n",
    "    \"\"\"\n",
    "    print('Use command `get_child_items()` instead for more flexibility.')\n",
    "    list_dirs=[]; req_dirs=[];\n",
    "    for filename in glob.iglob(path + '**/**', recursive=True):\n",
    "        if os.path.isdir(filename):\n",
    "            list_dirs.append(filename)\n",
    "    for item in list_dirs:\n",
    "        for check in include:\n",
    "            if(check in item):\n",
    "                if(path != os.getcwd()):\n",
    "                    req_dirs.append(item.replace(\"\\\\\",\"/\"))\n",
    "                if(path == os.getcwd()):\n",
    "                    req_dirs.append('.'+(item.split(os.getcwd())[-1]).replace(\"\\\\\",\"/\"))\n",
    "    for item in req_dirs.copy():\n",
    "        for ex in exclude:\n",
    "            if ex in item:\n",
    "                req_dirs.remove(item)\n",
    "    return (req_dirs,path.replace(\"\\\\\",\"/\"))\n",
    "#Selction of files in selected directories.\n",
    "def select_files(path=os.getcwd(),include=[],exclude=[]):\n",
    "    \"\"\"\n",
    "    - Returns selected files from a given directory.\n",
    "    - **Parameters**\n",
    "        - path    : path to a parent directory, default is `\".\"`\n",
    "        - include : list of keywords to include files, avoid wildcards.\n",
    "        - exclude : list of keywords to exclude files, avoid wildcards.\n",
    "    - **Returns**\n",
    "        - Tuple of two elements, list of selcted files and given path.\n",
    "    \"\"\"\n",
    "    print('Use command `get_child_items()` instead for more flexibility.')\n",
    "    req_files=[]\n",
    "    all_files=os.listdir(path)\n",
    "    for file in all_files:\n",
    "        for check in include:\n",
    "                    if(check in file):\n",
    "                        req_files.append(file)\n",
    "    for item in req_files.copy():\n",
    "        for ex in exclude:\n",
    "            if ex in item:\n",
    "                req_files.remove(item)\n",
    "    return (req_files,path.replace(\"\\\\\",\"/\"))"
   ]
  },
  {
   "cell_type": "code",
   "execution_count": null,
   "metadata": {},
   "outputs": [],
   "source": [
    "#export\n",
    "def get_child_items(path = os.getcwd(),depth=None,recursive=True,include=[],exclude=[],filesOnly=False,dirsOnly= False):\n",
    "    \"\"\"\n",
    "    - Returns selected directories/files recursively from a parent directory.\n",
    "    - **Parameters**\n",
    "        - path    : path to a parent directory, default is `\".\"`\n",
    "        - depth   : int, subdirectories depth to get recursively, default is None to list all down.\n",
    "        - recursive : If False, only list current directory items, if True,list all items recursively down the file system.\n",
    "        - include : list or str of keywords to include directories/files, avoid wildcards.\n",
    "        - exclude : list or str of keywords to exclude directories/files, avoid wildcards.\n",
    "        - filesOnly : Boolean, if True, returns only files.\n",
    "        - dirsOnly  : Boolean, if True, returns only directories.\n",
    "    - **Returns**\n",
    "        - GLOB : Tuple (children,parent), children is list of selected directories/files and parent is given path. Access by index of by `get_child_items().{children,path}`.\n",
    "    \"\"\"\n",
    "    import os\n",
    "    import glob\n",
    "    import numpy as np\n",
    "    from collections import namedtuple\n",
    "    if include != None and type(include) == str:\n",
    "        include = [include,]\n",
    "    if exclude != None and type(exclude) == str:\n",
    "        exclude = [exclude,]\n",
    "    path = os.path.abspath(path) # important\n",
    "    pattern = path + '**/**' # Default pattern\n",
    "    if depth != None and type(depth) == int:\n",
    "        pattern = path + '/'.join(['*' for i in range(depth+1)])\n",
    "        if glob.glob(pattern) == []: #If given depth is more, fall back.\n",
    "            pattern = path + '**/**' # Fallback to default pattern if more depth to cover all.\n",
    "    glob_files = glob.iglob(pattern, recursive=recursive)\n",
    "    if dirsOnly == True:\n",
    "        glob_files = filter(lambda f: os.path.isdir(f),glob_files)\n",
    "    if filesOnly == True:\n",
    "        glob_files = filter(lambda f: os.path.isfile(f),glob_files)\n",
    "    list_dirs=[]\n",
    "    for g_f in glob_files:\n",
    "        list_dirs.append(os.path.relpath(g_f,path))\n",
    "    # Include check\n",
    "    req_dirs=[]\n",
    "    if include != []:\n",
    "        for check in include:\n",
    "            req_dirs.extend(list(filter(lambda f: check in f ,list_dirs)))\n",
    "    elif include == []:\n",
    "        req_dirs = list_dirs\n",
    "    # Exclude check\n",
    "    to_exclude = []\n",
    "    if exclude != []:\n",
    "        for ex in exclude:\n",
    "            to_exclude.extend(list(filter(lambda f: ex in f ,req_dirs)))\n",
    "        req_dirs = [r_d for r_d in req_dirs if r_d not in to_exclude]\n",
    "    # Keep only unique\n",
    "    req_dirs = list(np.unique(req_dirs))\n",
    "    out_files = namedtuple('GLOB',['children','parent'])\n",
    "    return out_files(req_dirs,os.path.abspath(path))"
   ]
  },
  {
   "cell_type": "code",
   "execution_count": null,
   "metadata": {},
   "outputs": [
    {
     "name": "stdout",
     "output_type": "stream",
     "text": [
      "Use command `get_child_items()` instead for more flexibility.\n",
      "E:/Research/III_V_Interface/All_Interfaces\n"
     ]
    },
    {
     "data": {
      "text/plain": [
       "['E:/Research/III_V_Interface/All_Interfaces/AlAs_Bi/primitive/Normal',\n",
       " 'E:/Research/III_V_Interface/All_Interfaces/AlAs_Bi/primitive/Normal/__pycache__',\n",
       " 'E:/Research/III_V_Interface/All_Interfaces/AlSb_Bi/primitive/Normal',\n",
       " 'E:/Research/III_V_Interface/All_Interfaces/GaAs_Bi/primitive/Normal',\n",
       " 'E:/Research/III_V_Interface/All_Interfaces/GaSb_Bi/primitive/Normal',\n",
       " 'E:/Research/III_V_Interface/All_Interfaces/InAs_Bi/primitive/Normal',\n",
       " 'E:/Research/III_V_Interface/All_Interfaces/InSb_Bi/primitive/Normal']"
      ]
     },
     "execution_count": null,
     "metadata": {},
     "output_type": "execute_result"
    }
   ],
   "source": [
    "import pivotpy.g_utils as gu\n",
    "dirs,fromdir=gu.select_dirs( path= \"E:/Research/III_V_Interface/All_Interfaces\" ,include=['mal'],exclude=['oped','test'])\n",
    "print(fromdir)\n",
    "dirs"
   ]
  },
  {
   "cell_type": "code",
   "execution_count": null,
   "metadata": {},
   "outputs": [
    {
     "name": "stdout",
     "output_type": "stream",
     "text": [
      "Use command `get_child_items()` instead for more flexibility.\n",
      ".\n"
     ]
    },
    {
     "data": {
      "text/plain": [
       "['index.ipynb',\n",
       " 'StructureIO.ipynb',\n",
       " 'Utilities.ipynb',\n",
       " 'Widgets.ipynb',\n",
       " 'XmlElementTree.ipynb']"
      ]
     },
     "execution_count": null,
     "metadata": {},
     "output_type": "execute_result"
    }
   ],
   "source": [
    "files,fromdir=gu.select_files(path=\".\",include=['ipynb'],exclude=['check','Plots'])\n",
    "print(fromdir)\n",
    "files"
   ]
  },
  {
   "cell_type": "code",
   "execution_count": null,
   "metadata": {},
   "outputs": [
    {
     "name": "stdout",
     "output_type": "stream",
     "text": [
      "E:\\Research\n"
     ]
    },
    {
     "data": {
      "text/plain": [
       "['Current']"
      ]
     },
     "execution_count": null,
     "metadata": {},
     "output_type": "execute_result"
    }
   ],
   "source": [
    "items = get_child_items(path=\"../\",include='Current',exclude=['Jupyter'],dirsOnly=True)\n",
    "print(items.parent)\n",
    "items.children"
   ]
  },
  {
   "cell_type": "code",
   "execution_count": null,
   "metadata": {},
   "outputs": [],
   "source": [
    "#export\n",
    "def invert_color(color=(1,1,1)):\n",
    "    \"\"\"\n",
    "    - Returns opposite of given complementary color.\n",
    "    - Input: Tuple (r,g,b).\n",
    "    \"\"\"\n",
    "    r = min(color)+max(color)\n",
    "    return tuple(r-c for c in color)"
   ]
  },
  {
   "cell_type": "code",
   "execution_count": null,
   "metadata": {},
   "outputs": [
    {
     "data": {
      "text/plain": [
       "(1.0, 0.5, 0.5)"
      ]
     },
     "execution_count": null,
     "metadata": {},
     "output_type": "execute_result"
    }
   ],
   "source": [
    "invert_color((0.5,1,1))"
   ]
  },
  {
   "cell_type": "code",
   "execution_count": null,
   "metadata": {},
   "outputs": [],
   "source": [
    "#export\n",
    "def printr(s): print(\"\\033[91m {}\\033[00m\" .format(s))\n",
    "def printg(s): print(\"\\033[92m {}\\033[00m\" .format(s))\n",
    "def printb(s): print(\"\\033[34m {}\\033[00m\" .format(s))\n",
    "def printy(s): print(\"\\033[93m {}\\033[00m\" .format(s))\n",
    "def printm(s): print(\"\\033[95m {}\\033[00m\" .format(s))\n",
    "def printc(s): print(\"\\033[96m {}\\033[00m\" .format(s))"
   ]
  },
  {
   "cell_type": "code",
   "execution_count": null,
   "metadata": {},
   "outputs": [
    {
     "name": "stdout",
     "output_type": "stream",
     "text": [
      "\u001b[95m ######|||||||||||+++++|||||||||||||######\u001b[00m\n",
      "\u001b[91m ######|||||||||||+++++|||||||||||||######\u001b[00m\n",
      "\u001b[93m ######|||||||||||+++++|||||||||||||######\u001b[00m\n",
      "\u001b[92m ######|||||||||||+++++|||||||||||||######\u001b[00m\n",
      "\u001b[96m ######|||||||||||+++++|||||||||||||######\u001b[00m\n",
      "\u001b[34m ######|||||||||||+++++|||||||||||||######\u001b[00m\n",
      "\u001b[95m ######|||||||||||+++++|||||||||||||######\u001b[00m\n"
     ]
    }
   ],
   "source": [
    "printm('######|||||||||||+++++|||||||||||||######') \n",
    "printr('######|||||||||||+++++|||||||||||||######') \n",
    "printy('######|||||||||||+++++|||||||||||||######') \n",
    "printg('######|||||||||||+++++|||||||||||||######') \n",
    "printc('######|||||||||||+++++|||||||||||||######') \n",
    "printb('######|||||||||||+++++|||||||||||||######') \n",
    "printm('######|||||||||||+++++|||||||||||||######')"
   ]
  },
  {
   "cell_type": "code",
   "execution_count": null,
   "metadata": {},
   "outputs": [],
   "source": [
    "#export\n",
    "import json\n",
    "class EncodeFromNumpy(json.JSONEncoder):\n",
    "    \"\"\"\n",
    "    - Serializes python/Numpy objects via customizing json encoder.\n",
    "    - **Usage**\n",
    "        - `json.dumps(python_dict, cls=EncodeFromNumpy)` to get json string.\n",
    "        - `json.dump(*args, cls=EncodeFromNumpy)` to create a file.json.\n",
    "    \"\"\"\n",
    "    def default(self, obj):\n",
    "        import numpy\n",
    "        if isinstance(obj, numpy.ndarray):\n",
    "            return {\n",
    "                \"_kind_\": \"ndarray\",\n",
    "                \"_value_\": obj.tolist()\n",
    "            }\n",
    "        if isinstance(obj, numpy.integer):\n",
    "            return int(obj)\n",
    "        elif isinstance(obj, numpy.floating):\n",
    "            return float(obj)\n",
    "        elif isinstance(obj,range):\n",
    "            value = list(obj)\n",
    "            return {\n",
    "                \"_kind_\" : \"range\",\n",
    "                \"_value_\" : [value[0],value[-1]+1]\n",
    "            }\n",
    "        return super(EncodeFromNumpy, self).default(obj)\n",
    "\n",
    "\n",
    "\n",
    "class DecodeToNumpy(json.JSONDecoder):\n",
    "    \"\"\"\n",
    "    - Deserilizes JSON object to Python/Numpy's objects.\n",
    "    - **Usage**\n",
    "        - `json.loads(json_string,cls=DecodeToNumpy)` from string, use `json.load()` for file.\n",
    "    \"\"\"\n",
    "    def __init__(self, *args, **kwargs):\n",
    "        json.JSONDecoder.__init__(self, object_hook=self.object_hook, *args, **kwargs)\n",
    "\n",
    "    def object_hook(self, obj):\n",
    "        import numpy\n",
    "        if '_kind_' not in obj:\n",
    "            return obj\n",
    "        kind = obj['_kind_']\n",
    "        if kind == 'ndarray':\n",
    "            return numpy.array(obj['_value_'])\n",
    "        elif kind == 'range':\n",
    "            value = obj['_value_']\n",
    "            return range(value[0],value[-1])\n",
    "        return obj"
   ]
  },
  {
   "cell_type": "code",
   "execution_count": null,
   "metadata": {},
   "outputs": [
    {
     "name": "stdout",
     "output_type": "stream",
     "text": [
      "ORIGINAL DATA : Data(\n",
      "    volume = 105.49324928\n",
      "    basis = <ndarray:shape=(3, 3)>\n",
      "    rec_basis = <ndarray:shape=(3, 3)>\n",
      "    positions = <ndarray:shape=(2, 3)>\n",
      ")\n",
      "\n",
      "JSON STRING : {}\n",
      "\n",
      "RETRIEVED DATA : {}\n"
     ]
    }
   ],
   "source": [
    "import json\n",
    "import pivotpy as pp\n",
    "vr=pp.export_vasprun(path = \"E:/Research/graphene_example/ISPIN_2/bands/vasprun.xml\" ,skipk=88,elim=[0,5])\n",
    "vr.pop('xml',None)\n",
    "print(\"ORIGINAL DATA : {}\\n\".format(vr.poscar))\n",
    "s=json.dumps(vr.poscar, cls=EncodeFromNumpy)\n",
    "print(\"JSON STRING : {}\\n\".format(s))\n",
    "s2 = json.loads(s, cls=DecodeToNumpy)\n",
    "print(\"RETRIEVED DATA : {}\".format(s2))"
   ]
  },
  {
   "cell_type": "code",
   "execution_count": null,
   "metadata": {},
   "outputs": [],
   "source": [
    "#export\n",
    "import inspect,pivotpy as pp\n",
    "class Vasprun:\n",
    "    \"\"\"\n",
    "    - All plotting functions that depend on `export_vasprun` are joined under this class and renamed. \n",
    "    - **Parameters**\n",
    "        - path       : str: path/to/vasprun.xml. Auto picks in CWD. \n",
    "        - skipk      : int: Skip initial kpoints\n",
    "        - elim       : list: Energy range e.g. [-5,5]\n",
    "        - joinPathAt : list: Join broken path at given indices. Could be obtained from `SEG-INDS` if used `trace_kpath`. \n",
    "        - shift_kpath: float: Shift in kpath values for side by side plotting. \n",
    "    - **Attributes**\n",
    "        - data : Return of `export_vasprun` which is auto-picked in plotting methods under this class. \n",
    "    - **Methods**\n",
    "        - sbands    : Shortcut for `quick_bplot`.\n",
    "        - sdos      : Shortcut for `quick_dos_lines`.\n",
    "        - srgb      : Shortcut for `quick_rgb_lines`.\n",
    "        - scolor    : Shortcut for `quick_color_lines`.\n",
    "        - idos      : Shortcut for `plotly_dos_lines`.\n",
    "        - irgb      : Shortcut for `plotly_rgb_lines`.\n",
    "        - get_kwargs: Accepts any of ['sbands','sdos','srgb','scolor','idos','irgb'] as argument and returns argument dictionary for given method that can be unpacked in plotting function argument. \n",
    "    - **Example**\n",
    "        > plots = Plots(path='./vasprun.xml')   \n",
    "        > args_ = plots.get_kwargs('sbands')\n",
    "        > # Modify args_ dictionary as you want\n",
    "        > plots.sbands(**args_)\n",
    "    \"\"\"\n",
    "    def __init__(self,path=None, skipk=None, elim=[], joinPathAt=[], shift_kpath=0):\n",
    "        try:\n",
    "\t        shell = get_ipython().__class__.__name__\n",
    "\t        if shell == 'ZMQInteractiveShell' or shell =='Shell':\n",
    "\t\t        from IPython.display import set_matplotlib_formats\n",
    "\t\t        set_matplotlib_formats('svg')\n",
    "        except: pass\n",
    "        self.data = pp.export_vasprun(path=path, skipk=skipk, elim=elim, joinPathAt=joinPathAt, shift_kpath=shift_kpath)\n",
    "        # DOCS\n",
    "        Vasprun.sbands.__doc__ = '\\n'.join([l for l in pp.quick_bplot.__doc__.split('\\n') if 'path_ev' not in l])\n",
    "        Vasprun.sdos.__doc__ = '\\n'.join([l for l in pp.quick_dos_lines.__doc__.split('\\n') if 'path_ev' not in l])\n",
    "        Vasprun.srgb.__doc__ = '\\n'.join([l for l in pp.quick_rgb_lines.__doc__.split('\\n') if 'path_ev' not in l])\n",
    "        Vasprun.scolor.__doc__ = '\\n'.join([l for l in pp.quick_color_lines.__doc__.split('\\n') if 'path_ev' not in l])\n",
    "        Vasprun.idos.__doc__ = '\\n'.join([l for l in pp.plotly_dos_lines.__doc__.split('\\n') if 'path_ev' not in l])\n",
    "        Vasprun.irgb.__doc__ = '\\n'.join([l for l in pp.plotly_rgb_lines.__doc__.split('\\n') if 'path_ev' not in l])\n",
    "    def get_kwargs(self,plot_type='srgb'):\n",
    "        \"\"\"\n",
    "        - Returns keyword arguments dictionary for given `plot_type` that can be unpacked in function of same plot. \n",
    "        \"\"\"\n",
    "        valid_types = ['sbands','sdos','srgb','scolor','idos','irgb']\n",
    "        if plot_type not in valid_types:\n",
    "            return print(\"'plot_type' expects one of {}, but {!r} found.\".format(valid_types,plot_type)) \n",
    "        if 'sbands' in plot_type:\n",
    "            _args = inspect.getcallargs(pp.quick_bplot)\n",
    "            return {k:v for k,v in _args.items() if 'path_evr' not in k}\n",
    "        elif 'sdos' in plot_type:\n",
    "            _args = inspect.getcallargs(pp.quick_dos_lines)\n",
    "            return {k:v for k,v in _args.items() if 'path_evr' not in k}\n",
    "        elif 'scolor' in plot_type:\n",
    "            _args = inspect.getcallargs(pp.quick_color_lines)\n",
    "            return {k:v for k,v in _args.items() if 'path_evr' not in k}\n",
    "        elif 'idos' in plot_type:\n",
    "            _args = inspect.getcallargs(pp.plotly_dos_lines)\n",
    "            return {k:v for k,v in _args.items() if 'path_evr' not in k}\n",
    "        elif 'irgb' in plot_type:\n",
    "            _args = inspect.getcallargs(pp.plotly_rgb_lines)\n",
    "            return {k:v for k,v in _args.items() if 'path_evr' not in k}\n",
    "        else:\n",
    "            _args = inspect.getcallargs(pp.quick_rgb_lines)\n",
    "            return {k:v for k,v in _args.items() if 'path_evr' not in k}\n",
    "    def sbands(self,**kwargs):\n",
    "        return pp.quick_bplot(self.data,**kwargs)\n",
    "    def sdos(self,**kwargs):\n",
    "        return pp.quick_dos_lines(self.data,**kwargs)\n",
    "    def srgb(self,**kwargs):\n",
    "        return pp.quick_rgb_lines(self.data,**kwargs) \n",
    "    def scolor(self,**kwargs):\n",
    "        return pp.quick_color_lines(self.data,**kwargs)\n",
    "    def idos(self,**kwargs):\n",
    "        return pp.plotly_dos_lines(self.data,**kwargs)\n",
    "    def irgb(self,**kwargs):\n",
    "        return pp.plotly_rgb_lines(self.data,**kwargs)"
   ]
  },
  {
   "cell_type": "markdown",
   "metadata": {},
   "source": [
    "## Add a function as method to a class without defining inside class itself\n",
    "- We can add a function `f` to a class `C` if function includes parameter `self` as shown below:\n",
    "```python\n",
    "def f(self):\n",
    "     print('Do something!')\n",
    "setattr(C, 'f', f)\n",
    "```\n",
    "- We can define a wrapper to attach a method to class without keeping `self` as argument too."
   ]
  },
  {
   "cell_type": "code",
   "execution_count": null,
   "metadata": {},
   "outputs": [],
   "source": [
    "#export\n",
    "def link_to_class(cls):\n",
    "    \"\"\"\n",
    "    - Binds wrapper of a function to class as attribute that does exactly the same as function. Also function returned from wrapper can be used normally as well.\n",
    "    - **Parameters**\n",
    "        - cls : A class object to which function is attached.\n",
    "    \"\"\"\n",
    "    from functools import wraps\n",
    "    def decorator(func):\n",
    "        @wraps(func)\n",
    "        def wrapper(self, *args, **kwargs):\n",
    "            return func(*args, **kwargs)\n",
    "        setattr(cls, func.__name__, wrapper)\n",
    "        return func\n",
    "    return decorator"
   ]
  },
  {
   "cell_type": "code",
   "execution_count": null,
   "metadata": {},
   "outputs": [
    {
     "name": "stdout",
     "output_type": "stream",
     "text": [
      "'Parent' object has no attribute 'f'\n",
      "I am from class Parent!\n",
      "I am independent function!\n",
      "<bound method f of <__main__.Parent object at 0x000001F74F491808>>\n",
      "<function f at 0x000001F74F3D4DC8>\n"
     ]
    }
   ],
   "source": [
    "# See `link_to_class` in action.\n",
    "class Parent:\n",
    "    pass\n",
    "a = Parent()\n",
    "try:\n",
    "    a.f()\n",
    "except AttributeError as ae:\n",
    "    print(ae) \n",
    "\n",
    "# Now lets add f to Parent.\n",
    "@link_to_class(Parent)\n",
    "def f(s):\n",
    "    print(s)\n",
    "\n",
    "a.f('I am from class Parent!')\n",
    "f('I am independent function!')\n",
    "print(a.f) \n",
    "print(f) "
   ]
  },
  {
   "cell_type": "code",
   "execution_count": null,
   "metadata": {},
   "outputs": [],
   "source": [
    "#export\n",
    "def nav_links(current_index=0,\n",
    "            doc_url = r\"https://massgh.github.io/pivotpy/\",\n",
    "            items   = [\"Index\",\n",
    "                       \"XmlElementTree\",\n",
    "                       \"StaticPlots\",\n",
    "                       \"InteractivePlots\",\n",
    "                       \"Utilities\",\n",
    "                       \"StructureIO\",\n",
    "                       \"Widgets\"\n",
    "                       ],\n",
    "            horizontal = False,\n",
    "            out_string = False):\n",
    "    from IPython.display import Markdown\n",
    "    links   = [doc_url+item if not 'Index' in item else doc_url for item in items] \n",
    "    style = \"\"\"<style>a{text-decoration: none !important;color:lightkblue;font-weight:bold;}\n",
    "                a:focus,a:active,a:hover{color:hotpink !important;}</style>\\n\"\"\"\n",
    "    md_str = style\n",
    "    for i,(link,item) in enumerate(zip(links,items)):\n",
    "        if current_index == i: item = \"{}●\".format(item)\n",
    "        if not horizontal:\n",
    "            md_str += \"> [&nbsp;`▶` {}&nbsp;]({})  \\n\".format(item,link)\n",
    "        else:\n",
    "            md_str += \"> [&nbsp;`▶` {}&nbsp;]({})\\n\".format(item,link)\n",
    "    if out_string:\n",
    "        return md_str\n",
    "    return Markdown(md_str)"
   ]
  },
  {
   "cell_type": "code",
   "execution_count": null,
   "metadata": {},
   "outputs": [],
   "source": [
    "#export\n",
    "def export_potential(locpot=None,e = True,m = False):\n",
    "    \"\"\"\n",
    "    - Returns Data from LOCPOT and similar structure files like CHG. Loads only single set out of 2/4 magnetization data to avoid performance/memory cost while can load electrostatic and one set of magnetization together.   \n",
    "    - **Parameters**\n",
    "        - locpot: path/to/LOCPOT or similar stuructured file like CHG. LOCPOT is auto picked in CWD. \n",
    "        - e     : Electric potential/charge density. Default is True. \n",
    "        - m     : Magnetization density m. Default is False. If True, picks `m` for spin polarized case, and `m_x` for non-colinear case. Additionally it can take 'x','y' and 'z' in case of non-colinear calculations. \n",
    "    - **Exceptions**\n",
    "        - Would raise index error if magnetization density set is not present in LOCPOT/CHG in case `m` is not False. \n",
    "    \"\"\"\n",
    "    import numpy as np,os\n",
    "    from io import StringIO\n",
    "    import pivotpy as pp\n",
    "    from itertools import islice # File generator for faster r\n",
    "    if locpot is None:\n",
    "        if os.path.isfile('LOCPOT'):\n",
    "            locpot = 'LOCPOT'\n",
    "        else:\n",
    "            return print('./LOCPOT not found.')\n",
    "    else:\n",
    "        if not os.path.isfile(locpot):\n",
    "            return print(\"File {!r} does not exist!\".format(locpot))\n",
    "    if m not in [True,False,'x','y','z']:\n",
    "        return print(\"m expects one of [True,False,'x','y','z'], got {}\".format(e))\n",
    "    # Reading File\n",
    "    with open(locpot,'r') as f:\n",
    "        lines = []\n",
    "        f.seek(0)\n",
    "        for i in range(8):\n",
    "            lines.append(f.readline())\n",
    "        N = sum([int(v) for v in lines[6].split()])\n",
    "        f.seek(0)\n",
    "        poscar = []\n",
    "        for i in range(N+8):\n",
    "            poscar.append(f.readline())\n",
    "        f.readline() # Empty one \n",
    "        Nxyz = [int(v) for v in f.readline().split()] # Grid line read\n",
    "        nlines = np.ceil(np.prod(Nxyz)/5).astype(int)\n",
    "        #islice is faster generator for reading potential\n",
    "        if e == True:\n",
    "            potential = [l for l in islice(f, nlines)] # Do not join here. \n",
    "            ignore_set = 0 # Pointer already ahead.\n",
    "        else:\n",
    "            ignore_set = nlines # Needs to move pointer to magnetization\n",
    "        #reading Magnetization if True\n",
    "        ignore_n = np.ceil(N/5).astype(int)+1 #Some kind of useless data\n",
    "        if m == True:\n",
    "            print(\"m = True would pick m_x for non-colinear case, and m for ISPIN=2.\\nUse m='x' for non-colinear or keep in mind that m will refer to m_x.\")\n",
    "            # Needs to spare lines in generator, otherwise pointer does not go ahead. \n",
    "            _ = [l for l in islice(f, ignore_n+ignore_set)] # +1 for Nx Ny Nz Line\n",
    "            mag_pot = [l for l in islice(f, nlines)] # Do not join here.\n",
    "        elif m == 'x':\n",
    "            _ = [l for l in islice(f, ignore_n+ignore_set)] # +1 for Nx Ny Nz Line\n",
    "            mag_pot = [l for l in islice(f, nlines)] # Do not join here.\n",
    "        elif m == 'y':\n",
    "            _ = [l for l in islice(f, 2*ignore_n+nlines+ignore_set)] # +1 for Nx Ny Nz Line\n",
    "            mag_pot = [l for l in islice(f, nlines)] # Do not join here.\n",
    "        elif m == 'z':\n",
    "            _ = [l for l in islice(f, 3*ignore_n+2*nlines+ignore_set)] # +1 for Nx Ny Nz Line\n",
    "            mag_pot = [l for l in islice(f, nlines)] # Do not join here.\n",
    "\n",
    "    # Read Info\n",
    "    basis = np.loadtxt(StringIO(''.join(poscar[2:5])))*float(poscar[1].strip())\n",
    "    system = poscar[0].strip()\n",
    "    ElemName = poscar[5].split()\n",
    "    ElemIndex = [int(v) for v in poscar[6].split()]\n",
    "    ElemIndex.insert(0,0)\n",
    "    ElemIndex = list(np.cumsum(ElemIndex))\n",
    "    positions = np.loadtxt(StringIO(''.join(poscar[8:N+9])))\n",
    "    \n",
    "    #Reshape Potential and magnetization by this function\n",
    "    def fix_v_data(lines,shape):\n",
    "        first_pot = np.loadtxt(StringIO(''.join(lines[:-1])))\n",
    "        last_pot = np.loadtxt(StringIO(''.join(lines[-1]))) #incomplete line to read separately\n",
    "        # data written on LOCPOT is this way, x wrapped in y and then xy wrapped in z. so reshape as NGz,NGy,NGx\n",
    "        N_reshape = [shape[2],shape[1],shape[0]]\n",
    "        xyz_pot = np.hstack([first_pot.reshape((-1)),last_pot]).reshape(N_reshape)\n",
    "        xyz_pot = np.transpose(xyz_pot,[2,1,0]) # make xyz back for logical indexing.\n",
    "        return xyz_pot\n",
    "    final_dict = dict(SYSTEM=system,ElemName=ElemName,ElemIndex=ElemIndex,basis=basis,positions=positions)\n",
    "    if e == True:\n",
    "        xyz_pot = fix_v_data(lines=potential,shape=Nxyz)\n",
    "        final_dict.update({'e':xyz_pot})\n",
    "    if m == True:\n",
    "        xyz_pot = fix_v_data(lines=mag_pot,shape=Nxyz)\n",
    "        final_dict.update({'m':xyz_pot})\n",
    "    elif m == 'x':\n",
    "        xyz_pot = fix_v_data(lines=mag_pot,shape=Nxyz)\n",
    "        final_dict.update({'m_x':xyz_pot})\n",
    "    elif m == 'y':\n",
    "        xyz_pot = fix_v_data(lines=mag_pot,shape=Nxyz)\n",
    "        final_dict.update({'m_y':xyz_pot})\n",
    "    elif m == 'z':\n",
    "        xyz_pot = fix_v_data(lines=mag_pot,shape=Nxyz)\n",
    "        final_dict.update({'m_z':xyz_pot})\n",
    "    return pp.Dict2Data(final_dict)"
   ]
  },
  {
   "cell_type": "code",
   "execution_count": null,
   "metadata": {},
   "outputs": [],
   "source": [
    "#export \n",
    "import pivotpy as pp\n",
    "class LOCPOT_CHG:\n",
    "    \"\"\"\n",
    "    - Returns Data from LOCPOT and similar structure files like CHG. Loads only single set out of 2/4 magnetization data to avoid performance/memory cost while can load electrostatic and one set of magnetization together.   \n",
    "    - **Parameters**\n",
    "        - path: path/to/LOCPOT or similar stuructured file like CHG. LOCPOT is auto picked in CWD. \n",
    "        - e   : Electric potential/charge density. Default is True. \n",
    "        - m   : Magnetization density m. Default is False. If True, picks `m` for spin polarized case, and `m_x` for non-colinear case. Additionally it can take 'x','y' and 'z' in case of non-colinear calculations. \n",
    "    - **Exceptions**\n",
    "        - Would raise index error if magnetization density set is not present in LOCPOT/CHG in case `m` is not False. \n",
    "    \"\"\"\n",
    "    def __init__(self,path=None,e = True,m = False):\n",
    "        try:\n",
    "\t        shell = get_ipython().__class__.__name__\n",
    "\t        if shell == 'ZMQInteractiveShell' or shell =='Shell':\n",
    "\t\t        from IPython.display import set_matplotlib_formats\n",
    "\t\t        set_matplotlib_formats('svg')\n",
    "        except: pass\n",
    "        self.path = path # Must be\n",
    "        self.m = m # Required to put in plots. \n",
    "        self.data = pp.export_potential(locpot=path, e=e,m=m)\n",
    "        # DOCS\n",
    "        lines = pp.plot_potential.__doc__.split('\\n')\n",
    "        lines = [l for l in [l for l in lines if 'basis' not in l] if 'e_or_m' not in l]\n",
    "        LOCPOT_CHG.plot_e.__doc__ = '\\n'.join(lines)\n",
    "        LOCPOT_CHG.plot_m.__doc__ = '\\n'.join(lines)\n",
    "        \n",
    "    def plot_e(self,operation='mean_z',ax=None,period=None,\n",
    "                 lr_pos=(0.25,0.75),lr_widths = [0.5,0.5],\n",
    "                 labels=(r'$V(z)$',r'$\\langle V \\rangle _{roll}(z)$',r'$\\langle V \\rangle $'),\n",
    "                 colors = ((0,0.2,0.7),'b','r'),annotate=True):\n",
    "        return pp.plot_potential(basis=self.data.basis,e_or_m=self.data.e,operation=operation,\n",
    "                                    ax=ax,period=period,lr_pos=lr_pos,lr_widths=lr_widths,\n",
    "                                    labels=labels,colors=colors,annotate=annotate)\n",
    "\n",
    "    def plot_m(self,operation='mean_z',ax=None,period=None,\n",
    "                lr_pos=(0.25,0.75),lr_widths = [0.5,0.5],\n",
    "                labels=(r'$M(z)$',r'$\\langle M \\rangle _{roll}(z)$',r'$\\langle M \\rangle $'),\n",
    "                colors = ((0,0.2,0.7),'b','r'),annotate=True):\n",
    "        if self.m == True:\n",
    "            e_or_m = self.data.m \n",
    "        elif self.m == 'x':\n",
    "            e_or_m = self.data.m_x\n",
    "        elif self.m == 'y':\n",
    "            e_or_m = self.data.m_y\n",
    "        elif self.m == 'z':\n",
    "            e_or_m = self.data.m_z \n",
    "        else:\n",
    "            return print(\"Magnetization data set does not exist in {}\".format(self.path))\n",
    "        return pp.plot_potential(basis=self.data.basis,e_or_m=e_or_m,operation=operation,\n",
    "                                    ax=ax,period=period,lr_pos=lr_pos,lr_widths=lr_widths,\n",
    "                                    labels=labels,colors=colors,annotate=annotate) \n"
   ]
  },
  {
   "cell_type": "code",
   "execution_count": null,
   "metadata": {},
   "outputs": [
    {
     "name": "stdout",
     "output_type": "stream",
     "text": [
      "./LOCPOT not found.\n"
     ]
    },
    {
     "data": {
      "text/plain": [
       "\"\\n    - Returns tuple(ax,Data) where Data contains resultatnt parameters of averaged potential of LOCPOT.\\n    - **Parameters**\\n        - operation: Default is 'mean_z'. What to do with provided volumetric potential data. Anyone of these 'mean_x','min_x','max_x','mean_y','min_y','max_y','mean_z','min_z','max_z'.\\n        - ax: Matplotlib axes, if not given auto picks.\\n        - period: Periodicity of potential in fraction between 0 and 1. For example if a slab is made of 4 super cells in z-direction, period=0.25.\\n        - lr_pos: Locations around which averages are taken.Default (0.25,0.75). Provide in fraction between 0 and 1. Center of period is located at these given fractions. Work only if period is given.\\n        - lr_widths: Default is [0.5,0.5], you may have slabs which have different lengths on left and right side. Provide a pair proportional to widths e.g (1,1), (1,1.1) etc. and it is auto normalized to 1. Works only if period is given.\\n        - labels: List of three labels for legend. Use plt.legend() or pp.add_legend() after plot_v for legends to appear. First entry is potential, second is its convolution and third is complete average.\\n        - colors: List of three colors for lines.\\n    \""
      ]
     },
     "execution_count": null,
     "metadata": {},
     "output_type": "execute_result"
    }
   ],
   "source": [
    "LOCPOT_CHG().plot_"
   ]
  },
  {
   "cell_type": "code",
   "execution_count": null,
   "metadata": {},
   "outputs": [
    {
     "data": {
      "text/markdown": [
       "<style>a{text-decoration: none !important;color:lightkblue;font-weight:bold;}\n",
       "                a:focus,a:active,a:hover{color:hotpink !important;}</style>\n",
       "> [&nbsp;`▶` Index&nbsp;](https://massgh.github.io/pivotpy/)  \n",
       "> [&nbsp;`▶` XmlElementTree&nbsp;](https://massgh.github.io/pivotpy/XmlElementTree)  \n",
       "> [&nbsp;`▶` StaticPlots&nbsp;](https://massgh.github.io/pivotpy/StaticPlots)  \n",
       "> [&nbsp;`▶` InteractivePlots&nbsp;](https://massgh.github.io/pivotpy/InteractivePlots)  \n",
       "> [&nbsp;`▶` Utilities●&nbsp;](https://massgh.github.io/pivotpy/Utilities)  \n",
       "> [&nbsp;`▶` StructureIO&nbsp;](https://massgh.github.io/pivotpy/StructureIO)  \n",
       "> [&nbsp;`▶` Widgets&nbsp;](https://massgh.github.io/pivotpy/Widgets)  \n"
      ],
      "text/plain": [
       "<IPython.core.display.Markdown object>"
      ]
     },
     "execution_count": null,
     "metadata": {},
     "output_type": "execute_result"
    }
   ],
   "source": [
    "#hide_input\n",
    "from IPython.display import Markdown\n",
    "nav_links(4)"
   ]
  },
  {
   "cell_type": "code",
   "execution_count": null,
   "metadata": {},
   "outputs": [],
   "source": []
  }
 ],
 "metadata": {
  "kernelspec": {
   "display_name": "Python 3.7.6 64-bit",
   "language": "python",
   "name": "python37664bita511f18cfc7e44c89db72e4d1298f945"
  }
 },
 "nbformat": 4,
 "nbformat_minor": 4
}
