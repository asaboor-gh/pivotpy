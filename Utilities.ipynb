{
 "cells": [
  {
   "cell_type": "code",
   "execution_count": null,
   "metadata": {},
   "outputs": [],
   "source": [
    "# default_exp g_utils"
   ]
  },
  {
   "cell_type": "code",
   "execution_count": null,
   "metadata": {},
   "outputs": [
    {
     "data": {
      "text/markdown": "<style>\n                a{text-decoration: none;color:lightkblue;font-weight:bold;}\n                a:focus,a:active.a:hover{color:hotpink;}\n                </style>\n**Navigation:** [Index&nbsp;&nbsp;](https://massgh.github.io/pivotpy/)\n[XmlElementTree&nbsp;&nbsp;](https://massgh.github.io/pivotpy/XmlElementTree)\n[StaticPlots&nbsp;&nbsp;](https://massgh.github.io/pivotpy/StaticPlots)\n[InteractivePlots&nbsp;&nbsp;](https://massgh.github.io/pivotpy/InteractivePlots)\n[●Utilities&nbsp;&nbsp;](https://massgh.github.io/pivotpy/Utilities)\n[StructureIO&nbsp;&nbsp;](https://massgh.github.io/pivotpy/StructureIO)\n[Widgets&nbsp;&nbsp;](https://massgh.github.io/pivotpy/Widgets)\n",
      "text/plain": [
       "<IPython.core.display.Markdown object>"
      ]
     },
     "execution_count": null,
     "metadata": {},
     "output_type": "execute_result"
    }
   ],
   "source": [
    "#hide_input\n",
    "import pivotpy as pp \n",
    "pp.nav_links(4)"
   ]
  },
  {
   "cell_type": "markdown",
   "metadata": {},
   "source": [
    "# Utilities\n",
    "\n",
    "> This includes generally useful functions, including running PowerShell commands from Python."
   ]
  },
  {
   "cell_type": "code",
   "execution_count": null,
   "metadata": {},
   "outputs": [],
   "source": [
    "#hide\n",
    "from numpy.core.overrides import set_module"
   ]
  },
  {
   "cell_type": "code",
   "execution_count": null,
   "metadata": {},
   "outputs": [],
   "source": [
    "#export\n",
    "def get_file_size(path):\n",
    "    import os\n",
    "    if os.path.isfile(path):\n",
    "        size = os.stat(path).st_size\n",
    "        for unit in ['Bytes','KB','MB','GB','TB']:\n",
    "            if size < 1024.0:\n",
    "                return \"%3.2f %s\" % (size,unit)\n",
    "            size /= 1024.0\n",
    "    else:\n",
    "        return ''"
   ]
  },
  {
   "cell_type": "code",
   "execution_count": null,
   "metadata": {},
   "outputs": [
    {
     "data": {
      "text/plain": [
       "'24.41 KB'"
      ]
     },
     "execution_count": null,
     "metadata": {},
     "output_type": "execute_result"
    }
   ],
   "source": [
    "get_file_size('Utilities.ipynb')"
   ]
  },
  {
   "cell_type": "code",
   "execution_count": null,
   "metadata": {},
   "outputs": [],
   "source": [
    "#export\n",
    "def interpolate_data(x,y,n=10,k=3):\n",
    "    \"\"\"\n",
    "    - Returns interpolated xnew,ynew. If two points are same, it will add 0.1*min(dx>0) to compensate it.\n",
    "    - **Parameters**\n",
    "        - x: 1D array of size p,\n",
    "        - y: ndarray of size p*q*r,....\n",
    "        - n: Number of points to add between two given points.\n",
    "        - k: Polynomial order to interpolate.\n",
    "\n",
    "    - Only axis 0 will be interpolated. If you want general interploation, use `from scipy.interpolate import make_interp_spline, BSpline`\n",
    "\n",
    "    - **General Usage**: K(p),E(p,q) input from bandstructure.\n",
    "        - `Knew,Enew= interpolate_data(K,E,n=10,k=3)`. cubic interploation\n",
    "    \"\"\"\n",
    "    import numpy as np\n",
    "    #Add very small values at simliar points to make interpolation work.\n",
    "    ind=[i for i in range(0,len(x)) if x[i-1]==x[i]] #Duplicate indices\n",
    "    xa=np.unique(x)\n",
    "    dx=0.1*np.min(xa[1:]-xa[:-1])\n",
    "    if(ind):\n",
    "        for pt in ind:\n",
    "            x[pt:]=x[pt:]-x[pt]+x[pt-1]+dx\n",
    "    # Now Apply interpolation\n",
    "    from scipy.interpolate import make_interp_spline, BSpline\n",
    "    xnew=[np.linspace(x[i],x[i+1],n) for i in range(len(x)-1)]\n",
    "    xnew=np.reshape(xnew,(-1))\n",
    "    spl = make_interp_spline(x, y, k=k) #BSpline object\n",
    "    ynew = spl(xnew)\n",
    "    return xnew,ynew"
   ]
  },
  {
   "cell_type": "code",
   "execution_count": null,
   "metadata": {},
   "outputs": [],
   "source": [
    "#export\n",
    "def ps_to_py(ps_command='Get-ChildItem', exec_type='-Command', path_to_ps='powershell.exe'):\n",
    "    \"\"\"\n",
    "    - Captures powershell output in python.\n",
    "    - **Parameters**\n",
    "        - ps_command: enclose ps_command in ' ' or \" \".\n",
    "        - exec_type : type of execution, default '-Command', could be '-File'.\n",
    "        - path_to_ps: path to powerhell.exe if not added to PATH variables.\n",
    "    \"\"\"\n",
    "    from subprocess import Popen, PIPE\n",
    "    try: # Works on Linux and Windows if PS version > 5.\n",
    "        cmd = ['pwsh', '-ExecutionPolicy', 'Bypass', exec_type, ps_command]\n",
    "        proc = Popen(cmd, stdout=PIPE, stderr=PIPE)\n",
    "    except FileNotFoundError:\n",
    "        try: # Works only on Windows.\n",
    "            cmd = ['powershell', '-ExecutionPolicy', 'Bypass', exec_type, ps_command]\n",
    "            proc = Popen(cmd, stdout=PIPE, stderr=PIPE)\n",
    "        except FileNotFoundError:\n",
    "            # Works in case nothing above works and you know where is executable.\n",
    "            cmd = [path_to_ps, '-ExecutionPolicy', 'Bypass', exec_type, ps_command]\n",
    "            proc = Popen(cmd, stdout=PIPE, stderr=PIPE)\n",
    "\n",
    "    out=[]; #save to out.\n",
    "    while True:\n",
    "        line = proc.stdout.readline()\n",
    "        if line!=b'':\n",
    "            line=line.strip()\n",
    "            u_line=line.decode(\"utf-8\")\n",
    "            out.append(u_line)\n",
    "        else:\n",
    "            break\n",
    "    out=[item for item in out if item!=''] #filter out empty lines\n",
    "    return out"
   ]
  },
  {
   "cell_type": "code",
   "execution_count": null,
   "metadata": {},
   "outputs": [],
   "source": [
    "#export\n",
    "def ps_to_std(ps_command='Get-ChildItem', exec_type='-Command', path_to_ps='powershell.exe'):\n",
    "    \"\"\"\n",
    "    - Prints powershell output in python std.\n",
    "    - **Parameters**\n",
    "        - ps_command: enclose ps_command in ' ' or \" \".\n",
    "        - exec_type: type of execution, default '-Command', could be '-File'.\n",
    "        - path_to_ps: path to powerhell.exe if not added to PATH variables.\n",
    "    \"\"\"\n",
    "    out=ps_to_py(path_to_ps=path_to_ps,exec_type=exec_type,ps_command=ps_command)\n",
    "    for item in out:\n",
    "        print(item)\n",
    "    return None"
   ]
  },
  {
   "cell_type": "markdown",
   "metadata": {},
   "source": [
    "- `ps_to_std` only outputs returns of powershell to python std.\n",
    "- `ps_to_py`'s return could be manipulated in python."
   ]
  },
  {
   "cell_type": "code",
   "execution_count": null,
   "metadata": {},
   "outputs": [
    {
     "name": "stdout",
     "output_type": "stream",
     "text": [
      "Handles  NPM(K)    PM(K)      WS(K)     CPU(s)     Id  SI ProcessName\n",
      "-------  ------    -----      -----     ------     --  -- -----------\n",
      "560      49    39564      75824      17.38  16184   1 AltC\n",
      "271      17     6072      24920       1.67   6776   1 ApplicationFrameHost\n",
      "147       9     1432       5860              5320   0 armsvc\n",
      "416      22   300176      39328       7.36   3556   0 audiodg\n",
      "331      17     4656       6532       2.19  14560   1 CastSrv\n"
     ]
    }
   ],
   "source": [
    "ps_to_std(ps_command='(Get-Process)[0..4]')"
   ]
  },
  {
   "cell_type": "code",
   "execution_count": null,
   "metadata": {},
   "outputs": [
    {
     "data": {
      "text/plain": [
       "['NPM(K)    PM(M)      WS(M)     CPU(s)      Id  SI ProcessName',\n",
       " '------    -----      -----     ------      --  -- -----------',\n",
       " '48    37.55      63.02       8.05   15160   1 AltC',\n",
       " '32    30.82      83.93       0.48   15984   1 ApplicationFrameHost',\n",
       " '8     1.56       5.47       0.00    5144   0 armsvc',\n",
       " '33    21.95      37.47       0.89    2424   1 BingWallpaperApp',\n",
       " '9     1.66       8.92       0.03   15632   1 browser_broker']"
      ]
     },
     "execution_count": null,
     "metadata": {},
     "output_type": "execute_result"
    }
   ],
   "source": [
    "pp=ps_to_py(ps_command='(Get-Process)[0..4]')\n",
    "pp"
   ]
  },
  {
   "cell_type": "code",
   "execution_count": null,
   "metadata": {},
   "outputs": [],
   "source": [
    "#export\n",
    "import os\n",
    "import glob\n",
    "#Selection of required project directories.\n",
    "def select_dirs(path = os.getcwd(),include=[],exclude=[]):\n",
    "    \"\"\"\n",
    "    - Returns selected directories recursively from a parent directory.\n",
    "    - **Parameters**\n",
    "        - path    : path to a parent directory, default is `\".\"`\n",
    "        - include : list of keywords to include directories, avoid wildcards.\n",
    "        - exclude : list of keywords to exclude directories, avoid wildcards.\n",
    "    - **Returns**\n",
    "        - Tuple of two elements, list of selcted directories and given path.\n",
    "    \"\"\"\n",
    "    print('Use command `get_child_items()` instead for more flexibility.')\n",
    "    list_dirs=[]; req_dirs=[];\n",
    "    for filename in glob.iglob(path + '**/**', recursive=True):\n",
    "        if os.path.isdir(filename):\n",
    "            list_dirs.append(filename)\n",
    "    for item in list_dirs:\n",
    "        for check in include:\n",
    "            if(check in item):\n",
    "                if(path != os.getcwd()):\n",
    "                    req_dirs.append(item.replace(\"\\\\\",\"/\"))\n",
    "                if(path == os.getcwd()):\n",
    "                    req_dirs.append('.'+(item.split(os.getcwd())[-1]).replace(\"\\\\\",\"/\"))\n",
    "    for item in req_dirs.copy():\n",
    "        for ex in exclude:\n",
    "            if ex in item:\n",
    "                req_dirs.remove(item)\n",
    "    return (req_dirs,path.replace(\"\\\\\",\"/\"))\n",
    "#Selction of files in selected directories.\n",
    "def select_files(path=os.getcwd(),include=[],exclude=[]):\n",
    "    \"\"\"\n",
    "    - Returns selected files from a given directory.\n",
    "    - **Parameters**\n",
    "        - path    : path to a parent directory, default is `\".\"`\n",
    "        - include : list of keywords to include files, avoid wildcards.\n",
    "        - exclude : list of keywords to exclude files, avoid wildcards.\n",
    "    - **Returns**\n",
    "        - Tuple of two elements, list of selcted files and given path.\n",
    "    \"\"\"\n",
    "    print('Use command `get_child_items()` instead for more flexibility.')\n",
    "    req_files=[]\n",
    "    all_files=os.listdir(path)\n",
    "    for file in all_files:\n",
    "        for check in include:\n",
    "                    if(check in file):\n",
    "                        req_files.append(file)\n",
    "    for item in req_files.copy():\n",
    "        for ex in exclude:\n",
    "            if ex in item:\n",
    "                req_files.remove(item)\n",
    "    return (req_files,path.replace(\"\\\\\",\"/\"))"
   ]
  },
  {
   "cell_type": "code",
   "execution_count": null,
   "metadata": {},
   "outputs": [],
   "source": [
    "#export\n",
    "def get_child_items(path = os.getcwd(),depth=None,recursive=True,include=[],exclude=[],filesOnly=False,dirsOnly= False):\n",
    "    \"\"\"\n",
    "    - Returns selected directories/files recursively from a parent directory.\n",
    "    - **Parameters**\n",
    "        - path    : path to a parent directory, default is `\".\"`\n",
    "        - depth   : int, subdirectories depth to get recursively, default is None to list all down.\n",
    "        - recursive : If False, only list current directory items, if True,list all items recursively down the file system.\n",
    "        - include : list or str of keywords to include directories/files, avoid wildcards.\n",
    "        - exclude : list or str of keywords to exclude directories/files, avoid wildcards.\n",
    "        - filesOnly : Boolean, if True, returns only files.\n",
    "        - dirsOnly  : Boolean, if True, returns only directories.\n",
    "    - **Returns**\n",
    "        - GLOB : Tuple (children,parent), children is list of selected directories/files and parent is given path. Access by index of by `get_child_items().{children,path}`.\n",
    "    \"\"\"\n",
    "    import os\n",
    "    import glob\n",
    "    import numpy as np\n",
    "    from collections import namedtuple\n",
    "    if include != None and type(include) == str:\n",
    "        include = [include,]\n",
    "    if exclude != None and type(exclude) == str:\n",
    "        exclude = [exclude,]\n",
    "    path = os.path.abspath(path) # important\n",
    "    pattern = path + '**/**' # Default pattern\n",
    "    if depth != None and type(depth) == int:\n",
    "        pattern = path + '/'.join(['*' for i in range(depth+1)])\n",
    "        if glob.glob(pattern) == []: #If given depth is more, fall back.\n",
    "            pattern = path + '**/**' # Fallback to default pattern if more depth to cover all.\n",
    "    glob_files = glob.iglob(pattern, recursive=recursive)\n",
    "    if dirsOnly == True:\n",
    "        glob_files = filter(lambda f: os.path.isdir(f),glob_files)\n",
    "    if filesOnly == True:\n",
    "        glob_files = filter(lambda f: os.path.isfile(f),glob_files)\n",
    "    list_dirs=[]\n",
    "    for g_f in glob_files:\n",
    "        list_dirs.append(os.path.relpath(g_f,path))\n",
    "    # Include check\n",
    "    req_dirs=[]\n",
    "    if include != []:\n",
    "        for check in include:\n",
    "            req_dirs.extend(list(filter(lambda f: check in f ,list_dirs)))\n",
    "    elif include == []:\n",
    "        req_dirs = list_dirs\n",
    "    # Exclude check\n",
    "    to_exclude = []\n",
    "    if exclude != []:\n",
    "        for ex in exclude:\n",
    "            to_exclude.extend(list(filter(lambda f: ex in f ,req_dirs)))\n",
    "        req_dirs = [r_d for r_d in req_dirs if r_d not in to_exclude]\n",
    "    # Keep only unique\n",
    "    req_dirs = list(np.unique(req_dirs))\n",
    "    out_files = namedtuple('GLOB',['children','parent'])\n",
    "    return out_files(req_dirs,os.path.abspath(path))"
   ]
  },
  {
   "cell_type": "code",
   "execution_count": null,
   "metadata": {},
   "outputs": [
    {
     "name": "stdout",
     "output_type": "stream",
     "text": [
      "Use command `get_child_items() instead for more flexibility.\n",
      "E:/Research/III_V_Interface/All_Interfaces\n"
     ]
    },
    {
     "data": {
      "text/plain": [
       "['E:/Research/III_V_Interface/All_Interfaces/AlAs_Bi/primitive/Normal',\n",
       " 'E:/Research/III_V_Interface/All_Interfaces/AlSb_Bi/primitive/Normal',\n",
       " 'E:/Research/III_V_Interface/All_Interfaces/GaAs_Bi/primitive/Normal',\n",
       " 'E:/Research/III_V_Interface/All_Interfaces/GaSb_Bi/primitive/Normal',\n",
       " 'E:/Research/III_V_Interface/All_Interfaces/InAs_Bi/primitive/Normal',\n",
       " 'E:/Research/III_V_Interface/All_Interfaces/InSb_Bi/primitive/Normal']"
      ]
     },
     "execution_count": null,
     "metadata": {},
     "output_type": "execute_result"
    }
   ],
   "source": [
    "import pivotpy.g_utils as gu\n",
    "dirs,fromdir=gu.select_dirs( path= \"E:/Research/III_V_Interface/All_Interfaces\" ,include=['mal'],exclude=['oped','test'])\n",
    "print(fromdir)\n",
    "dirs"
   ]
  },
  {
   "cell_type": "code",
   "execution_count": null,
   "metadata": {},
   "outputs": [
    {
     "name": "stdout",
     "output_type": "stream",
     "text": [
      "Use command `get_child_items() instead for more flexibility.\n",
      ".\n"
     ]
    },
    {
     "data": {
      "text/plain": [
       "['index.ipynb',\n",
       " 'Structure IO.ipynb',\n",
       " 'Utilities.ipynb',\n",
       " 'XmlElementTree.ipynb']"
      ]
     },
     "execution_count": null,
     "metadata": {},
     "output_type": "execute_result"
    }
   ],
   "source": [
    "files,fromdir=gu.select_files(path=\".\",include=['ipynb'],exclude=['check','Plots'])\n",
    "print(fromdir)\n",
    "files"
   ]
  },
  {
   "cell_type": "code",
   "execution_count": null,
   "metadata": {},
   "outputs": [
    {
     "name": "stdout",
     "output_type": "stream",
     "text": [
      "e:\\Research\n"
     ]
    },
    {
     "data": {
      "text/plain": [
       "['Current', 'Current\\\\DOS', 'Current\\\\__pycache__']"
      ]
     },
     "execution_count": null,
     "metadata": {},
     "output_type": "execute_result"
    }
   ],
   "source": [
    "items = get_child_items(path=\"../\",include='Current',exclude=['Jupyter'],dirsOnly=True)\n",
    "print(items.parent)\n",
    "items.children"
   ]
  },
  {
   "cell_type": "code",
   "execution_count": null,
   "metadata": {},
   "outputs": [],
   "source": [
    "#export\n",
    "def invert_color(color=(1,1,1)):\n",
    "    \"\"\"\n",
    "    - Returns opposite of given complementary color.\n",
    "    - Input: Tuple (r,g,b).\n",
    "    \"\"\"\n",
    "    r = min(color)+max(color)\n",
    "    return tuple(r-c for c in color)"
   ]
  },
  {
   "cell_type": "code",
   "execution_count": null,
   "metadata": {},
   "outputs": [
    {
     "data": {
      "text/plain": [
       "(1.0, 0.5, 0.5)"
      ]
     },
     "execution_count": null,
     "metadata": {},
     "output_type": "execute_result"
    }
   ],
   "source": [
    "invert_color((0.5,1,1))"
   ]
  },
  {
   "cell_type": "code",
   "execution_count": null,
   "metadata": {},
   "outputs": [],
   "source": [
    "#export\n",
    "def printr(s): print(\"\\033[91m {}\\033[00m\" .format(s))\n",
    "def printg(s): print(\"\\033[92m {}\\033[00m\" .format(s))\n",
    "def printb(s): print(\"\\033[34m {}\\033[00m\" .format(s))\n",
    "def printy(s): print(\"\\033[93m {}\\033[00m\" .format(s))\n",
    "def printm(s): print(\"\\033[95m {}\\033[00m\" .format(s))\n",
    "def printc(s): print(\"\\033[96m {}\\033[00m\" .format(s))"
   ]
  },
  {
   "cell_type": "code",
   "execution_count": null,
   "metadata": {},
   "outputs": [
    {
     "name": "stdout",
     "output_type": "stream",
     "text": [
      "\u001b[95m ######|||||||||||+++++|||||||||||||######\u001b[00m\n",
      "\u001b[91m ######|||||||||||+++++|||||||||||||######\u001b[00m\n",
      "\u001b[93m ######|||||||||||+++++|||||||||||||######\u001b[00m\n",
      "\u001b[92m ######|||||||||||+++++|||||||||||||######\u001b[00m\n",
      "\u001b[96m ######|||||||||||+++++|||||||||||||######\u001b[00m\n",
      "\u001b[34m ######|||||||||||+++++|||||||||||||######\u001b[00m\n",
      "\u001b[95m ######|||||||||||+++++|||||||||||||######\u001b[00m\n"
     ]
    }
   ],
   "source": [
    "printm('######|||||||||||+++++|||||||||||||######') \n",
    "printr('######|||||||||||+++++|||||||||||||######') \n",
    "printy('######|||||||||||+++++|||||||||||||######') \n",
    "printg('######|||||||||||+++++|||||||||||||######') \n",
    "printc('######|||||||||||+++++|||||||||||||######') \n",
    "printb('######|||||||||||+++++|||||||||||||######') \n",
    "printm('######|||||||||||+++++|||||||||||||######')"
   ]
  },
  {
   "cell_type": "code",
   "execution_count": null,
   "metadata": {},
   "outputs": [],
   "source": [
    "#export\n",
    "import json\n",
    "class EncodeFromNumpy(json.JSONEncoder):\n",
    "    \"\"\"\n",
    "    - Serializes python/Numpy objects via customizing json encoder.\n",
    "    - **Usage**\n",
    "        - `json.dumps(python_dict, cls=EncodeFromNumpy)` to get json string.\n",
    "        - `json.dump(*args, cls=EncodeFromNumpy)` to create a file.json.\n",
    "    \"\"\"\n",
    "    def default(self, obj):\n",
    "        import numpy\n",
    "        if isinstance(obj, numpy.ndarray):\n",
    "            return {\n",
    "                \"_kind_\": \"ndarray\",\n",
    "                \"_value_\": obj.tolist()\n",
    "            }\n",
    "        if isinstance(obj, numpy.integer):\n",
    "            return int(obj)\n",
    "        elif isinstance(obj, numpy.floating):\n",
    "            return float(obj)\n",
    "        elif isinstance(obj,range):\n",
    "            value = list(obj)\n",
    "            return {\n",
    "                \"_kind_\" : \"range\",\n",
    "                \"_value_\" : [value[0],value[-1]+1]\n",
    "            }\n",
    "        return super(EncodeFromNumpy, self).default(obj)\n",
    "\n",
    "\n",
    "\n",
    "class DecodeToNumpy(json.JSONDecoder):\n",
    "    \"\"\"\n",
    "    - Deserilizes JSON object to Python/Numpy's objects.\n",
    "    - **Usage**\n",
    "        - `json.loads(json_string,cls=DecodeToNumpy)` from string, use `json.load()` for file.\n",
    "    \"\"\"\n",
    "    def __init__(self, *args, **kwargs):\n",
    "        json.JSONDecoder.__init__(self, object_hook=self.object_hook, *args, **kwargs)\n",
    "\n",
    "    def object_hook(self, obj):\n",
    "        import numpy\n",
    "        if '_kind_' not in obj:\n",
    "            return obj\n",
    "        kind = obj['_kind_']\n",
    "        if kind == 'ndarray':\n",
    "            return numpy.array(obj['_value_'])\n",
    "        elif kind == 'range':\n",
    "            value = obj['_value_']\n",
    "            return range(value[0],value[-1])\n",
    "        return obj"
   ]
  },
  {
   "cell_type": "code",
   "execution_count": null,
   "metadata": {},
   "outputs": [
    {
     "name": "stdout",
     "output_type": "stream",
     "text": [
      "ORIGINAL DATA : {'volume': 105.49324928, 'basis': array([[ 2.468031,  0.      ,  0.      ],\n",
      "       [-1.234015,  2.137377,  0.      ],\n",
      "       [ 0.      ,  0.      , 19.998293]]), 'rec_basis': array([[0.4051813 , 0.2339315 , 0.        ],\n",
      "       [0.        , 0.46786318, 0.        ],\n",
      "       [0.        , 0.        , 0.05000427]]), 'positions': array([[0.333333, 0.666667, 0.      ],\n",
      "       [0.666667, 0.333333, 0.      ]])}\n",
      "\n",
      "JSON STRING : {\"volume\": 105.49324928, \"basis\": {\"_kind_\": \"ndarray\", \"_value_\": [[2.468031, 0.0, 0.0], [-1.234015, 2.137377, 0.0], [0.0, 0.0, 19.998293]]}, \"rec_basis\": {\"_kind_\": \"ndarray\", \"_value_\": [[0.4051813, 0.2339315, 0.0], [0.0, 0.46786318, 0.0], [0.0, 0.0, 0.05000427]]}, \"positions\": {\"_kind_\": \"ndarray\", \"_value_\": [[0.333333, 0.666667, 0.0], [0.666667, 0.333333, 0.0]]}}\n",
      "\n",
      "RETRIEVED DATA : {'volume': 105.49324928, 'basis': array([[ 2.468031,  0.      ,  0.      ],\n",
      "       [-1.234015,  2.137377,  0.      ],\n",
      "       [ 0.      ,  0.      , 19.998293]]), 'rec_basis': array([[0.4051813 , 0.2339315 , 0.        ],\n",
      "       [0.        , 0.46786318, 0.        ],\n",
      "       [0.        , 0.        , 0.05000427]]), 'positions': array([[0.333333, 0.666667, 0.      ],\n",
      "       [0.666667, 0.333333, 0.      ]])}\n"
     ]
    }
   ],
   "source": [
    "import json\n",
    "import pivotpy as pp\n",
    "vr=pp.export_vasprun(path = \"E:/Research/graphene_example/ISPIN_2/bands/vasprun.xml\" ,skipk=88,elim=[0,5])\n",
    "vr.pop('xml',None)\n",
    "print(\"ORIGINAL DATA : {}\\n\".format(vr.poscar))\n",
    "s=json.dumps(vr.poscar, cls=EncodeFromNumpy)\n",
    "print(\"JSON STRING : {}\\n\".format(s))\n",
    "s2 = json.loads(s, cls=DecodeToNumpy)\n",
    "print(\"RETRIEVED DATA : {}\".format(s2))"
   ]
  },
  {
   "cell_type": "markdown",
   "metadata": {},
   "source": [
    "## Add a function as method to a class without defining inside class itself\n",
    "- We can add a function `f` to a class `C` if function includes parameter `self` as shown below:\n",
    "```python\n",
    "def f(self):\n",
    "     print('Do something!')\n",
    "setattr(C, 'f', f)\n",
    "```\n",
    "- We can define a wrapper to attach a method to class without keeping `self` as argument too."
   ]
  },
  {
   "cell_type": "code",
   "execution_count": null,
   "metadata": {},
   "outputs": [],
   "source": [
    "#export\n",
    "def link_to_class(cls):\n",
    "    \"\"\"\n",
    "    - Binds wrapper of a function to class as attribute that does exactly the same as function. Also function returned from wrapper can be used normally as well.\n",
    "    - **Parameters**\n",
    "        - cls : A class object to which function is attached.\n",
    "    \"\"\"\n",
    "    from functools import wraps\n",
    "    def decorator(func):\n",
    "        @wraps(func)\n",
    "        def wrapper(self, *args, **kwargs):\n",
    "            return func(*args, **kwargs)\n",
    "        setattr(cls, func.__name__, wrapper)\n",
    "        return func\n",
    "    return decorator"
   ]
  },
  {
   "cell_type": "code",
   "execution_count": null,
   "metadata": {},
   "outputs": [
    {
     "name": "stdout",
     "output_type": "stream",
     "text": [
      "'Parent' object has no attribute 'f'\n",
      "I am from class Parent!\n",
      "I am independent function!\n",
      "<bound method f of <__main__.Parent object at 0x00000225228DCFC8>>\n",
      "<function f at 0x00000225230609D8>\n"
     ]
    }
   ],
   "source": [
    "# See `link_to_class` in action.\n",
    "class Parent:\n",
    "    pass\n",
    "a = Parent()\n",
    "try:\n",
    "    a.f()\n",
    "except AttributeError as ae:\n",
    "    print(ae) \n",
    "\n",
    "# Now lets add f to Parent.\n",
    "@link_to_class(Parent)\n",
    "def f(s):\n",
    "    print(s)\n",
    "\n",
    "a.f('I am from class Parent!')\n",
    "f('I am independent function!')\n",
    "print(a.f) \n",
    "print(f) "
   ]
  },
  {
   "cell_type": "code",
   "execution_count": null,
   "metadata": {},
   "outputs": [],
   "source": [
    "#export\n",
    "def nav_links(current_index=0,\n",
    "            doc_url = r\"https://massgh.github.io/pivotpy/\",\n",
    "            items   = [\"Index\",\n",
    "                       \"XmlElementTree\",\n",
    "                       \"StaticPlots\",\n",
    "                       \"InteractivePlots\",\n",
    "                       \"Utilities\",\n",
    "                       \"StructureIO\",\n",
    "                       \"Widgets\"\n",
    "                       ]):\n",
    "    from IPython.display import Markdown,HTML\n",
    "    links   = [doc_url+item if not 'Index' in item else doc_url for item in items] \n",
    "    style = \"\"\"<style>\n",
    "                a{text-decoration: none;color:lightkblue;font-weight:bold;}\n",
    "                a:focus,a:active.a:hover{color:hotpink;}\n",
    "                </style>\\n\"\"\"\n",
    "    md_str = style + \">>>> **Navigation:** \"\n",
    "    for i,(link,item) in enumerate(zip(links,items)):\n",
    "        if current_index == i: item = \"{}●\".format(item)\n",
    "        md_str += \"[`▶`{}&nbsp;&nbsp;]({})\\n\".format(item,link)\n",
    "    return Markdown(md_str+\"\\n-----\")"
   ]
  },
  {
   "cell_type": "code",
   "execution_count": null,
   "metadata": {},
   "outputs": [
    {
     "data": {
      "text/markdown": "<style>\n                a{text-decoration: none;color:lightkblue;font-weight:bold;}\n                a:focus,a:active.a:hover{color:hotpink;}\n                </style>\n>>>> **Navigation:** [`▶`Index&nbsp;&nbsp;](https://massgh.github.io/pivotpy/)\n[`▶`XmlElementTree&nbsp;&nbsp;](https://massgh.github.io/pivotpy/XmlElementTree)\n[`▶`StaticPlots&nbsp;&nbsp;](https://massgh.github.io/pivotpy/StaticPlots)\n[`▶`InteractivePlots&nbsp;&nbsp;](https://massgh.github.io/pivotpy/InteractivePlots)\n[`▶`Utilities●&nbsp;&nbsp;](https://massgh.github.io/pivotpy/Utilities)\n[`▶`StructureIO&nbsp;&nbsp;](https://massgh.github.io/pivotpy/StructureIO)\n[`▶`Widgets&nbsp;&nbsp;](https://massgh.github.io/pivotpy/Widgets)\n\n-----",
      "text/plain": [
       "<IPython.core.display.Markdown object>"
      ]
     },
     "execution_count": null,
     "metadata": {},
     "output_type": "execute_result"
    }
   ],
   "source": [
    "#hide_input\n",
    "from IPython.display import Markdown\n",
    "nav_links(4)"
   ]
  },
  {
   "cell_type": "code",
   "execution_count": null,
   "metadata": {},
   "outputs": [],
   "source": []
  }
 ],
 "metadata": {
  "kernelspec": {
   "display_name": "Python 3.7.6 64-bit",
   "language": "python",
   "name": "python37664bit4047a33bb5c7414db9abe32ad88decaa"
  }
 },
 "nbformat": 4,
 "nbformat_minor": 4
}
